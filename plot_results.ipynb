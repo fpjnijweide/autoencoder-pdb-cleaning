{
 "cells": [
  {
   "cell_type": "code",
   "execution_count": 11,
   "id": "partial-rebate",
   "metadata": {},
   "outputs": [
    {
     "output_type": "stream",
     "name": "stdout",
     "text": [
      "done\n"
     ]
    }
   ],
   "source": [
    "import dill\n",
    "import numpy as np\n",
    "import matplotlib.pyplot as plt\n",
    "from IPython.display import display\n",
    "import plotly.express as px\n",
    "import plotly.graph_objs as go\n",
    "print('done')\n",
    "import csv\n",
    "import matplotlib\n",
    "\n",
    "\n",
    "# USE_PLOTLY = False\n"
   ]
  },
  {
   "cell_type": "code",
   "execution_count": 12,
   "id": "present-white",
   "metadata": {},
   "outputs": [
    {
     "output_type": "stream",
     "name": "stdout",
     "text": [
      "['JSD, SD=4' 'JSDu, SD=4' 'JSD, SD=100' 'JSDu, SD=100']\n4\n4\n['JSD, SD=4' 'JSDu, SD=4' 'JSD, SD=100' 'JSDu, SD=100']\n\n\n['rows']\n\n['rows']\n"
     ]
    }
   ],
   "source": [
    "def load_from_csv(input_string):\n",
    "    with open(input_string, 'r') as fp:\n",
    "        reader = csv.reader(fp)\n",
    "        li = list(reader)\n",
    "    newlist = []\n",
    "    for row in li:\n",
    "        newrow = []\n",
    "        for entry in row [1:]:\n",
    "            newrow.append(float(entry))\n",
    "        newlist.append(newrow)\n",
    "    return newlist\n",
    "\n",
    "\n",
    "experiment_config_results = load_from_csv(\"experiment_config_results.csv\")\n",
    "\n",
    "with open(\"experiments\",\"rb\") as current_file:\n",
    "    experiments = dill.load(current_file)\n",
    "\n",
    "    \n",
    "non_unique_params = np.array([experiment['parameter'] for experiment in experiments])\n",
    "non_unique_config_strings = np.array([experiment['config_string'] for experiment in experiments])\n",
    "\n",
    "par_indices = np.unique(non_unique_params,return_index=True)[1]\n",
    "string_indices = np.unique(non_unique_config_strings,return_index=True)[1]\n",
    "\n",
    "parameters = non_unique_params[np.sort(par_indices)]\n",
    "config_strings = non_unique_config_strings[np.sort(string_indices)]\n",
    "# config_strings[0],config_strings[1],config_strings[2] = config_strings[2],config_strings[0],config_strings[1]\n",
    "# config_strings[[0,1,2]] = config_strings[[2,0,1]]\n",
    "print(config_strings)\n",
    "\n",
    "def str_noneguard(obj):\n",
    "    if hasattr(obj,'__name__'):\n",
    "        return obj.__name__\n",
    "    if obj is None:\n",
    "        return ''\n",
    "    if isinstance(obj,list):\n",
    "        return str([str_noneguard(x) for x in obj])\n",
    "    return str(obj)\n",
    "\n",
    "\n",
    "print(len(config_strings))\n",
    "# colors=['#4285F4','#EA4335', '#FBBC04',  '#34A853','#000000','#46BDC6',      '#46BDC6',             '#F4CCCC','#C9DAF8',            'grey','purple']\n",
    "# red yellow !!!! !!!!! green teal ?? !!!!!!\n",
    "# colors=['#EA4335', '#FBBC04', '#4285F4', '#000000','#34A853','#46BDC6',                  '#F4CCCC','purple',]\n",
    "#        red         yellow      teal       black     green     blue      ??     purple\n",
    "colors=['#EA4335', '#FBBC04', '#46BDC6', '#000000','#34A853','#4285F4', 'None',  'purple']\n",
    "#         teal        red       black     yellow    purple     green       blue       ??\n",
    "colors=['#46BDC6', '#EA4335', '#000000', '#FBBC04','#800080','#34A853', '#4285F4',  '#EEEEEE']\n",
    "# colors=[           '#EA4335',            '#FBBC04',          '#34A853', '#4285F4',           ]\n",
    "print(len(colors))\n",
    "print(config_strings)\n",
    "print(\"\")\n",
    "print(\"\")\n",
    "\n",
    "print(parameters)\n",
    "print(\"\")\n",
    "\n",
    "# parameters[[3,4,5,6,7,8,9,10,11,12]] = parameters[[-4,-3,-2,5,3,4,6,8,-1,7]]\n",
    "print(parameters)\n",
    "\n"
   ]
  },
  {
   "cell_type": "code",
   "execution_count": 13,
   "id": "italic-thinking",
   "metadata": {},
   "outputs": [],
   "source": [
    "from matplotlib.ticker import (AutoMinorLocator, MultipleLocator)\n",
    "from textwrap import wrap\n",
    "\n",
    "def hex_to_rgb(hex_color: str) -> tuple:\n",
    "    # thanks to https://community.plotly.com/t/scatter-plot-fill-with-color-how-to-set-opacity-of-fill/29591/2\n",
    "    hex_color = hex_color.lstrip(\"#\")\n",
    "    if len(hex_color) == 3:\n",
    "        hex_color = hex_color * 2\n",
    "    return int(hex_color[0:2], 16), int(hex_color[2:4], 16), int(hex_color[4:6], 16)\n",
    "\n",
    "def plot_vals(i,USE_PLOTLY,excluded_config_strings=[],ylim=[-175,100]):\n",
    "\n",
    "    if USE_PLOTLY:\n",
    "        fig = go.Figure()\n",
    "\n",
    "    else:\n",
    "        fig, ax = plt.subplots(figsize=[10,6])  \n",
    "        \n",
    "\n",
    "    parameter = parameters[i]\n",
    "    bar=0\n",
    "    all_numbers = True\n",
    "    \n",
    "    for config_index,config_string in enumerate(config_strings):\n",
    "        color=colors[config_index]\n",
    "    #     print(\"--------- \" + config_string + \" -----------\")\n",
    "        filtered_experiments = [ex for ex in experiments if ex['parameter']==parameter and ex['config_string']==config_string and config_string not in excluded_config_strings]\n",
    "        if len(filtered_experiments)==0:\n",
    "            continue\n",
    "        mappings = np.array([x['mapping'] for x in filtered_experiments])\n",
    "        x_values = [x['current_var'] for x in filtered_experiments]\n",
    "        for x in x_values:\n",
    "            if not isinstance(x,int) and not isinstance(x,float):\n",
    "                all_numbers=False\n",
    "\n",
    "        if not all_numbers:\n",
    "            for i in range(len(x_values)):\n",
    "                x_values[i] = str_noneguard(x_values[i])\n",
    "\n",
    "        results = [result for result in np.array(experiment_config_results,dtype=object)[mappings] ]\n",
    "        means = np.array([np.mean(x) for x in results])\n",
    "        sigmas = np.array([np.std(x) for x in results])\n",
    "\n",
    "        config_string=config_string.replace('SD=4', 'categorical')\n",
    "        config_string=config_string.replace('SD=100', 'continuous')\n",
    "        config_string=config_string.replace('CCE', 'Log loss')\n",
    "        config_string=config_string.replace('JSD', 'JSD loss')\n",
    "        config_string=config_string.replace('loss,', 'loss (semi-supervised),')\n",
    "        config_string=config_string.replace('u,', ' (unsupervised),')\n",
    "\n",
    "        if parameter==\"training_method\":\n",
    "            config_string=config_string.replace(' (semi-supervised),', ',')\n",
    "        if parameter==\"sampling_density\":\n",
    "            config_string=config_string.replace(', categorical', '')\n",
    "\n",
    "        \n",
    "\n",
    "        parameter_string = parameter.replace('_',' ').capitalize()\n",
    "\n",
    "        #x_values\n",
    "\n",
    "        #['training_method' 'labeled_data_percentage' 'sampling_density'\n",
    " #'activation_types' 'input_layer_type' 'encoding_dim' 'hidden_layers'\n",
    "# 'activity_regularizer' 'sigma' 'BN_size' 'gaussian_noise_sigma'\n",
    " #'missing_entry' 'missing_entry_combined' 'missing_entry_no_denoising']\n",
    "        if USE_PLOTLY:\n",
    "            ax = fig\n",
    "\n",
    "        if parameter=='training_method':\n",
    "            x_values=['Supervised','Supervised (2% labeled)', 'Semi-supervised (unlabeled data first)','Semi-supervised (labeled data first)', 'Semi-supervised (mix of labeled and unlabeled)', 'Unsupervised']\n",
    "        elif parameter=='activation_types':\n",
    "            parameter_string=\"Activation functions\"\n",
    "            x_values=['Sin, cos, linear, ReLU, Swish', 'ReLU (1x)', 'ReLU (5x)', 'Sin, cos, linear', 'Sin, cos, linear, ReLU, sigmoid']\n",
    "        elif parameter=='input_layer_type':\n",
    "            x_values=['Dense layer (ReLU)','Gaussian noise','Gaussian dropout','Square root followed by softmax','RBF kernel','1D Convolution', 'VAE (Sampling at encoder output)']\n",
    "        elif parameter=='activity_regularizer':\n",
    "            x_values=['No regularization','L2 (λ=0.01)','L2 (λ = $10^{-4}$)','L1 (λ=0.01)','L1 (λ = $10^{-4}$)']\n",
    "        elif parameter=='sigma':\n",
    "            parameter_string='$\\sigma_{PDB}$/$(100/K_j)$'\n",
    "        elif parameter=='labeled_data_percentage':\n",
    "            if not USE_PLOTLY:\n",
    "                ax.set_xscale('log')\n",
    "                ax.set_xlim([10**-2,10**2])\n",
    "            parameter_string='Labeled data amount (%)'\n",
    "        elif parameter=='sampling_density':\n",
    "            parameter_string='Sampling density ($K_j$)'\n",
    "        elif parameter=='encoding_dim':\n",
    "            parameter_string=\"Latent space dimensions\"\n",
    "        elif parameter=='BN_size':\n",
    "            parameter_string='BN size ($N$)'\n",
    "        elif parameter=='gaussian_noise_sigma':\n",
    "            parameter_string='$\\sigma_{Gaussian\\ noise\\ layer}$'\n",
    "            for i in range(len(x_values)):\n",
    "                x_values[i] = x_values[i].replace('lambda SD: ','')\n",
    "                x_values[i]=x_values[i].replace('(','')\n",
    "                x_values[i]=x_values[i].replace('/SD)*100',' ·\\n(100/$K_j$)')\n",
    "                # x_values[i]=x_values[i].replace('SD','$K_j$')\n",
    "        elif parameter=='missing_entry':\n",
    "            x_values=np.array(x_values)*100\n",
    "            if not USE_PLOTLY:\n",
    "                ax.set_xscale('log')\n",
    "            parameter_string='Fraction of entries that are missing (%)'\n",
    "        elif parameter=='missing_entry_combined':\n",
    "            x_values=np.array(x_values)*100\n",
    "            if not USE_PLOTLY:\n",
    "                ax.set_xscale('log')\n",
    "            parameter_string='Fraction of entries that are missing (%)'       \n",
    "        elif parameter=='missing_entry_no_denoising':\n",
    "            x_values=np.array(x_values)*100\n",
    "            if not USE_PLOTLY:\n",
    "                ax.set_xscale('log')\n",
    "            parameter_string='Fraction of entries that are missing (%)'\n",
    "        elif parameter=='rows':\n",
    "            ax.set_xscale('log')\n",
    "            parameter_string='Amount of records in database'  \n",
    "\n",
    "        if not USE_PLOTLY:\n",
    "            plt.xlabel(parameter_string)\n",
    "\n",
    "\n",
    "        if not all_numbers:\n",
    "            x_values  = [ '\\n'.join(wrap(l, 12)) for l in x_values ]\n",
    "    #     print(\"mappings\")\n",
    "    #     display(mappings)\n",
    "    #     print(\"\")\n",
    "    #     print(\"results\")\n",
    "    #     display(results)\n",
    "    #     print(\"\")\n",
    "    #     print(\"x_values\")\n",
    "    #     display(x_values)\n",
    "    #     print(\"\")\n",
    "    #     print(\"means\")\n",
    "    #     display(means)\n",
    "    #     print(\"\")\n",
    "    #     print(\"sigmas\")\n",
    "    #     display(sigmas)\n",
    "    #     print(\"\\n\\n\\n\")\n",
    "    #     ax.plot(x_values,means)\n",
    "#         print(x_values)\n",
    "        if USE_PLOTLY:\n",
    "            if all_numbers:\n",
    "                # fig.add_trace(go.Scatter(x=x_values, y=means, error_y={\"array\":sigmas}, marker_color=color,name=config_string,mode='lines+markers'))\n",
    "                fig.add_trace(go.Scatter(x=x_values, y=means, marker_color=color,name=config_string,mode='lines+markers'))\n",
    "                fig.add_trace(go.Scatter(x=x_values, y=means+sigmas, marker_color=color,name=\"Upper bound\", line=dict(width=0), showlegend=False, mode='lines'))\n",
    "                fig.add_trace(go.Scatter(x=x_values, y=means-sigmas, marker_color=color,fillcolor=f\"rgba{(*hex_to_rgb(color), 0.2)}\",name=\"Lower bound\", line=dict(width=0), showlegend=False, fill='tonexty', mode='lines'))\n",
    "                \n",
    "            else:\n",
    "                fig.add_bar(x=x_values,y=means,error_y={\"array\":sigmas},marker_color=color,name=config_string)\n",
    "        else:\n",
    "            if all_numbers:\n",
    "                ax.plot(x_values,means,'o-',label=config_string,color=color)\n",
    "                ax.fill_between(x_values, (means-sigmas), (means+sigmas),alpha=.2,color=color)\n",
    "            else:\n",
    "                n=len(x_values)\n",
    "                ind = np.arange(n)\n",
    "                width = 0.1\n",
    "                position = ind + (width*(1-n)/2) + bar*width\n",
    "                ax.bar(position,means,width=width,yerr=sigmas,label=config_string,color=color)\n",
    "                bar+=1\n",
    "    \n",
    "    if USE_PLOTLY:\n",
    "        fig.update_yaxes(tick0=0, dtick=25)\n",
    "        # fig.update_xaxes(tickangle = 0)\n",
    "        fig.update_layout(yaxis_range=ylim,title=parameter, width=1000, height=600)\n",
    "        fig.show()\n",
    "    else:\n",
    "        ax.set_ylim(ylim)\n",
    "        if not all_numbers:\n",
    "            print(x_values)\n",
    "            print(ind)\n",
    "    #         ax.axhline(0,\"black\")\n",
    "            ax.yaxis.set_major_locator(MultipleLocator(25))\n",
    "            ax.yaxis.set_minor_locator(MultipleLocator(5))    \n",
    "            ax.grid(axis=\"y\")\n",
    "            ax.grid(axis=\"y\",which=\"minor\", linestyle='-', linewidth=1,alpha=0.3)\n",
    "            \n",
    "            plt.xticks(ind, x_values)\n",
    "        else:\n",
    "            ax.yaxis.set_major_locator(MultipleLocator(25))\n",
    "            ax.yaxis.set_minor_locator(MultipleLocator(5))\n",
    "            ax.grid(which=\"major\")\n",
    "            ax.grid(which=\"minor\", linestyle='-', linewidth=1,alpha=0.3)\n",
    "\n",
    "        ax.axhline(0,color='black')\n",
    "        # ax.set_title(parameter)\n",
    "\n",
    "        # plt.gca().set_axis_off()\n",
    "        plt.subplots_adjust(top = 1, bottom = 0, right = 1, left = 0, \n",
    "                    hspace = 0, wspace = 0)\n",
    "        plt.margins(0,0)\n",
    "        # plt.gca().xaxis.set_major_locator(plt.NullLocator())\n",
    "        # plt.gca().yaxis.set_major_locator(plt.NullLocator())\n",
    "        plt.ylabel(\"Noise removed (%)\")\n",
    "\n",
    "        \n",
    "\n",
    "        ax.legend()"
   ]
  },
  {
   "cell_type": "code",
   "execution_count": 14,
   "id": "experimental-container",
   "metadata": {
    "tags": []
   },
   "outputs": [
    {
     "output_type": "display_data",
     "data": {
      "text/plain": "<Figure size 720x432 with 1 Axes>",
      "image/svg+xml": "<?xml version=\"1.0\" encoding=\"utf-8\" standalone=\"no\"?>\r\n<!DOCTYPE svg PUBLIC \"-//W3C//DTD SVG 1.1//EN\"\r\n  \"http://www.w3.org/Graphics/SVG/1.1/DTD/svg11.dtd\">\r\n<!-- Created with matplotlib (https://matplotlib.org/) -->\r\n<svg height=\"494.44875pt\" version=\"1.1\" viewBox=\"0 0 818.9125 494.44875\" width=\"818.9125pt\" xmlns=\"http://www.w3.org/2000/svg\" xmlns:xlink=\"http://www.w3.org/1999/xlink\">\r\n <metadata>\r\n  <rdf:RDF xmlns:cc=\"http://creativecommons.org/ns#\" xmlns:dc=\"http://purl.org/dc/elements/1.1/\" xmlns:rdf=\"http://www.w3.org/1999/02/22-rdf-syntax-ns#\">\r\n   <cc:Work>\r\n    <dc:type rdf:resource=\"http://purl.org/dc/dcmitype/StillImage\"/>\r\n    <dc:date>2021-03-13T13:08:15.093174</dc:date>\r\n    <dc:format>image/svg+xml</dc:format>\r\n    <dc:creator>\r\n     <cc:Agent>\r\n      <dc:title>Matplotlib v3.3.4, https://matplotlib.org/</dc:title>\r\n     </cc:Agent>\r\n    </dc:creator>\r\n   </cc:Work>\r\n  </rdf:RDF>\r\n </metadata>\r\n <defs>\r\n  <style type=\"text/css\">*{stroke-linecap:butt;stroke-linejoin:round;}</style>\r\n </defs>\r\n <g id=\"figure_1\">\r\n  <g id=\"patch_1\">\r\n   <path d=\"M 0 494.44875 \r\nL 818.9125 494.44875 \r\nL 818.9125 0 \r\nL 0 0 \r\nz\r\n\" style=\"fill:none;\"/>\r\n  </g>\r\n  <g id=\"axes_1\">\r\n   <g id=\"patch_2\">\r\n    <path d=\"M 77.6325 445.27875 \r\nL 797.6325 445.27875 \r\nL 797.6325 13.27875 \r\nL 77.6325 13.27875 \r\nz\r\n\" style=\"fill:#ffffff;\"/>\r\n   </g>\r\n   <g id=\"PolyCollection_1\">\r\n    <defs>\r\n     <path d=\"M 77.6325 -235.761227 \r\nL 77.6325 -192.375171 \r\nL 257.6325 -332.891465 \r\nL 437.6325 -385.135273 \r\nL 617.6325 -393.431337 \r\nL 797.6325 -395.408626 \r\nL 797.6325 -396.07891 \r\nL 797.6325 -396.07891 \r\nL 617.6325 -394.876289 \r\nL 437.6325 -390.209029 \r\nL 257.6325 -351.006638 \r\nL 77.6325 -235.761227 \r\nz\r\n\" id=\"m5df041e7b3\" style=\"stroke:#ea4335;stroke-opacity:0.2;\"/>\r\n    </defs>\r\n    <g clip-path=\"url(#p44c18282be)\">\r\n     <use style=\"fill:#ea4335;fill-opacity:0.2;stroke:#ea4335;stroke-opacity:0.2;\" x=\"0\" xlink:href=\"#m5df041e7b3\" y=\"494.44875\"/>\r\n    </g>\r\n   </g>\r\n   <g id=\"PolyCollection_2\">\r\n    <defs>\r\n     <path d=\"M 77.6325 -303.39272 \r\nL 77.6325 -293.14756 \r\nL 257.6325 -336.610217 \r\nL 437.6325 -335.16849 \r\nL 617.6325 -335.257608 \r\nL 797.6325 -334.36696 \r\nL 797.6325 -336.641567 \r\nL 797.6325 -336.641567 \r\nL 617.6325 -337.678687 \r\nL 437.6325 -336.877684 \r\nL 257.6325 -338.520874 \r\nL 77.6325 -303.39272 \r\nz\r\n\" id=\"md0fa36fc6d\" style=\"stroke:#fbbc04;stroke-opacity:0.2;\"/>\r\n    </defs>\r\n    <g clip-path=\"url(#p44c18282be)\">\r\n     <use style=\"fill:#fbbc04;fill-opacity:0.2;stroke:#fbbc04;stroke-opacity:0.2;\" x=\"0\" xlink:href=\"#md0fa36fc6d\" y=\"494.44875\"/>\r\n    </g>\r\n   </g>\r\n   <g id=\"PolyCollection_3\">\r\n    <path clip-path=\"url(#p44c18282be)\" d=\"M 77.6325 355.949378 \r\nL 77.6325 512.49682 \r\nL 257.6325 222.390754 \r\nL 437.6325 36.606131 \r\nL 617.6325 14.38891 \r\nL 797.6325 13.362294 \r\nL 797.6325 13.340495 \r\nL 797.6325 13.340495 \r\nL 617.6325 14.104331 \r\nL 437.6325 31.591945 \r\nL 257.6325 198.26768 \r\nL 77.6325 355.949378 \r\nz\r\n\" style=\"fill:#34a853;fill-opacity:0.2;stroke:#34a853;stroke-opacity:0.2;\"/>\r\n   </g>\r\n   <g id=\"PolyCollection_4\">\r\n    <defs>\r\n     <path d=\"M 77.6325 -361.038838 \r\nL 77.6325 -359.461651 \r\nL 257.6325 -385.968699 \r\nL 437.6325 -385.410702 \r\nL 617.6325 -381.790581 \r\nL 797.6325 -381.956547 \r\nL 797.6325 -382.358899 \r\nL 797.6325 -382.358899 \r\nL 617.6325 -383.276113 \r\nL 437.6325 -386.980626 \r\nL 257.6325 -387.470925 \r\nL 77.6325 -361.038838 \r\nz\r\n\" id=\"m075db2abba\" style=\"stroke:#4285f4;stroke-opacity:0.2;\"/>\r\n    </defs>\r\n    <g clip-path=\"url(#p44c18282be)\">\r\n     <use style=\"fill:#4285f4;fill-opacity:0.2;stroke:#4285f4;stroke-opacity:0.2;\" x=\"0\" xlink:href=\"#m075db2abba\" y=\"494.44875\"/>\r\n    </g>\r\n   </g>\r\n   <g id=\"matplotlib.axis_1\">\r\n    <g id=\"xtick_1\">\r\n     <g id=\"line2d_1\">\r\n      <path clip-path=\"url(#p44c18282be)\" d=\"M 77.6325 445.27875 \r\nL 77.6325 13.27875 \r\n\" style=\"fill:none;stroke:#b0b0b0;stroke-linecap:square;stroke-width:0.8;\"/>\r\n     </g>\r\n     <g id=\"line2d_2\">\r\n      <defs>\r\n       <path d=\"M 0 0 \r\nL 0 3.5 \r\n\" id=\"m9c319ba46b\" style=\"stroke:#000000;stroke-width:0.8;\"/>\r\n      </defs>\r\n      <g>\r\n       <use style=\"stroke:#000000;stroke-width:0.8;\" x=\"77.6325\" xlink:href=\"#m9c319ba46b\" y=\"445.27875\"/>\r\n      </g>\r\n     </g>\r\n     <g id=\"text_1\">\r\n      <!-- $\\mathdefault{10^{2}}$ -->\r\n      <g transform=\"translate(63.5525 464.43625)scale(0.16 -0.16)\">\r\n       <defs>\r\n        <path d=\"M 12.40625 8.296875 \r\nL 28.515625 8.296875 \r\nL 28.515625 63.921875 \r\nL 10.984375 60.40625 \r\nL 10.984375 69.390625 \r\nL 28.421875 72.90625 \r\nL 38.28125 72.90625 \r\nL 38.28125 8.296875 \r\nL 54.390625 8.296875 \r\nL 54.390625 0 \r\nL 12.40625 0 \r\nz\r\n\" id=\"DejaVuSans-49\"/>\r\n        <path d=\"M 31.78125 66.40625 \r\nQ 24.171875 66.40625 20.328125 58.90625 \r\nQ 16.5 51.421875 16.5 36.375 \r\nQ 16.5 21.390625 20.328125 13.890625 \r\nQ 24.171875 6.390625 31.78125 6.390625 \r\nQ 39.453125 6.390625 43.28125 13.890625 \r\nQ 47.125 21.390625 47.125 36.375 \r\nQ 47.125 51.421875 43.28125 58.90625 \r\nQ 39.453125 66.40625 31.78125 66.40625 \r\nz\r\nM 31.78125 74.21875 \r\nQ 44.046875 74.21875 50.515625 64.515625 \r\nQ 56.984375 54.828125 56.984375 36.375 \r\nQ 56.984375 17.96875 50.515625 8.265625 \r\nQ 44.046875 -1.421875 31.78125 -1.421875 \r\nQ 19.53125 -1.421875 13.0625 8.265625 \r\nQ 6.59375 17.96875 6.59375 36.375 \r\nQ 6.59375 54.828125 13.0625 64.515625 \r\nQ 19.53125 74.21875 31.78125 74.21875 \r\nz\r\n\" id=\"DejaVuSans-48\"/>\r\n        <path d=\"M 19.1875 8.296875 \r\nL 53.609375 8.296875 \r\nL 53.609375 0 \r\nL 7.328125 0 \r\nL 7.328125 8.296875 \r\nQ 12.9375 14.109375 22.625 23.890625 \r\nQ 32.328125 33.6875 34.8125 36.53125 \r\nQ 39.546875 41.84375 41.421875 45.53125 \r\nQ 43.3125 49.21875 43.3125 52.78125 \r\nQ 43.3125 58.59375 39.234375 62.25 \r\nQ 35.15625 65.921875 28.609375 65.921875 \r\nQ 23.96875 65.921875 18.8125 64.3125 \r\nQ 13.671875 62.703125 7.8125 59.421875 \r\nL 7.8125 69.390625 \r\nQ 13.765625 71.78125 18.9375 73 \r\nQ 24.125 74.21875 28.421875 74.21875 \r\nQ 39.75 74.21875 46.484375 68.546875 \r\nQ 53.21875 62.890625 53.21875 53.421875 \r\nQ 53.21875 48.921875 51.53125 44.890625 \r\nQ 49.859375 40.875 45.40625 35.40625 \r\nQ 44.1875 33.984375 37.640625 27.21875 \r\nQ 31.109375 20.453125 19.1875 8.296875 \r\nz\r\n\" id=\"DejaVuSans-50\"/>\r\n       </defs>\r\n       <use transform=\"translate(0 0.765625)\" xlink:href=\"#DejaVuSans-49\"/>\r\n       <use transform=\"translate(63.623047 0.765625)\" xlink:href=\"#DejaVuSans-48\"/>\r\n       <use transform=\"translate(128.203125 39.046875)scale(0.7)\" xlink:href=\"#DejaVuSans-50\"/>\r\n      </g>\r\n     </g>\r\n    </g>\r\n    <g id=\"xtick_2\">\r\n     <g id=\"line2d_3\">\r\n      <path clip-path=\"url(#p44c18282be)\" d=\"M 257.6325 445.27875 \r\nL 257.6325 13.27875 \r\n\" style=\"fill:none;stroke:#b0b0b0;stroke-linecap:square;stroke-width:0.8;\"/>\r\n     </g>\r\n     <g id=\"line2d_4\">\r\n      <g>\r\n       <use style=\"stroke:#000000;stroke-width:0.8;\" x=\"257.6325\" xlink:href=\"#m9c319ba46b\" y=\"445.27875\"/>\r\n      </g>\r\n     </g>\r\n     <g id=\"text_2\">\r\n      <!-- $\\mathdefault{10^{3}}$ -->\r\n      <g transform=\"translate(243.5525 464.43625)scale(0.16 -0.16)\">\r\n       <defs>\r\n        <path d=\"M 40.578125 39.3125 \r\nQ 47.65625 37.796875 51.625 33 \r\nQ 55.609375 28.21875 55.609375 21.1875 \r\nQ 55.609375 10.40625 48.1875 4.484375 \r\nQ 40.765625 -1.421875 27.09375 -1.421875 \r\nQ 22.515625 -1.421875 17.65625 -0.515625 \r\nQ 12.796875 0.390625 7.625 2.203125 \r\nL 7.625 11.71875 \r\nQ 11.71875 9.328125 16.59375 8.109375 \r\nQ 21.484375 6.890625 26.8125 6.890625 \r\nQ 36.078125 6.890625 40.9375 10.546875 \r\nQ 45.796875 14.203125 45.796875 21.1875 \r\nQ 45.796875 27.640625 41.28125 31.265625 \r\nQ 36.765625 34.90625 28.71875 34.90625 \r\nL 20.21875 34.90625 \r\nL 20.21875 43.015625 \r\nL 29.109375 43.015625 \r\nQ 36.375 43.015625 40.234375 45.921875 \r\nQ 44.09375 48.828125 44.09375 54.296875 \r\nQ 44.09375 59.90625 40.109375 62.90625 \r\nQ 36.140625 65.921875 28.71875 65.921875 \r\nQ 24.65625 65.921875 20.015625 65.03125 \r\nQ 15.375 64.15625 9.8125 62.3125 \r\nL 9.8125 71.09375 \r\nQ 15.4375 72.65625 20.34375 73.4375 \r\nQ 25.25 74.21875 29.59375 74.21875 \r\nQ 40.828125 74.21875 47.359375 69.109375 \r\nQ 53.90625 64.015625 53.90625 55.328125 \r\nQ 53.90625 49.265625 50.4375 45.09375 \r\nQ 46.96875 40.921875 40.578125 39.3125 \r\nz\r\n\" id=\"DejaVuSans-51\"/>\r\n       </defs>\r\n       <use transform=\"translate(0 0.765625)\" xlink:href=\"#DejaVuSans-49\"/>\r\n       <use transform=\"translate(63.623047 0.765625)\" xlink:href=\"#DejaVuSans-48\"/>\r\n       <use transform=\"translate(128.203125 39.046875)scale(0.7)\" xlink:href=\"#DejaVuSans-51\"/>\r\n      </g>\r\n     </g>\r\n    </g>\r\n    <g id=\"xtick_3\">\r\n     <g id=\"line2d_5\">\r\n      <path clip-path=\"url(#p44c18282be)\" d=\"M 437.6325 445.27875 \r\nL 437.6325 13.27875 \r\n\" style=\"fill:none;stroke:#b0b0b0;stroke-linecap:square;stroke-width:0.8;\"/>\r\n     </g>\r\n     <g id=\"line2d_6\">\r\n      <g>\r\n       <use style=\"stroke:#000000;stroke-width:0.8;\" x=\"437.6325\" xlink:href=\"#m9c319ba46b\" y=\"445.27875\"/>\r\n      </g>\r\n     </g>\r\n     <g id=\"text_3\">\r\n      <!-- $\\mathdefault{10^{4}}$ -->\r\n      <g transform=\"translate(423.5525 464.43625)scale(0.16 -0.16)\">\r\n       <defs>\r\n        <path d=\"M 37.796875 64.3125 \r\nL 12.890625 25.390625 \r\nL 37.796875 25.390625 \r\nz\r\nM 35.203125 72.90625 \r\nL 47.609375 72.90625 \r\nL 47.609375 25.390625 \r\nL 58.015625 25.390625 \r\nL 58.015625 17.1875 \r\nL 47.609375 17.1875 \r\nL 47.609375 0 \r\nL 37.796875 0 \r\nL 37.796875 17.1875 \r\nL 4.890625 17.1875 \r\nL 4.890625 26.703125 \r\nz\r\n\" id=\"DejaVuSans-52\"/>\r\n       </defs>\r\n       <use transform=\"translate(0 0.684375)\" xlink:href=\"#DejaVuSans-49\"/>\r\n       <use transform=\"translate(63.623047 0.684375)\" xlink:href=\"#DejaVuSans-48\"/>\r\n       <use transform=\"translate(128.203125 38.965625)scale(0.7)\" xlink:href=\"#DejaVuSans-52\"/>\r\n      </g>\r\n     </g>\r\n    </g>\r\n    <g id=\"xtick_4\">\r\n     <g id=\"line2d_7\">\r\n      <path clip-path=\"url(#p44c18282be)\" d=\"M 617.6325 445.27875 \r\nL 617.6325 13.27875 \r\n\" style=\"fill:none;stroke:#b0b0b0;stroke-linecap:square;stroke-width:0.8;\"/>\r\n     </g>\r\n     <g id=\"line2d_8\">\r\n      <g>\r\n       <use style=\"stroke:#000000;stroke-width:0.8;\" x=\"617.6325\" xlink:href=\"#m9c319ba46b\" y=\"445.27875\"/>\r\n      </g>\r\n     </g>\r\n     <g id=\"text_4\">\r\n      <!-- $\\mathdefault{10^{5}}$ -->\r\n      <g transform=\"translate(603.5525 464.43625)scale(0.16 -0.16)\">\r\n       <defs>\r\n        <path d=\"M 10.796875 72.90625 \r\nL 49.515625 72.90625 \r\nL 49.515625 64.59375 \r\nL 19.828125 64.59375 \r\nL 19.828125 46.734375 \r\nQ 21.96875 47.46875 24.109375 47.828125 \r\nQ 26.265625 48.1875 28.421875 48.1875 \r\nQ 40.625 48.1875 47.75 41.5 \r\nQ 54.890625 34.8125 54.890625 23.390625 \r\nQ 54.890625 11.625 47.5625 5.09375 \r\nQ 40.234375 -1.421875 26.90625 -1.421875 \r\nQ 22.3125 -1.421875 17.546875 -0.640625 \r\nQ 12.796875 0.140625 7.71875 1.703125 \r\nL 7.71875 11.625 \r\nQ 12.109375 9.234375 16.796875 8.0625 \r\nQ 21.484375 6.890625 26.703125 6.890625 \r\nQ 35.15625 6.890625 40.078125 11.328125 \r\nQ 45.015625 15.765625 45.015625 23.390625 \r\nQ 45.015625 31 40.078125 35.4375 \r\nQ 35.15625 39.890625 26.703125 39.890625 \r\nQ 22.75 39.890625 18.8125 39.015625 \r\nQ 14.890625 38.140625 10.796875 36.28125 \r\nz\r\n\" id=\"DejaVuSans-53\"/>\r\n       </defs>\r\n       <use transform=\"translate(0 0.684375)\" xlink:href=\"#DejaVuSans-49\"/>\r\n       <use transform=\"translate(63.623047 0.684375)\" xlink:href=\"#DejaVuSans-48\"/>\r\n       <use transform=\"translate(128.203125 38.965625)scale(0.7)\" xlink:href=\"#DejaVuSans-53\"/>\r\n      </g>\r\n     </g>\r\n    </g>\r\n    <g id=\"xtick_5\">\r\n     <g id=\"line2d_9\">\r\n      <path clip-path=\"url(#p44c18282be)\" d=\"M 797.6325 445.27875 \r\nL 797.6325 13.27875 \r\n\" style=\"fill:none;stroke:#b0b0b0;stroke-linecap:square;stroke-width:0.8;\"/>\r\n     </g>\r\n     <g id=\"line2d_10\">\r\n      <g>\r\n       <use style=\"stroke:#000000;stroke-width:0.8;\" x=\"797.6325\" xlink:href=\"#m9c319ba46b\" y=\"445.27875\"/>\r\n      </g>\r\n     </g>\r\n     <g id=\"text_5\">\r\n      <!-- $\\mathdefault{10^{6}}$ -->\r\n      <g transform=\"translate(783.5525 464.43625)scale(0.16 -0.16)\">\r\n       <defs>\r\n        <path d=\"M 33.015625 40.375 \r\nQ 26.375 40.375 22.484375 35.828125 \r\nQ 18.609375 31.296875 18.609375 23.390625 \r\nQ 18.609375 15.53125 22.484375 10.953125 \r\nQ 26.375 6.390625 33.015625 6.390625 \r\nQ 39.65625 6.390625 43.53125 10.953125 \r\nQ 47.40625 15.53125 47.40625 23.390625 \r\nQ 47.40625 31.296875 43.53125 35.828125 \r\nQ 39.65625 40.375 33.015625 40.375 \r\nz\r\nM 52.59375 71.296875 \r\nL 52.59375 62.3125 \r\nQ 48.875 64.0625 45.09375 64.984375 \r\nQ 41.3125 65.921875 37.59375 65.921875 \r\nQ 27.828125 65.921875 22.671875 59.328125 \r\nQ 17.53125 52.734375 16.796875 39.40625 \r\nQ 19.671875 43.65625 24.015625 45.921875 \r\nQ 28.375 48.1875 33.59375 48.1875 \r\nQ 44.578125 48.1875 50.953125 41.515625 \r\nQ 57.328125 34.859375 57.328125 23.390625 \r\nQ 57.328125 12.15625 50.6875 5.359375 \r\nQ 44.046875 -1.421875 33.015625 -1.421875 \r\nQ 20.359375 -1.421875 13.671875 8.265625 \r\nQ 6.984375 17.96875 6.984375 36.375 \r\nQ 6.984375 53.65625 15.1875 63.9375 \r\nQ 23.390625 74.21875 37.203125 74.21875 \r\nQ 40.921875 74.21875 44.703125 73.484375 \r\nQ 48.484375 72.75 52.59375 71.296875 \r\nz\r\n\" id=\"DejaVuSans-54\"/>\r\n       </defs>\r\n       <use transform=\"translate(0 0.765625)\" xlink:href=\"#DejaVuSans-49\"/>\r\n       <use transform=\"translate(63.623047 0.765625)\" xlink:href=\"#DejaVuSans-48\"/>\r\n       <use transform=\"translate(128.203125 39.046875)scale(0.7)\" xlink:href=\"#DejaVuSans-54\"/>\r\n      </g>\r\n     </g>\r\n    </g>\r\n    <g id=\"xtick_6\">\r\n     <g id=\"line2d_11\">\r\n      <path clip-path=\"url(#p44c18282be)\" d=\"M 131.817899 445.27875 \r\nL 131.817899 13.27875 \r\n\" style=\"fill:none;stroke:#b0b0b0;stroke-linecap:square;stroke-opacity:0.3;\"/>\r\n     </g>\r\n     <g id=\"line2d_12\">\r\n      <defs>\r\n       <path d=\"M 0 0 \r\nL 0 2 \r\n\" id=\"m44bd7c5bd6\" style=\"stroke:#000000;stroke-width:0.6;\"/>\r\n      </defs>\r\n      <g>\r\n       <use style=\"stroke:#000000;stroke-width:0.6;\" x=\"131.817899\" xlink:href=\"#m44bd7c5bd6\" y=\"445.27875\"/>\r\n      </g>\r\n     </g>\r\n    </g>\r\n    <g id=\"xtick_7\">\r\n     <g id=\"line2d_13\">\r\n      <path clip-path=\"url(#p44c18282be)\" d=\"M 163.514326 445.27875 \r\nL 163.514326 13.27875 \r\n\" style=\"fill:none;stroke:#b0b0b0;stroke-linecap:square;stroke-opacity:0.3;\"/>\r\n     </g>\r\n     <g id=\"line2d_14\">\r\n      <g>\r\n       <use style=\"stroke:#000000;stroke-width:0.6;\" x=\"163.514326\" xlink:href=\"#m44bd7c5bd6\" y=\"445.27875\"/>\r\n      </g>\r\n     </g>\r\n    </g>\r\n    <g id=\"xtick_8\">\r\n     <g id=\"line2d_15\">\r\n      <path clip-path=\"url(#p44c18282be)\" d=\"M 186.003298 445.27875 \r\nL 186.003298 13.27875 \r\n\" style=\"fill:none;stroke:#b0b0b0;stroke-linecap:square;stroke-opacity:0.3;\"/>\r\n     </g>\r\n     <g id=\"line2d_16\">\r\n      <g>\r\n       <use style=\"stroke:#000000;stroke-width:0.6;\" x=\"186.003298\" xlink:href=\"#m44bd7c5bd6\" y=\"445.27875\"/>\r\n      </g>\r\n     </g>\r\n    </g>\r\n    <g id=\"xtick_9\">\r\n     <g id=\"line2d_17\">\r\n      <path clip-path=\"url(#p44c18282be)\" d=\"M 203.447101 445.27875 \r\nL 203.447101 13.27875 \r\n\" style=\"fill:none;stroke:#b0b0b0;stroke-linecap:square;stroke-opacity:0.3;\"/>\r\n     </g>\r\n     <g id=\"line2d_18\">\r\n      <g>\r\n       <use style=\"stroke:#000000;stroke-width:0.6;\" x=\"203.447101\" xlink:href=\"#m44bd7c5bd6\" y=\"445.27875\"/>\r\n      </g>\r\n     </g>\r\n    </g>\r\n    <g id=\"xtick_10\">\r\n     <g id=\"line2d_19\">\r\n      <path clip-path=\"url(#p44c18282be)\" d=\"M 217.699725 445.27875 \r\nL 217.699725 13.27875 \r\n\" style=\"fill:none;stroke:#b0b0b0;stroke-linecap:square;stroke-opacity:0.3;\"/>\r\n     </g>\r\n     <g id=\"line2d_20\">\r\n      <g>\r\n       <use style=\"stroke:#000000;stroke-width:0.6;\" x=\"217.699725\" xlink:href=\"#m44bd7c5bd6\" y=\"445.27875\"/>\r\n      </g>\r\n     </g>\r\n    </g>\r\n    <g id=\"xtick_11\">\r\n     <g id=\"line2d_21\">\r\n      <path clip-path=\"url(#p44c18282be)\" d=\"M 229.750147 445.27875 \r\nL 229.750147 13.27875 \r\n\" style=\"fill:none;stroke:#b0b0b0;stroke-linecap:square;stroke-opacity:0.3;\"/>\r\n     </g>\r\n     <g id=\"line2d_22\">\r\n      <g>\r\n       <use style=\"stroke:#000000;stroke-width:0.6;\" x=\"229.750147\" xlink:href=\"#m44bd7c5bd6\" y=\"445.27875\"/>\r\n      </g>\r\n     </g>\r\n    </g>\r\n    <g id=\"xtick_12\">\r\n     <g id=\"line2d_23\">\r\n      <path clip-path=\"url(#p44c18282be)\" d=\"M 240.188698 445.27875 \r\nL 240.188698 13.27875 \r\n\" style=\"fill:none;stroke:#b0b0b0;stroke-linecap:square;stroke-opacity:0.3;\"/>\r\n     </g>\r\n     <g id=\"line2d_24\">\r\n      <g>\r\n       <use style=\"stroke:#000000;stroke-width:0.6;\" x=\"240.188698\" xlink:href=\"#m44bd7c5bd6\" y=\"445.27875\"/>\r\n      </g>\r\n     </g>\r\n    </g>\r\n    <g id=\"xtick_13\">\r\n     <g id=\"line2d_25\">\r\n      <path clip-path=\"url(#p44c18282be)\" d=\"M 249.396152 445.27875 \r\nL 249.396152 13.27875 \r\n\" style=\"fill:none;stroke:#b0b0b0;stroke-linecap:square;stroke-opacity:0.3;\"/>\r\n     </g>\r\n     <g id=\"line2d_26\">\r\n      <g>\r\n       <use style=\"stroke:#000000;stroke-width:0.6;\" x=\"249.396152\" xlink:href=\"#m44bd7c5bd6\" y=\"445.27875\"/>\r\n      </g>\r\n     </g>\r\n    </g>\r\n    <g id=\"xtick_14\">\r\n     <g id=\"line2d_27\">\r\n      <path clip-path=\"url(#p44c18282be)\" d=\"M 311.817899 445.27875 \r\nL 311.817899 13.27875 \r\n\" style=\"fill:none;stroke:#b0b0b0;stroke-linecap:square;stroke-opacity:0.3;\"/>\r\n     </g>\r\n     <g id=\"line2d_28\">\r\n      <g>\r\n       <use style=\"stroke:#000000;stroke-width:0.6;\" x=\"311.817899\" xlink:href=\"#m44bd7c5bd6\" y=\"445.27875\"/>\r\n      </g>\r\n     </g>\r\n    </g>\r\n    <g id=\"xtick_15\">\r\n     <g id=\"line2d_29\">\r\n      <path clip-path=\"url(#p44c18282be)\" d=\"M 343.514326 445.27875 \r\nL 343.514326 13.27875 \r\n\" style=\"fill:none;stroke:#b0b0b0;stroke-linecap:square;stroke-opacity:0.3;\"/>\r\n     </g>\r\n     <g id=\"line2d_30\">\r\n      <g>\r\n       <use style=\"stroke:#000000;stroke-width:0.6;\" x=\"343.514326\" xlink:href=\"#m44bd7c5bd6\" y=\"445.27875\"/>\r\n      </g>\r\n     </g>\r\n    </g>\r\n    <g id=\"xtick_16\">\r\n     <g id=\"line2d_31\">\r\n      <path clip-path=\"url(#p44c18282be)\" d=\"M 366.003298 445.27875 \r\nL 366.003298 13.27875 \r\n\" style=\"fill:none;stroke:#b0b0b0;stroke-linecap:square;stroke-opacity:0.3;\"/>\r\n     </g>\r\n     <g id=\"line2d_32\">\r\n      <g>\r\n       <use style=\"stroke:#000000;stroke-width:0.6;\" x=\"366.003298\" xlink:href=\"#m44bd7c5bd6\" y=\"445.27875\"/>\r\n      </g>\r\n     </g>\r\n    </g>\r\n    <g id=\"xtick_17\">\r\n     <g id=\"line2d_33\">\r\n      <path clip-path=\"url(#p44c18282be)\" d=\"M 383.447101 445.27875 \r\nL 383.447101 13.27875 \r\n\" style=\"fill:none;stroke:#b0b0b0;stroke-linecap:square;stroke-opacity:0.3;\"/>\r\n     </g>\r\n     <g id=\"line2d_34\">\r\n      <g>\r\n       <use style=\"stroke:#000000;stroke-width:0.6;\" x=\"383.447101\" xlink:href=\"#m44bd7c5bd6\" y=\"445.27875\"/>\r\n      </g>\r\n     </g>\r\n    </g>\r\n    <g id=\"xtick_18\">\r\n     <g id=\"line2d_35\">\r\n      <path clip-path=\"url(#p44c18282be)\" d=\"M 397.699725 445.27875 \r\nL 397.699725 13.27875 \r\n\" style=\"fill:none;stroke:#b0b0b0;stroke-linecap:square;stroke-opacity:0.3;\"/>\r\n     </g>\r\n     <g id=\"line2d_36\">\r\n      <g>\r\n       <use style=\"stroke:#000000;stroke-width:0.6;\" x=\"397.699725\" xlink:href=\"#m44bd7c5bd6\" y=\"445.27875\"/>\r\n      </g>\r\n     </g>\r\n    </g>\r\n    <g id=\"xtick_19\">\r\n     <g id=\"line2d_37\">\r\n      <path clip-path=\"url(#p44c18282be)\" d=\"M 409.750147 445.27875 \r\nL 409.750147 13.27875 \r\n\" style=\"fill:none;stroke:#b0b0b0;stroke-linecap:square;stroke-opacity:0.3;\"/>\r\n     </g>\r\n     <g id=\"line2d_38\">\r\n      <g>\r\n       <use style=\"stroke:#000000;stroke-width:0.6;\" x=\"409.750147\" xlink:href=\"#m44bd7c5bd6\" y=\"445.27875\"/>\r\n      </g>\r\n     </g>\r\n    </g>\r\n    <g id=\"xtick_20\">\r\n     <g id=\"line2d_39\">\r\n      <path clip-path=\"url(#p44c18282be)\" d=\"M 420.188698 445.27875 \r\nL 420.188698 13.27875 \r\n\" style=\"fill:none;stroke:#b0b0b0;stroke-linecap:square;stroke-opacity:0.3;\"/>\r\n     </g>\r\n     <g id=\"line2d_40\">\r\n      <g>\r\n       <use style=\"stroke:#000000;stroke-width:0.6;\" x=\"420.188698\" xlink:href=\"#m44bd7c5bd6\" y=\"445.27875\"/>\r\n      </g>\r\n     </g>\r\n    </g>\r\n    <g id=\"xtick_21\">\r\n     <g id=\"line2d_41\">\r\n      <path clip-path=\"url(#p44c18282be)\" d=\"M 429.396152 445.27875 \r\nL 429.396152 13.27875 \r\n\" style=\"fill:none;stroke:#b0b0b0;stroke-linecap:square;stroke-opacity:0.3;\"/>\r\n     </g>\r\n     <g id=\"line2d_42\">\r\n      <g>\r\n       <use style=\"stroke:#000000;stroke-width:0.6;\" x=\"429.396152\" xlink:href=\"#m44bd7c5bd6\" y=\"445.27875\"/>\r\n      </g>\r\n     </g>\r\n    </g>\r\n    <g id=\"xtick_22\">\r\n     <g id=\"line2d_43\">\r\n      <path clip-path=\"url(#p44c18282be)\" d=\"M 491.817899 445.27875 \r\nL 491.817899 13.27875 \r\n\" style=\"fill:none;stroke:#b0b0b0;stroke-linecap:square;stroke-opacity:0.3;\"/>\r\n     </g>\r\n     <g id=\"line2d_44\">\r\n      <g>\r\n       <use style=\"stroke:#000000;stroke-width:0.6;\" x=\"491.817899\" xlink:href=\"#m44bd7c5bd6\" y=\"445.27875\"/>\r\n      </g>\r\n     </g>\r\n    </g>\r\n    <g id=\"xtick_23\">\r\n     <g id=\"line2d_45\">\r\n      <path clip-path=\"url(#p44c18282be)\" d=\"M 523.514326 445.27875 \r\nL 523.514326 13.27875 \r\n\" style=\"fill:none;stroke:#b0b0b0;stroke-linecap:square;stroke-opacity:0.3;\"/>\r\n     </g>\r\n     <g id=\"line2d_46\">\r\n      <g>\r\n       <use style=\"stroke:#000000;stroke-width:0.6;\" x=\"523.514326\" xlink:href=\"#m44bd7c5bd6\" y=\"445.27875\"/>\r\n      </g>\r\n     </g>\r\n    </g>\r\n    <g id=\"xtick_24\">\r\n     <g id=\"line2d_47\">\r\n      <path clip-path=\"url(#p44c18282be)\" d=\"M 546.003298 445.27875 \r\nL 546.003298 13.27875 \r\n\" style=\"fill:none;stroke:#b0b0b0;stroke-linecap:square;stroke-opacity:0.3;\"/>\r\n     </g>\r\n     <g id=\"line2d_48\">\r\n      <g>\r\n       <use style=\"stroke:#000000;stroke-width:0.6;\" x=\"546.003298\" xlink:href=\"#m44bd7c5bd6\" y=\"445.27875\"/>\r\n      </g>\r\n     </g>\r\n    </g>\r\n    <g id=\"xtick_25\">\r\n     <g id=\"line2d_49\">\r\n      <path clip-path=\"url(#p44c18282be)\" d=\"M 563.447101 445.27875 \r\nL 563.447101 13.27875 \r\n\" style=\"fill:none;stroke:#b0b0b0;stroke-linecap:square;stroke-opacity:0.3;\"/>\r\n     </g>\r\n     <g id=\"line2d_50\">\r\n      <g>\r\n       <use style=\"stroke:#000000;stroke-width:0.6;\" x=\"563.447101\" xlink:href=\"#m44bd7c5bd6\" y=\"445.27875\"/>\r\n      </g>\r\n     </g>\r\n    </g>\r\n    <g id=\"xtick_26\">\r\n     <g id=\"line2d_51\">\r\n      <path clip-path=\"url(#p44c18282be)\" d=\"M 577.699725 445.27875 \r\nL 577.699725 13.27875 \r\n\" style=\"fill:none;stroke:#b0b0b0;stroke-linecap:square;stroke-opacity:0.3;\"/>\r\n     </g>\r\n     <g id=\"line2d_52\">\r\n      <g>\r\n       <use style=\"stroke:#000000;stroke-width:0.6;\" x=\"577.699725\" xlink:href=\"#m44bd7c5bd6\" y=\"445.27875\"/>\r\n      </g>\r\n     </g>\r\n    </g>\r\n    <g id=\"xtick_27\">\r\n     <g id=\"line2d_53\">\r\n      <path clip-path=\"url(#p44c18282be)\" d=\"M 589.750147 445.27875 \r\nL 589.750147 13.27875 \r\n\" style=\"fill:none;stroke:#b0b0b0;stroke-linecap:square;stroke-opacity:0.3;\"/>\r\n     </g>\r\n     <g id=\"line2d_54\">\r\n      <g>\r\n       <use style=\"stroke:#000000;stroke-width:0.6;\" x=\"589.750147\" xlink:href=\"#m44bd7c5bd6\" y=\"445.27875\"/>\r\n      </g>\r\n     </g>\r\n    </g>\r\n    <g id=\"xtick_28\">\r\n     <g id=\"line2d_55\">\r\n      <path clip-path=\"url(#p44c18282be)\" d=\"M 600.188698 445.27875 \r\nL 600.188698 13.27875 \r\n\" style=\"fill:none;stroke:#b0b0b0;stroke-linecap:square;stroke-opacity:0.3;\"/>\r\n     </g>\r\n     <g id=\"line2d_56\">\r\n      <g>\r\n       <use style=\"stroke:#000000;stroke-width:0.6;\" x=\"600.188698\" xlink:href=\"#m44bd7c5bd6\" y=\"445.27875\"/>\r\n      </g>\r\n     </g>\r\n    </g>\r\n    <g id=\"xtick_29\">\r\n     <g id=\"line2d_57\">\r\n      <path clip-path=\"url(#p44c18282be)\" d=\"M 609.396152 445.27875 \r\nL 609.396152 13.27875 \r\n\" style=\"fill:none;stroke:#b0b0b0;stroke-linecap:square;stroke-opacity:0.3;\"/>\r\n     </g>\r\n     <g id=\"line2d_58\">\r\n      <g>\r\n       <use style=\"stroke:#000000;stroke-width:0.6;\" x=\"609.396152\" xlink:href=\"#m44bd7c5bd6\" y=\"445.27875\"/>\r\n      </g>\r\n     </g>\r\n    </g>\r\n    <g id=\"xtick_30\">\r\n     <g id=\"line2d_59\">\r\n      <path clip-path=\"url(#p44c18282be)\" d=\"M 671.817899 445.27875 \r\nL 671.817899 13.27875 \r\n\" style=\"fill:none;stroke:#b0b0b0;stroke-linecap:square;stroke-opacity:0.3;\"/>\r\n     </g>\r\n     <g id=\"line2d_60\">\r\n      <g>\r\n       <use style=\"stroke:#000000;stroke-width:0.6;\" x=\"671.817899\" xlink:href=\"#m44bd7c5bd6\" y=\"445.27875\"/>\r\n      </g>\r\n     </g>\r\n    </g>\r\n    <g id=\"xtick_31\">\r\n     <g id=\"line2d_61\">\r\n      <path clip-path=\"url(#p44c18282be)\" d=\"M 703.514326 445.27875 \r\nL 703.514326 13.27875 \r\n\" style=\"fill:none;stroke:#b0b0b0;stroke-linecap:square;stroke-opacity:0.3;\"/>\r\n     </g>\r\n     <g id=\"line2d_62\">\r\n      <g>\r\n       <use style=\"stroke:#000000;stroke-width:0.6;\" x=\"703.514326\" xlink:href=\"#m44bd7c5bd6\" y=\"445.27875\"/>\r\n      </g>\r\n     </g>\r\n    </g>\r\n    <g id=\"xtick_32\">\r\n     <g id=\"line2d_63\">\r\n      <path clip-path=\"url(#p44c18282be)\" d=\"M 726.003298 445.27875 \r\nL 726.003298 13.27875 \r\n\" style=\"fill:none;stroke:#b0b0b0;stroke-linecap:square;stroke-opacity:0.3;\"/>\r\n     </g>\r\n     <g id=\"line2d_64\">\r\n      <g>\r\n       <use style=\"stroke:#000000;stroke-width:0.6;\" x=\"726.003298\" xlink:href=\"#m44bd7c5bd6\" y=\"445.27875\"/>\r\n      </g>\r\n     </g>\r\n    </g>\r\n    <g id=\"xtick_33\">\r\n     <g id=\"line2d_65\">\r\n      <path clip-path=\"url(#p44c18282be)\" d=\"M 743.447101 445.27875 \r\nL 743.447101 13.27875 \r\n\" style=\"fill:none;stroke:#b0b0b0;stroke-linecap:square;stroke-opacity:0.3;\"/>\r\n     </g>\r\n     <g id=\"line2d_66\">\r\n      <g>\r\n       <use style=\"stroke:#000000;stroke-width:0.6;\" x=\"743.447101\" xlink:href=\"#m44bd7c5bd6\" y=\"445.27875\"/>\r\n      </g>\r\n     </g>\r\n    </g>\r\n    <g id=\"xtick_34\">\r\n     <g id=\"line2d_67\">\r\n      <path clip-path=\"url(#p44c18282be)\" d=\"M 757.699725 445.27875 \r\nL 757.699725 13.27875 \r\n\" style=\"fill:none;stroke:#b0b0b0;stroke-linecap:square;stroke-opacity:0.3;\"/>\r\n     </g>\r\n     <g id=\"line2d_68\">\r\n      <g>\r\n       <use style=\"stroke:#000000;stroke-width:0.6;\" x=\"757.699725\" xlink:href=\"#m44bd7c5bd6\" y=\"445.27875\"/>\r\n      </g>\r\n     </g>\r\n    </g>\r\n    <g id=\"xtick_35\">\r\n     <g id=\"line2d_69\">\r\n      <path clip-path=\"url(#p44c18282be)\" d=\"M 769.750147 445.27875 \r\nL 769.750147 13.27875 \r\n\" style=\"fill:none;stroke:#b0b0b0;stroke-linecap:square;stroke-opacity:0.3;\"/>\r\n     </g>\r\n     <g id=\"line2d_70\">\r\n      <g>\r\n       <use style=\"stroke:#000000;stroke-width:0.6;\" x=\"769.750147\" xlink:href=\"#m44bd7c5bd6\" y=\"445.27875\"/>\r\n      </g>\r\n     </g>\r\n    </g>\r\n    <g id=\"xtick_36\">\r\n     <g id=\"line2d_71\">\r\n      <path clip-path=\"url(#p44c18282be)\" d=\"M 780.188698 445.27875 \r\nL 780.188698 13.27875 \r\n\" style=\"fill:none;stroke:#b0b0b0;stroke-linecap:square;stroke-opacity:0.3;\"/>\r\n     </g>\r\n     <g id=\"line2d_72\">\r\n      <g>\r\n       <use style=\"stroke:#000000;stroke-width:0.6;\" x=\"780.188698\" xlink:href=\"#m44bd7c5bd6\" y=\"445.27875\"/>\r\n      </g>\r\n     </g>\r\n    </g>\r\n    <g id=\"xtick_37\">\r\n     <g id=\"line2d_73\">\r\n      <path clip-path=\"url(#p44c18282be)\" d=\"M 789.396152 445.27875 \r\nL 789.396152 13.27875 \r\n\" style=\"fill:none;stroke:#b0b0b0;stroke-linecap:square;stroke-opacity:0.3;\"/>\r\n     </g>\r\n     <g id=\"line2d_74\">\r\n      <g>\r\n       <use style=\"stroke:#000000;stroke-width:0.6;\" x=\"789.396152\" xlink:href=\"#m44bd7c5bd6\" y=\"445.27875\"/>\r\n      </g>\r\n     </g>\r\n    </g>\r\n    <g id=\"text_6\">\r\n     <!-- Amount of records in database -->\r\n     <g transform=\"translate(314.21125 483.92125)scale(0.16 -0.16)\">\r\n      <defs>\r\n       <path d=\"M 34.1875 63.1875 \r\nL 20.796875 26.90625 \r\nL 47.609375 26.90625 \r\nz\r\nM 28.609375 72.90625 \r\nL 39.796875 72.90625 \r\nL 67.578125 0 \r\nL 57.328125 0 \r\nL 50.6875 18.703125 \r\nL 17.828125 18.703125 \r\nL 11.1875 0 \r\nL 0.78125 0 \r\nz\r\n\" id=\"DejaVuSans-65\"/>\r\n       <path d=\"M 52 44.1875 \r\nQ 55.375 50.25 60.0625 53.125 \r\nQ 64.75 56 71.09375 56 \r\nQ 79.640625 56 84.28125 50.015625 \r\nQ 88.921875 44.046875 88.921875 33.015625 \r\nL 88.921875 0 \r\nL 79.890625 0 \r\nL 79.890625 32.71875 \r\nQ 79.890625 40.578125 77.09375 44.375 \r\nQ 74.3125 48.1875 68.609375 48.1875 \r\nQ 61.625 48.1875 57.5625 43.546875 \r\nQ 53.515625 38.921875 53.515625 30.90625 \r\nL 53.515625 0 \r\nL 44.484375 0 \r\nL 44.484375 32.71875 \r\nQ 44.484375 40.625 41.703125 44.40625 \r\nQ 38.921875 48.1875 33.109375 48.1875 \r\nQ 26.21875 48.1875 22.15625 43.53125 \r\nQ 18.109375 38.875 18.109375 30.90625 \r\nL 18.109375 0 \r\nL 9.078125 0 \r\nL 9.078125 54.6875 \r\nL 18.109375 54.6875 \r\nL 18.109375 46.1875 \r\nQ 21.1875 51.21875 25.484375 53.609375 \r\nQ 29.78125 56 35.6875 56 \r\nQ 41.65625 56 45.828125 52.96875 \r\nQ 50 49.953125 52 44.1875 \r\nz\r\n\" id=\"DejaVuSans-109\"/>\r\n       <path d=\"M 30.609375 48.390625 \r\nQ 23.390625 48.390625 19.1875 42.75 \r\nQ 14.984375 37.109375 14.984375 27.296875 \r\nQ 14.984375 17.484375 19.15625 11.84375 \r\nQ 23.34375 6.203125 30.609375 6.203125 \r\nQ 37.796875 6.203125 41.984375 11.859375 \r\nQ 46.1875 17.53125 46.1875 27.296875 \r\nQ 46.1875 37.015625 41.984375 42.703125 \r\nQ 37.796875 48.390625 30.609375 48.390625 \r\nz\r\nM 30.609375 56 \r\nQ 42.328125 56 49.015625 48.375 \r\nQ 55.71875 40.765625 55.71875 27.296875 \r\nQ 55.71875 13.875 49.015625 6.21875 \r\nQ 42.328125 -1.421875 30.609375 -1.421875 \r\nQ 18.84375 -1.421875 12.171875 6.21875 \r\nQ 5.515625 13.875 5.515625 27.296875 \r\nQ 5.515625 40.765625 12.171875 48.375 \r\nQ 18.84375 56 30.609375 56 \r\nz\r\n\" id=\"DejaVuSans-111\"/>\r\n       <path d=\"M 8.5 21.578125 \r\nL 8.5 54.6875 \r\nL 17.484375 54.6875 \r\nL 17.484375 21.921875 \r\nQ 17.484375 14.15625 20.5 10.265625 \r\nQ 23.53125 6.390625 29.59375 6.390625 \r\nQ 36.859375 6.390625 41.078125 11.03125 \r\nQ 45.3125 15.671875 45.3125 23.6875 \r\nL 45.3125 54.6875 \r\nL 54.296875 54.6875 \r\nL 54.296875 0 \r\nL 45.3125 0 \r\nL 45.3125 8.40625 \r\nQ 42.046875 3.421875 37.71875 1 \r\nQ 33.40625 -1.421875 27.6875 -1.421875 \r\nQ 18.265625 -1.421875 13.375 4.4375 \r\nQ 8.5 10.296875 8.5 21.578125 \r\nz\r\nM 31.109375 56 \r\nz\r\n\" id=\"DejaVuSans-117\"/>\r\n       <path d=\"M 54.890625 33.015625 \r\nL 54.890625 0 \r\nL 45.90625 0 \r\nL 45.90625 32.71875 \r\nQ 45.90625 40.484375 42.875 44.328125 \r\nQ 39.84375 48.1875 33.796875 48.1875 \r\nQ 26.515625 48.1875 22.3125 43.546875 \r\nQ 18.109375 38.921875 18.109375 30.90625 \r\nL 18.109375 0 \r\nL 9.078125 0 \r\nL 9.078125 54.6875 \r\nL 18.109375 54.6875 \r\nL 18.109375 46.1875 \r\nQ 21.34375 51.125 25.703125 53.5625 \r\nQ 30.078125 56 35.796875 56 \r\nQ 45.21875 56 50.046875 50.171875 \r\nQ 54.890625 44.34375 54.890625 33.015625 \r\nz\r\n\" id=\"DejaVuSans-110\"/>\r\n       <path d=\"M 18.3125 70.21875 \r\nL 18.3125 54.6875 \r\nL 36.8125 54.6875 \r\nL 36.8125 47.703125 \r\nL 18.3125 47.703125 \r\nL 18.3125 18.015625 \r\nQ 18.3125 11.328125 20.140625 9.421875 \r\nQ 21.96875 7.515625 27.59375 7.515625 \r\nL 36.8125 7.515625 \r\nL 36.8125 0 \r\nL 27.59375 0 \r\nQ 17.1875 0 13.234375 3.875 \r\nQ 9.28125 7.765625 9.28125 18.015625 \r\nL 9.28125 47.703125 \r\nL 2.6875 47.703125 \r\nL 2.6875 54.6875 \r\nL 9.28125 54.6875 \r\nL 9.28125 70.21875 \r\nz\r\n\" id=\"DejaVuSans-116\"/>\r\n       <path id=\"DejaVuSans-32\"/>\r\n       <path d=\"M 37.109375 75.984375 \r\nL 37.109375 68.5 \r\nL 28.515625 68.5 \r\nQ 23.6875 68.5 21.796875 66.546875 \r\nQ 19.921875 64.59375 19.921875 59.515625 \r\nL 19.921875 54.6875 \r\nL 34.71875 54.6875 \r\nL 34.71875 47.703125 \r\nL 19.921875 47.703125 \r\nL 19.921875 0 \r\nL 10.890625 0 \r\nL 10.890625 47.703125 \r\nL 2.296875 47.703125 \r\nL 2.296875 54.6875 \r\nL 10.890625 54.6875 \r\nL 10.890625 58.5 \r\nQ 10.890625 67.625 15.140625 71.796875 \r\nQ 19.390625 75.984375 28.609375 75.984375 \r\nz\r\n\" id=\"DejaVuSans-102\"/>\r\n       <path d=\"M 41.109375 46.296875 \r\nQ 39.59375 47.171875 37.8125 47.578125 \r\nQ 36.03125 48 33.890625 48 \r\nQ 26.265625 48 22.1875 43.046875 \r\nQ 18.109375 38.09375 18.109375 28.8125 \r\nL 18.109375 0 \r\nL 9.078125 0 \r\nL 9.078125 54.6875 \r\nL 18.109375 54.6875 \r\nL 18.109375 46.1875 \r\nQ 20.953125 51.171875 25.484375 53.578125 \r\nQ 30.03125 56 36.53125 56 \r\nQ 37.453125 56 38.578125 55.875 \r\nQ 39.703125 55.765625 41.0625 55.515625 \r\nz\r\n\" id=\"DejaVuSans-114\"/>\r\n       <path d=\"M 56.203125 29.59375 \r\nL 56.203125 25.203125 \r\nL 14.890625 25.203125 \r\nQ 15.484375 15.921875 20.484375 11.0625 \r\nQ 25.484375 6.203125 34.421875 6.203125 \r\nQ 39.59375 6.203125 44.453125 7.46875 \r\nQ 49.3125 8.734375 54.109375 11.28125 \r\nL 54.109375 2.78125 \r\nQ 49.265625 0.734375 44.1875 -0.34375 \r\nQ 39.109375 -1.421875 33.890625 -1.421875 \r\nQ 20.796875 -1.421875 13.15625 6.1875 \r\nQ 5.515625 13.8125 5.515625 26.8125 \r\nQ 5.515625 40.234375 12.765625 48.109375 \r\nQ 20.015625 56 32.328125 56 \r\nQ 43.359375 56 49.78125 48.890625 \r\nQ 56.203125 41.796875 56.203125 29.59375 \r\nz\r\nM 47.21875 32.234375 \r\nQ 47.125 39.59375 43.09375 43.984375 \r\nQ 39.0625 48.390625 32.421875 48.390625 \r\nQ 24.90625 48.390625 20.390625 44.140625 \r\nQ 15.875 39.890625 15.1875 32.171875 \r\nz\r\n\" id=\"DejaVuSans-101\"/>\r\n       <path d=\"M 48.78125 52.59375 \r\nL 48.78125 44.1875 \r\nQ 44.96875 46.296875 41.140625 47.34375 \r\nQ 37.3125 48.390625 33.40625 48.390625 \r\nQ 24.65625 48.390625 19.8125 42.84375 \r\nQ 14.984375 37.3125 14.984375 27.296875 \r\nQ 14.984375 17.28125 19.8125 11.734375 \r\nQ 24.65625 6.203125 33.40625 6.203125 \r\nQ 37.3125 6.203125 41.140625 7.25 \r\nQ 44.96875 8.296875 48.78125 10.40625 \r\nL 48.78125 2.09375 \r\nQ 45.015625 0.34375 40.984375 -0.53125 \r\nQ 36.96875 -1.421875 32.421875 -1.421875 \r\nQ 20.0625 -1.421875 12.78125 6.34375 \r\nQ 5.515625 14.109375 5.515625 27.296875 \r\nQ 5.515625 40.671875 12.859375 48.328125 \r\nQ 20.21875 56 33.015625 56 \r\nQ 37.15625 56 41.109375 55.140625 \r\nQ 45.0625 54.296875 48.78125 52.59375 \r\nz\r\n\" id=\"DejaVuSans-99\"/>\r\n       <path d=\"M 45.40625 46.390625 \r\nL 45.40625 75.984375 \r\nL 54.390625 75.984375 \r\nL 54.390625 0 \r\nL 45.40625 0 \r\nL 45.40625 8.203125 \r\nQ 42.578125 3.328125 38.25 0.953125 \r\nQ 33.9375 -1.421875 27.875 -1.421875 \r\nQ 17.96875 -1.421875 11.734375 6.484375 \r\nQ 5.515625 14.40625 5.515625 27.296875 \r\nQ 5.515625 40.1875 11.734375 48.09375 \r\nQ 17.96875 56 27.875 56 \r\nQ 33.9375 56 38.25 53.625 \r\nQ 42.578125 51.265625 45.40625 46.390625 \r\nz\r\nM 14.796875 27.296875 \r\nQ 14.796875 17.390625 18.875 11.75 \r\nQ 22.953125 6.109375 30.078125 6.109375 \r\nQ 37.203125 6.109375 41.296875 11.75 \r\nQ 45.40625 17.390625 45.40625 27.296875 \r\nQ 45.40625 37.203125 41.296875 42.84375 \r\nQ 37.203125 48.484375 30.078125 48.484375 \r\nQ 22.953125 48.484375 18.875 42.84375 \r\nQ 14.796875 37.203125 14.796875 27.296875 \r\nz\r\n\" id=\"DejaVuSans-100\"/>\r\n       <path d=\"M 44.28125 53.078125 \r\nL 44.28125 44.578125 \r\nQ 40.484375 46.53125 36.375 47.5 \r\nQ 32.28125 48.484375 27.875 48.484375 \r\nQ 21.1875 48.484375 17.84375 46.4375 \r\nQ 14.5 44.390625 14.5 40.28125 \r\nQ 14.5 37.15625 16.890625 35.375 \r\nQ 19.28125 33.59375 26.515625 31.984375 \r\nL 29.59375 31.296875 \r\nQ 39.15625 29.25 43.1875 25.515625 \r\nQ 47.21875 21.78125 47.21875 15.09375 \r\nQ 47.21875 7.46875 41.1875 3.015625 \r\nQ 35.15625 -1.421875 24.609375 -1.421875 \r\nQ 20.21875 -1.421875 15.453125 -0.5625 \r\nQ 10.6875 0.296875 5.421875 2 \r\nL 5.421875 11.28125 \r\nQ 10.40625 8.6875 15.234375 7.390625 \r\nQ 20.0625 6.109375 24.8125 6.109375 \r\nQ 31.15625 6.109375 34.5625 8.28125 \r\nQ 37.984375 10.453125 37.984375 14.40625 \r\nQ 37.984375 18.0625 35.515625 20.015625 \r\nQ 33.0625 21.96875 24.703125 23.78125 \r\nL 21.578125 24.515625 \r\nQ 13.234375 26.265625 9.515625 29.90625 \r\nQ 5.8125 33.546875 5.8125 39.890625 \r\nQ 5.8125 47.609375 11.28125 51.796875 \r\nQ 16.75 56 26.8125 56 \r\nQ 31.78125 56 36.171875 55.265625 \r\nQ 40.578125 54.546875 44.28125 53.078125 \r\nz\r\n\" id=\"DejaVuSans-115\"/>\r\n       <path d=\"M 9.421875 54.6875 \r\nL 18.40625 54.6875 \r\nL 18.40625 0 \r\nL 9.421875 0 \r\nz\r\nM 9.421875 75.984375 \r\nL 18.40625 75.984375 \r\nL 18.40625 64.59375 \r\nL 9.421875 64.59375 \r\nz\r\n\" id=\"DejaVuSans-105\"/>\r\n       <path d=\"M 34.28125 27.484375 \r\nQ 23.390625 27.484375 19.1875 25 \r\nQ 14.984375 22.515625 14.984375 16.5 \r\nQ 14.984375 11.71875 18.140625 8.90625 \r\nQ 21.296875 6.109375 26.703125 6.109375 \r\nQ 34.1875 6.109375 38.703125 11.40625 \r\nQ 43.21875 16.703125 43.21875 25.484375 \r\nL 43.21875 27.484375 \r\nz\r\nM 52.203125 31.203125 \r\nL 52.203125 0 \r\nL 43.21875 0 \r\nL 43.21875 8.296875 \r\nQ 40.140625 3.328125 35.546875 0.953125 \r\nQ 30.953125 -1.421875 24.3125 -1.421875 \r\nQ 15.921875 -1.421875 10.953125 3.296875 \r\nQ 6 8.015625 6 15.921875 \r\nQ 6 25.140625 12.171875 29.828125 \r\nQ 18.359375 34.515625 30.609375 34.515625 \r\nL 43.21875 34.515625 \r\nL 43.21875 35.40625 \r\nQ 43.21875 41.609375 39.140625 45 \r\nQ 35.0625 48.390625 27.6875 48.390625 \r\nQ 23 48.390625 18.546875 47.265625 \r\nQ 14.109375 46.140625 10.015625 43.890625 \r\nL 10.015625 52.203125 \r\nQ 14.9375 54.109375 19.578125 55.046875 \r\nQ 24.21875 56 28.609375 56 \r\nQ 40.484375 56 46.34375 49.84375 \r\nQ 52.203125 43.703125 52.203125 31.203125 \r\nz\r\n\" id=\"DejaVuSans-97\"/>\r\n       <path d=\"M 48.6875 27.296875 \r\nQ 48.6875 37.203125 44.609375 42.84375 \r\nQ 40.53125 48.484375 33.40625 48.484375 \r\nQ 26.265625 48.484375 22.1875 42.84375 \r\nQ 18.109375 37.203125 18.109375 27.296875 \r\nQ 18.109375 17.390625 22.1875 11.75 \r\nQ 26.265625 6.109375 33.40625 6.109375 \r\nQ 40.53125 6.109375 44.609375 11.75 \r\nQ 48.6875 17.390625 48.6875 27.296875 \r\nz\r\nM 18.109375 46.390625 \r\nQ 20.953125 51.265625 25.265625 53.625 \r\nQ 29.59375 56 35.59375 56 \r\nQ 45.5625 56 51.78125 48.09375 \r\nQ 58.015625 40.1875 58.015625 27.296875 \r\nQ 58.015625 14.40625 51.78125 6.484375 \r\nQ 45.5625 -1.421875 35.59375 -1.421875 \r\nQ 29.59375 -1.421875 25.265625 0.953125 \r\nQ 20.953125 3.328125 18.109375 8.203125 \r\nL 18.109375 0 \r\nL 9.078125 0 \r\nL 9.078125 75.984375 \r\nL 18.109375 75.984375 \r\nz\r\n\" id=\"DejaVuSans-98\"/>\r\n      </defs>\r\n      <use xlink:href=\"#DejaVuSans-65\"/>\r\n      <use x=\"68.408203\" xlink:href=\"#DejaVuSans-109\"/>\r\n      <use x=\"165.820312\" xlink:href=\"#DejaVuSans-111\"/>\r\n      <use x=\"227.001953\" xlink:href=\"#DejaVuSans-117\"/>\r\n      <use x=\"290.380859\" xlink:href=\"#DejaVuSans-110\"/>\r\n      <use x=\"353.759766\" xlink:href=\"#DejaVuSans-116\"/>\r\n      <use x=\"392.96875\" xlink:href=\"#DejaVuSans-32\"/>\r\n      <use x=\"424.755859\" xlink:href=\"#DejaVuSans-111\"/>\r\n      <use x=\"485.9375\" xlink:href=\"#DejaVuSans-102\"/>\r\n      <use x=\"521.142578\" xlink:href=\"#DejaVuSans-32\"/>\r\n      <use x=\"552.929688\" xlink:href=\"#DejaVuSans-114\"/>\r\n      <use x=\"591.792969\" xlink:href=\"#DejaVuSans-101\"/>\r\n      <use x=\"653.316406\" xlink:href=\"#DejaVuSans-99\"/>\r\n      <use x=\"708.296875\" xlink:href=\"#DejaVuSans-111\"/>\r\n      <use x=\"769.478516\" xlink:href=\"#DejaVuSans-114\"/>\r\n      <use x=\"808.841797\" xlink:href=\"#DejaVuSans-100\"/>\r\n      <use x=\"872.318359\" xlink:href=\"#DejaVuSans-115\"/>\r\n      <use x=\"924.417969\" xlink:href=\"#DejaVuSans-32\"/>\r\n      <use x=\"956.205078\" xlink:href=\"#DejaVuSans-105\"/>\r\n      <use x=\"983.988281\" xlink:href=\"#DejaVuSans-110\"/>\r\n      <use x=\"1047.367188\" xlink:href=\"#DejaVuSans-32\"/>\r\n      <use x=\"1079.154297\" xlink:href=\"#DejaVuSans-100\"/>\r\n      <use x=\"1142.630859\" xlink:href=\"#DejaVuSans-97\"/>\r\n      <use x=\"1203.910156\" xlink:href=\"#DejaVuSans-116\"/>\r\n      <use x=\"1243.119141\" xlink:href=\"#DejaVuSans-97\"/>\r\n      <use x=\"1304.398438\" xlink:href=\"#DejaVuSans-98\"/>\r\n      <use x=\"1367.875\" xlink:href=\"#DejaVuSans-97\"/>\r\n      <use x=\"1429.154297\" xlink:href=\"#DejaVuSans-115\"/>\r\n      <use x=\"1481.253906\" xlink:href=\"#DejaVuSans-101\"/>\r\n     </g>\r\n    </g>\r\n   </g>\r\n   <g id=\"matplotlib.axis_2\">\r\n    <g id=\"ytick_1\">\r\n     <g id=\"line2d_75\">\r\n      <path clip-path=\"url(#p44c18282be)\" d=\"M 77.6325 445.27875 \r\nL 797.6325 445.27875 \r\n\" style=\"fill:none;stroke:#b0b0b0;stroke-linecap:square;stroke-width:0.8;\"/>\r\n     </g>\r\n     <g id=\"line2d_76\">\r\n      <defs>\r\n       <path d=\"M 0 0 \r\nL -3.5 0 \r\n\" id=\"m4488c9a197\" style=\"stroke:#000000;stroke-width:0.8;\"/>\r\n      </defs>\r\n      <g>\r\n       <use style=\"stroke:#000000;stroke-width:0.8;\" x=\"77.6325\" xlink:href=\"#m4488c9a197\" y=\"445.27875\"/>\r\n      </g>\r\n     </g>\r\n     <g id=\"text_7\">\r\n      <!-- −175 -->\r\n      <g transform=\"translate(26.685 451.3575)scale(0.16 -0.16)\">\r\n       <defs>\r\n        <path d=\"M 10.59375 35.5 \r\nL 73.1875 35.5 \r\nL 73.1875 27.203125 \r\nL 10.59375 27.203125 \r\nz\r\n\" id=\"DejaVuSans-8722\"/>\r\n        <path d=\"M 8.203125 72.90625 \r\nL 55.078125 72.90625 \r\nL 55.078125 68.703125 \r\nL 28.609375 0 \r\nL 18.3125 0 \r\nL 43.21875 64.59375 \r\nL 8.203125 64.59375 \r\nz\r\n\" id=\"DejaVuSans-55\"/>\r\n       </defs>\r\n       <use xlink:href=\"#DejaVuSans-8722\"/>\r\n       <use x=\"83.789062\" xlink:href=\"#DejaVuSans-49\"/>\r\n       <use x=\"147.412109\" xlink:href=\"#DejaVuSans-55\"/>\r\n       <use x=\"211.035156\" xlink:href=\"#DejaVuSans-53\"/>\r\n      </g>\r\n     </g>\r\n    </g>\r\n    <g id=\"ytick_2\">\r\n     <g id=\"line2d_77\">\r\n      <path clip-path=\"url(#p44c18282be)\" d=\"M 77.6325 406.006023 \r\nL 797.6325 406.006023 \r\n\" style=\"fill:none;stroke:#b0b0b0;stroke-linecap:square;stroke-width:0.8;\"/>\r\n     </g>\r\n     <g id=\"line2d_78\">\r\n      <g>\r\n       <use style=\"stroke:#000000;stroke-width:0.8;\" x=\"77.6325\" xlink:href=\"#m4488c9a197\" y=\"406.006023\"/>\r\n      </g>\r\n     </g>\r\n     <g id=\"text_8\">\r\n      <!-- −150 -->\r\n      <g transform=\"translate(26.685 412.084773)scale(0.16 -0.16)\">\r\n       <use xlink:href=\"#DejaVuSans-8722\"/>\r\n       <use x=\"83.789062\" xlink:href=\"#DejaVuSans-49\"/>\r\n       <use x=\"147.412109\" xlink:href=\"#DejaVuSans-53\"/>\r\n       <use x=\"211.035156\" xlink:href=\"#DejaVuSans-48\"/>\r\n      </g>\r\n     </g>\r\n    </g>\r\n    <g id=\"ytick_3\">\r\n     <g id=\"line2d_79\">\r\n      <path clip-path=\"url(#p44c18282be)\" d=\"M 77.6325 366.733295 \r\nL 797.6325 366.733295 \r\n\" style=\"fill:none;stroke:#b0b0b0;stroke-linecap:square;stroke-width:0.8;\"/>\r\n     </g>\r\n     <g id=\"line2d_80\">\r\n      <g>\r\n       <use style=\"stroke:#000000;stroke-width:0.8;\" x=\"77.6325\" xlink:href=\"#m4488c9a197\" y=\"366.733295\"/>\r\n      </g>\r\n     </g>\r\n     <g id=\"text_9\">\r\n      <!-- −125 -->\r\n      <g transform=\"translate(26.685 372.812045)scale(0.16 -0.16)\">\r\n       <use xlink:href=\"#DejaVuSans-8722\"/>\r\n       <use x=\"83.789062\" xlink:href=\"#DejaVuSans-49\"/>\r\n       <use x=\"147.412109\" xlink:href=\"#DejaVuSans-50\"/>\r\n       <use x=\"211.035156\" xlink:href=\"#DejaVuSans-53\"/>\r\n      </g>\r\n     </g>\r\n    </g>\r\n    <g id=\"ytick_4\">\r\n     <g id=\"line2d_81\">\r\n      <path clip-path=\"url(#p44c18282be)\" d=\"M 77.6325 327.460568 \r\nL 797.6325 327.460568 \r\n\" style=\"fill:none;stroke:#b0b0b0;stroke-linecap:square;stroke-width:0.8;\"/>\r\n     </g>\r\n     <g id=\"line2d_82\">\r\n      <g>\r\n       <use style=\"stroke:#000000;stroke-width:0.8;\" x=\"77.6325\" xlink:href=\"#m4488c9a197\" y=\"327.460568\"/>\r\n      </g>\r\n     </g>\r\n     <g id=\"text_10\">\r\n      <!-- −100 -->\r\n      <g transform=\"translate(26.685 333.539318)scale(0.16 -0.16)\">\r\n       <use xlink:href=\"#DejaVuSans-8722\"/>\r\n       <use x=\"83.789062\" xlink:href=\"#DejaVuSans-49\"/>\r\n       <use x=\"147.412109\" xlink:href=\"#DejaVuSans-48\"/>\r\n       <use x=\"211.035156\" xlink:href=\"#DejaVuSans-48\"/>\r\n      </g>\r\n     </g>\r\n    </g>\r\n    <g id=\"ytick_5\">\r\n     <g id=\"line2d_83\">\r\n      <path clip-path=\"url(#p44c18282be)\" d=\"M 77.6325 288.187841 \r\nL 797.6325 288.187841 \r\n\" style=\"fill:none;stroke:#b0b0b0;stroke-linecap:square;stroke-width:0.8;\"/>\r\n     </g>\r\n     <g id=\"line2d_84\">\r\n      <g>\r\n       <use style=\"stroke:#000000;stroke-width:0.8;\" x=\"77.6325\" xlink:href=\"#m4488c9a197\" y=\"288.187841\"/>\r\n      </g>\r\n     </g>\r\n     <g id=\"text_11\">\r\n      <!-- −75 -->\r\n      <g transform=\"translate(36.865 294.266591)scale(0.16 -0.16)\">\r\n       <use xlink:href=\"#DejaVuSans-8722\"/>\r\n       <use x=\"83.789062\" xlink:href=\"#DejaVuSans-55\"/>\r\n       <use x=\"147.412109\" xlink:href=\"#DejaVuSans-53\"/>\r\n      </g>\r\n     </g>\r\n    </g>\r\n    <g id=\"ytick_6\">\r\n     <g id=\"line2d_85\">\r\n      <path clip-path=\"url(#p44c18282be)\" d=\"M 77.6325 248.915114 \r\nL 797.6325 248.915114 \r\n\" style=\"fill:none;stroke:#b0b0b0;stroke-linecap:square;stroke-width:0.8;\"/>\r\n     </g>\r\n     <g id=\"line2d_86\">\r\n      <g>\r\n       <use style=\"stroke:#000000;stroke-width:0.8;\" x=\"77.6325\" xlink:href=\"#m4488c9a197\" y=\"248.915114\"/>\r\n      </g>\r\n     </g>\r\n     <g id=\"text_12\">\r\n      <!-- −50 -->\r\n      <g transform=\"translate(36.865 254.993864)scale(0.16 -0.16)\">\r\n       <use xlink:href=\"#DejaVuSans-8722\"/>\r\n       <use x=\"83.789062\" xlink:href=\"#DejaVuSans-53\"/>\r\n       <use x=\"147.412109\" xlink:href=\"#DejaVuSans-48\"/>\r\n      </g>\r\n     </g>\r\n    </g>\r\n    <g id=\"ytick_7\">\r\n     <g id=\"line2d_87\">\r\n      <path clip-path=\"url(#p44c18282be)\" d=\"M 77.6325 209.642386 \r\nL 797.6325 209.642386 \r\n\" style=\"fill:none;stroke:#b0b0b0;stroke-linecap:square;stroke-width:0.8;\"/>\r\n     </g>\r\n     <g id=\"line2d_88\">\r\n      <g>\r\n       <use style=\"stroke:#000000;stroke-width:0.8;\" x=\"77.6325\" xlink:href=\"#m4488c9a197\" y=\"209.642386\"/>\r\n      </g>\r\n     </g>\r\n     <g id=\"text_13\">\r\n      <!-- −25 -->\r\n      <g transform=\"translate(36.865 215.721136)scale(0.16 -0.16)\">\r\n       <use xlink:href=\"#DejaVuSans-8722\"/>\r\n       <use x=\"83.789062\" xlink:href=\"#DejaVuSans-50\"/>\r\n       <use x=\"147.412109\" xlink:href=\"#DejaVuSans-53\"/>\r\n      </g>\r\n     </g>\r\n    </g>\r\n    <g id=\"ytick_8\">\r\n     <g id=\"line2d_89\">\r\n      <path clip-path=\"url(#p44c18282be)\" d=\"M 77.6325 170.369659 \r\nL 797.6325 170.369659 \r\n\" style=\"fill:none;stroke:#b0b0b0;stroke-linecap:square;stroke-width:0.8;\"/>\r\n     </g>\r\n     <g id=\"line2d_90\">\r\n      <g>\r\n       <use style=\"stroke:#000000;stroke-width:0.8;\" x=\"77.6325\" xlink:href=\"#m4488c9a197\" y=\"170.369659\"/>\r\n      </g>\r\n     </g>\r\n     <g id=\"text_14\">\r\n      <!-- 0 -->\r\n      <g transform=\"translate(60.4525 176.448409)scale(0.16 -0.16)\">\r\n       <use xlink:href=\"#DejaVuSans-48\"/>\r\n      </g>\r\n     </g>\r\n    </g>\r\n    <g id=\"ytick_9\">\r\n     <g id=\"line2d_91\">\r\n      <path clip-path=\"url(#p44c18282be)\" d=\"M 77.6325 131.096932 \r\nL 797.6325 131.096932 \r\n\" style=\"fill:none;stroke:#b0b0b0;stroke-linecap:square;stroke-width:0.8;\"/>\r\n     </g>\r\n     <g id=\"line2d_92\">\r\n      <g>\r\n       <use style=\"stroke:#000000;stroke-width:0.8;\" x=\"77.6325\" xlink:href=\"#m4488c9a197\" y=\"131.096932\"/>\r\n      </g>\r\n     </g>\r\n     <g id=\"text_15\">\r\n      <!-- 25 -->\r\n      <g transform=\"translate(50.2725 137.175682)scale(0.16 -0.16)\">\r\n       <use xlink:href=\"#DejaVuSans-50\"/>\r\n       <use x=\"63.623047\" xlink:href=\"#DejaVuSans-53\"/>\r\n      </g>\r\n     </g>\r\n    </g>\r\n    <g id=\"ytick_10\">\r\n     <g id=\"line2d_93\">\r\n      <path clip-path=\"url(#p44c18282be)\" d=\"M 77.6325 91.824205 \r\nL 797.6325 91.824205 \r\n\" style=\"fill:none;stroke:#b0b0b0;stroke-linecap:square;stroke-width:0.8;\"/>\r\n     </g>\r\n     <g id=\"line2d_94\">\r\n      <g>\r\n       <use style=\"stroke:#000000;stroke-width:0.8;\" x=\"77.6325\" xlink:href=\"#m4488c9a197\" y=\"91.824205\"/>\r\n      </g>\r\n     </g>\r\n     <g id=\"text_16\">\r\n      <!-- 50 -->\r\n      <g transform=\"translate(50.2725 97.902955)scale(0.16 -0.16)\">\r\n       <use xlink:href=\"#DejaVuSans-53\"/>\r\n       <use x=\"63.623047\" xlink:href=\"#DejaVuSans-48\"/>\r\n      </g>\r\n     </g>\r\n    </g>\r\n    <g id=\"ytick_11\">\r\n     <g id=\"line2d_95\">\r\n      <path clip-path=\"url(#p44c18282be)\" d=\"M 77.6325 52.551477 \r\nL 797.6325 52.551477 \r\n\" style=\"fill:none;stroke:#b0b0b0;stroke-linecap:square;stroke-width:0.8;\"/>\r\n     </g>\r\n     <g id=\"line2d_96\">\r\n      <g>\r\n       <use style=\"stroke:#000000;stroke-width:0.8;\" x=\"77.6325\" xlink:href=\"#m4488c9a197\" y=\"52.551477\"/>\r\n      </g>\r\n     </g>\r\n     <g id=\"text_17\">\r\n      <!-- 75 -->\r\n      <g transform=\"translate(50.2725 58.630227)scale(0.16 -0.16)\">\r\n       <use xlink:href=\"#DejaVuSans-55\"/>\r\n       <use x=\"63.623047\" xlink:href=\"#DejaVuSans-53\"/>\r\n      </g>\r\n     </g>\r\n    </g>\r\n    <g id=\"ytick_12\">\r\n     <g id=\"line2d_97\">\r\n      <path clip-path=\"url(#p44c18282be)\" d=\"M 77.6325 13.27875 \r\nL 797.6325 13.27875 \r\n\" style=\"fill:none;stroke:#b0b0b0;stroke-linecap:square;stroke-width:0.8;\"/>\r\n     </g>\r\n     <g id=\"line2d_98\">\r\n      <g>\r\n       <use style=\"stroke:#000000;stroke-width:0.8;\" x=\"77.6325\" xlink:href=\"#m4488c9a197\" y=\"13.27875\"/>\r\n      </g>\r\n     </g>\r\n     <g id=\"text_18\">\r\n      <!-- 100 -->\r\n      <g transform=\"translate(40.0925 19.3575)scale(0.16 -0.16)\">\r\n       <use xlink:href=\"#DejaVuSans-49\"/>\r\n       <use x=\"63.623047\" xlink:href=\"#DejaVuSans-48\"/>\r\n       <use x=\"127.246094\" xlink:href=\"#DejaVuSans-48\"/>\r\n      </g>\r\n     </g>\r\n    </g>\r\n    <g id=\"ytick_13\">\r\n     <g id=\"line2d_99\">\r\n      <path clip-path=\"url(#p44c18282be)\" d=\"M 77.6325 437.424205 \r\nL 797.6325 437.424205 \r\n\" style=\"fill:none;stroke:#b0b0b0;stroke-linecap:square;stroke-opacity:0.3;\"/>\r\n     </g>\r\n     <g id=\"line2d_100\">\r\n      <defs>\r\n       <path d=\"M 0 0 \r\nL -2 0 \r\n\" id=\"m3b067d76c2\" style=\"stroke:#000000;stroke-width:0.6;\"/>\r\n      </defs>\r\n      <g>\r\n       <use style=\"stroke:#000000;stroke-width:0.6;\" x=\"77.6325\" xlink:href=\"#m3b067d76c2\" y=\"437.424205\"/>\r\n      </g>\r\n     </g>\r\n    </g>\r\n    <g id=\"ytick_14\">\r\n     <g id=\"line2d_101\">\r\n      <path clip-path=\"url(#p44c18282be)\" d=\"M 77.6325 429.569659 \r\nL 797.6325 429.569659 \r\n\" style=\"fill:none;stroke:#b0b0b0;stroke-linecap:square;stroke-opacity:0.3;\"/>\r\n     </g>\r\n     <g id=\"line2d_102\">\r\n      <g>\r\n       <use style=\"stroke:#000000;stroke-width:0.6;\" x=\"77.6325\" xlink:href=\"#m3b067d76c2\" y=\"429.569659\"/>\r\n      </g>\r\n     </g>\r\n    </g>\r\n    <g id=\"ytick_15\">\r\n     <g id=\"line2d_103\">\r\n      <path clip-path=\"url(#p44c18282be)\" d=\"M 77.6325 421.715114 \r\nL 797.6325 421.715114 \r\n\" style=\"fill:none;stroke:#b0b0b0;stroke-linecap:square;stroke-opacity:0.3;\"/>\r\n     </g>\r\n     <g id=\"line2d_104\">\r\n      <g>\r\n       <use style=\"stroke:#000000;stroke-width:0.6;\" x=\"77.6325\" xlink:href=\"#m3b067d76c2\" y=\"421.715114\"/>\r\n      </g>\r\n     </g>\r\n    </g>\r\n    <g id=\"ytick_16\">\r\n     <g id=\"line2d_105\">\r\n      <path clip-path=\"url(#p44c18282be)\" d=\"M 77.6325 413.860568 \r\nL 797.6325 413.860568 \r\n\" style=\"fill:none;stroke:#b0b0b0;stroke-linecap:square;stroke-opacity:0.3;\"/>\r\n     </g>\r\n     <g id=\"line2d_106\">\r\n      <g>\r\n       <use style=\"stroke:#000000;stroke-width:0.6;\" x=\"77.6325\" xlink:href=\"#m3b067d76c2\" y=\"413.860568\"/>\r\n      </g>\r\n     </g>\r\n    </g>\r\n    <g id=\"ytick_17\">\r\n     <g id=\"line2d_107\">\r\n      <path clip-path=\"url(#p44c18282be)\" d=\"M 77.6325 398.151477 \r\nL 797.6325 398.151477 \r\n\" style=\"fill:none;stroke:#b0b0b0;stroke-linecap:square;stroke-opacity:0.3;\"/>\r\n     </g>\r\n     <g id=\"line2d_108\">\r\n      <g>\r\n       <use style=\"stroke:#000000;stroke-width:0.6;\" x=\"77.6325\" xlink:href=\"#m3b067d76c2\" y=\"398.151477\"/>\r\n      </g>\r\n     </g>\r\n    </g>\r\n    <g id=\"ytick_18\">\r\n     <g id=\"line2d_109\">\r\n      <path clip-path=\"url(#p44c18282be)\" d=\"M 77.6325 390.296932 \r\nL 797.6325 390.296932 \r\n\" style=\"fill:none;stroke:#b0b0b0;stroke-linecap:square;stroke-opacity:0.3;\"/>\r\n     </g>\r\n     <g id=\"line2d_110\">\r\n      <g>\r\n       <use style=\"stroke:#000000;stroke-width:0.6;\" x=\"77.6325\" xlink:href=\"#m3b067d76c2\" y=\"390.296932\"/>\r\n      </g>\r\n     </g>\r\n    </g>\r\n    <g id=\"ytick_19\">\r\n     <g id=\"line2d_111\">\r\n      <path clip-path=\"url(#p44c18282be)\" d=\"M 77.6325 382.442386 \r\nL 797.6325 382.442386 \r\n\" style=\"fill:none;stroke:#b0b0b0;stroke-linecap:square;stroke-opacity:0.3;\"/>\r\n     </g>\r\n     <g id=\"line2d_112\">\r\n      <g>\r\n       <use style=\"stroke:#000000;stroke-width:0.6;\" x=\"77.6325\" xlink:href=\"#m3b067d76c2\" y=\"382.442386\"/>\r\n      </g>\r\n     </g>\r\n    </g>\r\n    <g id=\"ytick_20\">\r\n     <g id=\"line2d_113\">\r\n      <path clip-path=\"url(#p44c18282be)\" d=\"M 77.6325 374.587841 \r\nL 797.6325 374.587841 \r\n\" style=\"fill:none;stroke:#b0b0b0;stroke-linecap:square;stroke-opacity:0.3;\"/>\r\n     </g>\r\n     <g id=\"line2d_114\">\r\n      <g>\r\n       <use style=\"stroke:#000000;stroke-width:0.6;\" x=\"77.6325\" xlink:href=\"#m3b067d76c2\" y=\"374.587841\"/>\r\n      </g>\r\n     </g>\r\n    </g>\r\n    <g id=\"ytick_21\">\r\n     <g id=\"line2d_115\">\r\n      <path clip-path=\"url(#p44c18282be)\" d=\"M 77.6325 358.87875 \r\nL 797.6325 358.87875 \r\n\" style=\"fill:none;stroke:#b0b0b0;stroke-linecap:square;stroke-opacity:0.3;\"/>\r\n     </g>\r\n     <g id=\"line2d_116\">\r\n      <g>\r\n       <use style=\"stroke:#000000;stroke-width:0.6;\" x=\"77.6325\" xlink:href=\"#m3b067d76c2\" y=\"358.87875\"/>\r\n      </g>\r\n     </g>\r\n    </g>\r\n    <g id=\"ytick_22\">\r\n     <g id=\"line2d_117\">\r\n      <path clip-path=\"url(#p44c18282be)\" d=\"M 77.6325 351.024205 \r\nL 797.6325 351.024205 \r\n\" style=\"fill:none;stroke:#b0b0b0;stroke-linecap:square;stroke-opacity:0.3;\"/>\r\n     </g>\r\n     <g id=\"line2d_118\">\r\n      <g>\r\n       <use style=\"stroke:#000000;stroke-width:0.6;\" x=\"77.6325\" xlink:href=\"#m3b067d76c2\" y=\"351.024205\"/>\r\n      </g>\r\n     </g>\r\n    </g>\r\n    <g id=\"ytick_23\">\r\n     <g id=\"line2d_119\">\r\n      <path clip-path=\"url(#p44c18282be)\" d=\"M 77.6325 343.169659 \r\nL 797.6325 343.169659 \r\n\" style=\"fill:none;stroke:#b0b0b0;stroke-linecap:square;stroke-opacity:0.3;\"/>\r\n     </g>\r\n     <g id=\"line2d_120\">\r\n      <g>\r\n       <use style=\"stroke:#000000;stroke-width:0.6;\" x=\"77.6325\" xlink:href=\"#m3b067d76c2\" y=\"343.169659\"/>\r\n      </g>\r\n     </g>\r\n    </g>\r\n    <g id=\"ytick_24\">\r\n     <g id=\"line2d_121\">\r\n      <path clip-path=\"url(#p44c18282be)\" d=\"M 77.6325 335.315114 \r\nL 797.6325 335.315114 \r\n\" style=\"fill:none;stroke:#b0b0b0;stroke-linecap:square;stroke-opacity:0.3;\"/>\r\n     </g>\r\n     <g id=\"line2d_122\">\r\n      <g>\r\n       <use style=\"stroke:#000000;stroke-width:0.6;\" x=\"77.6325\" xlink:href=\"#m3b067d76c2\" y=\"335.315114\"/>\r\n      </g>\r\n     </g>\r\n    </g>\r\n    <g id=\"ytick_25\">\r\n     <g id=\"line2d_123\">\r\n      <path clip-path=\"url(#p44c18282be)\" d=\"M 77.6325 319.606023 \r\nL 797.6325 319.606023 \r\n\" style=\"fill:none;stroke:#b0b0b0;stroke-linecap:square;stroke-opacity:0.3;\"/>\r\n     </g>\r\n     <g id=\"line2d_124\">\r\n      <g>\r\n       <use style=\"stroke:#000000;stroke-width:0.6;\" x=\"77.6325\" xlink:href=\"#m3b067d76c2\" y=\"319.606023\"/>\r\n      </g>\r\n     </g>\r\n    </g>\r\n    <g id=\"ytick_26\">\r\n     <g id=\"line2d_125\">\r\n      <path clip-path=\"url(#p44c18282be)\" d=\"M 77.6325 311.751477 \r\nL 797.6325 311.751477 \r\n\" style=\"fill:none;stroke:#b0b0b0;stroke-linecap:square;stroke-opacity:0.3;\"/>\r\n     </g>\r\n     <g id=\"line2d_126\">\r\n      <g>\r\n       <use style=\"stroke:#000000;stroke-width:0.6;\" x=\"77.6325\" xlink:href=\"#m3b067d76c2\" y=\"311.751477\"/>\r\n      </g>\r\n     </g>\r\n    </g>\r\n    <g id=\"ytick_27\">\r\n     <g id=\"line2d_127\">\r\n      <path clip-path=\"url(#p44c18282be)\" d=\"M 77.6325 303.896932 \r\nL 797.6325 303.896932 \r\n\" style=\"fill:none;stroke:#b0b0b0;stroke-linecap:square;stroke-opacity:0.3;\"/>\r\n     </g>\r\n     <g id=\"line2d_128\">\r\n      <g>\r\n       <use style=\"stroke:#000000;stroke-width:0.6;\" x=\"77.6325\" xlink:href=\"#m3b067d76c2\" y=\"303.896932\"/>\r\n      </g>\r\n     </g>\r\n    </g>\r\n    <g id=\"ytick_28\">\r\n     <g id=\"line2d_129\">\r\n      <path clip-path=\"url(#p44c18282be)\" d=\"M 77.6325 296.042386 \r\nL 797.6325 296.042386 \r\n\" style=\"fill:none;stroke:#b0b0b0;stroke-linecap:square;stroke-opacity:0.3;\"/>\r\n     </g>\r\n     <g id=\"line2d_130\">\r\n      <g>\r\n       <use style=\"stroke:#000000;stroke-width:0.6;\" x=\"77.6325\" xlink:href=\"#m3b067d76c2\" y=\"296.042386\"/>\r\n      </g>\r\n     </g>\r\n    </g>\r\n    <g id=\"ytick_29\">\r\n     <g id=\"line2d_131\">\r\n      <path clip-path=\"url(#p44c18282be)\" d=\"M 77.6325 280.333295 \r\nL 797.6325 280.333295 \r\n\" style=\"fill:none;stroke:#b0b0b0;stroke-linecap:square;stroke-opacity:0.3;\"/>\r\n     </g>\r\n     <g id=\"line2d_132\">\r\n      <g>\r\n       <use style=\"stroke:#000000;stroke-width:0.6;\" x=\"77.6325\" xlink:href=\"#m3b067d76c2\" y=\"280.333295\"/>\r\n      </g>\r\n     </g>\r\n    </g>\r\n    <g id=\"ytick_30\">\r\n     <g id=\"line2d_133\">\r\n      <path clip-path=\"url(#p44c18282be)\" d=\"M 77.6325 272.47875 \r\nL 797.6325 272.47875 \r\n\" style=\"fill:none;stroke:#b0b0b0;stroke-linecap:square;stroke-opacity:0.3;\"/>\r\n     </g>\r\n     <g id=\"line2d_134\">\r\n      <g>\r\n       <use style=\"stroke:#000000;stroke-width:0.6;\" x=\"77.6325\" xlink:href=\"#m3b067d76c2\" y=\"272.47875\"/>\r\n      </g>\r\n     </g>\r\n    </g>\r\n    <g id=\"ytick_31\">\r\n     <g id=\"line2d_135\">\r\n      <path clip-path=\"url(#p44c18282be)\" d=\"M 77.6325 264.624205 \r\nL 797.6325 264.624205 \r\n\" style=\"fill:none;stroke:#b0b0b0;stroke-linecap:square;stroke-opacity:0.3;\"/>\r\n     </g>\r\n     <g id=\"line2d_136\">\r\n      <g>\r\n       <use style=\"stroke:#000000;stroke-width:0.6;\" x=\"77.6325\" xlink:href=\"#m3b067d76c2\" y=\"264.624205\"/>\r\n      </g>\r\n     </g>\r\n    </g>\r\n    <g id=\"ytick_32\">\r\n     <g id=\"line2d_137\">\r\n      <path clip-path=\"url(#p44c18282be)\" d=\"M 77.6325 256.769659 \r\nL 797.6325 256.769659 \r\n\" style=\"fill:none;stroke:#b0b0b0;stroke-linecap:square;stroke-opacity:0.3;\"/>\r\n     </g>\r\n     <g id=\"line2d_138\">\r\n      <g>\r\n       <use style=\"stroke:#000000;stroke-width:0.6;\" x=\"77.6325\" xlink:href=\"#m3b067d76c2\" y=\"256.769659\"/>\r\n      </g>\r\n     </g>\r\n    </g>\r\n    <g id=\"ytick_33\">\r\n     <g id=\"line2d_139\">\r\n      <path clip-path=\"url(#p44c18282be)\" d=\"M 77.6325 241.060568 \r\nL 797.6325 241.060568 \r\n\" style=\"fill:none;stroke:#b0b0b0;stroke-linecap:square;stroke-opacity:0.3;\"/>\r\n     </g>\r\n     <g id=\"line2d_140\">\r\n      <g>\r\n       <use style=\"stroke:#000000;stroke-width:0.6;\" x=\"77.6325\" xlink:href=\"#m3b067d76c2\" y=\"241.060568\"/>\r\n      </g>\r\n     </g>\r\n    </g>\r\n    <g id=\"ytick_34\">\r\n     <g id=\"line2d_141\">\r\n      <path clip-path=\"url(#p44c18282be)\" d=\"M 77.6325 233.206023 \r\nL 797.6325 233.206023 \r\n\" style=\"fill:none;stroke:#b0b0b0;stroke-linecap:square;stroke-opacity:0.3;\"/>\r\n     </g>\r\n     <g id=\"line2d_142\">\r\n      <g>\r\n       <use style=\"stroke:#000000;stroke-width:0.6;\" x=\"77.6325\" xlink:href=\"#m3b067d76c2\" y=\"233.206023\"/>\r\n      </g>\r\n     </g>\r\n    </g>\r\n    <g id=\"ytick_35\">\r\n     <g id=\"line2d_143\">\r\n      <path clip-path=\"url(#p44c18282be)\" d=\"M 77.6325 225.351477 \r\nL 797.6325 225.351477 \r\n\" style=\"fill:none;stroke:#b0b0b0;stroke-linecap:square;stroke-opacity:0.3;\"/>\r\n     </g>\r\n     <g id=\"line2d_144\">\r\n      <g>\r\n       <use style=\"stroke:#000000;stroke-width:0.6;\" x=\"77.6325\" xlink:href=\"#m3b067d76c2\" y=\"225.351477\"/>\r\n      </g>\r\n     </g>\r\n    </g>\r\n    <g id=\"ytick_36\">\r\n     <g id=\"line2d_145\">\r\n      <path clip-path=\"url(#p44c18282be)\" d=\"M 77.6325 217.496932 \r\nL 797.6325 217.496932 \r\n\" style=\"fill:none;stroke:#b0b0b0;stroke-linecap:square;stroke-opacity:0.3;\"/>\r\n     </g>\r\n     <g id=\"line2d_146\">\r\n      <g>\r\n       <use style=\"stroke:#000000;stroke-width:0.6;\" x=\"77.6325\" xlink:href=\"#m3b067d76c2\" y=\"217.496932\"/>\r\n      </g>\r\n     </g>\r\n    </g>\r\n    <g id=\"ytick_37\">\r\n     <g id=\"line2d_147\">\r\n      <path clip-path=\"url(#p44c18282be)\" d=\"M 77.6325 201.787841 \r\nL 797.6325 201.787841 \r\n\" style=\"fill:none;stroke:#b0b0b0;stroke-linecap:square;stroke-opacity:0.3;\"/>\r\n     </g>\r\n     <g id=\"line2d_148\">\r\n      <g>\r\n       <use style=\"stroke:#000000;stroke-width:0.6;\" x=\"77.6325\" xlink:href=\"#m3b067d76c2\" y=\"201.787841\"/>\r\n      </g>\r\n     </g>\r\n    </g>\r\n    <g id=\"ytick_38\">\r\n     <g id=\"line2d_149\">\r\n      <path clip-path=\"url(#p44c18282be)\" d=\"M 77.6325 193.933295 \r\nL 797.6325 193.933295 \r\n\" style=\"fill:none;stroke:#b0b0b0;stroke-linecap:square;stroke-opacity:0.3;\"/>\r\n     </g>\r\n     <g id=\"line2d_150\">\r\n      <g>\r\n       <use style=\"stroke:#000000;stroke-width:0.6;\" x=\"77.6325\" xlink:href=\"#m3b067d76c2\" y=\"193.933295\"/>\r\n      </g>\r\n     </g>\r\n    </g>\r\n    <g id=\"ytick_39\">\r\n     <g id=\"line2d_151\">\r\n      <path clip-path=\"url(#p44c18282be)\" d=\"M 77.6325 186.07875 \r\nL 797.6325 186.07875 \r\n\" style=\"fill:none;stroke:#b0b0b0;stroke-linecap:square;stroke-opacity:0.3;\"/>\r\n     </g>\r\n     <g id=\"line2d_152\">\r\n      <g>\r\n       <use style=\"stroke:#000000;stroke-width:0.6;\" x=\"77.6325\" xlink:href=\"#m3b067d76c2\" y=\"186.07875\"/>\r\n      </g>\r\n     </g>\r\n    </g>\r\n    <g id=\"ytick_40\">\r\n     <g id=\"line2d_153\">\r\n      <path clip-path=\"url(#p44c18282be)\" d=\"M 77.6325 178.224205 \r\nL 797.6325 178.224205 \r\n\" style=\"fill:none;stroke:#b0b0b0;stroke-linecap:square;stroke-opacity:0.3;\"/>\r\n     </g>\r\n     <g id=\"line2d_154\">\r\n      <g>\r\n       <use style=\"stroke:#000000;stroke-width:0.6;\" x=\"77.6325\" xlink:href=\"#m3b067d76c2\" y=\"178.224205\"/>\r\n      </g>\r\n     </g>\r\n    </g>\r\n    <g id=\"ytick_41\">\r\n     <g id=\"line2d_155\">\r\n      <path clip-path=\"url(#p44c18282be)\" d=\"M 77.6325 162.515114 \r\nL 797.6325 162.515114 \r\n\" style=\"fill:none;stroke:#b0b0b0;stroke-linecap:square;stroke-opacity:0.3;\"/>\r\n     </g>\r\n     <g id=\"line2d_156\">\r\n      <g>\r\n       <use style=\"stroke:#000000;stroke-width:0.6;\" x=\"77.6325\" xlink:href=\"#m3b067d76c2\" y=\"162.515114\"/>\r\n      </g>\r\n     </g>\r\n    </g>\r\n    <g id=\"ytick_42\">\r\n     <g id=\"line2d_157\">\r\n      <path clip-path=\"url(#p44c18282be)\" d=\"M 77.6325 154.660568 \r\nL 797.6325 154.660568 \r\n\" style=\"fill:none;stroke:#b0b0b0;stroke-linecap:square;stroke-opacity:0.3;\"/>\r\n     </g>\r\n     <g id=\"line2d_158\">\r\n      <g>\r\n       <use style=\"stroke:#000000;stroke-width:0.6;\" x=\"77.6325\" xlink:href=\"#m3b067d76c2\" y=\"154.660568\"/>\r\n      </g>\r\n     </g>\r\n    </g>\r\n    <g id=\"ytick_43\">\r\n     <g id=\"line2d_159\">\r\n      <path clip-path=\"url(#p44c18282be)\" d=\"M 77.6325 146.806023 \r\nL 797.6325 146.806023 \r\n\" style=\"fill:none;stroke:#b0b0b0;stroke-linecap:square;stroke-opacity:0.3;\"/>\r\n     </g>\r\n     <g id=\"line2d_160\">\r\n      <g>\r\n       <use style=\"stroke:#000000;stroke-width:0.6;\" x=\"77.6325\" xlink:href=\"#m3b067d76c2\" y=\"146.806023\"/>\r\n      </g>\r\n     </g>\r\n    </g>\r\n    <g id=\"ytick_44\">\r\n     <g id=\"line2d_161\">\r\n      <path clip-path=\"url(#p44c18282be)\" d=\"M 77.6325 138.951477 \r\nL 797.6325 138.951477 \r\n\" style=\"fill:none;stroke:#b0b0b0;stroke-linecap:square;stroke-opacity:0.3;\"/>\r\n     </g>\r\n     <g id=\"line2d_162\">\r\n      <g>\r\n       <use style=\"stroke:#000000;stroke-width:0.6;\" x=\"77.6325\" xlink:href=\"#m3b067d76c2\" y=\"138.951477\"/>\r\n      </g>\r\n     </g>\r\n    </g>\r\n    <g id=\"ytick_45\">\r\n     <g id=\"line2d_163\">\r\n      <path clip-path=\"url(#p44c18282be)\" d=\"M 77.6325 123.242386 \r\nL 797.6325 123.242386 \r\n\" style=\"fill:none;stroke:#b0b0b0;stroke-linecap:square;stroke-opacity:0.3;\"/>\r\n     </g>\r\n     <g id=\"line2d_164\">\r\n      <g>\r\n       <use style=\"stroke:#000000;stroke-width:0.6;\" x=\"77.6325\" xlink:href=\"#m3b067d76c2\" y=\"123.242386\"/>\r\n      </g>\r\n     </g>\r\n    </g>\r\n    <g id=\"ytick_46\">\r\n     <g id=\"line2d_165\">\r\n      <path clip-path=\"url(#p44c18282be)\" d=\"M 77.6325 115.387841 \r\nL 797.6325 115.387841 \r\n\" style=\"fill:none;stroke:#b0b0b0;stroke-linecap:square;stroke-opacity:0.3;\"/>\r\n     </g>\r\n     <g id=\"line2d_166\">\r\n      <g>\r\n       <use style=\"stroke:#000000;stroke-width:0.6;\" x=\"77.6325\" xlink:href=\"#m3b067d76c2\" y=\"115.387841\"/>\r\n      </g>\r\n     </g>\r\n    </g>\r\n    <g id=\"ytick_47\">\r\n     <g id=\"line2d_167\">\r\n      <path clip-path=\"url(#p44c18282be)\" d=\"M 77.6325 107.533295 \r\nL 797.6325 107.533295 \r\n\" style=\"fill:none;stroke:#b0b0b0;stroke-linecap:square;stroke-opacity:0.3;\"/>\r\n     </g>\r\n     <g id=\"line2d_168\">\r\n      <g>\r\n       <use style=\"stroke:#000000;stroke-width:0.6;\" x=\"77.6325\" xlink:href=\"#m3b067d76c2\" y=\"107.533295\"/>\r\n      </g>\r\n     </g>\r\n    </g>\r\n    <g id=\"ytick_48\">\r\n     <g id=\"line2d_169\">\r\n      <path clip-path=\"url(#p44c18282be)\" d=\"M 77.6325 99.67875 \r\nL 797.6325 99.67875 \r\n\" style=\"fill:none;stroke:#b0b0b0;stroke-linecap:square;stroke-opacity:0.3;\"/>\r\n     </g>\r\n     <g id=\"line2d_170\">\r\n      <g>\r\n       <use style=\"stroke:#000000;stroke-width:0.6;\" x=\"77.6325\" xlink:href=\"#m3b067d76c2\" y=\"99.67875\"/>\r\n      </g>\r\n     </g>\r\n    </g>\r\n    <g id=\"ytick_49\">\r\n     <g id=\"line2d_171\">\r\n      <path clip-path=\"url(#p44c18282be)\" d=\"M 77.6325 83.969659 \r\nL 797.6325 83.969659 \r\n\" style=\"fill:none;stroke:#b0b0b0;stroke-linecap:square;stroke-opacity:0.3;\"/>\r\n     </g>\r\n     <g id=\"line2d_172\">\r\n      <g>\r\n       <use style=\"stroke:#000000;stroke-width:0.6;\" x=\"77.6325\" xlink:href=\"#m3b067d76c2\" y=\"83.969659\"/>\r\n      </g>\r\n     </g>\r\n    </g>\r\n    <g id=\"ytick_50\">\r\n     <g id=\"line2d_173\">\r\n      <path clip-path=\"url(#p44c18282be)\" d=\"M 77.6325 76.115114 \r\nL 797.6325 76.115114 \r\n\" style=\"fill:none;stroke:#b0b0b0;stroke-linecap:square;stroke-opacity:0.3;\"/>\r\n     </g>\r\n     <g id=\"line2d_174\">\r\n      <g>\r\n       <use style=\"stroke:#000000;stroke-width:0.6;\" x=\"77.6325\" xlink:href=\"#m3b067d76c2\" y=\"76.115114\"/>\r\n      </g>\r\n     </g>\r\n    </g>\r\n    <g id=\"ytick_51\">\r\n     <g id=\"line2d_175\">\r\n      <path clip-path=\"url(#p44c18282be)\" d=\"M 77.6325 68.260568 \r\nL 797.6325 68.260568 \r\n\" style=\"fill:none;stroke:#b0b0b0;stroke-linecap:square;stroke-opacity:0.3;\"/>\r\n     </g>\r\n     <g id=\"line2d_176\">\r\n      <g>\r\n       <use style=\"stroke:#000000;stroke-width:0.6;\" x=\"77.6325\" xlink:href=\"#m3b067d76c2\" y=\"68.260568\"/>\r\n      </g>\r\n     </g>\r\n    </g>\r\n    <g id=\"ytick_52\">\r\n     <g id=\"line2d_177\">\r\n      <path clip-path=\"url(#p44c18282be)\" d=\"M 77.6325 60.406023 \r\nL 797.6325 60.406023 \r\n\" style=\"fill:none;stroke:#b0b0b0;stroke-linecap:square;stroke-opacity:0.3;\"/>\r\n     </g>\r\n     <g id=\"line2d_178\">\r\n      <g>\r\n       <use style=\"stroke:#000000;stroke-width:0.6;\" x=\"77.6325\" xlink:href=\"#m3b067d76c2\" y=\"60.406023\"/>\r\n      </g>\r\n     </g>\r\n    </g>\r\n    <g id=\"ytick_53\">\r\n     <g id=\"line2d_179\">\r\n      <path clip-path=\"url(#p44c18282be)\" d=\"M 77.6325 44.696932 \r\nL 797.6325 44.696932 \r\n\" style=\"fill:none;stroke:#b0b0b0;stroke-linecap:square;stroke-opacity:0.3;\"/>\r\n     </g>\r\n     <g id=\"line2d_180\">\r\n      <g>\r\n       <use style=\"stroke:#000000;stroke-width:0.6;\" x=\"77.6325\" xlink:href=\"#m3b067d76c2\" y=\"44.696932\"/>\r\n      </g>\r\n     </g>\r\n    </g>\r\n    <g id=\"ytick_54\">\r\n     <g id=\"line2d_181\">\r\n      <path clip-path=\"url(#p44c18282be)\" d=\"M 77.6325 36.842386 \r\nL 797.6325 36.842386 \r\n\" style=\"fill:none;stroke:#b0b0b0;stroke-linecap:square;stroke-opacity:0.3;\"/>\r\n     </g>\r\n     <g id=\"line2d_182\">\r\n      <g>\r\n       <use style=\"stroke:#000000;stroke-width:0.6;\" x=\"77.6325\" xlink:href=\"#m3b067d76c2\" y=\"36.842386\"/>\r\n      </g>\r\n     </g>\r\n    </g>\r\n    <g id=\"ytick_55\">\r\n     <g id=\"line2d_183\">\r\n      <path clip-path=\"url(#p44c18282be)\" d=\"M 77.6325 28.987841 \r\nL 797.6325 28.987841 \r\n\" style=\"fill:none;stroke:#b0b0b0;stroke-linecap:square;stroke-opacity:0.3;\"/>\r\n     </g>\r\n     <g id=\"line2d_184\">\r\n      <g>\r\n       <use style=\"stroke:#000000;stroke-width:0.6;\" x=\"77.6325\" xlink:href=\"#m3b067d76c2\" y=\"28.987841\"/>\r\n      </g>\r\n     </g>\r\n    </g>\r\n    <g id=\"ytick_56\">\r\n     <g id=\"line2d_185\">\r\n      <path clip-path=\"url(#p44c18282be)\" d=\"M 77.6325 21.133295 \r\nL 797.6325 21.133295 \r\n\" style=\"fill:none;stroke:#b0b0b0;stroke-linecap:square;stroke-opacity:0.3;\"/>\r\n     </g>\r\n     <g id=\"line2d_186\">\r\n      <g>\r\n       <use style=\"stroke:#000000;stroke-width:0.6;\" x=\"77.6325\" xlink:href=\"#m3b067d76c2\" y=\"21.133295\"/>\r\n      </g>\r\n     </g>\r\n    </g>\r\n    <g id=\"text_19\">\r\n     <!-- Noise removed (%) -->\r\n     <g transform=\"translate(19.3575 305.855)rotate(-90)scale(0.16 -0.16)\">\r\n      <defs>\r\n       <path d=\"M 9.8125 72.90625 \r\nL 23.09375 72.90625 \r\nL 55.421875 11.921875 \r\nL 55.421875 72.90625 \r\nL 64.984375 72.90625 \r\nL 64.984375 0 \r\nL 51.703125 0 \r\nL 19.390625 60.984375 \r\nL 19.390625 0 \r\nL 9.8125 0 \r\nz\r\n\" id=\"DejaVuSans-78\"/>\r\n       <path d=\"M 2.984375 54.6875 \r\nL 12.5 54.6875 \r\nL 29.59375 8.796875 \r\nL 46.6875 54.6875 \r\nL 56.203125 54.6875 \r\nL 35.6875 0 \r\nL 23.484375 0 \r\nz\r\n\" id=\"DejaVuSans-118\"/>\r\n       <path d=\"M 31 75.875 \r\nQ 24.46875 64.65625 21.28125 53.65625 \r\nQ 18.109375 42.671875 18.109375 31.390625 \r\nQ 18.109375 20.125 21.3125 9.0625 \r\nQ 24.515625 -2 31 -13.1875 \r\nL 23.1875 -13.1875 \r\nQ 15.875 -1.703125 12.234375 9.375 \r\nQ 8.59375 20.453125 8.59375 31.390625 \r\nQ 8.59375 42.28125 12.203125 53.3125 \r\nQ 15.828125 64.359375 23.1875 75.875 \r\nz\r\n\" id=\"DejaVuSans-40\"/>\r\n       <path d=\"M 72.703125 32.078125 \r\nQ 68.453125 32.078125 66.03125 28.46875 \r\nQ 63.625 24.859375 63.625 18.40625 \r\nQ 63.625 12.0625 66.03125 8.421875 \r\nQ 68.453125 4.78125 72.703125 4.78125 \r\nQ 76.859375 4.78125 79.265625 8.421875 \r\nQ 81.6875 12.0625 81.6875 18.40625 \r\nQ 81.6875 24.8125 79.265625 28.4375 \r\nQ 76.859375 32.078125 72.703125 32.078125 \r\nz\r\nM 72.703125 38.28125 \r\nQ 80.421875 38.28125 84.953125 32.90625 \r\nQ 89.5 27.546875 89.5 18.40625 \r\nQ 89.5 9.28125 84.9375 3.921875 \r\nQ 80.375 -1.421875 72.703125 -1.421875 \r\nQ 64.890625 -1.421875 60.34375 3.921875 \r\nQ 55.8125 9.28125 55.8125 18.40625 \r\nQ 55.8125 27.59375 60.375 32.9375 \r\nQ 64.9375 38.28125 72.703125 38.28125 \r\nz\r\nM 22.3125 68.015625 \r\nQ 18.109375 68.015625 15.6875 64.375 \r\nQ 13.28125 60.75 13.28125 54.390625 \r\nQ 13.28125 47.953125 15.671875 44.328125 \r\nQ 18.0625 40.71875 22.3125 40.71875 \r\nQ 26.5625 40.71875 28.96875 44.328125 \r\nQ 31.390625 47.953125 31.390625 54.390625 \r\nQ 31.390625 60.6875 28.953125 64.34375 \r\nQ 26.515625 68.015625 22.3125 68.015625 \r\nz\r\nM 66.40625 74.21875 \r\nL 74.21875 74.21875 \r\nL 28.609375 -1.421875 \r\nL 20.796875 -1.421875 \r\nz\r\nM 22.3125 74.21875 \r\nQ 30.03125 74.21875 34.609375 68.875 \r\nQ 39.203125 63.53125 39.203125 54.390625 \r\nQ 39.203125 45.171875 34.640625 39.84375 \r\nQ 30.078125 34.515625 22.3125 34.515625 \r\nQ 14.546875 34.515625 10.03125 39.859375 \r\nQ 5.515625 45.21875 5.515625 54.390625 \r\nQ 5.515625 63.484375 10.046875 68.84375 \r\nQ 14.59375 74.21875 22.3125 74.21875 \r\nz\r\n\" id=\"DejaVuSans-37\"/>\r\n       <path d=\"M 8.015625 75.875 \r\nL 15.828125 75.875 \r\nQ 23.140625 64.359375 26.78125 53.3125 \r\nQ 30.421875 42.28125 30.421875 31.390625 \r\nQ 30.421875 20.453125 26.78125 9.375 \r\nQ 23.140625 -1.703125 15.828125 -13.1875 \r\nL 8.015625 -13.1875 \r\nQ 14.5 -2 17.703125 9.0625 \r\nQ 20.90625 20.125 20.90625 31.390625 \r\nQ 20.90625 42.671875 17.703125 53.65625 \r\nQ 14.5 64.65625 8.015625 75.875 \r\nz\r\n\" id=\"DejaVuSans-41\"/>\r\n      </defs>\r\n      <use xlink:href=\"#DejaVuSans-78\"/>\r\n      <use x=\"74.804688\" xlink:href=\"#DejaVuSans-111\"/>\r\n      <use x=\"135.986328\" xlink:href=\"#DejaVuSans-105\"/>\r\n      <use x=\"163.769531\" xlink:href=\"#DejaVuSans-115\"/>\r\n      <use x=\"215.869141\" xlink:href=\"#DejaVuSans-101\"/>\r\n      <use x=\"277.392578\" xlink:href=\"#DejaVuSans-32\"/>\r\n      <use x=\"309.179688\" xlink:href=\"#DejaVuSans-114\"/>\r\n      <use x=\"348.042969\" xlink:href=\"#DejaVuSans-101\"/>\r\n      <use x=\"409.566406\" xlink:href=\"#DejaVuSans-109\"/>\r\n      <use x=\"506.978516\" xlink:href=\"#DejaVuSans-111\"/>\r\n      <use x=\"568.160156\" xlink:href=\"#DejaVuSans-118\"/>\r\n      <use x=\"627.339844\" xlink:href=\"#DejaVuSans-101\"/>\r\n      <use x=\"688.863281\" xlink:href=\"#DejaVuSans-100\"/>\r\n      <use x=\"752.339844\" xlink:href=\"#DejaVuSans-32\"/>\r\n      <use x=\"784.126953\" xlink:href=\"#DejaVuSans-40\"/>\r\n      <use x=\"823.140625\" xlink:href=\"#DejaVuSans-37\"/>\r\n      <use x=\"918.160156\" xlink:href=\"#DejaVuSans-41\"/>\r\n     </g>\r\n    </g>\r\n   </g>\r\n   <g id=\"line2d_187\">\r\n    <path clip-path=\"url(#p44c18282be)\" d=\"M 77.6325 280.380551 \r\nL 257.6325 152.499698 \r\nL 437.6325 106.776599 \r\nL 617.6325 100.294937 \r\nL 797.6325 98.704982 \r\n\" style=\"fill:none;stroke:#ea4335;stroke-linecap:square;stroke-width:1.5;\"/>\r\n    <defs>\r\n     <path d=\"M 0 3 \r\nC 0.795609 3 1.55874 2.683901 2.12132 2.12132 \r\nC 2.683901 1.55874 3 0.795609 3 0 \r\nC 3 -0.795609 2.683901 -1.55874 2.12132 -2.12132 \r\nC 1.55874 -2.683901 0.795609 -3 0 -3 \r\nC -0.795609 -3 -1.55874 -2.683901 -2.12132 -2.12132 \r\nC -2.683901 -1.55874 -3 -0.795609 -3 0 \r\nC -3 0.795609 -2.683901 1.55874 -2.12132 2.12132 \r\nC -1.55874 2.683901 -0.795609 3 0 3 \r\nz\r\n\" id=\"m8879285864\" style=\"stroke:#ea4335;\"/>\r\n    </defs>\r\n    <g clip-path=\"url(#p44c18282be)\">\r\n     <use style=\"fill:#ea4335;stroke:#ea4335;\" x=\"77.6325\" xlink:href=\"#m8879285864\" y=\"280.380551\"/>\r\n     <use style=\"fill:#ea4335;stroke:#ea4335;\" x=\"257.6325\" xlink:href=\"#m8879285864\" y=\"152.499698\"/>\r\n     <use style=\"fill:#ea4335;stroke:#ea4335;\" x=\"437.6325\" xlink:href=\"#m8879285864\" y=\"106.776599\"/>\r\n     <use style=\"fill:#ea4335;stroke:#ea4335;\" x=\"617.6325\" xlink:href=\"#m8879285864\" y=\"100.294937\"/>\r\n     <use style=\"fill:#ea4335;stroke:#ea4335;\" x=\"797.6325\" xlink:href=\"#m8879285864\" y=\"98.704982\"/>\r\n    </g>\r\n   </g>\r\n   <g id=\"line2d_188\">\r\n    <path clip-path=\"url(#p44c18282be)\" d=\"M 77.6325 196.17861 \r\nL 257.6325 156.883204 \r\nL 437.6325 158.425663 \r\nL 617.6325 157.980603 \r\nL 797.6325 158.944487 \r\n\" style=\"fill:none;stroke:#fbbc04;stroke-linecap:square;stroke-width:1.5;\"/>\r\n    <defs>\r\n     <path d=\"M 0 3 \r\nC 0.795609 3 1.55874 2.683901 2.12132 2.12132 \r\nC 2.683901 1.55874 3 0.795609 3 0 \r\nC 3 -0.795609 2.683901 -1.55874 2.12132 -2.12132 \r\nC 1.55874 -2.683901 0.795609 -3 0 -3 \r\nC -0.795609 -3 -1.55874 -2.683901 -2.12132 -2.12132 \r\nC -2.683901 -1.55874 -3 -0.795609 -3 0 \r\nC -3 0.795609 -2.683901 1.55874 -2.12132 2.12132 \r\nC -1.55874 2.683901 -0.795609 3 0 3 \r\nz\r\n\" id=\"m8678220340\" style=\"stroke:#fbbc04;\"/>\r\n    </defs>\r\n    <g clip-path=\"url(#p44c18282be)\">\r\n     <use style=\"fill:#fbbc04;stroke:#fbbc04;\" x=\"77.6325\" xlink:href=\"#m8678220340\" y=\"196.17861\"/>\r\n     <use style=\"fill:#fbbc04;stroke:#fbbc04;\" x=\"257.6325\" xlink:href=\"#m8678220340\" y=\"156.883204\"/>\r\n     <use style=\"fill:#fbbc04;stroke:#fbbc04;\" x=\"437.6325\" xlink:href=\"#m8678220340\" y=\"158.425663\"/>\r\n     <use style=\"fill:#fbbc04;stroke:#fbbc04;\" x=\"617.6325\" xlink:href=\"#m8678220340\" y=\"157.980603\"/>\r\n     <use style=\"fill:#fbbc04;stroke:#fbbc04;\" x=\"797.6325\" xlink:href=\"#m8678220340\" y=\"158.944487\"/>\r\n    </g>\r\n   </g>\r\n   <g id=\"line2d_189\">\r\n    <path clip-path=\"url(#p44c18282be)\" d=\"M 77.6325 434.223099 \r\nL 257.6325 210.329217 \r\nL 437.6325 34.099038 \r\nL 617.6325 14.24662 \r\nL 797.6325 13.351395 \r\n\" style=\"fill:none;stroke:#34a853;stroke-linecap:square;stroke-width:1.5;\"/>\r\n    <defs>\r\n     <path d=\"M 0 3 \r\nC 0.795609 3 1.55874 2.683901 2.12132 2.12132 \r\nC 2.683901 1.55874 3 0.795609 3 0 \r\nC 3 -0.795609 2.683901 -1.55874 2.12132 -2.12132 \r\nC 1.55874 -2.683901 0.795609 -3 0 -3 \r\nC -0.795609 -3 -1.55874 -2.683901 -2.12132 -2.12132 \r\nC -2.683901 -1.55874 -3 -0.795609 -3 0 \r\nC -3 0.795609 -2.683901 1.55874 -2.12132 2.12132 \r\nC -1.55874 2.683901 -0.795609 3 0 3 \r\nz\r\n\" id=\"m360bd2da3f\" style=\"stroke:#34a853;\"/>\r\n    </defs>\r\n    <g clip-path=\"url(#p44c18282be)\">\r\n     <use style=\"fill:#34a853;stroke:#34a853;\" x=\"77.6325\" xlink:href=\"#m360bd2da3f\" y=\"434.223099\"/>\r\n     <use style=\"fill:#34a853;stroke:#34a853;\" x=\"257.6325\" xlink:href=\"#m360bd2da3f\" y=\"210.329217\"/>\r\n     <use style=\"fill:#34a853;stroke:#34a853;\" x=\"437.6325\" xlink:href=\"#m360bd2da3f\" y=\"34.099038\"/>\r\n     <use style=\"fill:#34a853;stroke:#34a853;\" x=\"617.6325\" xlink:href=\"#m360bd2da3f\" y=\"14.24662\"/>\r\n     <use style=\"fill:#34a853;stroke:#34a853;\" x=\"797.6325\" xlink:href=\"#m360bd2da3f\" y=\"13.351395\"/>\r\n    </g>\r\n   </g>\r\n   <g id=\"line2d_190\">\r\n    <path clip-path=\"url(#p44c18282be)\" d=\"M 77.6325 134.198506 \r\nL 257.6325 107.728938 \r\nL 437.6325 108.253086 \r\nL 617.6325 111.915403 \r\nL 797.6325 112.291027 \r\n\" style=\"fill:none;stroke:#4285f4;stroke-linecap:square;stroke-width:1.5;\"/>\r\n    <defs>\r\n     <path d=\"M 0 3 \r\nC 0.795609 3 1.55874 2.683901 2.12132 2.12132 \r\nC 2.683901 1.55874 3 0.795609 3 0 \r\nC 3 -0.795609 2.683901 -1.55874 2.12132 -2.12132 \r\nC 1.55874 -2.683901 0.795609 -3 0 -3 \r\nC -0.795609 -3 -1.55874 -2.683901 -2.12132 -2.12132 \r\nC -2.683901 -1.55874 -3 -0.795609 -3 0 \r\nC -3 0.795609 -2.683901 1.55874 -2.12132 2.12132 \r\nC -1.55874 2.683901 -0.795609 3 0 3 \r\nz\r\n\" id=\"mf1387d258f\" style=\"stroke:#4285f4;\"/>\r\n    </defs>\r\n    <g clip-path=\"url(#p44c18282be)\">\r\n     <use style=\"fill:#4285f4;stroke:#4285f4;\" x=\"77.6325\" xlink:href=\"#mf1387d258f\" y=\"134.198506\"/>\r\n     <use style=\"fill:#4285f4;stroke:#4285f4;\" x=\"257.6325\" xlink:href=\"#mf1387d258f\" y=\"107.728938\"/>\r\n     <use style=\"fill:#4285f4;stroke:#4285f4;\" x=\"437.6325\" xlink:href=\"#mf1387d258f\" y=\"108.253086\"/>\r\n     <use style=\"fill:#4285f4;stroke:#4285f4;\" x=\"617.6325\" xlink:href=\"#mf1387d258f\" y=\"111.915403\"/>\r\n     <use style=\"fill:#4285f4;stroke:#4285f4;\" x=\"797.6325\" xlink:href=\"#mf1387d258f\" y=\"112.291027\"/>\r\n    </g>\r\n   </g>\r\n   <g id=\"line2d_191\">\r\n    <path clip-path=\"url(#p44c18282be)\" d=\"M 77.6325 170.369659 \r\nL 797.6325 170.369659 \r\n\" style=\"fill:none;stroke:#000000;stroke-linecap:square;stroke-width:1.5;\"/>\r\n   </g>\r\n   <g id=\"patch_3\">\r\n    <path d=\"M 77.6325 445.27875 \r\nL 77.6325 13.27875 \r\n\" style=\"fill:none;stroke:#000000;stroke-linecap:square;stroke-linejoin:miter;stroke-width:0.8;\"/>\r\n   </g>\r\n   <g id=\"patch_4\">\r\n    <path d=\"M 797.6325 445.27875 \r\nL 797.6325 13.27875 \r\n\" style=\"fill:none;stroke:#000000;stroke-linecap:square;stroke-linejoin:miter;stroke-width:0.8;\"/>\r\n   </g>\r\n   <g id=\"patch_5\">\r\n    <path d=\"M 77.6325 445.27875 \r\nL 797.6325 445.27875 \r\n\" style=\"fill:none;stroke:#000000;stroke-linecap:square;stroke-linejoin:miter;stroke-width:0.8;\"/>\r\n   </g>\r\n   <g id=\"patch_6\">\r\n    <path d=\"M 77.6325 13.27875 \r\nL 797.6325 13.27875 \r\n\" style=\"fill:none;stroke:#000000;stroke-linecap:square;stroke-linejoin:miter;stroke-width:0.8;\"/>\r\n   </g>\r\n   <g id=\"legend_1\">\r\n    <g id=\"patch_7\">\r\n     <path d=\"M 424.2775 437.27875 \r\nL 786.4325 437.27875 \r\nQ 789.6325 437.27875 789.6325 434.07875 \r\nL 789.6325 341.73875 \r\nQ 789.6325 338.53875 786.4325 338.53875 \r\nL 424.2775 338.53875 \r\nQ 421.0775 338.53875 421.0775 341.73875 \r\nL 421.0775 434.07875 \r\nQ 421.0775 437.27875 424.2775 437.27875 \r\nz\r\n\" style=\"fill:#ffffff;opacity:0.8;stroke:#cccccc;stroke-linejoin:miter;\"/>\r\n    </g>\r\n    <g id=\"line2d_192\">\r\n     <path d=\"M 427.4775 351.49625 \r\nL 459.4775 351.49625 \r\n\" style=\"fill:none;stroke:#ea4335;stroke-linecap:square;stroke-width:1.5;\"/>\r\n    </g>\r\n    <g id=\"line2d_193\">\r\n     <g>\r\n      <use style=\"fill:#ea4335;stroke:#ea4335;\" x=\"443.4775\" xlink:href=\"#m8879285864\" y=\"351.49625\"/>\r\n     </g>\r\n    </g>\r\n    <g id=\"text_20\">\r\n     <!-- JSD loss (semi-supervised), categorical -->\r\n     <g transform=\"translate(472.2775 357.09625)scale(0.16 -0.16)\">\r\n      <defs>\r\n       <path d=\"M 9.8125 72.90625 \r\nL 19.671875 72.90625 \r\nL 19.671875 5.078125 \r\nQ 19.671875 -8.109375 14.671875 -14.0625 \r\nQ 9.671875 -20.015625 -1.421875 -20.015625 \r\nL -5.171875 -20.015625 \r\nL -5.171875 -11.71875 \r\nL -2.09375 -11.71875 \r\nQ 4.4375 -11.71875 7.125 -8.046875 \r\nQ 9.8125 -4.390625 9.8125 5.078125 \r\nz\r\n\" id=\"DejaVuSans-74\"/>\r\n       <path d=\"M 53.515625 70.515625 \r\nL 53.515625 60.890625 \r\nQ 47.90625 63.578125 42.921875 64.890625 \r\nQ 37.9375 66.21875 33.296875 66.21875 \r\nQ 25.25 66.21875 20.875 63.09375 \r\nQ 16.5 59.96875 16.5 54.203125 \r\nQ 16.5 49.359375 19.40625 46.890625 \r\nQ 22.3125 44.4375 30.421875 42.921875 \r\nL 36.375 41.703125 \r\nQ 47.40625 39.59375 52.65625 34.296875 \r\nQ 57.90625 29 57.90625 20.125 \r\nQ 57.90625 9.515625 50.796875 4.046875 \r\nQ 43.703125 -1.421875 29.984375 -1.421875 \r\nQ 24.8125 -1.421875 18.96875 -0.25 \r\nQ 13.140625 0.921875 6.890625 3.21875 \r\nL 6.890625 13.375 \r\nQ 12.890625 10.015625 18.65625 8.296875 \r\nQ 24.421875 6.59375 29.984375 6.59375 \r\nQ 38.421875 6.59375 43.015625 9.90625 \r\nQ 47.609375 13.234375 47.609375 19.390625 \r\nQ 47.609375 24.75 44.3125 27.78125 \r\nQ 41.015625 30.8125 33.5 32.328125 \r\nL 27.484375 33.5 \r\nQ 16.453125 35.6875 11.515625 40.375 \r\nQ 6.59375 45.0625 6.59375 53.421875 \r\nQ 6.59375 63.09375 13.40625 68.65625 \r\nQ 20.21875 74.21875 32.171875 74.21875 \r\nQ 37.3125 74.21875 42.625 73.28125 \r\nQ 47.953125 72.359375 53.515625 70.515625 \r\nz\r\n\" id=\"DejaVuSans-83\"/>\r\n       <path d=\"M 19.671875 64.796875 \r\nL 19.671875 8.109375 \r\nL 31.59375 8.109375 \r\nQ 46.6875 8.109375 53.6875 14.9375 \r\nQ 60.6875 21.78125 60.6875 36.53125 \r\nQ 60.6875 51.171875 53.6875 57.984375 \r\nQ 46.6875 64.796875 31.59375 64.796875 \r\nz\r\nM 9.8125 72.90625 \r\nL 30.078125 72.90625 \r\nQ 51.265625 72.90625 61.171875 64.09375 \r\nQ 71.09375 55.28125 71.09375 36.53125 \r\nQ 71.09375 17.671875 61.125 8.828125 \r\nQ 51.171875 0 30.078125 0 \r\nL 9.8125 0 \r\nz\r\n\" id=\"DejaVuSans-68\"/>\r\n       <path d=\"M 9.421875 75.984375 \r\nL 18.40625 75.984375 \r\nL 18.40625 0 \r\nL 9.421875 0 \r\nz\r\n\" id=\"DejaVuSans-108\"/>\r\n       <path d=\"M 4.890625 31.390625 \r\nL 31.203125 31.390625 \r\nL 31.203125 23.390625 \r\nL 4.890625 23.390625 \r\nz\r\n\" id=\"DejaVuSans-45\"/>\r\n       <path d=\"M 18.109375 8.203125 \r\nL 18.109375 -20.796875 \r\nL 9.078125 -20.796875 \r\nL 9.078125 54.6875 \r\nL 18.109375 54.6875 \r\nL 18.109375 46.390625 \r\nQ 20.953125 51.265625 25.265625 53.625 \r\nQ 29.59375 56 35.59375 56 \r\nQ 45.5625 56 51.78125 48.09375 \r\nQ 58.015625 40.1875 58.015625 27.296875 \r\nQ 58.015625 14.40625 51.78125 6.484375 \r\nQ 45.5625 -1.421875 35.59375 -1.421875 \r\nQ 29.59375 -1.421875 25.265625 0.953125 \r\nQ 20.953125 3.328125 18.109375 8.203125 \r\nz\r\nM 48.6875 27.296875 \r\nQ 48.6875 37.203125 44.609375 42.84375 \r\nQ 40.53125 48.484375 33.40625 48.484375 \r\nQ 26.265625 48.484375 22.1875 42.84375 \r\nQ 18.109375 37.203125 18.109375 27.296875 \r\nQ 18.109375 17.390625 22.1875 11.75 \r\nQ 26.265625 6.109375 33.40625 6.109375 \r\nQ 40.53125 6.109375 44.609375 11.75 \r\nQ 48.6875 17.390625 48.6875 27.296875 \r\nz\r\n\" id=\"DejaVuSans-112\"/>\r\n       <path d=\"M 11.71875 12.40625 \r\nL 22.015625 12.40625 \r\nL 22.015625 4 \r\nL 14.015625 -11.625 \r\nL 7.71875 -11.625 \r\nL 11.71875 4 \r\nz\r\n\" id=\"DejaVuSans-44\"/>\r\n       <path d=\"M 45.40625 27.984375 \r\nQ 45.40625 37.75 41.375 43.109375 \r\nQ 37.359375 48.484375 30.078125 48.484375 \r\nQ 22.859375 48.484375 18.828125 43.109375 \r\nQ 14.796875 37.75 14.796875 27.984375 \r\nQ 14.796875 18.265625 18.828125 12.890625 \r\nQ 22.859375 7.515625 30.078125 7.515625 \r\nQ 37.359375 7.515625 41.375 12.890625 \r\nQ 45.40625 18.265625 45.40625 27.984375 \r\nz\r\nM 54.390625 6.78125 \r\nQ 54.390625 -7.171875 48.1875 -13.984375 \r\nQ 42 -20.796875 29.203125 -20.796875 \r\nQ 24.46875 -20.796875 20.265625 -20.09375 \r\nQ 16.0625 -19.390625 12.109375 -17.921875 \r\nL 12.109375 -9.1875 \r\nQ 16.0625 -11.328125 19.921875 -12.34375 \r\nQ 23.78125 -13.375 27.78125 -13.375 \r\nQ 36.625 -13.375 41.015625 -8.765625 \r\nQ 45.40625 -4.15625 45.40625 5.171875 \r\nL 45.40625 9.625 \r\nQ 42.625 4.78125 38.28125 2.390625 \r\nQ 33.9375 0 27.875 0 \r\nQ 17.828125 0 11.671875 7.65625 \r\nQ 5.515625 15.328125 5.515625 27.984375 \r\nQ 5.515625 40.671875 11.671875 48.328125 \r\nQ 17.828125 56 27.875 56 \r\nQ 33.9375 56 38.28125 53.609375 \r\nQ 42.625 51.21875 45.40625 46.390625 \r\nL 45.40625 54.6875 \r\nL 54.390625 54.6875 \r\nz\r\n\" id=\"DejaVuSans-103\"/>\r\n      </defs>\r\n      <use xlink:href=\"#DejaVuSans-74\"/>\r\n      <use x=\"29.492188\" xlink:href=\"#DejaVuSans-83\"/>\r\n      <use x=\"92.96875\" xlink:href=\"#DejaVuSans-68\"/>\r\n      <use x=\"169.970703\" xlink:href=\"#DejaVuSans-32\"/>\r\n      <use x=\"201.757812\" xlink:href=\"#DejaVuSans-108\"/>\r\n      <use x=\"229.541016\" xlink:href=\"#DejaVuSans-111\"/>\r\n      <use x=\"290.722656\" xlink:href=\"#DejaVuSans-115\"/>\r\n      <use x=\"342.822266\" xlink:href=\"#DejaVuSans-115\"/>\r\n      <use x=\"394.921875\" xlink:href=\"#DejaVuSans-32\"/>\r\n      <use x=\"426.708984\" xlink:href=\"#DejaVuSans-40\"/>\r\n      <use x=\"465.722656\" xlink:href=\"#DejaVuSans-115\"/>\r\n      <use x=\"517.822266\" xlink:href=\"#DejaVuSans-101\"/>\r\n      <use x=\"579.345703\" xlink:href=\"#DejaVuSans-109\"/>\r\n      <use x=\"676.757812\" xlink:href=\"#DejaVuSans-105\"/>\r\n      <use x=\"704.541016\" xlink:href=\"#DejaVuSans-45\"/>\r\n      <use x=\"740.625\" xlink:href=\"#DejaVuSans-115\"/>\r\n      <use x=\"792.724609\" xlink:href=\"#DejaVuSans-117\"/>\r\n      <use x=\"856.103516\" xlink:href=\"#DejaVuSans-112\"/>\r\n      <use x=\"919.580078\" xlink:href=\"#DejaVuSans-101\"/>\r\n      <use x=\"981.103516\" xlink:href=\"#DejaVuSans-114\"/>\r\n      <use x=\"1022.216797\" xlink:href=\"#DejaVuSans-118\"/>\r\n      <use x=\"1081.396484\" xlink:href=\"#DejaVuSans-105\"/>\r\n      <use x=\"1109.179688\" xlink:href=\"#DejaVuSans-115\"/>\r\n      <use x=\"1161.279297\" xlink:href=\"#DejaVuSans-101\"/>\r\n      <use x=\"1222.802734\" xlink:href=\"#DejaVuSans-100\"/>\r\n      <use x=\"1286.279297\" xlink:href=\"#DejaVuSans-41\"/>\r\n      <use x=\"1325.292969\" xlink:href=\"#DejaVuSans-44\"/>\r\n      <use x=\"1357.080078\" xlink:href=\"#DejaVuSans-32\"/>\r\n      <use x=\"1388.867188\" xlink:href=\"#DejaVuSans-99\"/>\r\n      <use x=\"1443.847656\" xlink:href=\"#DejaVuSans-97\"/>\r\n      <use x=\"1505.126953\" xlink:href=\"#DejaVuSans-116\"/>\r\n      <use x=\"1544.335938\" xlink:href=\"#DejaVuSans-101\"/>\r\n      <use x=\"1605.859375\" xlink:href=\"#DejaVuSans-103\"/>\r\n      <use x=\"1669.335938\" xlink:href=\"#DejaVuSans-111\"/>\r\n      <use x=\"1730.517578\" xlink:href=\"#DejaVuSans-114\"/>\r\n      <use x=\"1771.630859\" xlink:href=\"#DejaVuSans-105\"/>\r\n      <use x=\"1799.414062\" xlink:href=\"#DejaVuSans-99\"/>\r\n      <use x=\"1854.394531\" xlink:href=\"#DejaVuSans-97\"/>\r\n      <use x=\"1915.673828\" xlink:href=\"#DejaVuSans-108\"/>\r\n     </g>\r\n    </g>\r\n    <g id=\"line2d_194\">\r\n     <path d=\"M 427.4775 374.98125 \r\nL 459.4775 374.98125 \r\n\" style=\"fill:none;stroke:#fbbc04;stroke-linecap:square;stroke-width:1.5;\"/>\r\n    </g>\r\n    <g id=\"line2d_195\">\r\n     <g>\r\n      <use style=\"fill:#fbbc04;stroke:#fbbc04;\" x=\"443.4775\" xlink:href=\"#m8678220340\" y=\"374.98125\"/>\r\n     </g>\r\n    </g>\r\n    <g id=\"text_21\">\r\n     <!-- JSD loss (unsupervised), categorical -->\r\n     <g transform=\"translate(472.2775 380.58125)scale(0.16 -0.16)\">\r\n      <use xlink:href=\"#DejaVuSans-74\"/>\r\n      <use x=\"29.492188\" xlink:href=\"#DejaVuSans-83\"/>\r\n      <use x=\"92.96875\" xlink:href=\"#DejaVuSans-68\"/>\r\n      <use x=\"169.970703\" xlink:href=\"#DejaVuSans-32\"/>\r\n      <use x=\"201.757812\" xlink:href=\"#DejaVuSans-108\"/>\r\n      <use x=\"229.541016\" xlink:href=\"#DejaVuSans-111\"/>\r\n      <use x=\"290.722656\" xlink:href=\"#DejaVuSans-115\"/>\r\n      <use x=\"342.822266\" xlink:href=\"#DejaVuSans-115\"/>\r\n      <use x=\"394.921875\" xlink:href=\"#DejaVuSans-32\"/>\r\n      <use x=\"426.708984\" xlink:href=\"#DejaVuSans-40\"/>\r\n      <use x=\"465.722656\" xlink:href=\"#DejaVuSans-117\"/>\r\n      <use x=\"529.101562\" xlink:href=\"#DejaVuSans-110\"/>\r\n      <use x=\"592.480469\" xlink:href=\"#DejaVuSans-115\"/>\r\n      <use x=\"644.580078\" xlink:href=\"#DejaVuSans-117\"/>\r\n      <use x=\"707.958984\" xlink:href=\"#DejaVuSans-112\"/>\r\n      <use x=\"771.435547\" xlink:href=\"#DejaVuSans-101\"/>\r\n      <use x=\"832.958984\" xlink:href=\"#DejaVuSans-114\"/>\r\n      <use x=\"874.072266\" xlink:href=\"#DejaVuSans-118\"/>\r\n      <use x=\"933.251953\" xlink:href=\"#DejaVuSans-105\"/>\r\n      <use x=\"961.035156\" xlink:href=\"#DejaVuSans-115\"/>\r\n      <use x=\"1013.134766\" xlink:href=\"#DejaVuSans-101\"/>\r\n      <use x=\"1074.658203\" xlink:href=\"#DejaVuSans-100\"/>\r\n      <use x=\"1138.134766\" xlink:href=\"#DejaVuSans-41\"/>\r\n      <use x=\"1177.148438\" xlink:href=\"#DejaVuSans-44\"/>\r\n      <use x=\"1208.935547\" xlink:href=\"#DejaVuSans-32\"/>\r\n      <use x=\"1240.722656\" xlink:href=\"#DejaVuSans-99\"/>\r\n      <use x=\"1295.703125\" xlink:href=\"#DejaVuSans-97\"/>\r\n      <use x=\"1356.982422\" xlink:href=\"#DejaVuSans-116\"/>\r\n      <use x=\"1396.191406\" xlink:href=\"#DejaVuSans-101\"/>\r\n      <use x=\"1457.714844\" xlink:href=\"#DejaVuSans-103\"/>\r\n      <use x=\"1521.191406\" xlink:href=\"#DejaVuSans-111\"/>\r\n      <use x=\"1582.373047\" xlink:href=\"#DejaVuSans-114\"/>\r\n      <use x=\"1623.486328\" xlink:href=\"#DejaVuSans-105\"/>\r\n      <use x=\"1651.269531\" xlink:href=\"#DejaVuSans-99\"/>\r\n      <use x=\"1706.25\" xlink:href=\"#DejaVuSans-97\"/>\r\n      <use x=\"1767.529297\" xlink:href=\"#DejaVuSans-108\"/>\r\n     </g>\r\n    </g>\r\n    <g id=\"line2d_196\">\r\n     <path d=\"M 427.4775 398.46625 \r\nL 459.4775 398.46625 \r\n\" style=\"fill:none;stroke:#34a853;stroke-linecap:square;stroke-width:1.5;\"/>\r\n    </g>\r\n    <g id=\"line2d_197\">\r\n     <g>\r\n      <use style=\"fill:#34a853;stroke:#34a853;\" x=\"443.4775\" xlink:href=\"#m360bd2da3f\" y=\"398.46625\"/>\r\n     </g>\r\n    </g>\r\n    <g id=\"text_22\">\r\n     <!-- JSD loss (semi-supervised), continuous -->\r\n     <g transform=\"translate(472.2775 404.06625)scale(0.16 -0.16)\">\r\n      <use xlink:href=\"#DejaVuSans-74\"/>\r\n      <use x=\"29.492188\" xlink:href=\"#DejaVuSans-83\"/>\r\n      <use x=\"92.96875\" xlink:href=\"#DejaVuSans-68\"/>\r\n      <use x=\"169.970703\" xlink:href=\"#DejaVuSans-32\"/>\r\n      <use x=\"201.757812\" xlink:href=\"#DejaVuSans-108\"/>\r\n      <use x=\"229.541016\" xlink:href=\"#DejaVuSans-111\"/>\r\n      <use x=\"290.722656\" xlink:href=\"#DejaVuSans-115\"/>\r\n      <use x=\"342.822266\" xlink:href=\"#DejaVuSans-115\"/>\r\n      <use x=\"394.921875\" xlink:href=\"#DejaVuSans-32\"/>\r\n      <use x=\"426.708984\" xlink:href=\"#DejaVuSans-40\"/>\r\n      <use x=\"465.722656\" xlink:href=\"#DejaVuSans-115\"/>\r\n      <use x=\"517.822266\" xlink:href=\"#DejaVuSans-101\"/>\r\n      <use x=\"579.345703\" xlink:href=\"#DejaVuSans-109\"/>\r\n      <use x=\"676.757812\" xlink:href=\"#DejaVuSans-105\"/>\r\n      <use x=\"704.541016\" xlink:href=\"#DejaVuSans-45\"/>\r\n      <use x=\"740.625\" xlink:href=\"#DejaVuSans-115\"/>\r\n      <use x=\"792.724609\" xlink:href=\"#DejaVuSans-117\"/>\r\n      <use x=\"856.103516\" xlink:href=\"#DejaVuSans-112\"/>\r\n      <use x=\"919.580078\" xlink:href=\"#DejaVuSans-101\"/>\r\n      <use x=\"981.103516\" xlink:href=\"#DejaVuSans-114\"/>\r\n      <use x=\"1022.216797\" xlink:href=\"#DejaVuSans-118\"/>\r\n      <use x=\"1081.396484\" xlink:href=\"#DejaVuSans-105\"/>\r\n      <use x=\"1109.179688\" xlink:href=\"#DejaVuSans-115\"/>\r\n      <use x=\"1161.279297\" xlink:href=\"#DejaVuSans-101\"/>\r\n      <use x=\"1222.802734\" xlink:href=\"#DejaVuSans-100\"/>\r\n      <use x=\"1286.279297\" xlink:href=\"#DejaVuSans-41\"/>\r\n      <use x=\"1325.292969\" xlink:href=\"#DejaVuSans-44\"/>\r\n      <use x=\"1357.080078\" xlink:href=\"#DejaVuSans-32\"/>\r\n      <use x=\"1388.867188\" xlink:href=\"#DejaVuSans-99\"/>\r\n      <use x=\"1443.847656\" xlink:href=\"#DejaVuSans-111\"/>\r\n      <use x=\"1505.029297\" xlink:href=\"#DejaVuSans-110\"/>\r\n      <use x=\"1568.408203\" xlink:href=\"#DejaVuSans-116\"/>\r\n      <use x=\"1607.617188\" xlink:href=\"#DejaVuSans-105\"/>\r\n      <use x=\"1635.400391\" xlink:href=\"#DejaVuSans-110\"/>\r\n      <use x=\"1698.779297\" xlink:href=\"#DejaVuSans-117\"/>\r\n      <use x=\"1762.158203\" xlink:href=\"#DejaVuSans-111\"/>\r\n      <use x=\"1823.339844\" xlink:href=\"#DejaVuSans-117\"/>\r\n      <use x=\"1886.71875\" xlink:href=\"#DejaVuSans-115\"/>\r\n     </g>\r\n    </g>\r\n    <g id=\"line2d_198\">\r\n     <path d=\"M 427.4775 421.95125 \r\nL 459.4775 421.95125 \r\n\" style=\"fill:none;stroke:#4285f4;stroke-linecap:square;stroke-width:1.5;\"/>\r\n    </g>\r\n    <g id=\"line2d_199\">\r\n     <g>\r\n      <use style=\"fill:#4285f4;stroke:#4285f4;\" x=\"443.4775\" xlink:href=\"#mf1387d258f\" y=\"421.95125\"/>\r\n     </g>\r\n    </g>\r\n    <g id=\"text_23\">\r\n     <!-- JSD loss (unsupervised), continuous -->\r\n     <g transform=\"translate(472.2775 427.55125)scale(0.16 -0.16)\">\r\n      <use xlink:href=\"#DejaVuSans-74\"/>\r\n      <use x=\"29.492188\" xlink:href=\"#DejaVuSans-83\"/>\r\n      <use x=\"92.96875\" xlink:href=\"#DejaVuSans-68\"/>\r\n      <use x=\"169.970703\" xlink:href=\"#DejaVuSans-32\"/>\r\n      <use x=\"201.757812\" xlink:href=\"#DejaVuSans-108\"/>\r\n      <use x=\"229.541016\" xlink:href=\"#DejaVuSans-111\"/>\r\n      <use x=\"290.722656\" xlink:href=\"#DejaVuSans-115\"/>\r\n      <use x=\"342.822266\" xlink:href=\"#DejaVuSans-115\"/>\r\n      <use x=\"394.921875\" xlink:href=\"#DejaVuSans-32\"/>\r\n      <use x=\"426.708984\" xlink:href=\"#DejaVuSans-40\"/>\r\n      <use x=\"465.722656\" xlink:href=\"#DejaVuSans-117\"/>\r\n      <use x=\"529.101562\" xlink:href=\"#DejaVuSans-110\"/>\r\n      <use x=\"592.480469\" xlink:href=\"#DejaVuSans-115\"/>\r\n      <use x=\"644.580078\" xlink:href=\"#DejaVuSans-117\"/>\r\n      <use x=\"707.958984\" xlink:href=\"#DejaVuSans-112\"/>\r\n      <use x=\"771.435547\" xlink:href=\"#DejaVuSans-101\"/>\r\n      <use x=\"832.958984\" xlink:href=\"#DejaVuSans-114\"/>\r\n      <use x=\"874.072266\" xlink:href=\"#DejaVuSans-118\"/>\r\n      <use x=\"933.251953\" xlink:href=\"#DejaVuSans-105\"/>\r\n      <use x=\"961.035156\" xlink:href=\"#DejaVuSans-115\"/>\r\n      <use x=\"1013.134766\" xlink:href=\"#DejaVuSans-101\"/>\r\n      <use x=\"1074.658203\" xlink:href=\"#DejaVuSans-100\"/>\r\n      <use x=\"1138.134766\" xlink:href=\"#DejaVuSans-41\"/>\r\n      <use x=\"1177.148438\" xlink:href=\"#DejaVuSans-44\"/>\r\n      <use x=\"1208.935547\" xlink:href=\"#DejaVuSans-32\"/>\r\n      <use x=\"1240.722656\" xlink:href=\"#DejaVuSans-99\"/>\r\n      <use x=\"1295.703125\" xlink:href=\"#DejaVuSans-111\"/>\r\n      <use x=\"1356.884766\" xlink:href=\"#DejaVuSans-110\"/>\r\n      <use x=\"1420.263672\" xlink:href=\"#DejaVuSans-116\"/>\r\n      <use x=\"1459.472656\" xlink:href=\"#DejaVuSans-105\"/>\r\n      <use x=\"1487.255859\" xlink:href=\"#DejaVuSans-110\"/>\r\n      <use x=\"1550.634766\" xlink:href=\"#DejaVuSans-117\"/>\r\n      <use x=\"1614.013672\" xlink:href=\"#DejaVuSans-111\"/>\r\n      <use x=\"1675.195312\" xlink:href=\"#DejaVuSans-117\"/>\r\n      <use x=\"1738.574219\" xlink:href=\"#DejaVuSans-115\"/>\r\n     </g>\r\n    </g>\r\n   </g>\r\n  </g>\r\n </g>\r\n <defs>\r\n  <clipPath id=\"p44c18282be\">\r\n   <rect height=\"432\" width=\"720\" x=\"77.6325\" y=\"13.27875\"/>\r\n  </clipPath>\r\n </defs>\r\n</svg>\r\n",
      "image/png": "[encoded data removed]"
     },
     "metadata": {
      "needs_background": "light"
     }
    }
   ],
   "source": [
    "font = {\n",
    "        # 'family' : 'serif',\n",
    "        # 'serif':'test',\n",
    "        # 'serif': 'cmr10',\n",
    "        # 'serif': 'Latin Modern Roman',\n",
    "        'weight' : 'normal',\n",
    "        'size'   : 16}\n",
    "matplotlib.rc('font', **font)\n",
    "matplotlib.rc('text',usetex=False)\n",
    "for i in range(len(parameters)):\n",
    "# for i in [0,1,2,3]:\n",
    "    if i not in [0,1,2]:\n",
    "        excluded_config_strings=['CCE, SD=4', 'CCEu, SD=4', 'CCE, SD=100','CCEu, SD=100']\n",
    "    else:\n",
    "        excluded_config_strings=[]\n",
    "    plot_vals(i,USE_PLOTLY=False,excluded_config_strings=excluded_config_strings)\n",
    "    plt.savefig(\"pictures/results_fig_\"+ parameters[i] + \".svg\", bbox_inches = 'tight',pad_inches = 0)"
   ]
  },
  {
   "cell_type": "code",
   "execution_count": 39,
   "metadata": {},
   "outputs": [
    {
     "output_type": "display_data",
     "data": {
      "application/vnd.plotly.v1+json": {
       "config": {
        "plotlyServerURL": "https://plot.ly"
       },
       "data": [
        {
         "error_y": {
          "array": [
           0.5938665820889248,
           2.632365908064586,
           2.037178017231882,
           0.9504575140917513,
           0.6098088164236867,
           0.6868639229806984
          ]
         },
         "marker": {
          "color": "#46BDC6"
         },
         "name": "Log loss, categorical",
         "type": "bar",
         "x": [
          "Supervised",
          "Supervised\n(2% labeled)",
          "Semi-\nsupervised\n(unlabeled\ndata first)",
          "Semi-\nsupervised\n(labeled\ndata first)",
          "Semi-\nsupervised\n(mix of\nlabeled and\nunlabeled)",
          "Unsupervised"
         ],
         "y": [
          27.534553385,
          11.409983710416668,
          23.60245240166667,
          -6.552356102166667,
          -3.6133129153333337,
          -6.529911305076922
         ]
        },
        {
         "error_y": {
          "array": [
           0.6263587318948499,
           4.241771260760989,
           1.9634607515115146,
           0.7532004166180015,
           0.6221513839536946,
           0.6325914749928152
          ]
         },
         "marker": {
          "color": "#EA4335"
         },
         "name": "JSD loss, categorical",
         "type": "bar",
         "x": [
          "Supervised",
          "Supervised\n(2% labeled)",
          "Semi-\nsupervised\n(unlabeled\ndata first)",
          "Semi-\nsupervised\n(labeled\ndata first)",
          "Semi-\nsupervised\n(mix of\nlabeled and\nunlabeled)",
          "Unsupervised"
         ],
         "y": [
          45.76821740636364,
          20.814232594545455,
          39.44692890090909,
          7.627339237909092,
          10.919519751818184,
          8.1183966205
         ]
        },
        {
         "error_y": {
          "array": [
           0.0022359159488390752,
           7.485071953330516,
           2.163474772480602,
           0.4133393464479508,
           1.3908771387154748,
           0.27282007276458975
          ]
         },
         "marker": {
          "color": "#800080"
         },
         "name": "Log loss, continuous",
         "type": "bar",
         "x": [
          "Supervised",
          "Supervised\n(2% labeled)",
          "Semi-\nsupervised\n(unlabeled\ndata first)",
          "Semi-\nsupervised\n(labeled\ndata first)",
          "Semi-\nsupervised\n(mix of\nlabeled and\nunlabeled)",
          "Unsupervised"
         ],
         "y": [
          99.987451714,
          -87.38114943299999,
          79.10640127100001,
          4.2534749368,
          20.621876739999998,
          4.5569369201
         ]
        },
        {
         "error_y": {
          "array": [
           0.09165887822767645,
           6.6716378211438405,
           1.2044770728409884,
           0.5440031397896768,
           0.3744722895724989,
           0.4461430964826155
          ]
         },
         "marker": {
          "color": "#34A853"
         },
         "name": "JSD loss, continuous",
         "type": "bar",
         "x": [
          "Supervised",
          "Supervised\n(2% labeled)",
          "Semi-\nsupervised\n(unlabeled\ndata first)",
          "Semi-\nsupervised\n(labeled\ndata first)",
          "Semi-\nsupervised\n(mix of\nlabeled and\nunlabeled)",
          "Unsupervised"
         ],
         "y": [
          99.93097785399999,
          -89.26906691100001,
          88.16175567545454,
          39.465817218999995,
          52.849013528,
          39.67959276083334
         ]
        }
       ],
       "layout": {
        "height": 600,
        "template": {
         "data": {
          "bar": [
           {
            "error_x": {
             "color": "#2a3f5f"
            },
            "error_y": {
             "color": "#2a3f5f"
            },
            "marker": {
             "line": {
              "color": "#E5ECF6",
              "width": 0.5
             }
            },
            "type": "bar"
           }
          ],
          "barpolar": [
           {
            "marker": {
             "line": {
              "color": "#E5ECF6",
              "width": 0.5
             }
            },
            "type": "barpolar"
           }
          ],
          "carpet": [
           {
            "aaxis": {
             "endlinecolor": "#2a3f5f",
             "gridcolor": "white",
             "linecolor": "white",
             "minorgridcolor": "white",
             "startlinecolor": "#2a3f5f"
            },
            "baxis": {
             "endlinecolor": "#2a3f5f",
             "gridcolor": "white",
             "linecolor": "white",
             "minorgridcolor": "white",
             "startlinecolor": "#2a3f5f"
            },
            "type": "carpet"
           }
          ],
          "choropleth": [
           {
            "colorbar": {
             "outlinewidth": 0,
             "ticks": ""
            },
            "type": "choropleth"
           }
          ],
          "contour": [
           {
            "colorbar": {
             "outlinewidth": 0,
             "ticks": ""
            },
            "colorscale": [
             [
              0,
              "#0d0887"
             ],
             [
              0.1111111111111111,
              "#46039f"
             ],
             [
              0.2222222222222222,
              "#7201a8"
             ],
             [
              0.3333333333333333,
              "#9c179e"
             ],
             [
              0.4444444444444444,
              "#bd3786"
             ],
             [
              0.5555555555555556,
              "#d8576b"
             ],
             [
              0.6666666666666666,
              "#ed7953"
             ],
             [
              0.7777777777777778,
              "#fb9f3a"
             ],
             [
              0.8888888888888888,
              "#fdca26"
             ],
             [
              1,
              "#f0f921"
             ]
            ],
            "type": "contour"
           }
          ],
          "contourcarpet": [
           {
            "colorbar": {
             "outlinewidth": 0,
             "ticks": ""
            },
            "type": "contourcarpet"
           }
          ],
          "heatmap": [
           {
            "colorbar": {
             "outlinewidth": 0,
             "ticks": ""
            },
            "colorscale": [
             [
              0,
              "#0d0887"
             ],
             [
              0.1111111111111111,
              "#46039f"
             ],
             [
              0.2222222222222222,
              "#7201a8"
             ],
             [
              0.3333333333333333,
              "#9c179e"
             ],
             [
              0.4444444444444444,
              "#bd3786"
             ],
             [
              0.5555555555555556,
              "#d8576b"
             ],
             [
              0.6666666666666666,
              "#ed7953"
             ],
             [
              0.7777777777777778,
              "#fb9f3a"
             ],
             [
              0.8888888888888888,
              "#fdca26"
             ],
             [
              1,
              "#f0f921"
             ]
            ],
            "type": "heatmap"
           }
          ],
          "heatmapgl": [
           {
            "colorbar": {
             "outlinewidth": 0,
             "ticks": ""
            },
            "colorscale": [
             [
              0,
              "#0d0887"
             ],
             [
              0.1111111111111111,
              "#46039f"
             ],
             [
              0.2222222222222222,
              "#7201a8"
             ],
             [
              0.3333333333333333,
              "#9c179e"
             ],
             [
              0.4444444444444444,
              "#bd3786"
             ],
             [
              0.5555555555555556,
              "#d8576b"
             ],
             [
              0.6666666666666666,
              "#ed7953"
             ],
             [
              0.7777777777777778,
              "#fb9f3a"
             ],
             [
              0.8888888888888888,
              "#fdca26"
             ],
             [
              1,
              "#f0f921"
             ]
            ],
            "type": "heatmapgl"
           }
          ],
          "histogram": [
           {
            "marker": {
             "colorbar": {
              "outlinewidth": 0,
              "ticks": ""
             }
            },
            "type": "histogram"
           }
          ],
          "histogram2d": [
           {
            "colorbar": {
             "outlinewidth": 0,
             "ticks": ""
            },
            "colorscale": [
             [
              0,
              "#0d0887"
             ],
             [
              0.1111111111111111,
              "#46039f"
             ],
             [
              0.2222222222222222,
              "#7201a8"
             ],
             [
              0.3333333333333333,
              "#9c179e"
             ],
             [
              0.4444444444444444,
              "#bd3786"
             ],
             [
              0.5555555555555556,
              "#d8576b"
             ],
             [
              0.6666666666666666,
              "#ed7953"
             ],
             [
              0.7777777777777778,
              "#fb9f3a"
             ],
             [
              0.8888888888888888,
              "#fdca26"
             ],
             [
              1,
              "#f0f921"
             ]
            ],
            "type": "histogram2d"
           }
          ],
          "histogram2dcontour": [
           {
            "colorbar": {
             "outlinewidth": 0,
             "ticks": ""
            },
            "colorscale": [
             [
              0,
              "#0d0887"
             ],
             [
              0.1111111111111111,
              "#46039f"
             ],
             [
              0.2222222222222222,
              "#7201a8"
             ],
             [
              0.3333333333333333,
              "#9c179e"
             ],
             [
              0.4444444444444444,
              "#bd3786"
             ],
             [
              0.5555555555555556,
              "#d8576b"
             ],
             [
              0.6666666666666666,
              "#ed7953"
             ],
             [
              0.7777777777777778,
              "#fb9f3a"
             ],
             [
              0.8888888888888888,
              "#fdca26"
             ],
             [
              1,
              "#f0f921"
             ]
            ],
            "type": "histogram2dcontour"
           }
          ],
          "mesh3d": [
           {
            "colorbar": {
             "outlinewidth": 0,
             "ticks": ""
            },
            "type": "mesh3d"
           }
          ],
          "parcoords": [
           {
            "line": {
             "colorbar": {
              "outlinewidth": 0,
              "ticks": ""
             }
            },
            "type": "parcoords"
           }
          ],
          "pie": [
           {
            "automargin": true,
            "type": "pie"
           }
          ],
          "scatter": [
           {
            "marker": {
             "colorbar": {
              "outlinewidth": 0,
              "ticks": ""
             }
            },
            "type": "scatter"
           }
          ],
          "scatter3d": [
           {
            "line": {
             "colorbar": {
              "outlinewidth": 0,
              "ticks": ""
             }
            },
            "marker": {
             "colorbar": {
              "outlinewidth": 0,
              "ticks": ""
             }
            },
            "type": "scatter3d"
           }
          ],
          "scattercarpet": [
           {
            "marker": {
             "colorbar": {
              "outlinewidth": 0,
              "ticks": ""
             }
            },
            "type": "scattercarpet"
           }
          ],
          "scattergeo": [
           {
            "marker": {
             "colorbar": {
              "outlinewidth": 0,
              "ticks": ""
             }
            },
            "type": "scattergeo"
           }
          ],
          "scattergl": [
           {
            "marker": {
             "colorbar": {
              "outlinewidth": 0,
              "ticks": ""
             }
            },
            "type": "scattergl"
           }
          ],
          "scattermapbox": [
           {
            "marker": {
             "colorbar": {
              "outlinewidth": 0,
              "ticks": ""
             }
            },
            "type": "scattermapbox"
           }
          ],
          "scatterpolar": [
           {
            "marker": {
             "colorbar": {
              "outlinewidth": 0,
              "ticks": ""
             }
            },
            "type": "scatterpolar"
           }
          ],
          "scatterpolargl": [
           {
            "marker": {
             "colorbar": {
              "outlinewidth": 0,
              "ticks": ""
             }
            },
            "type": "scatterpolargl"
           }
          ],
          "scatterternary": [
           {
            "marker": {
             "colorbar": {
              "outlinewidth": 0,
              "ticks": ""
             }
            },
            "type": "scatterternary"
           }
          ],
          "surface": [
           {
            "colorbar": {
             "outlinewidth": 0,
             "ticks": ""
            },
            "colorscale": [
             [
              0,
              "#0d0887"
             ],
             [
              0.1111111111111111,
              "#46039f"
             ],
             [
              0.2222222222222222,
              "#7201a8"
             ],
             [
              0.3333333333333333,
              "#9c179e"
             ],
             [
              0.4444444444444444,
              "#bd3786"
             ],
             [
              0.5555555555555556,
              "#d8576b"
             ],
             [
              0.6666666666666666,
              "#ed7953"
             ],
             [
              0.7777777777777778,
              "#fb9f3a"
             ],
             [
              0.8888888888888888,
              "#fdca26"
             ],
             [
              1,
              "#f0f921"
             ]
            ],
            "type": "surface"
           }
          ],
          "table": [
           {
            "cells": {
             "fill": {
              "color": "#EBF0F8"
             },
             "line": {
              "color": "white"
             }
            },
            "header": {
             "fill": {
              "color": "#C8D4E3"
             },
             "line": {
              "color": "white"
             }
            },
            "type": "table"
           }
          ]
         },
         "layout": {
          "annotationdefaults": {
           "arrowcolor": "#2a3f5f",
           "arrowhead": 0,
           "arrowwidth": 1
          },
          "autotypenumbers": "strict",
          "coloraxis": {
           "colorbar": {
            "outlinewidth": 0,
            "ticks": ""
           }
          },
          "colorscale": {
           "diverging": [
            [
             0,
             "#8e0152"
            ],
            [
             0.1,
             "#c51b7d"
            ],
            [
             0.2,
             "#de77ae"
            ],
            [
             0.3,
             "#f1b6da"
            ],
            [
             0.4,
             "#fde0ef"
            ],
            [
             0.5,
             "#f7f7f7"
            ],
            [
             0.6,
             "#e6f5d0"
            ],
            [
             0.7,
             "#b8e186"
            ],
            [
             0.8,
             "#7fbc41"
            ],
            [
             0.9,
             "#4d9221"
            ],
            [
             1,
             "#276419"
            ]
           ],
           "sequential": [
            [
             0,
             "#0d0887"
            ],
            [
             0.1111111111111111,
             "#46039f"
            ],
            [
             0.2222222222222222,
             "#7201a8"
            ],
            [
             0.3333333333333333,
             "#9c179e"
            ],
            [
             0.4444444444444444,
             "#bd3786"
            ],
            [
             0.5555555555555556,
             "#d8576b"
            ],
            [
             0.6666666666666666,
             "#ed7953"
            ],
            [
             0.7777777777777778,
             "#fb9f3a"
            ],
            [
             0.8888888888888888,
             "#fdca26"
            ],
            [
             1,
             "#f0f921"
            ]
           ],
           "sequentialminus": [
            [
             0,
             "#0d0887"
            ],
            [
             0.1111111111111111,
             "#46039f"
            ],
            [
             0.2222222222222222,
             "#7201a8"
            ],
            [
             0.3333333333333333,
             "#9c179e"
            ],
            [
             0.4444444444444444,
             "#bd3786"
            ],
            [
             0.5555555555555556,
             "#d8576b"
            ],
            [
             0.6666666666666666,
             "#ed7953"
            ],
            [
             0.7777777777777778,
             "#fb9f3a"
            ],
            [
             0.8888888888888888,
             "#fdca26"
            ],
            [
             1,
             "#f0f921"
            ]
           ]
          },
          "colorway": [
           "#636efa",
           "#EF553B",
           "#00cc96",
           "#ab63fa",
           "#FFA15A",
           "#19d3f3",
           "#FF6692",
           "#B6E880",
           "#FF97FF",
           "#FECB52"
          ],
          "font": {
           "color": "#2a3f5f"
          },
          "geo": {
           "bgcolor": "white",
           "lakecolor": "white",
           "landcolor": "#E5ECF6",
           "showlakes": true,
           "showland": true,
           "subunitcolor": "white"
          },
          "hoverlabel": {
           "align": "left"
          },
          "hovermode": "closest",
          "mapbox": {
           "style": "light"
          },
          "paper_bgcolor": "white",
          "plot_bgcolor": "#E5ECF6",
          "polar": {
           "angularaxis": {
            "gridcolor": "white",
            "linecolor": "white",
            "ticks": ""
           },
           "bgcolor": "#E5ECF6",
           "radialaxis": {
            "gridcolor": "white",
            "linecolor": "white",
            "ticks": ""
           }
          },
          "scene": {
           "xaxis": {
            "backgroundcolor": "#E5ECF6",
            "gridcolor": "white",
            "gridwidth": 2,
            "linecolor": "white",
            "showbackground": true,
            "ticks": "",
            "zerolinecolor": "white"
           },
           "yaxis": {
            "backgroundcolor": "#E5ECF6",
            "gridcolor": "white",
            "gridwidth": 2,
            "linecolor": "white",
            "showbackground": true,
            "ticks": "",
            "zerolinecolor": "white"
           },
           "zaxis": {
            "backgroundcolor": "#E5ECF6",
            "gridcolor": "white",
            "gridwidth": 2,
            "linecolor": "white",
            "showbackground": true,
            "ticks": "",
            "zerolinecolor": "white"
           }
          },
          "shapedefaults": {
           "line": {
            "color": "#2a3f5f"
           }
          },
          "ternary": {
           "aaxis": {
            "gridcolor": "white",
            "linecolor": "white",
            "ticks": ""
           },
           "baxis": {
            "gridcolor": "white",
            "linecolor": "white",
            "ticks": ""
           },
           "bgcolor": "#E5ECF6",
           "caxis": {
            "gridcolor": "white",
            "linecolor": "white",
            "ticks": ""
           }
          },
          "title": {
           "x": 0.05
          },
          "xaxis": {
           "automargin": true,
           "gridcolor": "white",
           "linecolor": "white",
           "ticks": "",
           "title": {
            "standoff": 15
           },
           "zerolinecolor": "white",
           "zerolinewidth": 2
          },
          "yaxis": {
           "automargin": true,
           "gridcolor": "white",
           "linecolor": "white",
           "ticks": "",
           "title": {
            "standoff": 15
           },
           "zerolinecolor": "white",
           "zerolinewidth": 2
          }
         }
        },
        "title": {
         "text": "training_method"
        },
        "width": 1000,
        "yaxis": {
         "dtick": 25,
         "range": [
          -175,
          100
         ],
         "tick0": 0
        }
       }
      }
     },
     "metadata": {}
    },
    {
     "output_type": "display_data",
     "data": {
      "application/vnd.plotly.v1+json": {
       "config": {
        "plotlyServerURL": "https://plot.ly"
       },
       "data": [
        {
         "marker": {
          "color": "#46BDC6"
         },
         "mode": "lines+markers",
         "name": "Log loss (semi-supervised), categorical",
         "type": "scatter",
         "x": [
          99,
          50,
          20,
          10,
          5,
          2,
          1,
          0.5,
          0.25,
          0.125,
          0.05,
          0.01
         ],
         "y": [
          27.174325976666665,
          26.79590632333333,
          25.993842466666667,
          25.79578387416667,
          25.382094648333336,
          23.60245240166667,
          22.763876877499996,
          18.1841239475,
          8.996170636250001,
          -4.624547220818181,
          -47.12734886236364,
          -150.8229668481818
         ]
        },
        {
         "line": {
          "width": 0
         },
         "marker": {
          "color": "#46BDC6"
         },
         "mode": "lines",
         "name": "Upper bound",
         "showlegend": false,
         "type": "scatter",
         "x": [
          99,
          50,
          20,
          10,
          5,
          2,
          1,
          0.5,
          0.25,
          0.125,
          0.05,
          0.01
         ],
         "y": [
          27.881616654325796,
          27.38280709990588,
          27.677426995341577,
          26.947180504108236,
          26.86465333404704,
          25.63963041889855,
          25.296117605132032,
          22.103682952399044,
          15.244725552123004,
          3.3869495220912498,
          -19.65689699548035,
          -105.7018635921923
         ]
        },
        {
         "fill": "tonexty",
         "fillcolor": "rgba(70, 189, 198, 0.2)",
         "line": {
          "width": 0
         },
         "marker": {
          "color": "#46BDC6"
         },
         "mode": "lines",
         "name": "Lower bound",
         "showlegend": false,
         "type": "scatter",
         "x": [
          99,
          50,
          20,
          10,
          5,
          2,
          1,
          0.5,
          0.25,
          0.125,
          0.05,
          0.01
         ],
         "y": [
          26.467035299007534,
          26.209005546760782,
          24.310257937991757,
          24.644387244225104,
          23.89953596261963,
          21.56527438443479,
          20.23163614986796,
          14.264564942600957,
          2.7476157203769986,
          -12.636043963727612,
          -74.59780072924693,
          -195.94407010417132
         ]
        },
        {
         "marker": {
          "color": "#EA4335"
         },
         "mode": "lines+markers",
         "name": "JSD loss (semi-supervised), categorical",
         "type": "scatter",
         "x": [
          99,
          50,
          20,
          10,
          5,
          2,
          1,
          0.5,
          0.25,
          0.125,
          0.05,
          0.01
         ],
         "y": [
          45.91633448818181,
          45.31429056545455,
          45.21402724181818,
          44.80629387636364,
          43.41809533727273,
          39.44692890090909,
          33.82666798545454,
          28.886248229090913,
          16.119016079181815,
          -1.1028648556363638,
          -50.5916183,
          -129.04234658272728
         ]
        },
        {
         "line": {
          "width": 0
         },
         "marker": {
          "color": "#EA4335"
         },
         "mode": "lines",
         "name": "Upper bound",
         "showlegend": false,
         "type": "scatter",
         "x": [
          99,
          50,
          20,
          10,
          5,
          2,
          1,
          0.5,
          0.25,
          0.125,
          0.05,
          0.01
         ],
         "y": [
          46.642830934114826,
          45.88059474868057,
          45.83010588800241,
          45.68467121141149,
          44.25873331391965,
          41.410389652420605,
          35.92518293202027,
          32.355657244092036,
          24.088078335889023,
          9.933255199439309,
          -20.228046454365092,
          -99.44154030798971
         ]
        },
        {
         "fill": "tonexty",
         "fillcolor": "rgba(234, 67, 53, 0.2)",
         "line": {
          "width": 0
         },
         "marker": {
          "color": "#EA4335"
         },
         "mode": "lines",
         "name": "Lower bound",
         "showlegend": false,
         "type": "scatter",
         "x": [
          99,
          50,
          20,
          10,
          5,
          2,
          1,
          0.5,
          0.25,
          0.125,
          0.05,
          0.01
         ],
         "y": [
          45.189838042248795,
          44.747986382228525,
          44.59794859563395,
          43.92791654131579,
          42.577457360625814,
          37.48346814939758,
          31.72815303888881,
          25.41683921408979,
          8.149953822474608,
          -12.138984910712036,
          -80.9551901456349,
          -158.64315285746483
         ]
        },
        {
         "marker": {
          "color": "#800080"
         },
         "mode": "lines+markers",
         "name": "Log loss (semi-supervised), continuous",
         "type": "scatter",
         "x": [
          99,
          50,
          20,
          10,
          5,
          2,
          1,
          0.5,
          0.25,
          0.125,
          0.05,
          0.01
         ],
         "y": [
          99.979440429,
          99.782994753,
          99.436978889,
          98.58530540699999,
          95.04715995699999,
          79.10640127100001,
          52.115420736,
          27.039836527,
          3.2613582158,
          -25.223965543000002,
          -66.87100737400002,
          -111.39850210899999
         ]
        },
        {
         "line": {
          "width": 0
         },
         "marker": {
          "color": "#800080"
         },
         "mode": "lines",
         "name": "Upper bound",
         "showlegend": false,
         "type": "scatter",
         "x": [
          99,
          50,
          20,
          10,
          5,
          2,
          1,
          0.5,
          0.25,
          0.125,
          0.05,
          0.01
         ],
         "y": [
          99.99370416179865,
          99.83698836839582,
          99.6684838181967,
          98.91279963014881,
          96.16188275313547,
          81.26987604348061,
          55.24182761584189,
          32.00573199853177,
          8.425889482157682,
          -17.4588519960665,
          -41.46824662081414,
          -83.97106208698749
         ]
        },
        {
         "fill": "tonexty",
         "fillcolor": "rgba(128, 0, 128, 0.2)",
         "line": {
          "width": 0
         },
         "marker": {
          "color": "#800080"
         },
         "mode": "lines",
         "name": "Lower bound",
         "showlegend": false,
         "type": "scatter",
         "x": [
          99,
          50,
          20,
          10,
          5,
          2,
          1,
          0.5,
          0.25,
          0.125,
          0.05,
          0.01
         ],
         "y": [
          99.96517669620134,
          99.72900113760417,
          99.2054739598033,
          98.25781118385117,
          93.93243716086451,
          76.94292649851941,
          48.9890138561581,
          22.073941055468225,
          -1.9031730505576818,
          -32.989079089933504,
          -92.27376812718589,
          -138.82594213101248
         ]
        },
        {
         "marker": {
          "color": "#34A853"
         },
         "mode": "lines+markers",
         "name": "JSD loss (semi-supervised), continuous",
         "type": "scatter",
         "x": [
          99,
          50,
          20,
          10,
          5,
          2,
          1,
          0.5,
          0.25,
          0.125,
          0.05,
          0.01
         ],
         "y": [
          99.95953973727273,
          99.58978412818182,
          99.19515434454546,
          98.03499972090908,
          96.04197812272727,
          88.16175567545454,
          76.1845506790909,
          61.45409742181818,
          38.97524766181818,
          19.266777701272726,
          -6.369666676727272,
          -62.26870797454544
         ]
        },
        {
         "line": {
          "width": 0
         },
         "marker": {
          "color": "#34A853"
         },
         "mode": "lines",
         "name": "Upper bound",
         "showlegend": false,
         "type": "scatter",
         "x": [
          99,
          50,
          20,
          10,
          5,
          2,
          1,
          0.5,
          0.25,
          0.125,
          0.05,
          0.01
         ],
         "y": [
          99.98298745801327,
          99.75888160249907,
          99.36360809455257,
          98.45440228539596,
          96.59563785787789,
          89.36623274829553,
          77.56662476513364,
          64.191227354064,
          43.05675167332575,
          25.716814242360776,
          4.912127878268212,
          -26.63372044200773
         ]
        },
        {
         "fill": "tonexty",
         "fillcolor": "rgba(52, 168, 83, 0.2)",
         "line": {
          "width": 0
         },
         "marker": {
          "color": "#34A853"
         },
         "mode": "lines",
         "name": "Lower bound",
         "showlegend": false,
         "type": "scatter",
         "x": [
          99,
          50,
          20,
          10,
          5,
          2,
          1,
          0.5,
          0.25,
          0.125,
          0.05,
          0.01
         ],
         "y": [
          99.9360920165322,
          99.42068665386456,
          99.02670059453834,
          97.61559715642221,
          95.48831838757665,
          86.95727860261356,
          74.80247659304817,
          58.71696748957237,
          34.89374365031061,
          12.816741160184677,
          -17.651461231722756,
          -97.90369550708316
         ]
        }
       ],
       "layout": {
        "height": 600,
        "template": {
         "data": {
          "bar": [
           {
            "error_x": {
             "color": "#2a3f5f"
            },
            "error_y": {
             "color": "#2a3f5f"
            },
            "marker": {
             "line": {
              "color": "#E5ECF6",
              "width": 0.5
             }
            },
            "type": "bar"
           }
          ],
          "barpolar": [
           {
            "marker": {
             "line": {
              "color": "#E5ECF6",
              "width": 0.5
             }
            },
            "type": "barpolar"
           }
          ],
          "carpet": [
           {
            "aaxis": {
             "endlinecolor": "#2a3f5f",
             "gridcolor": "white",
             "linecolor": "white",
             "minorgridcolor": "white",
             "startlinecolor": "#2a3f5f"
            },
            "baxis": {
             "endlinecolor": "#2a3f5f",
             "gridcolor": "white",
             "linecolor": "white",
             "minorgridcolor": "white",
             "startlinecolor": "#2a3f5f"
            },
            "type": "carpet"
           }
          ],
          "choropleth": [
           {
            "colorbar": {
             "outlinewidth": 0,
             "ticks": ""
            },
            "type": "choropleth"
           }
          ],
          "contour": [
           {
            "colorbar": {
             "outlinewidth": 0,
             "ticks": ""
            },
            "colorscale": [
             [
              0,
              "#0d0887"
             ],
             [
              0.1111111111111111,
              "#46039f"
             ],
             [
              0.2222222222222222,
              "#7201a8"
             ],
             [
              0.3333333333333333,
              "#9c179e"
             ],
             [
              0.4444444444444444,
              "#bd3786"
             ],
             [
              0.5555555555555556,
              "#d8576b"
             ],
             [
              0.6666666666666666,
              "#ed7953"
             ],
             [
              0.7777777777777778,
              "#fb9f3a"
             ],
             [
              0.8888888888888888,
              "#fdca26"
             ],
             [
              1,
              "#f0f921"
             ]
            ],
            "type": "contour"
           }
          ],
          "contourcarpet": [
           {
            "colorbar": {
             "outlinewidth": 0,
             "ticks": ""
            },
            "type": "contourcarpet"
           }
          ],
          "heatmap": [
           {
            "colorbar": {
             "outlinewidth": 0,
             "ticks": ""
            },
            "colorscale": [
             [
              0,
              "#0d0887"
             ],
             [
              0.1111111111111111,
              "#46039f"
             ],
             [
              0.2222222222222222,
              "#7201a8"
             ],
             [
              0.3333333333333333,
              "#9c179e"
             ],
             [
              0.4444444444444444,
              "#bd3786"
             ],
             [
              0.5555555555555556,
              "#d8576b"
             ],
             [
              0.6666666666666666,
              "#ed7953"
             ],
             [
              0.7777777777777778,
              "#fb9f3a"
             ],
             [
              0.8888888888888888,
              "#fdca26"
             ],
             [
              1,
              "#f0f921"
             ]
            ],
            "type": "heatmap"
           }
          ],
          "heatmapgl": [
           {
            "colorbar": {
             "outlinewidth": 0,
             "ticks": ""
            },
            "colorscale": [
             [
              0,
              "#0d0887"
             ],
             [
              0.1111111111111111,
              "#46039f"
             ],
             [
              0.2222222222222222,
              "#7201a8"
             ],
             [
              0.3333333333333333,
              "#9c179e"
             ],
             [
              0.4444444444444444,
              "#bd3786"
             ],
             [
              0.5555555555555556,
              "#d8576b"
             ],
             [
              0.6666666666666666,
              "#ed7953"
             ],
             [
              0.7777777777777778,
              "#fb9f3a"
             ],
             [
              0.8888888888888888,
              "#fdca26"
             ],
             [
              1,
              "#f0f921"
             ]
            ],
            "type": "heatmapgl"
           }
          ],
          "histogram": [
           {
            "marker": {
             "colorbar": {
              "outlinewidth": 0,
              "ticks": ""
             }
            },
            "type": "histogram"
           }
          ],
          "histogram2d": [
           {
            "colorbar": {
             "outlinewidth": 0,
             "ticks": ""
            },
            "colorscale": [
             [
              0,
              "#0d0887"
             ],
             [
              0.1111111111111111,
              "#46039f"
             ],
             [
              0.2222222222222222,
              "#7201a8"
             ],
             [
              0.3333333333333333,
              "#9c179e"
             ],
             [
              0.4444444444444444,
              "#bd3786"
             ],
             [
              0.5555555555555556,
              "#d8576b"
             ],
             [
              0.6666666666666666,
              "#ed7953"
             ],
             [
              0.7777777777777778,
              "#fb9f3a"
             ],
             [
              0.8888888888888888,
              "#fdca26"
             ],
             [
              1,
              "#f0f921"
             ]
            ],
            "type": "histogram2d"
           }
          ],
          "histogram2dcontour": [
           {
            "colorbar": {
             "outlinewidth": 0,
             "ticks": ""
            },
            "colorscale": [
             [
              0,
              "#0d0887"
             ],
             [
              0.1111111111111111,
              "#46039f"
             ],
             [
              0.2222222222222222,
              "#7201a8"
             ],
             [
              0.3333333333333333,
              "#9c179e"
             ],
             [
              0.4444444444444444,
              "#bd3786"
             ],
             [
              0.5555555555555556,
              "#d8576b"
             ],
             [
              0.6666666666666666,
              "#ed7953"
             ],
             [
              0.7777777777777778,
              "#fb9f3a"
             ],
             [
              0.8888888888888888,
              "#fdca26"
             ],
             [
              1,
              "#f0f921"
             ]
            ],
            "type": "histogram2dcontour"
           }
          ],
          "mesh3d": [
           {
            "colorbar": {
             "outlinewidth": 0,
             "ticks": ""
            },
            "type": "mesh3d"
           }
          ],
          "parcoords": [
           {
            "line": {
             "colorbar": {
              "outlinewidth": 0,
              "ticks": ""
             }
            },
            "type": "parcoords"
           }
          ],
          "pie": [
           {
            "automargin": true,
            "type": "pie"
           }
          ],
          "scatter": [
           {
            "marker": {
             "colorbar": {
              "outlinewidth": 0,
              "ticks": ""
             }
            },
            "type": "scatter"
           }
          ],
          "scatter3d": [
           {
            "line": {
             "colorbar": {
              "outlinewidth": 0,
              "ticks": ""
             }
            },
            "marker": {
             "colorbar": {
              "outlinewidth": 0,
              "ticks": ""
             }
            },
            "type": "scatter3d"
           }
          ],
          "scattercarpet": [
           {
            "marker": {
             "colorbar": {
              "outlinewidth": 0,
              "ticks": ""
             }
            },
            "type": "scattercarpet"
           }
          ],
          "scattergeo": [
           {
            "marker": {
             "colorbar": {
              "outlinewidth": 0,
              "ticks": ""
             }
            },
            "type": "scattergeo"
           }
          ],
          "scattergl": [
           {
            "marker": {
             "colorbar": {
              "outlinewidth": 0,
              "ticks": ""
             }
            },
            "type": "scattergl"
           }
          ],
          "scattermapbox": [
           {
            "marker": {
             "colorbar": {
              "outlinewidth": 0,
              "ticks": ""
             }
            },
            "type": "scattermapbox"
           }
          ],
          "scatterpolar": [
           {
            "marker": {
             "colorbar": {
              "outlinewidth": 0,
              "ticks": ""
             }
            },
            "type": "scatterpolar"
           }
          ],
          "scatterpolargl": [
           {
            "marker": {
             "colorbar": {
              "outlinewidth": 0,
              "ticks": ""
             }
            },
            "type": "scatterpolargl"
           }
          ],
          "scatterternary": [
           {
            "marker": {
             "colorbar": {
              "outlinewidth": 0,
              "ticks": ""
             }
            },
            "type": "scatterternary"
           }
          ],
          "surface": [
           {
            "colorbar": {
             "outlinewidth": 0,
             "ticks": ""
            },
            "colorscale": [
             [
              0,
              "#0d0887"
             ],
             [
              0.1111111111111111,
              "#46039f"
             ],
             [
              0.2222222222222222,
              "#7201a8"
             ],
             [
              0.3333333333333333,
              "#9c179e"
             ],
             [
              0.4444444444444444,
              "#bd3786"
             ],
             [
              0.5555555555555556,
              "#d8576b"
             ],
             [
              0.6666666666666666,
              "#ed7953"
             ],
             [
              0.7777777777777778,
              "#fb9f3a"
             ],
             [
              0.8888888888888888,
              "#fdca26"
             ],
             [
              1,
              "#f0f921"
             ]
            ],
            "type": "surface"
           }
          ],
          "table": [
           {
            "cells": {
             "fill": {
              "color": "#EBF0F8"
             },
             "line": {
              "color": "white"
             }
            },
            "header": {
             "fill": {
              "color": "#C8D4E3"
             },
             "line": {
              "color": "white"
             }
            },
            "type": "table"
           }
          ]
         },
         "layout": {
          "annotationdefaults": {
           "arrowcolor": "#2a3f5f",
           "arrowhead": 0,
           "arrowwidth": 1
          },
          "autotypenumbers": "strict",
          "coloraxis": {
           "colorbar": {
            "outlinewidth": 0,
            "ticks": ""
           }
          },
          "colorscale": {
           "diverging": [
            [
             0,
             "#8e0152"
            ],
            [
             0.1,
             "#c51b7d"
            ],
            [
             0.2,
             "#de77ae"
            ],
            [
             0.3,
             "#f1b6da"
            ],
            [
             0.4,
             "#fde0ef"
            ],
            [
             0.5,
             "#f7f7f7"
            ],
            [
             0.6,
             "#e6f5d0"
            ],
            [
             0.7,
             "#b8e186"
            ],
            [
             0.8,
             "#7fbc41"
            ],
            [
             0.9,
             "#4d9221"
            ],
            [
             1,
             "#276419"
            ]
           ],
           "sequential": [
            [
             0,
             "#0d0887"
            ],
            [
             0.1111111111111111,
             "#46039f"
            ],
            [
             0.2222222222222222,
             "#7201a8"
            ],
            [
             0.3333333333333333,
             "#9c179e"
            ],
            [
             0.4444444444444444,
             "#bd3786"
            ],
            [
             0.5555555555555556,
             "#d8576b"
            ],
            [
             0.6666666666666666,
             "#ed7953"
            ],
            [
             0.7777777777777778,
             "#fb9f3a"
            ],
            [
             0.8888888888888888,
             "#fdca26"
            ],
            [
             1,
             "#f0f921"
            ]
           ],
           "sequentialminus": [
            [
             0,
             "#0d0887"
            ],
            [
             0.1111111111111111,
             "#46039f"
            ],
            [
             0.2222222222222222,
             "#7201a8"
            ],
            [
             0.3333333333333333,
             "#9c179e"
            ],
            [
             0.4444444444444444,
             "#bd3786"
            ],
            [
             0.5555555555555556,
             "#d8576b"
            ],
            [
             0.6666666666666666,
             "#ed7953"
            ],
            [
             0.7777777777777778,
             "#fb9f3a"
            ],
            [
             0.8888888888888888,
             "#fdca26"
            ],
            [
             1,
             "#f0f921"
            ]
           ]
          },
          "colorway": [
           "#636efa",
           "#EF553B",
           "#00cc96",
           "#ab63fa",
           "#FFA15A",
           "#19d3f3",
           "#FF6692",
           "#B6E880",
           "#FF97FF",
           "#FECB52"
          ],
          "font": {
           "color": "#2a3f5f"
          },
          "geo": {
           "bgcolor": "white",
           "lakecolor": "white",
           "landcolor": "#E5ECF6",
           "showlakes": true,
           "showland": true,
           "subunitcolor": "white"
          },
          "hoverlabel": {
           "align": "left"
          },
          "hovermode": "closest",
          "mapbox": {
           "style": "light"
          },
          "paper_bgcolor": "white",
          "plot_bgcolor": "#E5ECF6",
          "polar": {
           "angularaxis": {
            "gridcolor": "white",
            "linecolor": "white",
            "ticks": ""
           },
           "bgcolor": "#E5ECF6",
           "radialaxis": {
            "gridcolor": "white",
            "linecolor": "white",
            "ticks": ""
           }
          },
          "scene": {
           "xaxis": {
            "backgroundcolor": "#E5ECF6",
            "gridcolor": "white",
            "gridwidth": 2,
            "linecolor": "white",
            "showbackground": true,
            "ticks": "",
            "zerolinecolor": "white"
           },
           "yaxis": {
            "backgroundcolor": "#E5ECF6",
            "gridcolor": "white",
            "gridwidth": 2,
            "linecolor": "white",
            "showbackground": true,
            "ticks": "",
            "zerolinecolor": "white"
           },
           "zaxis": {
            "backgroundcolor": "#E5ECF6",
            "gridcolor": "white",
            "gridwidth": 2,
            "linecolor": "white",
            "showbackground": true,
            "ticks": "",
            "zerolinecolor": "white"
           }
          },
          "shapedefaults": {
           "line": {
            "color": "#2a3f5f"
           }
          },
          "ternary": {
           "aaxis": {
            "gridcolor": "white",
            "linecolor": "white",
            "ticks": ""
           },
           "baxis": {
            "gridcolor": "white",
            "linecolor": "white",
            "ticks": ""
           },
           "bgcolor": "#E5ECF6",
           "caxis": {
            "gridcolor": "white",
            "linecolor": "white",
            "ticks": ""
           }
          },
          "title": {
           "x": 0.05
          },
          "xaxis": {
           "automargin": true,
           "gridcolor": "white",
           "linecolor": "white",
           "ticks": "",
           "title": {
            "standoff": 15
           },
           "zerolinecolor": "white",
           "zerolinewidth": 2
          },
          "yaxis": {
           "automargin": true,
           "gridcolor": "white",
           "linecolor": "white",
           "ticks": "",
           "title": {
            "standoff": 15
           },
           "zerolinecolor": "white",
           "zerolinewidth": 2
          }
         }
        },
        "title": {
         "text": "labeled_data_percentage"
        },
        "width": 1000,
        "yaxis": {
         "dtick": 25,
         "range": [
          -175,
          100
         ],
         "tick0": 0
        }
       }
      }
     },
     "metadata": {}
    },
    {
     "output_type": "display_data",
     "data": {
      "application/vnd.plotly.v1+json": {
       "config": {
        "plotlyServerURL": "https://plot.ly"
       },
       "data": [
        {
         "marker": {
          "color": "#46BDC6"
         },
         "mode": "lines+markers",
         "name": "Log loss (semi-supervised)",
         "type": "scatter",
         "x": [
          4,
          15,
          25,
          50,
          100,
          150,
          300
         ],
         "y": [
          23.60245240166667,
          93.13206717090908,
          93.41301798090909,
          89.122303845,
          79.10640127100001,
          63.519821259000004,
          20.881238782999997
         ]
        },
        {
         "line": {
          "width": 0
         },
         "marker": {
          "color": "#46BDC6"
         },
         "mode": "lines",
         "name": "Upper bound",
         "showlegend": false,
         "type": "scatter",
         "x": [
          4,
          15,
          25,
          50,
          100,
          150,
          300
         ],
         "y": [
          25.63963041889855,
          94.13702041199464,
          95.23917173482182,
          90.537792645221,
          81.26987604348061,
          64.17691008144594,
          24.710713105930918
         ]
        },
        {
         "fill": "tonexty",
         "fillcolor": "rgba(70, 189, 198, 0.2)",
         "line": {
          "width": 0
         },
         "marker": {
          "color": "#46BDC6"
         },
         "mode": "lines",
         "name": "Lower bound",
         "showlegend": false,
         "type": "scatter",
         "x": [
          4,
          15,
          25,
          50,
          100,
          150,
          300
         ],
         "y": [
          21.56527438443479,
          92.12711392982352,
          91.58686422699635,
          87.706815044779,
          76.94292649851941,
          62.86273243655406,
          17.051764460069077
         ]
        },
        {
         "marker": {
          "color": "#EA4335"
         },
         "mode": "lines+markers",
         "name": "JSD loss (semi-supervised)",
         "type": "scatter",
         "x": [
          4,
          15,
          25,
          50,
          100,
          150,
          300
         ],
         "y": [
          39.44692890090909,
          94.90747879166666,
          94.60219952249999,
          91.640785696,
          88.16175567545454,
          82.50530081,
          -2.0447076193
         ]
        },
        {
         "line": {
          "width": 0
         },
         "marker": {
          "color": "#EA4335"
         },
         "mode": "lines",
         "name": "Upper bound",
         "showlegend": false,
         "type": "scatter",
         "x": [
          4,
          15,
          25,
          50,
          100,
          150,
          300
         ],
         "y": [
          41.410389652420605,
          95.72640661352425,
          95.55283426671122,
          93.25094572635358,
          89.36623274829553,
          84.29618136668078,
          13.935208923278614
         ]
        },
        {
         "fill": "tonexty",
         "fillcolor": "rgba(234, 67, 53, 0.2)",
         "line": {
          "width": 0
         },
         "marker": {
          "color": "#EA4335"
         },
         "mode": "lines",
         "name": "Lower bound",
         "showlegend": false,
         "type": "scatter",
         "x": [
          4,
          15,
          25,
          50,
          100,
          150,
          300
         ],
         "y": [
          37.48346814939758,
          94.08855096980908,
          93.65156477828876,
          90.03062566564641,
          86.95727860261356,
          80.7144202533192,
          -18.024624161878613
         ]
        },
        {
         "marker": {
          "color": "#000000"
         },
         "mode": "lines+markers",
         "name": "Log loss (unsupervised)",
         "type": "scatter",
         "x": [
          4,
          15,
          25,
          50,
          100,
          150,
          300
         ],
         "y": [
          -6.529911305076922,
          3.27418790175,
          4.720025660166667,
          5.7002218094,
          4.5569369201,
          3.7508581731,
          2.6929609867
         ]
        },
        {
         "line": {
          "width": 0
         },
         "marker": {
          "color": "#000000"
         },
         "mode": "lines",
         "name": "Upper bound",
         "showlegend": false,
         "type": "scatter",
         "x": [
          4,
          15,
          25,
          50,
          100,
          150,
          300
         ],
         "y": [
          -5.843047382096223,
          4.369457784652321,
          5.444352397238297,
          6.327245120865215,
          4.82975699286459,
          4.431198932848333,
          3.493840310329511
         ]
        },
        {
         "fill": "tonexty",
         "fillcolor": "rgba(0, 0, 0, 0.2)",
         "line": {
          "width": 0
         },
         "marker": {
          "color": "#000000"
         },
         "mode": "lines",
         "name": "Lower bound",
         "showlegend": false,
         "type": "scatter",
         "x": [
          4,
          15,
          25,
          50,
          100,
          150,
          300
         ],
         "y": [
          -7.216775228057621,
          2.1789180188476793,
          3.995698923095037,
          5.0731984979347855,
          4.28411684733541,
          3.0705174133516673,
          1.8920816630704893
         ]
        },
        {
         "marker": {
          "color": "#FBBC04"
         },
         "mode": "lines+markers",
         "name": "JSD loss (unsupervised)",
         "type": "scatter",
         "x": [
          4,
          15,
          25,
          50,
          100,
          150,
          300
         ],
         "y": [
          8.1183966205,
          35.99628887833334,
          38.17290376166667,
          39.566649117,
          39.67959276083334,
          40.119726643999996,
          -16.432258793600003
         ]
        },
        {
         "line": {
          "width": 0
         },
         "marker": {
          "color": "#FBBC04"
         },
         "mode": "lines",
         "name": "Upper bound",
         "showlegend": false,
         "type": "scatter",
         "x": [
          4,
          15,
          25,
          50,
          100,
          150,
          300
         ],
         "y": [
          8.750988095492815,
          36.79653798066452,
          38.92623350941122,
          39.97186973519335,
          40.12573585731595,
          40.63214183336671,
          -0.15576017908527362
         ]
        },
        {
         "fill": "tonexty",
         "fillcolor": "rgba(251, 188, 4, 0.2)",
         "line": {
          "width": 0
         },
         "marker": {
          "color": "#FBBC04"
         },
         "mode": "lines",
         "name": "Lower bound",
         "showlegend": false,
         "type": "scatter",
         "x": [
          4,
          15,
          25,
          50,
          100,
          150,
          300
         ],
         "y": [
          7.485805145507185,
          35.19603977600216,
          37.419574013922116,
          39.16142849880664,
          39.23344966435072,
          39.60731145463328,
          -32.708757408114735
         ]
        }
       ],
       "layout": {
        "height": 600,
        "template": {
         "data": {
          "bar": [
           {
            "error_x": {
             "color": "#2a3f5f"
            },
            "error_y": {
             "color": "#2a3f5f"
            },
            "marker": {
             "line": {
              "color": "#E5ECF6",
              "width": 0.5
             }
            },
            "type": "bar"
           }
          ],
          "barpolar": [
           {
            "marker": {
             "line": {
              "color": "#E5ECF6",
              "width": 0.5
             }
            },
            "type": "barpolar"
           }
          ],
          "carpet": [
           {
            "aaxis": {
             "endlinecolor": "#2a3f5f",
             "gridcolor": "white",
             "linecolor": "white",
             "minorgridcolor": "white",
             "startlinecolor": "#2a3f5f"
            },
            "baxis": {
             "endlinecolor": "#2a3f5f",
             "gridcolor": "white",
             "linecolor": "white",
             "minorgridcolor": "white",
             "startlinecolor": "#2a3f5f"
            },
            "type": "carpet"
           }
          ],
          "choropleth": [
           {
            "colorbar": {
             "outlinewidth": 0,
             "ticks": ""
            },
            "type": "choropleth"
           }
          ],
          "contour": [
           {
            "colorbar": {
             "outlinewidth": 0,
             "ticks": ""
            },
            "colorscale": [
             [
              0,
              "#0d0887"
             ],
             [
              0.1111111111111111,
              "#46039f"
             ],
             [
              0.2222222222222222,
              "#7201a8"
             ],
             [
              0.3333333333333333,
              "#9c179e"
             ],
             [
              0.4444444444444444,
              "#bd3786"
             ],
             [
              0.5555555555555556,
              "#d8576b"
             ],
             [
              0.6666666666666666,
              "#ed7953"
             ],
             [
              0.7777777777777778,
              "#fb9f3a"
             ],
             [
              0.8888888888888888,
              "#fdca26"
             ],
             [
              1,
              "#f0f921"
             ]
            ],
            "type": "contour"
           }
          ],
          "contourcarpet": [
           {
            "colorbar": {
             "outlinewidth": 0,
             "ticks": ""
            },
            "type": "contourcarpet"
           }
          ],
          "heatmap": [
           {
            "colorbar": {
             "outlinewidth": 0,
             "ticks": ""
            },
            "colorscale": [
             [
              0,
              "#0d0887"
             ],
             [
              0.1111111111111111,
              "#46039f"
             ],
             [
              0.2222222222222222,
              "#7201a8"
             ],
             [
              0.3333333333333333,
              "#9c179e"
             ],
             [
              0.4444444444444444,
              "#bd3786"
             ],
             [
              0.5555555555555556,
              "#d8576b"
             ],
             [
              0.6666666666666666,
              "#ed7953"
             ],
             [
              0.7777777777777778,
              "#fb9f3a"
             ],
             [
              0.8888888888888888,
              "#fdca26"
             ],
             [
              1,
              "#f0f921"
             ]
            ],
            "type": "heatmap"
           }
          ],
          "heatmapgl": [
           {
            "colorbar": {
             "outlinewidth": 0,
             "ticks": ""
            },
            "colorscale": [
             [
              0,
              "#0d0887"
             ],
             [
              0.1111111111111111,
              "#46039f"
             ],
             [
              0.2222222222222222,
              "#7201a8"
             ],
             [
              0.3333333333333333,
              "#9c179e"
             ],
             [
              0.4444444444444444,
              "#bd3786"
             ],
             [
              0.5555555555555556,
              "#d8576b"
             ],
             [
              0.6666666666666666,
              "#ed7953"
             ],
             [
              0.7777777777777778,
              "#fb9f3a"
             ],
             [
              0.8888888888888888,
              "#fdca26"
             ],
             [
              1,
              "#f0f921"
             ]
            ],
            "type": "heatmapgl"
           }
          ],
          "histogram": [
           {
            "marker": {
             "colorbar": {
              "outlinewidth": 0,
              "ticks": ""
             }
            },
            "type": "histogram"
           }
          ],
          "histogram2d": [
           {
            "colorbar": {
             "outlinewidth": 0,
             "ticks": ""
            },
            "colorscale": [
             [
              0,
              "#0d0887"
             ],
             [
              0.1111111111111111,
              "#46039f"
             ],
             [
              0.2222222222222222,
              "#7201a8"
             ],
             [
              0.3333333333333333,
              "#9c179e"
             ],
             [
              0.4444444444444444,
              "#bd3786"
             ],
             [
              0.5555555555555556,
              "#d8576b"
             ],
             [
              0.6666666666666666,
              "#ed7953"
             ],
             [
              0.7777777777777778,
              "#fb9f3a"
             ],
             [
              0.8888888888888888,
              "#fdca26"
             ],
             [
              1,
              "#f0f921"
             ]
            ],
            "type": "histogram2d"
           }
          ],
          "histogram2dcontour": [
           {
            "colorbar": {
             "outlinewidth": 0,
             "ticks": ""
            },
            "colorscale": [
             [
              0,
              "#0d0887"
             ],
             [
              0.1111111111111111,
              "#46039f"
             ],
             [
              0.2222222222222222,
              "#7201a8"
             ],
             [
              0.3333333333333333,
              "#9c179e"
             ],
             [
              0.4444444444444444,
              "#bd3786"
             ],
             [
              0.5555555555555556,
              "#d8576b"
             ],
             [
              0.6666666666666666,
              "#ed7953"
             ],
             [
              0.7777777777777778,
              "#fb9f3a"
             ],
             [
              0.8888888888888888,
              "#fdca26"
             ],
             [
              1,
              "#f0f921"
             ]
            ],
            "type": "histogram2dcontour"
           }
          ],
          "mesh3d": [
           {
            "colorbar": {
             "outlinewidth": 0,
             "ticks": ""
            },
            "type": "mesh3d"
           }
          ],
          "parcoords": [
           {
            "line": {
             "colorbar": {
              "outlinewidth": 0,
              "ticks": ""
             }
            },
            "type": "parcoords"
           }
          ],
          "pie": [
           {
            "automargin": true,
            "type": "pie"
           }
          ],
          "scatter": [
           {
            "marker": {
             "colorbar": {
              "outlinewidth": 0,
              "ticks": ""
             }
            },
            "type": "scatter"
           }
          ],
          "scatter3d": [
           {
            "line": {
             "colorbar": {
              "outlinewidth": 0,
              "ticks": ""
             }
            },
            "marker": {
             "colorbar": {
              "outlinewidth": 0,
              "ticks": ""
             }
            },
            "type": "scatter3d"
           }
          ],
          "scattercarpet": [
           {
            "marker": {
             "colorbar": {
              "outlinewidth": 0,
              "ticks": ""
             }
            },
            "type": "scattercarpet"
           }
          ],
          "scattergeo": [
           {
            "marker": {
             "colorbar": {
              "outlinewidth": 0,
              "ticks": ""
             }
            },
            "type": "scattergeo"
           }
          ],
          "scattergl": [
           {
            "marker": {
             "colorbar": {
              "outlinewidth": 0,
              "ticks": ""
             }
            },
            "type": "scattergl"
           }
          ],
          "scattermapbox": [
           {
            "marker": {
             "colorbar": {
              "outlinewidth": 0,
              "ticks": ""
             }
            },
            "type": "scattermapbox"
           }
          ],
          "scatterpolar": [
           {
            "marker": {
             "colorbar": {
              "outlinewidth": 0,
              "ticks": ""
             }
            },
            "type": "scatterpolar"
           }
          ],
          "scatterpolargl": [
           {
            "marker": {
             "colorbar": {
              "outlinewidth": 0,
              "ticks": ""
             }
            },
            "type": "scatterpolargl"
           }
          ],
          "scatterternary": [
           {
            "marker": {
             "colorbar": {
              "outlinewidth": 0,
              "ticks": ""
             }
            },
            "type": "scatterternary"
           }
          ],
          "surface": [
           {
            "colorbar": {
             "outlinewidth": 0,
             "ticks": ""
            },
            "colorscale": [
             [
              0,
              "#0d0887"
             ],
             [
              0.1111111111111111,
              "#46039f"
             ],
             [
              0.2222222222222222,
              "#7201a8"
             ],
             [
              0.3333333333333333,
              "#9c179e"
             ],
             [
              0.4444444444444444,
              "#bd3786"
             ],
             [
              0.5555555555555556,
              "#d8576b"
             ],
             [
              0.6666666666666666,
              "#ed7953"
             ],
             [
              0.7777777777777778,
              "#fb9f3a"
             ],
             [
              0.8888888888888888,
              "#fdca26"
             ],
             [
              1,
              "#f0f921"
             ]
            ],
            "type": "surface"
           }
          ],
          "table": [
           {
            "cells": {
             "fill": {
              "color": "#EBF0F8"
             },
             "line": {
              "color": "white"
             }
            },
            "header": {
             "fill": {
              "color": "#C8D4E3"
             },
             "line": {
              "color": "white"
             }
            },
            "type": "table"
           }
          ]
         },
         "layout": {
          "annotationdefaults": {
           "arrowcolor": "#2a3f5f",
           "arrowhead": 0,
           "arrowwidth": 1
          },
          "autotypenumbers": "strict",
          "coloraxis": {
           "colorbar": {
            "outlinewidth": 0,
            "ticks": ""
           }
          },
          "colorscale": {
           "diverging": [
            [
             0,
             "#8e0152"
            ],
            [
             0.1,
             "#c51b7d"
            ],
            [
             0.2,
             "#de77ae"
            ],
            [
             0.3,
             "#f1b6da"
            ],
            [
             0.4,
             "#fde0ef"
            ],
            [
             0.5,
             "#f7f7f7"
            ],
            [
             0.6,
             "#e6f5d0"
            ],
            [
             0.7,
             "#b8e186"
            ],
            [
             0.8,
             "#7fbc41"
            ],
            [
             0.9,
             "#4d9221"
            ],
            [
             1,
             "#276419"
            ]
           ],
           "sequential": [
            [
             0,
             "#0d0887"
            ],
            [
             0.1111111111111111,
             "#46039f"
            ],
            [
             0.2222222222222222,
             "#7201a8"
            ],
            [
             0.3333333333333333,
             "#9c179e"
            ],
            [
             0.4444444444444444,
             "#bd3786"
            ],
            [
             0.5555555555555556,
             "#d8576b"
            ],
            [
             0.6666666666666666,
             "#ed7953"
            ],
            [
             0.7777777777777778,
             "#fb9f3a"
            ],
            [
             0.8888888888888888,
             "#fdca26"
            ],
            [
             1,
             "#f0f921"
            ]
           ],
           "sequentialminus": [
            [
             0,
             "#0d0887"
            ],
            [
             0.1111111111111111,
             "#46039f"
            ],
            [
             0.2222222222222222,
             "#7201a8"
            ],
            [
             0.3333333333333333,
             "#9c179e"
            ],
            [
             0.4444444444444444,
             "#bd3786"
            ],
            [
             0.5555555555555556,
             "#d8576b"
            ],
            [
             0.6666666666666666,
             "#ed7953"
            ],
            [
             0.7777777777777778,
             "#fb9f3a"
            ],
            [
             0.8888888888888888,
             "#fdca26"
            ],
            [
             1,
             "#f0f921"
            ]
           ]
          },
          "colorway": [
           "#636efa",
           "#EF553B",
           "#00cc96",
           "#ab63fa",
           "#FFA15A",
           "#19d3f3",
           "#FF6692",
           "#B6E880",
           "#FF97FF",
           "#FECB52"
          ],
          "font": {
           "color": "#2a3f5f"
          },
          "geo": {
           "bgcolor": "white",
           "lakecolor": "white",
           "landcolor": "#E5ECF6",
           "showlakes": true,
           "showland": true,
           "subunitcolor": "white"
          },
          "hoverlabel": {
           "align": "left"
          },
          "hovermode": "closest",
          "mapbox": {
           "style": "light"
          },
          "paper_bgcolor": "white",
          "plot_bgcolor": "#E5ECF6",
          "polar": {
           "angularaxis": {
            "gridcolor": "white",
            "linecolor": "white",
            "ticks": ""
           },
           "bgcolor": "#E5ECF6",
           "radialaxis": {
            "gridcolor": "white",
            "linecolor": "white",
            "ticks": ""
           }
          },
          "scene": {
           "xaxis": {
            "backgroundcolor": "#E5ECF6",
            "gridcolor": "white",
            "gridwidth": 2,
            "linecolor": "white",
            "showbackground": true,
            "ticks": "",
            "zerolinecolor": "white"
           },
           "yaxis": {
            "backgroundcolor": "#E5ECF6",
            "gridcolor": "white",
            "gridwidth": 2,
            "linecolor": "white",
            "showbackground": true,
            "ticks": "",
            "zerolinecolor": "white"
           },
           "zaxis": {
            "backgroundcolor": "#E5ECF6",
            "gridcolor": "white",
            "gridwidth": 2,
            "linecolor": "white",
            "showbackground": true,
            "ticks": "",
            "zerolinecolor": "white"
           }
          },
          "shapedefaults": {
           "line": {
            "color": "#2a3f5f"
           }
          },
          "ternary": {
           "aaxis": {
            "gridcolor": "white",
            "linecolor": "white",
            "ticks": ""
           },
           "baxis": {
            "gridcolor": "white",
            "linecolor": "white",
            "ticks": ""
           },
           "bgcolor": "#E5ECF6",
           "caxis": {
            "gridcolor": "white",
            "linecolor": "white",
            "ticks": ""
           }
          },
          "title": {
           "x": 0.05
          },
          "xaxis": {
           "automargin": true,
           "gridcolor": "white",
           "linecolor": "white",
           "ticks": "",
           "title": {
            "standoff": 15
           },
           "zerolinecolor": "white",
           "zerolinewidth": 2
          },
          "yaxis": {
           "automargin": true,
           "gridcolor": "white",
           "linecolor": "white",
           "ticks": "",
           "title": {
            "standoff": 15
           },
           "zerolinecolor": "white",
           "zerolinewidth": 2
          }
         }
        },
        "title": {
         "text": "sampling_density"
        },
        "width": 1000,
        "yaxis": {
         "dtick": 25,
         "range": [
          -175,
          100
         ],
         "tick0": 0
        }
       }
      }
     },
     "metadata": {}
    },
    {
     "output_type": "display_data",
     "data": {
      "application/vnd.plotly.v1+json": {
       "config": {
        "plotlyServerURL": "https://plot.ly"
       },
       "data": [
        {
         "error_y": {
          "array": [
           1.9634607515115146,
           43.15817848469754,
           1.1647170422071889,
           1.1844079806445087,
           1.2569111519971343
          ]
         },
         "marker": {
          "color": "#EA4335"
         },
         "name": "JSD loss (semi-supervised), categorical",
         "type": "bar",
         "x": [
          "Sin, cos,\nlinear,\nReLU, Swish",
          "ReLU (1x)",
          "ReLU (5x)",
          "Sin, cos,\nlinear",
          "Sin, cos,\nlinear,\nReLU,\nsigmoid"
         ],
         "y": [
          39.44692890090909,
          -41.34104594209091,
          39.05206630818182,
          39.96163016636364,
          40.18608530636364
         ]
        },
        {
         "error_y": {
          "array": [
           0.6325914749928152,
           13.881502300955457,
           0.7986727588840298,
           0.6415873027490984,
           0.7127732833276671
          ]
         },
         "marker": {
          "color": "#FBBC04"
         },
         "name": "JSD loss (unsupervised), categorical",
         "type": "bar",
         "x": [
          "Sin, cos,\nlinear,\nReLU, Swish",
          "ReLU (1x)",
          "ReLU (5x)",
          "Sin, cos,\nlinear",
          "Sin, cos,\nlinear,\nReLU,\nsigmoid"
         ],
         "y": [
          8.1183966205,
          -37.036698058333336,
          7.032957715999999,
          7.252981625,
          7.58824735825
         ]
        },
        {
         "error_y": {
          "array": [
           1.2044770728409884,
           5.1925143444382655,
           1.8386889783509959,
           8.024522693864206,
           1.6831527868107639
          ]
         },
         "marker": {
          "color": "#34A853"
         },
         "name": "JSD loss (semi-supervised), continuous",
         "type": "bar",
         "x": [
          "Sin, cos,\nlinear,\nReLU, Swish",
          "ReLU (1x)",
          "ReLU (5x)",
          "Sin, cos,\nlinear",
          "Sin, cos,\nlinear,\nReLU,\nsigmoid"
         ],
         "y": [
          88.16175567545454,
          -133.91219855,
          89.56821469,
          64.971923195,
          84.376785755
         ]
        },
        {
         "error_y": {
          "array": [
           0.4461430964826155,
           14.331850907972232,
           0.7862479924927964,
           7.164457250704863,
           0.4877024783365159
          ]
         },
         "marker": {
          "color": "#4285F4"
         },
         "name": "JSD loss (unsupervised), continuous",
         "type": "bar",
         "x": [
          "Sin, cos,\nlinear,\nReLU, Swish",
          "ReLU (1x)",
          "ReLU (5x)",
          "Sin, cos,\nlinear",
          "Sin, cos,\nlinear,\nReLU,\nsigmoid"
         ],
         "y": [
          39.67959276083334,
          -146.67475231,
          36.017825681000005,
          40.593582524000006,
          39.521092221
         ]
        }
       ],
       "layout": {
        "height": 600,
        "template": {
         "data": {
          "bar": [
           {
            "error_x": {
             "color": "#2a3f5f"
            },
            "error_y": {
             "color": "#2a3f5f"
            },
            "marker": {
             "line": {
              "color": "#E5ECF6",
              "width": 0.5
             }
            },
            "type": "bar"
           }
          ],
          "barpolar": [
           {
            "marker": {
             "line": {
              "color": "#E5ECF6",
              "width": 0.5
             }
            },
            "type": "barpolar"
           }
          ],
          "carpet": [
           {
            "aaxis": {
             "endlinecolor": "#2a3f5f",
             "gridcolor": "white",
             "linecolor": "white",
             "minorgridcolor": "white",
             "startlinecolor": "#2a3f5f"
            },
            "baxis": {
             "endlinecolor": "#2a3f5f",
             "gridcolor": "white",
             "linecolor": "white",
             "minorgridcolor": "white",
             "startlinecolor": "#2a3f5f"
            },
            "type": "carpet"
           }
          ],
          "choropleth": [
           {
            "colorbar": {
             "outlinewidth": 0,
             "ticks": ""
            },
            "type": "choropleth"
           }
          ],
          "contour": [
           {
            "colorbar": {
             "outlinewidth": 0,
             "ticks": ""
            },
            "colorscale": [
             [
              0,
              "#0d0887"
             ],
             [
              0.1111111111111111,
              "#46039f"
             ],
             [
              0.2222222222222222,
              "#7201a8"
             ],
             [
              0.3333333333333333,
              "#9c179e"
             ],
             [
              0.4444444444444444,
              "#bd3786"
             ],
             [
              0.5555555555555556,
              "#d8576b"
             ],
             [
              0.6666666666666666,
              "#ed7953"
             ],
             [
              0.7777777777777778,
              "#fb9f3a"
             ],
             [
              0.8888888888888888,
              "#fdca26"
             ],
             [
              1,
              "#f0f921"
             ]
            ],
            "type": "contour"
           }
          ],
          "contourcarpet": [
           {
            "colorbar": {
             "outlinewidth": 0,
             "ticks": ""
            },
            "type": "contourcarpet"
           }
          ],
          "heatmap": [
           {
            "colorbar": {
             "outlinewidth": 0,
             "ticks": ""
            },
            "colorscale": [
             [
              0,
              "#0d0887"
             ],
             [
              0.1111111111111111,
              "#46039f"
             ],
             [
              0.2222222222222222,
              "#7201a8"
             ],
             [
              0.3333333333333333,
              "#9c179e"
             ],
             [
              0.4444444444444444,
              "#bd3786"
             ],
             [
              0.5555555555555556,
              "#d8576b"
             ],
             [
              0.6666666666666666,
              "#ed7953"
             ],
             [
              0.7777777777777778,
              "#fb9f3a"
             ],
             [
              0.8888888888888888,
              "#fdca26"
             ],
             [
              1,
              "#f0f921"
             ]
            ],
            "type": "heatmap"
           }
          ],
          "heatmapgl": [
           {
            "colorbar": {
             "outlinewidth": 0,
             "ticks": ""
            },
            "colorscale": [
             [
              0,
              "#0d0887"
             ],
             [
              0.1111111111111111,
              "#46039f"
             ],
             [
              0.2222222222222222,
              "#7201a8"
             ],
             [
              0.3333333333333333,
              "#9c179e"
             ],
             [
              0.4444444444444444,
              "#bd3786"
             ],
             [
              0.5555555555555556,
              "#d8576b"
             ],
             [
              0.6666666666666666,
              "#ed7953"
             ],
             [
              0.7777777777777778,
              "#fb9f3a"
             ],
             [
              0.8888888888888888,
              "#fdca26"
             ],
             [
              1,
              "#f0f921"
             ]
            ],
            "type": "heatmapgl"
           }
          ],
          "histogram": [
           {
            "marker": {
             "colorbar": {
              "outlinewidth": 0,
              "ticks": ""
             }
            },
            "type": "histogram"
           }
          ],
          "histogram2d": [
           {
            "colorbar": {
             "outlinewidth": 0,
             "ticks": ""
            },
            "colorscale": [
             [
              0,
              "#0d0887"
             ],
             [
              0.1111111111111111,
              "#46039f"
             ],
             [
              0.2222222222222222,
              "#7201a8"
             ],
             [
              0.3333333333333333,
              "#9c179e"
             ],
             [
              0.4444444444444444,
              "#bd3786"
             ],
             [
              0.5555555555555556,
              "#d8576b"
             ],
             [
              0.6666666666666666,
              "#ed7953"
             ],
             [
              0.7777777777777778,
              "#fb9f3a"
             ],
             [
              0.8888888888888888,
              "#fdca26"
             ],
             [
              1,
              "#f0f921"
             ]
            ],
            "type": "histogram2d"
           }
          ],
          "histogram2dcontour": [
           {
            "colorbar": {
             "outlinewidth": 0,
             "ticks": ""
            },
            "colorscale": [
             [
              0,
              "#0d0887"
             ],
             [
              0.1111111111111111,
              "#46039f"
             ],
             [
              0.2222222222222222,
              "#7201a8"
             ],
             [
              0.3333333333333333,
              "#9c179e"
             ],
             [
              0.4444444444444444,
              "#bd3786"
             ],
             [
              0.5555555555555556,
              "#d8576b"
             ],
             [
              0.6666666666666666,
              "#ed7953"
             ],
             [
              0.7777777777777778,
              "#fb9f3a"
             ],
             [
              0.8888888888888888,
              "#fdca26"
             ],
             [
              1,
              "#f0f921"
             ]
            ],
            "type": "histogram2dcontour"
           }
          ],
          "mesh3d": [
           {
            "colorbar": {
             "outlinewidth": 0,
             "ticks": ""
            },
            "type": "mesh3d"
           }
          ],
          "parcoords": [
           {
            "line": {
             "colorbar": {
              "outlinewidth": 0,
              "ticks": ""
             }
            },
            "type": "parcoords"
           }
          ],
          "pie": [
           {
            "automargin": true,
            "type": "pie"
           }
          ],
          "scatter": [
           {
            "marker": {
             "colorbar": {
              "outlinewidth": 0,
              "ticks": ""
             }
            },
            "type": "scatter"
           }
          ],
          "scatter3d": [
           {
            "line": {
             "colorbar": {
              "outlinewidth": 0,
              "ticks": ""
             }
            },
            "marker": {
             "colorbar": {
              "outlinewidth": 0,
              "ticks": ""
             }
            },
            "type": "scatter3d"
           }
          ],
          "scattercarpet": [
           {
            "marker": {
             "colorbar": {
              "outlinewidth": 0,
              "ticks": ""
             }
            },
            "type": "scattercarpet"
           }
          ],
          "scattergeo": [
           {
            "marker": {
             "colorbar": {
              "outlinewidth": 0,
              "ticks": ""
             }
            },
            "type": "scattergeo"
           }
          ],
          "scattergl": [
           {
            "marker": {
             "colorbar": {
              "outlinewidth": 0,
              "ticks": ""
             }
            },
            "type": "scattergl"
           }
          ],
          "scattermapbox": [
           {
            "marker": {
             "colorbar": {
              "outlinewidth": 0,
              "ticks": ""
             }
            },
            "type": "scattermapbox"
           }
          ],
          "scatterpolar": [
           {
            "marker": {
             "colorbar": {
              "outlinewidth": 0,
              "ticks": ""
             }
            },
            "type": "scatterpolar"
           }
          ],
          "scatterpolargl": [
           {
            "marker": {
             "colorbar": {
              "outlinewidth": 0,
              "ticks": ""
             }
            },
            "type": "scatterpolargl"
           }
          ],
          "scatterternary": [
           {
            "marker": {
             "colorbar": {
              "outlinewidth": 0,
              "ticks": ""
             }
            },
            "type": "scatterternary"
           }
          ],
          "surface": [
           {
            "colorbar": {
             "outlinewidth": 0,
             "ticks": ""
            },
            "colorscale": [
             [
              0,
              "#0d0887"
             ],
             [
              0.1111111111111111,
              "#46039f"
             ],
             [
              0.2222222222222222,
              "#7201a8"
             ],
             [
              0.3333333333333333,
              "#9c179e"
             ],
             [
              0.4444444444444444,
              "#bd3786"
             ],
             [
              0.5555555555555556,
              "#d8576b"
             ],
             [
              0.6666666666666666,
              "#ed7953"
             ],
             [
              0.7777777777777778,
              "#fb9f3a"
             ],
             [
              0.8888888888888888,
              "#fdca26"
             ],
             [
              1,
              "#f0f921"
             ]
            ],
            "type": "surface"
           }
          ],
          "table": [
           {
            "cells": {
             "fill": {
              "color": "#EBF0F8"
             },
             "line": {
              "color": "white"
             }
            },
            "header": {
             "fill": {
              "color": "#C8D4E3"
             },
             "line": {
              "color": "white"
             }
            },
            "type": "table"
           }
          ]
         },
         "layout": {
          "annotationdefaults": {
           "arrowcolor": "#2a3f5f",
           "arrowhead": 0,
           "arrowwidth": 1
          },
          "autotypenumbers": "strict",
          "coloraxis": {
           "colorbar": {
            "outlinewidth": 0,
            "ticks": ""
           }
          },
          "colorscale": {
           "diverging": [
            [
             0,
             "#8e0152"
            ],
            [
             0.1,
             "#c51b7d"
            ],
            [
             0.2,
             "#de77ae"
            ],
            [
             0.3,
             "#f1b6da"
            ],
            [
             0.4,
             "#fde0ef"
            ],
            [
             0.5,
             "#f7f7f7"
            ],
            [
             0.6,
             "#e6f5d0"
            ],
            [
             0.7,
             "#b8e186"
            ],
            [
             0.8,
             "#7fbc41"
            ],
            [
             0.9,
             "#4d9221"
            ],
            [
             1,
             "#276419"
            ]
           ],
           "sequential": [
            [
             0,
             "#0d0887"
            ],
            [
             0.1111111111111111,
             "#46039f"
            ],
            [
             0.2222222222222222,
             "#7201a8"
            ],
            [
             0.3333333333333333,
             "#9c179e"
            ],
            [
             0.4444444444444444,
             "#bd3786"
            ],
            [
             0.5555555555555556,
             "#d8576b"
            ],
            [
             0.6666666666666666,
             "#ed7953"
            ],
            [
             0.7777777777777778,
             "#fb9f3a"
            ],
            [
             0.8888888888888888,
             "#fdca26"
            ],
            [
             1,
             "#f0f921"
            ]
           ],
           "sequentialminus": [
            [
             0,
             "#0d0887"
            ],
            [
             0.1111111111111111,
             "#46039f"
            ],
            [
             0.2222222222222222,
             "#7201a8"
            ],
            [
             0.3333333333333333,
             "#9c179e"
            ],
            [
             0.4444444444444444,
             "#bd3786"
            ],
            [
             0.5555555555555556,
             "#d8576b"
            ],
            [
             0.6666666666666666,
             "#ed7953"
            ],
            [
             0.7777777777777778,
             "#fb9f3a"
            ],
            [
             0.8888888888888888,
             "#fdca26"
            ],
            [
             1,
             "#f0f921"
            ]
           ]
          },
          "colorway": [
           "#636efa",
           "#EF553B",
           "#00cc96",
           "#ab63fa",
           "#FFA15A",
           "#19d3f3",
           "#FF6692",
           "#B6E880",
           "#FF97FF",
           "#FECB52"
          ],
          "font": {
           "color": "#2a3f5f"
          },
          "geo": {
           "bgcolor": "white",
           "lakecolor": "white",
           "landcolor": "#E5ECF6",
           "showlakes": true,
           "showland": true,
           "subunitcolor": "white"
          },
          "hoverlabel": {
           "align": "left"
          },
          "hovermode": "closest",
          "mapbox": {
           "style": "light"
          },
          "paper_bgcolor": "white",
          "plot_bgcolor": "#E5ECF6",
          "polar": {
           "angularaxis": {
            "gridcolor": "white",
            "linecolor": "white",
            "ticks": ""
           },
           "bgcolor": "#E5ECF6",
           "radialaxis": {
            "gridcolor": "white",
            "linecolor": "white",
            "ticks": ""
           }
          },
          "scene": {
           "xaxis": {
            "backgroundcolor": "#E5ECF6",
            "gridcolor": "white",
            "gridwidth": 2,
            "linecolor": "white",
            "showbackground": true,
            "ticks": "",
            "zerolinecolor": "white"
           },
           "yaxis": {
            "backgroundcolor": "#E5ECF6",
            "gridcolor": "white",
            "gridwidth": 2,
            "linecolor": "white",
            "showbackground": true,
            "ticks": "",
            "zerolinecolor": "white"
           },
           "zaxis": {
            "backgroundcolor": "#E5ECF6",
            "gridcolor": "white",
            "gridwidth": 2,
            "linecolor": "white",
            "showbackground": true,
            "ticks": "",
            "zerolinecolor": "white"
           }
          },
          "shapedefaults": {
           "line": {
            "color": "#2a3f5f"
           }
          },
          "ternary": {
           "aaxis": {
            "gridcolor": "white",
            "linecolor": "white",
            "ticks": ""
           },
           "baxis": {
            "gridcolor": "white",
            "linecolor": "white",
            "ticks": ""
           },
           "bgcolor": "#E5ECF6",
           "caxis": {
            "gridcolor": "white",
            "linecolor": "white",
            "ticks": ""
           }
          },
          "title": {
           "x": 0.05
          },
          "xaxis": {
           "automargin": true,
           "gridcolor": "white",
           "linecolor": "white",
           "ticks": "",
           "title": {
            "standoff": 15
           },
           "zerolinecolor": "white",
           "zerolinewidth": 2
          },
          "yaxis": {
           "automargin": true,
           "gridcolor": "white",
           "linecolor": "white",
           "ticks": "",
           "title": {
            "standoff": 15
           },
           "zerolinecolor": "white",
           "zerolinewidth": 2
          }
         }
        },
        "title": {
         "text": "activation_types"
        },
        "width": 1000,
        "yaxis": {
         "dtick": 25,
         "range": [
          -175,
          100
         ],
         "tick0": 0
        }
       }
      }
     },
     "metadata": {}
    },
    {
     "output_type": "display_data",
     "data": {
      "application/vnd.plotly.v1+json": {
       "config": {
        "plotlyServerURL": "https://plot.ly"
       },
       "data": [
        {
         "error_y": {
          "array": [
           3.4826965216983163,
           1.9634607515115146,
           2.4445287913149443,
           2.193898026526703,
           2.108025408471106,
           2.8763914124400003,
           1.3617504757125005
          ]
         },
         "marker": {
          "color": "#EA4335"
         },
         "name": "JSD loss (semi-supervised), categorical",
         "type": "bar",
         "x": [
          "Dense layer\n(ReLU)",
          "Gaussian\nnoise",
          "Gaussian\ndropout",
          "Square root\nfollowed by\nsoftmax",
          "RBF kernel",
          "1D\nConvolution",
          "VAE\n(Sampling at\nencoder\noutput)"
         ],
         "y": [
          31.96954587818182,
          39.44692890090909,
          34.359162207272725,
          37.71268271909091,
          32.79382982,
          28.474003189999998,
          -128.3780742181818
         ]
        },
        {
         "error_y": {
          "array": [
           0.6140607479145285,
           0.6325914749928152,
           0.5388828754238704,
           0.7268811738799279,
           0.36930577576474494,
           0.5970490922424225,
           1.080956793139138
          ]
         },
         "marker": {
          "color": "#FBBC04"
         },
         "name": "JSD loss (unsupervised), categorical",
         "type": "bar",
         "x": [
          "Dense layer\n(ReLU)",
          "Gaussian\nnoise",
          "Gaussian\ndropout",
          "Square root\nfollowed by\nsoftmax",
          "RBF kernel",
          "1D\nConvolution",
          "VAE\n(Sampling at\nencoder\noutput)"
         ],
         "y": [
          0.7217824770833334,
          8.1183966205,
          0.8357168199999999,
          1.7422370864166667,
          -0.051841571166666656,
          -0.31543248425,
          -129.91626175833335
         ]
        },
        {
         "error_y": {
          "array": [
           2.0479768006852512,
           1.2044770728409884,
           1.2477656289736485,
           10.76864604214432,
           2.8019832507068667,
           1.295738986502207,
           0.5456156864283768
          ]
         },
         "marker": {
          "color": "#34A853"
         },
         "name": "JSD loss (semi-supervised), continuous",
         "type": "bar",
         "x": [
          "Dense layer\n(ReLU)",
          "Gaussian\nnoise",
          "Gaussian\ndropout",
          "Square root\nfollowed by\nsoftmax",
          "RBF kernel",
          "1D\nConvolution",
          "VAE\n(Sampling at\nencoder\noutput)"
         ],
         "y": [
          85.60716337800001,
          88.16175567545454,
          86.695276516,
          -97.844941055,
          82.87459365200002,
          88.05140703800001,
          -311.57846255
         ]
        },
        {
         "error_y": {
          "array": [
           0.6322043782898911,
           0.4461430964826155,
           0.30558046496107893,
           6.395355287062382,
           2.1968145786015065,
           1.3272863103035761,
           0.30174780037399684
          ]
         },
         "marker": {
          "color": "#4285F4"
         },
         "name": "JSD loss (unsupervised), continuous",
         "type": "bar",
         "x": [
          "Dense layer\n(ReLU)",
          "Gaussian\nnoise",
          "Gaussian\ndropout",
          "Square root\nfollowed by\nsoftmax",
          "RBF kernel",
          "1D\nConvolution",
          "VAE\n(Sampling at\nencoder\noutput)"
         ],
         "y": [
          33.140158814,
          39.67959276083334,
          36.428396015,
          -116.26049866999999,
          33.542740265000006,
          33.960609306,
          -312.10545026
         ]
        }
       ],
       "layout": {
        "height": 600,
        "template": {
         "data": {
          "bar": [
           {
            "error_x": {
             "color": "#2a3f5f"
            },
            "error_y": {
             "color": "#2a3f5f"
            },
            "marker": {
             "line": {
              "color": "#E5ECF6",
              "width": 0.5
             }
            },
            "type": "bar"
           }
          ],
          "barpolar": [
           {
            "marker": {
             "line": {
              "color": "#E5ECF6",
              "width": 0.5
             }
            },
            "type": "barpolar"
           }
          ],
          "carpet": [
           {
            "aaxis": {
             "endlinecolor": "#2a3f5f",
             "gridcolor": "white",
             "linecolor": "white",
             "minorgridcolor": "white",
             "startlinecolor": "#2a3f5f"
            },
            "baxis": {
             "endlinecolor": "#2a3f5f",
             "gridcolor": "white",
             "linecolor": "white",
             "minorgridcolor": "white",
             "startlinecolor": "#2a3f5f"
            },
            "type": "carpet"
           }
          ],
          "choropleth": [
           {
            "colorbar": {
             "outlinewidth": 0,
             "ticks": ""
            },
            "type": "choropleth"
           }
          ],
          "contour": [
           {
            "colorbar": {
             "outlinewidth": 0,
             "ticks": ""
            },
            "colorscale": [
             [
              0,
              "#0d0887"
             ],
             [
              0.1111111111111111,
              "#46039f"
             ],
             [
              0.2222222222222222,
              "#7201a8"
             ],
             [
              0.3333333333333333,
              "#9c179e"
             ],
             [
              0.4444444444444444,
              "#bd3786"
             ],
             [
              0.5555555555555556,
              "#d8576b"
             ],
             [
              0.6666666666666666,
              "#ed7953"
             ],
             [
              0.7777777777777778,
              "#fb9f3a"
             ],
             [
              0.8888888888888888,
              "#fdca26"
             ],
             [
              1,
              "#f0f921"
             ]
            ],
            "type": "contour"
           }
          ],
          "contourcarpet": [
           {
            "colorbar": {
             "outlinewidth": 0,
             "ticks": ""
            },
            "type": "contourcarpet"
           }
          ],
          "heatmap": [
           {
            "colorbar": {
             "outlinewidth": 0,
             "ticks": ""
            },
            "colorscale": [
             [
              0,
              "#0d0887"
             ],
             [
              0.1111111111111111,
              "#46039f"
             ],
             [
              0.2222222222222222,
              "#7201a8"
             ],
             [
              0.3333333333333333,
              "#9c179e"
             ],
             [
              0.4444444444444444,
              "#bd3786"
             ],
             [
              0.5555555555555556,
              "#d8576b"
             ],
             [
              0.6666666666666666,
              "#ed7953"
             ],
             [
              0.7777777777777778,
              "#fb9f3a"
             ],
             [
              0.8888888888888888,
              "#fdca26"
             ],
             [
              1,
              "#f0f921"
             ]
            ],
            "type": "heatmap"
           }
          ],
          "heatmapgl": [
           {
            "colorbar": {
             "outlinewidth": 0,
             "ticks": ""
            },
            "colorscale": [
             [
              0,
              "#0d0887"
             ],
             [
              0.1111111111111111,
              "#46039f"
             ],
             [
              0.2222222222222222,
              "#7201a8"
             ],
             [
              0.3333333333333333,
              "#9c179e"
             ],
             [
              0.4444444444444444,
              "#bd3786"
             ],
             [
              0.5555555555555556,
              "#d8576b"
             ],
             [
              0.6666666666666666,
              "#ed7953"
             ],
             [
              0.7777777777777778,
              "#fb9f3a"
             ],
             [
              0.8888888888888888,
              "#fdca26"
             ],
             [
              1,
              "#f0f921"
             ]
            ],
            "type": "heatmapgl"
           }
          ],
          "histogram": [
           {
            "marker": {
             "colorbar": {
              "outlinewidth": 0,
              "ticks": ""
             }
            },
            "type": "histogram"
           }
          ],
          "histogram2d": [
           {
            "colorbar": {
             "outlinewidth": 0,
             "ticks": ""
            },
            "colorscale": [
             [
              0,
              "#0d0887"
             ],
             [
              0.1111111111111111,
              "#46039f"
             ],
             [
              0.2222222222222222,
              "#7201a8"
             ],
             [
              0.3333333333333333,
              "#9c179e"
             ],
             [
              0.4444444444444444,
              "#bd3786"
             ],
             [
              0.5555555555555556,
              "#d8576b"
             ],
             [
              0.6666666666666666,
              "#ed7953"
             ],
             [
              0.7777777777777778,
              "#fb9f3a"
             ],
             [
              0.8888888888888888,
              "#fdca26"
             ],
             [
              1,
              "#f0f921"
             ]
            ],
            "type": "histogram2d"
           }
          ],
          "histogram2dcontour": [
           {
            "colorbar": {
             "outlinewidth": 0,
             "ticks": ""
            },
            "colorscale": [
             [
              0,
              "#0d0887"
             ],
             [
              0.1111111111111111,
              "#46039f"
             ],
             [
              0.2222222222222222,
              "#7201a8"
             ],
             [
              0.3333333333333333,
              "#9c179e"
             ],
             [
              0.4444444444444444,
              "#bd3786"
             ],
             [
              0.5555555555555556,
              "#d8576b"
             ],
             [
              0.6666666666666666,
              "#ed7953"
             ],
             [
              0.7777777777777778,
              "#fb9f3a"
             ],
             [
              0.8888888888888888,
              "#fdca26"
             ],
             [
              1,
              "#f0f921"
             ]
            ],
            "type": "histogram2dcontour"
           }
          ],
          "mesh3d": [
           {
            "colorbar": {
             "outlinewidth": 0,
             "ticks": ""
            },
            "type": "mesh3d"
           }
          ],
          "parcoords": [
           {
            "line": {
             "colorbar": {
              "outlinewidth": 0,
              "ticks": ""
             }
            },
            "type": "parcoords"
           }
          ],
          "pie": [
           {
            "automargin": true,
            "type": "pie"
           }
          ],
          "scatter": [
           {
            "marker": {
             "colorbar": {
              "outlinewidth": 0,
              "ticks": ""
             }
            },
            "type": "scatter"
           }
          ],
          "scatter3d": [
           {
            "line": {
             "colorbar": {
              "outlinewidth": 0,
              "ticks": ""
             }
            },
            "marker": {
             "colorbar": {
              "outlinewidth": 0,
              "ticks": ""
             }
            },
            "type": "scatter3d"
           }
          ],
          "scattercarpet": [
           {
            "marker": {
             "colorbar": {
              "outlinewidth": 0,
              "ticks": ""
             }
            },
            "type": "scattercarpet"
           }
          ],
          "scattergeo": [
           {
            "marker": {
             "colorbar": {
              "outlinewidth": 0,
              "ticks": ""
             }
            },
            "type": "scattergeo"
           }
          ],
          "scattergl": [
           {
            "marker": {
             "colorbar": {
              "outlinewidth": 0,
              "ticks": ""
             }
            },
            "type": "scattergl"
           }
          ],
          "scattermapbox": [
           {
            "marker": {
             "colorbar": {
              "outlinewidth": 0,
              "ticks": ""
             }
            },
            "type": "scattermapbox"
           }
          ],
          "scatterpolar": [
           {
            "marker": {
             "colorbar": {
              "outlinewidth": 0,
              "ticks": ""
             }
            },
            "type": "scatterpolar"
           }
          ],
          "scatterpolargl": [
           {
            "marker": {
             "colorbar": {
              "outlinewidth": 0,
              "ticks": ""
             }
            },
            "type": "scatterpolargl"
           }
          ],
          "scatterternary": [
           {
            "marker": {
             "colorbar": {
              "outlinewidth": 0,
              "ticks": ""
             }
            },
            "type": "scatterternary"
           }
          ],
          "surface": [
           {
            "colorbar": {
             "outlinewidth": 0,
             "ticks": ""
            },
            "colorscale": [
             [
              0,
              "#0d0887"
             ],
             [
              0.1111111111111111,
              "#46039f"
             ],
             [
              0.2222222222222222,
              "#7201a8"
             ],
             [
              0.3333333333333333,
              "#9c179e"
             ],
             [
              0.4444444444444444,
              "#bd3786"
             ],
             [
              0.5555555555555556,
              "#d8576b"
             ],
             [
              0.6666666666666666,
              "#ed7953"
             ],
             [
              0.7777777777777778,
              "#fb9f3a"
             ],
             [
              0.8888888888888888,
              "#fdca26"
             ],
             [
              1,
              "#f0f921"
             ]
            ],
            "type": "surface"
           }
          ],
          "table": [
           {
            "cells": {
             "fill": {
              "color": "#EBF0F8"
             },
             "line": {
              "color": "white"
             }
            },
            "header": {
             "fill": {
              "color": "#C8D4E3"
             },
             "line": {
              "color": "white"
             }
            },
            "type": "table"
           }
          ]
         },
         "layout": {
          "annotationdefaults": {
           "arrowcolor": "#2a3f5f",
           "arrowhead": 0,
           "arrowwidth": 1
          },
          "autotypenumbers": "strict",
          "coloraxis": {
           "colorbar": {
            "outlinewidth": 0,
            "ticks": ""
           }
          },
          "colorscale": {
           "diverging": [
            [
             0,
             "#8e0152"
            ],
            [
             0.1,
             "#c51b7d"
            ],
            [
             0.2,
             "#de77ae"
            ],
            [
             0.3,
             "#f1b6da"
            ],
            [
             0.4,
             "#fde0ef"
            ],
            [
             0.5,
             "#f7f7f7"
            ],
            [
             0.6,
             "#e6f5d0"
            ],
            [
             0.7,
             "#b8e186"
            ],
            [
             0.8,
             "#7fbc41"
            ],
            [
             0.9,
             "#4d9221"
            ],
            [
             1,
             "#276419"
            ]
           ],
           "sequential": [
            [
             0,
             "#0d0887"
            ],
            [
             0.1111111111111111,
             "#46039f"
            ],
            [
             0.2222222222222222,
             "#7201a8"
            ],
            [
             0.3333333333333333,
             "#9c179e"
            ],
            [
             0.4444444444444444,
             "#bd3786"
            ],
            [
             0.5555555555555556,
             "#d8576b"
            ],
            [
             0.6666666666666666,
             "#ed7953"
            ],
            [
             0.7777777777777778,
             "#fb9f3a"
            ],
            [
             0.8888888888888888,
             "#fdca26"
            ],
            [
             1,
             "#f0f921"
            ]
           ],
           "sequentialminus": [
            [
             0,
             "#0d0887"
            ],
            [
             0.1111111111111111,
             "#46039f"
            ],
            [
             0.2222222222222222,
             "#7201a8"
            ],
            [
             0.3333333333333333,
             "#9c179e"
            ],
            [
             0.4444444444444444,
             "#bd3786"
            ],
            [
             0.5555555555555556,
             "#d8576b"
            ],
            [
             0.6666666666666666,
             "#ed7953"
            ],
            [
             0.7777777777777778,
             "#fb9f3a"
            ],
            [
             0.8888888888888888,
             "#fdca26"
            ],
            [
             1,
             "#f0f921"
            ]
           ]
          },
          "colorway": [
           "#636efa",
           "#EF553B",
           "#00cc96",
           "#ab63fa",
           "#FFA15A",
           "#19d3f3",
           "#FF6692",
           "#B6E880",
           "#FF97FF",
           "#FECB52"
          ],
          "font": {
           "color": "#2a3f5f"
          },
          "geo": {
           "bgcolor": "white",
           "lakecolor": "white",
           "landcolor": "#E5ECF6",
           "showlakes": true,
           "showland": true,
           "subunitcolor": "white"
          },
          "hoverlabel": {
           "align": "left"
          },
          "hovermode": "closest",
          "mapbox": {
           "style": "light"
          },
          "paper_bgcolor": "white",
          "plot_bgcolor": "#E5ECF6",
          "polar": {
           "angularaxis": {
            "gridcolor": "white",
            "linecolor": "white",
            "ticks": ""
           },
           "bgcolor": "#E5ECF6",
           "radialaxis": {
            "gridcolor": "white",
            "linecolor": "white",
            "ticks": ""
           }
          },
          "scene": {
           "xaxis": {
            "backgroundcolor": "#E5ECF6",
            "gridcolor": "white",
            "gridwidth": 2,
            "linecolor": "white",
            "showbackground": true,
            "ticks": "",
            "zerolinecolor": "white"
           },
           "yaxis": {
            "backgroundcolor": "#E5ECF6",
            "gridcolor": "white",
            "gridwidth": 2,
            "linecolor": "white",
            "showbackground": true,
            "ticks": "",
            "zerolinecolor": "white"
           },
           "zaxis": {
            "backgroundcolor": "#E5ECF6",
            "gridcolor": "white",
            "gridwidth": 2,
            "linecolor": "white",
            "showbackground": true,
            "ticks": "",
            "zerolinecolor": "white"
           }
          },
          "shapedefaults": {
           "line": {
            "color": "#2a3f5f"
           }
          },
          "ternary": {
           "aaxis": {
            "gridcolor": "white",
            "linecolor": "white",
            "ticks": ""
           },
           "baxis": {
            "gridcolor": "white",
            "linecolor": "white",
            "ticks": ""
           },
           "bgcolor": "#E5ECF6",
           "caxis": {
            "gridcolor": "white",
            "linecolor": "white",
            "ticks": ""
           }
          },
          "title": {
           "x": 0.05
          },
          "xaxis": {
           "automargin": true,
           "gridcolor": "white",
           "linecolor": "white",
           "ticks": "",
           "title": {
            "standoff": 15
           },
           "zerolinecolor": "white",
           "zerolinewidth": 2
          },
          "yaxis": {
           "automargin": true,
           "gridcolor": "white",
           "linecolor": "white",
           "ticks": "",
           "title": {
            "standoff": 15
           },
           "zerolinecolor": "white",
           "zerolinewidth": 2
          }
         }
        },
        "title": {
         "text": "input_layer_type"
        },
        "width": 1000,
        "yaxis": {
         "dtick": 25,
         "range": [
          -175,
          100
         ],
         "tick0": 0
        }
       }
      }
     },
     "metadata": {}
    },
    {
     "output_type": "display_data",
     "data": {
      "application/vnd.plotly.v1+json": {
       "config": {
        "plotlyServerURL": "https://plot.ly"
       },
       "data": [
        {
         "marker": {
          "color": "#EA4335"
         },
         "mode": "lines+markers",
         "name": "JSD loss (semi-supervised), categorical",
         "type": "scatter",
         "x": [
          2,
          3,
          6
         ],
         "y": [
          39.011123510000004,
          39.44692890090909,
          40.69295669454545
         ]
        },
        {
         "line": {
          "width": 0
         },
         "marker": {
          "color": "#EA4335"
         },
         "mode": "lines",
         "name": "Upper bound",
         "showlegend": false,
         "type": "scatter",
         "x": [
          2,
          3,
          6
         ],
         "y": [
          40.32653300717644,
          41.410389652420605,
          41.82555212606784
         ]
        },
        {
         "fill": "tonexty",
         "fillcolor": "rgba(234, 67, 53, 0.2)",
         "line": {
          "width": 0
         },
         "marker": {
          "color": "#EA4335"
         },
         "mode": "lines",
         "name": "Lower bound",
         "showlegend": false,
         "type": "scatter",
         "x": [
          2,
          3,
          6
         ],
         "y": [
          37.69571401282357,
          37.48346814939758,
          39.56036126302306
         ]
        },
        {
         "marker": {
          "color": "#FBBC04"
         },
         "mode": "lines+markers",
         "name": "JSD loss (unsupervised), categorical",
         "type": "scatter",
         "x": [
          2,
          3,
          6
         ],
         "y": [
          7.158151185083334,
          8.1183966205,
          7.830605538583334
         ]
        },
        {
         "line": {
          "width": 0
         },
         "marker": {
          "color": "#FBBC04"
         },
         "mode": "lines",
         "name": "Upper bound",
         "showlegend": false,
         "type": "scatter",
         "x": [
          2,
          3,
          6
         ],
         "y": [
          7.5530580405830126,
          8.750988095492815,
          8.53946275446701
         ]
        },
        {
         "fill": "tonexty",
         "fillcolor": "rgba(251, 188, 4, 0.2)",
         "line": {
          "width": 0
         },
         "marker": {
          "color": "#FBBC04"
         },
         "mode": "lines",
         "name": "Lower bound",
         "showlegend": false,
         "type": "scatter",
         "x": [
          2,
          3,
          6
         ],
         "y": [
          6.763244329583655,
          7.485805145507185,
          7.121748322699658
         ]
        },
        {
         "marker": {
          "color": "#34A853"
         },
         "mode": "lines+markers",
         "name": "JSD loss (semi-supervised), continuous",
         "type": "scatter",
         "x": [
          2,
          3,
          6
         ],
         "y": [
          78.17994245499999,
          88.16175567545454,
          90.654250881
         ]
        },
        {
         "line": {
          "width": 0
         },
         "marker": {
          "color": "#34A853"
         },
         "mode": "lines",
         "name": "Upper bound",
         "showlegend": false,
         "type": "scatter",
         "x": [
          2,
          3,
          6
         ],
         "y": [
          82.65236690417055,
          89.36623274829553,
          92.06191792455749
         ]
        },
        {
         "fill": "tonexty",
         "fillcolor": "rgba(52, 168, 83, 0.2)",
         "line": {
          "width": 0
         },
         "marker": {
          "color": "#34A853"
         },
         "mode": "lines",
         "name": "Lower bound",
         "showlegend": false,
         "type": "scatter",
         "x": [
          2,
          3,
          6
         ],
         "y": [
          73.70751800582943,
          86.95727860261356,
          89.2465838374425
         ]
        },
        {
         "marker": {
          "color": "#4285F4"
         },
         "mode": "lines+markers",
         "name": "JSD loss (unsupervised), continuous",
         "type": "scatter",
         "x": [
          2,
          3,
          6
         ],
         "y": [
          39.444400882000004,
          39.67959276083334,
          38.301261548
         ]
        },
        {
         "line": {
          "width": 0
         },
         "marker": {
          "color": "#4285F4"
         },
         "mode": "lines",
         "name": "Upper bound",
         "showlegend": false,
         "type": "scatter",
         "x": [
          2,
          3,
          6
         ],
         "y": [
          44.91701866459806,
          40.12573585731595,
          38.787321019526885
         ]
        },
        {
         "fill": "tonexty",
         "fillcolor": "rgba(66, 133, 244, 0.2)",
         "line": {
          "width": 0
         },
         "marker": {
          "color": "#4285F4"
         },
         "mode": "lines",
         "name": "Lower bound",
         "showlegend": false,
         "type": "scatter",
         "x": [
          2,
          3,
          6
         ],
         "y": [
          33.97178309940195,
          39.23344966435072,
          37.81520207647311
         ]
        }
       ],
       "layout": {
        "height": 600,
        "template": {
         "data": {
          "bar": [
           {
            "error_x": {
             "color": "#2a3f5f"
            },
            "error_y": {
             "color": "#2a3f5f"
            },
            "marker": {
             "line": {
              "color": "#E5ECF6",
              "width": 0.5
             }
            },
            "type": "bar"
           }
          ],
          "barpolar": [
           {
            "marker": {
             "line": {
              "color": "#E5ECF6",
              "width": 0.5
             }
            },
            "type": "barpolar"
           }
          ],
          "carpet": [
           {
            "aaxis": {
             "endlinecolor": "#2a3f5f",
             "gridcolor": "white",
             "linecolor": "white",
             "minorgridcolor": "white",
             "startlinecolor": "#2a3f5f"
            },
            "baxis": {
             "endlinecolor": "#2a3f5f",
             "gridcolor": "white",
             "linecolor": "white",
             "minorgridcolor": "white",
             "startlinecolor": "#2a3f5f"
            },
            "type": "carpet"
           }
          ],
          "choropleth": [
           {
            "colorbar": {
             "outlinewidth": 0,
             "ticks": ""
            },
            "type": "choropleth"
           }
          ],
          "contour": [
           {
            "colorbar": {
             "outlinewidth": 0,
             "ticks": ""
            },
            "colorscale": [
             [
              0,
              "#0d0887"
             ],
             [
              0.1111111111111111,
              "#46039f"
             ],
             [
              0.2222222222222222,
              "#7201a8"
             ],
             [
              0.3333333333333333,
              "#9c179e"
             ],
             [
              0.4444444444444444,
              "#bd3786"
             ],
             [
              0.5555555555555556,
              "#d8576b"
             ],
             [
              0.6666666666666666,
              "#ed7953"
             ],
             [
              0.7777777777777778,
              "#fb9f3a"
             ],
             [
              0.8888888888888888,
              "#fdca26"
             ],
             [
              1,
              "#f0f921"
             ]
            ],
            "type": "contour"
           }
          ],
          "contourcarpet": [
           {
            "colorbar": {
             "outlinewidth": 0,
             "ticks": ""
            },
            "type": "contourcarpet"
           }
          ],
          "heatmap": [
           {
            "colorbar": {
             "outlinewidth": 0,
             "ticks": ""
            },
            "colorscale": [
             [
              0,
              "#0d0887"
             ],
             [
              0.1111111111111111,
              "#46039f"
             ],
             [
              0.2222222222222222,
              "#7201a8"
             ],
             [
              0.3333333333333333,
              "#9c179e"
             ],
             [
              0.4444444444444444,
              "#bd3786"
             ],
             [
              0.5555555555555556,
              "#d8576b"
             ],
             [
              0.6666666666666666,
              "#ed7953"
             ],
             [
              0.7777777777777778,
              "#fb9f3a"
             ],
             [
              0.8888888888888888,
              "#fdca26"
             ],
             [
              1,
              "#f0f921"
             ]
            ],
            "type": "heatmap"
           }
          ],
          "heatmapgl": [
           {
            "colorbar": {
             "outlinewidth": 0,
             "ticks": ""
            },
            "colorscale": [
             [
              0,
              "#0d0887"
             ],
             [
              0.1111111111111111,
              "#46039f"
             ],
             [
              0.2222222222222222,
              "#7201a8"
             ],
             [
              0.3333333333333333,
              "#9c179e"
             ],
             [
              0.4444444444444444,
              "#bd3786"
             ],
             [
              0.5555555555555556,
              "#d8576b"
             ],
             [
              0.6666666666666666,
              "#ed7953"
             ],
             [
              0.7777777777777778,
              "#fb9f3a"
             ],
             [
              0.8888888888888888,
              "#fdca26"
             ],
             [
              1,
              "#f0f921"
             ]
            ],
            "type": "heatmapgl"
           }
          ],
          "histogram": [
           {
            "marker": {
             "colorbar": {
              "outlinewidth": 0,
              "ticks": ""
             }
            },
            "type": "histogram"
           }
          ],
          "histogram2d": [
           {
            "colorbar": {
             "outlinewidth": 0,
             "ticks": ""
            },
            "colorscale": [
             [
              0,
              "#0d0887"
             ],
             [
              0.1111111111111111,
              "#46039f"
             ],
             [
              0.2222222222222222,
              "#7201a8"
             ],
             [
              0.3333333333333333,
              "#9c179e"
             ],
             [
              0.4444444444444444,
              "#bd3786"
             ],
             [
              0.5555555555555556,
              "#d8576b"
             ],
             [
              0.6666666666666666,
              "#ed7953"
             ],
             [
              0.7777777777777778,
              "#fb9f3a"
             ],
             [
              0.8888888888888888,
              "#fdca26"
             ],
             [
              1,
              "#f0f921"
             ]
            ],
            "type": "histogram2d"
           }
          ],
          "histogram2dcontour": [
           {
            "colorbar": {
             "outlinewidth": 0,
             "ticks": ""
            },
            "colorscale": [
             [
              0,
              "#0d0887"
             ],
             [
              0.1111111111111111,
              "#46039f"
             ],
             [
              0.2222222222222222,
              "#7201a8"
             ],
             [
              0.3333333333333333,
              "#9c179e"
             ],
             [
              0.4444444444444444,
              "#bd3786"
             ],
             [
              0.5555555555555556,
              "#d8576b"
             ],
             [
              0.6666666666666666,
              "#ed7953"
             ],
             [
              0.7777777777777778,
              "#fb9f3a"
             ],
             [
              0.8888888888888888,
              "#fdca26"
             ],
             [
              1,
              "#f0f921"
             ]
            ],
            "type": "histogram2dcontour"
           }
          ],
          "mesh3d": [
           {
            "colorbar": {
             "outlinewidth": 0,
             "ticks": ""
            },
            "type": "mesh3d"
           }
          ],
          "parcoords": [
           {
            "line": {
             "colorbar": {
              "outlinewidth": 0,
              "ticks": ""
             }
            },
            "type": "parcoords"
           }
          ],
          "pie": [
           {
            "automargin": true,
            "type": "pie"
           }
          ],
          "scatter": [
           {
            "marker": {
             "colorbar": {
              "outlinewidth": 0,
              "ticks": ""
             }
            },
            "type": "scatter"
           }
          ],
          "scatter3d": [
           {
            "line": {
             "colorbar": {
              "outlinewidth": 0,
              "ticks": ""
             }
            },
            "marker": {
             "colorbar": {
              "outlinewidth": 0,
              "ticks": ""
             }
            },
            "type": "scatter3d"
           }
          ],
          "scattercarpet": [
           {
            "marker": {
             "colorbar": {
              "outlinewidth": 0,
              "ticks": ""
             }
            },
            "type": "scattercarpet"
           }
          ],
          "scattergeo": [
           {
            "marker": {
             "colorbar": {
              "outlinewidth": 0,
              "ticks": ""
             }
            },
            "type": "scattergeo"
           }
          ],
          "scattergl": [
           {
            "marker": {
             "colorbar": {
              "outlinewidth": 0,
              "ticks": ""
             }
            },
            "type": "scattergl"
           }
          ],
          "scattermapbox": [
           {
            "marker": {
             "colorbar": {
              "outlinewidth": 0,
              "ticks": ""
             }
            },
            "type": "scattermapbox"
           }
          ],
          "scatterpolar": [
           {
            "marker": {
             "colorbar": {
              "outlinewidth": 0,
              "ticks": ""
             }
            },
            "type": "scatterpolar"
           }
          ],
          "scatterpolargl": [
           {
            "marker": {
             "colorbar": {
              "outlinewidth": 0,
              "ticks": ""
             }
            },
            "type": "scatterpolargl"
           }
          ],
          "scatterternary": [
           {
            "marker": {
             "colorbar": {
              "outlinewidth": 0,
              "ticks": ""
             }
            },
            "type": "scatterternary"
           }
          ],
          "surface": [
           {
            "colorbar": {
             "outlinewidth": 0,
             "ticks": ""
            },
            "colorscale": [
             [
              0,
              "#0d0887"
             ],
             [
              0.1111111111111111,
              "#46039f"
             ],
             [
              0.2222222222222222,
              "#7201a8"
             ],
             [
              0.3333333333333333,
              "#9c179e"
             ],
             [
              0.4444444444444444,
              "#bd3786"
             ],
             [
              0.5555555555555556,
              "#d8576b"
             ],
             [
              0.6666666666666666,
              "#ed7953"
             ],
             [
              0.7777777777777778,
              "#fb9f3a"
             ],
             [
              0.8888888888888888,
              "#fdca26"
             ],
             [
              1,
              "#f0f921"
             ]
            ],
            "type": "surface"
           }
          ],
          "table": [
           {
            "cells": {
             "fill": {
              "color": "#EBF0F8"
             },
             "line": {
              "color": "white"
             }
            },
            "header": {
             "fill": {
              "color": "#C8D4E3"
             },
             "line": {
              "color": "white"
             }
            },
            "type": "table"
           }
          ]
         },
         "layout": {
          "annotationdefaults": {
           "arrowcolor": "#2a3f5f",
           "arrowhead": 0,
           "arrowwidth": 1
          },
          "autotypenumbers": "strict",
          "coloraxis": {
           "colorbar": {
            "outlinewidth": 0,
            "ticks": ""
           }
          },
          "colorscale": {
           "diverging": [
            [
             0,
             "#8e0152"
            ],
            [
             0.1,
             "#c51b7d"
            ],
            [
             0.2,
             "#de77ae"
            ],
            [
             0.3,
             "#f1b6da"
            ],
            [
             0.4,
             "#fde0ef"
            ],
            [
             0.5,
             "#f7f7f7"
            ],
            [
             0.6,
             "#e6f5d0"
            ],
            [
             0.7,
             "#b8e186"
            ],
            [
             0.8,
             "#7fbc41"
            ],
            [
             0.9,
             "#4d9221"
            ],
            [
             1,
             "#276419"
            ]
           ],
           "sequential": [
            [
             0,
             "#0d0887"
            ],
            [
             0.1111111111111111,
             "#46039f"
            ],
            [
             0.2222222222222222,
             "#7201a8"
            ],
            [
             0.3333333333333333,
             "#9c179e"
            ],
            [
             0.4444444444444444,
             "#bd3786"
            ],
            [
             0.5555555555555556,
             "#d8576b"
            ],
            [
             0.6666666666666666,
             "#ed7953"
            ],
            [
             0.7777777777777778,
             "#fb9f3a"
            ],
            [
             0.8888888888888888,
             "#fdca26"
            ],
            [
             1,
             "#f0f921"
            ]
           ],
           "sequentialminus": [
            [
             0,
             "#0d0887"
            ],
            [
             0.1111111111111111,
             "#46039f"
            ],
            [
             0.2222222222222222,
             "#7201a8"
            ],
            [
             0.3333333333333333,
             "#9c179e"
            ],
            [
             0.4444444444444444,
             "#bd3786"
            ],
            [
             0.5555555555555556,
             "#d8576b"
            ],
            [
             0.6666666666666666,
             "#ed7953"
            ],
            [
             0.7777777777777778,
             "#fb9f3a"
            ],
            [
             0.8888888888888888,
             "#fdca26"
            ],
            [
             1,
             "#f0f921"
            ]
           ]
          },
          "colorway": [
           "#636efa",
           "#EF553B",
           "#00cc96",
           "#ab63fa",
           "#FFA15A",
           "#19d3f3",
           "#FF6692",
           "#B6E880",
           "#FF97FF",
           "#FECB52"
          ],
          "font": {
           "color": "#2a3f5f"
          },
          "geo": {
           "bgcolor": "white",
           "lakecolor": "white",
           "landcolor": "#E5ECF6",
           "showlakes": true,
           "showland": true,
           "subunitcolor": "white"
          },
          "hoverlabel": {
           "align": "left"
          },
          "hovermode": "closest",
          "mapbox": {
           "style": "light"
          },
          "paper_bgcolor": "white",
          "plot_bgcolor": "#E5ECF6",
          "polar": {
           "angularaxis": {
            "gridcolor": "white",
            "linecolor": "white",
            "ticks": ""
           },
           "bgcolor": "#E5ECF6",
           "radialaxis": {
            "gridcolor": "white",
            "linecolor": "white",
            "ticks": ""
           }
          },
          "scene": {
           "xaxis": {
            "backgroundcolor": "#E5ECF6",
            "gridcolor": "white",
            "gridwidth": 2,
            "linecolor": "white",
            "showbackground": true,
            "ticks": "",
            "zerolinecolor": "white"
           },
           "yaxis": {
            "backgroundcolor": "#E5ECF6",
            "gridcolor": "white",
            "gridwidth": 2,
            "linecolor": "white",
            "showbackground": true,
            "ticks": "",
            "zerolinecolor": "white"
           },
           "zaxis": {
            "backgroundcolor": "#E5ECF6",
            "gridcolor": "white",
            "gridwidth": 2,
            "linecolor": "white",
            "showbackground": true,
            "ticks": "",
            "zerolinecolor": "white"
           }
          },
          "shapedefaults": {
           "line": {
            "color": "#2a3f5f"
           }
          },
          "ternary": {
           "aaxis": {
            "gridcolor": "white",
            "linecolor": "white",
            "ticks": ""
           },
           "baxis": {
            "gridcolor": "white",
            "linecolor": "white",
            "ticks": ""
           },
           "bgcolor": "#E5ECF6",
           "caxis": {
            "gridcolor": "white",
            "linecolor": "white",
            "ticks": ""
           }
          },
          "title": {
           "x": 0.05
          },
          "xaxis": {
           "automargin": true,
           "gridcolor": "white",
           "linecolor": "white",
           "ticks": "",
           "title": {
            "standoff": 15
           },
           "zerolinecolor": "white",
           "zerolinewidth": 2
          },
          "yaxis": {
           "automargin": true,
           "gridcolor": "white",
           "linecolor": "white",
           "ticks": "",
           "title": {
            "standoff": 15
           },
           "zerolinecolor": "white",
           "zerolinewidth": 2
          }
         }
        },
        "title": {
         "text": "encoding_dim"
        },
        "width": 1000,
        "yaxis": {
         "dtick": 25,
         "range": [
          -175,
          100
         ],
         "tick0": 0
        }
       }
      }
     },
     "metadata": {}
    },
    {
     "output_type": "display_data",
     "data": {
      "application/vnd.plotly.v1+json": {
       "config": {
        "plotlyServerURL": "https://plot.ly"
       },
       "data": [
        {
         "marker": {
          "color": "#EA4335"
         },
         "mode": "lines+markers",
         "name": "JSD loss (semi-supervised), categorical",
         "type": "scatter",
         "x": [
          3,
          5,
          7,
          9,
          27
         ],
         "y": [
          39.44692890090909,
          39.81920635727272,
          38.18777127181818,
          37.6826532090909,
          29.194146651818183
         ]
        },
        {
         "line": {
          "width": 0
         },
         "marker": {
          "color": "#EA4335"
         },
         "mode": "lines",
         "name": "Upper bound",
         "showlegend": false,
         "type": "scatter",
         "x": [
          3,
          5,
          7,
          9,
          27
         ],
         "y": [
          41.410389652420605,
          42.27693291949065,
          40.15880174912445,
          39.06096935734698,
          34.501868299025446
         ]
        },
        {
         "fill": "tonexty",
         "fillcolor": "rgba(234, 67, 53, 0.2)",
         "line": {
          "width": 0
         },
         "marker": {
          "color": "#EA4335"
         },
         "mode": "lines",
         "name": "Lower bound",
         "showlegend": false,
         "type": "scatter",
         "x": [
          3,
          5,
          7,
          9,
          27
         ],
         "y": [
          37.48346814939758,
          37.36147979505479,
          36.21674079451191,
          36.304337060834825,
          23.88642500461092
         ]
        },
        {
         "marker": {
          "color": "#FBBC04"
         },
         "mode": "lines+markers",
         "name": "JSD loss (unsupervised), categorical",
         "type": "scatter",
         "x": [
          3,
          5,
          7,
          9,
          27
         ],
         "y": [
          8.1183966205,
          8.971927239416667,
          8.213726970416667,
          7.521335722333332,
          4.974169722333333
         ]
        },
        {
         "line": {
          "width": 0
         },
         "marker": {
          "color": "#FBBC04"
         },
         "mode": "lines",
         "name": "Upper bound",
         "showlegend": false,
         "type": "scatter",
         "x": [
          3,
          5,
          7,
          9,
          27
         ],
         "y": [
          8.750988095492815,
          9.698290583306788,
          9.140076019079952,
          8.844096493209683,
          7.644950610578825
         ]
        },
        {
         "fill": "tonexty",
         "fillcolor": "rgba(251, 188, 4, 0.2)",
         "line": {
          "width": 0
         },
         "marker": {
          "color": "#FBBC04"
         },
         "mode": "lines",
         "name": "Lower bound",
         "showlegend": false,
         "type": "scatter",
         "x": [
          3,
          5,
          7,
          9,
          27
         ],
         "y": [
          7.485805145507185,
          8.245563895526546,
          7.287377921753382,
          6.1985749514569815,
          2.3033888340878415
         ]
        },
        {
         "marker": {
          "color": "#34A853"
         },
         "mode": "lines+markers",
         "name": "JSD loss (semi-supervised), continuous",
         "type": "scatter",
         "x": [
          3,
          5,
          7,
          9,
          27
         ],
         "y": [
          88.16175567545454,
          89.573053703,
          17.479560317300002,
          -147.24901826636363,
          -1583.5069936363636
         ]
        },
        {
         "line": {
          "width": 0
         },
         "marker": {
          "color": "#34A853"
         },
         "mode": "lines",
         "name": "Upper bound",
         "showlegend": false,
         "type": "scatter",
         "x": [
          3,
          5,
          7,
          9,
          27
         ],
         "y": [
          89.36623274829553,
          92.30618966861068,
          26.444319993502354,
          -12.924126528017098,
          3740.209563077139
         ]
        },
        {
         "fill": "tonexty",
         "fillcolor": "rgba(52, 168, 83, 0.2)",
         "line": {
          "width": 0
         },
         "marker": {
          "color": "#34A853"
         },
         "mode": "lines",
         "name": "Lower bound",
         "showlegend": false,
         "type": "scatter",
         "x": [
          3,
          5,
          7,
          9,
          27
         ],
         "y": [
          86.95727860261356,
          86.83991773738931,
          8.51480064109765,
          -281.57391000471017,
          -6907.223550349866
         ]
        },
        {
         "marker": {
          "color": "#4285F4"
         },
         "mode": "lines+markers",
         "name": "JSD loss (unsupervised), continuous",
         "type": "scatter",
         "x": [
          3,
          5,
          7,
          9,
          27
         ],
         "y": [
          39.67959276083334,
          35.869259265,
          35.192735305999996,
          28.182494924599997,
          -1752.7169290000002
         ]
        },
        {
         "line": {
          "width": 0
         },
         "marker": {
          "color": "#4285F4"
         },
         "mode": "lines",
         "name": "Upper bound",
         "showlegend": false,
         "type": "scatter",
         "x": [
          3,
          5,
          7,
          9,
          27
         ],
         "y": [
          40.12573585731595,
          36.50931783581813,
          36.873613080763086,
          40.24290731671607,
          3805.433858000002
         ]
        },
        {
         "fill": "tonexty",
         "fillcolor": "rgba(66, 133, 244, 0.2)",
         "line": {
          "width": 0
         },
         "marker": {
          "color": "#4285F4"
         },
         "mode": "lines",
         "name": "Lower bound",
         "showlegend": false,
         "type": "scatter",
         "x": [
          3,
          5,
          7,
          9,
          27
         ],
         "y": [
          39.23344966435072,
          35.22920069418186,
          33.511857531236906,
          16.122082532483923,
          -7310.8677160000025
         ]
        }
       ],
       "layout": {
        "height": 600,
        "template": {
         "data": {
          "bar": [
           {
            "error_x": {
             "color": "#2a3f5f"
            },
            "error_y": {
             "color": "#2a3f5f"
            },
            "marker": {
             "line": {
              "color": "#E5ECF6",
              "width": 0.5
             }
            },
            "type": "bar"
           }
          ],
          "barpolar": [
           {
            "marker": {
             "line": {
              "color": "#E5ECF6",
              "width": 0.5
             }
            },
            "type": "barpolar"
           }
          ],
          "carpet": [
           {
            "aaxis": {
             "endlinecolor": "#2a3f5f",
             "gridcolor": "white",
             "linecolor": "white",
             "minorgridcolor": "white",
             "startlinecolor": "#2a3f5f"
            },
            "baxis": {
             "endlinecolor": "#2a3f5f",
             "gridcolor": "white",
             "linecolor": "white",
             "minorgridcolor": "white",
             "startlinecolor": "#2a3f5f"
            },
            "type": "carpet"
           }
          ],
          "choropleth": [
           {
            "colorbar": {
             "outlinewidth": 0,
             "ticks": ""
            },
            "type": "choropleth"
           }
          ],
          "contour": [
           {
            "colorbar": {
             "outlinewidth": 0,
             "ticks": ""
            },
            "colorscale": [
             [
              0,
              "#0d0887"
             ],
             [
              0.1111111111111111,
              "#46039f"
             ],
             [
              0.2222222222222222,
              "#7201a8"
             ],
             [
              0.3333333333333333,
              "#9c179e"
             ],
             [
              0.4444444444444444,
              "#bd3786"
             ],
             [
              0.5555555555555556,
              "#d8576b"
             ],
             [
              0.6666666666666666,
              "#ed7953"
             ],
             [
              0.7777777777777778,
              "#fb9f3a"
             ],
             [
              0.8888888888888888,
              "#fdca26"
             ],
             [
              1,
              "#f0f921"
             ]
            ],
            "type": "contour"
           }
          ],
          "contourcarpet": [
           {
            "colorbar": {
             "outlinewidth": 0,
             "ticks": ""
            },
            "type": "contourcarpet"
           }
          ],
          "heatmap": [
           {
            "colorbar": {
             "outlinewidth": 0,
             "ticks": ""
            },
            "colorscale": [
             [
              0,
              "#0d0887"
             ],
             [
              0.1111111111111111,
              "#46039f"
             ],
             [
              0.2222222222222222,
              "#7201a8"
             ],
             [
              0.3333333333333333,
              "#9c179e"
             ],
             [
              0.4444444444444444,
              "#bd3786"
             ],
             [
              0.5555555555555556,
              "#d8576b"
             ],
             [
              0.6666666666666666,
              "#ed7953"
             ],
             [
              0.7777777777777778,
              "#fb9f3a"
             ],
             [
              0.8888888888888888,
              "#fdca26"
             ],
             [
              1,
              "#f0f921"
             ]
            ],
            "type": "heatmap"
           }
          ],
          "heatmapgl": [
           {
            "colorbar": {
             "outlinewidth": 0,
             "ticks": ""
            },
            "colorscale": [
             [
              0,
              "#0d0887"
             ],
             [
              0.1111111111111111,
              "#46039f"
             ],
             [
              0.2222222222222222,
              "#7201a8"
             ],
             [
              0.3333333333333333,
              "#9c179e"
             ],
             [
              0.4444444444444444,
              "#bd3786"
             ],
             [
              0.5555555555555556,
              "#d8576b"
             ],
             [
              0.6666666666666666,
              "#ed7953"
             ],
             [
              0.7777777777777778,
              "#fb9f3a"
             ],
             [
              0.8888888888888888,
              "#fdca26"
             ],
             [
              1,
              "#f0f921"
             ]
            ],
            "type": "heatmapgl"
           }
          ],
          "histogram": [
           {
            "marker": {
             "colorbar": {
              "outlinewidth": 0,
              "ticks": ""
             }
            },
            "type": "histogram"
           }
          ],
          "histogram2d": [
           {
            "colorbar": {
             "outlinewidth": 0,
             "ticks": ""
            },
            "colorscale": [
             [
              0,
              "#0d0887"
             ],
             [
              0.1111111111111111,
              "#46039f"
             ],
             [
              0.2222222222222222,
              "#7201a8"
             ],
             [
              0.3333333333333333,
              "#9c179e"
             ],
             [
              0.4444444444444444,
              "#bd3786"
             ],
             [
              0.5555555555555556,
              "#d8576b"
             ],
             [
              0.6666666666666666,
              "#ed7953"
             ],
             [
              0.7777777777777778,
              "#fb9f3a"
             ],
             [
              0.8888888888888888,
              "#fdca26"
             ],
             [
              1,
              "#f0f921"
             ]
            ],
            "type": "histogram2d"
           }
          ],
          "histogram2dcontour": [
           {
            "colorbar": {
             "outlinewidth": 0,
             "ticks": ""
            },
            "colorscale": [
             [
              0,
              "#0d0887"
             ],
             [
              0.1111111111111111,
              "#46039f"
             ],
             [
              0.2222222222222222,
              "#7201a8"
             ],
             [
              0.3333333333333333,
              "#9c179e"
             ],
             [
              0.4444444444444444,
              "#bd3786"
             ],
             [
              0.5555555555555556,
              "#d8576b"
             ],
             [
              0.6666666666666666,
              "#ed7953"
             ],
             [
              0.7777777777777778,
              "#fb9f3a"
             ],
             [
              0.8888888888888888,
              "#fdca26"
             ],
             [
              1,
              "#f0f921"
             ]
            ],
            "type": "histogram2dcontour"
           }
          ],
          "mesh3d": [
           {
            "colorbar": {
             "outlinewidth": 0,
             "ticks": ""
            },
            "type": "mesh3d"
           }
          ],
          "parcoords": [
           {
            "line": {
             "colorbar": {
              "outlinewidth": 0,
              "ticks": ""
             }
            },
            "type": "parcoords"
           }
          ],
          "pie": [
           {
            "automargin": true,
            "type": "pie"
           }
          ],
          "scatter": [
           {
            "marker": {
             "colorbar": {
              "outlinewidth": 0,
              "ticks": ""
             }
            },
            "type": "scatter"
           }
          ],
          "scatter3d": [
           {
            "line": {
             "colorbar": {
              "outlinewidth": 0,
              "ticks": ""
             }
            },
            "marker": {
             "colorbar": {
              "outlinewidth": 0,
              "ticks": ""
             }
            },
            "type": "scatter3d"
           }
          ],
          "scattercarpet": [
           {
            "marker": {
             "colorbar": {
              "outlinewidth": 0,
              "ticks": ""
             }
            },
            "type": "scattercarpet"
           }
          ],
          "scattergeo": [
           {
            "marker": {
             "colorbar": {
              "outlinewidth": 0,
              "ticks": ""
             }
            },
            "type": "scattergeo"
           }
          ],
          "scattergl": [
           {
            "marker": {
             "colorbar": {
              "outlinewidth": 0,
              "ticks": ""
             }
            },
            "type": "scattergl"
           }
          ],
          "scattermapbox": [
           {
            "marker": {
             "colorbar": {
              "outlinewidth": 0,
              "ticks": ""
             }
            },
            "type": "scattermapbox"
           }
          ],
          "scatterpolar": [
           {
            "marker": {
             "colorbar": {
              "outlinewidth": 0,
              "ticks": ""
             }
            },
            "type": "scatterpolar"
           }
          ],
          "scatterpolargl": [
           {
            "marker": {
             "colorbar": {
              "outlinewidth": 0,
              "ticks": ""
             }
            },
            "type": "scatterpolargl"
           }
          ],
          "scatterternary": [
           {
            "marker": {
             "colorbar": {
              "outlinewidth": 0,
              "ticks": ""
             }
            },
            "type": "scatterternary"
           }
          ],
          "surface": [
           {
            "colorbar": {
             "outlinewidth": 0,
             "ticks": ""
            },
            "colorscale": [
             [
              0,
              "#0d0887"
             ],
             [
              0.1111111111111111,
              "#46039f"
             ],
             [
              0.2222222222222222,
              "#7201a8"
             ],
             [
              0.3333333333333333,
              "#9c179e"
             ],
             [
              0.4444444444444444,
              "#bd3786"
             ],
             [
              0.5555555555555556,
              "#d8576b"
             ],
             [
              0.6666666666666666,
              "#ed7953"
             ],
             [
              0.7777777777777778,
              "#fb9f3a"
             ],
             [
              0.8888888888888888,
              "#fdca26"
             ],
             [
              1,
              "#f0f921"
             ]
            ],
            "type": "surface"
           }
          ],
          "table": [
           {
            "cells": {
             "fill": {
              "color": "#EBF0F8"
             },
             "line": {
              "color": "white"
             }
            },
            "header": {
             "fill": {
              "color": "#C8D4E3"
             },
             "line": {
              "color": "white"
             }
            },
            "type": "table"
           }
          ]
         },
         "layout": {
          "annotationdefaults": {
           "arrowcolor": "#2a3f5f",
           "arrowhead": 0,
           "arrowwidth": 1
          },
          "autotypenumbers": "strict",
          "coloraxis": {
           "colorbar": {
            "outlinewidth": 0,
            "ticks": ""
           }
          },
          "colorscale": {
           "diverging": [
            [
             0,
             "#8e0152"
            ],
            [
             0.1,
             "#c51b7d"
            ],
            [
             0.2,
             "#de77ae"
            ],
            [
             0.3,
             "#f1b6da"
            ],
            [
             0.4,
             "#fde0ef"
            ],
            [
             0.5,
             "#f7f7f7"
            ],
            [
             0.6,
             "#e6f5d0"
            ],
            [
             0.7,
             "#b8e186"
            ],
            [
             0.8,
             "#7fbc41"
            ],
            [
             0.9,
             "#4d9221"
            ],
            [
             1,
             "#276419"
            ]
           ],
           "sequential": [
            [
             0,
             "#0d0887"
            ],
            [
             0.1111111111111111,
             "#46039f"
            ],
            [
             0.2222222222222222,
             "#7201a8"
            ],
            [
             0.3333333333333333,
             "#9c179e"
            ],
            [
             0.4444444444444444,
             "#bd3786"
            ],
            [
             0.5555555555555556,
             "#d8576b"
            ],
            [
             0.6666666666666666,
             "#ed7953"
            ],
            [
             0.7777777777777778,
             "#fb9f3a"
            ],
            [
             0.8888888888888888,
             "#fdca26"
            ],
            [
             1,
             "#f0f921"
            ]
           ],
           "sequentialminus": [
            [
             0,
             "#0d0887"
            ],
            [
             0.1111111111111111,
             "#46039f"
            ],
            [
             0.2222222222222222,
             "#7201a8"
            ],
            [
             0.3333333333333333,
             "#9c179e"
            ],
            [
             0.4444444444444444,
             "#bd3786"
            ],
            [
             0.5555555555555556,
             "#d8576b"
            ],
            [
             0.6666666666666666,
             "#ed7953"
            ],
            [
             0.7777777777777778,
             "#fb9f3a"
            ],
            [
             0.8888888888888888,
             "#fdca26"
            ],
            [
             1,
             "#f0f921"
            ]
           ]
          },
          "colorway": [
           "#636efa",
           "#EF553B",
           "#00cc96",
           "#ab63fa",
           "#FFA15A",
           "#19d3f3",
           "#FF6692",
           "#B6E880",
           "#FF97FF",
           "#FECB52"
          ],
          "font": {
           "color": "#2a3f5f"
          },
          "geo": {
           "bgcolor": "white",
           "lakecolor": "white",
           "landcolor": "#E5ECF6",
           "showlakes": true,
           "showland": true,
           "subunitcolor": "white"
          },
          "hoverlabel": {
           "align": "left"
          },
          "hovermode": "closest",
          "mapbox": {
           "style": "light"
          },
          "paper_bgcolor": "white",
          "plot_bgcolor": "#E5ECF6",
          "polar": {
           "angularaxis": {
            "gridcolor": "white",
            "linecolor": "white",
            "ticks": ""
           },
           "bgcolor": "#E5ECF6",
           "radialaxis": {
            "gridcolor": "white",
            "linecolor": "white",
            "ticks": ""
           }
          },
          "scene": {
           "xaxis": {
            "backgroundcolor": "#E5ECF6",
            "gridcolor": "white",
            "gridwidth": 2,
            "linecolor": "white",
            "showbackground": true,
            "ticks": "",
            "zerolinecolor": "white"
           },
           "yaxis": {
            "backgroundcolor": "#E5ECF6",
            "gridcolor": "white",
            "gridwidth": 2,
            "linecolor": "white",
            "showbackground": true,
            "ticks": "",
            "zerolinecolor": "white"
           },
           "zaxis": {
            "backgroundcolor": "#E5ECF6",
            "gridcolor": "white",
            "gridwidth": 2,
            "linecolor": "white",
            "showbackground": true,
            "ticks": "",
            "zerolinecolor": "white"
           }
          },
          "shapedefaults": {
           "line": {
            "color": "#2a3f5f"
           }
          },
          "ternary": {
           "aaxis": {
            "gridcolor": "white",
            "linecolor": "white",
            "ticks": ""
           },
           "baxis": {
            "gridcolor": "white",
            "linecolor": "white",
            "ticks": ""
           },
           "bgcolor": "#E5ECF6",
           "caxis": {
            "gridcolor": "white",
            "linecolor": "white",
            "ticks": ""
           }
          },
          "title": {
           "x": 0.05
          },
          "xaxis": {
           "automargin": true,
           "gridcolor": "white",
           "linecolor": "white",
           "ticks": "",
           "title": {
            "standoff": 15
           },
           "zerolinecolor": "white",
           "zerolinewidth": 2
          },
          "yaxis": {
           "automargin": true,
           "gridcolor": "white",
           "linecolor": "white",
           "ticks": "",
           "title": {
            "standoff": 15
           },
           "zerolinecolor": "white",
           "zerolinewidth": 2
          }
         }
        },
        "title": {
         "text": "hidden_layers"
        },
        "width": 1000,
        "yaxis": {
         "dtick": 25,
         "range": [
          -175,
          100
         ],
         "tick0": 0
        }
       }
      }
     },
     "metadata": {}
    },
    {
     "output_type": "display_data",
     "data": {
      "application/vnd.plotly.v1+json": {
       "config": {
        "plotlyServerURL": "https://plot.ly"
       },
       "data": [
        {
         "error_y": {
          "array": [
           1.555665127830273,
           1.9407823524068117,
           1.9634607515115146,
           1.246074168470567,
           1.7371690428436017
          ]
         },
         "marker": {
          "color": "#EA4335"
         },
         "name": "JSD loss (semi-supervised), categorical",
         "type": "bar",
         "x": [
          "No regulariz\nation",
          "L2 (λ=0.01)",
          "L2 (λ =\n$10^{-4}$)",
          "L1 (λ=0.01)",
          "L1 (λ =\n$10^{-4}$)"
         ],
         "y": [
          40.09126692775527,
          36.84938231545455,
          39.44692890090909,
          37.83396562272728,
          41.07859934727273
         ]
        },
        {
         "error_y": {
          "array": [
           0.7183128851149958,
           0.7341998404943094,
           0.6325914749928152,
           1.2761457029399181,
           0.5791338082506454
          ]
         },
         "marker": {
          "color": "#FBBC04"
         },
         "name": "JSD loss (unsupervised), categorical",
         "type": "bar",
         "x": [
          "No regulariz\nation",
          "L2 (λ=0.01)",
          "L2 (λ =\n$10^{-4}$)",
          "L1 (λ=0.01)",
          "L1 (λ =\n$10^{-4}$)"
         ],
         "y": [
          7.747098758736902,
          3.853417982916666,
          8.1183966205,
          3.75919060775,
          7.520579783916666
         ]
        },
        {
         "error_y": {
          "array": [
           2.7044407601944314,
           4.689230452938448,
           1.2044770728409884,
           10.45838096122165,
           2.0118456736132786
          ]
         },
         "marker": {
          "color": "#34A853"
         },
         "name": "JSD loss (semi-supervised), continuous",
         "type": "bar",
         "x": [
          "No regulariz\nation",
          "L2 (λ=0.01)",
          "L2 (λ =\n$10^{-4}$)",
          "L1 (λ=0.01)",
          "L1 (λ =\n$10^{-4}$)"
         ],
         "y": [
          80.13321042257499,
          32.56510663090909,
          88.16175567545454,
          -71.66615507545454,
          85.97710688363635
         ]
        },
        {
         "error_y": {
          "array": [
           0.7116084298923258,
           3.9833150656188483,
           0.4461430964826155,
           4.893860124768607,
           0.4547856357086292
          ]
         },
         "marker": {
          "color": "#4285F4"
         },
         "name": "JSD loss (unsupervised), continuous",
         "type": "bar",
         "x": [
          "No regulariz\nation",
          "L2 (λ=0.01)",
          "L2 (λ =\n$10^{-4}$)",
          "L1 (λ=0.01)",
          "L1 (λ =\n$10^{-4}$)"
         ],
         "y": [
          40.57205692805128,
          -14.82484307309091,
          39.67959276083334,
          -131.04774990909092,
          39.58492820090908
         ]
        }
       ],
       "layout": {
        "height": 600,
        "template": {
         "data": {
          "bar": [
           {
            "error_x": {
             "color": "#2a3f5f"
            },
            "error_y": {
             "color": "#2a3f5f"
            },
            "marker": {
             "line": {
              "color": "#E5ECF6",
              "width": 0.5
             }
            },
            "type": "bar"
           }
          ],
          "barpolar": [
           {
            "marker": {
             "line": {
              "color": "#E5ECF6",
              "width": 0.5
             }
            },
            "type": "barpolar"
           }
          ],
          "carpet": [
           {
            "aaxis": {
             "endlinecolor": "#2a3f5f",
             "gridcolor": "white",
             "linecolor": "white",
             "minorgridcolor": "white",
             "startlinecolor": "#2a3f5f"
            },
            "baxis": {
             "endlinecolor": "#2a3f5f",
             "gridcolor": "white",
             "linecolor": "white",
             "minorgridcolor": "white",
             "startlinecolor": "#2a3f5f"
            },
            "type": "carpet"
           }
          ],
          "choropleth": [
           {
            "colorbar": {
             "outlinewidth": 0,
             "ticks": ""
            },
            "type": "choropleth"
           }
          ],
          "contour": [
           {
            "colorbar": {
             "outlinewidth": 0,
             "ticks": ""
            },
            "colorscale": [
             [
              0,
              "#0d0887"
             ],
             [
              0.1111111111111111,
              "#46039f"
             ],
             [
              0.2222222222222222,
              "#7201a8"
             ],
             [
              0.3333333333333333,
              "#9c179e"
             ],
             [
              0.4444444444444444,
              "#bd3786"
             ],
             [
              0.5555555555555556,
              "#d8576b"
             ],
             [
              0.6666666666666666,
              "#ed7953"
             ],
             [
              0.7777777777777778,
              "#fb9f3a"
             ],
             [
              0.8888888888888888,
              "#fdca26"
             ],
             [
              1,
              "#f0f921"
             ]
            ],
            "type": "contour"
           }
          ],
          "contourcarpet": [
           {
            "colorbar": {
             "outlinewidth": 0,
             "ticks": ""
            },
            "type": "contourcarpet"
           }
          ],
          "heatmap": [
           {
            "colorbar": {
             "outlinewidth": 0,
             "ticks": ""
            },
            "colorscale": [
             [
              0,
              "#0d0887"
             ],
             [
              0.1111111111111111,
              "#46039f"
             ],
             [
              0.2222222222222222,
              "#7201a8"
             ],
             [
              0.3333333333333333,
              "#9c179e"
             ],
             [
              0.4444444444444444,
              "#bd3786"
             ],
             [
              0.5555555555555556,
              "#d8576b"
             ],
             [
              0.6666666666666666,
              "#ed7953"
             ],
             [
              0.7777777777777778,
              "#fb9f3a"
             ],
             [
              0.8888888888888888,
              "#fdca26"
             ],
             [
              1,
              "#f0f921"
             ]
            ],
            "type": "heatmap"
           }
          ],
          "heatmapgl": [
           {
            "colorbar": {
             "outlinewidth": 0,
             "ticks": ""
            },
            "colorscale": [
             [
              0,
              "#0d0887"
             ],
             [
              0.1111111111111111,
              "#46039f"
             ],
             [
              0.2222222222222222,
              "#7201a8"
             ],
             [
              0.3333333333333333,
              "#9c179e"
             ],
             [
              0.4444444444444444,
              "#bd3786"
             ],
             [
              0.5555555555555556,
              "#d8576b"
             ],
             [
              0.6666666666666666,
              "#ed7953"
             ],
             [
              0.7777777777777778,
              "#fb9f3a"
             ],
             [
              0.8888888888888888,
              "#fdca26"
             ],
             [
              1,
              "#f0f921"
             ]
            ],
            "type": "heatmapgl"
           }
          ],
          "histogram": [
           {
            "marker": {
             "colorbar": {
              "outlinewidth": 0,
              "ticks": ""
             }
            },
            "type": "histogram"
           }
          ],
          "histogram2d": [
           {
            "colorbar": {
             "outlinewidth": 0,
             "ticks": ""
            },
            "colorscale": [
             [
              0,
              "#0d0887"
             ],
             [
              0.1111111111111111,
              "#46039f"
             ],
             [
              0.2222222222222222,
              "#7201a8"
             ],
             [
              0.3333333333333333,
              "#9c179e"
             ],
             [
              0.4444444444444444,
              "#bd3786"
             ],
             [
              0.5555555555555556,
              "#d8576b"
             ],
             [
              0.6666666666666666,
              "#ed7953"
             ],
             [
              0.7777777777777778,
              "#fb9f3a"
             ],
             [
              0.8888888888888888,
              "#fdca26"
             ],
             [
              1,
              "#f0f921"
             ]
            ],
            "type": "histogram2d"
           }
          ],
          "histogram2dcontour": [
           {
            "colorbar": {
             "outlinewidth": 0,
             "ticks": ""
            },
            "colorscale": [
             [
              0,
              "#0d0887"
             ],
             [
              0.1111111111111111,
              "#46039f"
             ],
             [
              0.2222222222222222,
              "#7201a8"
             ],
             [
              0.3333333333333333,
              "#9c179e"
             ],
             [
              0.4444444444444444,
              "#bd3786"
             ],
             [
              0.5555555555555556,
              "#d8576b"
             ],
             [
              0.6666666666666666,
              "#ed7953"
             ],
             [
              0.7777777777777778,
              "#fb9f3a"
             ],
             [
              0.8888888888888888,
              "#fdca26"
             ],
             [
              1,
              "#f0f921"
             ]
            ],
            "type": "histogram2dcontour"
           }
          ],
          "mesh3d": [
           {
            "colorbar": {
             "outlinewidth": 0,
             "ticks": ""
            },
            "type": "mesh3d"
           }
          ],
          "parcoords": [
           {
            "line": {
             "colorbar": {
              "outlinewidth": 0,
              "ticks": ""
             }
            },
            "type": "parcoords"
           }
          ],
          "pie": [
           {
            "automargin": true,
            "type": "pie"
           }
          ],
          "scatter": [
           {
            "marker": {
             "colorbar": {
              "outlinewidth": 0,
              "ticks": ""
             }
            },
            "type": "scatter"
           }
          ],
          "scatter3d": [
           {
            "line": {
             "colorbar": {
              "outlinewidth": 0,
              "ticks": ""
             }
            },
            "marker": {
             "colorbar": {
              "outlinewidth": 0,
              "ticks": ""
             }
            },
            "type": "scatter3d"
           }
          ],
          "scattercarpet": [
           {
            "marker": {
             "colorbar": {
              "outlinewidth": 0,
              "ticks": ""
             }
            },
            "type": "scattercarpet"
           }
          ],
          "scattergeo": [
           {
            "marker": {
             "colorbar": {
              "outlinewidth": 0,
              "ticks": ""
             }
            },
            "type": "scattergeo"
           }
          ],
          "scattergl": [
           {
            "marker": {
             "colorbar": {
              "outlinewidth": 0,
              "ticks": ""
             }
            },
            "type": "scattergl"
           }
          ],
          "scattermapbox": [
           {
            "marker": {
             "colorbar": {
              "outlinewidth": 0,
              "ticks": ""
             }
            },
            "type": "scattermapbox"
           }
          ],
          "scatterpolar": [
           {
            "marker": {
             "colorbar": {
              "outlinewidth": 0,
              "ticks": ""
             }
            },
            "type": "scatterpolar"
           }
          ],
          "scatterpolargl": [
           {
            "marker": {
             "colorbar": {
              "outlinewidth": 0,
              "ticks": ""
             }
            },
            "type": "scatterpolargl"
           }
          ],
          "scatterternary": [
           {
            "marker": {
             "colorbar": {
              "outlinewidth": 0,
              "ticks": ""
             }
            },
            "type": "scatterternary"
           }
          ],
          "surface": [
           {
            "colorbar": {
             "outlinewidth": 0,
             "ticks": ""
            },
            "colorscale": [
             [
              0,
              "#0d0887"
             ],
             [
              0.1111111111111111,
              "#46039f"
             ],
             [
              0.2222222222222222,
              "#7201a8"
             ],
             [
              0.3333333333333333,
              "#9c179e"
             ],
             [
              0.4444444444444444,
              "#bd3786"
             ],
             [
              0.5555555555555556,
              "#d8576b"
             ],
             [
              0.6666666666666666,
              "#ed7953"
             ],
             [
              0.7777777777777778,
              "#fb9f3a"
             ],
             [
              0.8888888888888888,
              "#fdca26"
             ],
             [
              1,
              "#f0f921"
             ]
            ],
            "type": "surface"
           }
          ],
          "table": [
           {
            "cells": {
             "fill": {
              "color": "#EBF0F8"
             },
             "line": {
              "color": "white"
             }
            },
            "header": {
             "fill": {
              "color": "#C8D4E3"
             },
             "line": {
              "color": "white"
             }
            },
            "type": "table"
           }
          ]
         },
         "layout": {
          "annotationdefaults": {
           "arrowcolor": "#2a3f5f",
           "arrowhead": 0,
           "arrowwidth": 1
          },
          "autotypenumbers": "strict",
          "coloraxis": {
           "colorbar": {
            "outlinewidth": 0,
            "ticks": ""
           }
          },
          "colorscale": {
           "diverging": [
            [
             0,
             "#8e0152"
            ],
            [
             0.1,
             "#c51b7d"
            ],
            [
             0.2,
             "#de77ae"
            ],
            [
             0.3,
             "#f1b6da"
            ],
            [
             0.4,
             "#fde0ef"
            ],
            [
             0.5,
             "#f7f7f7"
            ],
            [
             0.6,
             "#e6f5d0"
            ],
            [
             0.7,
             "#b8e186"
            ],
            [
             0.8,
             "#7fbc41"
            ],
            [
             0.9,
             "#4d9221"
            ],
            [
             1,
             "#276419"
            ]
           ],
           "sequential": [
            [
             0,
             "#0d0887"
            ],
            [
             0.1111111111111111,
             "#46039f"
            ],
            [
             0.2222222222222222,
             "#7201a8"
            ],
            [
             0.3333333333333333,
             "#9c179e"
            ],
            [
             0.4444444444444444,
             "#bd3786"
            ],
            [
             0.5555555555555556,
             "#d8576b"
            ],
            [
             0.6666666666666666,
             "#ed7953"
            ],
            [
             0.7777777777777778,
             "#fb9f3a"
            ],
            [
             0.8888888888888888,
             "#fdca26"
            ],
            [
             1,
             "#f0f921"
            ]
           ],
           "sequentialminus": [
            [
             0,
             "#0d0887"
            ],
            [
             0.1111111111111111,
             "#46039f"
            ],
            [
             0.2222222222222222,
             "#7201a8"
            ],
            [
             0.3333333333333333,
             "#9c179e"
            ],
            [
             0.4444444444444444,
             "#bd3786"
            ],
            [
             0.5555555555555556,
             "#d8576b"
            ],
            [
             0.6666666666666666,
             "#ed7953"
            ],
            [
             0.7777777777777778,
             "#fb9f3a"
            ],
            [
             0.8888888888888888,
             "#fdca26"
            ],
            [
             1,
             "#f0f921"
            ]
           ]
          },
          "colorway": [
           "#636efa",
           "#EF553B",
           "#00cc96",
           "#ab63fa",
           "#FFA15A",
           "#19d3f3",
           "#FF6692",
           "#B6E880",
           "#FF97FF",
           "#FECB52"
          ],
          "font": {
           "color": "#2a3f5f"
          },
          "geo": {
           "bgcolor": "white",
           "lakecolor": "white",
           "landcolor": "#E5ECF6",
           "showlakes": true,
           "showland": true,
           "subunitcolor": "white"
          },
          "hoverlabel": {
           "align": "left"
          },
          "hovermode": "closest",
          "mapbox": {
           "style": "light"
          },
          "paper_bgcolor": "white",
          "plot_bgcolor": "#E5ECF6",
          "polar": {
           "angularaxis": {
            "gridcolor": "white",
            "linecolor": "white",
            "ticks": ""
           },
           "bgcolor": "#E5ECF6",
           "radialaxis": {
            "gridcolor": "white",
            "linecolor": "white",
            "ticks": ""
           }
          },
          "scene": {
           "xaxis": {
            "backgroundcolor": "#E5ECF6",
            "gridcolor": "white",
            "gridwidth": 2,
            "linecolor": "white",
            "showbackground": true,
            "ticks": "",
            "zerolinecolor": "white"
           },
           "yaxis": {
            "backgroundcolor": "#E5ECF6",
            "gridcolor": "white",
            "gridwidth": 2,
            "linecolor": "white",
            "showbackground": true,
            "ticks": "",
            "zerolinecolor": "white"
           },
           "zaxis": {
            "backgroundcolor": "#E5ECF6",
            "gridcolor": "white",
            "gridwidth": 2,
            "linecolor": "white",
            "showbackground": true,
            "ticks": "",
            "zerolinecolor": "white"
           }
          },
          "shapedefaults": {
           "line": {
            "color": "#2a3f5f"
           }
          },
          "ternary": {
           "aaxis": {
            "gridcolor": "white",
            "linecolor": "white",
            "ticks": ""
           },
           "baxis": {
            "gridcolor": "white",
            "linecolor": "white",
            "ticks": ""
           },
           "bgcolor": "#E5ECF6",
           "caxis": {
            "gridcolor": "white",
            "linecolor": "white",
            "ticks": ""
           }
          },
          "title": {
           "x": 0.05
          },
          "xaxis": {
           "automargin": true,
           "gridcolor": "white",
           "linecolor": "white",
           "ticks": "",
           "title": {
            "standoff": 15
           },
           "zerolinecolor": "white",
           "zerolinewidth": 2
          },
          "yaxis": {
           "automargin": true,
           "gridcolor": "white",
           "linecolor": "white",
           "ticks": "",
           "title": {
            "standoff": 15
           },
           "zerolinecolor": "white",
           "zerolinewidth": 2
          }
         }
        },
        "title": {
         "text": "activity_regularizer"
        },
        "width": 1000,
        "yaxis": {
         "dtick": 25,
         "range": [
          -175,
          100
         ],
         "tick0": 0
        }
       }
      }
     },
     "metadata": {}
    },
    {
     "output_type": "display_data",
     "data": {
      "application/vnd.plotly.v1+json": {
       "config": {
        "plotlyServerURL": "https://plot.ly"
       },
       "data": [
        {
         "marker": {
          "color": "#EA4335"
         },
         "mode": "lines+markers",
         "name": "JSD loss (semi-supervised), categorical",
         "type": "scatter",
         "x": [
          0.005,
          0.01,
          0.02,
          0.05,
          0.1,
          0.2
         ],
         "y": [
          98.79113042818182,
          90.80886907454546,
          39.44692890090909,
          5.6817321393636355,
          8.324964358,
          12.466350986363636
         ]
        },
        {
         "line": {
          "width": 0
         },
         "marker": {
          "color": "#EA4335"
         },
         "mode": "lines",
         "name": "Upper bound",
         "showlegend": false,
         "type": "scatter",
         "x": [
          0.005,
          0.01,
          0.02,
          0.05,
          0.1,
          0.2
         ],
         "y": [
          99.06032253327956,
          92.00965842271468,
          41.410389652420605,
          6.541819238231552,
          8.941259132719603,
          13.083648491090765
         ]
        },
        {
         "fill": "tonexty",
         "fillcolor": "rgba(234, 67, 53, 0.2)",
         "line": {
          "width": 0
         },
         "marker": {
          "color": "#EA4335"
         },
         "mode": "lines",
         "name": "Lower bound",
         "showlegend": false,
         "type": "scatter",
         "x": [
          0.005,
          0.01,
          0.02,
          0.05,
          0.1,
          0.2
         ],
         "y": [
          98.52193832308407,
          89.60807972637623,
          37.48346814939758,
          4.821645040495719,
          7.708669583280398,
          11.849053481636508
         ]
        },
        {
         "marker": {
          "color": "#FBBC04"
         },
         "mode": "lines+markers",
         "name": "JSD loss (unsupervised), categorical",
         "type": "scatter",
         "x": [
          0.005,
          0.01,
          0.02,
          0.05,
          0.1,
          0.2
         ],
         "y": [
          59.467410982500006,
          40.55718338,
          8.1183966205,
          1.22598484525,
          2.9342952313333335,
          4.515618082583334
         ]
        },
        {
         "line": {
          "width": 0
         },
         "marker": {
          "color": "#FBBC04"
         },
         "mode": "lines",
         "name": "Upper bound",
         "showlegend": false,
         "type": "scatter",
         "x": [
          0.005,
          0.01,
          0.02,
          0.05,
          0.1,
          0.2
         ],
         "y": [
          61.16218657275035,
          41.512276897512955,
          8.750988095492815,
          1.5187128924267106,
          3.4411842869134537,
          5.074327601062861
         ]
        },
        {
         "fill": "tonexty",
         "fillcolor": "rgba(251, 188, 4, 0.2)",
         "line": {
          "width": 0
         },
         "marker": {
          "color": "#FBBC04"
         },
         "mode": "lines",
         "name": "Lower bound",
         "showlegend": false,
         "type": "scatter",
         "x": [
          0.005,
          0.01,
          0.02,
          0.05,
          0.1,
          0.2
         ],
         "y": [
          57.77263539224966,
          39.60208986248704,
          7.485805145507185,
          0.9332567980732893,
          2.4274061757532133,
          3.9569085641038066
         ]
        },
        {
         "marker": {
          "color": "#34A853"
         },
         "mode": "lines+markers",
         "name": "JSD loss (semi-supervised), continuous",
         "type": "scatter",
         "x": [
          0.005,
          0.01,
          0.02,
          0.05,
          0.1,
          0.2
         ],
         "y": [
          93.87573626727273,
          91.30413490727271,
          88.16175567545454,
          65.89576303818183,
          35.84650970181818,
          11.424616664
         ]
        },
        {
         "line": {
          "width": 0
         },
         "marker": {
          "color": "#34A853"
         },
         "mode": "lines",
         "name": "Upper bound",
         "showlegend": false,
         "type": "scatter",
         "x": [
          0.005,
          0.01,
          0.02,
          0.05,
          0.1,
          0.2
         ],
         "y": [
          94.63831055946122,
          91.96131810192765,
          89.36623274829553,
          70.56844379824197,
          38.10589332787188,
          13.124514238091244
         ]
        },
        {
         "fill": "tonexty",
         "fillcolor": "rgba(52, 168, 83, 0.2)",
         "line": {
          "width": 0
         },
         "marker": {
          "color": "#34A853"
         },
         "mode": "lines",
         "name": "Lower bound",
         "showlegend": false,
         "type": "scatter",
         "x": [
          0.005,
          0.01,
          0.02,
          0.05,
          0.1,
          0.2
         ],
         "y": [
          93.11316197508424,
          90.64695171261778,
          86.95727860261356,
          61.22308227812168,
          33.58712607576447,
          9.724719089908756
         ]
        },
        {
         "marker": {
          "color": "#4285F4"
         },
         "mode": "lines+markers",
         "name": "JSD loss (unsupervised), continuous",
         "type": "scatter",
         "x": [
          0.005,
          0.01,
          0.02,
          0.05,
          0.1,
          0.2
         ],
         "y": [
          53.986509808181815,
          46.83063543818182,
          39.67959276083334,
          16.668548559090908,
          -11.907122723545454,
          -13.469145542727272
         ]
        },
        {
         "line": {
          "width": 0
         },
         "marker": {
          "color": "#4285F4"
         },
         "mode": "lines",
         "name": "Upper bound",
         "showlegend": false,
         "type": "scatter",
         "x": [
          0.005,
          0.01,
          0.02,
          0.05,
          0.1,
          0.2
         ],
         "y": [
          55.33146507505945,
          47.47025443645923,
          40.12573585731595,
          19.172491084402328,
          -10.431681381252547,
          -13.041097470469271
         ]
        },
        {
         "fill": "tonexty",
         "fillcolor": "rgba(66, 133, 244, 0.2)",
         "line": {
          "width": 0
         },
         "marker": {
          "color": "#4285F4"
         },
         "mode": "lines",
         "name": "Lower bound",
         "showlegend": false,
         "type": "scatter",
         "x": [
          0.005,
          0.01,
          0.02,
          0.05,
          0.1,
          0.2
         ],
         "y": [
          52.64155454130418,
          46.191016439904416,
          39.23344966435072,
          14.164606033779489,
          -13.382564065838361,
          -13.897193614985273
         ]
        }
       ],
       "layout": {
        "height": 600,
        "template": {
         "data": {
          "bar": [
           {
            "error_x": {
             "color": "#2a3f5f"
            },
            "error_y": {
             "color": "#2a3f5f"
            },
            "marker": {
             "line": {
              "color": "#E5ECF6",
              "width": 0.5
             }
            },
            "type": "bar"
           }
          ],
          "barpolar": [
           {
            "marker": {
             "line": {
              "color": "#E5ECF6",
              "width": 0.5
             }
            },
            "type": "barpolar"
           }
          ],
          "carpet": [
           {
            "aaxis": {
             "endlinecolor": "#2a3f5f",
             "gridcolor": "white",
             "linecolor": "white",
             "minorgridcolor": "white",
             "startlinecolor": "#2a3f5f"
            },
            "baxis": {
             "endlinecolor": "#2a3f5f",
             "gridcolor": "white",
             "linecolor": "white",
             "minorgridcolor": "white",
             "startlinecolor": "#2a3f5f"
            },
            "type": "carpet"
           }
          ],
          "choropleth": [
           {
            "colorbar": {
             "outlinewidth": 0,
             "ticks": ""
            },
            "type": "choropleth"
           }
          ],
          "contour": [
           {
            "colorbar": {
             "outlinewidth": 0,
             "ticks": ""
            },
            "colorscale": [
             [
              0,
              "#0d0887"
             ],
             [
              0.1111111111111111,
              "#46039f"
             ],
             [
              0.2222222222222222,
              "#7201a8"
             ],
             [
              0.3333333333333333,
              "#9c179e"
             ],
             [
              0.4444444444444444,
              "#bd3786"
             ],
             [
              0.5555555555555556,
              "#d8576b"
             ],
             [
              0.6666666666666666,
              "#ed7953"
             ],
             [
              0.7777777777777778,
              "#fb9f3a"
             ],
             [
              0.8888888888888888,
              "#fdca26"
             ],
             [
              1,
              "#f0f921"
             ]
            ],
            "type": "contour"
           }
          ],
          "contourcarpet": [
           {
            "colorbar": {
             "outlinewidth": 0,
             "ticks": ""
            },
            "type": "contourcarpet"
           }
          ],
          "heatmap": [
           {
            "colorbar": {
             "outlinewidth": 0,
             "ticks": ""
            },
            "colorscale": [
             [
              0,
              "#0d0887"
             ],
             [
              0.1111111111111111,
              "#46039f"
             ],
             [
              0.2222222222222222,
              "#7201a8"
             ],
             [
              0.3333333333333333,
              "#9c179e"
             ],
             [
              0.4444444444444444,
              "#bd3786"
             ],
             [
              0.5555555555555556,
              "#d8576b"
             ],
             [
              0.6666666666666666,
              "#ed7953"
             ],
             [
              0.7777777777777778,
              "#fb9f3a"
             ],
             [
              0.8888888888888888,
              "#fdca26"
             ],
             [
              1,
              "#f0f921"
             ]
            ],
            "type": "heatmap"
           }
          ],
          "heatmapgl": [
           {
            "colorbar": {
             "outlinewidth": 0,
             "ticks": ""
            },
            "colorscale": [
             [
              0,
              "#0d0887"
             ],
             [
              0.1111111111111111,
              "#46039f"
             ],
             [
              0.2222222222222222,
              "#7201a8"
             ],
             [
              0.3333333333333333,
              "#9c179e"
             ],
             [
              0.4444444444444444,
              "#bd3786"
             ],
             [
              0.5555555555555556,
              "#d8576b"
             ],
             [
              0.6666666666666666,
              "#ed7953"
             ],
             [
              0.7777777777777778,
              "#fb9f3a"
             ],
             [
              0.8888888888888888,
              "#fdca26"
             ],
             [
              1,
              "#f0f921"
             ]
            ],
            "type": "heatmapgl"
           }
          ],
          "histogram": [
           {
            "marker": {
             "colorbar": {
              "outlinewidth": 0,
              "ticks": ""
             }
            },
            "type": "histogram"
           }
          ],
          "histogram2d": [
           {
            "colorbar": {
             "outlinewidth": 0,
             "ticks": ""
            },
            "colorscale": [
             [
              0,
              "#0d0887"
             ],
             [
              0.1111111111111111,
              "#46039f"
             ],
             [
              0.2222222222222222,
              "#7201a8"
             ],
             [
              0.3333333333333333,
              "#9c179e"
             ],
             [
              0.4444444444444444,
              "#bd3786"
             ],
             [
              0.5555555555555556,
              "#d8576b"
             ],
             [
              0.6666666666666666,
              "#ed7953"
             ],
             [
              0.7777777777777778,
              "#fb9f3a"
             ],
             [
              0.8888888888888888,
              "#fdca26"
             ],
             [
              1,
              "#f0f921"
             ]
            ],
            "type": "histogram2d"
           }
          ],
          "histogram2dcontour": [
           {
            "colorbar": {
             "outlinewidth": 0,
             "ticks": ""
            },
            "colorscale": [
             [
              0,
              "#0d0887"
             ],
             [
              0.1111111111111111,
              "#46039f"
             ],
             [
              0.2222222222222222,
              "#7201a8"
             ],
             [
              0.3333333333333333,
              "#9c179e"
             ],
             [
              0.4444444444444444,
              "#bd3786"
             ],
             [
              0.5555555555555556,
              "#d8576b"
             ],
             [
              0.6666666666666666,
              "#ed7953"
             ],
             [
              0.7777777777777778,
              "#fb9f3a"
             ],
             [
              0.8888888888888888,
              "#fdca26"
             ],
             [
              1,
              "#f0f921"
             ]
            ],
            "type": "histogram2dcontour"
           }
          ],
          "mesh3d": [
           {
            "colorbar": {
             "outlinewidth": 0,
             "ticks": ""
            },
            "type": "mesh3d"
           }
          ],
          "parcoords": [
           {
            "line": {
             "colorbar": {
              "outlinewidth": 0,
              "ticks": ""
             }
            },
            "type": "parcoords"
           }
          ],
          "pie": [
           {
            "automargin": true,
            "type": "pie"
           }
          ],
          "scatter": [
           {
            "marker": {
             "colorbar": {
              "outlinewidth": 0,
              "ticks": ""
             }
            },
            "type": "scatter"
           }
          ],
          "scatter3d": [
           {
            "line": {
             "colorbar": {
              "outlinewidth": 0,
              "ticks": ""
             }
            },
            "marker": {
             "colorbar": {
              "outlinewidth": 0,
              "ticks": ""
             }
            },
            "type": "scatter3d"
           }
          ],
          "scattercarpet": [
           {
            "marker": {
             "colorbar": {
              "outlinewidth": 0,
              "ticks": ""
             }
            },
            "type": "scattercarpet"
           }
          ],
          "scattergeo": [
           {
            "marker": {
             "colorbar": {
              "outlinewidth": 0,
              "ticks": ""
             }
            },
            "type": "scattergeo"
           }
          ],
          "scattergl": [
           {
            "marker": {
             "colorbar": {
              "outlinewidth": 0,
              "ticks": ""
             }
            },
            "type": "scattergl"
           }
          ],
          "scattermapbox": [
           {
            "marker": {
             "colorbar": {
              "outlinewidth": 0,
              "ticks": ""
             }
            },
            "type": "scattermapbox"
           }
          ],
          "scatterpolar": [
           {
            "marker": {
             "colorbar": {
              "outlinewidth": 0,
              "ticks": ""
             }
            },
            "type": "scatterpolar"
           }
          ],
          "scatterpolargl": [
           {
            "marker": {
             "colorbar": {
              "outlinewidth": 0,
              "ticks": ""
             }
            },
            "type": "scatterpolargl"
           }
          ],
          "scatterternary": [
           {
            "marker": {
             "colorbar": {
              "outlinewidth": 0,
              "ticks": ""
             }
            },
            "type": "scatterternary"
           }
          ],
          "surface": [
           {
            "colorbar": {
             "outlinewidth": 0,
             "ticks": ""
            },
            "colorscale": [
             [
              0,
              "#0d0887"
             ],
             [
              0.1111111111111111,
              "#46039f"
             ],
             [
              0.2222222222222222,
              "#7201a8"
             ],
             [
              0.3333333333333333,
              "#9c179e"
             ],
             [
              0.4444444444444444,
              "#bd3786"
             ],
             [
              0.5555555555555556,
              "#d8576b"
             ],
             [
              0.6666666666666666,
              "#ed7953"
             ],
             [
              0.7777777777777778,
              "#fb9f3a"
             ],
             [
              0.8888888888888888,
              "#fdca26"
             ],
             [
              1,
              "#f0f921"
             ]
            ],
            "type": "surface"
           }
          ],
          "table": [
           {
            "cells": {
             "fill": {
              "color": "#EBF0F8"
             },
             "line": {
              "color": "white"
             }
            },
            "header": {
             "fill": {
              "color": "#C8D4E3"
             },
             "line": {
              "color": "white"
             }
            },
            "type": "table"
           }
          ]
         },
         "layout": {
          "annotationdefaults": {
           "arrowcolor": "#2a3f5f",
           "arrowhead": 0,
           "arrowwidth": 1
          },
          "autotypenumbers": "strict",
          "coloraxis": {
           "colorbar": {
            "outlinewidth": 0,
            "ticks": ""
           }
          },
          "colorscale": {
           "diverging": [
            [
             0,
             "#8e0152"
            ],
            [
             0.1,
             "#c51b7d"
            ],
            [
             0.2,
             "#de77ae"
            ],
            [
             0.3,
             "#f1b6da"
            ],
            [
             0.4,
             "#fde0ef"
            ],
            [
             0.5,
             "#f7f7f7"
            ],
            [
             0.6,
             "#e6f5d0"
            ],
            [
             0.7,
             "#b8e186"
            ],
            [
             0.8,
             "#7fbc41"
            ],
            [
             0.9,
             "#4d9221"
            ],
            [
             1,
             "#276419"
            ]
           ],
           "sequential": [
            [
             0,
             "#0d0887"
            ],
            [
             0.1111111111111111,
             "#46039f"
            ],
            [
             0.2222222222222222,
             "#7201a8"
            ],
            [
             0.3333333333333333,
             "#9c179e"
            ],
            [
             0.4444444444444444,
             "#bd3786"
            ],
            [
             0.5555555555555556,
             "#d8576b"
            ],
            [
             0.6666666666666666,
             "#ed7953"
            ],
            [
             0.7777777777777778,
             "#fb9f3a"
            ],
            [
             0.8888888888888888,
             "#fdca26"
            ],
            [
             1,
             "#f0f921"
            ]
           ],
           "sequentialminus": [
            [
             0,
             "#0d0887"
            ],
            [
             0.1111111111111111,
             "#46039f"
            ],
            [
             0.2222222222222222,
             "#7201a8"
            ],
            [
             0.3333333333333333,
             "#9c179e"
            ],
            [
             0.4444444444444444,
             "#bd3786"
            ],
            [
             0.5555555555555556,
             "#d8576b"
            ],
            [
             0.6666666666666666,
             "#ed7953"
            ],
            [
             0.7777777777777778,
             "#fb9f3a"
            ],
            [
             0.8888888888888888,
             "#fdca26"
            ],
            [
             1,
             "#f0f921"
            ]
           ]
          },
          "colorway": [
           "#636efa",
           "#EF553B",
           "#00cc96",
           "#ab63fa",
           "#FFA15A",
           "#19d3f3",
           "#FF6692",
           "#B6E880",
           "#FF97FF",
           "#FECB52"
          ],
          "font": {
           "color": "#2a3f5f"
          },
          "geo": {
           "bgcolor": "white",
           "lakecolor": "white",
           "landcolor": "#E5ECF6",
           "showlakes": true,
           "showland": true,
           "subunitcolor": "white"
          },
          "hoverlabel": {
           "align": "left"
          },
          "hovermode": "closest",
          "mapbox": {
           "style": "light"
          },
          "paper_bgcolor": "white",
          "plot_bgcolor": "#E5ECF6",
          "polar": {
           "angularaxis": {
            "gridcolor": "white",
            "linecolor": "white",
            "ticks": ""
           },
           "bgcolor": "#E5ECF6",
           "radialaxis": {
            "gridcolor": "white",
            "linecolor": "white",
            "ticks": ""
           }
          },
          "scene": {
           "xaxis": {
            "backgroundcolor": "#E5ECF6",
            "gridcolor": "white",
            "gridwidth": 2,
            "linecolor": "white",
            "showbackground": true,
            "ticks": "",
            "zerolinecolor": "white"
           },
           "yaxis": {
            "backgroundcolor": "#E5ECF6",
            "gridcolor": "white",
            "gridwidth": 2,
            "linecolor": "white",
            "showbackground": true,
            "ticks": "",
            "zerolinecolor": "white"
           },
           "zaxis": {
            "backgroundcolor": "#E5ECF6",
            "gridcolor": "white",
            "gridwidth": 2,
            "linecolor": "white",
            "showbackground": true,
            "ticks": "",
            "zerolinecolor": "white"
           }
          },
          "shapedefaults": {
           "line": {
            "color": "#2a3f5f"
           }
          },
          "ternary": {
           "aaxis": {
            "gridcolor": "white",
            "linecolor": "white",
            "ticks": ""
           },
           "baxis": {
            "gridcolor": "white",
            "linecolor": "white",
            "ticks": ""
           },
           "bgcolor": "#E5ECF6",
           "caxis": {
            "gridcolor": "white",
            "linecolor": "white",
            "ticks": ""
           }
          },
          "title": {
           "x": 0.05
          },
          "xaxis": {
           "automargin": true,
           "gridcolor": "white",
           "linecolor": "white",
           "ticks": "",
           "title": {
            "standoff": 15
           },
           "zerolinecolor": "white",
           "zerolinewidth": 2
          },
          "yaxis": {
           "automargin": true,
           "gridcolor": "white",
           "linecolor": "white",
           "ticks": "",
           "title": {
            "standoff": 15
           },
           "zerolinecolor": "white",
           "zerolinewidth": 2
          }
         }
        },
        "title": {
         "text": "sigma"
        },
        "width": 1000,
        "yaxis": {
         "dtick": 25,
         "range": [
          -175,
          100
         ],
         "tick0": 0
        }
       }
      }
     },
     "metadata": {}
    },
    {
     "output_type": "display_data",
     "data": {
      "application/vnd.plotly.v1+json": {
       "config": {
        "plotlyServerURL": "https://plot.ly"
       },
       "data": [
        {
         "marker": {
          "color": "#EA4335"
         },
         "mode": "lines+markers",
         "name": "JSD loss (semi-supervised), categorical",
         "type": "scatter",
         "x": [
          2,
          3,
          4,
          5,
          10,
          20,
          30
         ],
         "y": [
          49.10660225636364,
          39.44692890090909,
          36.50915153818182,
          32.82720332818182,
          11.261164319,
          -26.774257992727268,
          -49.877531405
         ]
        },
        {
         "line": {
          "width": 0
         },
         "marker": {
          "color": "#EA4335"
         },
         "mode": "lines",
         "name": "Upper bound",
         "showlegend": false,
         "type": "scatter",
         "x": [
          2,
          3,
          4,
          5,
          10,
          20,
          30
         ],
         "y": [
          51.080593214869666,
          41.410389652420605,
          37.6067120904528,
          34.55424808538577,
          12.158139317090857,
          -25.5204374448945,
          -48.958056215263014
         ]
        },
        {
         "fill": "tonexty",
         "fillcolor": "rgba(234, 67, 53, 0.2)",
         "line": {
          "width": 0
         },
         "marker": {
          "color": "#EA4335"
         },
         "mode": "lines",
         "name": "Lower bound",
         "showlegend": false,
         "type": "scatter",
         "x": [
          2,
          3,
          4,
          5,
          10,
          20,
          30
         ],
         "y": [
          47.13261129785761,
          37.48346814939758,
          35.411590985910834,
          31.10015857097786,
          10.364189320909144,
          -28.028078540560035,
          -50.797006594736985
         ]
        },
        {
         "marker": {
          "color": "#FBBC04"
         },
         "mode": "lines+markers",
         "name": "JSD loss (unsupervised), categorical",
         "type": "scatter",
         "x": [
          2,
          3,
          4,
          5,
          10,
          20,
          30
         ],
         "y": [
          11.301466658416667,
          8.1183966205,
          6.26681205325,
          5.169298635416667,
          -9.42938745225,
          -38.835525250833335,
          -56.040864419
         ]
        },
        {
         "line": {
          "width": 0
         },
         "marker": {
          "color": "#FBBC04"
         },
         "mode": "lines",
         "name": "Upper bound",
         "showlegend": false,
         "type": "scatter",
         "x": [
          2,
          3,
          4,
          5,
          10,
          20,
          30
         ],
         "y": [
          12.176909016803682,
          8.750988095492815,
          6.803655179533655,
          5.770924735791166,
          -8.217192337134524,
          -37.78468957022798,
          -55.39649262767087
         ]
        },
        {
         "fill": "tonexty",
         "fillcolor": "rgba(251, 188, 4, 0.2)",
         "line": {
          "width": 0
         },
         "marker": {
          "color": "#FBBC04"
         },
         "mode": "lines",
         "name": "Lower bound",
         "showlegend": false,
         "type": "scatter",
         "x": [
          2,
          3,
          4,
          5,
          10,
          20,
          30
         ],
         "y": [
          10.42602430002965,
          7.485805145507185,
          5.729968926966345,
          4.567672535042169,
          -10.641582567365475,
          -39.88636093143869,
          -56.68523621032914
         ]
        },
        {
         "marker": {
          "color": "#34A853"
         },
         "mode": "lines+markers",
         "name": "JSD loss (semi-supervised), continuous",
         "type": "scatter",
         "x": [
          2,
          3,
          4,
          5
         ],
         "y": [
          93.86039841181818,
          88.16175567545454,
          66.33180501636365,
          -12.24556025709091
         ]
        },
        {
         "line": {
          "width": 0
         },
         "marker": {
          "color": "#34A853"
         },
         "mode": "lines",
         "name": "Upper bound",
         "showlegend": false,
         "type": "scatter",
         "x": [
          2,
          3,
          4,
          5
         ],
         "y": [
          94.73353804920059,
          89.36623274829553,
          71.76096765503168,
          0.5963606152787744
         ]
        },
        {
         "fill": "tonexty",
         "fillcolor": "rgba(52, 168, 83, 0.2)",
         "line": {
          "width": 0
         },
         "marker": {
          "color": "#34A853"
         },
         "mode": "lines",
         "name": "Lower bound",
         "showlegend": false,
         "type": "scatter",
         "x": [
          2,
          3,
          4,
          5
         ],
         "y": [
          92.98725877443577,
          86.95727860261356,
          60.90264237769562,
          -25.087481129460592
         ]
        },
        {
         "marker": {
          "color": "#4285F4"
         },
         "mode": "lines+markers",
         "name": "JSD loss (unsupervised), continuous",
         "type": "scatter",
         "x": [
          2,
          3,
          4,
          5
         ],
         "y": [
          37.72371349363637,
          39.67959276083334,
          38.47180962818181,
          -15.893586784363636
         ]
        },
        {
         "line": {
          "width": 0
         },
         "marker": {
          "color": "#4285F4"
         },
         "mode": "lines",
         "name": "Upper bound",
         "showlegend": false,
         "type": "scatter",
         "x": [
          2,
          3,
          4,
          5
         ],
         "y": [
          38.23632624761699,
          40.12573585731595,
          40.8730910824677,
          -4.923128383219021
         ]
        },
        {
         "fill": "tonexty",
         "fillcolor": "rgba(66, 133, 244, 0.2)",
         "line": {
          "width": 0
         },
         "marker": {
          "color": "#4285F4"
         },
         "mode": "lines",
         "name": "Lower bound",
         "showlegend": false,
         "type": "scatter",
         "x": [
          2,
          3,
          4,
          5
         ],
         "y": [
          37.21110073965575,
          39.23344966435072,
          36.070528173895916,
          -26.864045185508253
         ]
        }
       ],
       "layout": {
        "height": 600,
        "template": {
         "data": {
          "bar": [
           {
            "error_x": {
             "color": "#2a3f5f"
            },
            "error_y": {
             "color": "#2a3f5f"
            },
            "marker": {
             "line": {
              "color": "#E5ECF6",
              "width": 0.5
             }
            },
            "type": "bar"
           }
          ],
          "barpolar": [
           {
            "marker": {
             "line": {
              "color": "#E5ECF6",
              "width": 0.5
             }
            },
            "type": "barpolar"
           }
          ],
          "carpet": [
           {
            "aaxis": {
             "endlinecolor": "#2a3f5f",
             "gridcolor": "white",
             "linecolor": "white",
             "minorgridcolor": "white",
             "startlinecolor": "#2a3f5f"
            },
            "baxis": {
             "endlinecolor": "#2a3f5f",
             "gridcolor": "white",
             "linecolor": "white",
             "minorgridcolor": "white",
             "startlinecolor": "#2a3f5f"
            },
            "type": "carpet"
           }
          ],
          "choropleth": [
           {
            "colorbar": {
             "outlinewidth": 0,
             "ticks": ""
            },
            "type": "choropleth"
           }
          ],
          "contour": [
           {
            "colorbar": {
             "outlinewidth": 0,
             "ticks": ""
            },
            "colorscale": [
             [
              0,
              "#0d0887"
             ],
             [
              0.1111111111111111,
              "#46039f"
             ],
             [
              0.2222222222222222,
              "#7201a8"
             ],
             [
              0.3333333333333333,
              "#9c179e"
             ],
             [
              0.4444444444444444,
              "#bd3786"
             ],
             [
              0.5555555555555556,
              "#d8576b"
             ],
             [
              0.6666666666666666,
              "#ed7953"
             ],
             [
              0.7777777777777778,
              "#fb9f3a"
             ],
             [
              0.8888888888888888,
              "#fdca26"
             ],
             [
              1,
              "#f0f921"
             ]
            ],
            "type": "contour"
           }
          ],
          "contourcarpet": [
           {
            "colorbar": {
             "outlinewidth": 0,
             "ticks": ""
            },
            "type": "contourcarpet"
           }
          ],
          "heatmap": [
           {
            "colorbar": {
             "outlinewidth": 0,
             "ticks": ""
            },
            "colorscale": [
             [
              0,
              "#0d0887"
             ],
             [
              0.1111111111111111,
              "#46039f"
             ],
             [
              0.2222222222222222,
              "#7201a8"
             ],
             [
              0.3333333333333333,
              "#9c179e"
             ],
             [
              0.4444444444444444,
              "#bd3786"
             ],
             [
              0.5555555555555556,
              "#d8576b"
             ],
             [
              0.6666666666666666,
              "#ed7953"
             ],
             [
              0.7777777777777778,
              "#fb9f3a"
             ],
             [
              0.8888888888888888,
              "#fdca26"
             ],
             [
              1,
              "#f0f921"
             ]
            ],
            "type": "heatmap"
           }
          ],
          "heatmapgl": [
           {
            "colorbar": {
             "outlinewidth": 0,
             "ticks": ""
            },
            "colorscale": [
             [
              0,
              "#0d0887"
             ],
             [
              0.1111111111111111,
              "#46039f"
             ],
             [
              0.2222222222222222,
              "#7201a8"
             ],
             [
              0.3333333333333333,
              "#9c179e"
             ],
             [
              0.4444444444444444,
              "#bd3786"
             ],
             [
              0.5555555555555556,
              "#d8576b"
             ],
             [
              0.6666666666666666,
              "#ed7953"
             ],
             [
              0.7777777777777778,
              "#fb9f3a"
             ],
             [
              0.8888888888888888,
              "#fdca26"
             ],
             [
              1,
              "#f0f921"
             ]
            ],
            "type": "heatmapgl"
           }
          ],
          "histogram": [
           {
            "marker": {
             "colorbar": {
              "outlinewidth": 0,
              "ticks": ""
             }
            },
            "type": "histogram"
           }
          ],
          "histogram2d": [
           {
            "colorbar": {
             "outlinewidth": 0,
             "ticks": ""
            },
            "colorscale": [
             [
              0,
              "#0d0887"
             ],
             [
              0.1111111111111111,
              "#46039f"
             ],
             [
              0.2222222222222222,
              "#7201a8"
             ],
             [
              0.3333333333333333,
              "#9c179e"
             ],
             [
              0.4444444444444444,
              "#bd3786"
             ],
             [
              0.5555555555555556,
              "#d8576b"
             ],
             [
              0.6666666666666666,
              "#ed7953"
             ],
             [
              0.7777777777777778,
              "#fb9f3a"
             ],
             [
              0.8888888888888888,
              "#fdca26"
             ],
             [
              1,
              "#f0f921"
             ]
            ],
            "type": "histogram2d"
           }
          ],
          "histogram2dcontour": [
           {
            "colorbar": {
             "outlinewidth": 0,
             "ticks": ""
            },
            "colorscale": [
             [
              0,
              "#0d0887"
             ],
             [
              0.1111111111111111,
              "#46039f"
             ],
             [
              0.2222222222222222,
              "#7201a8"
             ],
             [
              0.3333333333333333,
              "#9c179e"
             ],
             [
              0.4444444444444444,
              "#bd3786"
             ],
             [
              0.5555555555555556,
              "#d8576b"
             ],
             [
              0.6666666666666666,
              "#ed7953"
             ],
             [
              0.7777777777777778,
              "#fb9f3a"
             ],
             [
              0.8888888888888888,
              "#fdca26"
             ],
             [
              1,
              "#f0f921"
             ]
            ],
            "type": "histogram2dcontour"
           }
          ],
          "mesh3d": [
           {
            "colorbar": {
             "outlinewidth": 0,
             "ticks": ""
            },
            "type": "mesh3d"
           }
          ],
          "parcoords": [
           {
            "line": {
             "colorbar": {
              "outlinewidth": 0,
              "ticks": ""
             }
            },
            "type": "parcoords"
           }
          ],
          "pie": [
           {
            "automargin": true,
            "type": "pie"
           }
          ],
          "scatter": [
           {
            "marker": {
             "colorbar": {
              "outlinewidth": 0,
              "ticks": ""
             }
            },
            "type": "scatter"
           }
          ],
          "scatter3d": [
           {
            "line": {
             "colorbar": {
              "outlinewidth": 0,
              "ticks": ""
             }
            },
            "marker": {
             "colorbar": {
              "outlinewidth": 0,
              "ticks": ""
             }
            },
            "type": "scatter3d"
           }
          ],
          "scattercarpet": [
           {
            "marker": {
             "colorbar": {
              "outlinewidth": 0,
              "ticks": ""
             }
            },
            "type": "scattercarpet"
           }
          ],
          "scattergeo": [
           {
            "marker": {
             "colorbar": {
              "outlinewidth": 0,
              "ticks": ""
             }
            },
            "type": "scattergeo"
           }
          ],
          "scattergl": [
           {
            "marker": {
             "colorbar": {
              "outlinewidth": 0,
              "ticks": ""
             }
            },
            "type": "scattergl"
           }
          ],
          "scattermapbox": [
           {
            "marker": {
             "colorbar": {
              "outlinewidth": 0,
              "ticks": ""
             }
            },
            "type": "scattermapbox"
           }
          ],
          "scatterpolar": [
           {
            "marker": {
             "colorbar": {
              "outlinewidth": 0,
              "ticks": ""
             }
            },
            "type": "scatterpolar"
           }
          ],
          "scatterpolargl": [
           {
            "marker": {
             "colorbar": {
              "outlinewidth": 0,
              "ticks": ""
             }
            },
            "type": "scatterpolargl"
           }
          ],
          "scatterternary": [
           {
            "marker": {
             "colorbar": {
              "outlinewidth": 0,
              "ticks": ""
             }
            },
            "type": "scatterternary"
           }
          ],
          "surface": [
           {
            "colorbar": {
             "outlinewidth": 0,
             "ticks": ""
            },
            "colorscale": [
             [
              0,
              "#0d0887"
             ],
             [
              0.1111111111111111,
              "#46039f"
             ],
             [
              0.2222222222222222,
              "#7201a8"
             ],
             [
              0.3333333333333333,
              "#9c179e"
             ],
             [
              0.4444444444444444,
              "#bd3786"
             ],
             [
              0.5555555555555556,
              "#d8576b"
             ],
             [
              0.6666666666666666,
              "#ed7953"
             ],
             [
              0.7777777777777778,
              "#fb9f3a"
             ],
             [
              0.8888888888888888,
              "#fdca26"
             ],
             [
              1,
              "#f0f921"
             ]
            ],
            "type": "surface"
           }
          ],
          "table": [
           {
            "cells": {
             "fill": {
              "color": "#EBF0F8"
             },
             "line": {
              "color": "white"
             }
            },
            "header": {
             "fill": {
              "color": "#C8D4E3"
             },
             "line": {
              "color": "white"
             }
            },
            "type": "table"
           }
          ]
         },
         "layout": {
          "annotationdefaults": {
           "arrowcolor": "#2a3f5f",
           "arrowhead": 0,
           "arrowwidth": 1
          },
          "autotypenumbers": "strict",
          "coloraxis": {
           "colorbar": {
            "outlinewidth": 0,
            "ticks": ""
           }
          },
          "colorscale": {
           "diverging": [
            [
             0,
             "#8e0152"
            ],
            [
             0.1,
             "#c51b7d"
            ],
            [
             0.2,
             "#de77ae"
            ],
            [
             0.3,
             "#f1b6da"
            ],
            [
             0.4,
             "#fde0ef"
            ],
            [
             0.5,
             "#f7f7f7"
            ],
            [
             0.6,
             "#e6f5d0"
            ],
            [
             0.7,
             "#b8e186"
            ],
            [
             0.8,
             "#7fbc41"
            ],
            [
             0.9,
             "#4d9221"
            ],
            [
             1,
             "#276419"
            ]
           ],
           "sequential": [
            [
             0,
             "#0d0887"
            ],
            [
             0.1111111111111111,
             "#46039f"
            ],
            [
             0.2222222222222222,
             "#7201a8"
            ],
            [
             0.3333333333333333,
             "#9c179e"
            ],
            [
             0.4444444444444444,
             "#bd3786"
            ],
            [
             0.5555555555555556,
             "#d8576b"
            ],
            [
             0.6666666666666666,
             "#ed7953"
            ],
            [
             0.7777777777777778,
             "#fb9f3a"
            ],
            [
             0.8888888888888888,
             "#fdca26"
            ],
            [
             1,
             "#f0f921"
            ]
           ],
           "sequentialminus": [
            [
             0,
             "#0d0887"
            ],
            [
             0.1111111111111111,
             "#46039f"
            ],
            [
             0.2222222222222222,
             "#7201a8"
            ],
            [
             0.3333333333333333,
             "#9c179e"
            ],
            [
             0.4444444444444444,
             "#bd3786"
            ],
            [
             0.5555555555555556,
             "#d8576b"
            ],
            [
             0.6666666666666666,
             "#ed7953"
            ],
            [
             0.7777777777777778,
             "#fb9f3a"
            ],
            [
             0.8888888888888888,
             "#fdca26"
            ],
            [
             1,
             "#f0f921"
            ]
           ]
          },
          "colorway": [
           "#636efa",
           "#EF553B",
           "#00cc96",
           "#ab63fa",
           "#FFA15A",
           "#19d3f3",
           "#FF6692",
           "#B6E880",
           "#FF97FF",
           "#FECB52"
          ],
          "font": {
           "color": "#2a3f5f"
          },
          "geo": {
           "bgcolor": "white",
           "lakecolor": "white",
           "landcolor": "#E5ECF6",
           "showlakes": true,
           "showland": true,
           "subunitcolor": "white"
          },
          "hoverlabel": {
           "align": "left"
          },
          "hovermode": "closest",
          "mapbox": {
           "style": "light"
          },
          "paper_bgcolor": "white",
          "plot_bgcolor": "#E5ECF6",
          "polar": {
           "angularaxis": {
            "gridcolor": "white",
            "linecolor": "white",
            "ticks": ""
           },
           "bgcolor": "#E5ECF6",
           "radialaxis": {
            "gridcolor": "white",
            "linecolor": "white",
            "ticks": ""
           }
          },
          "scene": {
           "xaxis": {
            "backgroundcolor": "#E5ECF6",
            "gridcolor": "white",
            "gridwidth": 2,
            "linecolor": "white",
            "showbackground": true,
            "ticks": "",
            "zerolinecolor": "white"
           },
           "yaxis": {
            "backgroundcolor": "#E5ECF6",
            "gridcolor": "white",
            "gridwidth": 2,
            "linecolor": "white",
            "showbackground": true,
            "ticks": "",
            "zerolinecolor": "white"
           },
           "zaxis": {
            "backgroundcolor": "#E5ECF6",
            "gridcolor": "white",
            "gridwidth": 2,
            "linecolor": "white",
            "showbackground": true,
            "ticks": "",
            "zerolinecolor": "white"
           }
          },
          "shapedefaults": {
           "line": {
            "color": "#2a3f5f"
           }
          },
          "ternary": {
           "aaxis": {
            "gridcolor": "white",
            "linecolor": "white",
            "ticks": ""
           },
           "baxis": {
            "gridcolor": "white",
            "linecolor": "white",
            "ticks": ""
           },
           "bgcolor": "#E5ECF6",
           "caxis": {
            "gridcolor": "white",
            "linecolor": "white",
            "ticks": ""
           }
          },
          "title": {
           "x": 0.05
          },
          "xaxis": {
           "automargin": true,
           "gridcolor": "white",
           "linecolor": "white",
           "ticks": "",
           "title": {
            "standoff": 15
           },
           "zerolinecolor": "white",
           "zerolinewidth": 2
          },
          "yaxis": {
           "automargin": true,
           "gridcolor": "white",
           "linecolor": "white",
           "ticks": "",
           "title": {
            "standoff": 15
           },
           "zerolinecolor": "white",
           "zerolinewidth": 2
          }
         }
        },
        "title": {
         "text": "BN_size"
        },
        "width": 1000,
        "yaxis": {
         "dtick": 25,
         "range": [
          -175,
          100
         ],
         "tick0": 0
        }
       }
      }
     },
     "metadata": {}
    },
    {
     "output_type": "display_data",
     "data": {
      "application/vnd.plotly.v1+json": {
       "config": {
        "plotlyServerURL": "https://plot.ly"
       },
       "data": [
        {
         "error_y": {
          "array": [
           1.7689920134268646,
           3.2452444919980428,
           2.7124983689529603,
           2.181774541881885,
           1.2490037402446015,
           0.9096072655030114,
           2.731511868476448,
           3.120583579440424,
           1.8301056103331137,
           2.1246651827338723
          ]
         },
         "marker": {
          "color": "#EA4335"
         },
         "name": "JSD loss (semi-supervised), categorical",
         "type": "bar",
         "x": [
          "0.01",
          "0.02",
          "0.05",
          "0.1",
          "0.2",
          "0.01 ·\n(100/$K_j$)",
          "0.02 ·\n(100/$K_j$)",
          "0.05 ·\n(100/$K_j$)",
          "0.1 ·\n(100/$K_j$)",
          "0.2 ·\n(100/$K_j$)"
         ],
         "y": [
          31.701593539166666,
          34.217080612500006,
          36.130097696666674,
          39.689475744999996,
          41.3806730425,
          39.6956984425,
          19.023718979166663,
          -75.0825270575,
          -116.1756716,
          -125.29152359166665
         ]
        },
        {
         "error_y": {
          "array": [
           0.5246925218835085,
           0.33175438514154093,
           0.585499663545618,
           0.7352611237089303,
           0.6764994893582628,
           0.5916312924724327,
           1.0356309651858036,
           1.4296682663313347,
           1.1979413065711721,
           0.8169674554780483
          ]
         },
         "marker": {
          "color": "#FBBC04"
         },
         "name": "JSD loss (unsupervised), categorical",
         "type": "bar",
         "x": [
          "0.01",
          "0.02",
          "0.05",
          "0.1",
          "0.2",
          "0.01 ·\n(100/$K_j$)",
          "0.02 ·\n(100/$K_j$)",
          "0.05 ·\n(100/$K_j$)",
          "0.1 ·\n(100/$K_j$)",
          "0.2 ·\n(100/$K_j$)"
         ],
         "y": [
          0.6326703378333334,
          0.9127667237499999,
          2.4191299241666666,
          5.727464741666666,
          9.50199139425,
          7.6000299645,
          -23.132372574166666,
          -98.77532177,
          -122.30742438333333,
          -127.51473785
         ]
        },
        {
         "error_y": {
          "array": [
           0.8855783940882818,
           2.506552095350052,
           6.691261904842107,
           5.322695598173791,
           4.591384671886621,
           0.7249285237129715,
           1.6712345424561985,
           6.1551100621628665,
           3.312031275381958,
           3.677449509028325
          ]
         },
         "marker": {
          "color": "#34A853"
         },
         "name": "JSD loss (semi-supervised), continuous",
         "type": "bar",
         "x": [
          "0.01",
          "0.02",
          "0.05",
          "0.1",
          "0.2",
          "0.01 ·\n(100/$K_j$)",
          "0.02 ·\n(100/$K_j$)",
          "0.05 ·\n(100/$K_j$)",
          "0.1 ·\n(100/$K_j$)",
          "0.2 ·\n(100/$K_j$)"
         ],
         "y": [
          87.2674656709091,
          85.74969674454547,
          9.5224246718,
          -82.446074486,
          -153.03027063999997,
          88.56134041300001,
          85.747849708,
          9.4254519411,
          -81.14633122699999,
          -154.41463297
         ]
        },
        {
         "error_y": {
          "array": [
           0.5047376030840265,
           0.6978722169597417,
           3.5769810273012754,
           5.391298050350877,
           3.719384408083878,
           0.3305352194167336,
           0.7361049755344587,
           6.341047390745826,
           3.771244055149724,
           5.425429405836528
          ]
         },
         "marker": {
          "color": "#4285F4"
         },
         "name": "JSD loss (unsupervised), continuous",
         "type": "bar",
         "x": [
          "0.01",
          "0.02",
          "0.05",
          "0.1",
          "0.2",
          "0.01 ·\n(100/$K_j$)",
          "0.02 ·\n(100/$K_j$)",
          "0.05 ·\n(100/$K_j$)",
          "0.1 ·\n(100/$K_j$)",
          "0.2 ·\n(100/$K_j$)"
         ],
         "y": [
          39.65075936909091,
          46.515227631818185,
          -4.975820075727272,
          -104.93383864636363,
          -183.22932897272725,
          39.89226775636364,
          47.00598359,
          -8.533346273000001,
          -101.9549871509091,
          -184.90231818
         ]
        }
       ],
       "layout": {
        "height": 600,
        "template": {
         "data": {
          "bar": [
           {
            "error_x": {
             "color": "#2a3f5f"
            },
            "error_y": {
             "color": "#2a3f5f"
            },
            "marker": {
             "line": {
              "color": "#E5ECF6",
              "width": 0.5
             }
            },
            "type": "bar"
           }
          ],
          "barpolar": [
           {
            "marker": {
             "line": {
              "color": "#E5ECF6",
              "width": 0.5
             }
            },
            "type": "barpolar"
           }
          ],
          "carpet": [
           {
            "aaxis": {
             "endlinecolor": "#2a3f5f",
             "gridcolor": "white",
             "linecolor": "white",
             "minorgridcolor": "white",
             "startlinecolor": "#2a3f5f"
            },
            "baxis": {
             "endlinecolor": "#2a3f5f",
             "gridcolor": "white",
             "linecolor": "white",
             "minorgridcolor": "white",
             "startlinecolor": "#2a3f5f"
            },
            "type": "carpet"
           }
          ],
          "choropleth": [
           {
            "colorbar": {
             "outlinewidth": 0,
             "ticks": ""
            },
            "type": "choropleth"
           }
          ],
          "contour": [
           {
            "colorbar": {
             "outlinewidth": 0,
             "ticks": ""
            },
            "colorscale": [
             [
              0,
              "#0d0887"
             ],
             [
              0.1111111111111111,
              "#46039f"
             ],
             [
              0.2222222222222222,
              "#7201a8"
             ],
             [
              0.3333333333333333,
              "#9c179e"
             ],
             [
              0.4444444444444444,
              "#bd3786"
             ],
             [
              0.5555555555555556,
              "#d8576b"
             ],
             [
              0.6666666666666666,
              "#ed7953"
             ],
             [
              0.7777777777777778,
              "#fb9f3a"
             ],
             [
              0.8888888888888888,
              "#fdca26"
             ],
             [
              1,
              "#f0f921"
             ]
            ],
            "type": "contour"
           }
          ],
          "contourcarpet": [
           {
            "colorbar": {
             "outlinewidth": 0,
             "ticks": ""
            },
            "type": "contourcarpet"
           }
          ],
          "heatmap": [
           {
            "colorbar": {
             "outlinewidth": 0,
             "ticks": ""
            },
            "colorscale": [
             [
              0,
              "#0d0887"
             ],
             [
              0.1111111111111111,
              "#46039f"
             ],
             [
              0.2222222222222222,
              "#7201a8"
             ],
             [
              0.3333333333333333,
              "#9c179e"
             ],
             [
              0.4444444444444444,
              "#bd3786"
             ],
             [
              0.5555555555555556,
              "#d8576b"
             ],
             [
              0.6666666666666666,
              "#ed7953"
             ],
             [
              0.7777777777777778,
              "#fb9f3a"
             ],
             [
              0.8888888888888888,
              "#fdca26"
             ],
             [
              1,
              "#f0f921"
             ]
            ],
            "type": "heatmap"
           }
          ],
          "heatmapgl": [
           {
            "colorbar": {
             "outlinewidth": 0,
             "ticks": ""
            },
            "colorscale": [
             [
              0,
              "#0d0887"
             ],
             [
              0.1111111111111111,
              "#46039f"
             ],
             [
              0.2222222222222222,
              "#7201a8"
             ],
             [
              0.3333333333333333,
              "#9c179e"
             ],
             [
              0.4444444444444444,
              "#bd3786"
             ],
             [
              0.5555555555555556,
              "#d8576b"
             ],
             [
              0.6666666666666666,
              "#ed7953"
             ],
             [
              0.7777777777777778,
              "#fb9f3a"
             ],
             [
              0.8888888888888888,
              "#fdca26"
             ],
             [
              1,
              "#f0f921"
             ]
            ],
            "type": "heatmapgl"
           }
          ],
          "histogram": [
           {
            "marker": {
             "colorbar": {
              "outlinewidth": 0,
              "ticks": ""
             }
            },
            "type": "histogram"
           }
          ],
          "histogram2d": [
           {
            "colorbar": {
             "outlinewidth": 0,
             "ticks": ""
            },
            "colorscale": [
             [
              0,
              "#0d0887"
             ],
             [
              0.1111111111111111,
              "#46039f"
             ],
             [
              0.2222222222222222,
              "#7201a8"
             ],
             [
              0.3333333333333333,
              "#9c179e"
             ],
             [
              0.4444444444444444,
              "#bd3786"
             ],
             [
              0.5555555555555556,
              "#d8576b"
             ],
             [
              0.6666666666666666,
              "#ed7953"
             ],
             [
              0.7777777777777778,
              "#fb9f3a"
             ],
             [
              0.8888888888888888,
              "#fdca26"
             ],
             [
              1,
              "#f0f921"
             ]
            ],
            "type": "histogram2d"
           }
          ],
          "histogram2dcontour": [
           {
            "colorbar": {
             "outlinewidth": 0,
             "ticks": ""
            },
            "colorscale": [
             [
              0,
              "#0d0887"
             ],
             [
              0.1111111111111111,
              "#46039f"
             ],
             [
              0.2222222222222222,
              "#7201a8"
             ],
             [
              0.3333333333333333,
              "#9c179e"
             ],
             [
              0.4444444444444444,
              "#bd3786"
             ],
             [
              0.5555555555555556,
              "#d8576b"
             ],
             [
              0.6666666666666666,
              "#ed7953"
             ],
             [
              0.7777777777777778,
              "#fb9f3a"
             ],
             [
              0.8888888888888888,
              "#fdca26"
             ],
             [
              1,
              "#f0f921"
             ]
            ],
            "type": "histogram2dcontour"
           }
          ],
          "mesh3d": [
           {
            "colorbar": {
             "outlinewidth": 0,
             "ticks": ""
            },
            "type": "mesh3d"
           }
          ],
          "parcoords": [
           {
            "line": {
             "colorbar": {
              "outlinewidth": 0,
              "ticks": ""
             }
            },
            "type": "parcoords"
           }
          ],
          "pie": [
           {
            "automargin": true,
            "type": "pie"
           }
          ],
          "scatter": [
           {
            "marker": {
             "colorbar": {
              "outlinewidth": 0,
              "ticks": ""
             }
            },
            "type": "scatter"
           }
          ],
          "scatter3d": [
           {
            "line": {
             "colorbar": {
              "outlinewidth": 0,
              "ticks": ""
             }
            },
            "marker": {
             "colorbar": {
              "outlinewidth": 0,
              "ticks": ""
             }
            },
            "type": "scatter3d"
           }
          ],
          "scattercarpet": [
           {
            "marker": {
             "colorbar": {
              "outlinewidth": 0,
              "ticks": ""
             }
            },
            "type": "scattercarpet"
           }
          ],
          "scattergeo": [
           {
            "marker": {
             "colorbar": {
              "outlinewidth": 0,
              "ticks": ""
             }
            },
            "type": "scattergeo"
           }
          ],
          "scattergl": [
           {
            "marker": {
             "colorbar": {
              "outlinewidth": 0,
              "ticks": ""
             }
            },
            "type": "scattergl"
           }
          ],
          "scattermapbox": [
           {
            "marker": {
             "colorbar": {
              "outlinewidth": 0,
              "ticks": ""
             }
            },
            "type": "scattermapbox"
           }
          ],
          "scatterpolar": [
           {
            "marker": {
             "colorbar": {
              "outlinewidth": 0,
              "ticks": ""
             }
            },
            "type": "scatterpolar"
           }
          ],
          "scatterpolargl": [
           {
            "marker": {
             "colorbar": {
              "outlinewidth": 0,
              "ticks": ""
             }
            },
            "type": "scatterpolargl"
           }
          ],
          "scatterternary": [
           {
            "marker": {
             "colorbar": {
              "outlinewidth": 0,
              "ticks": ""
             }
            },
            "type": "scatterternary"
           }
          ],
          "surface": [
           {
            "colorbar": {
             "outlinewidth": 0,
             "ticks": ""
            },
            "colorscale": [
             [
              0,
              "#0d0887"
             ],
             [
              0.1111111111111111,
              "#46039f"
             ],
             [
              0.2222222222222222,
              "#7201a8"
             ],
             [
              0.3333333333333333,
              "#9c179e"
             ],
             [
              0.4444444444444444,
              "#bd3786"
             ],
             [
              0.5555555555555556,
              "#d8576b"
             ],
             [
              0.6666666666666666,
              "#ed7953"
             ],
             [
              0.7777777777777778,
              "#fb9f3a"
             ],
             [
              0.8888888888888888,
              "#fdca26"
             ],
             [
              1,
              "#f0f921"
             ]
            ],
            "type": "surface"
           }
          ],
          "table": [
           {
            "cells": {
             "fill": {
              "color": "#EBF0F8"
             },
             "line": {
              "color": "white"
             }
            },
            "header": {
             "fill": {
              "color": "#C8D4E3"
             },
             "line": {
              "color": "white"
             }
            },
            "type": "table"
           }
          ]
         },
         "layout": {
          "annotationdefaults": {
           "arrowcolor": "#2a3f5f",
           "arrowhead": 0,
           "arrowwidth": 1
          },
          "autotypenumbers": "strict",
          "coloraxis": {
           "colorbar": {
            "outlinewidth": 0,
            "ticks": ""
           }
          },
          "colorscale": {
           "diverging": [
            [
             0,
             "#8e0152"
            ],
            [
             0.1,
             "#c51b7d"
            ],
            [
             0.2,
             "#de77ae"
            ],
            [
             0.3,
             "#f1b6da"
            ],
            [
             0.4,
             "#fde0ef"
            ],
            [
             0.5,
             "#f7f7f7"
            ],
            [
             0.6,
             "#e6f5d0"
            ],
            [
             0.7,
             "#b8e186"
            ],
            [
             0.8,
             "#7fbc41"
            ],
            [
             0.9,
             "#4d9221"
            ],
            [
             1,
             "#276419"
            ]
           ],
           "sequential": [
            [
             0,
             "#0d0887"
            ],
            [
             0.1111111111111111,
             "#46039f"
            ],
            [
             0.2222222222222222,
             "#7201a8"
            ],
            [
             0.3333333333333333,
             "#9c179e"
            ],
            [
             0.4444444444444444,
             "#bd3786"
            ],
            [
             0.5555555555555556,
             "#d8576b"
            ],
            [
             0.6666666666666666,
             "#ed7953"
            ],
            [
             0.7777777777777778,
             "#fb9f3a"
            ],
            [
             0.8888888888888888,
             "#fdca26"
            ],
            [
             1,
             "#f0f921"
            ]
           ],
           "sequentialminus": [
            [
             0,
             "#0d0887"
            ],
            [
             0.1111111111111111,
             "#46039f"
            ],
            [
             0.2222222222222222,
             "#7201a8"
            ],
            [
             0.3333333333333333,
             "#9c179e"
            ],
            [
             0.4444444444444444,
             "#bd3786"
            ],
            [
             0.5555555555555556,
             "#d8576b"
            ],
            [
             0.6666666666666666,
             "#ed7953"
            ],
            [
             0.7777777777777778,
             "#fb9f3a"
            ],
            [
             0.8888888888888888,
             "#fdca26"
            ],
            [
             1,
             "#f0f921"
            ]
           ]
          },
          "colorway": [
           "#636efa",
           "#EF553B",
           "#00cc96",
           "#ab63fa",
           "#FFA15A",
           "#19d3f3",
           "#FF6692",
           "#B6E880",
           "#FF97FF",
           "#FECB52"
          ],
          "font": {
           "color": "#2a3f5f"
          },
          "geo": {
           "bgcolor": "white",
           "lakecolor": "white",
           "landcolor": "#E5ECF6",
           "showlakes": true,
           "showland": true,
           "subunitcolor": "white"
          },
          "hoverlabel": {
           "align": "left"
          },
          "hovermode": "closest",
          "mapbox": {
           "style": "light"
          },
          "paper_bgcolor": "white",
          "plot_bgcolor": "#E5ECF6",
          "polar": {
           "angularaxis": {
            "gridcolor": "white",
            "linecolor": "white",
            "ticks": ""
           },
           "bgcolor": "#E5ECF6",
           "radialaxis": {
            "gridcolor": "white",
            "linecolor": "white",
            "ticks": ""
           }
          },
          "scene": {
           "xaxis": {
            "backgroundcolor": "#E5ECF6",
            "gridcolor": "white",
            "gridwidth": 2,
            "linecolor": "white",
            "showbackground": true,
            "ticks": "",
            "zerolinecolor": "white"
           },
           "yaxis": {
            "backgroundcolor": "#E5ECF6",
            "gridcolor": "white",
            "gridwidth": 2,
            "linecolor": "white",
            "showbackground": true,
            "ticks": "",
            "zerolinecolor": "white"
           },
           "zaxis": {
            "backgroundcolor": "#E5ECF6",
            "gridcolor": "white",
            "gridwidth": 2,
            "linecolor": "white",
            "showbackground": true,
            "ticks": "",
            "zerolinecolor": "white"
           }
          },
          "shapedefaults": {
           "line": {
            "color": "#2a3f5f"
           }
          },
          "ternary": {
           "aaxis": {
            "gridcolor": "white",
            "linecolor": "white",
            "ticks": ""
           },
           "baxis": {
            "gridcolor": "white",
            "linecolor": "white",
            "ticks": ""
           },
           "bgcolor": "#E5ECF6",
           "caxis": {
            "gridcolor": "white",
            "linecolor": "white",
            "ticks": ""
           }
          },
          "title": {
           "x": 0.05
          },
          "xaxis": {
           "automargin": true,
           "gridcolor": "white",
           "linecolor": "white",
           "ticks": "",
           "title": {
            "standoff": 15
           },
           "zerolinecolor": "white",
           "zerolinewidth": 2
          },
          "yaxis": {
           "automargin": true,
           "gridcolor": "white",
           "linecolor": "white",
           "ticks": "",
           "title": {
            "standoff": 15
           },
           "zerolinecolor": "white",
           "zerolinewidth": 2
          }
         }
        },
        "title": {
         "text": "gaussian_noise_sigma"
        },
        "width": 1000,
        "yaxis": {
         "dtick": 25,
         "range": [
          -175,
          100
         ],
         "tick0": 0
        }
       }
      }
     },
     "metadata": {}
    },
    {
     "output_type": "display_data",
     "data": {
      "application/vnd.plotly.v1+json": {
       "config": {
        "plotlyServerURL": "https://plot.ly"
       },
       "data": [
        {
         "marker": {
          "color": "#EA4335"
         },
         "mode": "lines+markers",
         "name": "JSD loss (semi-supervised), categorical",
         "type": "scatter",
         "x": [
          0.1,
          0.5,
          1,
          5,
          10,
          50
         ],
         "y": [
          33.1587180075,
          34.644115482500005,
          33.70245852416667,
          28.75027215833333,
          31.05767348916667,
          20.863931557500003
         ]
        },
        {
         "line": {
          "width": 0
         },
         "marker": {
          "color": "#EA4335"
         },
         "mode": "lines",
         "name": "Upper bound",
         "showlegend": false,
         "type": "scatter",
         "x": [
          0.1,
          0.5,
          1,
          5,
          10,
          50
         ],
         "y": [
          42.321367968180965,
          43.74023724118946,
          37.34423642323022,
          31.64574243564078,
          33.38576640472545,
          22.221390470321214
         ]
        },
        {
         "fill": "tonexty",
         "fillcolor": "rgba(234, 67, 53, 0.2)",
         "line": {
          "width": 0
         },
         "marker": {
          "color": "#EA4335"
         },
         "mode": "lines",
         "name": "Lower bound",
         "showlegend": false,
         "type": "scatter",
         "x": [
          0.1,
          0.5,
          1,
          5,
          10,
          50
         ],
         "y": [
          23.996068046819033,
          25.547993723810546,
          30.060680625103124,
          25.85480188102588,
          28.729580573607887,
          19.50647264467879
         ]
        },
        {
         "marker": {
          "color": "#FBBC04"
         },
         "mode": "lines+markers",
         "name": "JSD loss (unsupervised), categorical",
         "type": "scatter",
         "x": [
          0.1,
          0.5,
          1,
          5,
          10,
          50
         ],
         "y": [
          32.89614102833333,
          37.6366271975,
          34.19609228833334,
          16.900860523333332,
          10.125404902916666,
          0.5295946545833333
         ]
        },
        {
         "line": {
          "width": 0
         },
         "marker": {
          "color": "#FBBC04"
         },
         "mode": "lines",
         "name": "Upper bound",
         "showlegend": false,
         "type": "scatter",
         "x": [
          0.1,
          0.5,
          1,
          5,
          10,
          50
         ],
         "y": [
          41.053030565201624,
          40.75768152601642,
          38.09755883510325,
          19.398905639933737,
          11.714412946703018,
          1.3055495388982714
         ]
        },
        {
         "fill": "tonexty",
         "fillcolor": "rgba(251, 188, 4, 0.2)",
         "line": {
          "width": 0
         },
         "marker": {
          "color": "#FBBC04"
         },
         "mode": "lines",
         "name": "Lower bound",
         "showlegend": false,
         "type": "scatter",
         "x": [
          0.1,
          0.5,
          1,
          5,
          10,
          50
         ],
         "y": [
          24.739251491465044,
          34.515572868983575,
          30.294625741563426,
          14.402815406732927,
          8.536396859130313,
          -0.24636022973160465
         ]
        },
        {
         "marker": {
          "color": "#34A853"
         },
         "mode": "lines+markers",
         "name": "JSD loss (semi-supervised), continuous",
         "type": "scatter",
         "x": [
          0.1,
          0.5,
          1,
          5,
          10,
          50
         ],
         "y": [
          -124.839704721,
          -33.2342678541,
          -31.089061191000003,
          -46.308767608,
          -62.419254466,
          -15.407043354999999
         ]
        },
        {
         "line": {
          "width": 0
         },
         "marker": {
          "color": "#34A853"
         },
         "mode": "lines",
         "name": "Upper bound",
         "showlegend": false,
         "type": "scatter",
         "x": [
          0.1,
          0.5,
          1,
          5,
          10,
          50
         ],
         "y": [
          -10.693313652574815,
          -10.901330371551872,
          -15.785743878476797,
          -35.70144784127111,
          -43.92157474306677,
          -13.84128714067301
         ]
        },
        {
         "fill": "tonexty",
         "fillcolor": "rgba(52, 168, 83, 0.2)",
         "line": {
          "width": 0
         },
         "marker": {
          "color": "#34A853"
         },
         "mode": "lines",
         "name": "Lower bound",
         "showlegend": false,
         "type": "scatter",
         "x": [
          0.1,
          0.5,
          1,
          5,
          10,
          50
         ],
         "y": [
          -238.98609578942518,
          -55.56720533664812,
          -46.392378503523204,
          -56.91608737472888,
          -80.91693418893323,
          -16.972799569326988
         ]
        },
        {
         "marker": {
          "color": "#4285F4"
         },
         "mode": "lines+markers",
         "name": "JSD loss (unsupervised), continuous",
         "type": "scatter",
         "x": [
          0.1,
          0.5,
          1,
          5,
          10,
          50
         ],
         "y": [
          -14.3935307196,
          -3.951442099900001,
          -1.8735168874999997,
          -0.30482466290000004,
          -0.1815403599,
          -0.0193645334
         ]
        },
        {
         "line": {
          "width": 0
         },
         "marker": {
          "color": "#4285F4"
         },
         "mode": "lines",
         "name": "Upper bound",
         "showlegend": false,
         "type": "scatter",
         "x": [
          0.1,
          0.5,
          1,
          5,
          10,
          50
         ],
         "y": [
          -8.044192647830489,
          -1.9651142186986648,
          -0.5830409700602153,
          0.03747208920786682,
          0.1177309007337104,
          0.08315795279058397
         ]
        },
        {
         "fill": "tonexty",
         "fillcolor": "rgba(66, 133, 244, 0.2)",
         "line": {
          "width": 0
         },
         "marker": {
          "color": "#4285F4"
         },
         "mode": "lines",
         "name": "Lower bound",
         "showlegend": false,
         "type": "scatter",
         "x": [
          0.1,
          0.5,
          1,
          5,
          10,
          50
         ],
         "y": [
          -20.74286879136951,
          -5.9377699811013365,
          -3.163992804939784,
          -0.6471214150078669,
          -0.4808116205337104,
          -0.12188701959058396
         ]
        }
       ],
       "layout": {
        "height": 600,
        "template": {
         "data": {
          "bar": [
           {
            "error_x": {
             "color": "#2a3f5f"
            },
            "error_y": {
             "color": "#2a3f5f"
            },
            "marker": {
             "line": {
              "color": "#E5ECF6",
              "width": 0.5
             }
            },
            "type": "bar"
           }
          ],
          "barpolar": [
           {
            "marker": {
             "line": {
              "color": "#E5ECF6",
              "width": 0.5
             }
            },
            "type": "barpolar"
           }
          ],
          "carpet": [
           {
            "aaxis": {
             "endlinecolor": "#2a3f5f",
             "gridcolor": "white",
             "linecolor": "white",
             "minorgridcolor": "white",
             "startlinecolor": "#2a3f5f"
            },
            "baxis": {
             "endlinecolor": "#2a3f5f",
             "gridcolor": "white",
             "linecolor": "white",
             "minorgridcolor": "white",
             "startlinecolor": "#2a3f5f"
            },
            "type": "carpet"
           }
          ],
          "choropleth": [
           {
            "colorbar": {
             "outlinewidth": 0,
             "ticks": ""
            },
            "type": "choropleth"
           }
          ],
          "contour": [
           {
            "colorbar": {
             "outlinewidth": 0,
             "ticks": ""
            },
            "colorscale": [
             [
              0,
              "#0d0887"
             ],
             [
              0.1111111111111111,
              "#46039f"
             ],
             [
              0.2222222222222222,
              "#7201a8"
             ],
             [
              0.3333333333333333,
              "#9c179e"
             ],
             [
              0.4444444444444444,
              "#bd3786"
             ],
             [
              0.5555555555555556,
              "#d8576b"
             ],
             [
              0.6666666666666666,
              "#ed7953"
             ],
             [
              0.7777777777777778,
              "#fb9f3a"
             ],
             [
              0.8888888888888888,
              "#fdca26"
             ],
             [
              1,
              "#f0f921"
             ]
            ],
            "type": "contour"
           }
          ],
          "contourcarpet": [
           {
            "colorbar": {
             "outlinewidth": 0,
             "ticks": ""
            },
            "type": "contourcarpet"
           }
          ],
          "heatmap": [
           {
            "colorbar": {
             "outlinewidth": 0,
             "ticks": ""
            },
            "colorscale": [
             [
              0,
              "#0d0887"
             ],
             [
              0.1111111111111111,
              "#46039f"
             ],
             [
              0.2222222222222222,
              "#7201a8"
             ],
             [
              0.3333333333333333,
              "#9c179e"
             ],
             [
              0.4444444444444444,
              "#bd3786"
             ],
             [
              0.5555555555555556,
              "#d8576b"
             ],
             [
              0.6666666666666666,
              "#ed7953"
             ],
             [
              0.7777777777777778,
              "#fb9f3a"
             ],
             [
              0.8888888888888888,
              "#fdca26"
             ],
             [
              1,
              "#f0f921"
             ]
            ],
            "type": "heatmap"
           }
          ],
          "heatmapgl": [
           {
            "colorbar": {
             "outlinewidth": 0,
             "ticks": ""
            },
            "colorscale": [
             [
              0,
              "#0d0887"
             ],
             [
              0.1111111111111111,
              "#46039f"
             ],
             [
              0.2222222222222222,
              "#7201a8"
             ],
             [
              0.3333333333333333,
              "#9c179e"
             ],
             [
              0.4444444444444444,
              "#bd3786"
             ],
             [
              0.5555555555555556,
              "#d8576b"
             ],
             [
              0.6666666666666666,
              "#ed7953"
             ],
             [
              0.7777777777777778,
              "#fb9f3a"
             ],
             [
              0.8888888888888888,
              "#fdca26"
             ],
             [
              1,
              "#f0f921"
             ]
            ],
            "type": "heatmapgl"
           }
          ],
          "histogram": [
           {
            "marker": {
             "colorbar": {
              "outlinewidth": 0,
              "ticks": ""
             }
            },
            "type": "histogram"
           }
          ],
          "histogram2d": [
           {
            "colorbar": {
             "outlinewidth": 0,
             "ticks": ""
            },
            "colorscale": [
             [
              0,
              "#0d0887"
             ],
             [
              0.1111111111111111,
              "#46039f"
             ],
             [
              0.2222222222222222,
              "#7201a8"
             ],
             [
              0.3333333333333333,
              "#9c179e"
             ],
             [
              0.4444444444444444,
              "#bd3786"
             ],
             [
              0.5555555555555556,
              "#d8576b"
             ],
             [
              0.6666666666666666,
              "#ed7953"
             ],
             [
              0.7777777777777778,
              "#fb9f3a"
             ],
             [
              0.8888888888888888,
              "#fdca26"
             ],
             [
              1,
              "#f0f921"
             ]
            ],
            "type": "histogram2d"
           }
          ],
          "histogram2dcontour": [
           {
            "colorbar": {
             "outlinewidth": 0,
             "ticks": ""
            },
            "colorscale": [
             [
              0,
              "#0d0887"
             ],
             [
              0.1111111111111111,
              "#46039f"
             ],
             [
              0.2222222222222222,
              "#7201a8"
             ],
             [
              0.3333333333333333,
              "#9c179e"
             ],
             [
              0.4444444444444444,
              "#bd3786"
             ],
             [
              0.5555555555555556,
              "#d8576b"
             ],
             [
              0.6666666666666666,
              "#ed7953"
             ],
             [
              0.7777777777777778,
              "#fb9f3a"
             ],
             [
              0.8888888888888888,
              "#fdca26"
             ],
             [
              1,
              "#f0f921"
             ]
            ],
            "type": "histogram2dcontour"
           }
          ],
          "mesh3d": [
           {
            "colorbar": {
             "outlinewidth": 0,
             "ticks": ""
            },
            "type": "mesh3d"
           }
          ],
          "parcoords": [
           {
            "line": {
             "colorbar": {
              "outlinewidth": 0,
              "ticks": ""
             }
            },
            "type": "parcoords"
           }
          ],
          "pie": [
           {
            "automargin": true,
            "type": "pie"
           }
          ],
          "scatter": [
           {
            "marker": {
             "colorbar": {
              "outlinewidth": 0,
              "ticks": ""
             }
            },
            "type": "scatter"
           }
          ],
          "scatter3d": [
           {
            "line": {
             "colorbar": {
              "outlinewidth": 0,
              "ticks": ""
             }
            },
            "marker": {
             "colorbar": {
              "outlinewidth": 0,
              "ticks": ""
             }
            },
            "type": "scatter3d"
           }
          ],
          "scattercarpet": [
           {
            "marker": {
             "colorbar": {
              "outlinewidth": 0,
              "ticks": ""
             }
            },
            "type": "scattercarpet"
           }
          ],
          "scattergeo": [
           {
            "marker": {
             "colorbar": {
              "outlinewidth": 0,
              "ticks": ""
             }
            },
            "type": "scattergeo"
           }
          ],
          "scattergl": [
           {
            "marker": {
             "colorbar": {
              "outlinewidth": 0,
              "ticks": ""
             }
            },
            "type": "scattergl"
           }
          ],
          "scattermapbox": [
           {
            "marker": {
             "colorbar": {
              "outlinewidth": 0,
              "ticks": ""
             }
            },
            "type": "scattermapbox"
           }
          ],
          "scatterpolar": [
           {
            "marker": {
             "colorbar": {
              "outlinewidth": 0,
              "ticks": ""
             }
            },
            "type": "scatterpolar"
           }
          ],
          "scatterpolargl": [
           {
            "marker": {
             "colorbar": {
              "outlinewidth": 0,
              "ticks": ""
             }
            },
            "type": "scatterpolargl"
           }
          ],
          "scatterternary": [
           {
            "marker": {
             "colorbar": {
              "outlinewidth": 0,
              "ticks": ""
             }
            },
            "type": "scatterternary"
           }
          ],
          "surface": [
           {
            "colorbar": {
             "outlinewidth": 0,
             "ticks": ""
            },
            "colorscale": [
             [
              0,
              "#0d0887"
             ],
             [
              0.1111111111111111,
              "#46039f"
             ],
             [
              0.2222222222222222,
              "#7201a8"
             ],
             [
              0.3333333333333333,
              "#9c179e"
             ],
             [
              0.4444444444444444,
              "#bd3786"
             ],
             [
              0.5555555555555556,
              "#d8576b"
             ],
             [
              0.6666666666666666,
              "#ed7953"
             ],
             [
              0.7777777777777778,
              "#fb9f3a"
             ],
             [
              0.8888888888888888,
              "#fdca26"
             ],
             [
              1,
              "#f0f921"
             ]
            ],
            "type": "surface"
           }
          ],
          "table": [
           {
            "cells": {
             "fill": {
              "color": "#EBF0F8"
             },
             "line": {
              "color": "white"
             }
            },
            "header": {
             "fill": {
              "color": "#C8D4E3"
             },
             "line": {
              "color": "white"
             }
            },
            "type": "table"
           }
          ]
         },
         "layout": {
          "annotationdefaults": {
           "arrowcolor": "#2a3f5f",
           "arrowhead": 0,
           "arrowwidth": 1
          },
          "autotypenumbers": "strict",
          "coloraxis": {
           "colorbar": {
            "outlinewidth": 0,
            "ticks": ""
           }
          },
          "colorscale": {
           "diverging": [
            [
             0,
             "#8e0152"
            ],
            [
             0.1,
             "#c51b7d"
            ],
            [
             0.2,
             "#de77ae"
            ],
            [
             0.3,
             "#f1b6da"
            ],
            [
             0.4,
             "#fde0ef"
            ],
            [
             0.5,
             "#f7f7f7"
            ],
            [
             0.6,
             "#e6f5d0"
            ],
            [
             0.7,
             "#b8e186"
            ],
            [
             0.8,
             "#7fbc41"
            ],
            [
             0.9,
             "#4d9221"
            ],
            [
             1,
             "#276419"
            ]
           ],
           "sequential": [
            [
             0,
             "#0d0887"
            ],
            [
             0.1111111111111111,
             "#46039f"
            ],
            [
             0.2222222222222222,
             "#7201a8"
            ],
            [
             0.3333333333333333,
             "#9c179e"
            ],
            [
             0.4444444444444444,
             "#bd3786"
            ],
            [
             0.5555555555555556,
             "#d8576b"
            ],
            [
             0.6666666666666666,
             "#ed7953"
            ],
            [
             0.7777777777777778,
             "#fb9f3a"
            ],
            [
             0.8888888888888888,
             "#fdca26"
            ],
            [
             1,
             "#f0f921"
            ]
           ],
           "sequentialminus": [
            [
             0,
             "#0d0887"
            ],
            [
             0.1111111111111111,
             "#46039f"
            ],
            [
             0.2222222222222222,
             "#7201a8"
            ],
            [
             0.3333333333333333,
             "#9c179e"
            ],
            [
             0.4444444444444444,
             "#bd3786"
            ],
            [
             0.5555555555555556,
             "#d8576b"
            ],
            [
             0.6666666666666666,
             "#ed7953"
            ],
            [
             0.7777777777777778,
             "#fb9f3a"
            ],
            [
             0.8888888888888888,
             "#fdca26"
            ],
            [
             1,
             "#f0f921"
            ]
           ]
          },
          "colorway": [
           "#636efa",
           "#EF553B",
           "#00cc96",
           "#ab63fa",
           "#FFA15A",
           "#19d3f3",
           "#FF6692",
           "#B6E880",
           "#FF97FF",
           "#FECB52"
          ],
          "font": {
           "color": "#2a3f5f"
          },
          "geo": {
           "bgcolor": "white",
           "lakecolor": "white",
           "landcolor": "#E5ECF6",
           "showlakes": true,
           "showland": true,
           "subunitcolor": "white"
          },
          "hoverlabel": {
           "align": "left"
          },
          "hovermode": "closest",
          "mapbox": {
           "style": "light"
          },
          "paper_bgcolor": "white",
          "plot_bgcolor": "#E5ECF6",
          "polar": {
           "angularaxis": {
            "gridcolor": "white",
            "linecolor": "white",
            "ticks": ""
           },
           "bgcolor": "#E5ECF6",
           "radialaxis": {
            "gridcolor": "white",
            "linecolor": "white",
            "ticks": ""
           }
          },
          "scene": {
           "xaxis": {
            "backgroundcolor": "#E5ECF6",
            "gridcolor": "white",
            "gridwidth": 2,
            "linecolor": "white",
            "showbackground": true,
            "ticks": "",
            "zerolinecolor": "white"
           },
           "yaxis": {
            "backgroundcolor": "#E5ECF6",
            "gridcolor": "white",
            "gridwidth": 2,
            "linecolor": "white",
            "showbackground": true,
            "ticks": "",
            "zerolinecolor": "white"
           },
           "zaxis": {
            "backgroundcolor": "#E5ECF6",
            "gridcolor": "white",
            "gridwidth": 2,
            "linecolor": "white",
            "showbackground": true,
            "ticks": "",
            "zerolinecolor": "white"
           }
          },
          "shapedefaults": {
           "line": {
            "color": "#2a3f5f"
           }
          },
          "ternary": {
           "aaxis": {
            "gridcolor": "white",
            "linecolor": "white",
            "ticks": ""
           },
           "baxis": {
            "gridcolor": "white",
            "linecolor": "white",
            "ticks": ""
           },
           "bgcolor": "#E5ECF6",
           "caxis": {
            "gridcolor": "white",
            "linecolor": "white",
            "ticks": ""
           }
          },
          "title": {
           "x": 0.05
          },
          "xaxis": {
           "automargin": true,
           "gridcolor": "white",
           "linecolor": "white",
           "ticks": "",
           "title": {
            "standoff": 15
           },
           "zerolinecolor": "white",
           "zerolinewidth": 2
          },
          "yaxis": {
           "automargin": true,
           "gridcolor": "white",
           "linecolor": "white",
           "ticks": "",
           "title": {
            "standoff": 15
           },
           "zerolinecolor": "white",
           "zerolinewidth": 2
          }
         }
        },
        "title": {
         "text": "missing_entry"
        },
        "width": 1000,
        "yaxis": {
         "dtick": 25,
         "range": [
          -175,
          100
         ],
         "tick0": 0
        }
       }
      }
     },
     "metadata": {}
    },
    {
     "output_type": "display_data",
     "data": {
      "application/vnd.plotly.v1+json": {
       "config": {
        "plotlyServerURL": "https://plot.ly"
       },
       "data": [
        {
         "marker": {
          "color": "#EA4335"
         },
         "mode": "lines+markers",
         "name": "JSD loss (semi-supervised), categorical",
         "type": "scatter",
         "x": [
          0.1,
          0.5,
          1,
          5,
          10,
          50
         ],
         "y": [
          40.623156388333335,
          40.217948650000004,
          40.15043888416666,
          38.1906159025,
          34.379677415833335,
          13.538236845833334
         ]
        },
        {
         "line": {
          "width": 0
         },
         "marker": {
          "color": "#EA4335"
         },
         "mode": "lines",
         "name": "Upper bound",
         "showlegend": false,
         "type": "scatter",
         "x": [
          0.1,
          0.5,
          1,
          5,
          10,
          50
         ],
         "y": [
          41.883344714462595,
          41.718095111131106,
          41.17786765136167,
          39.1365046768379,
          35.35428268167797,
          14.965501370292225
         ]
        },
        {
         "fill": "tonexty",
         "fillcolor": "rgba(234, 67, 53, 0.2)",
         "line": {
          "width": 0
         },
         "marker": {
          "color": "#EA4335"
         },
         "mode": "lines",
         "name": "Lower bound",
         "showlegend": false,
         "type": "scatter",
         "x": [
          0.1,
          0.5,
          1,
          5,
          10,
          50
         ],
         "y": [
          39.362968062204075,
          38.7178021888689,
          39.12301011697165,
          37.2447271281621,
          33.4050721499887,
          12.110972321374442
         ]
        },
        {
         "marker": {
          "color": "#FBBC04"
         },
         "mode": "lines+markers",
         "name": "JSD loss (unsupervised), categorical",
         "type": "scatter",
         "x": [
          0.1,
          0.5,
          1,
          5,
          10,
          50
         ],
         "y": [
          7.882768571,
          6.849997289750001,
          6.935563420833334,
          4.628284083583332,
          1.6283783929166666,
          -8.280854967249999
         ]
        },
        {
         "line": {
          "width": 0
         },
         "marker": {
          "color": "#FBBC04"
         },
         "mode": "lines",
         "name": "Upper bound",
         "showlegend": false,
         "type": "scatter",
         "x": [
          0.1,
          0.5,
          1,
          5,
          10,
          50
         ],
         "y": [
          8.639121927822686,
          7.577433921023221,
          7.572013501962656,
          5.250056274933068,
          2.0934776753758113,
          -7.720471810798446
         ]
        },
        {
         "fill": "tonexty",
         "fillcolor": "rgba(251, 188, 4, 0.2)",
         "line": {
          "width": 0
         },
         "marker": {
          "color": "#FBBC04"
         },
         "mode": "lines",
         "name": "Lower bound",
         "showlegend": false,
         "type": "scatter",
         "x": [
          0.1,
          0.5,
          1,
          5,
          10,
          50
         ],
         "y": [
          7.126415214177315,
          6.122560658476781,
          6.299113339704011,
          4.006511892233596,
          1.163279110457522,
          -8.841238123701553
         ]
        },
        {
         "marker": {
          "color": "#34A853"
         },
         "mode": "lines+markers",
         "name": "JSD loss (semi-supervised), continuous",
         "type": "scatter",
         "x": [
          0.1,
          0.5,
          1,
          5,
          10,
          50
         ],
         "y": [
          87.585504985,
          83.350442005,
          82.447146506,
          60.85164892499999,
          38.858824985999995,
          -3.7022897163
         ]
        },
        {
         "line": {
          "width": 0
         },
         "marker": {
          "color": "#34A853"
         },
         "mode": "lines",
         "name": "Upper bound",
         "showlegend": false,
         "type": "scatter",
         "x": [
          0.1,
          0.5,
          1,
          5,
          10,
          50
         ],
         "y": [
          88.46614453922273,
          85.69661005389466,
          84.09824891605516,
          65.84312528773395,
          42.567454682347964,
          -1.9689202744588992
         ]
        },
        {
         "fill": "tonexty",
         "fillcolor": "rgba(52, 168, 83, 0.2)",
         "line": {
          "width": 0
         },
         "marker": {
          "color": "#34A853"
         },
         "mode": "lines",
         "name": "Lower bound",
         "showlegend": false,
         "type": "scatter",
         "x": [
          0.1,
          0.5,
          1,
          5,
          10,
          50
         ],
         "y": [
          86.70486543077728,
          81.00427395610535,
          80.79604409594484,
          55.86017256226602,
          35.150195289652025,
          -5.435659158141101
         ]
        },
        {
         "marker": {
          "color": "#4285F4"
         },
         "mode": "lines+markers",
         "name": "JSD loss (unsupervised), continuous",
         "type": "scatter",
         "x": [
          0.1,
          0.5,
          1,
          5,
          10,
          50
         ],
         "y": [
          39.437281262,
          38.97527198,
          38.078605292999995,
          32.292493406999995,
          26.202199564,
          4.9798466976
         ]
        },
        {
         "line": {
          "width": 0
         },
         "marker": {
          "color": "#4285F4"
         },
         "mode": "lines",
         "name": "Upper bound",
         "showlegend": false,
         "type": "scatter",
         "x": [
          0.1,
          0.5,
          1,
          5,
          10,
          50
         ],
         "y": [
          39.809892361090505,
          39.4265302480692,
          38.49786245087041,
          32.94452807019876,
          26.799096120963892,
          5.565027413214731
         ]
        },
        {
         "fill": "tonexty",
         "fillcolor": "rgba(66, 133, 244, 0.2)",
         "line": {
          "width": 0
         },
         "marker": {
          "color": "#4285F4"
         },
         "mode": "lines",
         "name": "Lower bound",
         "showlegend": false,
         "type": "scatter",
         "x": [
          0.1,
          0.5,
          1,
          5,
          10,
          50
         ],
         "y": [
          39.06467016290949,
          38.524013711930806,
          37.659348135129584,
          31.640458743801233,
          25.60530300703611,
          4.39466598198527
         ]
        }
       ],
       "layout": {
        "height": 600,
        "template": {
         "data": {
          "bar": [
           {
            "error_x": {
             "color": "#2a3f5f"
            },
            "error_y": {
             "color": "#2a3f5f"
            },
            "marker": {
             "line": {
              "color": "#E5ECF6",
              "width": 0.5
             }
            },
            "type": "bar"
           }
          ],
          "barpolar": [
           {
            "marker": {
             "line": {
              "color": "#E5ECF6",
              "width": 0.5
             }
            },
            "type": "barpolar"
           }
          ],
          "carpet": [
           {
            "aaxis": {
             "endlinecolor": "#2a3f5f",
             "gridcolor": "white",
             "linecolor": "white",
             "minorgridcolor": "white",
             "startlinecolor": "#2a3f5f"
            },
            "baxis": {
             "endlinecolor": "#2a3f5f",
             "gridcolor": "white",
             "linecolor": "white",
             "minorgridcolor": "white",
             "startlinecolor": "#2a3f5f"
            },
            "type": "carpet"
           }
          ],
          "choropleth": [
           {
            "colorbar": {
             "outlinewidth": 0,
             "ticks": ""
            },
            "type": "choropleth"
           }
          ],
          "contour": [
           {
            "colorbar": {
             "outlinewidth": 0,
             "ticks": ""
            },
            "colorscale": [
             [
              0,
              "#0d0887"
             ],
             [
              0.1111111111111111,
              "#46039f"
             ],
             [
              0.2222222222222222,
              "#7201a8"
             ],
             [
              0.3333333333333333,
              "#9c179e"
             ],
             [
              0.4444444444444444,
              "#bd3786"
             ],
             [
              0.5555555555555556,
              "#d8576b"
             ],
             [
              0.6666666666666666,
              "#ed7953"
             ],
             [
              0.7777777777777778,
              "#fb9f3a"
             ],
             [
              0.8888888888888888,
              "#fdca26"
             ],
             [
              1,
              "#f0f921"
             ]
            ],
            "type": "contour"
           }
          ],
          "contourcarpet": [
           {
            "colorbar": {
             "outlinewidth": 0,
             "ticks": ""
            },
            "type": "contourcarpet"
           }
          ],
          "heatmap": [
           {
            "colorbar": {
             "outlinewidth": 0,
             "ticks": ""
            },
            "colorscale": [
             [
              0,
              "#0d0887"
             ],
             [
              0.1111111111111111,
              "#46039f"
             ],
             [
              0.2222222222222222,
              "#7201a8"
             ],
             [
              0.3333333333333333,
              "#9c179e"
             ],
             [
              0.4444444444444444,
              "#bd3786"
             ],
             [
              0.5555555555555556,
              "#d8576b"
             ],
             [
              0.6666666666666666,
              "#ed7953"
             ],
             [
              0.7777777777777778,
              "#fb9f3a"
             ],
             [
              0.8888888888888888,
              "#fdca26"
             ],
             [
              1,
              "#f0f921"
             ]
            ],
            "type": "heatmap"
           }
          ],
          "heatmapgl": [
           {
            "colorbar": {
             "outlinewidth": 0,
             "ticks": ""
            },
            "colorscale": [
             [
              0,
              "#0d0887"
             ],
             [
              0.1111111111111111,
              "#46039f"
             ],
             [
              0.2222222222222222,
              "#7201a8"
             ],
             [
              0.3333333333333333,
              "#9c179e"
             ],
             [
              0.4444444444444444,
              "#bd3786"
             ],
             [
              0.5555555555555556,
              "#d8576b"
             ],
             [
              0.6666666666666666,
              "#ed7953"
             ],
             [
              0.7777777777777778,
              "#fb9f3a"
             ],
             [
              0.8888888888888888,
              "#fdca26"
             ],
             [
              1,
              "#f0f921"
             ]
            ],
            "type": "heatmapgl"
           }
          ],
          "histogram": [
           {
            "marker": {
             "colorbar": {
              "outlinewidth": 0,
              "ticks": ""
             }
            },
            "type": "histogram"
           }
          ],
          "histogram2d": [
           {
            "colorbar": {
             "outlinewidth": 0,
             "ticks": ""
            },
            "colorscale": [
             [
              0,
              "#0d0887"
             ],
             [
              0.1111111111111111,
              "#46039f"
             ],
             [
              0.2222222222222222,
              "#7201a8"
             ],
             [
              0.3333333333333333,
              "#9c179e"
             ],
             [
              0.4444444444444444,
              "#bd3786"
             ],
             [
              0.5555555555555556,
              "#d8576b"
             ],
             [
              0.6666666666666666,
              "#ed7953"
             ],
             [
              0.7777777777777778,
              "#fb9f3a"
             ],
             [
              0.8888888888888888,
              "#fdca26"
             ],
             [
              1,
              "#f0f921"
             ]
            ],
            "type": "histogram2d"
           }
          ],
          "histogram2dcontour": [
           {
            "colorbar": {
             "outlinewidth": 0,
             "ticks": ""
            },
            "colorscale": [
             [
              0,
              "#0d0887"
             ],
             [
              0.1111111111111111,
              "#46039f"
             ],
             [
              0.2222222222222222,
              "#7201a8"
             ],
             [
              0.3333333333333333,
              "#9c179e"
             ],
             [
              0.4444444444444444,
              "#bd3786"
             ],
             [
              0.5555555555555556,
              "#d8576b"
             ],
             [
              0.6666666666666666,
              "#ed7953"
             ],
             [
              0.7777777777777778,
              "#fb9f3a"
             ],
             [
              0.8888888888888888,
              "#fdca26"
             ],
             [
              1,
              "#f0f921"
             ]
            ],
            "type": "histogram2dcontour"
           }
          ],
          "mesh3d": [
           {
            "colorbar": {
             "outlinewidth": 0,
             "ticks": ""
            },
            "type": "mesh3d"
           }
          ],
          "parcoords": [
           {
            "line": {
             "colorbar": {
              "outlinewidth": 0,
              "ticks": ""
             }
            },
            "type": "parcoords"
           }
          ],
          "pie": [
           {
            "automargin": true,
            "type": "pie"
           }
          ],
          "scatter": [
           {
            "marker": {
             "colorbar": {
              "outlinewidth": 0,
              "ticks": ""
             }
            },
            "type": "scatter"
           }
          ],
          "scatter3d": [
           {
            "line": {
             "colorbar": {
              "outlinewidth": 0,
              "ticks": ""
             }
            },
            "marker": {
             "colorbar": {
              "outlinewidth": 0,
              "ticks": ""
             }
            },
            "type": "scatter3d"
           }
          ],
          "scattercarpet": [
           {
            "marker": {
             "colorbar": {
              "outlinewidth": 0,
              "ticks": ""
             }
            },
            "type": "scattercarpet"
           }
          ],
          "scattergeo": [
           {
            "marker": {
             "colorbar": {
              "outlinewidth": 0,
              "ticks": ""
             }
            },
            "type": "scattergeo"
           }
          ],
          "scattergl": [
           {
            "marker": {
             "colorbar": {
              "outlinewidth": 0,
              "ticks": ""
             }
            },
            "type": "scattergl"
           }
          ],
          "scattermapbox": [
           {
            "marker": {
             "colorbar": {
              "outlinewidth": 0,
              "ticks": ""
             }
            },
            "type": "scattermapbox"
           }
          ],
          "scatterpolar": [
           {
            "marker": {
             "colorbar": {
              "outlinewidth": 0,
              "ticks": ""
             }
            },
            "type": "scatterpolar"
           }
          ],
          "scatterpolargl": [
           {
            "marker": {
             "colorbar": {
              "outlinewidth": 0,
              "ticks": ""
             }
            },
            "type": "scatterpolargl"
           }
          ],
          "scatterternary": [
           {
            "marker": {
             "colorbar": {
              "outlinewidth": 0,
              "ticks": ""
             }
            },
            "type": "scatterternary"
           }
          ],
          "surface": [
           {
            "colorbar": {
             "outlinewidth": 0,
             "ticks": ""
            },
            "colorscale": [
             [
              0,
              "#0d0887"
             ],
             [
              0.1111111111111111,
              "#46039f"
             ],
             [
              0.2222222222222222,
              "#7201a8"
             ],
             [
              0.3333333333333333,
              "#9c179e"
             ],
             [
              0.4444444444444444,
              "#bd3786"
             ],
             [
              0.5555555555555556,
              "#d8576b"
             ],
             [
              0.6666666666666666,
              "#ed7953"
             ],
             [
              0.7777777777777778,
              "#fb9f3a"
             ],
             [
              0.8888888888888888,
              "#fdca26"
             ],
             [
              1,
              "#f0f921"
             ]
            ],
            "type": "surface"
           }
          ],
          "table": [
           {
            "cells": {
             "fill": {
              "color": "#EBF0F8"
             },
             "line": {
              "color": "white"
             }
            },
            "header": {
             "fill": {
              "color": "#C8D4E3"
             },
             "line": {
              "color": "white"
             }
            },
            "type": "table"
           }
          ]
         },
         "layout": {
          "annotationdefaults": {
           "arrowcolor": "#2a3f5f",
           "arrowhead": 0,
           "arrowwidth": 1
          },
          "autotypenumbers": "strict",
          "coloraxis": {
           "colorbar": {
            "outlinewidth": 0,
            "ticks": ""
           }
          },
          "colorscale": {
           "diverging": [
            [
             0,
             "#8e0152"
            ],
            [
             0.1,
             "#c51b7d"
            ],
            [
             0.2,
             "#de77ae"
            ],
            [
             0.3,
             "#f1b6da"
            ],
            [
             0.4,
             "#fde0ef"
            ],
            [
             0.5,
             "#f7f7f7"
            ],
            [
             0.6,
             "#e6f5d0"
            ],
            [
             0.7,
             "#b8e186"
            ],
            [
             0.8,
             "#7fbc41"
            ],
            [
             0.9,
             "#4d9221"
            ],
            [
             1,
             "#276419"
            ]
           ],
           "sequential": [
            [
             0,
             "#0d0887"
            ],
            [
             0.1111111111111111,
             "#46039f"
            ],
            [
             0.2222222222222222,
             "#7201a8"
            ],
            [
             0.3333333333333333,
             "#9c179e"
            ],
            [
             0.4444444444444444,
             "#bd3786"
            ],
            [
             0.5555555555555556,
             "#d8576b"
            ],
            [
             0.6666666666666666,
             "#ed7953"
            ],
            [
             0.7777777777777778,
             "#fb9f3a"
            ],
            [
             0.8888888888888888,
             "#fdca26"
            ],
            [
             1,
             "#f0f921"
            ]
           ],
           "sequentialminus": [
            [
             0,
             "#0d0887"
            ],
            [
             0.1111111111111111,
             "#46039f"
            ],
            [
             0.2222222222222222,
             "#7201a8"
            ],
            [
             0.3333333333333333,
             "#9c179e"
            ],
            [
             0.4444444444444444,
             "#bd3786"
            ],
            [
             0.5555555555555556,
             "#d8576b"
            ],
            [
             0.6666666666666666,
             "#ed7953"
            ],
            [
             0.7777777777777778,
             "#fb9f3a"
            ],
            [
             0.8888888888888888,
             "#fdca26"
            ],
            [
             1,
             "#f0f921"
            ]
           ]
          },
          "colorway": [
           "#636efa",
           "#EF553B",
           "#00cc96",
           "#ab63fa",
           "#FFA15A",
           "#19d3f3",
           "#FF6692",
           "#B6E880",
           "#FF97FF",
           "#FECB52"
          ],
          "font": {
           "color": "#2a3f5f"
          },
          "geo": {
           "bgcolor": "white",
           "lakecolor": "white",
           "landcolor": "#E5ECF6",
           "showlakes": true,
           "showland": true,
           "subunitcolor": "white"
          },
          "hoverlabel": {
           "align": "left"
          },
          "hovermode": "closest",
          "mapbox": {
           "style": "light"
          },
          "paper_bgcolor": "white",
          "plot_bgcolor": "#E5ECF6",
          "polar": {
           "angularaxis": {
            "gridcolor": "white",
            "linecolor": "white",
            "ticks": ""
           },
           "bgcolor": "#E5ECF6",
           "radialaxis": {
            "gridcolor": "white",
            "linecolor": "white",
            "ticks": ""
           }
          },
          "scene": {
           "xaxis": {
            "backgroundcolor": "#E5ECF6",
            "gridcolor": "white",
            "gridwidth": 2,
            "linecolor": "white",
            "showbackground": true,
            "ticks": "",
            "zerolinecolor": "white"
           },
           "yaxis": {
            "backgroundcolor": "#E5ECF6",
            "gridcolor": "white",
            "gridwidth": 2,
            "linecolor": "white",
            "showbackground": true,
            "ticks": "",
            "zerolinecolor": "white"
           },
           "zaxis": {
            "backgroundcolor": "#E5ECF6",
            "gridcolor": "white",
            "gridwidth": 2,
            "linecolor": "white",
            "showbackground": true,
            "ticks": "",
            "zerolinecolor": "white"
           }
          },
          "shapedefaults": {
           "line": {
            "color": "#2a3f5f"
           }
          },
          "ternary": {
           "aaxis": {
            "gridcolor": "white",
            "linecolor": "white",
            "ticks": ""
           },
           "baxis": {
            "gridcolor": "white",
            "linecolor": "white",
            "ticks": ""
           },
           "bgcolor": "#E5ECF6",
           "caxis": {
            "gridcolor": "white",
            "linecolor": "white",
            "ticks": ""
           }
          },
          "title": {
           "x": 0.05
          },
          "xaxis": {
           "automargin": true,
           "gridcolor": "white",
           "linecolor": "white",
           "ticks": "",
           "title": {
            "standoff": 15
           },
           "zerolinecolor": "white",
           "zerolinewidth": 2
          },
          "yaxis": {
           "automargin": true,
           "gridcolor": "white",
           "linecolor": "white",
           "ticks": "",
           "title": {
            "standoff": 15
           },
           "zerolinecolor": "white",
           "zerolinewidth": 2
          }
         }
        },
        "title": {
         "text": "missing_entry_combined"
        },
        "width": 1000,
        "yaxis": {
         "dtick": 25,
         "range": [
          -175,
          100
         ],
         "tick0": 0
        }
       }
      }
     },
     "metadata": {}
    },
    {
     "output_type": "display_data",
     "data": {
      "application/vnd.plotly.v1+json": {
       "config": {
        "plotlyServerURL": "https://plot.ly"
       },
       "data": [
        {
         "marker": {
          "color": "#EA4335"
         },
         "mode": "lines+markers",
         "name": "JSD loss (semi-supervised), categorical",
         "type": "scatter",
         "x": [
          0.1,
          0.5,
          1,
          5,
          10,
          50
         ],
         "y": [
          -4.7068160825000005,
          -4.743149175416668,
          6.225744482166667,
          19.81693599833333,
          21.2433167475,
          19.825081665833334
         ]
        },
        {
         "line": {
          "width": 0
         },
         "marker": {
          "color": "#EA4335"
         },
         "mode": "lines",
         "name": "Upper bound",
         "showlegend": false,
         "type": "scatter",
         "x": [
          0.1,
          0.5,
          1,
          5,
          10,
          50
         ],
         "y": [
          3.1406529320402,
          4.023905619680876,
          11.64389784126206,
          25.727374110618683,
          26.004185080014118,
          20.780759538178888
         ]
        },
        {
         "fill": "tonexty",
         "fillcolor": "rgba(234, 67, 53, 0.2)",
         "line": {
          "width": 0
         },
         "marker": {
          "color": "#EA4335"
         },
         "mode": "lines",
         "name": "Lower bound",
         "showlegend": false,
         "type": "scatter",
         "x": [
          0.1,
          0.5,
          1,
          5,
          10,
          50
         ],
         "y": [
          -12.5542850970402,
          -13.510203970514212,
          0.8075911230712745,
          13.90649788604798,
          16.482448414985882,
          18.86940379348778
         ]
        },
        {
         "marker": {
          "color": "#FBBC04"
         },
         "mode": "lines+markers",
         "name": "JSD loss (unsupervised), categorical",
         "type": "scatter",
         "x": [
          0.1,
          0.5,
          1,
          5,
          10,
          50
         ],
         "y": [
          -14.97554737025,
          -1.3270818584166666,
          -0.7606923883333333,
          -0.33399110558333334,
          -0.2982452993333333,
          -0.009066060166666673
         ]
        },
        {
         "line": {
          "width": 0
         },
         "marker": {
          "color": "#FBBC04"
         },
         "mode": "lines",
         "name": "Upper bound",
         "showlegend": false,
         "type": "scatter",
         "x": [
          0.1,
          0.5,
          1,
          5,
          10,
          50
         ],
         "y": [
          23.444783077027502,
          2.8802125390747877,
          2.4654864614235077,
          0.3803981838922811,
          0.32663523338325395,
          0.25952091580800046
         ]
        },
        {
         "fill": "tonexty",
         "fillcolor": "rgba(251, 188, 4, 0.2)",
         "line": {
          "width": 0
         },
         "marker": {
          "color": "#FBBC04"
         },
         "mode": "lines",
         "name": "Lower bound",
         "showlegend": false,
         "type": "scatter",
         "x": [
          0.1,
          0.5,
          1,
          5,
          10,
          50
         ],
         "y": [
          -53.3958778175275,
          -5.53437625590812,
          -3.986871238090174,
          -1.0483803950589476,
          -0.9231258320499206,
          -0.2776530361413338
         ]
        },
        {
         "marker": {
          "color": "#34A853"
         },
         "mode": "lines+markers",
         "name": "JSD loss (semi-supervised), continuous",
         "type": "scatter",
         "x": [
          0.1,
          0.5,
          1,
          5,
          10,
          50
         ],
         "y": [
          -145.18942025799998,
          -42.168860759299996,
          -40.686129257000005,
          -34.115152915,
          -29.4434327488,
          -9.592655941299999
         ]
        },
        {
         "line": {
          "width": 0
         },
         "marker": {
          "color": "#34A853"
         },
         "mode": "lines",
         "name": "Upper bound",
         "showlegend": false,
         "type": "scatter",
         "x": [
          0.1,
          0.5,
          1,
          5,
          10,
          50
         ],
         "y": [
          71.5431440804297,
          -5.096424933514989,
          -18.05628470028901,
          -18.904556951236682,
          -12.02121976889454,
          -6.102778031377385
         ]
        },
        {
         "fill": "tonexty",
         "fillcolor": "rgba(52, 168, 83, 0.2)",
         "line": {
          "width": 0
         },
         "marker": {
          "color": "#34A853"
         },
         "mode": "lines",
         "name": "Lower bound",
         "showlegend": false,
         "type": "scatter",
         "x": [
          0.1,
          0.5,
          1,
          5,
          10,
          50
         ],
         "y": [
          -361.92198459642964,
          -79.241296585085,
          -63.315973813711,
          -49.32574887876332,
          -46.86564572870546,
          -13.082533851222612
         ]
        },
        {
         "marker": {
          "color": "#4285F4"
         },
         "mode": "lines+markers",
         "name": "JSD loss (unsupervised), continuous",
         "type": "scatter",
         "x": [
          0.1,
          0.5,
          1,
          5,
          10,
          50
         ],
         "y": [
          -45.6730397413,
          -4.5190835146,
          -1.7043357677000004,
          -0.5013643543,
          -0.15028576909999997,
          -0.0032026830000000004
         ]
        },
        {
         "line": {
          "width": 0
         },
         "marker": {
          "color": "#4285F4"
         },
         "mode": "lines",
         "name": "Upper bound",
         "showlegend": false,
         "type": "scatter",
         "x": [
          0.1,
          0.5,
          1,
          5,
          10,
          50
         ],
         "y": [
          19.686353808822417,
          -2.630616922020029,
          -0.20898271224518505,
          -0.1702281762941924,
          -0.006314899106427824,
          0.05597687897137737
         ]
        },
        {
         "fill": "tonexty",
         "fillcolor": "rgba(66, 133, 244, 0.2)",
         "line": {
          "width": 0
         },
         "marker": {
          "color": "#4285F4"
         },
         "mode": "lines",
         "name": "Lower bound",
         "showlegend": false,
         "type": "scatter",
         "x": [
          0.1,
          0.5,
          1,
          5,
          10,
          50
         ],
         "y": [
          -111.03243329142242,
          -6.407550107179971,
          -3.1996888231548155,
          -0.8325005323058077,
          -0.29425663909357214,
          -0.062382244971377364
         ]
        }
       ],
       "layout": {
        "height": 600,
        "template": {
         "data": {
          "bar": [
           {
            "error_x": {
             "color": "#2a3f5f"
            },
            "error_y": {
             "color": "#2a3f5f"
            },
            "marker": {
             "line": {
              "color": "#E5ECF6",
              "width": 0.5
             }
            },
            "type": "bar"
           }
          ],
          "barpolar": [
           {
            "marker": {
             "line": {
              "color": "#E5ECF6",
              "width": 0.5
             }
            },
            "type": "barpolar"
           }
          ],
          "carpet": [
           {
            "aaxis": {
             "endlinecolor": "#2a3f5f",
             "gridcolor": "white",
             "linecolor": "white",
             "minorgridcolor": "white",
             "startlinecolor": "#2a3f5f"
            },
            "baxis": {
             "endlinecolor": "#2a3f5f",
             "gridcolor": "white",
             "linecolor": "white",
             "minorgridcolor": "white",
             "startlinecolor": "#2a3f5f"
            },
            "type": "carpet"
           }
          ],
          "choropleth": [
           {
            "colorbar": {
             "outlinewidth": 0,
             "ticks": ""
            },
            "type": "choropleth"
           }
          ],
          "contour": [
           {
            "colorbar": {
             "outlinewidth": 0,
             "ticks": ""
            },
            "colorscale": [
             [
              0,
              "#0d0887"
             ],
             [
              0.1111111111111111,
              "#46039f"
             ],
             [
              0.2222222222222222,
              "#7201a8"
             ],
             [
              0.3333333333333333,
              "#9c179e"
             ],
             [
              0.4444444444444444,
              "#bd3786"
             ],
             [
              0.5555555555555556,
              "#d8576b"
             ],
             [
              0.6666666666666666,
              "#ed7953"
             ],
             [
              0.7777777777777778,
              "#fb9f3a"
             ],
             [
              0.8888888888888888,
              "#fdca26"
             ],
             [
              1,
              "#f0f921"
             ]
            ],
            "type": "contour"
           }
          ],
          "contourcarpet": [
           {
            "colorbar": {
             "outlinewidth": 0,
             "ticks": ""
            },
            "type": "contourcarpet"
           }
          ],
          "heatmap": [
           {
            "colorbar": {
             "outlinewidth": 0,
             "ticks": ""
            },
            "colorscale": [
             [
              0,
              "#0d0887"
             ],
             [
              0.1111111111111111,
              "#46039f"
             ],
             [
              0.2222222222222222,
              "#7201a8"
             ],
             [
              0.3333333333333333,
              "#9c179e"
             ],
             [
              0.4444444444444444,
              "#bd3786"
             ],
             [
              0.5555555555555556,
              "#d8576b"
             ],
             [
              0.6666666666666666,
              "#ed7953"
             ],
             [
              0.7777777777777778,
              "#fb9f3a"
             ],
             [
              0.8888888888888888,
              "#fdca26"
             ],
             [
              1,
              "#f0f921"
             ]
            ],
            "type": "heatmap"
           }
          ],
          "heatmapgl": [
           {
            "colorbar": {
             "outlinewidth": 0,
             "ticks": ""
            },
            "colorscale": [
             [
              0,
              "#0d0887"
             ],
             [
              0.1111111111111111,
              "#46039f"
             ],
             [
              0.2222222222222222,
              "#7201a8"
             ],
             [
              0.3333333333333333,
              "#9c179e"
             ],
             [
              0.4444444444444444,
              "#bd3786"
             ],
             [
              0.5555555555555556,
              "#d8576b"
             ],
             [
              0.6666666666666666,
              "#ed7953"
             ],
             [
              0.7777777777777778,
              "#fb9f3a"
             ],
             [
              0.8888888888888888,
              "#fdca26"
             ],
             [
              1,
              "#f0f921"
             ]
            ],
            "type": "heatmapgl"
           }
          ],
          "histogram": [
           {
            "marker": {
             "colorbar": {
              "outlinewidth": 0,
              "ticks": ""
             }
            },
            "type": "histogram"
           }
          ],
          "histogram2d": [
           {
            "colorbar": {
             "outlinewidth": 0,
             "ticks": ""
            },
            "colorscale": [
             [
              0,
              "#0d0887"
             ],
             [
              0.1111111111111111,
              "#46039f"
             ],
             [
              0.2222222222222222,
              "#7201a8"
             ],
             [
              0.3333333333333333,
              "#9c179e"
             ],
             [
              0.4444444444444444,
              "#bd3786"
             ],
             [
              0.5555555555555556,
              "#d8576b"
             ],
             [
              0.6666666666666666,
              "#ed7953"
             ],
             [
              0.7777777777777778,
              "#fb9f3a"
             ],
             [
              0.8888888888888888,
              "#fdca26"
             ],
             [
              1,
              "#f0f921"
             ]
            ],
            "type": "histogram2d"
           }
          ],
          "histogram2dcontour": [
           {
            "colorbar": {
             "outlinewidth": 0,
             "ticks": ""
            },
            "colorscale": [
             [
              0,
              "#0d0887"
             ],
             [
              0.1111111111111111,
              "#46039f"
             ],
             [
              0.2222222222222222,
              "#7201a8"
             ],
             [
              0.3333333333333333,
              "#9c179e"
             ],
             [
              0.4444444444444444,
              "#bd3786"
             ],
             [
              0.5555555555555556,
              "#d8576b"
             ],
             [
              0.6666666666666666,
              "#ed7953"
             ],
             [
              0.7777777777777778,
              "#fb9f3a"
             ],
             [
              0.8888888888888888,
              "#fdca26"
             ],
             [
              1,
              "#f0f921"
             ]
            ],
            "type": "histogram2dcontour"
           }
          ],
          "mesh3d": [
           {
            "colorbar": {
             "outlinewidth": 0,
             "ticks": ""
            },
            "type": "mesh3d"
           }
          ],
          "parcoords": [
           {
            "line": {
             "colorbar": {
              "outlinewidth": 0,
              "ticks": ""
             }
            },
            "type": "parcoords"
           }
          ],
          "pie": [
           {
            "automargin": true,
            "type": "pie"
           }
          ],
          "scatter": [
           {
            "marker": {
             "colorbar": {
              "outlinewidth": 0,
              "ticks": ""
             }
            },
            "type": "scatter"
           }
          ],
          "scatter3d": [
           {
            "line": {
             "colorbar": {
              "outlinewidth": 0,
              "ticks": ""
             }
            },
            "marker": {
             "colorbar": {
              "outlinewidth": 0,
              "ticks": ""
             }
            },
            "type": "scatter3d"
           }
          ],
          "scattercarpet": [
           {
            "marker": {
             "colorbar": {
              "outlinewidth": 0,
              "ticks": ""
             }
            },
            "type": "scattercarpet"
           }
          ],
          "scattergeo": [
           {
            "marker": {
             "colorbar": {
              "outlinewidth": 0,
              "ticks": ""
             }
            },
            "type": "scattergeo"
           }
          ],
          "scattergl": [
           {
            "marker": {
             "colorbar": {
              "outlinewidth": 0,
              "ticks": ""
             }
            },
            "type": "scattergl"
           }
          ],
          "scattermapbox": [
           {
            "marker": {
             "colorbar": {
              "outlinewidth": 0,
              "ticks": ""
             }
            },
            "type": "scattermapbox"
           }
          ],
          "scatterpolar": [
           {
            "marker": {
             "colorbar": {
              "outlinewidth": 0,
              "ticks": ""
             }
            },
            "type": "scatterpolar"
           }
          ],
          "scatterpolargl": [
           {
            "marker": {
             "colorbar": {
              "outlinewidth": 0,
              "ticks": ""
             }
            },
            "type": "scatterpolargl"
           }
          ],
          "scatterternary": [
           {
            "marker": {
             "colorbar": {
              "outlinewidth": 0,
              "ticks": ""
             }
            },
            "type": "scatterternary"
           }
          ],
          "surface": [
           {
            "colorbar": {
             "outlinewidth": 0,
             "ticks": ""
            },
            "colorscale": [
             [
              0,
              "#0d0887"
             ],
             [
              0.1111111111111111,
              "#46039f"
             ],
             [
              0.2222222222222222,
              "#7201a8"
             ],
             [
              0.3333333333333333,
              "#9c179e"
             ],
             [
              0.4444444444444444,
              "#bd3786"
             ],
             [
              0.5555555555555556,
              "#d8576b"
             ],
             [
              0.6666666666666666,
              "#ed7953"
             ],
             [
              0.7777777777777778,
              "#fb9f3a"
             ],
             [
              0.8888888888888888,
              "#fdca26"
             ],
             [
              1,
              "#f0f921"
             ]
            ],
            "type": "surface"
           }
          ],
          "table": [
           {
            "cells": {
             "fill": {
              "color": "#EBF0F8"
             },
             "line": {
              "color": "white"
             }
            },
            "header": {
             "fill": {
              "color": "#C8D4E3"
             },
             "line": {
              "color": "white"
             }
            },
            "type": "table"
           }
          ]
         },
         "layout": {
          "annotationdefaults": {
           "arrowcolor": "#2a3f5f",
           "arrowhead": 0,
           "arrowwidth": 1
          },
          "autotypenumbers": "strict",
          "coloraxis": {
           "colorbar": {
            "outlinewidth": 0,
            "ticks": ""
           }
          },
          "colorscale": {
           "diverging": [
            [
             0,
             "#8e0152"
            ],
            [
             0.1,
             "#c51b7d"
            ],
            [
             0.2,
             "#de77ae"
            ],
            [
             0.3,
             "#f1b6da"
            ],
            [
             0.4,
             "#fde0ef"
            ],
            [
             0.5,
             "#f7f7f7"
            ],
            [
             0.6,
             "#e6f5d0"
            ],
            [
             0.7,
             "#b8e186"
            ],
            [
             0.8,
             "#7fbc41"
            ],
            [
             0.9,
             "#4d9221"
            ],
            [
             1,
             "#276419"
            ]
           ],
           "sequential": [
            [
             0,
             "#0d0887"
            ],
            [
             0.1111111111111111,
             "#46039f"
            ],
            [
             0.2222222222222222,
             "#7201a8"
            ],
            [
             0.3333333333333333,
             "#9c179e"
            ],
            [
             0.4444444444444444,
             "#bd3786"
            ],
            [
             0.5555555555555556,
             "#d8576b"
            ],
            [
             0.6666666666666666,
             "#ed7953"
            ],
            [
             0.7777777777777778,
             "#fb9f3a"
            ],
            [
             0.8888888888888888,
             "#fdca26"
            ],
            [
             1,
             "#f0f921"
            ]
           ],
           "sequentialminus": [
            [
             0,
             "#0d0887"
            ],
            [
             0.1111111111111111,
             "#46039f"
            ],
            [
             0.2222222222222222,
             "#7201a8"
            ],
            [
             0.3333333333333333,
             "#9c179e"
            ],
            [
             0.4444444444444444,
             "#bd3786"
            ],
            [
             0.5555555555555556,
             "#d8576b"
            ],
            [
             0.6666666666666666,
             "#ed7953"
            ],
            [
             0.7777777777777778,
             "#fb9f3a"
            ],
            [
             0.8888888888888888,
             "#fdca26"
            ],
            [
             1,
             "#f0f921"
            ]
           ]
          },
          "colorway": [
           "#636efa",
           "#EF553B",
           "#00cc96",
           "#ab63fa",
           "#FFA15A",
           "#19d3f3",
           "#FF6692",
           "#B6E880",
           "#FF97FF",
           "#FECB52"
          ],
          "font": {
           "color": "#2a3f5f"
          },
          "geo": {
           "bgcolor": "white",
           "lakecolor": "white",
           "landcolor": "#E5ECF6",
           "showlakes": true,
           "showland": true,
           "subunitcolor": "white"
          },
          "hoverlabel": {
           "align": "left"
          },
          "hovermode": "closest",
          "mapbox": {
           "style": "light"
          },
          "paper_bgcolor": "white",
          "plot_bgcolor": "#E5ECF6",
          "polar": {
           "angularaxis": {
            "gridcolor": "white",
            "linecolor": "white",
            "ticks": ""
           },
           "bgcolor": "#E5ECF6",
           "radialaxis": {
            "gridcolor": "white",
            "linecolor": "white",
            "ticks": ""
           }
          },
          "scene": {
           "xaxis": {
            "backgroundcolor": "#E5ECF6",
            "gridcolor": "white",
            "gridwidth": 2,
            "linecolor": "white",
            "showbackground": true,
            "ticks": "",
            "zerolinecolor": "white"
           },
           "yaxis": {
            "backgroundcolor": "#E5ECF6",
            "gridcolor": "white",
            "gridwidth": 2,
            "linecolor": "white",
            "showbackground": true,
            "ticks": "",
            "zerolinecolor": "white"
           },
           "zaxis": {
            "backgroundcolor": "#E5ECF6",
            "gridcolor": "white",
            "gridwidth": 2,
            "linecolor": "white",
            "showbackground": true,
            "ticks": "",
            "zerolinecolor": "white"
           }
          },
          "shapedefaults": {
           "line": {
            "color": "#2a3f5f"
           }
          },
          "ternary": {
           "aaxis": {
            "gridcolor": "white",
            "linecolor": "white",
            "ticks": ""
           },
           "baxis": {
            "gridcolor": "white",
            "linecolor": "white",
            "ticks": ""
           },
           "bgcolor": "#E5ECF6",
           "caxis": {
            "gridcolor": "white",
            "linecolor": "white",
            "ticks": ""
           }
          },
          "title": {
           "x": 0.05
          },
          "xaxis": {
           "automargin": true,
           "gridcolor": "white",
           "linecolor": "white",
           "ticks": "",
           "title": {
            "standoff": 15
           },
           "zerolinecolor": "white",
           "zerolinewidth": 2
          },
          "yaxis": {
           "automargin": true,
           "gridcolor": "white",
           "linecolor": "white",
           "ticks": "",
           "title": {
            "standoff": 15
           },
           "zerolinecolor": "white",
           "zerolinewidth": 2
          }
         }
        },
        "title": {
         "text": "missing_entry_no_denoising"
        },
        "width": 1000,
        "yaxis": {
         "dtick": 25,
         "range": [
          -175,
          100
         ],
         "tick0": 0
        }
       }
      }
     },
     "metadata": {}
    }
   ],
   "source": [
    "for i in range(len(parameters)):\n",
    "    if i not in [0,1,2]:\n",
    "        excluded_config_strings=['CCE, SD=4', 'CCEu, SD=4', 'CCE, SD=100','CCEu, SD=100']\n",
    "    else:\n",
    "        excluded_config_strings=[]\n",
    "    plot_vals(i,USE_PLOTLY=True,excluded_config_strings=excluded_config_strings)"
   ]
  },
  {
   "cell_type": "code",
   "execution_count": 6,
   "id": "partial-algeria",
   "metadata": {},
   "outputs": [
    {
     "output_type": "execute_result",
     "data": {
      "text/plain": [
       "['0: 12',\n",
       " '1: 12',\n",
       " '2: 12',\n",
       " '3: 12',\n",
       " '4: 12',\n",
       " '5: 13',\n",
       " '6: 12',\n",
       " '7: 12',\n",
       " '8: 12',\n",
       " '9: 12',\n",
       " '10: 12',\n",
       " '11: 12',\n",
       " '12: 12',\n",
       " '13: 12',\n",
       " '14: 12',\n",
       " '15: 11',\n",
       " '16: 11',\n",
       " '17: 11',\n",
       " '18: 12',\n",
       " '19: 11',\n",
       " '20: 11',\n",
       " '21: 10',\n",
       " '22: 10',\n",
       " '23: 10',\n",
       " '24: 10',\n",
       " '25: 11',\n",
       " '26: 11',\n",
       " '27: 11',\n",
       " '28: 11',\n",
       " '29: 11',\n",
       " '30: 12',\n",
       " '31: 11',\n",
       " '32: 11',\n",
       " '33: 11',\n",
       " '34: 11',\n",
       " '35: 11',\n",
       " '36: 11',\n",
       " '37: 11',\n",
       " '38: 11',\n",
       " '39: 11',\n",
       " '40: 11',\n",
       " '41: 11',\n",
       " '42: 11',\n",
       " '43: 11',\n",
       " '44: 11',\n",
       " '45: 11',\n",
       " '46: 11',\n",
       " '47: 11',\n",
       " '48: 11',\n",
       " '49: 11',\n",
       " '50: 11',\n",
       " '51: 10',\n",
       " '52: 11',\n",
       " '53: 11',\n",
       " '54: 11',\n",
       " '55: 11',\n",
       " '56: 11',\n",
       " '57: 11',\n",
       " '58: 11',\n",
       " '59: 11',\n",
       " '60: 11',\n",
       " '61: 11',\n",
       " '62: 11',\n",
       " '63: 11',\n",
       " '64: 11',\n",
       " '65: 11',\n",
       " '66: 11',\n",
       " '67: 11',\n",
       " '68: 10',\n",
       " '69: 11',\n",
       " '70: 11',\n",
       " '71: 11',\n",
       " '72: 11',\n",
       " '73: 11',\n",
       " '74: 11',\n",
       " '75: 11',\n",
       " '76: 11',\n",
       " '77: 11',\n",
       " '78: 11',\n",
       " '79: 11',\n",
       " '80: 11',\n",
       " '81: 11',\n",
       " '82: 12',\n",
       " '83: 12',\n",
       " '84: 10',\n",
       " '85: 11',\n",
       " '86: 10',\n",
       " '87: 10',\n",
       " '88: 12',\n",
       " '89: 12',\n",
       " '90: 12',\n",
       " '91: 12',\n",
       " '92: 12',\n",
       " '93: 12',\n",
       " '94: 12',\n",
       " '95: 12',\n",
       " '96: 12',\n",
       " '97: 12',\n",
       " '98: 12',\n",
       " '99: 12',\n",
       " '100: 12',\n",
       " '101: 12',\n",
       " '102: 12',\n",
       " '103: 12',\n",
       " '104: 12',\n",
       " '105: 12',\n",
       " '106: 12',\n",
       " '107: 12',\n",
       " '108: 12',\n",
       " '109: 12',\n",
       " '110: 12',\n",
       " '111: 12',\n",
       " '112: 12',\n",
       " '113: 12',\n",
       " '114: 12',\n",
       " '115: 12',\n",
       " '116: 13',\n",
       " '117: 12',\n",
       " '118: 12',\n",
       " '119: 10',\n",
       " '120: 10',\n",
       " '121: 10',\n",
       " '122: 10',\n",
       " '123: 12',\n",
       " '124: 12',\n",
       " '125: 12',\n",
       " '126: 12',\n",
       " '127: 12',\n",
       " '128: 12',\n",
       " '129: 12',\n",
       " '130: 12',\n",
       " '131: 12',\n",
       " '132: 12',\n",
       " '133: 12',\n",
       " '134: 12',\n",
       " '135: 12',\n",
       " '136: 12',\n",
       " '137: 12',\n",
       " '138: 12',\n",
       " '139: 12',\n",
       " '140: 12',\n",
       " '141: 12',\n",
       " '142: 12',\n",
       " '143: 10',\n",
       " '144: 12',\n",
       " '145: 12',\n",
       " '146: 12',\n",
       " '147: 12',\n",
       " '148: 12',\n",
       " '149: 12',\n",
       " '150: 12',\n",
       " '151: 12',\n",
       " '152: 12',\n",
       " '153: 12',\n",
       " '154: 12',\n",
       " '155: 12',\n",
       " '156: 12',\n",
       " '157: 12',\n",
       " '158: 12',\n",
       " '159: 12',\n",
       " '160: 10',\n",
       " '161: 12',\n",
       " '162: 12',\n",
       " '163: 12',\n",
       " '164: 10',\n",
       " '165: 12',\n",
       " '166: 10',\n",
       " '167: 10',\n",
       " '168: 12',\n",
       " '169: 12',\n",
       " '170: 12',\n",
       " '171: 12',\n",
       " '172: 12',\n",
       " '173: 12',\n",
       " '174: 12',\n",
       " '175: 12',\n",
       " '176: 12',\n",
       " '177: 12',\n",
       " '178: 12',\n",
       " '179: 12',\n",
       " '180: 12',\n",
       " '181: 12',\n",
       " '182: 12',\n",
       " '183: 12',\n",
       " '184: 12',\n",
       " '185: 12',\n",
       " '186: 12',\n",
       " '187: 12',\n",
       " '188: 12',\n",
       " '189: 12',\n",
       " '190: 12',\n",
       " '191: 12',\n",
       " '192: 12',\n",
       " '193: 12',\n",
       " '194: 12',\n",
       " '195: 12',\n",
       " '196: 10',\n",
       " '197: 10',\n",
       " '198: 10',\n",
       " '199: 10',\n",
       " '200: 10',\n",
       " '201: 10',\n",
       " '202: 10',\n",
       " '203: 10',\n",
       " '204: 10',\n",
       " '205: 10',\n",
       " '206: 10',\n",
       " '207: 10',\n",
       " '208: 10',\n",
       " '209: 10',\n",
       " '210: 10',\n",
       " '211: 10',\n",
       " '212: 10',\n",
       " '213: 10',\n",
       " '214: 10',\n",
       " '215: 10',\n",
       " '216: 11',\n",
       " '217: 10',\n",
       " '218: 10',\n",
       " '219: 12',\n",
       " '220: 11',\n",
       " '221: 10',\n",
       " '222: 10',\n",
       " '223: 10',\n",
       " '224: 10',\n",
       " '225: 10',\n",
       " '226: 11',\n",
       " '227: 10',\n",
       " '228: 10',\n",
       " '229: 10',\n",
       " '230: 10',\n",
       " '231: 10',\n",
       " '232: 10',\n",
       " '233: 11',\n",
       " '234: 10',\n",
       " '235: 11',\n",
       " '236: 10',\n",
       " '237: 10',\n",
       " '238: 11',\n",
       " '239: 11',\n",
       " '240: 10',\n",
       " '241: 11',\n",
       " '242: 11',\n",
       " '243: 11',\n",
       " '244: 11',\n",
       " '245: 11',\n",
       " '246: 11',\n",
       " '247: 11',\n",
       " '248: 11',\n",
       " '249: 11',\n",
       " '250: 11',\n",
       " '251: 11',\n",
       " '252: 11',\n",
       " '253: 11',\n",
       " '254: 11',\n",
       " '255: 11',\n",
       " '256: 11',\n",
       " '257: 11',\n",
       " '258: 11',\n",
       " '259: 11',\n",
       " '260: 11',\n",
       " '261: 11',\n",
       " '262: 11',\n",
       " '263: 11',\n",
       " '264: 11',\n",
       " '265: 11',\n",
       " '266: 11',\n",
       " '267: 11',\n",
       " '268: 11',\n",
       " '269: 10',\n",
       " '270: 10',\n",
       " '271: 10',\n",
       " '272: 10',\n",
       " '273: 10',\n",
       " '274: 10',\n",
       " '275: 10',\n",
       " '276: 10',\n",
       " '277: 10',\n",
       " '278: 10',\n",
       " '279: 10',\n",
       " '280: 10',\n",
       " '281: 10',\n",
       " '282: 10',\n",
       " '283: 10',\n",
       " '284: 10',\n",
       " '285: 10',\n",
       " '286: 10',\n",
       " '287: 10',\n",
       " '288: 10',\n",
       " '289: 10',\n",
       " '290: 10',\n",
       " '291: 10',\n",
       " '292: 10',\n",
       " '293: 10',\n",
       " '294: 10',\n",
       " '295: 12',\n",
       " '296: 10',\n",
       " '297: 10',\n",
       " '298: 10',\n",
       " '299: 10',\n",
       " '300: 10',\n",
       " '301: 12',\n",
       " '302: 10',\n",
       " '303: 10',\n",
       " '304: 10',\n",
       " '305: 10',\n",
       " '306: 10',\n",
       " '307: 10',\n",
       " '308: 12',\n",
       " '309: 10',\n",
       " '310: 12',\n",
       " '311: 10',\n",
       " '312: 10',\n",
       " '313: 10',\n",
       " '314: 10',\n",
       " '315: 10',\n",
       " '316: 11',\n",
       " '317: 12',\n",
       " '318: 11',\n",
       " '319: 11',\n",
       " '320: 11',\n",
       " '321: 11',\n",
       " '322: 12',\n",
       " '323: 11',\n",
       " '324: 11',\n",
       " '325: 11',\n",
       " '326: 11',\n",
       " '327: 12',\n",
       " '328: 11',\n",
       " '329: 11',\n",
       " '330: 11',\n",
       " '331: 11',\n",
       " '332: 11',\n",
       " '333: 11',\n",
       " '334: 11',\n",
       " '335: 11',\n",
       " '336: 11',\n",
       " '337: 11',\n",
       " '338: 11',\n",
       " '339: 10',\n",
       " '340: 10',\n",
       " '341: 10',\n",
       " '342: 10',\n",
       " '343: 10',\n",
       " '344: 10',\n",
       " '345: 10',\n",
       " '346: 10',\n",
       " '347: 10',\n",
       " '348: 10',\n",
       " '349: 10',\n",
       " '350: 10',\n",
       " '351: 10',\n",
       " '352: 10',\n",
       " '353: 10',\n",
       " '354: 10',\n",
       " '355: 10',\n",
       " '356: 10',\n",
       " '357: 10']"
      ]
     },
     "metadata": {},
     "execution_count": 6
    }
   ],
   "source": [
    "# a=[len(experiment_config_results[x['mapping']]) for i,x in enumerate(experiments)]\n",
    "# unique, counts = np.unique(a, return_counts=True)\n",
    "# dict(zip(unique, counts))\n",
    "\n",
    "\n",
    "# [str(i) + \": \" + x['full_string'] + \" --- \" +  str(len(experiment_config_results[x['mapping']])) for i,x in enumerate(experiments)]\n",
    "\n",
    "[str(i) + \": \" +  str(len(experiment_config_results[x['mapping']])) for i,x in enumerate(experiments)]"
   ]
  },
  {
   "cell_type": "code",
   "execution_count": 23,
   "metadata": {},
   "outputs": [],
   "source": []
  },
  {
   "cell_type": "code",
   "execution_count": null,
   "metadata": {},
   "outputs": [],
   "source": []
  }
 ],
 "metadata": {
  "kernelspec": {
   "display_name": "Python 3",
   "language": "python",
   "name": "python3"
  },
  "language_info": {
   "codemirror_mode": {
    "name": "ipython",
    "version": 3
   },
   "file_extension": ".py",
   "mimetype": "text/x-python",
   "name": "python",
   "nbconvert_exporter": "python",
   "pygments_lexer": "ipython3",
   "version": "3.8.5-final"
  }
 },
 "nbformat": 4,
 "nbformat_minor": 5
}