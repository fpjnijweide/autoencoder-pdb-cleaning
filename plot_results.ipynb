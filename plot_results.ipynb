{
 "cells": [
  {
   "cell_type": "code",
   "execution_count": 68,
   "id": "partial-rebate",
   "metadata": {},
   "outputs": [
    {
     "output_type": "stream",
     "name": "stdout",
     "text": [
      "done\n"
     ]
    }
   ],
   "source": [
    "import dill\n",
    "import numpy as np\n",
    "import matplotlib.pyplot as plt\n",
    "from IPython.display import display\n",
    "import plotly.express as px\n",
    "import plotly.graph_objs as go\n",
    "print('done')\n",
    "\n",
    "USE_PLOTLY = True\n"
   ]
  },
  {
   "cell_type": "code",
   "execution_count": 69,
   "id": "present-white",
   "metadata": {},
   "outputs": [
    {
     "output_type": "stream",
     "name": "stdout",
     "text": [
      "['CCE, SD=4' 'JSD, SD=4' 'CCEu, SD=4' 'JSDu, SD=4' 'CCE, SD=100'\n 'JSD, SD=100']\n6\n11\n['CCE, SD=4' 'JSD, SD=4' 'CCEu, SD=4' 'JSDu, SD=4' 'CCE, SD=100'\n 'JSD, SD=100']\n\n\n['training_method' 'activation_types' 'input_layer_type' 'encoding_dim'\n 'hidden_layers' 'activity_regularizer' 'sigma' 'BN_size'\n 'labeled_data_percentage' 'sampling_density' 'gaussian_noise_sigma']\n\n['training_method' 'activation_types' 'input_layer_type' 'encoding_dim'\n 'hidden_layers' 'activity_regularizer' 'sigma' 'BN_size'\n 'labeled_data_percentage' 'sampling_density' 'gaussian_noise_sigma']\n"
     ]
    }
   ],
   "source": [
    "with open(\"experiment_config_results_gpu\",\"rb\") as current_file:\n",
    "    experiment_config_results = dill.load(current_file)\n",
    "with open(\"experiments_gpu\",\"rb\") as current_file:\n",
    "    experiments = dill.load(current_file)\n",
    "\n",
    "    \n",
    "non_unique_params = np.array([experiment['parameter'] for experiment in experiments])\n",
    "non_unique_config_strings = np.array([experiment['config_string'] for experiment in experiments])\n",
    "\n",
    "par_indices = np.unique(non_unique_params,return_index=True)[1]\n",
    "string_indices = np.unique(non_unique_config_strings,return_index=True)[1]\n",
    "\n",
    "parameters = non_unique_params[np.sort(par_indices)]\n",
    "config_strings = non_unique_config_strings[np.sort(string_indices)]\n",
    "# config_strings[0],config_strings[1],config_strings[2] = config_strings[2],config_strings[0],config_strings[1]\n",
    "# config_strings[[0,1,2]] = config_strings[[2,0,1]]\n",
    "print(config_strings)\n",
    "\n",
    "def str_noneguard(obj):\n",
    "    if hasattr(obj,'__name__'):\n",
    "        return obj.__name__\n",
    "    if obj is None:\n",
    "        return ''\n",
    "    if isinstance(obj,list):\n",
    "        return str([str_noneguard(x) for x in obj])\n",
    "    return str(obj)\n",
    "\n",
    "\n",
    "print(len(config_strings))\n",
    "# colors=['#4285F4','#EA4335', '#FBBC04',  '#34A853','#000000','#46BDC6',      '#46BDC6',             '#F4CCCC','#C9DAF8',            'grey','purple']\n",
    "colors=['#EA4335', '#FBBC04', '#4285F4', '#000000','#34A853','#46BDC6',      '#46BDC6',             '#F4CCCC','#C9DAF8',            'grey','purple']\n",
    "print(len(colors))\n",
    "print(config_strings)\n",
    "print(\"\")\n",
    "print(\"\")\n",
    "\n",
    "print(parameters)\n",
    "print(\"\")\n",
    "\n",
    "# parameters[[3,4,5,6,7,8,9,10,11,12]] = parameters[[-4,-3,-2,5,3,4,6,8,-1,7]]\n",
    "print(parameters)\n",
    "\n"
   ]
  },
  {
   "cell_type": "code",
   "execution_count": 27,
   "id": "italic-thinking",
   "metadata": {},
   "outputs": [],
   "source": [
    "from matplotlib.ticker import (AutoMinorLocator, MultipleLocator)\n",
    "\n",
    "def hex_to_rgb(hex_color: str) -> tuple:\n",
    "    # thanks to https://community.plotly.com/t/scatter-plot-fill-with-color-how-to-set-opacity-of-fill/29591/2\n",
    "    hex_color = hex_color.lstrip(\"#\")\n",
    "    if len(hex_color) == 3:\n",
    "        hex_color = hex_color * 2\n",
    "    return int(hex_color[0:2], 16), int(hex_color[2:4], 16), int(hex_color[4:6], 16)\n",
    "\n",
    "def plot_vals(i,ylim=[-175,100]):\n",
    "\n",
    "    if USE_PLOTLY:\n",
    "        fig = go.Figure()\n",
    "\n",
    "    else:\n",
    "        fig, ax = plt.subplots(figsize=[10,6])  \n",
    "        ax.set_title(parameter)\n",
    "\n",
    "    parameter = parameters[i]\n",
    "    bar=0\n",
    "    all_numbers = True\n",
    "    \n",
    "    for config_index,config_string in enumerate(config_strings):\n",
    "        color=colors[config_index]\n",
    "    #     print(\"--------- \" + config_string + \" -----------\")\n",
    "        filtered_experiments = [ex for ex in experiments if ex['parameter']==parameter and ex['config_string']==config_string]\n",
    "        if len(filtered_experiments)==0:\n",
    "            continue\n",
    "        mappings = np.array([x['mapping'] for x in filtered_experiments])\n",
    "        x_values = [x['current_var'] for x in filtered_experiments]\n",
    "        for x in x_values:\n",
    "            if not isinstance(x,int) and not isinstance(x,float):\n",
    "                all_numbers=False\n",
    "\n",
    "        if not all_numbers:\n",
    "            for i in range(len(x_values)):\n",
    "                x_values[i] = str_noneguard(x_values[i])\n",
    "\n",
    "        results = [result for result in np.array(experiment_config_results,dtype=object)[mappings] ]\n",
    "        means = np.array([np.mean(x) for x in results])\n",
    "        sigmas = np.array([np.std(x) for x in results])\n",
    "\n",
    "    #     print(\"mappings\")\n",
    "    #     display(mappings)\n",
    "    #     print(\"\")\n",
    "    #     print(\"results\")\n",
    "    #     display(results)\n",
    "    #     print(\"\")\n",
    "    #     print(\"x_values\")\n",
    "    #     display(x_values)\n",
    "    #     print(\"\")\n",
    "    #     print(\"means\")\n",
    "    #     display(means)\n",
    "    #     print(\"\")\n",
    "    #     print(\"sigmas\")\n",
    "    #     display(sigmas)\n",
    "    #     print(\"\\n\\n\\n\")\n",
    "    #     ax.plot(x_values,means)\n",
    "#         print(x_values)\n",
    "        if USE_PLOTLY:\n",
    "            if all_numbers:\n",
    "                # fig.add_trace(go.Scatter(x=x_values, y=means, error_y={\"array\":sigmas}, marker_color=color,name=config_string,mode='lines+markers'))\n",
    "                fig.add_trace(go.Scatter(x=x_values, y=means, marker_color=color,name=config_string,mode='lines+markers'))\n",
    "                fig.add_trace(go.Scatter(x=x_values, y=means+sigmas, marker_color=color,name=\"Upper bound\", line=dict(width=0), showlegend=False, mode='lines'))\n",
    "                fig.add_trace(go.Scatter(x=x_values, y=means-sigmas, marker_color=color,fillcolor=f\"rgba{(*hex_to_rgb(color), 0.2)}\",name=\"Lower bound\", line=dict(width=0), showlegend=False, fill='tonexty', mode='lines'))\n",
    "                \n",
    "            else:\n",
    "                fig.add_bar(x=x_values,y=means,error_y={\"array\":sigmas},marker_color=color,name=config_string)\n",
    "        else:\n",
    "            if all_numbers:\n",
    "                ax.plot(x_values,means,'o-',label=config_string,color=color)\n",
    "                ax.fill_between(x_values, (means-sigmas), (means+sigmas),alpha=.2,color=color)\n",
    "            else:\n",
    "                n=len(x_values)\n",
    "                ind = np.arange(n)\n",
    "                width = 0.1\n",
    "                position = ind + (width*(1-n)/2) + bar*width\n",
    "                ax.bar(position,means,width=width,yerr=sigmas,label=config_string,color=color)\n",
    "                bar+=1\n",
    "    \n",
    "    if USE_PLOTLY:\n",
    "        fig.update_yaxes(tick0=0, dtick=25)\n",
    "        # fig.update_xaxes(tickangle = 0)\n",
    "        fig.update_layout(yaxis_range=ylim,title=parameter, width=1000, height=600)\n",
    "        fig.show()\n",
    "    else:\n",
    "        ax.set_ylim(ylim)\n",
    "        if not all_numbers:\n",
    "            print(x_values)\n",
    "            print(ind)\n",
    "    #         ax.axhline(0,\"black\")\n",
    "            ax.yaxis.set_major_locator(MultipleLocator(25))    \n",
    "            ax.grid(axis=\"y\")\n",
    "            \n",
    "            plt.xticks(ind, x_values)\n",
    "        else:\n",
    "            ax.yaxis.set_major_locator(MultipleLocator(25))\n",
    "            ax.grid()\n",
    "        ax.axhline(0,color='black')\n",
    "        ax.legend()"
   ]
  },
  {
   "cell_type": "code",
   "execution_count": 28,
   "id": "experimental-container",
   "metadata": {
    "tags": []
   },
   "outputs": [
    {
     "output_type": "display_data",
     "data": {
      "application/vnd.plotly.v1+json": {
       "config": {
        "plotlyServerURL": "https://plot.ly"
       },
       "data": [
        {
         "error_y": {
          "array": [
           0.020622898951201354,
           18.9676321883436,
           0.573986094337633,
           1.609649469501185,
           1.3785408296410002,
           1.4982067153342211
          ]
         },
         "marker": {
          "color": "#EA4335"
         },
         "name": "CCE, SD=4",
         "type": "bar",
         "x": [
          "supervised",
          "supervised_2_percent",
          "semi",
          "semi_sup_first",
          "semi_mixed",
          "unsupervised"
         ],
         "y": [
          99.9560411851623,
          3.138120085527375,
          91.01051363359095,
          -14.547694040676701,
          0.2932866444180909,
          -15.300565536731503
         ]
        },
        {
         "error_y": {
          "array": [
           4.333811603863678,
           14.409543343013683,
           0.3421391826499525,
           1.2072455352611033,
           0.6676133116692757,
           1.1002856555326814
          ]
         },
         "marker": {
          "color": "#FBBC04"
         },
         "name": "JSD, SD=4",
         "type": "bar",
         "x": [
          "supervised",
          "supervised_2_percent",
          "semi",
          "semi_sup_first",
          "semi_mixed",
          "unsupervised"
         ],
         "y": [
          97.19888900664368,
          26.057070193319323,
          94.30239790929252,
          16.639024435488917,
          31.72506623790442,
          16.4325262097128
         ]
        },
        {
         "error_y": {
          "array": [
           0.25002048743595146,
           4.364960301837016,
           2.0671593141951172,
           0.8059518281105712,
           1.193050831514401,
           0.7166701980830661
          ]
         },
         "marker": {
          "color": "#34A853"
         },
         "name": "CCE, SD=100",
         "type": "bar",
         "x": [
          "supervised",
          "supervised_2_percent",
          "semi",
          "semi_sup_first",
          "semi_mixed",
          "unsupervised"
         ],
         "y": [
          98.5529095210283,
          -43.05294081266561,
          68.22133148829586,
          13.849595607744995,
          20.6367426714426,
          14.437621424181511
         ]
        },
        {
         "error_y": {
          "array": [
           0.3216129812117373,
           2.639577456561308,
           1.465285302678527,
           0.8578091542520135,
           0.9648810726822251,
           0.5360622920199338
          ]
         },
         "marker": {
          "color": "#46BDC6"
         },
         "name": "JSD, SD=100",
         "type": "bar",
         "x": [
          "supervised",
          "supervised_2_percent",
          "semi",
          "semi_sup_first",
          "semi_mixed",
          "unsupervised"
         ],
         "y": [
          97.61471953411032,
          -43.585451932620174,
          84.02747539608927,
          72.1476498067002,
          75.36432473601306,
          68.70366163397573
         ]
        }
       ],
       "layout": {
        "height": 600,
        "template": {
         "data": {
          "bar": [
           {
            "error_x": {
             "color": "#2a3f5f"
            },
            "error_y": {
             "color": "#2a3f5f"
            },
            "marker": {
             "line": {
              "color": "#E5ECF6",
              "width": 0.5
             }
            },
            "type": "bar"
           }
          ],
          "barpolar": [
           {
            "marker": {
             "line": {
              "color": "#E5ECF6",
              "width": 0.5
             }
            },
            "type": "barpolar"
           }
          ],
          "carpet": [
           {
            "aaxis": {
             "endlinecolor": "#2a3f5f",
             "gridcolor": "white",
             "linecolor": "white",
             "minorgridcolor": "white",
             "startlinecolor": "#2a3f5f"
            },
            "baxis": {
             "endlinecolor": "#2a3f5f",
             "gridcolor": "white",
             "linecolor": "white",
             "minorgridcolor": "white",
             "startlinecolor": "#2a3f5f"
            },
            "type": "carpet"
           }
          ],
          "choropleth": [
           {
            "colorbar": {
             "outlinewidth": 0,
             "ticks": ""
            },
            "type": "choropleth"
           }
          ],
          "contour": [
           {
            "colorbar": {
             "outlinewidth": 0,
             "ticks": ""
            },
            "colorscale": [
             [
              0,
              "#0d0887"
             ],
             [
              0.1111111111111111,
              "#46039f"
             ],
             [
              0.2222222222222222,
              "#7201a8"
             ],
             [
              0.3333333333333333,
              "#9c179e"
             ],
             [
              0.4444444444444444,
              "#bd3786"
             ],
             [
              0.5555555555555556,
              "#d8576b"
             ],
             [
              0.6666666666666666,
              "#ed7953"
             ],
             [
              0.7777777777777778,
              "#fb9f3a"
             ],
             [
              0.8888888888888888,
              "#fdca26"
             ],
             [
              1,
              "#f0f921"
             ]
            ],
            "type": "contour"
           }
          ],
          "contourcarpet": [
           {
            "colorbar": {
             "outlinewidth": 0,
             "ticks": ""
            },
            "type": "contourcarpet"
           }
          ],
          "heatmap": [
           {
            "colorbar": {
             "outlinewidth": 0,
             "ticks": ""
            },
            "colorscale": [
             [
              0,
              "#0d0887"
             ],
             [
              0.1111111111111111,
              "#46039f"
             ],
             [
              0.2222222222222222,
              "#7201a8"
             ],
             [
              0.3333333333333333,
              "#9c179e"
             ],
             [
              0.4444444444444444,
              "#bd3786"
             ],
             [
              0.5555555555555556,
              "#d8576b"
             ],
             [
              0.6666666666666666,
              "#ed7953"
             ],
             [
              0.7777777777777778,
              "#fb9f3a"
             ],
             [
              0.8888888888888888,
              "#fdca26"
             ],
             [
              1,
              "#f0f921"
             ]
            ],
            "type": "heatmap"
           }
          ],
          "heatmapgl": [
           {
            "colorbar": {
             "outlinewidth": 0,
             "ticks": ""
            },
            "colorscale": [
             [
              0,
              "#0d0887"
             ],
             [
              0.1111111111111111,
              "#46039f"
             ],
             [
              0.2222222222222222,
              "#7201a8"
             ],
             [
              0.3333333333333333,
              "#9c179e"
             ],
             [
              0.4444444444444444,
              "#bd3786"
             ],
             [
              0.5555555555555556,
              "#d8576b"
             ],
             [
              0.6666666666666666,
              "#ed7953"
             ],
             [
              0.7777777777777778,
              "#fb9f3a"
             ],
             [
              0.8888888888888888,
              "#fdca26"
             ],
             [
              1,
              "#f0f921"
             ]
            ],
            "type": "heatmapgl"
           }
          ],
          "histogram": [
           {
            "marker": {
             "colorbar": {
              "outlinewidth": 0,
              "ticks": ""
             }
            },
            "type": "histogram"
           }
          ],
          "histogram2d": [
           {
            "colorbar": {
             "outlinewidth": 0,
             "ticks": ""
            },
            "colorscale": [
             [
              0,
              "#0d0887"
             ],
             [
              0.1111111111111111,
              "#46039f"
             ],
             [
              0.2222222222222222,
              "#7201a8"
             ],
             [
              0.3333333333333333,
              "#9c179e"
             ],
             [
              0.4444444444444444,
              "#bd3786"
             ],
             [
              0.5555555555555556,
              "#d8576b"
             ],
             [
              0.6666666666666666,
              "#ed7953"
             ],
             [
              0.7777777777777778,
              "#fb9f3a"
             ],
             [
              0.8888888888888888,
              "#fdca26"
             ],
             [
              1,
              "#f0f921"
             ]
            ],
            "type": "histogram2d"
           }
          ],
          "histogram2dcontour": [
           {
            "colorbar": {
             "outlinewidth": 0,
             "ticks": ""
            },
            "colorscale": [
             [
              0,
              "#0d0887"
             ],
             [
              0.1111111111111111,
              "#46039f"
             ],
             [
              0.2222222222222222,
              "#7201a8"
             ],
             [
              0.3333333333333333,
              "#9c179e"
             ],
             [
              0.4444444444444444,
              "#bd3786"
             ],
             [
              0.5555555555555556,
              "#d8576b"
             ],
             [
              0.6666666666666666,
              "#ed7953"
             ],
             [
              0.7777777777777778,
              "#fb9f3a"
             ],
             [
              0.8888888888888888,
              "#fdca26"
             ],
             [
              1,
              "#f0f921"
             ]
            ],
            "type": "histogram2dcontour"
           }
          ],
          "mesh3d": [
           {
            "colorbar": {
             "outlinewidth": 0,
             "ticks": ""
            },
            "type": "mesh3d"
           }
          ],
          "parcoords": [
           {
            "line": {
             "colorbar": {
              "outlinewidth": 0,
              "ticks": ""
             }
            },
            "type": "parcoords"
           }
          ],
          "pie": [
           {
            "automargin": true,
            "type": "pie"
           }
          ],
          "scatter": [
           {
            "marker": {
             "colorbar": {
              "outlinewidth": 0,
              "ticks": ""
             }
            },
            "type": "scatter"
           }
          ],
          "scatter3d": [
           {
            "line": {
             "colorbar": {
              "outlinewidth": 0,
              "ticks": ""
             }
            },
            "marker": {
             "colorbar": {
              "outlinewidth": 0,
              "ticks": ""
             }
            },
            "type": "scatter3d"
           }
          ],
          "scattercarpet": [
           {
            "marker": {
             "colorbar": {
              "outlinewidth": 0,
              "ticks": ""
             }
            },
            "type": "scattercarpet"
           }
          ],
          "scattergeo": [
           {
            "marker": {
             "colorbar": {
              "outlinewidth": 0,
              "ticks": ""
             }
            },
            "type": "scattergeo"
           }
          ],
          "scattergl": [
           {
            "marker": {
             "colorbar": {
              "outlinewidth": 0,
              "ticks": ""
             }
            },
            "type": "scattergl"
           }
          ],
          "scattermapbox": [
           {
            "marker": {
             "colorbar": {
              "outlinewidth": 0,
              "ticks": ""
             }
            },
            "type": "scattermapbox"
           }
          ],
          "scatterpolar": [
           {
            "marker": {
             "colorbar": {
              "outlinewidth": 0,
              "ticks": ""
             }
            },
            "type": "scatterpolar"
           }
          ],
          "scatterpolargl": [
           {
            "marker": {
             "colorbar": {
              "outlinewidth": 0,
              "ticks": ""
             }
            },
            "type": "scatterpolargl"
           }
          ],
          "scatterternary": [
           {
            "marker": {
             "colorbar": {
              "outlinewidth": 0,
              "ticks": ""
             }
            },
            "type": "scatterternary"
           }
          ],
          "surface": [
           {
            "colorbar": {
             "outlinewidth": 0,
             "ticks": ""
            },
            "colorscale": [
             [
              0,
              "#0d0887"
             ],
             [
              0.1111111111111111,
              "#46039f"
             ],
             [
              0.2222222222222222,
              "#7201a8"
             ],
             [
              0.3333333333333333,
              "#9c179e"
             ],
             [
              0.4444444444444444,
              "#bd3786"
             ],
             [
              0.5555555555555556,
              "#d8576b"
             ],
             [
              0.6666666666666666,
              "#ed7953"
             ],
             [
              0.7777777777777778,
              "#fb9f3a"
             ],
             [
              0.8888888888888888,
              "#fdca26"
             ],
             [
              1,
              "#f0f921"
             ]
            ],
            "type": "surface"
           }
          ],
          "table": [
           {
            "cells": {
             "fill": {
              "color": "#EBF0F8"
             },
             "line": {
              "color": "white"
             }
            },
            "header": {
             "fill": {
              "color": "#C8D4E3"
             },
             "line": {
              "color": "white"
             }
            },
            "type": "table"
           }
          ]
         },
         "layout": {
          "annotationdefaults": {
           "arrowcolor": "#2a3f5f",
           "arrowhead": 0,
           "arrowwidth": 1
          },
          "autotypenumbers": "strict",
          "coloraxis": {
           "colorbar": {
            "outlinewidth": 0,
            "ticks": ""
           }
          },
          "colorscale": {
           "diverging": [
            [
             0,
             "#8e0152"
            ],
            [
             0.1,
             "#c51b7d"
            ],
            [
             0.2,
             "#de77ae"
            ],
            [
             0.3,
             "#f1b6da"
            ],
            [
             0.4,
             "#fde0ef"
            ],
            [
             0.5,
             "#f7f7f7"
            ],
            [
             0.6,
             "#e6f5d0"
            ],
            [
             0.7,
             "#b8e186"
            ],
            [
             0.8,
             "#7fbc41"
            ],
            [
             0.9,
             "#4d9221"
            ],
            [
             1,
             "#276419"
            ]
           ],
           "sequential": [
            [
             0,
             "#0d0887"
            ],
            [
             0.1111111111111111,
             "#46039f"
            ],
            [
             0.2222222222222222,
             "#7201a8"
            ],
            [
             0.3333333333333333,
             "#9c179e"
            ],
            [
             0.4444444444444444,
             "#bd3786"
            ],
            [
             0.5555555555555556,
             "#d8576b"
            ],
            [
             0.6666666666666666,
             "#ed7953"
            ],
            [
             0.7777777777777778,
             "#fb9f3a"
            ],
            [
             0.8888888888888888,
             "#fdca26"
            ],
            [
             1,
             "#f0f921"
            ]
           ],
           "sequentialminus": [
            [
             0,
             "#0d0887"
            ],
            [
             0.1111111111111111,
             "#46039f"
            ],
            [
             0.2222222222222222,
             "#7201a8"
            ],
            [
             0.3333333333333333,
             "#9c179e"
            ],
            [
             0.4444444444444444,
             "#bd3786"
            ],
            [
             0.5555555555555556,
             "#d8576b"
            ],
            [
             0.6666666666666666,
             "#ed7953"
            ],
            [
             0.7777777777777778,
             "#fb9f3a"
            ],
            [
             0.8888888888888888,
             "#fdca26"
            ],
            [
             1,
             "#f0f921"
            ]
           ]
          },
          "colorway": [
           "#636efa",
           "#EF553B",
           "#00cc96",
           "#ab63fa",
           "#FFA15A",
           "#19d3f3",
           "#FF6692",
           "#B6E880",
           "#FF97FF",
           "#FECB52"
          ],
          "font": {
           "color": "#2a3f5f"
          },
          "geo": {
           "bgcolor": "white",
           "lakecolor": "white",
           "landcolor": "#E5ECF6",
           "showlakes": true,
           "showland": true,
           "subunitcolor": "white"
          },
          "hoverlabel": {
           "align": "left"
          },
          "hovermode": "closest",
          "mapbox": {
           "style": "light"
          },
          "paper_bgcolor": "white",
          "plot_bgcolor": "#E5ECF6",
          "polar": {
           "angularaxis": {
            "gridcolor": "white",
            "linecolor": "white",
            "ticks": ""
           },
           "bgcolor": "#E5ECF6",
           "radialaxis": {
            "gridcolor": "white",
            "linecolor": "white",
            "ticks": ""
           }
          },
          "scene": {
           "xaxis": {
            "backgroundcolor": "#E5ECF6",
            "gridcolor": "white",
            "gridwidth": 2,
            "linecolor": "white",
            "showbackground": true,
            "ticks": "",
            "zerolinecolor": "white"
           },
           "yaxis": {
            "backgroundcolor": "#E5ECF6",
            "gridcolor": "white",
            "gridwidth": 2,
            "linecolor": "white",
            "showbackground": true,
            "ticks": "",
            "zerolinecolor": "white"
           },
           "zaxis": {
            "backgroundcolor": "#E5ECF6",
            "gridcolor": "white",
            "gridwidth": 2,
            "linecolor": "white",
            "showbackground": true,
            "ticks": "",
            "zerolinecolor": "white"
           }
          },
          "shapedefaults": {
           "line": {
            "color": "#2a3f5f"
           }
          },
          "ternary": {
           "aaxis": {
            "gridcolor": "white",
            "linecolor": "white",
            "ticks": ""
           },
           "baxis": {
            "gridcolor": "white",
            "linecolor": "white",
            "ticks": ""
           },
           "bgcolor": "#E5ECF6",
           "caxis": {
            "gridcolor": "white",
            "linecolor": "white",
            "ticks": ""
           }
          },
          "title": {
           "x": 0.05
          },
          "xaxis": {
           "automargin": true,
           "gridcolor": "white",
           "linecolor": "white",
           "ticks": "",
           "title": {
            "standoff": 15
           },
           "zerolinecolor": "white",
           "zerolinewidth": 2
          },
          "yaxis": {
           "automargin": true,
           "gridcolor": "white",
           "linecolor": "white",
           "ticks": "",
           "title": {
            "standoff": 15
           },
           "zerolinecolor": "white",
           "zerolinewidth": 2
          }
         }
        },
        "title": {
         "text": "training_method"
        },
        "width": 1000,
        "yaxis": {
         "dtick": 25,
         "range": [
          -175,
          100
         ],
         "tick0": 0
        }
       }
      }
     },
     "metadata": {}
    },
    {
     "output_type": "display_data",
     "data": {
      "text/plain": "<Figure size 432x288 with 0 Axes>"
     },
     "metadata": {}
    }
   ],
   "source": [
    "plot_vals(0)\n",
    "plt.savefig(\"pictures/results_fig_0.svg\")"
   ]
  },
  {
   "cell_type": "code",
   "execution_count": 29,
   "id": "sealed-recall",
   "metadata": {},
   "outputs": [
    {
     "output_type": "display_data",
     "data": {
      "application/vnd.plotly.v1+json": {
       "config": {
        "plotlyServerURL": "https://plot.ly"
       },
       "data": [
        {
         "error_y": {
          "array": [
           0.573986094337633,
           376.035548261085,
           0.44514202619865895,
           0.6863771033983443,
           0.5172093280639062
          ]
         },
         "marker": {
          "color": "#EA4335"
         },
         "name": "CCE, SD=4",
         "type": "bar",
         "x": [
          "['sin', 'cos', 'linear', 'relu', 'swish']",
          "['relu']",
          "['relu', 'relu', 'relu', 'relu', 'relu']",
          "['sin', 'cos', 'linear']",
          "['sin', 'cos', 'linear', 'relu', 'sigmoid']"
         ],
         "y": [
          91.01051363359095,
          -267.08412665858253,
          93.14900506415118,
          85.05848008293351,
          89.04005822420308
         ]
        },
        {
         "error_y": {
          "array": [
           0.3421391826499525,
           92.622223711664,
           0.2921752659454831,
           0.8105687449002281,
           0.579125937277186
          ]
         },
         "marker": {
          "color": "#FBBC04"
         },
         "name": "JSD, SD=4",
         "type": "bar",
         "x": [
          "['sin', 'cos', 'linear', 'relu', 'swish']",
          "['relu']",
          "['relu', 'relu', 'relu', 'relu', 'relu']",
          "['sin', 'cos', 'linear']",
          "['sin', 'cos', 'linear', 'relu', 'sigmoid']"
         ],
         "y": [
          94.30239790929252,
          -27.172355206047083,
          95.45696066661527,
          90.03161773806411,
          92.85429846688115
         ]
        },
        {
         "error_y": {
          "array": [
           1.4982067153342211,
           88.13702062545516,
           2.4331401452093457,
           0.9330052074021303,
           1.650030747422327
          ]
         },
         "marker": {
          "color": "#4285F4"
         },
         "name": "CCEu, SD=4",
         "type": "bar",
         "x": [
          "['sin', 'cos', 'linear', 'relu', 'swish']",
          "['relu']",
          "['relu', 'relu', 'relu', 'relu', 'relu']",
          "['sin', 'cos', 'linear']",
          "['sin', 'cos', 'linear', 'relu', 'sigmoid']"
         ],
         "y": [
          -15.300565536731503,
          -80.45831027083598,
          -16.318359809033698,
          -14.924139368838084,
          -15.63349604558186
         ]
        },
        {
         "error_y": {
          "array": [
           1.1002856555326814,
           74.20925945632656,
           2.5486701537050513,
           1.4387502671386216,
           1.3083858657643526
          ]
         },
         "marker": {
          "color": "#000000"
         },
         "name": "JSDu, SD=4",
         "type": "bar",
         "x": [
          "['sin', 'cos', 'linear', 'relu', 'swish']",
          "['relu']",
          "['relu', 'relu', 'relu', 'relu', 'relu']",
          "['sin', 'cos', 'linear']",
          "['sin', 'cos', 'linear', 'relu', 'sigmoid']"
         ],
         "y": [
          16.4325262097128,
          10.772952782635793,
          18.662916636307127,
          19.339609956948355,
          16.398764839467667
         ]
        },
        {
         "error_y": {
          "array": [
           2.0671593141951172,
           1.8415365182545298,
           1.7280010637015764,
           3.1200703212784298,
           1.8738580306956967
          ]
         },
         "marker": {
          "color": "#34A853"
         },
         "name": "CCE, SD=100",
         "type": "bar",
         "x": [
          "['sin', 'cos', 'linear', 'relu', 'swish']",
          "['relu']",
          "['relu', 'relu', 'relu', 'relu', 'relu']",
          "['sin', 'cos', 'linear']",
          "['sin', 'cos', 'linear', 'relu', 'sigmoid']"
         ],
         "y": [
          68.22133148829586,
          -54.467632099909096,
          78.75286309980861,
          47.805106423797966,
          66.44229361215399
         ]
        },
        {
         "error_y": {
          "array": [
           1.465285302678527,
           1.7194298431302453,
           0.9672249094964668,
           1.6729888924068699,
           1.900652988472532
          ]
         },
         "marker": {
          "color": "#46BDC6"
         },
         "name": "JSD, SD=100",
         "type": "bar",
         "x": [
          "['sin', 'cos', 'linear', 'relu', 'swish']",
          "['relu']",
          "['relu', 'relu', 'relu', 'relu', 'relu']",
          "['sin', 'cos', 'linear']",
          "['sin', 'cos', 'linear', 'relu', 'sigmoid']"
         ],
         "y": [
          84.02747539608927,
          -48.82081618003285,
          86.95937394016403,
          -21.58486571026308,
          82.33359845623436
         ]
        }
       ],
       "layout": {
        "height": 600,
        "template": {
         "data": {
          "bar": [
           {
            "error_x": {
             "color": "#2a3f5f"
            },
            "error_y": {
             "color": "#2a3f5f"
            },
            "marker": {
             "line": {
              "color": "#E5ECF6",
              "width": 0.5
             }
            },
            "type": "bar"
           }
          ],
          "barpolar": [
           {
            "marker": {
             "line": {
              "color": "#E5ECF6",
              "width": 0.5
             }
            },
            "type": "barpolar"
           }
          ],
          "carpet": [
           {
            "aaxis": {
             "endlinecolor": "#2a3f5f",
             "gridcolor": "white",
             "linecolor": "white",
             "minorgridcolor": "white",
             "startlinecolor": "#2a3f5f"
            },
            "baxis": {
             "endlinecolor": "#2a3f5f",
             "gridcolor": "white",
             "linecolor": "white",
             "minorgridcolor": "white",
             "startlinecolor": "#2a3f5f"
            },
            "type": "carpet"
           }
          ],
          "choropleth": [
           {
            "colorbar": {
             "outlinewidth": 0,
             "ticks": ""
            },
            "type": "choropleth"
           }
          ],
          "contour": [
           {
            "colorbar": {
             "outlinewidth": 0,
             "ticks": ""
            },
            "colorscale": [
             [
              0,
              "#0d0887"
             ],
             [
              0.1111111111111111,
              "#46039f"
             ],
             [
              0.2222222222222222,
              "#7201a8"
             ],
             [
              0.3333333333333333,
              "#9c179e"
             ],
             [
              0.4444444444444444,
              "#bd3786"
             ],
             [
              0.5555555555555556,
              "#d8576b"
             ],
             [
              0.6666666666666666,
              "#ed7953"
             ],
             [
              0.7777777777777778,
              "#fb9f3a"
             ],
             [
              0.8888888888888888,
              "#fdca26"
             ],
             [
              1,
              "#f0f921"
             ]
            ],
            "type": "contour"
           }
          ],
          "contourcarpet": [
           {
            "colorbar": {
             "outlinewidth": 0,
             "ticks": ""
            },
            "type": "contourcarpet"
           }
          ],
          "heatmap": [
           {
            "colorbar": {
             "outlinewidth": 0,
             "ticks": ""
            },
            "colorscale": [
             [
              0,
              "#0d0887"
             ],
             [
              0.1111111111111111,
              "#46039f"
             ],
             [
              0.2222222222222222,
              "#7201a8"
             ],
             [
              0.3333333333333333,
              "#9c179e"
             ],
             [
              0.4444444444444444,
              "#bd3786"
             ],
             [
              0.5555555555555556,
              "#d8576b"
             ],
             [
              0.6666666666666666,
              "#ed7953"
             ],
             [
              0.7777777777777778,
              "#fb9f3a"
             ],
             [
              0.8888888888888888,
              "#fdca26"
             ],
             [
              1,
              "#f0f921"
             ]
            ],
            "type": "heatmap"
           }
          ],
          "heatmapgl": [
           {
            "colorbar": {
             "outlinewidth": 0,
             "ticks": ""
            },
            "colorscale": [
             [
              0,
              "#0d0887"
             ],
             [
              0.1111111111111111,
              "#46039f"
             ],
             [
              0.2222222222222222,
              "#7201a8"
             ],
             [
              0.3333333333333333,
              "#9c179e"
             ],
             [
              0.4444444444444444,
              "#bd3786"
             ],
             [
              0.5555555555555556,
              "#d8576b"
             ],
             [
              0.6666666666666666,
              "#ed7953"
             ],
             [
              0.7777777777777778,
              "#fb9f3a"
             ],
             [
              0.8888888888888888,
              "#fdca26"
             ],
             [
              1,
              "#f0f921"
             ]
            ],
            "type": "heatmapgl"
           }
          ],
          "histogram": [
           {
            "marker": {
             "colorbar": {
              "outlinewidth": 0,
              "ticks": ""
             }
            },
            "type": "histogram"
           }
          ],
          "histogram2d": [
           {
            "colorbar": {
             "outlinewidth": 0,
             "ticks": ""
            },
            "colorscale": [
             [
              0,
              "#0d0887"
             ],
             [
              0.1111111111111111,
              "#46039f"
             ],
             [
              0.2222222222222222,
              "#7201a8"
             ],
             [
              0.3333333333333333,
              "#9c179e"
             ],
             [
              0.4444444444444444,
              "#bd3786"
             ],
             [
              0.5555555555555556,
              "#d8576b"
             ],
             [
              0.6666666666666666,
              "#ed7953"
             ],
             [
              0.7777777777777778,
              "#fb9f3a"
             ],
             [
              0.8888888888888888,
              "#fdca26"
             ],
             [
              1,
              "#f0f921"
             ]
            ],
            "type": "histogram2d"
           }
          ],
          "histogram2dcontour": [
           {
            "colorbar": {
             "outlinewidth": 0,
             "ticks": ""
            },
            "colorscale": [
             [
              0,
              "#0d0887"
             ],
             [
              0.1111111111111111,
              "#46039f"
             ],
             [
              0.2222222222222222,
              "#7201a8"
             ],
             [
              0.3333333333333333,
              "#9c179e"
             ],
             [
              0.4444444444444444,
              "#bd3786"
             ],
             [
              0.5555555555555556,
              "#d8576b"
             ],
             [
              0.6666666666666666,
              "#ed7953"
             ],
             [
              0.7777777777777778,
              "#fb9f3a"
             ],
             [
              0.8888888888888888,
              "#fdca26"
             ],
             [
              1,
              "#f0f921"
             ]
            ],
            "type": "histogram2dcontour"
           }
          ],
          "mesh3d": [
           {
            "colorbar": {
             "outlinewidth": 0,
             "ticks": ""
            },
            "type": "mesh3d"
           }
          ],
          "parcoords": [
           {
            "line": {
             "colorbar": {
              "outlinewidth": 0,
              "ticks": ""
             }
            },
            "type": "parcoords"
           }
          ],
          "pie": [
           {
            "automargin": true,
            "type": "pie"
           }
          ],
          "scatter": [
           {
            "marker": {
             "colorbar": {
              "outlinewidth": 0,
              "ticks": ""
             }
            },
            "type": "scatter"
           }
          ],
          "scatter3d": [
           {
            "line": {
             "colorbar": {
              "outlinewidth": 0,
              "ticks": ""
             }
            },
            "marker": {
             "colorbar": {
              "outlinewidth": 0,
              "ticks": ""
             }
            },
            "type": "scatter3d"
           }
          ],
          "scattercarpet": [
           {
            "marker": {
             "colorbar": {
              "outlinewidth": 0,
              "ticks": ""
             }
            },
            "type": "scattercarpet"
           }
          ],
          "scattergeo": [
           {
            "marker": {
             "colorbar": {
              "outlinewidth": 0,
              "ticks": ""
             }
            },
            "type": "scattergeo"
           }
          ],
          "scattergl": [
           {
            "marker": {
             "colorbar": {
              "outlinewidth": 0,
              "ticks": ""
             }
            },
            "type": "scattergl"
           }
          ],
          "scattermapbox": [
           {
            "marker": {
             "colorbar": {
              "outlinewidth": 0,
              "ticks": ""
             }
            },
            "type": "scattermapbox"
           }
          ],
          "scatterpolar": [
           {
            "marker": {
             "colorbar": {
              "outlinewidth": 0,
              "ticks": ""
             }
            },
            "type": "scatterpolar"
           }
          ],
          "scatterpolargl": [
           {
            "marker": {
             "colorbar": {
              "outlinewidth": 0,
              "ticks": ""
             }
            },
            "type": "scatterpolargl"
           }
          ],
          "scatterternary": [
           {
            "marker": {
             "colorbar": {
              "outlinewidth": 0,
              "ticks": ""
             }
            },
            "type": "scatterternary"
           }
          ],
          "surface": [
           {
            "colorbar": {
             "outlinewidth": 0,
             "ticks": ""
            },
            "colorscale": [
             [
              0,
              "#0d0887"
             ],
             [
              0.1111111111111111,
              "#46039f"
             ],
             [
              0.2222222222222222,
              "#7201a8"
             ],
             [
              0.3333333333333333,
              "#9c179e"
             ],
             [
              0.4444444444444444,
              "#bd3786"
             ],
             [
              0.5555555555555556,
              "#d8576b"
             ],
             [
              0.6666666666666666,
              "#ed7953"
             ],
             [
              0.7777777777777778,
              "#fb9f3a"
             ],
             [
              0.8888888888888888,
              "#fdca26"
             ],
             [
              1,
              "#f0f921"
             ]
            ],
            "type": "surface"
           }
          ],
          "table": [
           {
            "cells": {
             "fill": {
              "color": "#EBF0F8"
             },
             "line": {
              "color": "white"
             }
            },
            "header": {
             "fill": {
              "color": "#C8D4E3"
             },
             "line": {
              "color": "white"
             }
            },
            "type": "table"
           }
          ]
         },
         "layout": {
          "annotationdefaults": {
           "arrowcolor": "#2a3f5f",
           "arrowhead": 0,
           "arrowwidth": 1
          },
          "autotypenumbers": "strict",
          "coloraxis": {
           "colorbar": {
            "outlinewidth": 0,
            "ticks": ""
           }
          },
          "colorscale": {
           "diverging": [
            [
             0,
             "#8e0152"
            ],
            [
             0.1,
             "#c51b7d"
            ],
            [
             0.2,
             "#de77ae"
            ],
            [
             0.3,
             "#f1b6da"
            ],
            [
             0.4,
             "#fde0ef"
            ],
            [
             0.5,
             "#f7f7f7"
            ],
            [
             0.6,
             "#e6f5d0"
            ],
            [
             0.7,
             "#b8e186"
            ],
            [
             0.8,
             "#7fbc41"
            ],
            [
             0.9,
             "#4d9221"
            ],
            [
             1,
             "#276419"
            ]
           ],
           "sequential": [
            [
             0,
             "#0d0887"
            ],
            [
             0.1111111111111111,
             "#46039f"
            ],
            [
             0.2222222222222222,
             "#7201a8"
            ],
            [
             0.3333333333333333,
             "#9c179e"
            ],
            [
             0.4444444444444444,
             "#bd3786"
            ],
            [
             0.5555555555555556,
             "#d8576b"
            ],
            [
             0.6666666666666666,
             "#ed7953"
            ],
            [
             0.7777777777777778,
             "#fb9f3a"
            ],
            [
             0.8888888888888888,
             "#fdca26"
            ],
            [
             1,
             "#f0f921"
            ]
           ],
           "sequentialminus": [
            [
             0,
             "#0d0887"
            ],
            [
             0.1111111111111111,
             "#46039f"
            ],
            [
             0.2222222222222222,
             "#7201a8"
            ],
            [
             0.3333333333333333,
             "#9c179e"
            ],
            [
             0.4444444444444444,
             "#bd3786"
            ],
            [
             0.5555555555555556,
             "#d8576b"
            ],
            [
             0.6666666666666666,
             "#ed7953"
            ],
            [
             0.7777777777777778,
             "#fb9f3a"
            ],
            [
             0.8888888888888888,
             "#fdca26"
            ],
            [
             1,
             "#f0f921"
            ]
           ]
          },
          "colorway": [
           "#636efa",
           "#EF553B",
           "#00cc96",
           "#ab63fa",
           "#FFA15A",
           "#19d3f3",
           "#FF6692",
           "#B6E880",
           "#FF97FF",
           "#FECB52"
          ],
          "font": {
           "color": "#2a3f5f"
          },
          "geo": {
           "bgcolor": "white",
           "lakecolor": "white",
           "landcolor": "#E5ECF6",
           "showlakes": true,
           "showland": true,
           "subunitcolor": "white"
          },
          "hoverlabel": {
           "align": "left"
          },
          "hovermode": "closest",
          "mapbox": {
           "style": "light"
          },
          "paper_bgcolor": "white",
          "plot_bgcolor": "#E5ECF6",
          "polar": {
           "angularaxis": {
            "gridcolor": "white",
            "linecolor": "white",
            "ticks": ""
           },
           "bgcolor": "#E5ECF6",
           "radialaxis": {
            "gridcolor": "white",
            "linecolor": "white",
            "ticks": ""
           }
          },
          "scene": {
           "xaxis": {
            "backgroundcolor": "#E5ECF6",
            "gridcolor": "white",
            "gridwidth": 2,
            "linecolor": "white",
            "showbackground": true,
            "ticks": "",
            "zerolinecolor": "white"
           },
           "yaxis": {
            "backgroundcolor": "#E5ECF6",
            "gridcolor": "white",
            "gridwidth": 2,
            "linecolor": "white",
            "showbackground": true,
            "ticks": "",
            "zerolinecolor": "white"
           },
           "zaxis": {
            "backgroundcolor": "#E5ECF6",
            "gridcolor": "white",
            "gridwidth": 2,
            "linecolor": "white",
            "showbackground": true,
            "ticks": "",
            "zerolinecolor": "white"
           }
          },
          "shapedefaults": {
           "line": {
            "color": "#2a3f5f"
           }
          },
          "ternary": {
           "aaxis": {
            "gridcolor": "white",
            "linecolor": "white",
            "ticks": ""
           },
           "baxis": {
            "gridcolor": "white",
            "linecolor": "white",
            "ticks": ""
           },
           "bgcolor": "#E5ECF6",
           "caxis": {
            "gridcolor": "white",
            "linecolor": "white",
            "ticks": ""
           }
          },
          "title": {
           "x": 0.05
          },
          "xaxis": {
           "automargin": true,
           "gridcolor": "white",
           "linecolor": "white",
           "ticks": "",
           "title": {
            "standoff": 15
           },
           "zerolinecolor": "white",
           "zerolinewidth": 2
          },
          "yaxis": {
           "automargin": true,
           "gridcolor": "white",
           "linecolor": "white",
           "ticks": "",
           "title": {
            "standoff": 15
           },
           "zerolinecolor": "white",
           "zerolinewidth": 2
          }
         }
        },
        "title": {
         "text": "activation_types"
        },
        "width": 1000,
        "yaxis": {
         "dtick": 25,
         "range": [
          -175,
          100
         ],
         "tick0": 0
        }
       }
      }
     },
     "metadata": {}
    },
    {
     "output_type": "display_data",
     "data": {
      "text/plain": "<Figure size 432x288 with 0 Axes>"
     },
     "metadata": {}
    }
   ],
   "source": [
    "plot_vals(1)\n",
    "plt.savefig(\"pictures/results_fig_1.svg\")"
   ]
  },
  {
   "cell_type": "code",
   "execution_count": 30,
   "id": "broken-court",
   "metadata": {},
   "outputs": [
    {
     "output_type": "display_data",
     "data": {
      "application/vnd.plotly.v1+json": {
       "config": {
        "plotlyServerURL": "https://plot.ly"
       },
       "data": [
        {
         "error_y": {
          "array": [
           0.42627615859475826,
           0.573986094337633,
           0.679654456845417,
           1.4893218362342637,
           0.9759862530239997,
           0.9791808529431207,
           16.02209907953952
          ]
         },
         "marker": {
          "color": "#EA4335"
         },
         "name": "CCE, SD=4",
         "type": "bar",
         "x": [
          "dense",
          "gaussian_noise",
          "gaussian_dropout",
          "sqrt_softmax",
          "gaussian_kernel",
          "CNN",
          "VAE"
         ],
         "y": [
          92.84871275773925,
          91.01051363359095,
          92.42657941331625,
          89.34709492318257,
          92.35723836424515,
          95.74523626170799,
          -509.8114900214637
         ]
        },
        {
         "error_y": {
          "array": [
           0.23965049725741977,
           0.3421391826499525,
           0.4817551547524441,
           1.494349491906258,
           2.9278710769597605,
           0.5432335490355463,
           23.435898394571076
          ]
         },
         "marker": {
          "color": "#FBBC04"
         },
         "name": "JSD, SD=4",
         "type": "bar",
         "x": [
          "dense",
          "gaussian_noise",
          "gaussian_dropout",
          "sqrt_softmax",
          "gaussian_kernel",
          "CNN",
          "VAE"
         ],
         "y": [
          94.80023638033909,
          94.30239790929252,
          94.62271798216679,
          93.24054256707133,
          93.87821024256597,
          96.57291778431865,
          -617.3975183831117
         ]
        },
        {
         "error_y": {
          "array": [
           1.5721396149808262,
           1.4982067153342211,
           2.465211665560762,
           1.2180111903269049,
           2.6918135011406132,
           3.427518370650631,
           10.568231244289608
          ]
         },
         "marker": {
          "color": "#4285F4"
         },
         "name": "CCEu, SD=4",
         "type": "bar",
         "x": [
          "dense",
          "gaussian_noise",
          "gaussian_dropout",
          "sqrt_softmax",
          "gaussian_kernel",
          "CNN",
          "VAE"
         ],
         "y": [
          -10.552451820138213,
          -15.300565536731503,
          -11.907516169429742,
          -10.921730265850682,
          -8.864673313968021,
          -5.56886309802906,
          -539.7930934731729
         ]
        },
        {
         "error_y": {
          "array": [
           4.802415462282249,
           1.1002856555326814,
           2.162997568430199,
           3.688005993312382,
           11.316367322936006,
           3.9932191558637298,
           4.1453711517197425
          ]
         },
         "marker": {
          "color": "#000000"
         },
         "name": "JSDu, SD=4",
         "type": "bar",
         "x": [
          "dense",
          "gaussian_noise",
          "gaussian_dropout",
          "sqrt_softmax",
          "gaussian_kernel",
          "CNN",
          "VAE"
         ],
         "y": [
          14.959042876886421,
          16.4325262097128,
          11.89604395338497,
          13.049155661728014,
          15.503172916956414,
          5.332123998162172,
          -660.8932044557463
         ]
        },
        {
         "error_y": {
          "array": [
           1.9312596953238779,
           2.0671593141951172,
           2.3943332384491063,
           6.227102132326695,
           2.371806131207265,
           1.4190518229067774,
           0.6403692984551849
          ]
         },
         "marker": {
          "color": "#34A853"
         },
         "name": "CCE, SD=100",
         "type": "bar",
         "x": [
          "dense",
          "gaussian_noise",
          "gaussian_dropout",
          "sqrt_softmax",
          "gaussian_kernel",
          "CNN",
          "VAE"
         ],
         "y": [
          66.22943096125454,
          68.22133148829586,
          68.18164348928488,
          -24.302427015492995,
          63.7321376352065,
          67.17608596528244,
          -140.89682449828484
         ]
        },
        {
         "error_y": {
          "array": [
           1.4293242134406836,
           1.465285302678527,
           0.8756755645034493,
           7.275744494323111,
           3.748034066798104,
           1.6247730421698747,
           0.25074451089726685
          ]
         },
         "marker": {
          "color": "#46BDC6"
         },
         "name": "JSD, SD=100",
         "type": "bar",
         "x": [
          "dense",
          "gaussian_noise",
          "gaussian_dropout",
          "sqrt_softmax",
          "gaussian_kernel",
          "CNN",
          "VAE"
         ],
         "y": [
          73.94506940676104,
          84.02747539608927,
          74.54586121878924,
          -52.49875679189109,
          71.24644798918695,
          73.08214000661482,
          -145.31364065911777
         ]
        }
       ],
       "layout": {
        "height": 600,
        "template": {
         "data": {
          "bar": [
           {
            "error_x": {
             "color": "#2a3f5f"
            },
            "error_y": {
             "color": "#2a3f5f"
            },
            "marker": {
             "line": {
              "color": "#E5ECF6",
              "width": 0.5
             }
            },
            "type": "bar"
           }
          ],
          "barpolar": [
           {
            "marker": {
             "line": {
              "color": "#E5ECF6",
              "width": 0.5
             }
            },
            "type": "barpolar"
           }
          ],
          "carpet": [
           {
            "aaxis": {
             "endlinecolor": "#2a3f5f",
             "gridcolor": "white",
             "linecolor": "white",
             "minorgridcolor": "white",
             "startlinecolor": "#2a3f5f"
            },
            "baxis": {
             "endlinecolor": "#2a3f5f",
             "gridcolor": "white",
             "linecolor": "white",
             "minorgridcolor": "white",
             "startlinecolor": "#2a3f5f"
            },
            "type": "carpet"
           }
          ],
          "choropleth": [
           {
            "colorbar": {
             "outlinewidth": 0,
             "ticks": ""
            },
            "type": "choropleth"
           }
          ],
          "contour": [
           {
            "colorbar": {
             "outlinewidth": 0,
             "ticks": ""
            },
            "colorscale": [
             [
              0,
              "#0d0887"
             ],
             [
              0.1111111111111111,
              "#46039f"
             ],
             [
              0.2222222222222222,
              "#7201a8"
             ],
             [
              0.3333333333333333,
              "#9c179e"
             ],
             [
              0.4444444444444444,
              "#bd3786"
             ],
             [
              0.5555555555555556,
              "#d8576b"
             ],
             [
              0.6666666666666666,
              "#ed7953"
             ],
             [
              0.7777777777777778,
              "#fb9f3a"
             ],
             [
              0.8888888888888888,
              "#fdca26"
             ],
             [
              1,
              "#f0f921"
             ]
            ],
            "type": "contour"
           }
          ],
          "contourcarpet": [
           {
            "colorbar": {
             "outlinewidth": 0,
             "ticks": ""
            },
            "type": "contourcarpet"
           }
          ],
          "heatmap": [
           {
            "colorbar": {
             "outlinewidth": 0,
             "ticks": ""
            },
            "colorscale": [
             [
              0,
              "#0d0887"
             ],
             [
              0.1111111111111111,
              "#46039f"
             ],
             [
              0.2222222222222222,
              "#7201a8"
             ],
             [
              0.3333333333333333,
              "#9c179e"
             ],
             [
              0.4444444444444444,
              "#bd3786"
             ],
             [
              0.5555555555555556,
              "#d8576b"
             ],
             [
              0.6666666666666666,
              "#ed7953"
             ],
             [
              0.7777777777777778,
              "#fb9f3a"
             ],
             [
              0.8888888888888888,
              "#fdca26"
             ],
             [
              1,
              "#f0f921"
             ]
            ],
            "type": "heatmap"
           }
          ],
          "heatmapgl": [
           {
            "colorbar": {
             "outlinewidth": 0,
             "ticks": ""
            },
            "colorscale": [
             [
              0,
              "#0d0887"
             ],
             [
              0.1111111111111111,
              "#46039f"
             ],
             [
              0.2222222222222222,
              "#7201a8"
             ],
             [
              0.3333333333333333,
              "#9c179e"
             ],
             [
              0.4444444444444444,
              "#bd3786"
             ],
             [
              0.5555555555555556,
              "#d8576b"
             ],
             [
              0.6666666666666666,
              "#ed7953"
             ],
             [
              0.7777777777777778,
              "#fb9f3a"
             ],
             [
              0.8888888888888888,
              "#fdca26"
             ],
             [
              1,
              "#f0f921"
             ]
            ],
            "type": "heatmapgl"
           }
          ],
          "histogram": [
           {
            "marker": {
             "colorbar": {
              "outlinewidth": 0,
              "ticks": ""
             }
            },
            "type": "histogram"
           }
          ],
          "histogram2d": [
           {
            "colorbar": {
             "outlinewidth": 0,
             "ticks": ""
            },
            "colorscale": [
             [
              0,
              "#0d0887"
             ],
             [
              0.1111111111111111,
              "#46039f"
             ],
             [
              0.2222222222222222,
              "#7201a8"
             ],
             [
              0.3333333333333333,
              "#9c179e"
             ],
             [
              0.4444444444444444,
              "#bd3786"
             ],
             [
              0.5555555555555556,
              "#d8576b"
             ],
             [
              0.6666666666666666,
              "#ed7953"
             ],
             [
              0.7777777777777778,
              "#fb9f3a"
             ],
             [
              0.8888888888888888,
              "#fdca26"
             ],
             [
              1,
              "#f0f921"
             ]
            ],
            "type": "histogram2d"
           }
          ],
          "histogram2dcontour": [
           {
            "colorbar": {
             "outlinewidth": 0,
             "ticks": ""
            },
            "colorscale": [
             [
              0,
              "#0d0887"
             ],
             [
              0.1111111111111111,
              "#46039f"
             ],
             [
              0.2222222222222222,
              "#7201a8"
             ],
             [
              0.3333333333333333,
              "#9c179e"
             ],
             [
              0.4444444444444444,
              "#bd3786"
             ],
             [
              0.5555555555555556,
              "#d8576b"
             ],
             [
              0.6666666666666666,
              "#ed7953"
             ],
             [
              0.7777777777777778,
              "#fb9f3a"
             ],
             [
              0.8888888888888888,
              "#fdca26"
             ],
             [
              1,
              "#f0f921"
             ]
            ],
            "type": "histogram2dcontour"
           }
          ],
          "mesh3d": [
           {
            "colorbar": {
             "outlinewidth": 0,
             "ticks": ""
            },
            "type": "mesh3d"
           }
          ],
          "parcoords": [
           {
            "line": {
             "colorbar": {
              "outlinewidth": 0,
              "ticks": ""
             }
            },
            "type": "parcoords"
           }
          ],
          "pie": [
           {
            "automargin": true,
            "type": "pie"
           }
          ],
          "scatter": [
           {
            "marker": {
             "colorbar": {
              "outlinewidth": 0,
              "ticks": ""
             }
            },
            "type": "scatter"
           }
          ],
          "scatter3d": [
           {
            "line": {
             "colorbar": {
              "outlinewidth": 0,
              "ticks": ""
             }
            },
            "marker": {
             "colorbar": {
              "outlinewidth": 0,
              "ticks": ""
             }
            },
            "type": "scatter3d"
           }
          ],
          "scattercarpet": [
           {
            "marker": {
             "colorbar": {
              "outlinewidth": 0,
              "ticks": ""
             }
            },
            "type": "scattercarpet"
           }
          ],
          "scattergeo": [
           {
            "marker": {
             "colorbar": {
              "outlinewidth": 0,
              "ticks": ""
             }
            },
            "type": "scattergeo"
           }
          ],
          "scattergl": [
           {
            "marker": {
             "colorbar": {
              "outlinewidth": 0,
              "ticks": ""
             }
            },
            "type": "scattergl"
           }
          ],
          "scattermapbox": [
           {
            "marker": {
             "colorbar": {
              "outlinewidth": 0,
              "ticks": ""
             }
            },
            "type": "scattermapbox"
           }
          ],
          "scatterpolar": [
           {
            "marker": {
             "colorbar": {
              "outlinewidth": 0,
              "ticks": ""
             }
            },
            "type": "scatterpolar"
           }
          ],
          "scatterpolargl": [
           {
            "marker": {
             "colorbar": {
              "outlinewidth": 0,
              "ticks": ""
             }
            },
            "type": "scatterpolargl"
           }
          ],
          "scatterternary": [
           {
            "marker": {
             "colorbar": {
              "outlinewidth": 0,
              "ticks": ""
             }
            },
            "type": "scatterternary"
           }
          ],
          "surface": [
           {
            "colorbar": {
             "outlinewidth": 0,
             "ticks": ""
            },
            "colorscale": [
             [
              0,
              "#0d0887"
             ],
             [
              0.1111111111111111,
              "#46039f"
             ],
             [
              0.2222222222222222,
              "#7201a8"
             ],
             [
              0.3333333333333333,
              "#9c179e"
             ],
             [
              0.4444444444444444,
              "#bd3786"
             ],
             [
              0.5555555555555556,
              "#d8576b"
             ],
             [
              0.6666666666666666,
              "#ed7953"
             ],
             [
              0.7777777777777778,
              "#fb9f3a"
             ],
             [
              0.8888888888888888,
              "#fdca26"
             ],
             [
              1,
              "#f0f921"
             ]
            ],
            "type": "surface"
           }
          ],
          "table": [
           {
            "cells": {
             "fill": {
              "color": "#EBF0F8"
             },
             "line": {
              "color": "white"
             }
            },
            "header": {
             "fill": {
              "color": "#C8D4E3"
             },
             "line": {
              "color": "white"
             }
            },
            "type": "table"
           }
          ]
         },
         "layout": {
          "annotationdefaults": {
           "arrowcolor": "#2a3f5f",
           "arrowhead": 0,
           "arrowwidth": 1
          },
          "autotypenumbers": "strict",
          "coloraxis": {
           "colorbar": {
            "outlinewidth": 0,
            "ticks": ""
           }
          },
          "colorscale": {
           "diverging": [
            [
             0,
             "#8e0152"
            ],
            [
             0.1,
             "#c51b7d"
            ],
            [
             0.2,
             "#de77ae"
            ],
            [
             0.3,
             "#f1b6da"
            ],
            [
             0.4,
             "#fde0ef"
            ],
            [
             0.5,
             "#f7f7f7"
            ],
            [
             0.6,
             "#e6f5d0"
            ],
            [
             0.7,
             "#b8e186"
            ],
            [
             0.8,
             "#7fbc41"
            ],
            [
             0.9,
             "#4d9221"
            ],
            [
             1,
             "#276419"
            ]
           ],
           "sequential": [
            [
             0,
             "#0d0887"
            ],
            [
             0.1111111111111111,
             "#46039f"
            ],
            [
             0.2222222222222222,
             "#7201a8"
            ],
            [
             0.3333333333333333,
             "#9c179e"
            ],
            [
             0.4444444444444444,
             "#bd3786"
            ],
            [
             0.5555555555555556,
             "#d8576b"
            ],
            [
             0.6666666666666666,
             "#ed7953"
            ],
            [
             0.7777777777777778,
             "#fb9f3a"
            ],
            [
             0.8888888888888888,
             "#fdca26"
            ],
            [
             1,
             "#f0f921"
            ]
           ],
           "sequentialminus": [
            [
             0,
             "#0d0887"
            ],
            [
             0.1111111111111111,
             "#46039f"
            ],
            [
             0.2222222222222222,
             "#7201a8"
            ],
            [
             0.3333333333333333,
             "#9c179e"
            ],
            [
             0.4444444444444444,
             "#bd3786"
            ],
            [
             0.5555555555555556,
             "#d8576b"
            ],
            [
             0.6666666666666666,
             "#ed7953"
            ],
            [
             0.7777777777777778,
             "#fb9f3a"
            ],
            [
             0.8888888888888888,
             "#fdca26"
            ],
            [
             1,
             "#f0f921"
            ]
           ]
          },
          "colorway": [
           "#636efa",
           "#EF553B",
           "#00cc96",
           "#ab63fa",
           "#FFA15A",
           "#19d3f3",
           "#FF6692",
           "#B6E880",
           "#FF97FF",
           "#FECB52"
          ],
          "font": {
           "color": "#2a3f5f"
          },
          "geo": {
           "bgcolor": "white",
           "lakecolor": "white",
           "landcolor": "#E5ECF6",
           "showlakes": true,
           "showland": true,
           "subunitcolor": "white"
          },
          "hoverlabel": {
           "align": "left"
          },
          "hovermode": "closest",
          "mapbox": {
           "style": "light"
          },
          "paper_bgcolor": "white",
          "plot_bgcolor": "#E5ECF6",
          "polar": {
           "angularaxis": {
            "gridcolor": "white",
            "linecolor": "white",
            "ticks": ""
           },
           "bgcolor": "#E5ECF6",
           "radialaxis": {
            "gridcolor": "white",
            "linecolor": "white",
            "ticks": ""
           }
          },
          "scene": {
           "xaxis": {
            "backgroundcolor": "#E5ECF6",
            "gridcolor": "white",
            "gridwidth": 2,
            "linecolor": "white",
            "showbackground": true,
            "ticks": "",
            "zerolinecolor": "white"
           },
           "yaxis": {
            "backgroundcolor": "#E5ECF6",
            "gridcolor": "white",
            "gridwidth": 2,
            "linecolor": "white",
            "showbackground": true,
            "ticks": "",
            "zerolinecolor": "white"
           },
           "zaxis": {
            "backgroundcolor": "#E5ECF6",
            "gridcolor": "white",
            "gridwidth": 2,
            "linecolor": "white",
            "showbackground": true,
            "ticks": "",
            "zerolinecolor": "white"
           }
          },
          "shapedefaults": {
           "line": {
            "color": "#2a3f5f"
           }
          },
          "ternary": {
           "aaxis": {
            "gridcolor": "white",
            "linecolor": "white",
            "ticks": ""
           },
           "baxis": {
            "gridcolor": "white",
            "linecolor": "white",
            "ticks": ""
           },
           "bgcolor": "#E5ECF6",
           "caxis": {
            "gridcolor": "white",
            "linecolor": "white",
            "ticks": ""
           }
          },
          "title": {
           "x": 0.05
          },
          "xaxis": {
           "automargin": true,
           "gridcolor": "white",
           "linecolor": "white",
           "ticks": "",
           "title": {
            "standoff": 15
           },
           "zerolinecolor": "white",
           "zerolinewidth": 2
          },
          "yaxis": {
           "automargin": true,
           "gridcolor": "white",
           "linecolor": "white",
           "ticks": "",
           "title": {
            "standoff": 15
           },
           "zerolinecolor": "white",
           "zerolinewidth": 2
          }
         }
        },
        "title": {
         "text": "input_layer_type"
        },
        "width": 1000,
        "yaxis": {
         "dtick": 25,
         "range": [
          -175,
          100
         ],
         "tick0": 0
        }
       }
      }
     },
     "metadata": {}
    },
    {
     "output_type": "display_data",
     "data": {
      "text/plain": "<Figure size 432x288 with 0 Axes>"
     },
     "metadata": {}
    }
   ],
   "source": [
    "plot_vals(2)\n",
    "plt.savefig(\"pictures/results_fig_2.svg\")"
   ]
  },
  {
   "cell_type": "code",
   "execution_count": 31,
   "id": "disturbed-chuck",
   "metadata": {},
   "outputs": [
    {
     "output_type": "display_data",
     "data": {
      "application/vnd.plotly.v1+json": {
       "config": {
        "plotlyServerURL": "https://plot.ly"
       },
       "data": [
        {
         "marker": {
          "color": "#EA4335"
         },
         "mode": "lines+markers",
         "name": "CCE, SD=4",
         "type": "scatter",
         "x": [
          2,
          3,
          6
         ],
         "y": [
          88.0946223407368,
          91.01051363359095,
          94.38545795756329
         ]
        },
        {
         "line": {
          "width": 0
         },
         "marker": {
          "color": "#EA4335"
         },
         "mode": "lines",
         "name": "Upper bound",
         "showlegend": false,
         "type": "scatter",
         "x": [
          2,
          3,
          6
         ],
         "y": [
          89.18444992546891,
          91.58449972792857,
          94.76345480665184
         ]
        },
        {
         "fill": "tonexty",
         "fillcolor": "rgba(234, 67, 53, 0.2)",
         "line": {
          "width": 0
         },
         "marker": {
          "color": "#EA4335"
         },
         "mode": "lines",
         "name": "Lower bound",
         "showlegend": false,
         "type": "scatter",
         "x": [
          2,
          3,
          6
         ],
         "y": [
          87.0047947560047,
          90.43652753925332,
          94.00746110847474
         ]
        },
        {
         "marker": {
          "color": "#FBBC04"
         },
         "mode": "lines+markers",
         "name": "JSD, SD=4",
         "type": "scatter",
         "x": [
          2,
          3,
          6
         ],
         "y": [
          92.53566413839326,
          94.30239790929252,
          96.22939335824432
         ]
        },
        {
         "line": {
          "width": 0
         },
         "marker": {
          "color": "#FBBC04"
         },
         "mode": "lines",
         "name": "Upper bound",
         "showlegend": false,
         "type": "scatter",
         "x": [
          2,
          3,
          6
         ],
         "y": [
          93.05955450528849,
          94.64453709194248,
          96.44038234862666
         ]
        },
        {
         "fill": "tonexty",
         "fillcolor": "rgba(251, 188, 4, 0.2)",
         "line": {
          "width": 0
         },
         "marker": {
          "color": "#FBBC04"
         },
         "mode": "lines",
         "name": "Lower bound",
         "showlegend": false,
         "type": "scatter",
         "x": [
          2,
          3,
          6
         ],
         "y": [
          92.01177377149803,
          93.96025872664256,
          96.01840436786199
         ]
        },
        {
         "marker": {
          "color": "#4285F4"
         },
         "mode": "lines+markers",
         "name": "CCEu, SD=4",
         "type": "scatter",
         "x": [
          2,
          3,
          6
         ],
         "y": [
          -15.577959748530342,
          -15.300565536731503,
          -15.757412632552475
         ]
        },
        {
         "line": {
          "width": 0
         },
         "marker": {
          "color": "#4285F4"
         },
         "mode": "lines",
         "name": "Upper bound",
         "showlegend": false,
         "type": "scatter",
         "x": [
          2,
          3,
          6
         ],
         "y": [
          -13.71154679176879,
          -13.80235882139728,
          -13.87262596694353
         ]
        },
        {
         "fill": "tonexty",
         "fillcolor": "rgba(66, 133, 244, 0.2)",
         "line": {
          "width": 0
         },
         "marker": {
          "color": "#4285F4"
         },
         "mode": "lines",
         "name": "Lower bound",
         "showlegend": false,
         "type": "scatter",
         "x": [
          2,
          3,
          6
         ],
         "y": [
          -17.444372705291894,
          -16.798772252065724,
          -17.64219929816142
         ]
        },
        {
         "marker": {
          "color": "#000000"
         },
         "mode": "lines+markers",
         "name": "JSDu, SD=4",
         "type": "scatter",
         "x": [
          2,
          3,
          6
         ],
         "y": [
          19.95379430691813,
          16.4325262097128,
          16.91310687523196
         ]
        },
        {
         "line": {
          "width": 0
         },
         "marker": {
          "color": "#000000"
         },
         "mode": "lines",
         "name": "Upper bound",
         "showlegend": false,
         "type": "scatter",
         "x": [
          2,
          3,
          6
         ],
         "y": [
          23.76057062193878,
          17.53281186524548,
          18.5600864994366
         ]
        },
        {
         "fill": "tonexty",
         "fillcolor": "rgba(0, 0, 0, 0.2)",
         "line": {
          "width": 0
         },
         "marker": {
          "color": "#000000"
         },
         "mode": "lines",
         "name": "Lower bound",
         "showlegend": false,
         "type": "scatter",
         "x": [
          2,
          3,
          6
         ],
         "y": [
          16.14701799189748,
          15.33224055418012,
          15.26612725102732
         ]
        },
        {
         "marker": {
          "color": "#34A853"
         },
         "mode": "lines+markers",
         "name": "CCE, SD=100",
         "type": "scatter",
         "x": [
          2,
          3,
          6
         ],
         "y": [
          59.26357659819914,
          68.22133148829586,
          70.29272019970381
         ]
        },
        {
         "line": {
          "width": 0
         },
         "marker": {
          "color": "#34A853"
         },
         "mode": "lines",
         "name": "Upper bound",
         "showlegend": false,
         "type": "scatter",
         "x": [
          2,
          3,
          6
         ],
         "y": [
          61.64666054850467,
          70.28849080249098,
          72.2817693950167
         ]
        },
        {
         "fill": "tonexty",
         "fillcolor": "rgba(52, 168, 83, 0.2)",
         "line": {
          "width": 0
         },
         "marker": {
          "color": "#34A853"
         },
         "mode": "lines",
         "name": "Lower bound",
         "showlegend": false,
         "type": "scatter",
         "x": [
          2,
          3,
          6
         ],
         "y": [
          56.880492647893604,
          66.15417217410074,
          68.30367100439092
         ]
        },
        {
         "marker": {
          "color": "#46BDC6"
         },
         "mode": "lines+markers",
         "name": "JSD, SD=100",
         "type": "scatter",
         "x": [
          2,
          3,
          6
         ],
         "y": [
          28.924720978158962,
          84.02747539608927,
          83.8427423349608
         ]
        },
        {
         "line": {
          "width": 0
         },
         "marker": {
          "color": "#46BDC6"
         },
         "mode": "lines",
         "name": "Upper bound",
         "showlegend": false,
         "type": "scatter",
         "x": [
          2,
          3,
          6
         ],
         "y": [
          44.16598102829217,
          85.4927606987678,
          84.87222987099976
         ]
        },
        {
         "fill": "tonexty",
         "fillcolor": "rgba(70, 189, 198, 0.2)",
         "line": {
          "width": 0
         },
         "marker": {
          "color": "#46BDC6"
         },
         "mode": "lines",
         "name": "Lower bound",
         "showlegend": false,
         "type": "scatter",
         "x": [
          2,
          3,
          6
         ],
         "y": [
          13.68346092802575,
          82.56219009341075,
          82.81325479892185
         ]
        }
       ],
       "layout": {
        "height": 600,
        "template": {
         "data": {
          "bar": [
           {
            "error_x": {
             "color": "#2a3f5f"
            },
            "error_y": {
             "color": "#2a3f5f"
            },
            "marker": {
             "line": {
              "color": "#E5ECF6",
              "width": 0.5
             }
            },
            "type": "bar"
           }
          ],
          "barpolar": [
           {
            "marker": {
             "line": {
              "color": "#E5ECF6",
              "width": 0.5
             }
            },
            "type": "barpolar"
           }
          ],
          "carpet": [
           {
            "aaxis": {
             "endlinecolor": "#2a3f5f",
             "gridcolor": "white",
             "linecolor": "white",
             "minorgridcolor": "white",
             "startlinecolor": "#2a3f5f"
            },
            "baxis": {
             "endlinecolor": "#2a3f5f",
             "gridcolor": "white",
             "linecolor": "white",
             "minorgridcolor": "white",
             "startlinecolor": "#2a3f5f"
            },
            "type": "carpet"
           }
          ],
          "choropleth": [
           {
            "colorbar": {
             "outlinewidth": 0,
             "ticks": ""
            },
            "type": "choropleth"
           }
          ],
          "contour": [
           {
            "colorbar": {
             "outlinewidth": 0,
             "ticks": ""
            },
            "colorscale": [
             [
              0,
              "#0d0887"
             ],
             [
              0.1111111111111111,
              "#46039f"
             ],
             [
              0.2222222222222222,
              "#7201a8"
             ],
             [
              0.3333333333333333,
              "#9c179e"
             ],
             [
              0.4444444444444444,
              "#bd3786"
             ],
             [
              0.5555555555555556,
              "#d8576b"
             ],
             [
              0.6666666666666666,
              "#ed7953"
             ],
             [
              0.7777777777777778,
              "#fb9f3a"
             ],
             [
              0.8888888888888888,
              "#fdca26"
             ],
             [
              1,
              "#f0f921"
             ]
            ],
            "type": "contour"
           }
          ],
          "contourcarpet": [
           {
            "colorbar": {
             "outlinewidth": 0,
             "ticks": ""
            },
            "type": "contourcarpet"
           }
          ],
          "heatmap": [
           {
            "colorbar": {
             "outlinewidth": 0,
             "ticks": ""
            },
            "colorscale": [
             [
              0,
              "#0d0887"
             ],
             [
              0.1111111111111111,
              "#46039f"
             ],
             [
              0.2222222222222222,
              "#7201a8"
             ],
             [
              0.3333333333333333,
              "#9c179e"
             ],
             [
              0.4444444444444444,
              "#bd3786"
             ],
             [
              0.5555555555555556,
              "#d8576b"
             ],
             [
              0.6666666666666666,
              "#ed7953"
             ],
             [
              0.7777777777777778,
              "#fb9f3a"
             ],
             [
              0.8888888888888888,
              "#fdca26"
             ],
             [
              1,
              "#f0f921"
             ]
            ],
            "type": "heatmap"
           }
          ],
          "heatmapgl": [
           {
            "colorbar": {
             "outlinewidth": 0,
             "ticks": ""
            },
            "colorscale": [
             [
              0,
              "#0d0887"
             ],
             [
              0.1111111111111111,
              "#46039f"
             ],
             [
              0.2222222222222222,
              "#7201a8"
             ],
             [
              0.3333333333333333,
              "#9c179e"
             ],
             [
              0.4444444444444444,
              "#bd3786"
             ],
             [
              0.5555555555555556,
              "#d8576b"
             ],
             [
              0.6666666666666666,
              "#ed7953"
             ],
             [
              0.7777777777777778,
              "#fb9f3a"
             ],
             [
              0.8888888888888888,
              "#fdca26"
             ],
             [
              1,
              "#f0f921"
             ]
            ],
            "type": "heatmapgl"
           }
          ],
          "histogram": [
           {
            "marker": {
             "colorbar": {
              "outlinewidth": 0,
              "ticks": ""
             }
            },
            "type": "histogram"
           }
          ],
          "histogram2d": [
           {
            "colorbar": {
             "outlinewidth": 0,
             "ticks": ""
            },
            "colorscale": [
             [
              0,
              "#0d0887"
             ],
             [
              0.1111111111111111,
              "#46039f"
             ],
             [
              0.2222222222222222,
              "#7201a8"
             ],
             [
              0.3333333333333333,
              "#9c179e"
             ],
             [
              0.4444444444444444,
              "#bd3786"
             ],
             [
              0.5555555555555556,
              "#d8576b"
             ],
             [
              0.6666666666666666,
              "#ed7953"
             ],
             [
              0.7777777777777778,
              "#fb9f3a"
             ],
             [
              0.8888888888888888,
              "#fdca26"
             ],
             [
              1,
              "#f0f921"
             ]
            ],
            "type": "histogram2d"
           }
          ],
          "histogram2dcontour": [
           {
            "colorbar": {
             "outlinewidth": 0,
             "ticks": ""
            },
            "colorscale": [
             [
              0,
              "#0d0887"
             ],
             [
              0.1111111111111111,
              "#46039f"
             ],
             [
              0.2222222222222222,
              "#7201a8"
             ],
             [
              0.3333333333333333,
              "#9c179e"
             ],
             [
              0.4444444444444444,
              "#bd3786"
             ],
             [
              0.5555555555555556,
              "#d8576b"
             ],
             [
              0.6666666666666666,
              "#ed7953"
             ],
             [
              0.7777777777777778,
              "#fb9f3a"
             ],
             [
              0.8888888888888888,
              "#fdca26"
             ],
             [
              1,
              "#f0f921"
             ]
            ],
            "type": "histogram2dcontour"
           }
          ],
          "mesh3d": [
           {
            "colorbar": {
             "outlinewidth": 0,
             "ticks": ""
            },
            "type": "mesh3d"
           }
          ],
          "parcoords": [
           {
            "line": {
             "colorbar": {
              "outlinewidth": 0,
              "ticks": ""
             }
            },
            "type": "parcoords"
           }
          ],
          "pie": [
           {
            "automargin": true,
            "type": "pie"
           }
          ],
          "scatter": [
           {
            "marker": {
             "colorbar": {
              "outlinewidth": 0,
              "ticks": ""
             }
            },
            "type": "scatter"
           }
          ],
          "scatter3d": [
           {
            "line": {
             "colorbar": {
              "outlinewidth": 0,
              "ticks": ""
             }
            },
            "marker": {
             "colorbar": {
              "outlinewidth": 0,
              "ticks": ""
             }
            },
            "type": "scatter3d"
           }
          ],
          "scattercarpet": [
           {
            "marker": {
             "colorbar": {
              "outlinewidth": 0,
              "ticks": ""
             }
            },
            "type": "scattercarpet"
           }
          ],
          "scattergeo": [
           {
            "marker": {
             "colorbar": {
              "outlinewidth": 0,
              "ticks": ""
             }
            },
            "type": "scattergeo"
           }
          ],
          "scattergl": [
           {
            "marker": {
             "colorbar": {
              "outlinewidth": 0,
              "ticks": ""
             }
            },
            "type": "scattergl"
           }
          ],
          "scattermapbox": [
           {
            "marker": {
             "colorbar": {
              "outlinewidth": 0,
              "ticks": ""
             }
            },
            "type": "scattermapbox"
           }
          ],
          "scatterpolar": [
           {
            "marker": {
             "colorbar": {
              "outlinewidth": 0,
              "ticks": ""
             }
            },
            "type": "scatterpolar"
           }
          ],
          "scatterpolargl": [
           {
            "marker": {
             "colorbar": {
              "outlinewidth": 0,
              "ticks": ""
             }
            },
            "type": "scatterpolargl"
           }
          ],
          "scatterternary": [
           {
            "marker": {
             "colorbar": {
              "outlinewidth": 0,
              "ticks": ""
             }
            },
            "type": "scatterternary"
           }
          ],
          "surface": [
           {
            "colorbar": {
             "outlinewidth": 0,
             "ticks": ""
            },
            "colorscale": [
             [
              0,
              "#0d0887"
             ],
             [
              0.1111111111111111,
              "#46039f"
             ],
             [
              0.2222222222222222,
              "#7201a8"
             ],
             [
              0.3333333333333333,
              "#9c179e"
             ],
             [
              0.4444444444444444,
              "#bd3786"
             ],
             [
              0.5555555555555556,
              "#d8576b"
             ],
             [
              0.6666666666666666,
              "#ed7953"
             ],
             [
              0.7777777777777778,
              "#fb9f3a"
             ],
             [
              0.8888888888888888,
              "#fdca26"
             ],
             [
              1,
              "#f0f921"
             ]
            ],
            "type": "surface"
           }
          ],
          "table": [
           {
            "cells": {
             "fill": {
              "color": "#EBF0F8"
             },
             "line": {
              "color": "white"
             }
            },
            "header": {
             "fill": {
              "color": "#C8D4E3"
             },
             "line": {
              "color": "white"
             }
            },
            "type": "table"
           }
          ]
         },
         "layout": {
          "annotationdefaults": {
           "arrowcolor": "#2a3f5f",
           "arrowhead": 0,
           "arrowwidth": 1
          },
          "autotypenumbers": "strict",
          "coloraxis": {
           "colorbar": {
            "outlinewidth": 0,
            "ticks": ""
           }
          },
          "colorscale": {
           "diverging": [
            [
             0,
             "#8e0152"
            ],
            [
             0.1,
             "#c51b7d"
            ],
            [
             0.2,
             "#de77ae"
            ],
            [
             0.3,
             "#f1b6da"
            ],
            [
             0.4,
             "#fde0ef"
            ],
            [
             0.5,
             "#f7f7f7"
            ],
            [
             0.6,
             "#e6f5d0"
            ],
            [
             0.7,
             "#b8e186"
            ],
            [
             0.8,
             "#7fbc41"
            ],
            [
             0.9,
             "#4d9221"
            ],
            [
             1,
             "#276419"
            ]
           ],
           "sequential": [
            [
             0,
             "#0d0887"
            ],
            [
             0.1111111111111111,
             "#46039f"
            ],
            [
             0.2222222222222222,
             "#7201a8"
            ],
            [
             0.3333333333333333,
             "#9c179e"
            ],
            [
             0.4444444444444444,
             "#bd3786"
            ],
            [
             0.5555555555555556,
             "#d8576b"
            ],
            [
             0.6666666666666666,
             "#ed7953"
            ],
            [
             0.7777777777777778,
             "#fb9f3a"
            ],
            [
             0.8888888888888888,
             "#fdca26"
            ],
            [
             1,
             "#f0f921"
            ]
           ],
           "sequentialminus": [
            [
             0,
             "#0d0887"
            ],
            [
             0.1111111111111111,
             "#46039f"
            ],
            [
             0.2222222222222222,
             "#7201a8"
            ],
            [
             0.3333333333333333,
             "#9c179e"
            ],
            [
             0.4444444444444444,
             "#bd3786"
            ],
            [
             0.5555555555555556,
             "#d8576b"
            ],
            [
             0.6666666666666666,
             "#ed7953"
            ],
            [
             0.7777777777777778,
             "#fb9f3a"
            ],
            [
             0.8888888888888888,
             "#fdca26"
            ],
            [
             1,
             "#f0f921"
            ]
           ]
          },
          "colorway": [
           "#636efa",
           "#EF553B",
           "#00cc96",
           "#ab63fa",
           "#FFA15A",
           "#19d3f3",
           "#FF6692",
           "#B6E880",
           "#FF97FF",
           "#FECB52"
          ],
          "font": {
           "color": "#2a3f5f"
          },
          "geo": {
           "bgcolor": "white",
           "lakecolor": "white",
           "landcolor": "#E5ECF6",
           "showlakes": true,
           "showland": true,
           "subunitcolor": "white"
          },
          "hoverlabel": {
           "align": "left"
          },
          "hovermode": "closest",
          "mapbox": {
           "style": "light"
          },
          "paper_bgcolor": "white",
          "plot_bgcolor": "#E5ECF6",
          "polar": {
           "angularaxis": {
            "gridcolor": "white",
            "linecolor": "white",
            "ticks": ""
           },
           "bgcolor": "#E5ECF6",
           "radialaxis": {
            "gridcolor": "white",
            "linecolor": "white",
            "ticks": ""
           }
          },
          "scene": {
           "xaxis": {
            "backgroundcolor": "#E5ECF6",
            "gridcolor": "white",
            "gridwidth": 2,
            "linecolor": "white",
            "showbackground": true,
            "ticks": "",
            "zerolinecolor": "white"
           },
           "yaxis": {
            "backgroundcolor": "#E5ECF6",
            "gridcolor": "white",
            "gridwidth": 2,
            "linecolor": "white",
            "showbackground": true,
            "ticks": "",
            "zerolinecolor": "white"
           },
           "zaxis": {
            "backgroundcolor": "#E5ECF6",
            "gridcolor": "white",
            "gridwidth": 2,
            "linecolor": "white",
            "showbackground": true,
            "ticks": "",
            "zerolinecolor": "white"
           }
          },
          "shapedefaults": {
           "line": {
            "color": "#2a3f5f"
           }
          },
          "ternary": {
           "aaxis": {
            "gridcolor": "white",
            "linecolor": "white",
            "ticks": ""
           },
           "baxis": {
            "gridcolor": "white",
            "linecolor": "white",
            "ticks": ""
           },
           "bgcolor": "#E5ECF6",
           "caxis": {
            "gridcolor": "white",
            "linecolor": "white",
            "ticks": ""
           }
          },
          "title": {
           "x": 0.05
          },
          "xaxis": {
           "automargin": true,
           "gridcolor": "white",
           "linecolor": "white",
           "ticks": "",
           "title": {
            "standoff": 15
           },
           "zerolinecolor": "white",
           "zerolinewidth": 2
          },
          "yaxis": {
           "automargin": true,
           "gridcolor": "white",
           "linecolor": "white",
           "ticks": "",
           "title": {
            "standoff": 15
           },
           "zerolinecolor": "white",
           "zerolinewidth": 2
          }
         }
        },
        "title": {
         "text": "encoding_dim"
        },
        "width": 1000,
        "yaxis": {
         "dtick": 25,
         "range": [
          -175,
          100
         ],
         "tick0": 0
        }
       }
      }
     },
     "metadata": {}
    },
    {
     "output_type": "display_data",
     "data": {
      "text/plain": "<Figure size 432x288 with 0 Axes>"
     },
     "metadata": {}
    }
   ],
   "source": [
    "plot_vals(3)\n",
    "plt.savefig(\"pictures/results_fig_3.svg\")"
   ]
  },
  {
   "cell_type": "code",
   "execution_count": 32,
   "id": "lesser-nashville",
   "metadata": {},
   "outputs": [
    {
     "output_type": "display_data",
     "data": {
      "application/vnd.plotly.v1+json": {
       "config": {
        "plotlyServerURL": "https://plot.ly"
       },
       "data": [
        {
         "marker": {
          "color": "#EA4335"
         },
         "mode": "lines+markers",
         "name": "CCE, SD=4",
         "type": "scatter",
         "x": [
          3,
          5,
          7,
          9,
          27
         ],
         "y": [
          91.01051363359095,
          93.00702827685102,
          94.05479405025365,
          95.53623529147096,
          -498.2553104085727
         ]
        },
        {
         "line": {
          "width": 0
         },
         "marker": {
          "color": "#EA4335"
         },
         "mode": "lines",
         "name": "Upper bound",
         "showlegend": false,
         "type": "scatter",
         "x": [
          3,
          5,
          7,
          9,
          27
         ],
         "y": [
          91.58449972792857,
          93.24963955993607,
          94.43949973218342,
          96.10727938628787,
          10.994068426522063
         ]
        },
        {
         "fill": "tonexty",
         "fillcolor": "rgba(234, 67, 53, 0.2)",
         "line": {
          "width": 0
         },
         "marker": {
          "color": "#EA4335"
         },
         "mode": "lines",
         "name": "Lower bound",
         "showlegend": false,
         "type": "scatter",
         "x": [
          3,
          5,
          7,
          9,
          27
         ],
         "y": [
          90.43652753925332,
          92.76441699376596,
          93.67008836832387,
          94.96519119665405,
          -1007.5046892436675
         ]
        },
        {
         "marker": {
          "color": "#FBBC04"
         },
         "mode": "lines+markers",
         "name": "JSD, SD=4",
         "type": "scatter",
         "x": [
          3,
          5,
          7,
          9,
          27
         ],
         "y": [
          94.30239790929252,
          95.25069564346892,
          96.01394435499836,
          96.60521360729986,
          -497.14506037078274
         ]
        },
        {
         "line": {
          "width": 0
         },
         "marker": {
          "color": "#FBBC04"
         },
         "mode": "lines",
         "name": "Upper bound",
         "showlegend": false,
         "type": "scatter",
         "x": [
          3,
          5,
          7,
          9,
          27
         ],
         "y": [
          94.64453709194248,
          95.78226423550481,
          96.80554086432119,
          97.15362076241112,
          -402.5198919973211
         ]
        },
        {
         "fill": "tonexty",
         "fillcolor": "rgba(251, 188, 4, 0.2)",
         "line": {
          "width": 0
         },
         "marker": {
          "color": "#FBBC04"
         },
         "mode": "lines",
         "name": "Lower bound",
         "showlegend": false,
         "type": "scatter",
         "x": [
          3,
          5,
          7,
          9,
          27
         ],
         "y": [
          93.96025872664256,
          94.71912705143302,
          95.22234784567553,
          96.0568064521886,
          -591.7702287442444
         ]
        },
        {
         "marker": {
          "color": "#4285F4"
         },
         "mode": "lines+markers",
         "name": "CCEu, SD=4",
         "type": "scatter",
         "x": [
          3,
          5,
          7,
          9,
          27
         ],
         "y": [
          -15.300565536731503,
          -16.663972875958645,
          -16.24158580769057,
          -15.919837499226203,
          -250.9501821588033
         ]
        },
        {
         "line": {
          "width": 0
         },
         "marker": {
          "color": "#4285F4"
         },
         "mode": "lines",
         "name": "Upper bound",
         "showlegend": false,
         "type": "scatter",
         "x": [
          3,
          5,
          7,
          9,
          27
         ],
         "y": [
          -13.80235882139728,
          -14.074113850253166,
          -14.212692374249825,
          -12.798620912378395,
          -9.727744770836495
         ]
        },
        {
         "fill": "tonexty",
         "fillcolor": "rgba(66, 133, 244, 0.2)",
         "line": {
          "width": 0
         },
         "marker": {
          "color": "#4285F4"
         },
         "mode": "lines",
         "name": "Lower bound",
         "showlegend": false,
         "type": "scatter",
         "x": [
          3,
          5,
          7,
          9,
          27
         ],
         "y": [
          -16.798772252065724,
          -19.253831901664125,
          -18.270479241131312,
          -19.04105408607401,
          -492.1726195467701
         ]
        },
        {
         "marker": {
          "color": "#000000"
         },
         "mode": "lines+markers",
         "name": "JSDu, SD=4",
         "type": "scatter",
         "x": [
          3,
          5,
          7,
          9,
          27
         ],
         "y": [
          16.4325262097128,
          17.455810670223805,
          17.4624971218242,
          17.44428741843876,
          -449.93204392354704
         ]
        },
        {
         "line": {
          "width": 0
         },
         "marker": {
          "color": "#000000"
         },
         "mode": "lines",
         "name": "Upper bound",
         "showlegend": false,
         "type": "scatter",
         "x": [
          3,
          5,
          7,
          9,
          27
         ],
         "y": [
          17.53281186524548,
          19.51869466226508,
          20.089703240000336,
          19.034973754282184,
          -348.45465357151795
         ]
        },
        {
         "fill": "tonexty",
         "fillcolor": "rgba(0, 0, 0, 0.2)",
         "line": {
          "width": 0
         },
         "marker": {
          "color": "#000000"
         },
         "mode": "lines",
         "name": "Lower bound",
         "showlegend": false,
         "type": "scatter",
         "x": [
          3,
          5,
          7,
          9,
          27
         ],
         "y": [
          15.33224055418012,
          15.39292667818253,
          14.835291003648063,
          15.853601082595333,
          -551.4094342755761
         ]
        },
        {
         "marker": {
          "color": "#34A853"
         },
         "mode": "lines+markers",
         "name": "CCE, SD=100",
         "type": "scatter",
         "x": [
          3,
          5,
          7,
          9,
          27
         ],
         "y": [
          68.22133148829586,
          72.87737700487713,
          -12.792825051010842,
          -65.07118377339572,
          -148.3758693064926
         ]
        },
        {
         "line": {
          "width": 0
         },
         "marker": {
          "color": "#34A853"
         },
         "mode": "lines",
         "name": "Upper bound",
         "showlegend": false,
         "type": "scatter",
         "x": [
          3,
          5,
          7,
          9,
          27
         ],
         "y": [
          70.28849080249098,
          76.58890812839493,
          9.014103596482242,
          -44.98160733231596,
          -147.16132545828117
         ]
        },
        {
         "fill": "tonexty",
         "fillcolor": "rgba(52, 168, 83, 0.2)",
         "line": {
          "width": 0
         },
         "marker": {
          "color": "#34A853"
         },
         "mode": "lines",
         "name": "Lower bound",
         "showlegend": false,
         "type": "scatter",
         "x": [
          3,
          5,
          7,
          9,
          27
         ],
         "y": [
          66.15417217410074,
          69.16584588135933,
          -34.599753698503925,
          -85.16076021447547,
          -149.59041315470404
         ]
        },
        {
         "marker": {
          "color": "#46BDC6"
         },
         "mode": "lines+markers",
         "name": "JSD, SD=100",
         "type": "scatter",
         "x": [
          3,
          5,
          7,
          9,
          27
         ],
         "y": [
          84.02747539608927,
          81.15509265549804,
          2.5472858518535455,
          -149.0400049304971,
          -149.05887033278208
         ]
        },
        {
         "line": {
          "width": 0
         },
         "marker": {
          "color": "#46BDC6"
         },
         "mode": "lines",
         "name": "Upper bound",
         "showlegend": false,
         "type": "scatter",
         "x": [
          3,
          5,
          7,
          9,
          27
         ],
         "y": [
          85.4927606987678,
          82.88975880960241,
          24.468111245568306,
          -147.07839178733903,
          -147.316858549335
         ]
        },
        {
         "fill": "tonexty",
         "fillcolor": "rgba(70, 189, 198, 0.2)",
         "line": {
          "width": 0
         },
         "marker": {
          "color": "#46BDC6"
         },
         "mode": "lines",
         "name": "Lower bound",
         "showlegend": false,
         "type": "scatter",
         "x": [
          3,
          5,
          7,
          9,
          27
         ],
         "y": [
          82.56219009341075,
          79.42042650139366,
          -19.373539541861216,
          -151.00161807365518,
          -150.80088211622916
         ]
        }
       ],
       "layout": {
        "height": 600,
        "template": {
         "data": {
          "bar": [
           {
            "error_x": {
             "color": "#2a3f5f"
            },
            "error_y": {
             "color": "#2a3f5f"
            },
            "marker": {
             "line": {
              "color": "#E5ECF6",
              "width": 0.5
             }
            },
            "type": "bar"
           }
          ],
          "barpolar": [
           {
            "marker": {
             "line": {
              "color": "#E5ECF6",
              "width": 0.5
             }
            },
            "type": "barpolar"
           }
          ],
          "carpet": [
           {
            "aaxis": {
             "endlinecolor": "#2a3f5f",
             "gridcolor": "white",
             "linecolor": "white",
             "minorgridcolor": "white",
             "startlinecolor": "#2a3f5f"
            },
            "baxis": {
             "endlinecolor": "#2a3f5f",
             "gridcolor": "white",
             "linecolor": "white",
             "minorgridcolor": "white",
             "startlinecolor": "#2a3f5f"
            },
            "type": "carpet"
           }
          ],
          "choropleth": [
           {
            "colorbar": {
             "outlinewidth": 0,
             "ticks": ""
            },
            "type": "choropleth"
           }
          ],
          "contour": [
           {
            "colorbar": {
             "outlinewidth": 0,
             "ticks": ""
            },
            "colorscale": [
             [
              0,
              "#0d0887"
             ],
             [
              0.1111111111111111,
              "#46039f"
             ],
             [
              0.2222222222222222,
              "#7201a8"
             ],
             [
              0.3333333333333333,
              "#9c179e"
             ],
             [
              0.4444444444444444,
              "#bd3786"
             ],
             [
              0.5555555555555556,
              "#d8576b"
             ],
             [
              0.6666666666666666,
              "#ed7953"
             ],
             [
              0.7777777777777778,
              "#fb9f3a"
             ],
             [
              0.8888888888888888,
              "#fdca26"
             ],
             [
              1,
              "#f0f921"
             ]
            ],
            "type": "contour"
           }
          ],
          "contourcarpet": [
           {
            "colorbar": {
             "outlinewidth": 0,
             "ticks": ""
            },
            "type": "contourcarpet"
           }
          ],
          "heatmap": [
           {
            "colorbar": {
             "outlinewidth": 0,
             "ticks": ""
            },
            "colorscale": [
             [
              0,
              "#0d0887"
             ],
             [
              0.1111111111111111,
              "#46039f"
             ],
             [
              0.2222222222222222,
              "#7201a8"
             ],
             [
              0.3333333333333333,
              "#9c179e"
             ],
             [
              0.4444444444444444,
              "#bd3786"
             ],
             [
              0.5555555555555556,
              "#d8576b"
             ],
             [
              0.6666666666666666,
              "#ed7953"
             ],
             [
              0.7777777777777778,
              "#fb9f3a"
             ],
             [
              0.8888888888888888,
              "#fdca26"
             ],
             [
              1,
              "#f0f921"
             ]
            ],
            "type": "heatmap"
           }
          ],
          "heatmapgl": [
           {
            "colorbar": {
             "outlinewidth": 0,
             "ticks": ""
            },
            "colorscale": [
             [
              0,
              "#0d0887"
             ],
             [
              0.1111111111111111,
              "#46039f"
             ],
             [
              0.2222222222222222,
              "#7201a8"
             ],
             [
              0.3333333333333333,
              "#9c179e"
             ],
             [
              0.4444444444444444,
              "#bd3786"
             ],
             [
              0.5555555555555556,
              "#d8576b"
             ],
             [
              0.6666666666666666,
              "#ed7953"
             ],
             [
              0.7777777777777778,
              "#fb9f3a"
             ],
             [
              0.8888888888888888,
              "#fdca26"
             ],
             [
              1,
              "#f0f921"
             ]
            ],
            "type": "heatmapgl"
           }
          ],
          "histogram": [
           {
            "marker": {
             "colorbar": {
              "outlinewidth": 0,
              "ticks": ""
             }
            },
            "type": "histogram"
           }
          ],
          "histogram2d": [
           {
            "colorbar": {
             "outlinewidth": 0,
             "ticks": ""
            },
            "colorscale": [
             [
              0,
              "#0d0887"
             ],
             [
              0.1111111111111111,
              "#46039f"
             ],
             [
              0.2222222222222222,
              "#7201a8"
             ],
             [
              0.3333333333333333,
              "#9c179e"
             ],
             [
              0.4444444444444444,
              "#bd3786"
             ],
             [
              0.5555555555555556,
              "#d8576b"
             ],
             [
              0.6666666666666666,
              "#ed7953"
             ],
             [
              0.7777777777777778,
              "#fb9f3a"
             ],
             [
              0.8888888888888888,
              "#fdca26"
             ],
             [
              1,
              "#f0f921"
             ]
            ],
            "type": "histogram2d"
           }
          ],
          "histogram2dcontour": [
           {
            "colorbar": {
             "outlinewidth": 0,
             "ticks": ""
            },
            "colorscale": [
             [
              0,
              "#0d0887"
             ],
             [
              0.1111111111111111,
              "#46039f"
             ],
             [
              0.2222222222222222,
              "#7201a8"
             ],
             [
              0.3333333333333333,
              "#9c179e"
             ],
             [
              0.4444444444444444,
              "#bd3786"
             ],
             [
              0.5555555555555556,
              "#d8576b"
             ],
             [
              0.6666666666666666,
              "#ed7953"
             ],
             [
              0.7777777777777778,
              "#fb9f3a"
             ],
             [
              0.8888888888888888,
              "#fdca26"
             ],
             [
              1,
              "#f0f921"
             ]
            ],
            "type": "histogram2dcontour"
           }
          ],
          "mesh3d": [
           {
            "colorbar": {
             "outlinewidth": 0,
             "ticks": ""
            },
            "type": "mesh3d"
           }
          ],
          "parcoords": [
           {
            "line": {
             "colorbar": {
              "outlinewidth": 0,
              "ticks": ""
             }
            },
            "type": "parcoords"
           }
          ],
          "pie": [
           {
            "automargin": true,
            "type": "pie"
           }
          ],
          "scatter": [
           {
            "marker": {
             "colorbar": {
              "outlinewidth": 0,
              "ticks": ""
             }
            },
            "type": "scatter"
           }
          ],
          "scatter3d": [
           {
            "line": {
             "colorbar": {
              "outlinewidth": 0,
              "ticks": ""
             }
            },
            "marker": {
             "colorbar": {
              "outlinewidth": 0,
              "ticks": ""
             }
            },
            "type": "scatter3d"
           }
          ],
          "scattercarpet": [
           {
            "marker": {
             "colorbar": {
              "outlinewidth": 0,
              "ticks": ""
             }
            },
            "type": "scattercarpet"
           }
          ],
          "scattergeo": [
           {
            "marker": {
             "colorbar": {
              "outlinewidth": 0,
              "ticks": ""
             }
            },
            "type": "scattergeo"
           }
          ],
          "scattergl": [
           {
            "marker": {
             "colorbar": {
              "outlinewidth": 0,
              "ticks": ""
             }
            },
            "type": "scattergl"
           }
          ],
          "scattermapbox": [
           {
            "marker": {
             "colorbar": {
              "outlinewidth": 0,
              "ticks": ""
             }
            },
            "type": "scattermapbox"
           }
          ],
          "scatterpolar": [
           {
            "marker": {
             "colorbar": {
              "outlinewidth": 0,
              "ticks": ""
             }
            },
            "type": "scatterpolar"
           }
          ],
          "scatterpolargl": [
           {
            "marker": {
             "colorbar": {
              "outlinewidth": 0,
              "ticks": ""
             }
            },
            "type": "scatterpolargl"
           }
          ],
          "scatterternary": [
           {
            "marker": {
             "colorbar": {
              "outlinewidth": 0,
              "ticks": ""
             }
            },
            "type": "scatterternary"
           }
          ],
          "surface": [
           {
            "colorbar": {
             "outlinewidth": 0,
             "ticks": ""
            },
            "colorscale": [
             [
              0,
              "#0d0887"
             ],
             [
              0.1111111111111111,
              "#46039f"
             ],
             [
              0.2222222222222222,
              "#7201a8"
             ],
             [
              0.3333333333333333,
              "#9c179e"
             ],
             [
              0.4444444444444444,
              "#bd3786"
             ],
             [
              0.5555555555555556,
              "#d8576b"
             ],
             [
              0.6666666666666666,
              "#ed7953"
             ],
             [
              0.7777777777777778,
              "#fb9f3a"
             ],
             [
              0.8888888888888888,
              "#fdca26"
             ],
             [
              1,
              "#f0f921"
             ]
            ],
            "type": "surface"
           }
          ],
          "table": [
           {
            "cells": {
             "fill": {
              "color": "#EBF0F8"
             },
             "line": {
              "color": "white"
             }
            },
            "header": {
             "fill": {
              "color": "#C8D4E3"
             },
             "line": {
              "color": "white"
             }
            },
            "type": "table"
           }
          ]
         },
         "layout": {
          "annotationdefaults": {
           "arrowcolor": "#2a3f5f",
           "arrowhead": 0,
           "arrowwidth": 1
          },
          "autotypenumbers": "strict",
          "coloraxis": {
           "colorbar": {
            "outlinewidth": 0,
            "ticks": ""
           }
          },
          "colorscale": {
           "diverging": [
            [
             0,
             "#8e0152"
            ],
            [
             0.1,
             "#c51b7d"
            ],
            [
             0.2,
             "#de77ae"
            ],
            [
             0.3,
             "#f1b6da"
            ],
            [
             0.4,
             "#fde0ef"
            ],
            [
             0.5,
             "#f7f7f7"
            ],
            [
             0.6,
             "#e6f5d0"
            ],
            [
             0.7,
             "#b8e186"
            ],
            [
             0.8,
             "#7fbc41"
            ],
            [
             0.9,
             "#4d9221"
            ],
            [
             1,
             "#276419"
            ]
           ],
           "sequential": [
            [
             0,
             "#0d0887"
            ],
            [
             0.1111111111111111,
             "#46039f"
            ],
            [
             0.2222222222222222,
             "#7201a8"
            ],
            [
             0.3333333333333333,
             "#9c179e"
            ],
            [
             0.4444444444444444,
             "#bd3786"
            ],
            [
             0.5555555555555556,
             "#d8576b"
            ],
            [
             0.6666666666666666,
             "#ed7953"
            ],
            [
             0.7777777777777778,
             "#fb9f3a"
            ],
            [
             0.8888888888888888,
             "#fdca26"
            ],
            [
             1,
             "#f0f921"
            ]
           ],
           "sequentialminus": [
            [
             0,
             "#0d0887"
            ],
            [
             0.1111111111111111,
             "#46039f"
            ],
            [
             0.2222222222222222,
             "#7201a8"
            ],
            [
             0.3333333333333333,
             "#9c179e"
            ],
            [
             0.4444444444444444,
             "#bd3786"
            ],
            [
             0.5555555555555556,
             "#d8576b"
            ],
            [
             0.6666666666666666,
             "#ed7953"
            ],
            [
             0.7777777777777778,
             "#fb9f3a"
            ],
            [
             0.8888888888888888,
             "#fdca26"
            ],
            [
             1,
             "#f0f921"
            ]
           ]
          },
          "colorway": [
           "#636efa",
           "#EF553B",
           "#00cc96",
           "#ab63fa",
           "#FFA15A",
           "#19d3f3",
           "#FF6692",
           "#B6E880",
           "#FF97FF",
           "#FECB52"
          ],
          "font": {
           "color": "#2a3f5f"
          },
          "geo": {
           "bgcolor": "white",
           "lakecolor": "white",
           "landcolor": "#E5ECF6",
           "showlakes": true,
           "showland": true,
           "subunitcolor": "white"
          },
          "hoverlabel": {
           "align": "left"
          },
          "hovermode": "closest",
          "mapbox": {
           "style": "light"
          },
          "paper_bgcolor": "white",
          "plot_bgcolor": "#E5ECF6",
          "polar": {
           "angularaxis": {
            "gridcolor": "white",
            "linecolor": "white",
            "ticks": ""
           },
           "bgcolor": "#E5ECF6",
           "radialaxis": {
            "gridcolor": "white",
            "linecolor": "white",
            "ticks": ""
           }
          },
          "scene": {
           "xaxis": {
            "backgroundcolor": "#E5ECF6",
            "gridcolor": "white",
            "gridwidth": 2,
            "linecolor": "white",
            "showbackground": true,
            "ticks": "",
            "zerolinecolor": "white"
           },
           "yaxis": {
            "backgroundcolor": "#E5ECF6",
            "gridcolor": "white",
            "gridwidth": 2,
            "linecolor": "white",
            "showbackground": true,
            "ticks": "",
            "zerolinecolor": "white"
           },
           "zaxis": {
            "backgroundcolor": "#E5ECF6",
            "gridcolor": "white",
            "gridwidth": 2,
            "linecolor": "white",
            "showbackground": true,
            "ticks": "",
            "zerolinecolor": "white"
           }
          },
          "shapedefaults": {
           "line": {
            "color": "#2a3f5f"
           }
          },
          "ternary": {
           "aaxis": {
            "gridcolor": "white",
            "linecolor": "white",
            "ticks": ""
           },
           "baxis": {
            "gridcolor": "white",
            "linecolor": "white",
            "ticks": ""
           },
           "bgcolor": "#E5ECF6",
           "caxis": {
            "gridcolor": "white",
            "linecolor": "white",
            "ticks": ""
           }
          },
          "title": {
           "x": 0.05
          },
          "xaxis": {
           "automargin": true,
           "gridcolor": "white",
           "linecolor": "white",
           "ticks": "",
           "title": {
            "standoff": 15
           },
           "zerolinecolor": "white",
           "zerolinewidth": 2
          },
          "yaxis": {
           "automargin": true,
           "gridcolor": "white",
           "linecolor": "white",
           "ticks": "",
           "title": {
            "standoff": 15
           },
           "zerolinecolor": "white",
           "zerolinewidth": 2
          }
         }
        },
        "title": {
         "text": "hidden_layers"
        },
        "width": 1000,
        "yaxis": {
         "dtick": 25,
         "range": [
          -175,
          100
         ],
         "tick0": 0
        }
       }
      }
     },
     "metadata": {}
    },
    {
     "output_type": "display_data",
     "data": {
      "text/plain": "<Figure size 432x288 with 0 Axes>"
     },
     "metadata": {}
    }
   ],
   "source": [
    "plot_vals(4)\n",
    "plt.savefig(\"pictures/results_fig_4.svg\")"
   ]
  },
  {
   "cell_type": "code",
   "execution_count": 33,
   "id": "reflected-security",
   "metadata": {},
   "outputs": [
    {
     "output_type": "display_data",
     "data": {
      "application/vnd.plotly.v1+json": {
       "config": {
        "plotlyServerURL": "https://plot.ly"
       },
       "data": [
        {
         "error_y": {
          "array": [
           0.573986094337633,
           0.8328483998982231,
           0.28555747983520835,
           0.7618836145595103,
           0.44904700818542037
          ]
         },
         "marker": {
          "color": "#EA4335"
         },
         "name": "CCE, SD=4",
         "type": "bar",
         "x": [
          "",
          "L2: 0.01",
          "L2: 10^-4",
          "L1: 0.01",
          "L1: 10^-4"
         ],
         "y": [
          91.01051363359095,
          74.44929524949508,
          86.97848359910067,
          66.49433219784495,
          88.56164749293764
         ]
        },
        {
         "error_y": {
          "array": [
           0.3421391826499525,
           0.5459981249816741,
           0.16101253816709904,
           1.3728574901825272,
           0.23966331802443686
          ]
         },
         "marker": {
          "color": "#FBBC04"
         },
         "name": "JSD, SD=4",
         "type": "bar",
         "x": [
          "",
          "L2: 0.01",
          "L2: 10^-4",
          "L1: 0.01",
          "L1: 10^-4"
         ],
         "y": [
          94.30239790929252,
          74.80580582667646,
          89.21418368370885,
          62.4522471151629,
          89.09329150234099
         ]
        },
        {
         "error_y": {
          "array": [
           1.4982067153342211,
           2.1863078370312423,
           1.6172862150542295,
           6.135967822248378,
           1.6924815848696597
          ]
         },
         "marker": {
          "color": "#4285F4"
         },
         "name": "CCEu, SD=4",
         "type": "bar",
         "x": [
          "",
          "L2: 0.01",
          "L2: 10^-4",
          "L1: 0.01",
          "L1: 10^-4"
         ],
         "y": [
          -15.300565536731503,
          -17.81269293606028,
          -16.900348242818943,
          -18.663232511809856,
          -14.769180364363711
         ]
        },
        {
         "error_y": {
          "array": [
           1.1002856555326814,
           3.251534620766606,
           2.2027867226489253,
           4.388806296672756,
           2.017363028625865
          ]
         },
         "marker": {
          "color": "#000000"
         },
         "name": "JSDu, SD=4",
         "type": "bar",
         "x": [
          "",
          "L2: 0.01",
          "L2: 10^-4",
          "L1: 0.01",
          "L1: 10^-4"
         ],
         "y": [
          16.4325262097128,
          11.275918356425594,
          15.203555861762263,
          6.26070542545375,
          17.975515289246488
         ]
        },
        {
         "error_y": {
          "array": [
           2.0671593141951172,
           2.056304706167488,
           2.109634067369007,
           1.5615360402430705,
           1.8451972662199811
          ]
         },
         "marker": {
          "color": "#34A853"
         },
         "name": "CCE, SD=100",
         "type": "bar",
         "x": [
          "",
          "L2: 0.01",
          "L2: 10^-4",
          "L1: 0.01",
          "L1: 10^-4"
         ],
         "y": [
          68.22133148829586,
          50.62884051878129,
          68.8927056689676,
          49.63025707532625,
          69.96689718115725
         ]
        },
        {
         "error_y": {
          "array": [
           1.465285302678527,
           4.805047972603037,
           1.6960739564676166,
           2.8913571490722347,
           1.6176109178375153
          ]
         },
         "marker": {
          "color": "#46BDC6"
         },
         "name": "JSD, SD=100",
         "type": "bar",
         "x": [
          "",
          "L2: 0.01",
          "L2: 10^-4",
          "L1: 0.01",
          "L1: 10^-4"
         ],
         "y": [
          84.02747539608927,
          18.98018178969457,
          81.31573864034642,
          -39.62081774437175,
          82.29294911281661
         ]
        }
       ],
       "layout": {
        "height": 600,
        "template": {
         "data": {
          "bar": [
           {
            "error_x": {
             "color": "#2a3f5f"
            },
            "error_y": {
             "color": "#2a3f5f"
            },
            "marker": {
             "line": {
              "color": "#E5ECF6",
              "width": 0.5
             }
            },
            "type": "bar"
           }
          ],
          "barpolar": [
           {
            "marker": {
             "line": {
              "color": "#E5ECF6",
              "width": 0.5
             }
            },
            "type": "barpolar"
           }
          ],
          "carpet": [
           {
            "aaxis": {
             "endlinecolor": "#2a3f5f",
             "gridcolor": "white",
             "linecolor": "white",
             "minorgridcolor": "white",
             "startlinecolor": "#2a3f5f"
            },
            "baxis": {
             "endlinecolor": "#2a3f5f",
             "gridcolor": "white",
             "linecolor": "white",
             "minorgridcolor": "white",
             "startlinecolor": "#2a3f5f"
            },
            "type": "carpet"
           }
          ],
          "choropleth": [
           {
            "colorbar": {
             "outlinewidth": 0,
             "ticks": ""
            },
            "type": "choropleth"
           }
          ],
          "contour": [
           {
            "colorbar": {
             "outlinewidth": 0,
             "ticks": ""
            },
            "colorscale": [
             [
              0,
              "#0d0887"
             ],
             [
              0.1111111111111111,
              "#46039f"
             ],
             [
              0.2222222222222222,
              "#7201a8"
             ],
             [
              0.3333333333333333,
              "#9c179e"
             ],
             [
              0.4444444444444444,
              "#bd3786"
             ],
             [
              0.5555555555555556,
              "#d8576b"
             ],
             [
              0.6666666666666666,
              "#ed7953"
             ],
             [
              0.7777777777777778,
              "#fb9f3a"
             ],
             [
              0.8888888888888888,
              "#fdca26"
             ],
             [
              1,
              "#f0f921"
             ]
            ],
            "type": "contour"
           }
          ],
          "contourcarpet": [
           {
            "colorbar": {
             "outlinewidth": 0,
             "ticks": ""
            },
            "type": "contourcarpet"
           }
          ],
          "heatmap": [
           {
            "colorbar": {
             "outlinewidth": 0,
             "ticks": ""
            },
            "colorscale": [
             [
              0,
              "#0d0887"
             ],
             [
              0.1111111111111111,
              "#46039f"
             ],
             [
              0.2222222222222222,
              "#7201a8"
             ],
             [
              0.3333333333333333,
              "#9c179e"
             ],
             [
              0.4444444444444444,
              "#bd3786"
             ],
             [
              0.5555555555555556,
              "#d8576b"
             ],
             [
              0.6666666666666666,
              "#ed7953"
             ],
             [
              0.7777777777777778,
              "#fb9f3a"
             ],
             [
              0.8888888888888888,
              "#fdca26"
             ],
             [
              1,
              "#f0f921"
             ]
            ],
            "type": "heatmap"
           }
          ],
          "heatmapgl": [
           {
            "colorbar": {
             "outlinewidth": 0,
             "ticks": ""
            },
            "colorscale": [
             [
              0,
              "#0d0887"
             ],
             [
              0.1111111111111111,
              "#46039f"
             ],
             [
              0.2222222222222222,
              "#7201a8"
             ],
             [
              0.3333333333333333,
              "#9c179e"
             ],
             [
              0.4444444444444444,
              "#bd3786"
             ],
             [
              0.5555555555555556,
              "#d8576b"
             ],
             [
              0.6666666666666666,
              "#ed7953"
             ],
             [
              0.7777777777777778,
              "#fb9f3a"
             ],
             [
              0.8888888888888888,
              "#fdca26"
             ],
             [
              1,
              "#f0f921"
             ]
            ],
            "type": "heatmapgl"
           }
          ],
          "histogram": [
           {
            "marker": {
             "colorbar": {
              "outlinewidth": 0,
              "ticks": ""
             }
            },
            "type": "histogram"
           }
          ],
          "histogram2d": [
           {
            "colorbar": {
             "outlinewidth": 0,
             "ticks": ""
            },
            "colorscale": [
             [
              0,
              "#0d0887"
             ],
             [
              0.1111111111111111,
              "#46039f"
             ],
             [
              0.2222222222222222,
              "#7201a8"
             ],
             [
              0.3333333333333333,
              "#9c179e"
             ],
             [
              0.4444444444444444,
              "#bd3786"
             ],
             [
              0.5555555555555556,
              "#d8576b"
             ],
             [
              0.6666666666666666,
              "#ed7953"
             ],
             [
              0.7777777777777778,
              "#fb9f3a"
             ],
             [
              0.8888888888888888,
              "#fdca26"
             ],
             [
              1,
              "#f0f921"
             ]
            ],
            "type": "histogram2d"
           }
          ],
          "histogram2dcontour": [
           {
            "colorbar": {
             "outlinewidth": 0,
             "ticks": ""
            },
            "colorscale": [
             [
              0,
              "#0d0887"
             ],
             [
              0.1111111111111111,
              "#46039f"
             ],
             [
              0.2222222222222222,
              "#7201a8"
             ],
             [
              0.3333333333333333,
              "#9c179e"
             ],
             [
              0.4444444444444444,
              "#bd3786"
             ],
             [
              0.5555555555555556,
              "#d8576b"
             ],
             [
              0.6666666666666666,
              "#ed7953"
             ],
             [
              0.7777777777777778,
              "#fb9f3a"
             ],
             [
              0.8888888888888888,
              "#fdca26"
             ],
             [
              1,
              "#f0f921"
             ]
            ],
            "type": "histogram2dcontour"
           }
          ],
          "mesh3d": [
           {
            "colorbar": {
             "outlinewidth": 0,
             "ticks": ""
            },
            "type": "mesh3d"
           }
          ],
          "parcoords": [
           {
            "line": {
             "colorbar": {
              "outlinewidth": 0,
              "ticks": ""
             }
            },
            "type": "parcoords"
           }
          ],
          "pie": [
           {
            "automargin": true,
            "type": "pie"
           }
          ],
          "scatter": [
           {
            "marker": {
             "colorbar": {
              "outlinewidth": 0,
              "ticks": ""
             }
            },
            "type": "scatter"
           }
          ],
          "scatter3d": [
           {
            "line": {
             "colorbar": {
              "outlinewidth": 0,
              "ticks": ""
             }
            },
            "marker": {
             "colorbar": {
              "outlinewidth": 0,
              "ticks": ""
             }
            },
            "type": "scatter3d"
           }
          ],
          "scattercarpet": [
           {
            "marker": {
             "colorbar": {
              "outlinewidth": 0,
              "ticks": ""
             }
            },
            "type": "scattercarpet"
           }
          ],
          "scattergeo": [
           {
            "marker": {
             "colorbar": {
              "outlinewidth": 0,
              "ticks": ""
             }
            },
            "type": "scattergeo"
           }
          ],
          "scattergl": [
           {
            "marker": {
             "colorbar": {
              "outlinewidth": 0,
              "ticks": ""
             }
            },
            "type": "scattergl"
           }
          ],
          "scattermapbox": [
           {
            "marker": {
             "colorbar": {
              "outlinewidth": 0,
              "ticks": ""
             }
            },
            "type": "scattermapbox"
           }
          ],
          "scatterpolar": [
           {
            "marker": {
             "colorbar": {
              "outlinewidth": 0,
              "ticks": ""
             }
            },
            "type": "scatterpolar"
           }
          ],
          "scatterpolargl": [
           {
            "marker": {
             "colorbar": {
              "outlinewidth": 0,
              "ticks": ""
             }
            },
            "type": "scatterpolargl"
           }
          ],
          "scatterternary": [
           {
            "marker": {
             "colorbar": {
              "outlinewidth": 0,
              "ticks": ""
             }
            },
            "type": "scatterternary"
           }
          ],
          "surface": [
           {
            "colorbar": {
             "outlinewidth": 0,
             "ticks": ""
            },
            "colorscale": [
             [
              0,
              "#0d0887"
             ],
             [
              0.1111111111111111,
              "#46039f"
             ],
             [
              0.2222222222222222,
              "#7201a8"
             ],
             [
              0.3333333333333333,
              "#9c179e"
             ],
             [
              0.4444444444444444,
              "#bd3786"
             ],
             [
              0.5555555555555556,
              "#d8576b"
             ],
             [
              0.6666666666666666,
              "#ed7953"
             ],
             [
              0.7777777777777778,
              "#fb9f3a"
             ],
             [
              0.8888888888888888,
              "#fdca26"
             ],
             [
              1,
              "#f0f921"
             ]
            ],
            "type": "surface"
           }
          ],
          "table": [
           {
            "cells": {
             "fill": {
              "color": "#EBF0F8"
             },
             "line": {
              "color": "white"
             }
            },
            "header": {
             "fill": {
              "color": "#C8D4E3"
             },
             "line": {
              "color": "white"
             }
            },
            "type": "table"
           }
          ]
         },
         "layout": {
          "annotationdefaults": {
           "arrowcolor": "#2a3f5f",
           "arrowhead": 0,
           "arrowwidth": 1
          },
          "autotypenumbers": "strict",
          "coloraxis": {
           "colorbar": {
            "outlinewidth": 0,
            "ticks": ""
           }
          },
          "colorscale": {
           "diverging": [
            [
             0,
             "#8e0152"
            ],
            [
             0.1,
             "#c51b7d"
            ],
            [
             0.2,
             "#de77ae"
            ],
            [
             0.3,
             "#f1b6da"
            ],
            [
             0.4,
             "#fde0ef"
            ],
            [
             0.5,
             "#f7f7f7"
            ],
            [
             0.6,
             "#e6f5d0"
            ],
            [
             0.7,
             "#b8e186"
            ],
            [
             0.8,
             "#7fbc41"
            ],
            [
             0.9,
             "#4d9221"
            ],
            [
             1,
             "#276419"
            ]
           ],
           "sequential": [
            [
             0,
             "#0d0887"
            ],
            [
             0.1111111111111111,
             "#46039f"
            ],
            [
             0.2222222222222222,
             "#7201a8"
            ],
            [
             0.3333333333333333,
             "#9c179e"
            ],
            [
             0.4444444444444444,
             "#bd3786"
            ],
            [
             0.5555555555555556,
             "#d8576b"
            ],
            [
             0.6666666666666666,
             "#ed7953"
            ],
            [
             0.7777777777777778,
             "#fb9f3a"
            ],
            [
             0.8888888888888888,
             "#fdca26"
            ],
            [
             1,
             "#f0f921"
            ]
           ],
           "sequentialminus": [
            [
             0,
             "#0d0887"
            ],
            [
             0.1111111111111111,
             "#46039f"
            ],
            [
             0.2222222222222222,
             "#7201a8"
            ],
            [
             0.3333333333333333,
             "#9c179e"
            ],
            [
             0.4444444444444444,
             "#bd3786"
            ],
            [
             0.5555555555555556,
             "#d8576b"
            ],
            [
             0.6666666666666666,
             "#ed7953"
            ],
            [
             0.7777777777777778,
             "#fb9f3a"
            ],
            [
             0.8888888888888888,
             "#fdca26"
            ],
            [
             1,
             "#f0f921"
            ]
           ]
          },
          "colorway": [
           "#636efa",
           "#EF553B",
           "#00cc96",
           "#ab63fa",
           "#FFA15A",
           "#19d3f3",
           "#FF6692",
           "#B6E880",
           "#FF97FF",
           "#FECB52"
          ],
          "font": {
           "color": "#2a3f5f"
          },
          "geo": {
           "bgcolor": "white",
           "lakecolor": "white",
           "landcolor": "#E5ECF6",
           "showlakes": true,
           "showland": true,
           "subunitcolor": "white"
          },
          "hoverlabel": {
           "align": "left"
          },
          "hovermode": "closest",
          "mapbox": {
           "style": "light"
          },
          "paper_bgcolor": "white",
          "plot_bgcolor": "#E5ECF6",
          "polar": {
           "angularaxis": {
            "gridcolor": "white",
            "linecolor": "white",
            "ticks": ""
           },
           "bgcolor": "#E5ECF6",
           "radialaxis": {
            "gridcolor": "white",
            "linecolor": "white",
            "ticks": ""
           }
          },
          "scene": {
           "xaxis": {
            "backgroundcolor": "#E5ECF6",
            "gridcolor": "white",
            "gridwidth": 2,
            "linecolor": "white",
            "showbackground": true,
            "ticks": "",
            "zerolinecolor": "white"
           },
           "yaxis": {
            "backgroundcolor": "#E5ECF6",
            "gridcolor": "white",
            "gridwidth": 2,
            "linecolor": "white",
            "showbackground": true,
            "ticks": "",
            "zerolinecolor": "white"
           },
           "zaxis": {
            "backgroundcolor": "#E5ECF6",
            "gridcolor": "white",
            "gridwidth": 2,
            "linecolor": "white",
            "showbackground": true,
            "ticks": "",
            "zerolinecolor": "white"
           }
          },
          "shapedefaults": {
           "line": {
            "color": "#2a3f5f"
           }
          },
          "ternary": {
           "aaxis": {
            "gridcolor": "white",
            "linecolor": "white",
            "ticks": ""
           },
           "baxis": {
            "gridcolor": "white",
            "linecolor": "white",
            "ticks": ""
           },
           "bgcolor": "#E5ECF6",
           "caxis": {
            "gridcolor": "white",
            "linecolor": "white",
            "ticks": ""
           }
          },
          "title": {
           "x": 0.05
          },
          "xaxis": {
           "automargin": true,
           "gridcolor": "white",
           "linecolor": "white",
           "ticks": "",
           "title": {
            "standoff": 15
           },
           "zerolinecolor": "white",
           "zerolinewidth": 2
          },
          "yaxis": {
           "automargin": true,
           "gridcolor": "white",
           "linecolor": "white",
           "ticks": "",
           "title": {
            "standoff": 15
           },
           "zerolinecolor": "white",
           "zerolinewidth": 2
          }
         }
        },
        "title": {
         "text": "activity_regularizer"
        },
        "width": 1000,
        "yaxis": {
         "dtick": 25,
         "range": [
          -175,
          100
         ],
         "tick0": 0
        }
       }
      }
     },
     "metadata": {}
    },
    {
     "output_type": "display_data",
     "data": {
      "text/plain": "<Figure size 432x288 with 0 Axes>"
     },
     "metadata": {}
    }
   ],
   "source": [
    "plot_vals(5)\n",
    "plt.savefig(\"pictures/results_fig_5.svg\")"
   ]
  },
  {
   "cell_type": "code",
   "execution_count": 34,
   "id": "gentle-cowboy",
   "metadata": {},
   "outputs": [
    {
     "output_type": "display_data",
     "data": {
      "application/vnd.plotly.v1+json": {
       "config": {
        "plotlyServerURL": "https://plot.ly"
       },
       "data": [
        {
         "error_y": {
          "array": [
           0.4198747008094716,
           0.5671968389144911,
           0.24700840820783998,
           0.32036356902190444,
           0.48948437477121026,
           0.7618198532060377,
           0.3864432212481912
          ]
         },
         "marker": {
          "color": "#EA4335"
         },
         "name": "CCE, SD=4",
         "type": "bar",
         "x": [
          "0.01/SD",
          "(0.01*4)/SD",
          "0.01/math.sqrt(SD)",
          "0.01",
          "0.05",
          "0.1",
          "0.2"
         ],
         "y": [
          91.00333154058762,
          91.12702451111598,
          91.04237978902954,
          91.05247222410182,
          93.34502505703017,
          94.32789812219002,
          94.30766478386526
         ]
        },
        {
         "error_y": {
          "array": [
           0.2876809252865852,
           0.505143789355596,
           0.24963547216955695,
           0.23566876366998962,
           0.27670380281963847,
           0.505812974993236,
           0.8432262694093301
          ]
         },
         "marker": {
          "color": "#FBBC04"
         },
         "name": "JSD, SD=4",
         "type": "bar",
         "x": [
          "0.01/SD",
          "(0.01*4)/SD",
          "0.01/math.sqrt(SD)",
          "0.01",
          "0.05",
          "0.1",
          "0.2"
         ],
         "y": [
          94.52173334209245,
          94.3892081615712,
          94.447585053779,
          94.5183196165392,
          95.43702550062626,
          96.01729221449293,
          95.0488463158413
         ]
        },
        {
         "error_y": {
          "array": [
           1.6413708462527996,
           1.206365457290055,
           0.8577820934199679,
           1.4941049009065293,
           2.835190511535121,
           0.99770656303896,
           0.9301812039534825
          ]
         },
         "marker": {
          "color": "#4285F4"
         },
         "name": "CCEu, SD=4",
         "type": "bar",
         "x": [
          "0.01/SD",
          "(0.01*4)/SD",
          "0.01/math.sqrt(SD)",
          "0.01",
          "0.05",
          "0.1",
          "0.2"
         ],
         "y": [
          -16.201381516125334,
          -14.73310786036501,
          -16.12549640444786,
          -14.783106712089241,
          -8.888567726022018,
          -3.843989862947666,
          -2.87186975673324
         ]
        },
        {
         "error_y": {
          "array": [
           1.6004072596045136,
           1.8299902240430035,
           1.0002503855836145,
           1.4448136400247908,
           1.1259311530793936,
           1.042413573671528,
           1.3411777170786536
          ]
         },
         "marker": {
          "color": "#000000"
         },
         "name": "JSDu, SD=4",
         "type": "bar",
         "x": [
          "0.01/SD",
          "(0.01*4)/SD",
          "0.01/math.sqrt(SD)",
          "0.01",
          "0.05",
          "0.1",
          "0.2"
         ],
         "y": [
          17.623283066066577,
          17.12758400421996,
          17.213418930670247,
          15.825024807104578,
          16.534301065436257,
          14.081196348609879,
          7.013794845514627
         ]
        },
        {
         "error_y": {
          "array": [
           2.3759160601867575,
           3.681734092362845,
           1.8732343145776058,
           1.4070547740288295,
           2.9472131760744746,
           1.3187454137508632,
           0.2725091000908547
          ]
         },
         "marker": {
          "color": "#34A853"
         },
         "name": "CCE, SD=100",
         "type": "bar",
         "x": [
          "0.01/SD",
          "(0.01*4)/SD",
          "0.01/math.sqrt(SD)",
          "0.01",
          "0.05",
          "0.1",
          "0.2"
         ],
         "y": [
          85.07939493139776,
          64.07162101406476,
          70.18568777034983,
          67.98257902108719,
          29.757160726381514,
          17.108953732153566,
          -6.360493910569906
         ]
        },
        {
         "error_y": {
          "array": [
           2.2813070941406433,
           2.808570600533334,
           0.5941223814882706,
           3.0678441657958215,
           1.5664346669016502,
           1.595231647208453,
           0.7732794267733191
          ]
         },
         "marker": {
          "color": "#46BDC6"
         },
         "name": "JSD, SD=100",
         "type": "bar",
         "x": [
          "0.01/SD",
          "(0.01*4)/SD",
          "0.01/math.sqrt(SD)",
          "0.01",
          "0.05",
          "0.1",
          "0.2"
         ],
         "y": [
          85.92429647993994,
          91.55042353232875,
          95.38299986875239,
          84.12014938914317,
          22.155790440492392,
          16.741500553679643,
          0.25833856814943346
         ]
        }
       ],
       "layout": {
        "height": 600,
        "template": {
         "data": {
          "bar": [
           {
            "error_x": {
             "color": "#2a3f5f"
            },
            "error_y": {
             "color": "#2a3f5f"
            },
            "marker": {
             "line": {
              "color": "#E5ECF6",
              "width": 0.5
             }
            },
            "type": "bar"
           }
          ],
          "barpolar": [
           {
            "marker": {
             "line": {
              "color": "#E5ECF6",
              "width": 0.5
             }
            },
            "type": "barpolar"
           }
          ],
          "carpet": [
           {
            "aaxis": {
             "endlinecolor": "#2a3f5f",
             "gridcolor": "white",
             "linecolor": "white",
             "minorgridcolor": "white",
             "startlinecolor": "#2a3f5f"
            },
            "baxis": {
             "endlinecolor": "#2a3f5f",
             "gridcolor": "white",
             "linecolor": "white",
             "minorgridcolor": "white",
             "startlinecolor": "#2a3f5f"
            },
            "type": "carpet"
           }
          ],
          "choropleth": [
           {
            "colorbar": {
             "outlinewidth": 0,
             "ticks": ""
            },
            "type": "choropleth"
           }
          ],
          "contour": [
           {
            "colorbar": {
             "outlinewidth": 0,
             "ticks": ""
            },
            "colorscale": [
             [
              0,
              "#0d0887"
             ],
             [
              0.1111111111111111,
              "#46039f"
             ],
             [
              0.2222222222222222,
              "#7201a8"
             ],
             [
              0.3333333333333333,
              "#9c179e"
             ],
             [
              0.4444444444444444,
              "#bd3786"
             ],
             [
              0.5555555555555556,
              "#d8576b"
             ],
             [
              0.6666666666666666,
              "#ed7953"
             ],
             [
              0.7777777777777778,
              "#fb9f3a"
             ],
             [
              0.8888888888888888,
              "#fdca26"
             ],
             [
              1,
              "#f0f921"
             ]
            ],
            "type": "contour"
           }
          ],
          "contourcarpet": [
           {
            "colorbar": {
             "outlinewidth": 0,
             "ticks": ""
            },
            "type": "contourcarpet"
           }
          ],
          "heatmap": [
           {
            "colorbar": {
             "outlinewidth": 0,
             "ticks": ""
            },
            "colorscale": [
             [
              0,
              "#0d0887"
             ],
             [
              0.1111111111111111,
              "#46039f"
             ],
             [
              0.2222222222222222,
              "#7201a8"
             ],
             [
              0.3333333333333333,
              "#9c179e"
             ],
             [
              0.4444444444444444,
              "#bd3786"
             ],
             [
              0.5555555555555556,
              "#d8576b"
             ],
             [
              0.6666666666666666,
              "#ed7953"
             ],
             [
              0.7777777777777778,
              "#fb9f3a"
             ],
             [
              0.8888888888888888,
              "#fdca26"
             ],
             [
              1,
              "#f0f921"
             ]
            ],
            "type": "heatmap"
           }
          ],
          "heatmapgl": [
           {
            "colorbar": {
             "outlinewidth": 0,
             "ticks": ""
            },
            "colorscale": [
             [
              0,
              "#0d0887"
             ],
             [
              0.1111111111111111,
              "#46039f"
             ],
             [
              0.2222222222222222,
              "#7201a8"
             ],
             [
              0.3333333333333333,
              "#9c179e"
             ],
             [
              0.4444444444444444,
              "#bd3786"
             ],
             [
              0.5555555555555556,
              "#d8576b"
             ],
             [
              0.6666666666666666,
              "#ed7953"
             ],
             [
              0.7777777777777778,
              "#fb9f3a"
             ],
             [
              0.8888888888888888,
              "#fdca26"
             ],
             [
              1,
              "#f0f921"
             ]
            ],
            "type": "heatmapgl"
           }
          ],
          "histogram": [
           {
            "marker": {
             "colorbar": {
              "outlinewidth": 0,
              "ticks": ""
             }
            },
            "type": "histogram"
           }
          ],
          "histogram2d": [
           {
            "colorbar": {
             "outlinewidth": 0,
             "ticks": ""
            },
            "colorscale": [
             [
              0,
              "#0d0887"
             ],
             [
              0.1111111111111111,
              "#46039f"
             ],
             [
              0.2222222222222222,
              "#7201a8"
             ],
             [
              0.3333333333333333,
              "#9c179e"
             ],
             [
              0.4444444444444444,
              "#bd3786"
             ],
             [
              0.5555555555555556,
              "#d8576b"
             ],
             [
              0.6666666666666666,
              "#ed7953"
             ],
             [
              0.7777777777777778,
              "#fb9f3a"
             ],
             [
              0.8888888888888888,
              "#fdca26"
             ],
             [
              1,
              "#f0f921"
             ]
            ],
            "type": "histogram2d"
           }
          ],
          "histogram2dcontour": [
           {
            "colorbar": {
             "outlinewidth": 0,
             "ticks": ""
            },
            "colorscale": [
             [
              0,
              "#0d0887"
             ],
             [
              0.1111111111111111,
              "#46039f"
             ],
             [
              0.2222222222222222,
              "#7201a8"
             ],
             [
              0.3333333333333333,
              "#9c179e"
             ],
             [
              0.4444444444444444,
              "#bd3786"
             ],
             [
              0.5555555555555556,
              "#d8576b"
             ],
             [
              0.6666666666666666,
              "#ed7953"
             ],
             [
              0.7777777777777778,
              "#fb9f3a"
             ],
             [
              0.8888888888888888,
              "#fdca26"
             ],
             [
              1,
              "#f0f921"
             ]
            ],
            "type": "histogram2dcontour"
           }
          ],
          "mesh3d": [
           {
            "colorbar": {
             "outlinewidth": 0,
             "ticks": ""
            },
            "type": "mesh3d"
           }
          ],
          "parcoords": [
           {
            "line": {
             "colorbar": {
              "outlinewidth": 0,
              "ticks": ""
             }
            },
            "type": "parcoords"
           }
          ],
          "pie": [
           {
            "automargin": true,
            "type": "pie"
           }
          ],
          "scatter": [
           {
            "marker": {
             "colorbar": {
              "outlinewidth": 0,
              "ticks": ""
             }
            },
            "type": "scatter"
           }
          ],
          "scatter3d": [
           {
            "line": {
             "colorbar": {
              "outlinewidth": 0,
              "ticks": ""
             }
            },
            "marker": {
             "colorbar": {
              "outlinewidth": 0,
              "ticks": ""
             }
            },
            "type": "scatter3d"
           }
          ],
          "scattercarpet": [
           {
            "marker": {
             "colorbar": {
              "outlinewidth": 0,
              "ticks": ""
             }
            },
            "type": "scattercarpet"
           }
          ],
          "scattergeo": [
           {
            "marker": {
             "colorbar": {
              "outlinewidth": 0,
              "ticks": ""
             }
            },
            "type": "scattergeo"
           }
          ],
          "scattergl": [
           {
            "marker": {
             "colorbar": {
              "outlinewidth": 0,
              "ticks": ""
             }
            },
            "type": "scattergl"
           }
          ],
          "scattermapbox": [
           {
            "marker": {
             "colorbar": {
              "outlinewidth": 0,
              "ticks": ""
             }
            },
            "type": "scattermapbox"
           }
          ],
          "scatterpolar": [
           {
            "marker": {
             "colorbar": {
              "outlinewidth": 0,
              "ticks": ""
             }
            },
            "type": "scatterpolar"
           }
          ],
          "scatterpolargl": [
           {
            "marker": {
             "colorbar": {
              "outlinewidth": 0,
              "ticks": ""
             }
            },
            "type": "scatterpolargl"
           }
          ],
          "scatterternary": [
           {
            "marker": {
             "colorbar": {
              "outlinewidth": 0,
              "ticks": ""
             }
            },
            "type": "scatterternary"
           }
          ],
          "surface": [
           {
            "colorbar": {
             "outlinewidth": 0,
             "ticks": ""
            },
            "colorscale": [
             [
              0,
              "#0d0887"
             ],
             [
              0.1111111111111111,
              "#46039f"
             ],
             [
              0.2222222222222222,
              "#7201a8"
             ],
             [
              0.3333333333333333,
              "#9c179e"
             ],
             [
              0.4444444444444444,
              "#bd3786"
             ],
             [
              0.5555555555555556,
              "#d8576b"
             ],
             [
              0.6666666666666666,
              "#ed7953"
             ],
             [
              0.7777777777777778,
              "#fb9f3a"
             ],
             [
              0.8888888888888888,
              "#fdca26"
             ],
             [
              1,
              "#f0f921"
             ]
            ],
            "type": "surface"
           }
          ],
          "table": [
           {
            "cells": {
             "fill": {
              "color": "#EBF0F8"
             },
             "line": {
              "color": "white"
             }
            },
            "header": {
             "fill": {
              "color": "#C8D4E3"
             },
             "line": {
              "color": "white"
             }
            },
            "type": "table"
           }
          ]
         },
         "layout": {
          "annotationdefaults": {
           "arrowcolor": "#2a3f5f",
           "arrowhead": 0,
           "arrowwidth": 1
          },
          "autotypenumbers": "strict",
          "coloraxis": {
           "colorbar": {
            "outlinewidth": 0,
            "ticks": ""
           }
          },
          "colorscale": {
           "diverging": [
            [
             0,
             "#8e0152"
            ],
            [
             0.1,
             "#c51b7d"
            ],
            [
             0.2,
             "#de77ae"
            ],
            [
             0.3,
             "#f1b6da"
            ],
            [
             0.4,
             "#fde0ef"
            ],
            [
             0.5,
             "#f7f7f7"
            ],
            [
             0.6,
             "#e6f5d0"
            ],
            [
             0.7,
             "#b8e186"
            ],
            [
             0.8,
             "#7fbc41"
            ],
            [
             0.9,
             "#4d9221"
            ],
            [
             1,
             "#276419"
            ]
           ],
           "sequential": [
            [
             0,
             "#0d0887"
            ],
            [
             0.1111111111111111,
             "#46039f"
            ],
            [
             0.2222222222222222,
             "#7201a8"
            ],
            [
             0.3333333333333333,
             "#9c179e"
            ],
            [
             0.4444444444444444,
             "#bd3786"
            ],
            [
             0.5555555555555556,
             "#d8576b"
            ],
            [
             0.6666666666666666,
             "#ed7953"
            ],
            [
             0.7777777777777778,
             "#fb9f3a"
            ],
            [
             0.8888888888888888,
             "#fdca26"
            ],
            [
             1,
             "#f0f921"
            ]
           ],
           "sequentialminus": [
            [
             0,
             "#0d0887"
            ],
            [
             0.1111111111111111,
             "#46039f"
            ],
            [
             0.2222222222222222,
             "#7201a8"
            ],
            [
             0.3333333333333333,
             "#9c179e"
            ],
            [
             0.4444444444444444,
             "#bd3786"
            ],
            [
             0.5555555555555556,
             "#d8576b"
            ],
            [
             0.6666666666666666,
             "#ed7953"
            ],
            [
             0.7777777777777778,
             "#fb9f3a"
            ],
            [
             0.8888888888888888,
             "#fdca26"
            ],
            [
             1,
             "#f0f921"
            ]
           ]
          },
          "colorway": [
           "#636efa",
           "#EF553B",
           "#00cc96",
           "#ab63fa",
           "#FFA15A",
           "#19d3f3",
           "#FF6692",
           "#B6E880",
           "#FF97FF",
           "#FECB52"
          ],
          "font": {
           "color": "#2a3f5f"
          },
          "geo": {
           "bgcolor": "white",
           "lakecolor": "white",
           "landcolor": "#E5ECF6",
           "showlakes": true,
           "showland": true,
           "subunitcolor": "white"
          },
          "hoverlabel": {
           "align": "left"
          },
          "hovermode": "closest",
          "mapbox": {
           "style": "light"
          },
          "paper_bgcolor": "white",
          "plot_bgcolor": "#E5ECF6",
          "polar": {
           "angularaxis": {
            "gridcolor": "white",
            "linecolor": "white",
            "ticks": ""
           },
           "bgcolor": "#E5ECF6",
           "radialaxis": {
            "gridcolor": "white",
            "linecolor": "white",
            "ticks": ""
           }
          },
          "scene": {
           "xaxis": {
            "backgroundcolor": "#E5ECF6",
            "gridcolor": "white",
            "gridwidth": 2,
            "linecolor": "white",
            "showbackground": true,
            "ticks": "",
            "zerolinecolor": "white"
           },
           "yaxis": {
            "backgroundcolor": "#E5ECF6",
            "gridcolor": "white",
            "gridwidth": 2,
            "linecolor": "white",
            "showbackground": true,
            "ticks": "",
            "zerolinecolor": "white"
           },
           "zaxis": {
            "backgroundcolor": "#E5ECF6",
            "gridcolor": "white",
            "gridwidth": 2,
            "linecolor": "white",
            "showbackground": true,
            "ticks": "",
            "zerolinecolor": "white"
           }
          },
          "shapedefaults": {
           "line": {
            "color": "#2a3f5f"
           }
          },
          "ternary": {
           "aaxis": {
            "gridcolor": "white",
            "linecolor": "white",
            "ticks": ""
           },
           "baxis": {
            "gridcolor": "white",
            "linecolor": "white",
            "ticks": ""
           },
           "bgcolor": "#E5ECF6",
           "caxis": {
            "gridcolor": "white",
            "linecolor": "white",
            "ticks": ""
           }
          },
          "title": {
           "x": 0.05
          },
          "xaxis": {
           "automargin": true,
           "gridcolor": "white",
           "linecolor": "white",
           "ticks": "",
           "title": {
            "standoff": 15
           },
           "zerolinecolor": "white",
           "zerolinewidth": 2
          },
          "yaxis": {
           "automargin": true,
           "gridcolor": "white",
           "linecolor": "white",
           "ticks": "",
           "title": {
            "standoff": 15
           },
           "zerolinecolor": "white",
           "zerolinewidth": 2
          }
         }
        },
        "title": {
         "text": "sigma"
        },
        "width": 1000,
        "yaxis": {
         "dtick": 25,
         "range": [
          -175,
          100
         ],
         "tick0": 0
        }
       }
      }
     },
     "metadata": {}
    },
    {
     "output_type": "display_data",
     "data": {
      "text/plain": "<Figure size 432x288 with 0 Axes>"
     },
     "metadata": {}
    }
   ],
   "source": [
    "plot_vals(6)\n",
    "plt.savefig(\"pictures/results_fig_6.svg\")"
   ]
  },
  {
   "cell_type": "code",
   "execution_count": 35,
   "id": "collected-girlfriend",
   "metadata": {},
   "outputs": [
    {
     "output_type": "display_data",
     "data": {
      "application/vnd.plotly.v1+json": {
       "config": {
        "plotlyServerURL": "https://plot.ly"
       },
       "data": [
        {
         "marker": {
          "color": "#EA4335"
         },
         "mode": "lines+markers",
         "name": "CCE, SD=4",
         "type": "scatter",
         "x": [
          2,
          3,
          4,
          5,
          10,
          20,
          30
         ],
         "y": [
          94.2834275984791,
          91.01051363359095,
          88.46553297264254,
          85.78398123029922,
          76.17887529709651,
          -61.19097859163564,
          -311.40551031597
         ]
        },
        {
         "line": {
          "width": 0
         },
         "marker": {
          "color": "#EA4335"
         },
         "mode": "lines",
         "name": "Upper bound",
         "showlegend": false,
         "type": "scatter",
         "x": [
          2,
          3,
          4,
          5,
          10,
          20,
          30
         ],
         "y": [
          95.18494617291705,
          91.58449972792857,
          88.8329233764751,
          86.40206521578733,
          77.5380465490495,
          -49.61869082051464,
          -297.6718018457639
         ]
        },
        {
         "fill": "tonexty",
         "fillcolor": "rgba(234, 67, 53, 0.2)",
         "line": {
          "width": 0
         },
         "marker": {
          "color": "#EA4335"
         },
         "mode": "lines",
         "name": "Lower bound",
         "showlegend": false,
         "type": "scatter",
         "x": [
          2,
          3,
          4,
          5,
          10,
          20,
          30
         ],
         "y": [
          93.38190902404114,
          90.43652753925332,
          88.09814256880998,
          85.1658972448111,
          74.81970404514352,
          -72.76326636275664,
          -325.13921878617606
         ]
        },
        {
         "marker": {
          "color": "#FBBC04"
         },
         "mode": "lines+markers",
         "name": "JSD, SD=4",
         "type": "scatter",
         "x": [
          2,
          3,
          4,
          5,
          10,
          20,
          30
         ],
         "y": [
          96.17686852371989,
          94.30239790929252,
          92.85333374568651,
          91.22911059521951,
          87.522252220515,
          -15.617020259506798,
          -297.8057297659901
         ]
        },
        {
         "line": {
          "width": 0
         },
         "marker": {
          "color": "#FBBC04"
         },
         "mode": "lines",
         "name": "Upper bound",
         "showlegend": false,
         "type": "scatter",
         "x": [
          2,
          3,
          4,
          5,
          10,
          20,
          30
         ],
         "y": [
          96.49910513593953,
          94.64453709194248,
          93.30561580606185,
          91.84000968855923,
          88.80569778736039,
          -1.6497886148147813,
          -280.11924343333374
         ]
        },
        {
         "fill": "tonexty",
         "fillcolor": "rgba(251, 188, 4, 0.2)",
         "line": {
          "width": 0
         },
         "marker": {
          "color": "#FBBC04"
         },
         "mode": "lines",
         "name": "Lower bound",
         "showlegend": false,
         "type": "scatter",
         "x": [
          2,
          3,
          4,
          5,
          10,
          20,
          30
         ],
         "y": [
          95.85463191150025,
          93.96025872664256,
          92.40105168531117,
          90.61821150187978,
          86.23880665366961,
          -29.584251904198815,
          -315.4922160986465
         ]
        },
        {
         "marker": {
          "color": "#4285F4"
         },
         "mode": "lines+markers",
         "name": "CCEu, SD=4",
         "type": "scatter",
         "x": [
          2,
          3,
          4,
          5,
          10,
          20,
          30
         ],
         "y": [
          -18.683220688258395,
          -15.300565536731503,
          -14.178280922970577,
          -12.16718809416573,
          -11.899289203387033,
          -66.71339766131113,
          -281.36580146713845
         ]
        },
        {
         "line": {
          "width": 0
         },
         "marker": {
          "color": "#4285F4"
         },
         "mode": "lines",
         "name": "Upper bound",
         "showlegend": false,
         "type": "scatter",
         "x": [
          2,
          3,
          4,
          5,
          10,
          20,
          30
         ],
         "y": [
          -14.419012123835715,
          -13.80235882139728,
          -13.26901864885027,
          -10.824972086577127,
          -9.340648997900331,
          -59.21145121925849,
          -267.6133741424728
         ]
        },
        {
         "fill": "tonexty",
         "fillcolor": "rgba(66, 133, 244, 0.2)",
         "line": {
          "width": 0
         },
         "marker": {
          "color": "#4285F4"
         },
         "mode": "lines",
         "name": "Lower bound",
         "showlegend": false,
         "type": "scatter",
         "x": [
          2,
          3,
          4,
          5,
          10,
          20,
          30
         ],
         "y": [
          -22.947429252681076,
          -16.798772252065724,
          -15.087543197090884,
          -13.509404101754335,
          -14.457929408873735,
          -74.21534410336378,
          -295.1182287918041
         ]
        },
        {
         "marker": {
          "color": "#000000"
         },
         "mode": "lines+markers",
         "name": "JSDu, SD=4",
         "type": "scatter",
         "x": [
          2,
          3,
          4,
          5,
          10,
          20,
          30
         ],
         "y": [
          15.447433948874005,
          16.4325262097128,
          19.612920865476116,
          22.803674580912826,
          50.6999940459169,
          0.566256936055737,
          -238.94125642545396
         ]
        },
        {
         "line": {
          "width": 0
         },
         "marker": {
          "color": "#000000"
         },
         "mode": "lines",
         "name": "Upper bound",
         "showlegend": false,
         "type": "scatter",
         "x": [
          2,
          3,
          4,
          5,
          10,
          20,
          30
         ],
         "y": [
          18.154644927668837,
          17.53281186524548,
          20.539210917598947,
          25.73466258296588,
          54.801123412893254,
          8.219277652285765,
          -215.4885704693456
         ]
        },
        {
         "fill": "tonexty",
         "fillcolor": "rgba(0, 0, 0, 0.2)",
         "line": {
          "width": 0
         },
         "marker": {
          "color": "#000000"
         },
         "mode": "lines",
         "name": "Lower bound",
         "showlegend": false,
         "type": "scatter",
         "x": [
          2,
          3,
          4,
          5,
          10,
          20,
          30
         ],
         "y": [
          12.740222970079174,
          15.33224055418012,
          18.686630813353286,
          19.872686578859774,
          46.59886467894055,
          -7.08676378017429,
          -262.3939423815623
         ]
        },
        {
         "marker": {
          "color": "#34A853"
         },
         "mode": "lines+markers",
         "name": "CCE, SD=100",
         "type": "scatter",
         "x": [
          2,
          3,
          4,
          5
         ],
         "y": [
          84.80038223215466,
          68.22133148829586,
          36.23135717278361,
          -31.653659053454994
         ]
        },
        {
         "line": {
          "width": 0
         },
         "marker": {
          "color": "#34A853"
         },
         "mode": "lines",
         "name": "Upper bound",
         "showlegend": false,
         "type": "scatter",
         "x": [
          2,
          3,
          4,
          5
         ],
         "y": [
          87.59507774349836,
          70.28849080249098,
          39.88221002047499,
          -21.245393312052204
         ]
        },
        {
         "fill": "tonexty",
         "fillcolor": "rgba(52, 168, 83, 0.2)",
         "line": {
          "width": 0
         },
         "marker": {
          "color": "#34A853"
         },
         "mode": "lines",
         "name": "Lower bound",
         "showlegend": false,
         "type": "scatter",
         "x": [
          2,
          3,
          4,
          5
         ],
         "y": [
          82.00568672081096,
          66.15417217410074,
          32.58050432509223,
          -42.06192479485779
         ]
        },
        {
         "marker": {
          "color": "#46BDC6"
         },
         "mode": "lines+markers",
         "name": "JSD, SD=100",
         "type": "scatter",
         "x": [
          2,
          3,
          4,
          5
         ],
         "y": [
          87.79439929923767,
          84.02747539608927,
          11.155303999485646,
          -18.55642484117017
         ]
        },
        {
         "line": {
          "width": 0
         },
         "marker": {
          "color": "#46BDC6"
         },
         "mode": "lines",
         "name": "Upper bound",
         "showlegend": false,
         "type": "scatter",
         "x": [
          2,
          3,
          4,
          5
         ],
         "y": [
          89.84786452396368,
          85.4927606987678,
          23.668107861539742,
          -10.487568594987845
         ]
        },
        {
         "fill": "tonexty",
         "fillcolor": "rgba(70, 189, 198, 0.2)",
         "line": {
          "width": 0
         },
         "marker": {
          "color": "#46BDC6"
         },
         "mode": "lines",
         "name": "Lower bound",
         "showlegend": false,
         "type": "scatter",
         "x": [
          2,
          3,
          4,
          5
         ],
         "y": [
          85.74093407451166,
          82.56219009341075,
          -1.3574998625684493,
          -26.625281087352494
         ]
        }
       ],
       "layout": {
        "height": 600,
        "template": {
         "data": {
          "bar": [
           {
            "error_x": {
             "color": "#2a3f5f"
            },
            "error_y": {
             "color": "#2a3f5f"
            },
            "marker": {
             "line": {
              "color": "#E5ECF6",
              "width": 0.5
             }
            },
            "type": "bar"
           }
          ],
          "barpolar": [
           {
            "marker": {
             "line": {
              "color": "#E5ECF6",
              "width": 0.5
             }
            },
            "type": "barpolar"
           }
          ],
          "carpet": [
           {
            "aaxis": {
             "endlinecolor": "#2a3f5f",
             "gridcolor": "white",
             "linecolor": "white",
             "minorgridcolor": "white",
             "startlinecolor": "#2a3f5f"
            },
            "baxis": {
             "endlinecolor": "#2a3f5f",
             "gridcolor": "white",
             "linecolor": "white",
             "minorgridcolor": "white",
             "startlinecolor": "#2a3f5f"
            },
            "type": "carpet"
           }
          ],
          "choropleth": [
           {
            "colorbar": {
             "outlinewidth": 0,
             "ticks": ""
            },
            "type": "choropleth"
           }
          ],
          "contour": [
           {
            "colorbar": {
             "outlinewidth": 0,
             "ticks": ""
            },
            "colorscale": [
             [
              0,
              "#0d0887"
             ],
             [
              0.1111111111111111,
              "#46039f"
             ],
             [
              0.2222222222222222,
              "#7201a8"
             ],
             [
              0.3333333333333333,
              "#9c179e"
             ],
             [
              0.4444444444444444,
              "#bd3786"
             ],
             [
              0.5555555555555556,
              "#d8576b"
             ],
             [
              0.6666666666666666,
              "#ed7953"
             ],
             [
              0.7777777777777778,
              "#fb9f3a"
             ],
             [
              0.8888888888888888,
              "#fdca26"
             ],
             [
              1,
              "#f0f921"
             ]
            ],
            "type": "contour"
           }
          ],
          "contourcarpet": [
           {
            "colorbar": {
             "outlinewidth": 0,
             "ticks": ""
            },
            "type": "contourcarpet"
           }
          ],
          "heatmap": [
           {
            "colorbar": {
             "outlinewidth": 0,
             "ticks": ""
            },
            "colorscale": [
             [
              0,
              "#0d0887"
             ],
             [
              0.1111111111111111,
              "#46039f"
             ],
             [
              0.2222222222222222,
              "#7201a8"
             ],
             [
              0.3333333333333333,
              "#9c179e"
             ],
             [
              0.4444444444444444,
              "#bd3786"
             ],
             [
              0.5555555555555556,
              "#d8576b"
             ],
             [
              0.6666666666666666,
              "#ed7953"
             ],
             [
              0.7777777777777778,
              "#fb9f3a"
             ],
             [
              0.8888888888888888,
              "#fdca26"
             ],
             [
              1,
              "#f0f921"
             ]
            ],
            "type": "heatmap"
           }
          ],
          "heatmapgl": [
           {
            "colorbar": {
             "outlinewidth": 0,
             "ticks": ""
            },
            "colorscale": [
             [
              0,
              "#0d0887"
             ],
             [
              0.1111111111111111,
              "#46039f"
             ],
             [
              0.2222222222222222,
              "#7201a8"
             ],
             [
              0.3333333333333333,
              "#9c179e"
             ],
             [
              0.4444444444444444,
              "#bd3786"
             ],
             [
              0.5555555555555556,
              "#d8576b"
             ],
             [
              0.6666666666666666,
              "#ed7953"
             ],
             [
              0.7777777777777778,
              "#fb9f3a"
             ],
             [
              0.8888888888888888,
              "#fdca26"
             ],
             [
              1,
              "#f0f921"
             ]
            ],
            "type": "heatmapgl"
           }
          ],
          "histogram": [
           {
            "marker": {
             "colorbar": {
              "outlinewidth": 0,
              "ticks": ""
             }
            },
            "type": "histogram"
           }
          ],
          "histogram2d": [
           {
            "colorbar": {
             "outlinewidth": 0,
             "ticks": ""
            },
            "colorscale": [
             [
              0,
              "#0d0887"
             ],
             [
              0.1111111111111111,
              "#46039f"
             ],
             [
              0.2222222222222222,
              "#7201a8"
             ],
             [
              0.3333333333333333,
              "#9c179e"
             ],
             [
              0.4444444444444444,
              "#bd3786"
             ],
             [
              0.5555555555555556,
              "#d8576b"
             ],
             [
              0.6666666666666666,
              "#ed7953"
             ],
             [
              0.7777777777777778,
              "#fb9f3a"
             ],
             [
              0.8888888888888888,
              "#fdca26"
             ],
             [
              1,
              "#f0f921"
             ]
            ],
            "type": "histogram2d"
           }
          ],
          "histogram2dcontour": [
           {
            "colorbar": {
             "outlinewidth": 0,
             "ticks": ""
            },
            "colorscale": [
             [
              0,
              "#0d0887"
             ],
             [
              0.1111111111111111,
              "#46039f"
             ],
             [
              0.2222222222222222,
              "#7201a8"
             ],
             [
              0.3333333333333333,
              "#9c179e"
             ],
             [
              0.4444444444444444,
              "#bd3786"
             ],
             [
              0.5555555555555556,
              "#d8576b"
             ],
             [
              0.6666666666666666,
              "#ed7953"
             ],
             [
              0.7777777777777778,
              "#fb9f3a"
             ],
             [
              0.8888888888888888,
              "#fdca26"
             ],
             [
              1,
              "#f0f921"
             ]
            ],
            "type": "histogram2dcontour"
           }
          ],
          "mesh3d": [
           {
            "colorbar": {
             "outlinewidth": 0,
             "ticks": ""
            },
            "type": "mesh3d"
           }
          ],
          "parcoords": [
           {
            "line": {
             "colorbar": {
              "outlinewidth": 0,
              "ticks": ""
             }
            },
            "type": "parcoords"
           }
          ],
          "pie": [
           {
            "automargin": true,
            "type": "pie"
           }
          ],
          "scatter": [
           {
            "marker": {
             "colorbar": {
              "outlinewidth": 0,
              "ticks": ""
             }
            },
            "type": "scatter"
           }
          ],
          "scatter3d": [
           {
            "line": {
             "colorbar": {
              "outlinewidth": 0,
              "ticks": ""
             }
            },
            "marker": {
             "colorbar": {
              "outlinewidth": 0,
              "ticks": ""
             }
            },
            "type": "scatter3d"
           }
          ],
          "scattercarpet": [
           {
            "marker": {
             "colorbar": {
              "outlinewidth": 0,
              "ticks": ""
             }
            },
            "type": "scattercarpet"
           }
          ],
          "scattergeo": [
           {
            "marker": {
             "colorbar": {
              "outlinewidth": 0,
              "ticks": ""
             }
            },
            "type": "scattergeo"
           }
          ],
          "scattergl": [
           {
            "marker": {
             "colorbar": {
              "outlinewidth": 0,
              "ticks": ""
             }
            },
            "type": "scattergl"
           }
          ],
          "scattermapbox": [
           {
            "marker": {
             "colorbar": {
              "outlinewidth": 0,
              "ticks": ""
             }
            },
            "type": "scattermapbox"
           }
          ],
          "scatterpolar": [
           {
            "marker": {
             "colorbar": {
              "outlinewidth": 0,
              "ticks": ""
             }
            },
            "type": "scatterpolar"
           }
          ],
          "scatterpolargl": [
           {
            "marker": {
             "colorbar": {
              "outlinewidth": 0,
              "ticks": ""
             }
            },
            "type": "scatterpolargl"
           }
          ],
          "scatterternary": [
           {
            "marker": {
             "colorbar": {
              "outlinewidth": 0,
              "ticks": ""
             }
            },
            "type": "scatterternary"
           }
          ],
          "surface": [
           {
            "colorbar": {
             "outlinewidth": 0,
             "ticks": ""
            },
            "colorscale": [
             [
              0,
              "#0d0887"
             ],
             [
              0.1111111111111111,
              "#46039f"
             ],
             [
              0.2222222222222222,
              "#7201a8"
             ],
             [
              0.3333333333333333,
              "#9c179e"
             ],
             [
              0.4444444444444444,
              "#bd3786"
             ],
             [
              0.5555555555555556,
              "#d8576b"
             ],
             [
              0.6666666666666666,
              "#ed7953"
             ],
             [
              0.7777777777777778,
              "#fb9f3a"
             ],
             [
              0.8888888888888888,
              "#fdca26"
             ],
             [
              1,
              "#f0f921"
             ]
            ],
            "type": "surface"
           }
          ],
          "table": [
           {
            "cells": {
             "fill": {
              "color": "#EBF0F8"
             },
             "line": {
              "color": "white"
             }
            },
            "header": {
             "fill": {
              "color": "#C8D4E3"
             },
             "line": {
              "color": "white"
             }
            },
            "type": "table"
           }
          ]
         },
         "layout": {
          "annotationdefaults": {
           "arrowcolor": "#2a3f5f",
           "arrowhead": 0,
           "arrowwidth": 1
          },
          "autotypenumbers": "strict",
          "coloraxis": {
           "colorbar": {
            "outlinewidth": 0,
            "ticks": ""
           }
          },
          "colorscale": {
           "diverging": [
            [
             0,
             "#8e0152"
            ],
            [
             0.1,
             "#c51b7d"
            ],
            [
             0.2,
             "#de77ae"
            ],
            [
             0.3,
             "#f1b6da"
            ],
            [
             0.4,
             "#fde0ef"
            ],
            [
             0.5,
             "#f7f7f7"
            ],
            [
             0.6,
             "#e6f5d0"
            ],
            [
             0.7,
             "#b8e186"
            ],
            [
             0.8,
             "#7fbc41"
            ],
            [
             0.9,
             "#4d9221"
            ],
            [
             1,
             "#276419"
            ]
           ],
           "sequential": [
            [
             0,
             "#0d0887"
            ],
            [
             0.1111111111111111,
             "#46039f"
            ],
            [
             0.2222222222222222,
             "#7201a8"
            ],
            [
             0.3333333333333333,
             "#9c179e"
            ],
            [
             0.4444444444444444,
             "#bd3786"
            ],
            [
             0.5555555555555556,
             "#d8576b"
            ],
            [
             0.6666666666666666,
             "#ed7953"
            ],
            [
             0.7777777777777778,
             "#fb9f3a"
            ],
            [
             0.8888888888888888,
             "#fdca26"
            ],
            [
             1,
             "#f0f921"
            ]
           ],
           "sequentialminus": [
            [
             0,
             "#0d0887"
            ],
            [
             0.1111111111111111,
             "#46039f"
            ],
            [
             0.2222222222222222,
             "#7201a8"
            ],
            [
             0.3333333333333333,
             "#9c179e"
            ],
            [
             0.4444444444444444,
             "#bd3786"
            ],
            [
             0.5555555555555556,
             "#d8576b"
            ],
            [
             0.6666666666666666,
             "#ed7953"
            ],
            [
             0.7777777777777778,
             "#fb9f3a"
            ],
            [
             0.8888888888888888,
             "#fdca26"
            ],
            [
             1,
             "#f0f921"
            ]
           ]
          },
          "colorway": [
           "#636efa",
           "#EF553B",
           "#00cc96",
           "#ab63fa",
           "#FFA15A",
           "#19d3f3",
           "#FF6692",
           "#B6E880",
           "#FF97FF",
           "#FECB52"
          ],
          "font": {
           "color": "#2a3f5f"
          },
          "geo": {
           "bgcolor": "white",
           "lakecolor": "white",
           "landcolor": "#E5ECF6",
           "showlakes": true,
           "showland": true,
           "subunitcolor": "white"
          },
          "hoverlabel": {
           "align": "left"
          },
          "hovermode": "closest",
          "mapbox": {
           "style": "light"
          },
          "paper_bgcolor": "white",
          "plot_bgcolor": "#E5ECF6",
          "polar": {
           "angularaxis": {
            "gridcolor": "white",
            "linecolor": "white",
            "ticks": ""
           },
           "bgcolor": "#E5ECF6",
           "radialaxis": {
            "gridcolor": "white",
            "linecolor": "white",
            "ticks": ""
           }
          },
          "scene": {
           "xaxis": {
            "backgroundcolor": "#E5ECF6",
            "gridcolor": "white",
            "gridwidth": 2,
            "linecolor": "white",
            "showbackground": true,
            "ticks": "",
            "zerolinecolor": "white"
           },
           "yaxis": {
            "backgroundcolor": "#E5ECF6",
            "gridcolor": "white",
            "gridwidth": 2,
            "linecolor": "white",
            "showbackground": true,
            "ticks": "",
            "zerolinecolor": "white"
           },
           "zaxis": {
            "backgroundcolor": "#E5ECF6",
            "gridcolor": "white",
            "gridwidth": 2,
            "linecolor": "white",
            "showbackground": true,
            "ticks": "",
            "zerolinecolor": "white"
           }
          },
          "shapedefaults": {
           "line": {
            "color": "#2a3f5f"
           }
          },
          "ternary": {
           "aaxis": {
            "gridcolor": "white",
            "linecolor": "white",
            "ticks": ""
           },
           "baxis": {
            "gridcolor": "white",
            "linecolor": "white",
            "ticks": ""
           },
           "bgcolor": "#E5ECF6",
           "caxis": {
            "gridcolor": "white",
            "linecolor": "white",
            "ticks": ""
           }
          },
          "title": {
           "x": 0.05
          },
          "xaxis": {
           "automargin": true,
           "gridcolor": "white",
           "linecolor": "white",
           "ticks": "",
           "title": {
            "standoff": 15
           },
           "zerolinecolor": "white",
           "zerolinewidth": 2
          },
          "yaxis": {
           "automargin": true,
           "gridcolor": "white",
           "linecolor": "white",
           "ticks": "",
           "title": {
            "standoff": 15
           },
           "zerolinecolor": "white",
           "zerolinewidth": 2
          }
         }
        },
        "title": {
         "text": "BN_size"
        },
        "width": 1000,
        "yaxis": {
         "dtick": 25,
         "range": [
          -175,
          100
         ],
         "tick0": 0
        }
       }
      }
     },
     "metadata": {}
    },
    {
     "output_type": "display_data",
     "data": {
      "text/plain": "<Figure size 432x288 with 0 Axes>"
     },
     "metadata": {}
    }
   ],
   "source": [
    "plot_vals(7)\n",
    "plt.savefig(\"pictures/results_fig_7.svg\")"
   ]
  },
  {
   "cell_type": "code",
   "execution_count": 36,
   "id": "armed-network",
   "metadata": {},
   "outputs": [
    {
     "output_type": "display_data",
     "data": {
      "application/vnd.plotly.v1+json": {
       "config": {
        "plotlyServerURL": "https://plot.ly"
       },
       "data": [
        {
         "marker": {
          "color": "#EA4335"
         },
         "mode": "lines+markers",
         "name": "CCE, SD=4",
         "type": "scatter",
         "x": [
          5,
          2,
          1,
          0.5,
          0.25,
          0.125
         ],
         "y": [
          95.14608173069091,
          91.01051363359095,
          87.3038764382734,
          78.94863944097565,
          69.09564120865524,
          61.198099602249904
         ]
        },
        {
         "line": {
          "width": 0
         },
         "marker": {
          "color": "#EA4335"
         },
         "mode": "lines",
         "name": "Upper bound",
         "showlegend": false,
         "type": "scatter",
         "x": [
          5,
          2,
          1,
          0.5,
          0.25,
          0.125
         ],
         "y": [
          95.48218237295842,
          91.58449972792857,
          87.66581885819946,
          82.12730816153116,
          73.77471665288743,
          71.07961463212864
         ]
        },
        {
         "fill": "tonexty",
         "fillcolor": "rgba(234, 67, 53, 0.2)",
         "line": {
          "width": 0
         },
         "marker": {
          "color": "#EA4335"
         },
         "mode": "lines",
         "name": "Lower bound",
         "showlegend": false,
         "type": "scatter",
         "x": [
          5,
          2,
          1,
          0.5,
          0.25,
          0.125
         ],
         "y": [
          94.8099810884234,
          90.43652753925332,
          86.94193401834735,
          75.76997072042015,
          64.41656576442304,
          51.31658457237117
         ]
        },
        {
         "marker": {
          "color": "#FBBC04"
         },
         "mode": "lines+markers",
         "name": "JSD, SD=4",
         "type": "scatter",
         "x": [
          5,
          2,
          1,
          0.5,
          0.25,
          0.125
         ],
         "y": [
          96.86513087023964,
          94.30239790929252,
          91.99843889781381,
          87.82185167722544,
          78.8424436037054,
          73.0939782381722
         ]
        },
        {
         "line": {
          "width": 0
         },
         "marker": {
          "color": "#FBBC04"
         },
         "mode": "lines",
         "name": "Upper bound",
         "showlegend": false,
         "type": "scatter",
         "x": [
          5,
          2,
          1,
          0.5,
          0.25,
          0.125
         ],
         "y": [
          96.99209844035563,
          94.64453709194248,
          92.51306899174148,
          88.3549489957249,
          82.77124276178483,
          79.50531380598014
         ]
        },
        {
         "fill": "tonexty",
         "fillcolor": "rgba(251, 188, 4, 0.2)",
         "line": {
          "width": 0
         },
         "marker": {
          "color": "#FBBC04"
         },
         "mode": "lines",
         "name": "Lower bound",
         "showlegend": false,
         "type": "scatter",
         "x": [
          5,
          2,
          1,
          0.5,
          0.25,
          0.125
         ],
         "y": [
          96.73816330012365,
          93.96025872664256,
          91.48380880388615,
          87.28875435872598,
          74.91364444562598,
          66.68264267036426
         ]
        },
        {
         "marker": {
          "color": "#34A853"
         },
         "mode": "lines+markers",
         "name": "CCE, SD=100",
         "type": "scatter",
         "x": [
          5,
          2,
          1,
          0.5,
          0.25,
          0.125
         ],
         "y": [
          85.80558712056396,
          68.22133148829586,
          49.79398652763946,
          32.52899120357747,
          18.613504674306917,
          4.432632111839084
         ]
        },
        {
         "line": {
          "width": 0
         },
         "marker": {
          "color": "#34A853"
         },
         "mode": "lines",
         "name": "Upper bound",
         "showlegend": false,
         "type": "scatter",
         "x": [
          5,
          2,
          1,
          0.5,
          0.25,
          0.125
         ],
         "y": [
          86.89312797773691,
          70.28849080249098,
          52.8062448861539,
          37.10646008517656,
          23.02698069632704,
          9.563007746384205
         ]
        },
        {
         "fill": "tonexty",
         "fillcolor": "rgba(52, 168, 83, 0.2)",
         "line": {
          "width": 0
         },
         "marker": {
          "color": "#34A853"
         },
         "mode": "lines",
         "name": "Lower bound",
         "showlegend": false,
         "type": "scatter",
         "x": [
          5,
          2,
          1,
          0.5,
          0.25,
          0.125
         ],
         "y": [
          84.718046263391,
          66.15417217410074,
          46.781728169125024,
          27.95152232197838,
          14.200028652286793,
          -0.6977435227060376
         ]
        },
        {
         "marker": {
          "color": "#46BDC6"
         },
         "mode": "lines+markers",
         "name": "JSD, SD=100",
         "type": "scatter",
         "x": [
          5,
          2,
          1,
          0.5,
          0.25,
          0.125
         ],
         "y": [
          91.29768788604466,
          84.02747539608927,
          78.1571125605779,
          75.66039900914839,
          70.30117546300677,
          61.478647538233986
         ]
        },
        {
         "line": {
          "width": 0
         },
         "marker": {
          "color": "#46BDC6"
         },
         "mode": "lines",
         "name": "Upper bound",
         "showlegend": false,
         "type": "scatter",
         "x": [
          5,
          2,
          1,
          0.5,
          0.25,
          0.125
         ],
         "y": [
          92.03594458837124,
          85.4927606987678,
          80.37878514422913,
          78.85659165151127,
          72.30038148389201,
          65.29992346867463
         ]
        },
        {
         "fill": "tonexty",
         "fillcolor": "rgba(70, 189, 198, 0.2)",
         "line": {
          "width": 0
         },
         "marker": {
          "color": "#46BDC6"
         },
         "mode": "lines",
         "name": "Lower bound",
         "showlegend": false,
         "type": "scatter",
         "x": [
          5,
          2,
          1,
          0.5,
          0.25,
          0.125
         ],
         "y": [
          90.55943118371808,
          82.56219009341075,
          75.93543997692667,
          72.46420636678552,
          68.30196944212153,
          57.65737160779333
         ]
        }
       ],
       "layout": {
        "height": 600,
        "template": {
         "data": {
          "bar": [
           {
            "error_x": {
             "color": "#2a3f5f"
            },
            "error_y": {
             "color": "#2a3f5f"
            },
            "marker": {
             "line": {
              "color": "#E5ECF6",
              "width": 0.5
             }
            },
            "type": "bar"
           }
          ],
          "barpolar": [
           {
            "marker": {
             "line": {
              "color": "#E5ECF6",
              "width": 0.5
             }
            },
            "type": "barpolar"
           }
          ],
          "carpet": [
           {
            "aaxis": {
             "endlinecolor": "#2a3f5f",
             "gridcolor": "white",
             "linecolor": "white",
             "minorgridcolor": "white",
             "startlinecolor": "#2a3f5f"
            },
            "baxis": {
             "endlinecolor": "#2a3f5f",
             "gridcolor": "white",
             "linecolor": "white",
             "minorgridcolor": "white",
             "startlinecolor": "#2a3f5f"
            },
            "type": "carpet"
           }
          ],
          "choropleth": [
           {
            "colorbar": {
             "outlinewidth": 0,
             "ticks": ""
            },
            "type": "choropleth"
           }
          ],
          "contour": [
           {
            "colorbar": {
             "outlinewidth": 0,
             "ticks": ""
            },
            "colorscale": [
             [
              0,
              "#0d0887"
             ],
             [
              0.1111111111111111,
              "#46039f"
             ],
             [
              0.2222222222222222,
              "#7201a8"
             ],
             [
              0.3333333333333333,
              "#9c179e"
             ],
             [
              0.4444444444444444,
              "#bd3786"
             ],
             [
              0.5555555555555556,
              "#d8576b"
             ],
             [
              0.6666666666666666,
              "#ed7953"
             ],
             [
              0.7777777777777778,
              "#fb9f3a"
             ],
             [
              0.8888888888888888,
              "#fdca26"
             ],
             [
              1,
              "#f0f921"
             ]
            ],
            "type": "contour"
           }
          ],
          "contourcarpet": [
           {
            "colorbar": {
             "outlinewidth": 0,
             "ticks": ""
            },
            "type": "contourcarpet"
           }
          ],
          "heatmap": [
           {
            "colorbar": {
             "outlinewidth": 0,
             "ticks": ""
            },
            "colorscale": [
             [
              0,
              "#0d0887"
             ],
             [
              0.1111111111111111,
              "#46039f"
             ],
             [
              0.2222222222222222,
              "#7201a8"
             ],
             [
              0.3333333333333333,
              "#9c179e"
             ],
             [
              0.4444444444444444,
              "#bd3786"
             ],
             [
              0.5555555555555556,
              "#d8576b"
             ],
             [
              0.6666666666666666,
              "#ed7953"
             ],
             [
              0.7777777777777778,
              "#fb9f3a"
             ],
             [
              0.8888888888888888,
              "#fdca26"
             ],
             [
              1,
              "#f0f921"
             ]
            ],
            "type": "heatmap"
           }
          ],
          "heatmapgl": [
           {
            "colorbar": {
             "outlinewidth": 0,
             "ticks": ""
            },
            "colorscale": [
             [
              0,
              "#0d0887"
             ],
             [
              0.1111111111111111,
              "#46039f"
             ],
             [
              0.2222222222222222,
              "#7201a8"
             ],
             [
              0.3333333333333333,
              "#9c179e"
             ],
             [
              0.4444444444444444,
              "#bd3786"
             ],
             [
              0.5555555555555556,
              "#d8576b"
             ],
             [
              0.6666666666666666,
              "#ed7953"
             ],
             [
              0.7777777777777778,
              "#fb9f3a"
             ],
             [
              0.8888888888888888,
              "#fdca26"
             ],
             [
              1,
              "#f0f921"
             ]
            ],
            "type": "heatmapgl"
           }
          ],
          "histogram": [
           {
            "marker": {
             "colorbar": {
              "outlinewidth": 0,
              "ticks": ""
             }
            },
            "type": "histogram"
           }
          ],
          "histogram2d": [
           {
            "colorbar": {
             "outlinewidth": 0,
             "ticks": ""
            },
            "colorscale": [
             [
              0,
              "#0d0887"
             ],
             [
              0.1111111111111111,
              "#46039f"
             ],
             [
              0.2222222222222222,
              "#7201a8"
             ],
             [
              0.3333333333333333,
              "#9c179e"
             ],
             [
              0.4444444444444444,
              "#bd3786"
             ],
             [
              0.5555555555555556,
              "#d8576b"
             ],
             [
              0.6666666666666666,
              "#ed7953"
             ],
             [
              0.7777777777777778,
              "#fb9f3a"
             ],
             [
              0.8888888888888888,
              "#fdca26"
             ],
             [
              1,
              "#f0f921"
             ]
            ],
            "type": "histogram2d"
           }
          ],
          "histogram2dcontour": [
           {
            "colorbar": {
             "outlinewidth": 0,
             "ticks": ""
            },
            "colorscale": [
             [
              0,
              "#0d0887"
             ],
             [
              0.1111111111111111,
              "#46039f"
             ],
             [
              0.2222222222222222,
              "#7201a8"
             ],
             [
              0.3333333333333333,
              "#9c179e"
             ],
             [
              0.4444444444444444,
              "#bd3786"
             ],
             [
              0.5555555555555556,
              "#d8576b"
             ],
             [
              0.6666666666666666,
              "#ed7953"
             ],
             [
              0.7777777777777778,
              "#fb9f3a"
             ],
             [
              0.8888888888888888,
              "#fdca26"
             ],
             [
              1,
              "#f0f921"
             ]
            ],
            "type": "histogram2dcontour"
           }
          ],
          "mesh3d": [
           {
            "colorbar": {
             "outlinewidth": 0,
             "ticks": ""
            },
            "type": "mesh3d"
           }
          ],
          "parcoords": [
           {
            "line": {
             "colorbar": {
              "outlinewidth": 0,
              "ticks": ""
             }
            },
            "type": "parcoords"
           }
          ],
          "pie": [
           {
            "automargin": true,
            "type": "pie"
           }
          ],
          "scatter": [
           {
            "marker": {
             "colorbar": {
              "outlinewidth": 0,
              "ticks": ""
             }
            },
            "type": "scatter"
           }
          ],
          "scatter3d": [
           {
            "line": {
             "colorbar": {
              "outlinewidth": 0,
              "ticks": ""
             }
            },
            "marker": {
             "colorbar": {
              "outlinewidth": 0,
              "ticks": ""
             }
            },
            "type": "scatter3d"
           }
          ],
          "scattercarpet": [
           {
            "marker": {
             "colorbar": {
              "outlinewidth": 0,
              "ticks": ""
             }
            },
            "type": "scattercarpet"
           }
          ],
          "scattergeo": [
           {
            "marker": {
             "colorbar": {
              "outlinewidth": 0,
              "ticks": ""
             }
            },
            "type": "scattergeo"
           }
          ],
          "scattergl": [
           {
            "marker": {
             "colorbar": {
              "outlinewidth": 0,
              "ticks": ""
             }
            },
            "type": "scattergl"
           }
          ],
          "scattermapbox": [
           {
            "marker": {
             "colorbar": {
              "outlinewidth": 0,
              "ticks": ""
             }
            },
            "type": "scattermapbox"
           }
          ],
          "scatterpolar": [
           {
            "marker": {
             "colorbar": {
              "outlinewidth": 0,
              "ticks": ""
             }
            },
            "type": "scatterpolar"
           }
          ],
          "scatterpolargl": [
           {
            "marker": {
             "colorbar": {
              "outlinewidth": 0,
              "ticks": ""
             }
            },
            "type": "scatterpolargl"
           }
          ],
          "scatterternary": [
           {
            "marker": {
             "colorbar": {
              "outlinewidth": 0,
              "ticks": ""
             }
            },
            "type": "scatterternary"
           }
          ],
          "surface": [
           {
            "colorbar": {
             "outlinewidth": 0,
             "ticks": ""
            },
            "colorscale": [
             [
              0,
              "#0d0887"
             ],
             [
              0.1111111111111111,
              "#46039f"
             ],
             [
              0.2222222222222222,
              "#7201a8"
             ],
             [
              0.3333333333333333,
              "#9c179e"
             ],
             [
              0.4444444444444444,
              "#bd3786"
             ],
             [
              0.5555555555555556,
              "#d8576b"
             ],
             [
              0.6666666666666666,
              "#ed7953"
             ],
             [
              0.7777777777777778,
              "#fb9f3a"
             ],
             [
              0.8888888888888888,
              "#fdca26"
             ],
             [
              1,
              "#f0f921"
             ]
            ],
            "type": "surface"
           }
          ],
          "table": [
           {
            "cells": {
             "fill": {
              "color": "#EBF0F8"
             },
             "line": {
              "color": "white"
             }
            },
            "header": {
             "fill": {
              "color": "#C8D4E3"
             },
             "line": {
              "color": "white"
             }
            },
            "type": "table"
           }
          ]
         },
         "layout": {
          "annotationdefaults": {
           "arrowcolor": "#2a3f5f",
           "arrowhead": 0,
           "arrowwidth": 1
          },
          "autotypenumbers": "strict",
          "coloraxis": {
           "colorbar": {
            "outlinewidth": 0,
            "ticks": ""
           }
          },
          "colorscale": {
           "diverging": [
            [
             0,
             "#8e0152"
            ],
            [
             0.1,
             "#c51b7d"
            ],
            [
             0.2,
             "#de77ae"
            ],
            [
             0.3,
             "#f1b6da"
            ],
            [
             0.4,
             "#fde0ef"
            ],
            [
             0.5,
             "#f7f7f7"
            ],
            [
             0.6,
             "#e6f5d0"
            ],
            [
             0.7,
             "#b8e186"
            ],
            [
             0.8,
             "#7fbc41"
            ],
            [
             0.9,
             "#4d9221"
            ],
            [
             1,
             "#276419"
            ]
           ],
           "sequential": [
            [
             0,
             "#0d0887"
            ],
            [
             0.1111111111111111,
             "#46039f"
            ],
            [
             0.2222222222222222,
             "#7201a8"
            ],
            [
             0.3333333333333333,
             "#9c179e"
            ],
            [
             0.4444444444444444,
             "#bd3786"
            ],
            [
             0.5555555555555556,
             "#d8576b"
            ],
            [
             0.6666666666666666,
             "#ed7953"
            ],
            [
             0.7777777777777778,
             "#fb9f3a"
            ],
            [
             0.8888888888888888,
             "#fdca26"
            ],
            [
             1,
             "#f0f921"
            ]
           ],
           "sequentialminus": [
            [
             0,
             "#0d0887"
            ],
            [
             0.1111111111111111,
             "#46039f"
            ],
            [
             0.2222222222222222,
             "#7201a8"
            ],
            [
             0.3333333333333333,
             "#9c179e"
            ],
            [
             0.4444444444444444,
             "#bd3786"
            ],
            [
             0.5555555555555556,
             "#d8576b"
            ],
            [
             0.6666666666666666,
             "#ed7953"
            ],
            [
             0.7777777777777778,
             "#fb9f3a"
            ],
            [
             0.8888888888888888,
             "#fdca26"
            ],
            [
             1,
             "#f0f921"
            ]
           ]
          },
          "colorway": [
           "#636efa",
           "#EF553B",
           "#00cc96",
           "#ab63fa",
           "#FFA15A",
           "#19d3f3",
           "#FF6692",
           "#B6E880",
           "#FF97FF",
           "#FECB52"
          ],
          "font": {
           "color": "#2a3f5f"
          },
          "geo": {
           "bgcolor": "white",
           "lakecolor": "white",
           "landcolor": "#E5ECF6",
           "showlakes": true,
           "showland": true,
           "subunitcolor": "white"
          },
          "hoverlabel": {
           "align": "left"
          },
          "hovermode": "closest",
          "mapbox": {
           "style": "light"
          },
          "paper_bgcolor": "white",
          "plot_bgcolor": "#E5ECF6",
          "polar": {
           "angularaxis": {
            "gridcolor": "white",
            "linecolor": "white",
            "ticks": ""
           },
           "bgcolor": "#E5ECF6",
           "radialaxis": {
            "gridcolor": "white",
            "linecolor": "white",
            "ticks": ""
           }
          },
          "scene": {
           "xaxis": {
            "backgroundcolor": "#E5ECF6",
            "gridcolor": "white",
            "gridwidth": 2,
            "linecolor": "white",
            "showbackground": true,
            "ticks": "",
            "zerolinecolor": "white"
           },
           "yaxis": {
            "backgroundcolor": "#E5ECF6",
            "gridcolor": "white",
            "gridwidth": 2,
            "linecolor": "white",
            "showbackground": true,
            "ticks": "",
            "zerolinecolor": "white"
           },
           "zaxis": {
            "backgroundcolor": "#E5ECF6",
            "gridcolor": "white",
            "gridwidth": 2,
            "linecolor": "white",
            "showbackground": true,
            "ticks": "",
            "zerolinecolor": "white"
           }
          },
          "shapedefaults": {
           "line": {
            "color": "#2a3f5f"
           }
          },
          "ternary": {
           "aaxis": {
            "gridcolor": "white",
            "linecolor": "white",
            "ticks": ""
           },
           "baxis": {
            "gridcolor": "white",
            "linecolor": "white",
            "ticks": ""
           },
           "bgcolor": "#E5ECF6",
           "caxis": {
            "gridcolor": "white",
            "linecolor": "white",
            "ticks": ""
           }
          },
          "title": {
           "x": 0.05
          },
          "xaxis": {
           "automargin": true,
           "gridcolor": "white",
           "linecolor": "white",
           "ticks": "",
           "title": {
            "standoff": 15
           },
           "zerolinecolor": "white",
           "zerolinewidth": 2
          },
          "yaxis": {
           "automargin": true,
           "gridcolor": "white",
           "linecolor": "white",
           "ticks": "",
           "title": {
            "standoff": 15
           },
           "zerolinecolor": "white",
           "zerolinewidth": 2
          }
         }
        },
        "title": {
         "text": "labeled_data_percentage"
        },
        "width": 1000,
        "yaxis": {
         "dtick": 25,
         "range": [
          -175,
          100
         ],
         "tick0": 0
        }
       }
      }
     },
     "metadata": {}
    },
    {
     "output_type": "display_data",
     "data": {
      "text/plain": "<Figure size 432x288 with 0 Axes>"
     },
     "metadata": {}
    }
   ],
   "source": [
    "plot_vals(8)\n",
    "plt.savefig(\"pictures/results_fig_8.svg\")"
   ]
  },
  {
   "cell_type": "code",
   "execution_count": 37,
   "id": "experimental-glenn",
   "metadata": {},
   "outputs": [
    {
     "output_type": "display_data",
     "data": {
      "application/vnd.plotly.v1+json": {
       "config": {
        "plotlyServerURL": "https://plot.ly"
       },
       "data": [
        {
         "marker": {
          "color": "#EA4335"
         },
         "mode": "lines+markers",
         "name": "CCE, SD=4",
         "type": "scatter",
         "x": [
          4,
          15,
          25,
          50,
          100,
          150,
          300
         ],
         "y": [
          91.01051363359095,
          87.90169807359567,
          85.83725938411456,
          80.7491123288209,
          68.22133148829586,
          42.139073762107614,
          -10.917290743387666
         ]
        },
        {
         "line": {
          "width": 0
         },
         "marker": {
          "color": "#EA4335"
         },
         "mode": "lines",
         "name": "Upper bound",
         "showlegend": false,
         "type": "scatter",
         "x": [
          4,
          15,
          25,
          50,
          100,
          150,
          300
         ],
         "y": [
          91.58449972792857,
          88.4217500142812,
          86.80400918000879,
          82.82821134067277,
          70.28849080249098,
          45.01950783788147,
          -9.138630773086794
         ]
        },
        {
         "fill": "tonexty",
         "fillcolor": "rgba(234, 67, 53, 0.2)",
         "line": {
          "width": 0
         },
         "marker": {
          "color": "#EA4335"
         },
         "mode": "lines",
         "name": "Lower bound",
         "showlegend": false,
         "type": "scatter",
         "x": [
          4,
          15,
          25,
          50,
          100,
          150,
          300
         ],
         "y": [
          90.43652753925332,
          87.38164613291013,
          84.87050958822033,
          78.67001331696903,
          66.15417217410074,
          39.25863968633376,
          -12.695950713688537
         ]
        },
        {
         "marker": {
          "color": "#FBBC04"
         },
         "mode": "lines+markers",
         "name": "JSD, SD=4",
         "type": "scatter",
         "x": [
          4,
          15,
          25,
          50,
          100,
          150,
          300
         ],
         "y": [
          94.30239790929252,
          92.43499941085744,
          92.06452653741141,
          89.73185957598932,
          84.02747539608927,
          -7.405635230185171,
          -19.62145874221637
         ]
        },
        {
         "line": {
          "width": 0
         },
         "marker": {
          "color": "#FBBC04"
         },
         "mode": "lines",
         "name": "Upper bound",
         "showlegend": false,
         "type": "scatter",
         "x": [
          4,
          15,
          25,
          50,
          100,
          150,
          300
         ],
         "y": [
          94.64453709194248,
          92.98136109958108,
          92.53990405443689,
          90.65396634945199,
          85.4927606987678,
          -4.004756319763025,
          -17.946742308918655
         ]
        },
        {
         "fill": "tonexty",
         "fillcolor": "rgba(251, 188, 4, 0.2)",
         "line": {
          "width": 0
         },
         "marker": {
          "color": "#FBBC04"
         },
         "mode": "lines",
         "name": "Lower bound",
         "showlegend": false,
         "type": "scatter",
         "x": [
          4,
          15,
          25,
          50,
          100,
          150,
          300
         ],
         "y": [
          93.96025872664256,
          91.88863772213381,
          91.58914902038593,
          88.80975280252665,
          82.56219009341075,
          -10.806514140607316,
          -21.296175175514083
         ]
        },
        {
         "marker": {
          "color": "#4285F4"
         },
         "mode": "lines+markers",
         "name": "CCEu, SD=4",
         "type": "scatter",
         "x": [
          4,
          15,
          25,
          50,
          100,
          150,
          300
         ],
         "y": [
          -15.300565536731503,
          4.4848407292134995,
          7.861913522532824,
          12.013102839393909,
          14.437621424181511,
          12.754439591019153,
          -28.08840528476586
         ]
        },
        {
         "line": {
          "width": 0
         },
         "marker": {
          "color": "#4285F4"
         },
         "mode": "lines",
         "name": "Upper bound",
         "showlegend": false,
         "type": "scatter",
         "x": [
          4,
          15,
          25,
          50,
          100,
          150,
          300
         ],
         "y": [
          -13.80235882139728,
          4.899541842718051,
          8.265490722415768,
          12.584476992370668,
          15.154291622264576,
          13.790796881173152,
          -26.68660842652765
         ]
        },
        {
         "fill": "tonexty",
         "fillcolor": "rgba(66, 133, 244, 0.2)",
         "line": {
          "width": 0
         },
         "marker": {
          "color": "#4285F4"
         },
         "mode": "lines",
         "name": "Lower bound",
         "showlegend": false,
         "type": "scatter",
         "x": [
          4,
          15,
          25,
          50,
          100,
          150,
          300
         ],
         "y": [
          -16.798772252065724,
          4.070139615708948,
          7.458336322649879,
          11.44172868641715,
          13.720951226098446,
          11.718082300865154,
          -29.49020214300407
         ]
        },
        {
         "marker": {
          "color": "#000000"
         },
         "mode": "lines+markers",
         "name": "JSDu, SD=4",
         "type": "scatter",
         "x": [
          4,
          15,
          25,
          50,
          100,
          150,
          300
         ],
         "y": [
          16.4325262097128,
          34.81411264117712,
          41.38528743047185,
          54.860993705259766,
          68.70366163397573,
          -20.317605075286092,
          -40.00599160738538
         ]
        },
        {
         "line": {
          "width": 0
         },
         "marker": {
          "color": "#000000"
         },
         "mode": "lines",
         "name": "Upper bound",
         "showlegend": false,
         "type": "scatter",
         "x": [
          4,
          15,
          25,
          50,
          100,
          150,
          300
         ],
         "y": [
          17.53281186524548,
          35.71526354802059,
          41.91126504649824,
          55.980375968181605,
          69.23972392599566,
          -16.648733061951923,
          -38.479622255146325
         ]
        },
        {
         "fill": "tonexty",
         "fillcolor": "rgba(0, 0, 0, 0.2)",
         "line": {
          "width": 0
         },
         "marker": {
          "color": "#000000"
         },
         "mode": "lines",
         "name": "Lower bound",
         "showlegend": false,
         "type": "scatter",
         "x": [
          4,
          15,
          25,
          50,
          100,
          150,
          300
         ],
         "y": [
          15.33224055418012,
          33.91296173433365,
          40.85930981444546,
          53.74161144233793,
          68.16759934195579,
          -23.986477088620262,
          -41.53236095962444
         ]
        }
       ],
       "layout": {
        "height": 600,
        "template": {
         "data": {
          "bar": [
           {
            "error_x": {
             "color": "#2a3f5f"
            },
            "error_y": {
             "color": "#2a3f5f"
            },
            "marker": {
             "line": {
              "color": "#E5ECF6",
              "width": 0.5
             }
            },
            "type": "bar"
           }
          ],
          "barpolar": [
           {
            "marker": {
             "line": {
              "color": "#E5ECF6",
              "width": 0.5
             }
            },
            "type": "barpolar"
           }
          ],
          "carpet": [
           {
            "aaxis": {
             "endlinecolor": "#2a3f5f",
             "gridcolor": "white",
             "linecolor": "white",
             "minorgridcolor": "white",
             "startlinecolor": "#2a3f5f"
            },
            "baxis": {
             "endlinecolor": "#2a3f5f",
             "gridcolor": "white",
             "linecolor": "white",
             "minorgridcolor": "white",
             "startlinecolor": "#2a3f5f"
            },
            "type": "carpet"
           }
          ],
          "choropleth": [
           {
            "colorbar": {
             "outlinewidth": 0,
             "ticks": ""
            },
            "type": "choropleth"
           }
          ],
          "contour": [
           {
            "colorbar": {
             "outlinewidth": 0,
             "ticks": ""
            },
            "colorscale": [
             [
              0,
              "#0d0887"
             ],
             [
              0.1111111111111111,
              "#46039f"
             ],
             [
              0.2222222222222222,
              "#7201a8"
             ],
             [
              0.3333333333333333,
              "#9c179e"
             ],
             [
              0.4444444444444444,
              "#bd3786"
             ],
             [
              0.5555555555555556,
              "#d8576b"
             ],
             [
              0.6666666666666666,
              "#ed7953"
             ],
             [
              0.7777777777777778,
              "#fb9f3a"
             ],
             [
              0.8888888888888888,
              "#fdca26"
             ],
             [
              1,
              "#f0f921"
             ]
            ],
            "type": "contour"
           }
          ],
          "contourcarpet": [
           {
            "colorbar": {
             "outlinewidth": 0,
             "ticks": ""
            },
            "type": "contourcarpet"
           }
          ],
          "heatmap": [
           {
            "colorbar": {
             "outlinewidth": 0,
             "ticks": ""
            },
            "colorscale": [
             [
              0,
              "#0d0887"
             ],
             [
              0.1111111111111111,
              "#46039f"
             ],
             [
              0.2222222222222222,
              "#7201a8"
             ],
             [
              0.3333333333333333,
              "#9c179e"
             ],
             [
              0.4444444444444444,
              "#bd3786"
             ],
             [
              0.5555555555555556,
              "#d8576b"
             ],
             [
              0.6666666666666666,
              "#ed7953"
             ],
             [
              0.7777777777777778,
              "#fb9f3a"
             ],
             [
              0.8888888888888888,
              "#fdca26"
             ],
             [
              1,
              "#f0f921"
             ]
            ],
            "type": "heatmap"
           }
          ],
          "heatmapgl": [
           {
            "colorbar": {
             "outlinewidth": 0,
             "ticks": ""
            },
            "colorscale": [
             [
              0,
              "#0d0887"
             ],
             [
              0.1111111111111111,
              "#46039f"
             ],
             [
              0.2222222222222222,
              "#7201a8"
             ],
             [
              0.3333333333333333,
              "#9c179e"
             ],
             [
              0.4444444444444444,
              "#bd3786"
             ],
             [
              0.5555555555555556,
              "#d8576b"
             ],
             [
              0.6666666666666666,
              "#ed7953"
             ],
             [
              0.7777777777777778,
              "#fb9f3a"
             ],
             [
              0.8888888888888888,
              "#fdca26"
             ],
             [
              1,
              "#f0f921"
             ]
            ],
            "type": "heatmapgl"
           }
          ],
          "histogram": [
           {
            "marker": {
             "colorbar": {
              "outlinewidth": 0,
              "ticks": ""
             }
            },
            "type": "histogram"
           }
          ],
          "histogram2d": [
           {
            "colorbar": {
             "outlinewidth": 0,
             "ticks": ""
            },
            "colorscale": [
             [
              0,
              "#0d0887"
             ],
             [
              0.1111111111111111,
              "#46039f"
             ],
             [
              0.2222222222222222,
              "#7201a8"
             ],
             [
              0.3333333333333333,
              "#9c179e"
             ],
             [
              0.4444444444444444,
              "#bd3786"
             ],
             [
              0.5555555555555556,
              "#d8576b"
             ],
             [
              0.6666666666666666,
              "#ed7953"
             ],
             [
              0.7777777777777778,
              "#fb9f3a"
             ],
             [
              0.8888888888888888,
              "#fdca26"
             ],
             [
              1,
              "#f0f921"
             ]
            ],
            "type": "histogram2d"
           }
          ],
          "histogram2dcontour": [
           {
            "colorbar": {
             "outlinewidth": 0,
             "ticks": ""
            },
            "colorscale": [
             [
              0,
              "#0d0887"
             ],
             [
              0.1111111111111111,
              "#46039f"
             ],
             [
              0.2222222222222222,
              "#7201a8"
             ],
             [
              0.3333333333333333,
              "#9c179e"
             ],
             [
              0.4444444444444444,
              "#bd3786"
             ],
             [
              0.5555555555555556,
              "#d8576b"
             ],
             [
              0.6666666666666666,
              "#ed7953"
             ],
             [
              0.7777777777777778,
              "#fb9f3a"
             ],
             [
              0.8888888888888888,
              "#fdca26"
             ],
             [
              1,
              "#f0f921"
             ]
            ],
            "type": "histogram2dcontour"
           }
          ],
          "mesh3d": [
           {
            "colorbar": {
             "outlinewidth": 0,
             "ticks": ""
            },
            "type": "mesh3d"
           }
          ],
          "parcoords": [
           {
            "line": {
             "colorbar": {
              "outlinewidth": 0,
              "ticks": ""
             }
            },
            "type": "parcoords"
           }
          ],
          "pie": [
           {
            "automargin": true,
            "type": "pie"
           }
          ],
          "scatter": [
           {
            "marker": {
             "colorbar": {
              "outlinewidth": 0,
              "ticks": ""
             }
            },
            "type": "scatter"
           }
          ],
          "scatter3d": [
           {
            "line": {
             "colorbar": {
              "outlinewidth": 0,
              "ticks": ""
             }
            },
            "marker": {
             "colorbar": {
              "outlinewidth": 0,
              "ticks": ""
             }
            },
            "type": "scatter3d"
           }
          ],
          "scattercarpet": [
           {
            "marker": {
             "colorbar": {
              "outlinewidth": 0,
              "ticks": ""
             }
            },
            "type": "scattercarpet"
           }
          ],
          "scattergeo": [
           {
            "marker": {
             "colorbar": {
              "outlinewidth": 0,
              "ticks": ""
             }
            },
            "type": "scattergeo"
           }
          ],
          "scattergl": [
           {
            "marker": {
             "colorbar": {
              "outlinewidth": 0,
              "ticks": ""
             }
            },
            "type": "scattergl"
           }
          ],
          "scattermapbox": [
           {
            "marker": {
             "colorbar": {
              "outlinewidth": 0,
              "ticks": ""
             }
            },
            "type": "scattermapbox"
           }
          ],
          "scatterpolar": [
           {
            "marker": {
             "colorbar": {
              "outlinewidth": 0,
              "ticks": ""
             }
            },
            "type": "scatterpolar"
           }
          ],
          "scatterpolargl": [
           {
            "marker": {
             "colorbar": {
              "outlinewidth": 0,
              "ticks": ""
             }
            },
            "type": "scatterpolargl"
           }
          ],
          "scatterternary": [
           {
            "marker": {
             "colorbar": {
              "outlinewidth": 0,
              "ticks": ""
             }
            },
            "type": "scatterternary"
           }
          ],
          "surface": [
           {
            "colorbar": {
             "outlinewidth": 0,
             "ticks": ""
            },
            "colorscale": [
             [
              0,
              "#0d0887"
             ],
             [
              0.1111111111111111,
              "#46039f"
             ],
             [
              0.2222222222222222,
              "#7201a8"
             ],
             [
              0.3333333333333333,
              "#9c179e"
             ],
             [
              0.4444444444444444,
              "#bd3786"
             ],
             [
              0.5555555555555556,
              "#d8576b"
             ],
             [
              0.6666666666666666,
              "#ed7953"
             ],
             [
              0.7777777777777778,
              "#fb9f3a"
             ],
             [
              0.8888888888888888,
              "#fdca26"
             ],
             [
              1,
              "#f0f921"
             ]
            ],
            "type": "surface"
           }
          ],
          "table": [
           {
            "cells": {
             "fill": {
              "color": "#EBF0F8"
             },
             "line": {
              "color": "white"
             }
            },
            "header": {
             "fill": {
              "color": "#C8D4E3"
             },
             "line": {
              "color": "white"
             }
            },
            "type": "table"
           }
          ]
         },
         "layout": {
          "annotationdefaults": {
           "arrowcolor": "#2a3f5f",
           "arrowhead": 0,
           "arrowwidth": 1
          },
          "autotypenumbers": "strict",
          "coloraxis": {
           "colorbar": {
            "outlinewidth": 0,
            "ticks": ""
           }
          },
          "colorscale": {
           "diverging": [
            [
             0,
             "#8e0152"
            ],
            [
             0.1,
             "#c51b7d"
            ],
            [
             0.2,
             "#de77ae"
            ],
            [
             0.3,
             "#f1b6da"
            ],
            [
             0.4,
             "#fde0ef"
            ],
            [
             0.5,
             "#f7f7f7"
            ],
            [
             0.6,
             "#e6f5d0"
            ],
            [
             0.7,
             "#b8e186"
            ],
            [
             0.8,
             "#7fbc41"
            ],
            [
             0.9,
             "#4d9221"
            ],
            [
             1,
             "#276419"
            ]
           ],
           "sequential": [
            [
             0,
             "#0d0887"
            ],
            [
             0.1111111111111111,
             "#46039f"
            ],
            [
             0.2222222222222222,
             "#7201a8"
            ],
            [
             0.3333333333333333,
             "#9c179e"
            ],
            [
             0.4444444444444444,
             "#bd3786"
            ],
            [
             0.5555555555555556,
             "#d8576b"
            ],
            [
             0.6666666666666666,
             "#ed7953"
            ],
            [
             0.7777777777777778,
             "#fb9f3a"
            ],
            [
             0.8888888888888888,
             "#fdca26"
            ],
            [
             1,
             "#f0f921"
            ]
           ],
           "sequentialminus": [
            [
             0,
             "#0d0887"
            ],
            [
             0.1111111111111111,
             "#46039f"
            ],
            [
             0.2222222222222222,
             "#7201a8"
            ],
            [
             0.3333333333333333,
             "#9c179e"
            ],
            [
             0.4444444444444444,
             "#bd3786"
            ],
            [
             0.5555555555555556,
             "#d8576b"
            ],
            [
             0.6666666666666666,
             "#ed7953"
            ],
            [
             0.7777777777777778,
             "#fb9f3a"
            ],
            [
             0.8888888888888888,
             "#fdca26"
            ],
            [
             1,
             "#f0f921"
            ]
           ]
          },
          "colorway": [
           "#636efa",
           "#EF553B",
           "#00cc96",
           "#ab63fa",
           "#FFA15A",
           "#19d3f3",
           "#FF6692",
           "#B6E880",
           "#FF97FF",
           "#FECB52"
          ],
          "font": {
           "color": "#2a3f5f"
          },
          "geo": {
           "bgcolor": "white",
           "lakecolor": "white",
           "landcolor": "#E5ECF6",
           "showlakes": true,
           "showland": true,
           "subunitcolor": "white"
          },
          "hoverlabel": {
           "align": "left"
          },
          "hovermode": "closest",
          "mapbox": {
           "style": "light"
          },
          "paper_bgcolor": "white",
          "plot_bgcolor": "#E5ECF6",
          "polar": {
           "angularaxis": {
            "gridcolor": "white",
            "linecolor": "white",
            "ticks": ""
           },
           "bgcolor": "#E5ECF6",
           "radialaxis": {
            "gridcolor": "white",
            "linecolor": "white",
            "ticks": ""
           }
          },
          "scene": {
           "xaxis": {
            "backgroundcolor": "#E5ECF6",
            "gridcolor": "white",
            "gridwidth": 2,
            "linecolor": "white",
            "showbackground": true,
            "ticks": "",
            "zerolinecolor": "white"
           },
           "yaxis": {
            "backgroundcolor": "#E5ECF6",
            "gridcolor": "white",
            "gridwidth": 2,
            "linecolor": "white",
            "showbackground": true,
            "ticks": "",
            "zerolinecolor": "white"
           },
           "zaxis": {
            "backgroundcolor": "#E5ECF6",
            "gridcolor": "white",
            "gridwidth": 2,
            "linecolor": "white",
            "showbackground": true,
            "ticks": "",
            "zerolinecolor": "white"
           }
          },
          "shapedefaults": {
           "line": {
            "color": "#2a3f5f"
           }
          },
          "ternary": {
           "aaxis": {
            "gridcolor": "white",
            "linecolor": "white",
            "ticks": ""
           },
           "baxis": {
            "gridcolor": "white",
            "linecolor": "white",
            "ticks": ""
           },
           "bgcolor": "#E5ECF6",
           "caxis": {
            "gridcolor": "white",
            "linecolor": "white",
            "ticks": ""
           }
          },
          "title": {
           "x": 0.05
          },
          "xaxis": {
           "automargin": true,
           "gridcolor": "white",
           "linecolor": "white",
           "ticks": "",
           "title": {
            "standoff": 15
           },
           "zerolinecolor": "white",
           "zerolinewidth": 2
          },
          "yaxis": {
           "automargin": true,
           "gridcolor": "white",
           "linecolor": "white",
           "ticks": "",
           "title": {
            "standoff": 15
           },
           "zerolinecolor": "white",
           "zerolinewidth": 2
          }
         }
        },
        "title": {
         "text": "sampling_density"
        },
        "width": 1000,
        "yaxis": {
         "dtick": 25,
         "range": [
          -175,
          100
         ],
         "tick0": 0
        }
       }
      }
     },
     "metadata": {}
    },
    {
     "output_type": "display_data",
     "data": {
      "text/plain": "<Figure size 432x288 with 0 Axes>"
     },
     "metadata": {}
    }
   ],
   "source": [
    "plot_vals(9)\n",
    "plt.savefig(\"pictures/results_fig_9.svg\")"
   ]
  },
  {
   "cell_type": "code",
   "execution_count": 38,
   "id": "filled-assignment",
   "metadata": {},
   "outputs": [
    {
     "output_type": "display_data",
     "data": {
      "application/vnd.plotly.v1+json": {
       "config": {
        "plotlyServerURL": "https://plot.ly"
       },
       "data": [
        {
         "error_y": {
          "array": [
           0.5204904358752298,
           0.6256381244460424,
           0.6009222745145516,
           0.6809861789979879,
           0.4827549735633681,
           0.45349213651530584,
           1.5333208674264804
          ]
         },
         "marker": {
          "color": "#EA4335"
         },
         "name": "CCE, SD=4",
         "type": "bar",
         "x": [
          "0.01/SD",
          "(0.01*4)/SD",
          "0.01/math.sqrt(SD)",
          "0.01",
          "0.05",
          "0.1",
          "0.2"
         ],
         "y": [
          92.8078666736167,
          92.12980782393137,
          91.96078855867806,
          91.62078094707022,
          90.83845168431148,
          91.76325249652517,
          85.67130461098289
         ]
        },
        {
         "error_y": {
          "array": [
           0.5884016778499116,
           0.4176678240617919,
           0.2688261264328942,
           0.3785248634499158,
           0.47585099630160155,
           0.2981979476976322,
           0.6464343782528348
          ]
         },
         "marker": {
          "color": "#FBBC04"
         },
         "name": "JSD, SD=4",
         "type": "bar",
         "x": [
          "0.01/SD",
          "(0.01*4)/SD",
          "0.01/math.sqrt(SD)",
          "0.01",
          "0.05",
          "0.1",
          "0.2"
         ],
         "y": [
          94.52351012220858,
          94.90686775657332,
          94.68392323299068,
          94.89342055759563,
          94.44811138140189,
          94.67336968730606,
          90.6625041795356
         ]
        },
        {
         "error_y": {
          "array": [
           1.4393449780068748,
           0.989189631164125,
           2.2200189693174632,
           3.0545459020334698,
           1.3116068412956006,
           1.4713142153316197,
           2.7271570812041586
          ]
         },
         "marker": {
          "color": "#4285F4"
         },
         "name": "CCEu, SD=4",
         "type": "bar",
         "x": [
          "0.01/SD",
          "(0.01*4)/SD",
          "0.01/math.sqrt(SD)",
          "0.01",
          "0.05",
          "0.1",
          "0.2"
         ],
         "y": [
          -10.808993950690477,
          -12.079148000682174,
          -11.639147203998414,
          -13.228550939316959,
          -17.116394715879483,
          -14.798873279907438,
          -16.725859472968555
         ]
        },
        {
         "error_y": {
          "array": [
           3.4196346478407924,
           2.555005657961255,
           2.198354654362088,
           2.1228245924573796,
           1.4872351520713543,
           1.5236032993461046,
           3.945520883369534
          ]
         },
         "marker": {
          "color": "#000000"
         },
         "name": "JSDu, SD=4",
         "type": "bar",
         "x": [
          "0.01/SD",
          "(0.01*4)/SD",
          "0.01/math.sqrt(SD)",
          "0.01",
          "0.05",
          "0.1",
          "0.2"
         ],
         "y": [
          11.11833531390335,
          16.998500034170977,
          14.373330581944137,
          17.004481184147384,
          16.875661548306873,
          18.28552192774318,
          21.569920594100445
         ]
        },
        {
         "error_y": {
          "array": [
           0.932687079419052,
           1.3468510331926373,
           1.8017918345912571,
           1.8766447355063722,
           1.2307867112539643,
           2.810194594595828,
           2.1290084505010496
          ]
         },
         "marker": {
          "color": "#34A853"
         },
         "name": "CCE, SD=100",
         "type": "bar",
         "x": [
          "0.01/SD",
          "(0.01*4)/SD",
          "0.01/math.sqrt(SD)",
          "0.01",
          "0.05",
          "0.1",
          "0.2"
         ],
         "y": [
          69.48553864619029,
          66.85301262291343,
          67.8844638840181,
          68.92512485649624,
          68.27985059590688,
          36.91325671599671,
          -42.358157825831555
         ]
        },
        {
         "error_y": {
          "array": [
           0.7287681422719483,
           1.0826956631701947,
           0.8700295892967395,
           1.4883673082689206,
           1.209699660450706,
           4.319065420094987,
           1.331420380920438
          ]
         },
         "marker": {
          "color": "#46BDC6"
         },
         "name": "JSD, SD=100",
         "type": "bar",
         "x": [
          "0.01/SD",
          "(0.01*4)/SD",
          "0.01/math.sqrt(SD)",
          "0.01",
          "0.05",
          "0.1",
          "0.2"
         ],
         "y": [
          77.46324121243848,
          76.45876582656003,
          76.34469143992831,
          76.89003669491103,
          84.48689520935136,
          -18.360283252116947,
          -54.27901317978757
         ]
        }
       ],
       "layout": {
        "height": 600,
        "template": {
         "data": {
          "bar": [
           {
            "error_x": {
             "color": "#2a3f5f"
            },
            "error_y": {
             "color": "#2a3f5f"
            },
            "marker": {
             "line": {
              "color": "#E5ECF6",
              "width": 0.5
             }
            },
            "type": "bar"
           }
          ],
          "barpolar": [
           {
            "marker": {
             "line": {
              "color": "#E5ECF6",
              "width": 0.5
             }
            },
            "type": "barpolar"
           }
          ],
          "carpet": [
           {
            "aaxis": {
             "endlinecolor": "#2a3f5f",
             "gridcolor": "white",
             "linecolor": "white",
             "minorgridcolor": "white",
             "startlinecolor": "#2a3f5f"
            },
            "baxis": {
             "endlinecolor": "#2a3f5f",
             "gridcolor": "white",
             "linecolor": "white",
             "minorgridcolor": "white",
             "startlinecolor": "#2a3f5f"
            },
            "type": "carpet"
           }
          ],
          "choropleth": [
           {
            "colorbar": {
             "outlinewidth": 0,
             "ticks": ""
            },
            "type": "choropleth"
           }
          ],
          "contour": [
           {
            "colorbar": {
             "outlinewidth": 0,
             "ticks": ""
            },
            "colorscale": [
             [
              0,
              "#0d0887"
             ],
             [
              0.1111111111111111,
              "#46039f"
             ],
             [
              0.2222222222222222,
              "#7201a8"
             ],
             [
              0.3333333333333333,
              "#9c179e"
             ],
             [
              0.4444444444444444,
              "#bd3786"
             ],
             [
              0.5555555555555556,
              "#d8576b"
             ],
             [
              0.6666666666666666,
              "#ed7953"
             ],
             [
              0.7777777777777778,
              "#fb9f3a"
             ],
             [
              0.8888888888888888,
              "#fdca26"
             ],
             [
              1,
              "#f0f921"
             ]
            ],
            "type": "contour"
           }
          ],
          "contourcarpet": [
           {
            "colorbar": {
             "outlinewidth": 0,
             "ticks": ""
            },
            "type": "contourcarpet"
           }
          ],
          "heatmap": [
           {
            "colorbar": {
             "outlinewidth": 0,
             "ticks": ""
            },
            "colorscale": [
             [
              0,
              "#0d0887"
             ],
             [
              0.1111111111111111,
              "#46039f"
             ],
             [
              0.2222222222222222,
              "#7201a8"
             ],
             [
              0.3333333333333333,
              "#9c179e"
             ],
             [
              0.4444444444444444,
              "#bd3786"
             ],
             [
              0.5555555555555556,
              "#d8576b"
             ],
             [
              0.6666666666666666,
              "#ed7953"
             ],
             [
              0.7777777777777778,
              "#fb9f3a"
             ],
             [
              0.8888888888888888,
              "#fdca26"
             ],
             [
              1,
              "#f0f921"
             ]
            ],
            "type": "heatmap"
           }
          ],
          "heatmapgl": [
           {
            "colorbar": {
             "outlinewidth": 0,
             "ticks": ""
            },
            "colorscale": [
             [
              0,
              "#0d0887"
             ],
             [
              0.1111111111111111,
              "#46039f"
             ],
             [
              0.2222222222222222,
              "#7201a8"
             ],
             [
              0.3333333333333333,
              "#9c179e"
             ],
             [
              0.4444444444444444,
              "#bd3786"
             ],
             [
              0.5555555555555556,
              "#d8576b"
             ],
             [
              0.6666666666666666,
              "#ed7953"
             ],
             [
              0.7777777777777778,
              "#fb9f3a"
             ],
             [
              0.8888888888888888,
              "#fdca26"
             ],
             [
              1,
              "#f0f921"
             ]
            ],
            "type": "heatmapgl"
           }
          ],
          "histogram": [
           {
            "marker": {
             "colorbar": {
              "outlinewidth": 0,
              "ticks": ""
             }
            },
            "type": "histogram"
           }
          ],
          "histogram2d": [
           {
            "colorbar": {
             "outlinewidth": 0,
             "ticks": ""
            },
            "colorscale": [
             [
              0,
              "#0d0887"
             ],
             [
              0.1111111111111111,
              "#46039f"
             ],
             [
              0.2222222222222222,
              "#7201a8"
             ],
             [
              0.3333333333333333,
              "#9c179e"
             ],
             [
              0.4444444444444444,
              "#bd3786"
             ],
             [
              0.5555555555555556,
              "#d8576b"
             ],
             [
              0.6666666666666666,
              "#ed7953"
             ],
             [
              0.7777777777777778,
              "#fb9f3a"
             ],
             [
              0.8888888888888888,
              "#fdca26"
             ],
             [
              1,
              "#f0f921"
             ]
            ],
            "type": "histogram2d"
           }
          ],
          "histogram2dcontour": [
           {
            "colorbar": {
             "outlinewidth": 0,
             "ticks": ""
            },
            "colorscale": [
             [
              0,
              "#0d0887"
             ],
             [
              0.1111111111111111,
              "#46039f"
             ],
             [
              0.2222222222222222,
              "#7201a8"
             ],
             [
              0.3333333333333333,
              "#9c179e"
             ],
             [
              0.4444444444444444,
              "#bd3786"
             ],
             [
              0.5555555555555556,
              "#d8576b"
             ],
             [
              0.6666666666666666,
              "#ed7953"
             ],
             [
              0.7777777777777778,
              "#fb9f3a"
             ],
             [
              0.8888888888888888,
              "#fdca26"
             ],
             [
              1,
              "#f0f921"
             ]
            ],
            "type": "histogram2dcontour"
           }
          ],
          "mesh3d": [
           {
            "colorbar": {
             "outlinewidth": 0,
             "ticks": ""
            },
            "type": "mesh3d"
           }
          ],
          "parcoords": [
           {
            "line": {
             "colorbar": {
              "outlinewidth": 0,
              "ticks": ""
             }
            },
            "type": "parcoords"
           }
          ],
          "pie": [
           {
            "automargin": true,
            "type": "pie"
           }
          ],
          "scatter": [
           {
            "marker": {
             "colorbar": {
              "outlinewidth": 0,
              "ticks": ""
             }
            },
            "type": "scatter"
           }
          ],
          "scatter3d": [
           {
            "line": {
             "colorbar": {
              "outlinewidth": 0,
              "ticks": ""
             }
            },
            "marker": {
             "colorbar": {
              "outlinewidth": 0,
              "ticks": ""
             }
            },
            "type": "scatter3d"
           }
          ],
          "scattercarpet": [
           {
            "marker": {
             "colorbar": {
              "outlinewidth": 0,
              "ticks": ""
             }
            },
            "type": "scattercarpet"
           }
          ],
          "scattergeo": [
           {
            "marker": {
             "colorbar": {
              "outlinewidth": 0,
              "ticks": ""
             }
            },
            "type": "scattergeo"
           }
          ],
          "scattergl": [
           {
            "marker": {
             "colorbar": {
              "outlinewidth": 0,
              "ticks": ""
             }
            },
            "type": "scattergl"
           }
          ],
          "scattermapbox": [
           {
            "marker": {
             "colorbar": {
              "outlinewidth": 0,
              "ticks": ""
             }
            },
            "type": "scattermapbox"
           }
          ],
          "scatterpolar": [
           {
            "marker": {
             "colorbar": {
              "outlinewidth": 0,
              "ticks": ""
             }
            },
            "type": "scatterpolar"
           }
          ],
          "scatterpolargl": [
           {
            "marker": {
             "colorbar": {
              "outlinewidth": 0,
              "ticks": ""
             }
            },
            "type": "scatterpolargl"
           }
          ],
          "scatterternary": [
           {
            "marker": {
             "colorbar": {
              "outlinewidth": 0,
              "ticks": ""
             }
            },
            "type": "scatterternary"
           }
          ],
          "surface": [
           {
            "colorbar": {
             "outlinewidth": 0,
             "ticks": ""
            },
            "colorscale": [
             [
              0,
              "#0d0887"
             ],
             [
              0.1111111111111111,
              "#46039f"
             ],
             [
              0.2222222222222222,
              "#7201a8"
             ],
             [
              0.3333333333333333,
              "#9c179e"
             ],
             [
              0.4444444444444444,
              "#bd3786"
             ],
             [
              0.5555555555555556,
              "#d8576b"
             ],
             [
              0.6666666666666666,
              "#ed7953"
             ],
             [
              0.7777777777777778,
              "#fb9f3a"
             ],
             [
              0.8888888888888888,
              "#fdca26"
             ],
             [
              1,
              "#f0f921"
             ]
            ],
            "type": "surface"
           }
          ],
          "table": [
           {
            "cells": {
             "fill": {
              "color": "#EBF0F8"
             },
             "line": {
              "color": "white"
             }
            },
            "header": {
             "fill": {
              "color": "#C8D4E3"
             },
             "line": {
              "color": "white"
             }
            },
            "type": "table"
           }
          ]
         },
         "layout": {
          "annotationdefaults": {
           "arrowcolor": "#2a3f5f",
           "arrowhead": 0,
           "arrowwidth": 1
          },
          "autotypenumbers": "strict",
          "coloraxis": {
           "colorbar": {
            "outlinewidth": 0,
            "ticks": ""
           }
          },
          "colorscale": {
           "diverging": [
            [
             0,
             "#8e0152"
            ],
            [
             0.1,
             "#c51b7d"
            ],
            [
             0.2,
             "#de77ae"
            ],
            [
             0.3,
             "#f1b6da"
            ],
            [
             0.4,
             "#fde0ef"
            ],
            [
             0.5,
             "#f7f7f7"
            ],
            [
             0.6,
             "#e6f5d0"
            ],
            [
             0.7,
             "#b8e186"
            ],
            [
             0.8,
             "#7fbc41"
            ],
            [
             0.9,
             "#4d9221"
            ],
            [
             1,
             "#276419"
            ]
           ],
           "sequential": [
            [
             0,
             "#0d0887"
            ],
            [
             0.1111111111111111,
             "#46039f"
            ],
            [
             0.2222222222222222,
             "#7201a8"
            ],
            [
             0.3333333333333333,
             "#9c179e"
            ],
            [
             0.4444444444444444,
             "#bd3786"
            ],
            [
             0.5555555555555556,
             "#d8576b"
            ],
            [
             0.6666666666666666,
             "#ed7953"
            ],
            [
             0.7777777777777778,
             "#fb9f3a"
            ],
            [
             0.8888888888888888,
             "#fdca26"
            ],
            [
             1,
             "#f0f921"
            ]
           ],
           "sequentialminus": [
            [
             0,
             "#0d0887"
            ],
            [
             0.1111111111111111,
             "#46039f"
            ],
            [
             0.2222222222222222,
             "#7201a8"
            ],
            [
             0.3333333333333333,
             "#9c179e"
            ],
            [
             0.4444444444444444,
             "#bd3786"
            ],
            [
             0.5555555555555556,
             "#d8576b"
            ],
            [
             0.6666666666666666,
             "#ed7953"
            ],
            [
             0.7777777777777778,
             "#fb9f3a"
            ],
            [
             0.8888888888888888,
             "#fdca26"
            ],
            [
             1,
             "#f0f921"
            ]
           ]
          },
          "colorway": [
           "#636efa",
           "#EF553B",
           "#00cc96",
           "#ab63fa",
           "#FFA15A",
           "#19d3f3",
           "#FF6692",
           "#B6E880",
           "#FF97FF",
           "#FECB52"
          ],
          "font": {
           "color": "#2a3f5f"
          },
          "geo": {
           "bgcolor": "white",
           "lakecolor": "white",
           "landcolor": "#E5ECF6",
           "showlakes": true,
           "showland": true,
           "subunitcolor": "white"
          },
          "hoverlabel": {
           "align": "left"
          },
          "hovermode": "closest",
          "mapbox": {
           "style": "light"
          },
          "paper_bgcolor": "white",
          "plot_bgcolor": "#E5ECF6",
          "polar": {
           "angularaxis": {
            "gridcolor": "white",
            "linecolor": "white",
            "ticks": ""
           },
           "bgcolor": "#E5ECF6",
           "radialaxis": {
            "gridcolor": "white",
            "linecolor": "white",
            "ticks": ""
           }
          },
          "scene": {
           "xaxis": {
            "backgroundcolor": "#E5ECF6",
            "gridcolor": "white",
            "gridwidth": 2,
            "linecolor": "white",
            "showbackground": true,
            "ticks": "",
            "zerolinecolor": "white"
           },
           "yaxis": {
            "backgroundcolor": "#E5ECF6",
            "gridcolor": "white",
            "gridwidth": 2,
            "linecolor": "white",
            "showbackground": true,
            "ticks": "",
            "zerolinecolor": "white"
           },
           "zaxis": {
            "backgroundcolor": "#E5ECF6",
            "gridcolor": "white",
            "gridwidth": 2,
            "linecolor": "white",
            "showbackground": true,
            "ticks": "",
            "zerolinecolor": "white"
           }
          },
          "shapedefaults": {
           "line": {
            "color": "#2a3f5f"
           }
          },
          "ternary": {
           "aaxis": {
            "gridcolor": "white",
            "linecolor": "white",
            "ticks": ""
           },
           "baxis": {
            "gridcolor": "white",
            "linecolor": "white",
            "ticks": ""
           },
           "bgcolor": "#E5ECF6",
           "caxis": {
            "gridcolor": "white",
            "linecolor": "white",
            "ticks": ""
           }
          },
          "title": {
           "x": 0.05
          },
          "xaxis": {
           "automargin": true,
           "gridcolor": "white",
           "linecolor": "white",
           "ticks": "",
           "title": {
            "standoff": 15
           },
           "zerolinecolor": "white",
           "zerolinewidth": 2
          },
          "yaxis": {
           "automargin": true,
           "gridcolor": "white",
           "linecolor": "white",
           "ticks": "",
           "title": {
            "standoff": 15
           },
           "zerolinecolor": "white",
           "zerolinewidth": 2
          }
         }
        },
        "title": {
         "text": "gaussian_noise_sigma"
        },
        "width": 1000,
        "yaxis": {
         "dtick": 25,
         "range": [
          -175,
          100
         ],
         "tick0": 0
        }
       }
      }
     },
     "metadata": {}
    },
    {
     "output_type": "display_data",
     "data": {
      "text/plain": "<Figure size 432x288 with 0 Axes>"
     },
     "metadata": {}
    }
   ],
   "source": [
    "plot_vals(10)\n",
    "plt.savefig(\"pictures/results_fig_10.svg\")"
   ]
  },
  {
   "cell_type": "code",
   "execution_count": 39,
   "id": "usual-horse",
   "metadata": {},
   "outputs": [],
   "source": [
    "# plot_vals(11)\n",
    "# plt.savefig(\"pictures/results_fig_11.svg\")"
   ]
  },
  {
   "cell_type": "code",
   "execution_count": 40,
   "id": "burning-carnival",
   "metadata": {},
   "outputs": [],
   "source": [
    "# plot_vals(12,ylim=[-350,100])\n",
    "# plt.savefig(\"pictures/results_fig_12.svg\")"
   ]
  },
  {
   "cell_type": "code",
   "execution_count": 41,
   "id": "partial-algeria",
   "metadata": {},
   "outputs": [
    {
     "output_type": "execute_result",
     "data": {
      "text/plain": [
       "['0 7',\n",
       " '1 7',\n",
       " '2 7',\n",
       " '3 7',\n",
       " '4 7',\n",
       " '5 7',\n",
       " '6 7',\n",
       " '7 7',\n",
       " '8 7',\n",
       " '9 7',\n",
       " '10 7',\n",
       " '11 7',\n",
       " '12 7',\n",
       " '13 7',\n",
       " '14 7',\n",
       " '15 7',\n",
       " '16 7',\n",
       " '17 7',\n",
       " '18 7',\n",
       " '19 7',\n",
       " '20 7',\n",
       " '21 7',\n",
       " '22 7',\n",
       " '23 7',\n",
       " '24 7',\n",
       " '25 7',\n",
       " '26 7',\n",
       " '27 7',\n",
       " '28 7',\n",
       " '29 7',\n",
       " '30 7',\n",
       " '31 7',\n",
       " '32 7',\n",
       " '33 7',\n",
       " '34 7',\n",
       " '35 7',\n",
       " '36 7',\n",
       " '37 7',\n",
       " '38 7',\n",
       " '39 7',\n",
       " '40 7',\n",
       " '41 7',\n",
       " '42 7',\n",
       " '43 7',\n",
       " '44 8',\n",
       " '45 7',\n",
       " '46 7',\n",
       " '47 7',\n",
       " '48 7',\n",
       " '49 7',\n",
       " '50 7',\n",
       " '51 7',\n",
       " '52 7',\n",
       " '53 7',\n",
       " '54 8',\n",
       " '55 9',\n",
       " '56 9',\n",
       " '57 9',\n",
       " '58 7',\n",
       " '59 7',\n",
       " '60 7',\n",
       " '61 7',\n",
       " '62 7',\n",
       " '63 7',\n",
       " '64 7',\n",
       " '65 7',\n",
       " '66 7',\n",
       " '67 7',\n",
       " '68 7',\n",
       " '69 7',\n",
       " '70 7',\n",
       " '71 7',\n",
       " '72 7',\n",
       " '73 7',\n",
       " '74 7',\n",
       " '75 7',\n",
       " '76 7',\n",
       " '77 7',\n",
       " '78 7',\n",
       " '79 7',\n",
       " '80 7',\n",
       " '81 7',\n",
       " '82 7',\n",
       " '83 7',\n",
       " '84 7',\n",
       " '85 7',\n",
       " '86 7',\n",
       " '87 7',\n",
       " '88 7',\n",
       " '89 7',\n",
       " '90 7',\n",
       " '91 7',\n",
       " '92 7',\n",
       " '93 7',\n",
       " '94 7',\n",
       " '95 7',\n",
       " '96 7',\n",
       " '97 7',\n",
       " '98 7',\n",
       " '99 7',\n",
       " '100 7',\n",
       " '101 7',\n",
       " '102 7',\n",
       " '103 7',\n",
       " '104 7',\n",
       " '105 7',\n",
       " '106 7',\n",
       " '107 7',\n",
       " '108 7',\n",
       " '109 9',\n",
       " '110 7',\n",
       " '111 7',\n",
       " '112 7',\n",
       " '113 7',\n",
       " '114 7',\n",
       " '115 7',\n",
       " '116 7',\n",
       " '117 7',\n",
       " '118 7',\n",
       " '119 9',\n",
       " '120 9',\n",
       " '121 9',\n",
       " '122 9',\n",
       " '123 7',\n",
       " '124 7',\n",
       " '125 7',\n",
       " '126 7',\n",
       " '127 7',\n",
       " '128 7',\n",
       " '129 7',\n",
       " '130 7',\n",
       " '131 7',\n",
       " '132 7',\n",
       " '133 7',\n",
       " '134 7',\n",
       " '135 7',\n",
       " '136 7',\n",
       " '137 7',\n",
       " '138 7',\n",
       " '139 7',\n",
       " '140 7',\n",
       " '141 7',\n",
       " '142 7',\n",
       " '143 7',\n",
       " '144 7',\n",
       " '145 7',\n",
       " '146 7',\n",
       " '147 7',\n",
       " '148 7',\n",
       " '149 7',\n",
       " '150 7',\n",
       " '151 7',\n",
       " '152 7',\n",
       " '153 7',\n",
       " '154 7',\n",
       " '155 7',\n",
       " '156 6',\n",
       " '157 6',\n",
       " '158 6',\n",
       " '159 6',\n",
       " '160 6',\n",
       " '161 6',\n",
       " '162 6',\n",
       " '163 7',\n",
       " '164 6',\n",
       " '165 6',\n",
       " '166 6',\n",
       " '167 6',\n",
       " '168 9',\n",
       " '169 7',\n",
       " '170 6',\n",
       " '171 6',\n",
       " '172 9',\n",
       " '173 9',\n",
       " '174 9',\n",
       " '175 9',\n",
       " '176 6',\n",
       " '177 6',\n",
       " '178 6',\n",
       " '179 6',\n",
       " '180 6',\n",
       " '181 6',\n",
       " '182 6',\n",
       " '183 7',\n",
       " '184 6',\n",
       " '185 6',\n",
       " '186 6',\n",
       " '187 6',\n",
       " '188 6',\n",
       " '189 7',\n",
       " '190 6',\n",
       " '191 6',\n",
       " '192 6',\n",
       " '193 6',\n",
       " '194 6',\n",
       " '195 6',\n",
       " '196 7',\n",
       " '197 6',\n",
       " '198 7',\n",
       " '199 6',\n",
       " '200 6',\n",
       " '201 6',\n",
       " '202 6',\n",
       " '203 7',\n",
       " '204 6',\n",
       " '205 6',\n",
       " '206 6',\n",
       " '207 6',\n",
       " '208 6',\n",
       " '209 6',\n",
       " '210 6',\n",
       " '211 6',\n",
       " '212 6',\n",
       " '213 6',\n",
       " '214 6',\n",
       " '215 6',\n",
       " '216 7',\n",
       " '217 6',\n",
       " '218 6',\n",
       " '219 6',\n",
       " '220 6',\n",
       " '221 9',\n",
       " '222 7',\n",
       " '223 7',\n",
       " '224 7',\n",
       " '225 9',\n",
       " '226 9',\n",
       " '227 9',\n",
       " '228 9',\n",
       " '229 7',\n",
       " '230 7',\n",
       " '231 7',\n",
       " '232 7',\n",
       " '233 7',\n",
       " '234 7',\n",
       " '235 7',\n",
       " '236 9',\n",
       " '237 9',\n",
       " '238 9',\n",
       " '239 9',\n",
       " '240 9',\n",
       " '241 9',\n",
       " '242 9',\n",
       " '243 9',\n",
       " '244 9',\n",
       " '245 9',\n",
       " '246 9',\n",
       " '247 9',\n",
       " '248 9',\n",
       " '249 9',\n",
       " '250 9',\n",
       " '251 9',\n",
       " '252 9',\n",
       " '253 9',\n",
       " '254 9',\n",
       " '255 9',\n",
       " '256 9',\n",
       " '257 9',\n",
       " '258 9',\n",
       " '259 9',\n",
       " '260 9',\n",
       " '261 9',\n",
       " '262 9',\n",
       " '263 9',\n",
       " '264 9',\n",
       " '265 9',\n",
       " '266 9',\n",
       " '267 9',\n",
       " '268 8',\n",
       " '269 8',\n",
       " '270 8',\n",
       " '271 8',\n",
       " '272 8',\n",
       " '273 8',\n",
       " '274 8',\n",
       " '275 9',\n",
       " '276 8',\n",
       " '277 8',\n",
       " '278 8',\n",
       " '279 9',\n",
       " '280 8',\n",
       " '281 8',\n",
       " '282 8',\n",
       " '283 8',\n",
       " '284 8',\n",
       " '285 8',\n",
       " '286 8',\n",
       " '287 8',\n",
       " '288 8',\n",
       " '289 8',\n",
       " '290 8',\n",
       " '291 8',\n",
       " '292 8',\n",
       " '293 9',\n",
       " '294 8',\n",
       " '295 8',\n",
       " '296 9',\n",
       " '297 9',\n",
       " '298 8',\n",
       " '299 8',\n",
       " '300 8',\n",
       " '301 8',\n",
       " '302 8',\n",
       " '303 9',\n",
       " '304 8',\n",
       " '305 8',\n",
       " '306 8',\n",
       " '307 8',\n",
       " '308 8',\n",
       " '309 8',\n",
       " '310 9',\n",
       " '311 8',\n",
       " '312 9',\n",
       " '313 8',\n",
       " '314 8',\n",
       " '315 8',\n",
       " '316 8',\n",
       " '317 9',\n",
       " '318 8',\n",
       " '319 8',\n",
       " '320 8',\n",
       " '321 8',\n",
       " '322 8',\n",
       " '323 8',\n",
       " '324 8',\n",
       " '325 8',\n",
       " '326 8',\n",
       " '327 8',\n",
       " '328 8',\n",
       " '329 8',\n",
       " '330 9',\n",
       " '331 8',\n",
       " '332 8',\n",
       " '333 8',\n",
       " '334 9',\n",
       " '335 8',\n",
       " '336 8',\n",
       " '337 8',\n",
       " '338 8',\n",
       " '339 7',\n",
       " '340 7',\n",
       " '341 7',\n",
       " '342 7',\n",
       " '343 7',\n",
       " '344 7',\n",
       " '345 7']"
      ]
     },
     "metadata": {},
     "execution_count": 41
    }
   ],
   "source": [
    "# a=[len(experiment_config_results[x['mapping']]) for i,x in enumerate(experiments)]\n",
    "# unique, counts = np.unique(a, return_counts=True)\n",
    "# dict(zip(unique, counts))\n",
    "\n",
    "\n",
    "[str(i) + \" \" + str(len(experiment_config_results[x['mapping']])) for i,x in enumerate(experiments)]"
   ]
  },
  {
   "cell_type": "code",
   "execution_count": null,
   "id": "educated-tulsa",
   "metadata": {},
   "outputs": [],
   "source": []
  },
  {
   "cell_type": "code",
   "execution_count": null,
   "id": "exposed-craps",
   "metadata": {},
   "outputs": [],
   "source": []
  },
  {
   "cell_type": "code",
   "execution_count": null,
   "id": "working-barrier",
   "metadata": {},
   "outputs": [],
   "source": []
  },
  {
   "cell_type": "code",
   "execution_count": null,
   "id": "cultural-working",
   "metadata": {},
   "outputs": [],
   "source": []
  },
  {
   "cell_type": "code",
   "execution_count": 42,
   "id": "tribal-steam",
   "metadata": {},
   "outputs": [],
   "source": [
    "# suffix1 = \"_merge1\"\n",
    "# suffix2 = \"_laptop\"\n",
    "# result = \"_merge2\""
   ]
  },
  {
   "cell_type": "code",
   "execution_count": 43,
   "id": "brilliant-necklace",
   "metadata": {},
   "outputs": [],
   "source": [
    "# with open(\"experiment_config_results\"+suffix1,\"rb\") as current_file:\n",
    "#     experiment_config_results1 = dill.load(current_file)\n",
    "# with open(\"experiment_config_results\"+suffix2,\"rb\") as current_file:\n",
    "#     experiment_config_results2 = dill.load(current_file)\n",
    "\n",
    "# experiment_config_results = []\n",
    "# for i in range(len(experiment_config_results1)):\n",
    "#     exp1 = experiment_config_results1[i]\n",
    "#     exp2 = experiment_config_results2[i]\n",
    "#     experiment_config_results.append(exp1+exp2)\n",
    "\n",
    "# display(experiment_config_results)\n",
    "# with open(\"experiment_config_results\"+result, \"wb\") as dill_file:\n",
    "#     dill.dump(experiment_config_results, dill_file)"
   ]
  },
  {
   "cell_type": "code",
   "execution_count": 44,
   "id": "electrical-amendment",
   "metadata": {},
   "outputs": [],
   "source": [
    "# with open(\"experiment_config_results2\"+suffix1,\"rb\") as current_file:\n",
    "#     experiment_config_results1 = dill.load(current_file)\n",
    "# with open(\"experiment_config_results2\"+suffix2,\"rb\") as current_file:\n",
    "#     experiment_config_results2 = dill.load(current_file)\n",
    "\n",
    "# experiment_config_results = []\n",
    "# for i in range(len(experiment_config_results1)):\n",
    "#     exp1 = experiment_config_results1[i]\n",
    "#     exp2 = experiment_config_results2[i]\n",
    "#     experiment_config_results.append(exp1+exp2)\n",
    "\n",
    "# display(experiment_config_results)\n",
    "# with open(\"experiment_config_results2\"+result, \"wb\") as dill_file:\n",
    "#     dill.dump(experiment_config_results, dill_file)"
   ]
  },
  {
   "cell_type": "code",
   "execution_count": null,
   "metadata": {},
   "outputs": [],
   "source": []
  },
  {
   "cell_type": "code",
   "execution_count": 49,
   "metadata": {},
   "outputs": [],
   "source": [
    "# import csv\n",
    "# import dill\n",
    "\n",
    "# with open(\"experiment_config_results_gpu\",\"rb\") as current_file:\n",
    "#     experiment_config_results = dill.load(current_file)\n",
    "# with open(\"experiment_config_results2_gpu\",\"rb\") as current_file:\n",
    "#     experiment_config_results2 = dill.load(current_file)    \n",
    "# with open(\"experiments_gpu\",\"rb\") as current_file:\n",
    "#     experiments = dill.load(current_file)\n",
    "\n",
    "# experiment_config_strings = []\n",
    "# experiment_config_list = []\n",
    "# for ex in experiments:\n",
    "#     if ex['config'] not in experiment_config_list:\n",
    "#         experiment_config_list.append(ex['config'])\n",
    "#         experiment_config_strings.append(ex['full_string'])\n",
    "\n",
    "\n",
    "# experiment_configs_csv = [[experiment_config_strings[i]] + experiment_config_results[i] for i in range(len(experiment_config_results))]\n",
    "# experiment_configs2_csv = [[experiment_config_strings[i]] + experiment_config_results2[i] for i in range(len(experiment_config_results))]\n",
    "\n",
    "# with open(\"experiment_config_results_gpu.csv\", \"w\", newline=\"\") as f:\n",
    "#     writer = csv.writer(f)\n",
    "#     writer.writerows(experiment_configs_csv)\n",
    "# with open(\"experiment_config_results2_gpu.csv\", \"w\", newline=\"\") as f:\n",
    "#     writer = csv.writer(f)\n",
    "#     writer.writerows(experiment_configs2_csv)  "
   ]
  },
  {
   "cell_type": "code",
   "execution_count": null,
   "metadata": {},
   "outputs": [],
   "source": []
  },
  {
   "cell_type": "code",
   "execution_count": 66,
   "metadata": {},
   "outputs": [],
   "source": [
    "import csv\n",
    "with open('experiment_config_results_gpu.csv', 'r') as fp:\n",
    "    reader = csv.reader(fp)\n",
    "    li = list(reader)\n",
    "newlist = []\n",
    "for row in li:\n",
    "    newrow = []\n",
    "    for entry in row [1:]:\n",
    "        newrow.append(float(entry))\n",
    "    newlist.append(newrow)\n"
   ]
  },
  {
   "cell_type": "code",
   "execution_count": 67,
   "metadata": {},
   "outputs": [
    {
     "output_type": "execute_result",
     "data": {
      "text/plain": [
       "[99.96504512369653,\n",
       " 99.97392789290225,\n",
       " 99.95758387352245,\n",
       " 99.96250585859485,\n",
       " 99.9665147949056,\n",
       " 99.95974630521745,\n",
       " 99.90696444729686]"
      ]
     },
     "metadata": {},
     "execution_count": 67
    }
   ],
   "source": [
    "newlist[0]"
   ]
  },
  {
   "cell_type": "code",
   "execution_count": null,
   "metadata": {},
   "outputs": [],
   "source": []
  }
 ],
 "metadata": {
  "kernelspec": {
   "display_name": "Python 3",
   "language": "python",
   "name": "python3"
  },
  "language_info": {
   "codemirror_mode": {
    "name": "ipython",
    "version": 3
   },
   "file_extension": ".py",
   "mimetype": "text/x-python",
   "name": "python",
   "nbconvert_exporter": "python",
   "pygments_lexer": "ipython3",
   "version": "3.8.5-final"
  }
 },
 "nbformat": 4,
 "nbformat_minor": 5
}