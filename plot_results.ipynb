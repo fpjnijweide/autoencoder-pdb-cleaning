{
 "cells": [
  {
   "cell_type": "code",
   "execution_count": 1,
   "id": "partial-rebate",
   "metadata": {},
   "outputs": [
    {
     "output_type": "stream",
     "name": "stdout",
     "text": [
      "done\n"
     ]
    }
   ],
   "source": [
    "import dill\n",
    "import numpy as np\n",
    "import matplotlib.pyplot as plt\n",
    "from IPython.display import display\n",
    "import plotly.express as px\n",
    "import plotly.graph_objs as go\n",
    "print('done')\n",
    "\n",
    "USE_PLOTLY = True\n"
   ]
  },
  {
   "cell_type": "code",
   "execution_count": 2,
   "id": "present-white",
   "metadata": {},
   "outputs": [
    {
     "output_type": "stream",
     "name": "stdout",
     "text": [
      "['CCE, SD=4' 'JSD, SD=4' 'CCEu, SD=4' 'JSDu, SD=4' 'CCE, SD=100'\n 'JSD, SD=100']\n6\n11\n['CCE, SD=4' 'JSD, SD=4' 'CCEu, SD=4' 'JSDu, SD=4' 'CCE, SD=100'\n 'JSD, SD=100']\n\n\n['training_method' 'activation_types' 'input_layer_type' 'encoding_dim'\n 'hidden_layers' 'activity_regularizer' 'sigma' 'BN_size'\n 'labeled_data_percentage' 'sampling_density' 'gaussian_noise_sigma']\n\n['training_method' 'activation_types' 'input_layer_type' 'encoding_dim'\n 'hidden_layers' 'activity_regularizer' 'sigma' 'BN_size'\n 'labeled_data_percentage' 'sampling_density' 'gaussian_noise_sigma']\n"
     ]
    }
   ],
   "source": [
    "with open(\"experiment_config_results_gpu\",\"rb\") as current_file:\n",
    "    experiment_config_results = dill.load(current_file)\n",
    "with open(\"experiments_gpu\",\"rb\") as current_file:\n",
    "    experiments = dill.load(current_file)\n",
    "\n",
    "    \n",
    "non_unique_params = np.array([experiment['parameter'] for experiment in experiments])\n",
    "non_unique_config_strings = np.array([experiment['config_string'] for experiment in experiments])\n",
    "\n",
    "par_indices = np.unique(non_unique_params,return_index=True)[1]\n",
    "string_indices = np.unique(non_unique_config_strings,return_index=True)[1]\n",
    "\n",
    "parameters = non_unique_params[np.sort(par_indices)]\n",
    "config_strings = non_unique_config_strings[np.sort(string_indices)]\n",
    "# config_strings[0],config_strings[1],config_strings[2] = config_strings[2],config_strings[0],config_strings[1]\n",
    "# config_strings[[0,1,2]] = config_strings[[2,0,1]]\n",
    "print(config_strings)\n",
    "\n",
    "def str_noneguard(obj):\n",
    "    if hasattr(obj,'__name__'):\n",
    "        return obj.__name__\n",
    "    if obj is None:\n",
    "        return ''\n",
    "    if isinstance(obj,list):\n",
    "        return str([str_noneguard(x) for x in obj])\n",
    "    return str(obj)\n",
    "\n",
    "\n",
    "print(len(config_strings))\n",
    "colors=['#4285F4','#EA4335', '#FBBC04',  '#34A853','#000000','#46BDC6',      '#46BDC6',             '#F4CCCC','#C9DAF8',            'grey','purple']\n",
    "print(len(colors))\n",
    "print(config_strings)\n",
    "print(\"\")\n",
    "print(\"\")\n",
    "\n",
    "print(parameters)\n",
    "print(\"\")\n",
    "\n",
    "# parameters[[3,4,5,6,7,8,9,10,11,12]] = parameters[[-4,-3,-2,5,3,4,6,8,-1,7]]\n",
    "print(parameters)\n",
    "\n"
   ]
  },
  {
   "cell_type": "code",
   "execution_count": 3,
   "id": "italic-thinking",
   "metadata": {},
   "outputs": [],
   "source": [
    "from matplotlib.ticker import (AutoMinorLocator, MultipleLocator)\n",
    "\n",
    "def hex_to_rgb(hex_color: str) -> tuple:\n",
    "    # thanks to https://community.plotly.com/t/scatter-plot-fill-with-color-how-to-set-opacity-of-fill/29591/2\n",
    "    hex_color = hex_color.lstrip(\"#\")\n",
    "    if len(hex_color) == 3:\n",
    "        hex_color = hex_color * 2\n",
    "    return int(hex_color[0:2], 16), int(hex_color[2:4], 16), int(hex_color[4:6], 16)\n",
    "\n",
    "def plot_vals(i,ylim=[-175,100]):\n",
    "\n",
    "    if USE_PLOTLY:\n",
    "        fig = go.Figure()\n",
    "\n",
    "    else:\n",
    "        fig, ax = plt.subplots(figsize=[10,6])  \n",
    "        ax.set_title(parameter)\n",
    "\n",
    "    parameter = parameters[i]\n",
    "    bar=0\n",
    "    all_numbers = True\n",
    "    \n",
    "    for config_index,config_string in enumerate(config_strings):\n",
    "        color=colors[config_index]\n",
    "    #     print(\"--------- \" + config_string + \" -----------\")\n",
    "        filtered_experiments = [ex for ex in experiments if ex['parameter']==parameter and ex['config_string']==config_string]\n",
    "        if len(filtered_experiments)==0:\n",
    "            continue\n",
    "        mappings = np.array([x['mapping'] for x in filtered_experiments])\n",
    "        x_values = [x['current_var'] for x in filtered_experiments]\n",
    "        for x in x_values:\n",
    "            if not isinstance(x,int) and not isinstance(x,float):\n",
    "                all_numbers=False\n",
    "\n",
    "        if not all_numbers:\n",
    "            for i in range(len(x_values)):\n",
    "                x_values[i] = str_noneguard(x_values[i])\n",
    "\n",
    "        results = [result for result in np.array(experiment_config_results,dtype=object)[mappings] ]\n",
    "        means = np.array([np.mean(x) for x in results])\n",
    "        sigmas = np.array([np.std(x) for x in results])\n",
    "\n",
    "    #     print(\"mappings\")\n",
    "    #     display(mappings)\n",
    "    #     print(\"\")\n",
    "    #     print(\"results\")\n",
    "    #     display(results)\n",
    "    #     print(\"\")\n",
    "    #     print(\"x_values\")\n",
    "    #     display(x_values)\n",
    "    #     print(\"\")\n",
    "    #     print(\"means\")\n",
    "    #     display(means)\n",
    "    #     print(\"\")\n",
    "    #     print(\"sigmas\")\n",
    "    #     display(sigmas)\n",
    "    #     print(\"\\n\\n\\n\")\n",
    "    #     ax.plot(x_values,means)\n",
    "#         print(x_values)\n",
    "        if USE_PLOTLY:\n",
    "            if all_numbers:\n",
    "                # fig.add_trace(go.Scatter(x=x_values, y=means, error_y={\"array\":sigmas}, marker_color=color,name=config_string,mode='lines+markers'))\n",
    "                fig.add_trace(go.Scatter(x=x_values, y=means, marker_color=color,name=config_string,mode='lines+markers'))\n",
    "                fig.add_trace(go.Scatter(x=x_values, y=means+sigmas, marker_color=color,name=\"Upper bound\", line=dict(width=0), showlegend=False, mode='lines'))\n",
    "                fig.add_trace(go.Scatter(x=x_values, y=means-sigmas, marker_color=color,fillcolor=f\"rgba{(*hex_to_rgb(color), 0.2)}\",name=\"Lower bound\", line=dict(width=0), showlegend=False, fill='tonexty', mode='lines'))\n",
    "                \n",
    "            else:\n",
    "                fig.add_bar(x=x_values,y=means,error_y={\"array\":sigmas},marker_color=color,name=config_string)\n",
    "        else:\n",
    "            if all_numbers:\n",
    "                ax.plot(x_values,means,'o-',label=config_string,color=color)\n",
    "                ax.fill_between(x_values, (means-sigmas), (means+sigmas),alpha=.2,color=color)\n",
    "            else:\n",
    "                n=len(x_values)\n",
    "                ind = np.arange(n)\n",
    "                width = 0.1\n",
    "                position = ind + (width*(1-n)/2) + bar*width\n",
    "                ax.bar(position,means,width=width,yerr=sigmas,label=config_string,color=color)\n",
    "                bar+=1\n",
    "    \n",
    "    if USE_PLOTLY:\n",
    "        fig.update_yaxes(tick0=0, dtick=25)\n",
    "        # fig.update_xaxes(tickangle = 0)\n",
    "        fig.update_layout(yaxis_range=ylim,title=parameter, width=1000, height=600)\n",
    "        fig.show()\n",
    "    else:\n",
    "        ax.set_ylim(ylim)\n",
    "        if not all_numbers:\n",
    "            print(x_values)\n",
    "            print(ind)\n",
    "    #         ax.axhline(0,\"black\")\n",
    "            ax.yaxis.set_major_locator(MultipleLocator(25))    \n",
    "            ax.grid(axis=\"y\")\n",
    "            \n",
    "            plt.xticks(ind, x_values)\n",
    "        else:\n",
    "            ax.yaxis.set_major_locator(MultipleLocator(25))\n",
    "            ax.grid()\n",
    "        ax.axhline(0,color='black')\n",
    "        ax.legend()"
   ]
  },
  {
   "cell_type": "code",
   "execution_count": 4,
   "id": "experimental-container",
   "metadata": {
    "tags": []
   },
   "outputs": [
    {
     "output_type": "display_data",
     "data": {
      "application/vnd.plotly.v1+json": {
       "config": {
        "plotlyServerURL": "https://plot.ly"
       },
       "data": [
        {
         "error_y": {
          "array": [
           0.020622898951201354,
           18.9676321883436,
           0.573986094337633,
           1.609649469501185,
           1.3785408296410002,
           1.4982067153342211
          ]
         },
         "marker": {
          "color": "#4285F4"
         },
         "name": "CCE, SD=4",
         "type": "bar",
         "x": [
          "supervised",
          "supervised_2_percent",
          "semi",
          "semi_sup_first",
          "semi_mixed",
          "unsupervised"
         ],
         "y": [
          99.9560411851623,
          3.138120085527375,
          91.01051363359095,
          -14.547694040676701,
          0.2932866444180909,
          -15.300565536731503
         ]
        },
        {
         "error_y": {
          "array": [
           4.333811603863678,
           14.409543343013683,
           0.3421391826499525,
           1.2072455352611033,
           0.6676133116692757,
           1.1002856555326814
          ]
         },
         "marker": {
          "color": "#EA4335"
         },
         "name": "JSD, SD=4",
         "type": "bar",
         "x": [
          "supervised",
          "supervised_2_percent",
          "semi",
          "semi_sup_first",
          "semi_mixed",
          "unsupervised"
         ],
         "y": [
          97.19888900664368,
          26.057070193319323,
          94.30239790929252,
          16.639024435488917,
          31.72506623790442,
          16.4325262097128
         ]
        },
        {
         "error_y": {
          "array": [
           0.006980151124956535,
           3.804655352151798,
           0.022477080021502616,
           0.584318881065002,
           1.2576392716936127,
           0.9445221823516903
          ]
         },
         "marker": {
          "color": "#000000"
         },
         "name": "CCE, SD=100",
         "type": "bar",
         "x": [
          "supervised",
          "supervised_2_percent",
          "semi",
          "semi_sup_first",
          "semi_mixed",
          "unsupervised"
         ],
         "y": [
          98.79512664348832,
          -49.18495335398657,
          69.13845488028488,
          13.29741140234455,
          20.26784809136283,
          14.280677425063729
         ]
        },
        {
         "error_y": {
          "array": [
           0,
           0,
           0.9052377896672184,
           0,
           0,
           0.6003484626865401
          ]
         },
         "marker": {
          "color": "#46BDC6"
         },
         "name": "JSD, SD=100",
         "type": "bar",
         "x": [
          "supervised",
          "supervised_2_percent",
          "semi",
          "semi_sup_first",
          "semi_mixed",
          "unsupervised"
         ],
         "y": [
          97.98146076048555,
          -47.19648402886591,
          82.43192930564419,
          72.30647159672948,
          73.61761962894947,
          68.22880616678275
         ]
        }
       ],
       "layout": {
        "height": 600,
        "template": {
         "data": {
          "bar": [
           {
            "error_x": {
             "color": "#2a3f5f"
            },
            "error_y": {
             "color": "#2a3f5f"
            },
            "marker": {
             "line": {
              "color": "#E5ECF6",
              "width": 0.5
             }
            },
            "type": "bar"
           }
          ],
          "barpolar": [
           {
            "marker": {
             "line": {
              "color": "#E5ECF6",
              "width": 0.5
             }
            },
            "type": "barpolar"
           }
          ],
          "carpet": [
           {
            "aaxis": {
             "endlinecolor": "#2a3f5f",
             "gridcolor": "white",
             "linecolor": "white",
             "minorgridcolor": "white",
             "startlinecolor": "#2a3f5f"
            },
            "baxis": {
             "endlinecolor": "#2a3f5f",
             "gridcolor": "white",
             "linecolor": "white",
             "minorgridcolor": "white",
             "startlinecolor": "#2a3f5f"
            },
            "type": "carpet"
           }
          ],
          "choropleth": [
           {
            "colorbar": {
             "outlinewidth": 0,
             "ticks": ""
            },
            "type": "choropleth"
           }
          ],
          "contour": [
           {
            "colorbar": {
             "outlinewidth": 0,
             "ticks": ""
            },
            "colorscale": [
             [
              0,
              "#0d0887"
             ],
             [
              0.1111111111111111,
              "#46039f"
             ],
             [
              0.2222222222222222,
              "#7201a8"
             ],
             [
              0.3333333333333333,
              "#9c179e"
             ],
             [
              0.4444444444444444,
              "#bd3786"
             ],
             [
              0.5555555555555556,
              "#d8576b"
             ],
             [
              0.6666666666666666,
              "#ed7953"
             ],
             [
              0.7777777777777778,
              "#fb9f3a"
             ],
             [
              0.8888888888888888,
              "#fdca26"
             ],
             [
              1,
              "#f0f921"
             ]
            ],
            "type": "contour"
           }
          ],
          "contourcarpet": [
           {
            "colorbar": {
             "outlinewidth": 0,
             "ticks": ""
            },
            "type": "contourcarpet"
           }
          ],
          "heatmap": [
           {
            "colorbar": {
             "outlinewidth": 0,
             "ticks": ""
            },
            "colorscale": [
             [
              0,
              "#0d0887"
             ],
             [
              0.1111111111111111,
              "#46039f"
             ],
             [
              0.2222222222222222,
              "#7201a8"
             ],
             [
              0.3333333333333333,
              "#9c179e"
             ],
             [
              0.4444444444444444,
              "#bd3786"
             ],
             [
              0.5555555555555556,
              "#d8576b"
             ],
             [
              0.6666666666666666,
              "#ed7953"
             ],
             [
              0.7777777777777778,
              "#fb9f3a"
             ],
             [
              0.8888888888888888,
              "#fdca26"
             ],
             [
              1,
              "#f0f921"
             ]
            ],
            "type": "heatmap"
           }
          ],
          "heatmapgl": [
           {
            "colorbar": {
             "outlinewidth": 0,
             "ticks": ""
            },
            "colorscale": [
             [
              0,
              "#0d0887"
             ],
             [
              0.1111111111111111,
              "#46039f"
             ],
             [
              0.2222222222222222,
              "#7201a8"
             ],
             [
              0.3333333333333333,
              "#9c179e"
             ],
             [
              0.4444444444444444,
              "#bd3786"
             ],
             [
              0.5555555555555556,
              "#d8576b"
             ],
             [
              0.6666666666666666,
              "#ed7953"
             ],
             [
              0.7777777777777778,
              "#fb9f3a"
             ],
             [
              0.8888888888888888,
              "#fdca26"
             ],
             [
              1,
              "#f0f921"
             ]
            ],
            "type": "heatmapgl"
           }
          ],
          "histogram": [
           {
            "marker": {
             "colorbar": {
              "outlinewidth": 0,
              "ticks": ""
             }
            },
            "type": "histogram"
           }
          ],
          "histogram2d": [
           {
            "colorbar": {
             "outlinewidth": 0,
             "ticks": ""
            },
            "colorscale": [
             [
              0,
              "#0d0887"
             ],
             [
              0.1111111111111111,
              "#46039f"
             ],
             [
              0.2222222222222222,
              "#7201a8"
             ],
             [
              0.3333333333333333,
              "#9c179e"
             ],
             [
              0.4444444444444444,
              "#bd3786"
             ],
             [
              0.5555555555555556,
              "#d8576b"
             ],
             [
              0.6666666666666666,
              "#ed7953"
             ],
             [
              0.7777777777777778,
              "#fb9f3a"
             ],
             [
              0.8888888888888888,
              "#fdca26"
             ],
             [
              1,
              "#f0f921"
             ]
            ],
            "type": "histogram2d"
           }
          ],
          "histogram2dcontour": [
           {
            "colorbar": {
             "outlinewidth": 0,
             "ticks": ""
            },
            "colorscale": [
             [
              0,
              "#0d0887"
             ],
             [
              0.1111111111111111,
              "#46039f"
             ],
             [
              0.2222222222222222,
              "#7201a8"
             ],
             [
              0.3333333333333333,
              "#9c179e"
             ],
             [
              0.4444444444444444,
              "#bd3786"
             ],
             [
              0.5555555555555556,
              "#d8576b"
             ],
             [
              0.6666666666666666,
              "#ed7953"
             ],
             [
              0.7777777777777778,
              "#fb9f3a"
             ],
             [
              0.8888888888888888,
              "#fdca26"
             ],
             [
              1,
              "#f0f921"
             ]
            ],
            "type": "histogram2dcontour"
           }
          ],
          "mesh3d": [
           {
            "colorbar": {
             "outlinewidth": 0,
             "ticks": ""
            },
            "type": "mesh3d"
           }
          ],
          "parcoords": [
           {
            "line": {
             "colorbar": {
              "outlinewidth": 0,
              "ticks": ""
             }
            },
            "type": "parcoords"
           }
          ],
          "pie": [
           {
            "automargin": true,
            "type": "pie"
           }
          ],
          "scatter": [
           {
            "marker": {
             "colorbar": {
              "outlinewidth": 0,
              "ticks": ""
             }
            },
            "type": "scatter"
           }
          ],
          "scatter3d": [
           {
            "line": {
             "colorbar": {
              "outlinewidth": 0,
              "ticks": ""
             }
            },
            "marker": {
             "colorbar": {
              "outlinewidth": 0,
              "ticks": ""
             }
            },
            "type": "scatter3d"
           }
          ],
          "scattercarpet": [
           {
            "marker": {
             "colorbar": {
              "outlinewidth": 0,
              "ticks": ""
             }
            },
            "type": "scattercarpet"
           }
          ],
          "scattergeo": [
           {
            "marker": {
             "colorbar": {
              "outlinewidth": 0,
              "ticks": ""
             }
            },
            "type": "scattergeo"
           }
          ],
          "scattergl": [
           {
            "marker": {
             "colorbar": {
              "outlinewidth": 0,
              "ticks": ""
             }
            },
            "type": "scattergl"
           }
          ],
          "scattermapbox": [
           {
            "marker": {
             "colorbar": {
              "outlinewidth": 0,
              "ticks": ""
             }
            },
            "type": "scattermapbox"
           }
          ],
          "scatterpolar": [
           {
            "marker": {
             "colorbar": {
              "outlinewidth": 0,
              "ticks": ""
             }
            },
            "type": "scatterpolar"
           }
          ],
          "scatterpolargl": [
           {
            "marker": {
             "colorbar": {
              "outlinewidth": 0,
              "ticks": ""
             }
            },
            "type": "scatterpolargl"
           }
          ],
          "scatterternary": [
           {
            "marker": {
             "colorbar": {
              "outlinewidth": 0,
              "ticks": ""
             }
            },
            "type": "scatterternary"
           }
          ],
          "surface": [
           {
            "colorbar": {
             "outlinewidth": 0,
             "ticks": ""
            },
            "colorscale": [
             [
              0,
              "#0d0887"
             ],
             [
              0.1111111111111111,
              "#46039f"
             ],
             [
              0.2222222222222222,
              "#7201a8"
             ],
             [
              0.3333333333333333,
              "#9c179e"
             ],
             [
              0.4444444444444444,
              "#bd3786"
             ],
             [
              0.5555555555555556,
              "#d8576b"
             ],
             [
              0.6666666666666666,
              "#ed7953"
             ],
             [
              0.7777777777777778,
              "#fb9f3a"
             ],
             [
              0.8888888888888888,
              "#fdca26"
             ],
             [
              1,
              "#f0f921"
             ]
            ],
            "type": "surface"
           }
          ],
          "table": [
           {
            "cells": {
             "fill": {
              "color": "#EBF0F8"
             },
             "line": {
              "color": "white"
             }
            },
            "header": {
             "fill": {
              "color": "#C8D4E3"
             },
             "line": {
              "color": "white"
             }
            },
            "type": "table"
           }
          ]
         },
         "layout": {
          "annotationdefaults": {
           "arrowcolor": "#2a3f5f",
           "arrowhead": 0,
           "arrowwidth": 1
          },
          "autotypenumbers": "strict",
          "coloraxis": {
           "colorbar": {
            "outlinewidth": 0,
            "ticks": ""
           }
          },
          "colorscale": {
           "diverging": [
            [
             0,
             "#8e0152"
            ],
            [
             0.1,
             "#c51b7d"
            ],
            [
             0.2,
             "#de77ae"
            ],
            [
             0.3,
             "#f1b6da"
            ],
            [
             0.4,
             "#fde0ef"
            ],
            [
             0.5,
             "#f7f7f7"
            ],
            [
             0.6,
             "#e6f5d0"
            ],
            [
             0.7,
             "#b8e186"
            ],
            [
             0.8,
             "#7fbc41"
            ],
            [
             0.9,
             "#4d9221"
            ],
            [
             1,
             "#276419"
            ]
           ],
           "sequential": [
            [
             0,
             "#0d0887"
            ],
            [
             0.1111111111111111,
             "#46039f"
            ],
            [
             0.2222222222222222,
             "#7201a8"
            ],
            [
             0.3333333333333333,
             "#9c179e"
            ],
            [
             0.4444444444444444,
             "#bd3786"
            ],
            [
             0.5555555555555556,
             "#d8576b"
            ],
            [
             0.6666666666666666,
             "#ed7953"
            ],
            [
             0.7777777777777778,
             "#fb9f3a"
            ],
            [
             0.8888888888888888,
             "#fdca26"
            ],
            [
             1,
             "#f0f921"
            ]
           ],
           "sequentialminus": [
            [
             0,
             "#0d0887"
            ],
            [
             0.1111111111111111,
             "#46039f"
            ],
            [
             0.2222222222222222,
             "#7201a8"
            ],
            [
             0.3333333333333333,
             "#9c179e"
            ],
            [
             0.4444444444444444,
             "#bd3786"
            ],
            [
             0.5555555555555556,
             "#d8576b"
            ],
            [
             0.6666666666666666,
             "#ed7953"
            ],
            [
             0.7777777777777778,
             "#fb9f3a"
            ],
            [
             0.8888888888888888,
             "#fdca26"
            ],
            [
             1,
             "#f0f921"
            ]
           ]
          },
          "colorway": [
           "#636efa",
           "#EF553B",
           "#00cc96",
           "#ab63fa",
           "#FFA15A",
           "#19d3f3",
           "#FF6692",
           "#B6E880",
           "#FF97FF",
           "#FECB52"
          ],
          "font": {
           "color": "#2a3f5f"
          },
          "geo": {
           "bgcolor": "white",
           "lakecolor": "white",
           "landcolor": "#E5ECF6",
           "showlakes": true,
           "showland": true,
           "subunitcolor": "white"
          },
          "hoverlabel": {
           "align": "left"
          },
          "hovermode": "closest",
          "mapbox": {
           "style": "light"
          },
          "paper_bgcolor": "white",
          "plot_bgcolor": "#E5ECF6",
          "polar": {
           "angularaxis": {
            "gridcolor": "white",
            "linecolor": "white",
            "ticks": ""
           },
           "bgcolor": "#E5ECF6",
           "radialaxis": {
            "gridcolor": "white",
            "linecolor": "white",
            "ticks": ""
           }
          },
          "scene": {
           "xaxis": {
            "backgroundcolor": "#E5ECF6",
            "gridcolor": "white",
            "gridwidth": 2,
            "linecolor": "white",
            "showbackground": true,
            "ticks": "",
            "zerolinecolor": "white"
           },
           "yaxis": {
            "backgroundcolor": "#E5ECF6",
            "gridcolor": "white",
            "gridwidth": 2,
            "linecolor": "white",
            "showbackground": true,
            "ticks": "",
            "zerolinecolor": "white"
           },
           "zaxis": {
            "backgroundcolor": "#E5ECF6",
            "gridcolor": "white",
            "gridwidth": 2,
            "linecolor": "white",
            "showbackground": true,
            "ticks": "",
            "zerolinecolor": "white"
           }
          },
          "shapedefaults": {
           "line": {
            "color": "#2a3f5f"
           }
          },
          "ternary": {
           "aaxis": {
            "gridcolor": "white",
            "linecolor": "white",
            "ticks": ""
           },
           "baxis": {
            "gridcolor": "white",
            "linecolor": "white",
            "ticks": ""
           },
           "bgcolor": "#E5ECF6",
           "caxis": {
            "gridcolor": "white",
            "linecolor": "white",
            "ticks": ""
           }
          },
          "title": {
           "x": 0.05
          },
          "xaxis": {
           "automargin": true,
           "gridcolor": "white",
           "linecolor": "white",
           "ticks": "",
           "title": {
            "standoff": 15
           },
           "zerolinecolor": "white",
           "zerolinewidth": 2
          },
          "yaxis": {
           "automargin": true,
           "gridcolor": "white",
           "linecolor": "white",
           "ticks": "",
           "title": {
            "standoff": 15
           },
           "zerolinecolor": "white",
           "zerolinewidth": 2
          }
         }
        },
        "title": {
         "text": "training_method"
        },
        "width": 1000,
        "yaxis": {
         "dtick": 25,
         "range": [
          -175,
          100
         ],
         "tick0": 0
        }
       }
      }
     },
     "metadata": {}
    },
    {
     "output_type": "display_data",
     "data": {
      "text/plain": "<Figure size 432x288 with 0 Axes>"
     },
     "metadata": {}
    }
   ],
   "source": [
    "plot_vals(0)\n",
    "plt.savefig(\"pictures/results_fig_0.svg\")"
   ]
  },
  {
   "cell_type": "code",
   "execution_count": 5,
   "id": "sealed-recall",
   "metadata": {},
   "outputs": [
    {
     "output_type": "display_data",
     "data": {
      "application/vnd.plotly.v1+json": {
       "config": {
        "plotlyServerURL": "https://plot.ly"
       },
       "data": [
        {
         "error_y": {
          "array": [
           0.573986094337633,
           376.035548261085,
           0.44514202619865895,
           0.6863771033983443,
           0.5172093280639062
          ]
         },
         "marker": {
          "color": "#4285F4"
         },
         "name": "CCE, SD=4",
         "type": "bar",
         "x": [
          "['sin', 'cos', 'linear', 'relu', 'swish']",
          "['relu']",
          "['relu', 'relu', 'relu', 'relu', 'relu']",
          "['sin', 'cos', 'linear']",
          "['sin', 'cos', 'linear', 'relu', 'sigmoid']"
         ],
         "y": [
          91.01051363359095,
          -267.08412665858253,
          93.14900506415118,
          85.05848008293351,
          89.04005822420308
         ]
        },
        {
         "error_y": {
          "array": [
           0.3421391826499525,
           92.622223711664,
           0.2921752659454831,
           0.8105687449002281,
           0.579125937277186
          ]
         },
         "marker": {
          "color": "#EA4335"
         },
         "name": "JSD, SD=4",
         "type": "bar",
         "x": [
          "['sin', 'cos', 'linear', 'relu', 'swish']",
          "['relu']",
          "['relu', 'relu', 'relu', 'relu', 'relu']",
          "['sin', 'cos', 'linear']",
          "['sin', 'cos', 'linear', 'relu', 'sigmoid']"
         ],
         "y": [
          94.30239790929252,
          -27.172355206047083,
          95.45696066661527,
          90.03161773806411,
          92.85429846688115
         ]
        },
        {
         "error_y": {
          "array": [
           1.4982067153342211,
           88.13702062545516,
           2.4331401452093457,
           0.9330052074021303,
           1.650030747422327
          ]
         },
         "marker": {
          "color": "#FBBC04"
         },
         "name": "CCEu, SD=4",
         "type": "bar",
         "x": [
          "['sin', 'cos', 'linear', 'relu', 'swish']",
          "['relu']",
          "['relu', 'relu', 'relu', 'relu', 'relu']",
          "['sin', 'cos', 'linear']",
          "['sin', 'cos', 'linear', 'relu', 'sigmoid']"
         ],
         "y": [
          -15.300565536731503,
          -80.45831027083598,
          -16.318359809033698,
          -14.924139368838084,
          -15.63349604558186
         ]
        },
        {
         "error_y": {
          "array": [
           1.1002856555326814,
           74.20925945632656,
           2.5486701537050513,
           1.4387502671386216,
           1.3083858657643526
          ]
         },
         "marker": {
          "color": "#34A853"
         },
         "name": "JSDu, SD=4",
         "type": "bar",
         "x": [
          "['sin', 'cos', 'linear', 'relu', 'swish']",
          "['relu']",
          "['relu', 'relu', 'relu', 'relu', 'relu']",
          "['sin', 'cos', 'linear']",
          "['sin', 'cos', 'linear', 'relu', 'sigmoid']"
         ],
         "y": [
          16.4325262097128,
          10.772952782635793,
          18.662916636307127,
          19.339609956948355,
          16.398764839467667
         ]
        },
        {
         "error_y": {
          "array": [
           0.022477080021502616,
           0.49428029744061064,
           0.976181379727322,
           0.13096591568876903,
           2.498343245271645
          ]
         },
         "marker": {
          "color": "#000000"
         },
         "name": "CCE, SD=100",
         "type": "bar",
         "x": [
          "['sin', 'cos', 'linear', 'relu', 'swish']",
          "['relu']",
          "['relu', 'relu', 'relu', 'relu', 'relu']",
          "['sin', 'cos', 'linear']",
          "['sin', 'cos', 'linear', 'relu', 'sigmoid']"
         ],
         "y": [
          69.13845488028488,
          -54.26339996410488,
          78.90449831791794,
          50.50142630815244,
          65.0990501480714
         ]
        },
        {
         "error_y": {
          "array": [
           0.9052377896672184,
           0,
           0,
           0,
           0
          ]
         },
         "marker": {
          "color": "#46BDC6"
         },
         "name": "JSD, SD=100",
         "type": "bar",
         "x": [
          "['sin', 'cos', 'linear', 'relu', 'swish']",
          "['relu']",
          "['relu', 'relu', 'relu', 'relu', 'relu']",
          "['sin', 'cos', 'linear']",
          "['sin', 'cos', 'linear', 'relu', 'sigmoid']"
         ],
         "y": [
          82.43192930564419,
          -49.93583423178998,
          87.67764727323245,
          -24.68646831531413,
          78.08247426506617
         ]
        }
       ],
       "layout": {
        "height": 600,
        "template": {
         "data": {
          "bar": [
           {
            "error_x": {
             "color": "#2a3f5f"
            },
            "error_y": {
             "color": "#2a3f5f"
            },
            "marker": {
             "line": {
              "color": "#E5ECF6",
              "width": 0.5
             }
            },
            "type": "bar"
           }
          ],
          "barpolar": [
           {
            "marker": {
             "line": {
              "color": "#E5ECF6",
              "width": 0.5
             }
            },
            "type": "barpolar"
           }
          ],
          "carpet": [
           {
            "aaxis": {
             "endlinecolor": "#2a3f5f",
             "gridcolor": "white",
             "linecolor": "white",
             "minorgridcolor": "white",
             "startlinecolor": "#2a3f5f"
            },
            "baxis": {
             "endlinecolor": "#2a3f5f",
             "gridcolor": "white",
             "linecolor": "white",
             "minorgridcolor": "white",
             "startlinecolor": "#2a3f5f"
            },
            "type": "carpet"
           }
          ],
          "choropleth": [
           {
            "colorbar": {
             "outlinewidth": 0,
             "ticks": ""
            },
            "type": "choropleth"
           }
          ],
          "contour": [
           {
            "colorbar": {
             "outlinewidth": 0,
             "ticks": ""
            },
            "colorscale": [
             [
              0,
              "#0d0887"
             ],
             [
              0.1111111111111111,
              "#46039f"
             ],
             [
              0.2222222222222222,
              "#7201a8"
             ],
             [
              0.3333333333333333,
              "#9c179e"
             ],
             [
              0.4444444444444444,
              "#bd3786"
             ],
             [
              0.5555555555555556,
              "#d8576b"
             ],
             [
              0.6666666666666666,
              "#ed7953"
             ],
             [
              0.7777777777777778,
              "#fb9f3a"
             ],
             [
              0.8888888888888888,
              "#fdca26"
             ],
             [
              1,
              "#f0f921"
             ]
            ],
            "type": "contour"
           }
          ],
          "contourcarpet": [
           {
            "colorbar": {
             "outlinewidth": 0,
             "ticks": ""
            },
            "type": "contourcarpet"
           }
          ],
          "heatmap": [
           {
            "colorbar": {
             "outlinewidth": 0,
             "ticks": ""
            },
            "colorscale": [
             [
              0,
              "#0d0887"
             ],
             [
              0.1111111111111111,
              "#46039f"
             ],
             [
              0.2222222222222222,
              "#7201a8"
             ],
             [
              0.3333333333333333,
              "#9c179e"
             ],
             [
              0.4444444444444444,
              "#bd3786"
             ],
             [
              0.5555555555555556,
              "#d8576b"
             ],
             [
              0.6666666666666666,
              "#ed7953"
             ],
             [
              0.7777777777777778,
              "#fb9f3a"
             ],
             [
              0.8888888888888888,
              "#fdca26"
             ],
             [
              1,
              "#f0f921"
             ]
            ],
            "type": "heatmap"
           }
          ],
          "heatmapgl": [
           {
            "colorbar": {
             "outlinewidth": 0,
             "ticks": ""
            },
            "colorscale": [
             [
              0,
              "#0d0887"
             ],
             [
              0.1111111111111111,
              "#46039f"
             ],
             [
              0.2222222222222222,
              "#7201a8"
             ],
             [
              0.3333333333333333,
              "#9c179e"
             ],
             [
              0.4444444444444444,
              "#bd3786"
             ],
             [
              0.5555555555555556,
              "#d8576b"
             ],
             [
              0.6666666666666666,
              "#ed7953"
             ],
             [
              0.7777777777777778,
              "#fb9f3a"
             ],
             [
              0.8888888888888888,
              "#fdca26"
             ],
             [
              1,
              "#f0f921"
             ]
            ],
            "type": "heatmapgl"
           }
          ],
          "histogram": [
           {
            "marker": {
             "colorbar": {
              "outlinewidth": 0,
              "ticks": ""
             }
            },
            "type": "histogram"
           }
          ],
          "histogram2d": [
           {
            "colorbar": {
             "outlinewidth": 0,
             "ticks": ""
            },
            "colorscale": [
             [
              0,
              "#0d0887"
             ],
             [
              0.1111111111111111,
              "#46039f"
             ],
             [
              0.2222222222222222,
              "#7201a8"
             ],
             [
              0.3333333333333333,
              "#9c179e"
             ],
             [
              0.4444444444444444,
              "#bd3786"
             ],
             [
              0.5555555555555556,
              "#d8576b"
             ],
             [
              0.6666666666666666,
              "#ed7953"
             ],
             [
              0.7777777777777778,
              "#fb9f3a"
             ],
             [
              0.8888888888888888,
              "#fdca26"
             ],
             [
              1,
              "#f0f921"
             ]
            ],
            "type": "histogram2d"
           }
          ],
          "histogram2dcontour": [
           {
            "colorbar": {
             "outlinewidth": 0,
             "ticks": ""
            },
            "colorscale": [
             [
              0,
              "#0d0887"
             ],
             [
              0.1111111111111111,
              "#46039f"
             ],
             [
              0.2222222222222222,
              "#7201a8"
             ],
             [
              0.3333333333333333,
              "#9c179e"
             ],
             [
              0.4444444444444444,
              "#bd3786"
             ],
             [
              0.5555555555555556,
              "#d8576b"
             ],
             [
              0.6666666666666666,
              "#ed7953"
             ],
             [
              0.7777777777777778,
              "#fb9f3a"
             ],
             [
              0.8888888888888888,
              "#fdca26"
             ],
             [
              1,
              "#f0f921"
             ]
            ],
            "type": "histogram2dcontour"
           }
          ],
          "mesh3d": [
           {
            "colorbar": {
             "outlinewidth": 0,
             "ticks": ""
            },
            "type": "mesh3d"
           }
          ],
          "parcoords": [
           {
            "line": {
             "colorbar": {
              "outlinewidth": 0,
              "ticks": ""
             }
            },
            "type": "parcoords"
           }
          ],
          "pie": [
           {
            "automargin": true,
            "type": "pie"
           }
          ],
          "scatter": [
           {
            "marker": {
             "colorbar": {
              "outlinewidth": 0,
              "ticks": ""
             }
            },
            "type": "scatter"
           }
          ],
          "scatter3d": [
           {
            "line": {
             "colorbar": {
              "outlinewidth": 0,
              "ticks": ""
             }
            },
            "marker": {
             "colorbar": {
              "outlinewidth": 0,
              "ticks": ""
             }
            },
            "type": "scatter3d"
           }
          ],
          "scattercarpet": [
           {
            "marker": {
             "colorbar": {
              "outlinewidth": 0,
              "ticks": ""
             }
            },
            "type": "scattercarpet"
           }
          ],
          "scattergeo": [
           {
            "marker": {
             "colorbar": {
              "outlinewidth": 0,
              "ticks": ""
             }
            },
            "type": "scattergeo"
           }
          ],
          "scattergl": [
           {
            "marker": {
             "colorbar": {
              "outlinewidth": 0,
              "ticks": ""
             }
            },
            "type": "scattergl"
           }
          ],
          "scattermapbox": [
           {
            "marker": {
             "colorbar": {
              "outlinewidth": 0,
              "ticks": ""
             }
            },
            "type": "scattermapbox"
           }
          ],
          "scatterpolar": [
           {
            "marker": {
             "colorbar": {
              "outlinewidth": 0,
              "ticks": ""
             }
            },
            "type": "scatterpolar"
           }
          ],
          "scatterpolargl": [
           {
            "marker": {
             "colorbar": {
              "outlinewidth": 0,
              "ticks": ""
             }
            },
            "type": "scatterpolargl"
           }
          ],
          "scatterternary": [
           {
            "marker": {
             "colorbar": {
              "outlinewidth": 0,
              "ticks": ""
             }
            },
            "type": "scatterternary"
           }
          ],
          "surface": [
           {
            "colorbar": {
             "outlinewidth": 0,
             "ticks": ""
            },
            "colorscale": [
             [
              0,
              "#0d0887"
             ],
             [
              0.1111111111111111,
              "#46039f"
             ],
             [
              0.2222222222222222,
              "#7201a8"
             ],
             [
              0.3333333333333333,
              "#9c179e"
             ],
             [
              0.4444444444444444,
              "#bd3786"
             ],
             [
              0.5555555555555556,
              "#d8576b"
             ],
             [
              0.6666666666666666,
              "#ed7953"
             ],
             [
              0.7777777777777778,
              "#fb9f3a"
             ],
             [
              0.8888888888888888,
              "#fdca26"
             ],
             [
              1,
              "#f0f921"
             ]
            ],
            "type": "surface"
           }
          ],
          "table": [
           {
            "cells": {
             "fill": {
              "color": "#EBF0F8"
             },
             "line": {
              "color": "white"
             }
            },
            "header": {
             "fill": {
              "color": "#C8D4E3"
             },
             "line": {
              "color": "white"
             }
            },
            "type": "table"
           }
          ]
         },
         "layout": {
          "annotationdefaults": {
           "arrowcolor": "#2a3f5f",
           "arrowhead": 0,
           "arrowwidth": 1
          },
          "autotypenumbers": "strict",
          "coloraxis": {
           "colorbar": {
            "outlinewidth": 0,
            "ticks": ""
           }
          },
          "colorscale": {
           "diverging": [
            [
             0,
             "#8e0152"
            ],
            [
             0.1,
             "#c51b7d"
            ],
            [
             0.2,
             "#de77ae"
            ],
            [
             0.3,
             "#f1b6da"
            ],
            [
             0.4,
             "#fde0ef"
            ],
            [
             0.5,
             "#f7f7f7"
            ],
            [
             0.6,
             "#e6f5d0"
            ],
            [
             0.7,
             "#b8e186"
            ],
            [
             0.8,
             "#7fbc41"
            ],
            [
             0.9,
             "#4d9221"
            ],
            [
             1,
             "#276419"
            ]
           ],
           "sequential": [
            [
             0,
             "#0d0887"
            ],
            [
             0.1111111111111111,
             "#46039f"
            ],
            [
             0.2222222222222222,
             "#7201a8"
            ],
            [
             0.3333333333333333,
             "#9c179e"
            ],
            [
             0.4444444444444444,
             "#bd3786"
            ],
            [
             0.5555555555555556,
             "#d8576b"
            ],
            [
             0.6666666666666666,
             "#ed7953"
            ],
            [
             0.7777777777777778,
             "#fb9f3a"
            ],
            [
             0.8888888888888888,
             "#fdca26"
            ],
            [
             1,
             "#f0f921"
            ]
           ],
           "sequentialminus": [
            [
             0,
             "#0d0887"
            ],
            [
             0.1111111111111111,
             "#46039f"
            ],
            [
             0.2222222222222222,
             "#7201a8"
            ],
            [
             0.3333333333333333,
             "#9c179e"
            ],
            [
             0.4444444444444444,
             "#bd3786"
            ],
            [
             0.5555555555555556,
             "#d8576b"
            ],
            [
             0.6666666666666666,
             "#ed7953"
            ],
            [
             0.7777777777777778,
             "#fb9f3a"
            ],
            [
             0.8888888888888888,
             "#fdca26"
            ],
            [
             1,
             "#f0f921"
            ]
           ]
          },
          "colorway": [
           "#636efa",
           "#EF553B",
           "#00cc96",
           "#ab63fa",
           "#FFA15A",
           "#19d3f3",
           "#FF6692",
           "#B6E880",
           "#FF97FF",
           "#FECB52"
          ],
          "font": {
           "color": "#2a3f5f"
          },
          "geo": {
           "bgcolor": "white",
           "lakecolor": "white",
           "landcolor": "#E5ECF6",
           "showlakes": true,
           "showland": true,
           "subunitcolor": "white"
          },
          "hoverlabel": {
           "align": "left"
          },
          "hovermode": "closest",
          "mapbox": {
           "style": "light"
          },
          "paper_bgcolor": "white",
          "plot_bgcolor": "#E5ECF6",
          "polar": {
           "angularaxis": {
            "gridcolor": "white",
            "linecolor": "white",
            "ticks": ""
           },
           "bgcolor": "#E5ECF6",
           "radialaxis": {
            "gridcolor": "white",
            "linecolor": "white",
            "ticks": ""
           }
          },
          "scene": {
           "xaxis": {
            "backgroundcolor": "#E5ECF6",
            "gridcolor": "white",
            "gridwidth": 2,
            "linecolor": "white",
            "showbackground": true,
            "ticks": "",
            "zerolinecolor": "white"
           },
           "yaxis": {
            "backgroundcolor": "#E5ECF6",
            "gridcolor": "white",
            "gridwidth": 2,
            "linecolor": "white",
            "showbackground": true,
            "ticks": "",
            "zerolinecolor": "white"
           },
           "zaxis": {
            "backgroundcolor": "#E5ECF6",
            "gridcolor": "white",
            "gridwidth": 2,
            "linecolor": "white",
            "showbackground": true,
            "ticks": "",
            "zerolinecolor": "white"
           }
          },
          "shapedefaults": {
           "line": {
            "color": "#2a3f5f"
           }
          },
          "ternary": {
           "aaxis": {
            "gridcolor": "white",
            "linecolor": "white",
            "ticks": ""
           },
           "baxis": {
            "gridcolor": "white",
            "linecolor": "white",
            "ticks": ""
           },
           "bgcolor": "#E5ECF6",
           "caxis": {
            "gridcolor": "white",
            "linecolor": "white",
            "ticks": ""
           }
          },
          "title": {
           "x": 0.05
          },
          "xaxis": {
           "automargin": true,
           "gridcolor": "white",
           "linecolor": "white",
           "ticks": "",
           "title": {
            "standoff": 15
           },
           "zerolinecolor": "white",
           "zerolinewidth": 2
          },
          "yaxis": {
           "automargin": true,
           "gridcolor": "white",
           "linecolor": "white",
           "ticks": "",
           "title": {
            "standoff": 15
           },
           "zerolinecolor": "white",
           "zerolinewidth": 2
          }
         }
        },
        "title": {
         "text": "activation_types"
        },
        "width": 1000,
        "yaxis": {
         "dtick": 25,
         "range": [
          -175,
          100
         ],
         "tick0": 0
        }
       }
      }
     },
     "metadata": {}
    },
    {
     "output_type": "display_data",
     "data": {
      "text/plain": "<Figure size 432x288 with 0 Axes>"
     },
     "metadata": {}
    }
   ],
   "source": [
    "plot_vals(1)\n",
    "plt.savefig(\"pictures/results_fig_1.svg\")"
   ]
  },
  {
   "cell_type": "code",
   "execution_count": 6,
   "id": "broken-court",
   "metadata": {},
   "outputs": [
    {
     "output_type": "display_data",
     "data": {
      "application/vnd.plotly.v1+json": {
       "config": {
        "plotlyServerURL": "https://plot.ly"
       },
       "data": [
        {
         "error_y": {
          "array": [
           0.42627615859475826,
           0.573986094337633,
           0.679654456845417,
           1.4893218362342637,
           0.9759862530239997,
           0.9791808529431207,
           16.02209907953952
          ]
         },
         "marker": {
          "color": "#4285F4"
         },
         "name": "CCE, SD=4",
         "type": "bar",
         "x": [
          "dense",
          "gaussian_noise",
          "gaussian_dropout",
          "sqrt_softmax",
          "gaussian_kernel",
          "CNN",
          "VAE"
         ],
         "y": [
          92.84871275773925,
          91.01051363359095,
          92.42657941331625,
          89.34709492318257,
          92.35723836424515,
          95.74523626170799,
          -509.8114900214637
         ]
        },
        {
         "error_y": {
          "array": [
           0.23965049725741977,
           0.3421391826499525,
           0.4817551547524441,
           1.494349491906258,
           2.9278710769597605,
           0.5432335490355463,
           23.435898394571076
          ]
         },
         "marker": {
          "color": "#EA4335"
         },
         "name": "JSD, SD=4",
         "type": "bar",
         "x": [
          "dense",
          "gaussian_noise",
          "gaussian_dropout",
          "sqrt_softmax",
          "gaussian_kernel",
          "CNN",
          "VAE"
         ],
         "y": [
          94.80023638033909,
          94.30239790929252,
          94.62271798216679,
          93.24054256707133,
          93.87821024256597,
          96.57291778431865,
          -617.3975183831117
         ]
        },
        {
         "error_y": {
          "array": [
           1.5721396149808262,
           1.4982067153342211,
           2.465211665560762,
           1.2180111903269049,
           2.6918135011406132,
           3.427518370650631,
           10.568231244289608
          ]
         },
         "marker": {
          "color": "#FBBC04"
         },
         "name": "CCEu, SD=4",
         "type": "bar",
         "x": [
          "dense",
          "gaussian_noise",
          "gaussian_dropout",
          "sqrt_softmax",
          "gaussian_kernel",
          "CNN",
          "VAE"
         ],
         "y": [
          -10.552451820138213,
          -15.300565536731503,
          -11.907516169429742,
          -10.921730265850682,
          -8.864673313968021,
          -5.56886309802906,
          -539.7930934731729
         ]
        },
        {
         "error_y": {
          "array": [
           4.802415462282249,
           1.1002856555326814,
           2.162997568430199,
           3.688005993312382,
           11.316367322936006,
           3.9932191558637298,
           4.1453711517197425
          ]
         },
         "marker": {
          "color": "#34A853"
         },
         "name": "JSDu, SD=4",
         "type": "bar",
         "x": [
          "dense",
          "gaussian_noise",
          "gaussian_dropout",
          "sqrt_softmax",
          "gaussian_kernel",
          "CNN",
          "VAE"
         ],
         "y": [
          14.959042876886421,
          16.4325262097128,
          11.89604395338497,
          13.049155661728014,
          15.503172916956414,
          5.332123998162172,
          -660.8932044557463
         ]
        },
        {
         "error_y": {
          "array": [
           1.137229765291238,
           0.022477080021502616,
           2.4570337176804458,
           7.1959736493435,
           1.2592245568527574,
           1.9304173821312958,
           0.030613677495225033
          ]
         },
         "marker": {
          "color": "#000000"
         },
         "name": "CCE, SD=100",
         "type": "bar",
         "x": [
          "dense",
          "gaussian_noise",
          "gaussian_dropout",
          "sqrt_softmax",
          "gaussian_kernel",
          "CNN",
          "VAE"
         ],
         "y": [
          65.68723315299607,
          69.13845488028488,
          69.10597437074455,
          -24.51989254152565,
          64.94438611688236,
          67.35631348861885,
          -140.26685412278152
         ]
        },
        {
         "error_y": {
          "array": [
           0,
           0.9052377896672184,
           0,
           0,
           0,
           0,
           0
          ]
         },
         "marker": {
          "color": "#46BDC6"
         },
         "name": "JSD, SD=100",
         "type": "bar",
         "x": [
          "dense",
          "gaussian_noise",
          "gaussian_dropout",
          "sqrt_softmax",
          "gaussian_kernel",
          "CNN",
          "VAE"
         ],
         "y": [
          72.95730158280784,
          82.43192930564419,
          76.27231573126512,
          -47.25310468075804,
          74.91341154494015,
          73.055887746061,
          -145.17552723367194
         ]
        }
       ],
       "layout": {
        "height": 600,
        "template": {
         "data": {
          "bar": [
           {
            "error_x": {
             "color": "#2a3f5f"
            },
            "error_y": {
             "color": "#2a3f5f"
            },
            "marker": {
             "line": {
              "color": "#E5ECF6",
              "width": 0.5
             }
            },
            "type": "bar"
           }
          ],
          "barpolar": [
           {
            "marker": {
             "line": {
              "color": "#E5ECF6",
              "width": 0.5
             }
            },
            "type": "barpolar"
           }
          ],
          "carpet": [
           {
            "aaxis": {
             "endlinecolor": "#2a3f5f",
             "gridcolor": "white",
             "linecolor": "white",
             "minorgridcolor": "white",
             "startlinecolor": "#2a3f5f"
            },
            "baxis": {
             "endlinecolor": "#2a3f5f",
             "gridcolor": "white",
             "linecolor": "white",
             "minorgridcolor": "white",
             "startlinecolor": "#2a3f5f"
            },
            "type": "carpet"
           }
          ],
          "choropleth": [
           {
            "colorbar": {
             "outlinewidth": 0,
             "ticks": ""
            },
            "type": "choropleth"
           }
          ],
          "contour": [
           {
            "colorbar": {
             "outlinewidth": 0,
             "ticks": ""
            },
            "colorscale": [
             [
              0,
              "#0d0887"
             ],
             [
              0.1111111111111111,
              "#46039f"
             ],
             [
              0.2222222222222222,
              "#7201a8"
             ],
             [
              0.3333333333333333,
              "#9c179e"
             ],
             [
              0.4444444444444444,
              "#bd3786"
             ],
             [
              0.5555555555555556,
              "#d8576b"
             ],
             [
              0.6666666666666666,
              "#ed7953"
             ],
             [
              0.7777777777777778,
              "#fb9f3a"
             ],
             [
              0.8888888888888888,
              "#fdca26"
             ],
             [
              1,
              "#f0f921"
             ]
            ],
            "type": "contour"
           }
          ],
          "contourcarpet": [
           {
            "colorbar": {
             "outlinewidth": 0,
             "ticks": ""
            },
            "type": "contourcarpet"
           }
          ],
          "heatmap": [
           {
            "colorbar": {
             "outlinewidth": 0,
             "ticks": ""
            },
            "colorscale": [
             [
              0,
              "#0d0887"
             ],
             [
              0.1111111111111111,
              "#46039f"
             ],
             [
              0.2222222222222222,
              "#7201a8"
             ],
             [
              0.3333333333333333,
              "#9c179e"
             ],
             [
              0.4444444444444444,
              "#bd3786"
             ],
             [
              0.5555555555555556,
              "#d8576b"
             ],
             [
              0.6666666666666666,
              "#ed7953"
             ],
             [
              0.7777777777777778,
              "#fb9f3a"
             ],
             [
              0.8888888888888888,
              "#fdca26"
             ],
             [
              1,
              "#f0f921"
             ]
            ],
            "type": "heatmap"
           }
          ],
          "heatmapgl": [
           {
            "colorbar": {
             "outlinewidth": 0,
             "ticks": ""
            },
            "colorscale": [
             [
              0,
              "#0d0887"
             ],
             [
              0.1111111111111111,
              "#46039f"
             ],
             [
              0.2222222222222222,
              "#7201a8"
             ],
             [
              0.3333333333333333,
              "#9c179e"
             ],
             [
              0.4444444444444444,
              "#bd3786"
             ],
             [
              0.5555555555555556,
              "#d8576b"
             ],
             [
              0.6666666666666666,
              "#ed7953"
             ],
             [
              0.7777777777777778,
              "#fb9f3a"
             ],
             [
              0.8888888888888888,
              "#fdca26"
             ],
             [
              1,
              "#f0f921"
             ]
            ],
            "type": "heatmapgl"
           }
          ],
          "histogram": [
           {
            "marker": {
             "colorbar": {
              "outlinewidth": 0,
              "ticks": ""
             }
            },
            "type": "histogram"
           }
          ],
          "histogram2d": [
           {
            "colorbar": {
             "outlinewidth": 0,
             "ticks": ""
            },
            "colorscale": [
             [
              0,
              "#0d0887"
             ],
             [
              0.1111111111111111,
              "#46039f"
             ],
             [
              0.2222222222222222,
              "#7201a8"
             ],
             [
              0.3333333333333333,
              "#9c179e"
             ],
             [
              0.4444444444444444,
              "#bd3786"
             ],
             [
              0.5555555555555556,
              "#d8576b"
             ],
             [
              0.6666666666666666,
              "#ed7953"
             ],
             [
              0.7777777777777778,
              "#fb9f3a"
             ],
             [
              0.8888888888888888,
              "#fdca26"
             ],
             [
              1,
              "#f0f921"
             ]
            ],
            "type": "histogram2d"
           }
          ],
          "histogram2dcontour": [
           {
            "colorbar": {
             "outlinewidth": 0,
             "ticks": ""
            },
            "colorscale": [
             [
              0,
              "#0d0887"
             ],
             [
              0.1111111111111111,
              "#46039f"
             ],
             [
              0.2222222222222222,
              "#7201a8"
             ],
             [
              0.3333333333333333,
              "#9c179e"
             ],
             [
              0.4444444444444444,
              "#bd3786"
             ],
             [
              0.5555555555555556,
              "#d8576b"
             ],
             [
              0.6666666666666666,
              "#ed7953"
             ],
             [
              0.7777777777777778,
              "#fb9f3a"
             ],
             [
              0.8888888888888888,
              "#fdca26"
             ],
             [
              1,
              "#f0f921"
             ]
            ],
            "type": "histogram2dcontour"
           }
          ],
          "mesh3d": [
           {
            "colorbar": {
             "outlinewidth": 0,
             "ticks": ""
            },
            "type": "mesh3d"
           }
          ],
          "parcoords": [
           {
            "line": {
             "colorbar": {
              "outlinewidth": 0,
              "ticks": ""
             }
            },
            "type": "parcoords"
           }
          ],
          "pie": [
           {
            "automargin": true,
            "type": "pie"
           }
          ],
          "scatter": [
           {
            "marker": {
             "colorbar": {
              "outlinewidth": 0,
              "ticks": ""
             }
            },
            "type": "scatter"
           }
          ],
          "scatter3d": [
           {
            "line": {
             "colorbar": {
              "outlinewidth": 0,
              "ticks": ""
             }
            },
            "marker": {
             "colorbar": {
              "outlinewidth": 0,
              "ticks": ""
             }
            },
            "type": "scatter3d"
           }
          ],
          "scattercarpet": [
           {
            "marker": {
             "colorbar": {
              "outlinewidth": 0,
              "ticks": ""
             }
            },
            "type": "scattercarpet"
           }
          ],
          "scattergeo": [
           {
            "marker": {
             "colorbar": {
              "outlinewidth": 0,
              "ticks": ""
             }
            },
            "type": "scattergeo"
           }
          ],
          "scattergl": [
           {
            "marker": {
             "colorbar": {
              "outlinewidth": 0,
              "ticks": ""
             }
            },
            "type": "scattergl"
           }
          ],
          "scattermapbox": [
           {
            "marker": {
             "colorbar": {
              "outlinewidth": 0,
              "ticks": ""
             }
            },
            "type": "scattermapbox"
           }
          ],
          "scatterpolar": [
           {
            "marker": {
             "colorbar": {
              "outlinewidth": 0,
              "ticks": ""
             }
            },
            "type": "scatterpolar"
           }
          ],
          "scatterpolargl": [
           {
            "marker": {
             "colorbar": {
              "outlinewidth": 0,
              "ticks": ""
             }
            },
            "type": "scatterpolargl"
           }
          ],
          "scatterternary": [
           {
            "marker": {
             "colorbar": {
              "outlinewidth": 0,
              "ticks": ""
             }
            },
            "type": "scatterternary"
           }
          ],
          "surface": [
           {
            "colorbar": {
             "outlinewidth": 0,
             "ticks": ""
            },
            "colorscale": [
             [
              0,
              "#0d0887"
             ],
             [
              0.1111111111111111,
              "#46039f"
             ],
             [
              0.2222222222222222,
              "#7201a8"
             ],
             [
              0.3333333333333333,
              "#9c179e"
             ],
             [
              0.4444444444444444,
              "#bd3786"
             ],
             [
              0.5555555555555556,
              "#d8576b"
             ],
             [
              0.6666666666666666,
              "#ed7953"
             ],
             [
              0.7777777777777778,
              "#fb9f3a"
             ],
             [
              0.8888888888888888,
              "#fdca26"
             ],
             [
              1,
              "#f0f921"
             ]
            ],
            "type": "surface"
           }
          ],
          "table": [
           {
            "cells": {
             "fill": {
              "color": "#EBF0F8"
             },
             "line": {
              "color": "white"
             }
            },
            "header": {
             "fill": {
              "color": "#C8D4E3"
             },
             "line": {
              "color": "white"
             }
            },
            "type": "table"
           }
          ]
         },
         "layout": {
          "annotationdefaults": {
           "arrowcolor": "#2a3f5f",
           "arrowhead": 0,
           "arrowwidth": 1
          },
          "autotypenumbers": "strict",
          "coloraxis": {
           "colorbar": {
            "outlinewidth": 0,
            "ticks": ""
           }
          },
          "colorscale": {
           "diverging": [
            [
             0,
             "#8e0152"
            ],
            [
             0.1,
             "#c51b7d"
            ],
            [
             0.2,
             "#de77ae"
            ],
            [
             0.3,
             "#f1b6da"
            ],
            [
             0.4,
             "#fde0ef"
            ],
            [
             0.5,
             "#f7f7f7"
            ],
            [
             0.6,
             "#e6f5d0"
            ],
            [
             0.7,
             "#b8e186"
            ],
            [
             0.8,
             "#7fbc41"
            ],
            [
             0.9,
             "#4d9221"
            ],
            [
             1,
             "#276419"
            ]
           ],
           "sequential": [
            [
             0,
             "#0d0887"
            ],
            [
             0.1111111111111111,
             "#46039f"
            ],
            [
             0.2222222222222222,
             "#7201a8"
            ],
            [
             0.3333333333333333,
             "#9c179e"
            ],
            [
             0.4444444444444444,
             "#bd3786"
            ],
            [
             0.5555555555555556,
             "#d8576b"
            ],
            [
             0.6666666666666666,
             "#ed7953"
            ],
            [
             0.7777777777777778,
             "#fb9f3a"
            ],
            [
             0.8888888888888888,
             "#fdca26"
            ],
            [
             1,
             "#f0f921"
            ]
           ],
           "sequentialminus": [
            [
             0,
             "#0d0887"
            ],
            [
             0.1111111111111111,
             "#46039f"
            ],
            [
             0.2222222222222222,
             "#7201a8"
            ],
            [
             0.3333333333333333,
             "#9c179e"
            ],
            [
             0.4444444444444444,
             "#bd3786"
            ],
            [
             0.5555555555555556,
             "#d8576b"
            ],
            [
             0.6666666666666666,
             "#ed7953"
            ],
            [
             0.7777777777777778,
             "#fb9f3a"
            ],
            [
             0.8888888888888888,
             "#fdca26"
            ],
            [
             1,
             "#f0f921"
            ]
           ]
          },
          "colorway": [
           "#636efa",
           "#EF553B",
           "#00cc96",
           "#ab63fa",
           "#FFA15A",
           "#19d3f3",
           "#FF6692",
           "#B6E880",
           "#FF97FF",
           "#FECB52"
          ],
          "font": {
           "color": "#2a3f5f"
          },
          "geo": {
           "bgcolor": "white",
           "lakecolor": "white",
           "landcolor": "#E5ECF6",
           "showlakes": true,
           "showland": true,
           "subunitcolor": "white"
          },
          "hoverlabel": {
           "align": "left"
          },
          "hovermode": "closest",
          "mapbox": {
           "style": "light"
          },
          "paper_bgcolor": "white",
          "plot_bgcolor": "#E5ECF6",
          "polar": {
           "angularaxis": {
            "gridcolor": "white",
            "linecolor": "white",
            "ticks": ""
           },
           "bgcolor": "#E5ECF6",
           "radialaxis": {
            "gridcolor": "white",
            "linecolor": "white",
            "ticks": ""
           }
          },
          "scene": {
           "xaxis": {
            "backgroundcolor": "#E5ECF6",
            "gridcolor": "white",
            "gridwidth": 2,
            "linecolor": "white",
            "showbackground": true,
            "ticks": "",
            "zerolinecolor": "white"
           },
           "yaxis": {
            "backgroundcolor": "#E5ECF6",
            "gridcolor": "white",
            "gridwidth": 2,
            "linecolor": "white",
            "showbackground": true,
            "ticks": "",
            "zerolinecolor": "white"
           },
           "zaxis": {
            "backgroundcolor": "#E5ECF6",
            "gridcolor": "white",
            "gridwidth": 2,
            "linecolor": "white",
            "showbackground": true,
            "ticks": "",
            "zerolinecolor": "white"
           }
          },
          "shapedefaults": {
           "line": {
            "color": "#2a3f5f"
           }
          },
          "ternary": {
           "aaxis": {
            "gridcolor": "white",
            "linecolor": "white",
            "ticks": ""
           },
           "baxis": {
            "gridcolor": "white",
            "linecolor": "white",
            "ticks": ""
           },
           "bgcolor": "#E5ECF6",
           "caxis": {
            "gridcolor": "white",
            "linecolor": "white",
            "ticks": ""
           }
          },
          "title": {
           "x": 0.05
          },
          "xaxis": {
           "automargin": true,
           "gridcolor": "white",
           "linecolor": "white",
           "ticks": "",
           "title": {
            "standoff": 15
           },
           "zerolinecolor": "white",
           "zerolinewidth": 2
          },
          "yaxis": {
           "automargin": true,
           "gridcolor": "white",
           "linecolor": "white",
           "ticks": "",
           "title": {
            "standoff": 15
           },
           "zerolinecolor": "white",
           "zerolinewidth": 2
          }
         }
        },
        "title": {
         "text": "input_layer_type"
        },
        "width": 1000,
        "yaxis": {
         "dtick": 25,
         "range": [
          -175,
          100
         ],
         "tick0": 0
        }
       }
      }
     },
     "metadata": {}
    },
    {
     "output_type": "display_data",
     "data": {
      "text/plain": "<Figure size 432x288 with 0 Axes>"
     },
     "metadata": {}
    }
   ],
   "source": [
    "plot_vals(2)\n",
    "plt.savefig(\"pictures/results_fig_2.svg\")"
   ]
  },
  {
   "cell_type": "code",
   "execution_count": 7,
   "id": "disturbed-chuck",
   "metadata": {},
   "outputs": [
    {
     "output_type": "display_data",
     "data": {
      "application/vnd.plotly.v1+json": {
       "config": {
        "plotlyServerURL": "https://plot.ly"
       },
       "data": [
        {
         "marker": {
          "color": "#4285F4"
         },
         "mode": "lines+markers",
         "name": "CCE, SD=4",
         "type": "scatter",
         "x": [
          2,
          3,
          6
         ],
         "y": [
          88.0946223407368,
          91.01051363359095,
          94.38545795756329
         ]
        },
        {
         "line": {
          "width": 0
         },
         "marker": {
          "color": "#4285F4"
         },
         "mode": "lines",
         "name": "Upper bound",
         "showlegend": false,
         "type": "scatter",
         "x": [
          2,
          3,
          6
         ],
         "y": [
          89.18444992546891,
          91.58449972792857,
          94.76345480665184
         ]
        },
        {
         "fill": "tonexty",
         "fillcolor": "rgba(66, 133, 244, 0.2)",
         "line": {
          "width": 0
         },
         "marker": {
          "color": "#4285F4"
         },
         "mode": "lines",
         "name": "Lower bound",
         "showlegend": false,
         "type": "scatter",
         "x": [
          2,
          3,
          6
         ],
         "y": [
          87.0047947560047,
          90.43652753925332,
          94.00746110847474
         ]
        },
        {
         "marker": {
          "color": "#EA4335"
         },
         "mode": "lines+markers",
         "name": "JSD, SD=4",
         "type": "scatter",
         "x": [
          2,
          3,
          6
         ],
         "y": [
          92.53566413839326,
          94.30239790929252,
          96.22939335824432
         ]
        },
        {
         "line": {
          "width": 0
         },
         "marker": {
          "color": "#EA4335"
         },
         "mode": "lines",
         "name": "Upper bound",
         "showlegend": false,
         "type": "scatter",
         "x": [
          2,
          3,
          6
         ],
         "y": [
          93.05955450528849,
          94.64453709194248,
          96.44038234862666
         ]
        },
        {
         "fill": "tonexty",
         "fillcolor": "rgba(234, 67, 53, 0.2)",
         "line": {
          "width": 0
         },
         "marker": {
          "color": "#EA4335"
         },
         "mode": "lines",
         "name": "Lower bound",
         "showlegend": false,
         "type": "scatter",
         "x": [
          2,
          3,
          6
         ],
         "y": [
          92.01177377149803,
          93.96025872664256,
          96.01840436786199
         ]
        },
        {
         "marker": {
          "color": "#FBBC04"
         },
         "mode": "lines+markers",
         "name": "CCEu, SD=4",
         "type": "scatter",
         "x": [
          2,
          3,
          6
         ],
         "y": [
          -15.577959748530342,
          -15.300565536731503,
          -15.757412632552475
         ]
        },
        {
         "line": {
          "width": 0
         },
         "marker": {
          "color": "#FBBC04"
         },
         "mode": "lines",
         "name": "Upper bound",
         "showlegend": false,
         "type": "scatter",
         "x": [
          2,
          3,
          6
         ],
         "y": [
          -13.71154679176879,
          -13.80235882139728,
          -13.87262596694353
         ]
        },
        {
         "fill": "tonexty",
         "fillcolor": "rgba(251, 188, 4, 0.2)",
         "line": {
          "width": 0
         },
         "marker": {
          "color": "#FBBC04"
         },
         "mode": "lines",
         "name": "Lower bound",
         "showlegend": false,
         "type": "scatter",
         "x": [
          2,
          3,
          6
         ],
         "y": [
          -17.444372705291894,
          -16.798772252065724,
          -17.64219929816142
         ]
        },
        {
         "marker": {
          "color": "#34A853"
         },
         "mode": "lines+markers",
         "name": "JSDu, SD=4",
         "type": "scatter",
         "x": [
          2,
          3,
          6
         ],
         "y": [
          19.95379430691813,
          16.4325262097128,
          16.91310687523196
         ]
        },
        {
         "line": {
          "width": 0
         },
         "marker": {
          "color": "#34A853"
         },
         "mode": "lines",
         "name": "Upper bound",
         "showlegend": false,
         "type": "scatter",
         "x": [
          2,
          3,
          6
         ],
         "y": [
          23.76057062193878,
          17.53281186524548,
          18.5600864994366
         ]
        },
        {
         "fill": "tonexty",
         "fillcolor": "rgba(52, 168, 83, 0.2)",
         "line": {
          "width": 0
         },
         "marker": {
          "color": "#34A853"
         },
         "mode": "lines",
         "name": "Lower bound",
         "showlegend": false,
         "type": "scatter",
         "x": [
          2,
          3,
          6
         ],
         "y": [
          16.14701799189748,
          15.33224055418012,
          15.26612725102732
         ]
        },
        {
         "marker": {
          "color": "#000000"
         },
         "mode": "lines+markers",
         "name": "CCE, SD=100",
         "type": "scatter",
         "x": [
          2,
          3,
          6
         ],
         "y": [
          60.70755666042683,
          69.13845488028488,
          72.02413503692722
         ]
        },
        {
         "line": {
          "width": 0
         },
         "marker": {
          "color": "#000000"
         },
         "mode": "lines",
         "name": "Upper bound",
         "showlegend": false,
         "type": "scatter",
         "x": [
          2,
          3,
          6
         ],
         "y": [
          61.63026191438772,
          69.16093196030639,
          72.49084464563384
         ]
        },
        {
         "fill": "tonexty",
         "fillcolor": "rgba(0, 0, 0, 0.2)",
         "line": {
          "width": 0
         },
         "marker": {
          "color": "#000000"
         },
         "mode": "lines",
         "name": "Lower bound",
         "showlegend": false,
         "type": "scatter",
         "x": [
          2,
          3,
          6
         ],
         "y": [
          59.78485140646595,
          69.11597780026338,
          71.5574254282206
         ]
        },
        {
         "marker": {
          "color": "#46BDC6"
         },
         "mode": "lines+markers",
         "name": "JSD, SD=100",
         "type": "scatter",
         "x": [
          2,
          3,
          6
         ],
         "y": [
          47.991519462113665,
          82.43192930564419,
          82.8828567848959
         ]
        },
        {
         "line": {
          "width": 0
         },
         "marker": {
          "color": "#46BDC6"
         },
         "mode": "lines",
         "name": "Upper bound",
         "showlegend": false,
         "type": "scatter",
         "x": [
          2,
          3,
          6
         ],
         "y": [
          47.991519462113665,
          83.3371670953114,
          82.8828567848959
         ]
        },
        {
         "fill": "tonexty",
         "fillcolor": "rgba(70, 189, 198, 0.2)",
         "line": {
          "width": 0
         },
         "marker": {
          "color": "#46BDC6"
         },
         "mode": "lines",
         "name": "Lower bound",
         "showlegend": false,
         "type": "scatter",
         "x": [
          2,
          3,
          6
         ],
         "y": [
          47.991519462113665,
          81.52669151597698,
          82.8828567848959
         ]
        }
       ],
       "layout": {
        "height": 600,
        "template": {
         "data": {
          "bar": [
           {
            "error_x": {
             "color": "#2a3f5f"
            },
            "error_y": {
             "color": "#2a3f5f"
            },
            "marker": {
             "line": {
              "color": "#E5ECF6",
              "width": 0.5
             }
            },
            "type": "bar"
           }
          ],
          "barpolar": [
           {
            "marker": {
             "line": {
              "color": "#E5ECF6",
              "width": 0.5
             }
            },
            "type": "barpolar"
           }
          ],
          "carpet": [
           {
            "aaxis": {
             "endlinecolor": "#2a3f5f",
             "gridcolor": "white",
             "linecolor": "white",
             "minorgridcolor": "white",
             "startlinecolor": "#2a3f5f"
            },
            "baxis": {
             "endlinecolor": "#2a3f5f",
             "gridcolor": "white",
             "linecolor": "white",
             "minorgridcolor": "white",
             "startlinecolor": "#2a3f5f"
            },
            "type": "carpet"
           }
          ],
          "choropleth": [
           {
            "colorbar": {
             "outlinewidth": 0,
             "ticks": ""
            },
            "type": "choropleth"
           }
          ],
          "contour": [
           {
            "colorbar": {
             "outlinewidth": 0,
             "ticks": ""
            },
            "colorscale": [
             [
              0,
              "#0d0887"
             ],
             [
              0.1111111111111111,
              "#46039f"
             ],
             [
              0.2222222222222222,
              "#7201a8"
             ],
             [
              0.3333333333333333,
              "#9c179e"
             ],
             [
              0.4444444444444444,
              "#bd3786"
             ],
             [
              0.5555555555555556,
              "#d8576b"
             ],
             [
              0.6666666666666666,
              "#ed7953"
             ],
             [
              0.7777777777777778,
              "#fb9f3a"
             ],
             [
              0.8888888888888888,
              "#fdca26"
             ],
             [
              1,
              "#f0f921"
             ]
            ],
            "type": "contour"
           }
          ],
          "contourcarpet": [
           {
            "colorbar": {
             "outlinewidth": 0,
             "ticks": ""
            },
            "type": "contourcarpet"
           }
          ],
          "heatmap": [
           {
            "colorbar": {
             "outlinewidth": 0,
             "ticks": ""
            },
            "colorscale": [
             [
              0,
              "#0d0887"
             ],
             [
              0.1111111111111111,
              "#46039f"
             ],
             [
              0.2222222222222222,
              "#7201a8"
             ],
             [
              0.3333333333333333,
              "#9c179e"
             ],
             [
              0.4444444444444444,
              "#bd3786"
             ],
             [
              0.5555555555555556,
              "#d8576b"
             ],
             [
              0.6666666666666666,
              "#ed7953"
             ],
             [
              0.7777777777777778,
              "#fb9f3a"
             ],
             [
              0.8888888888888888,
              "#fdca26"
             ],
             [
              1,
              "#f0f921"
             ]
            ],
            "type": "heatmap"
           }
          ],
          "heatmapgl": [
           {
            "colorbar": {
             "outlinewidth": 0,
             "ticks": ""
            },
            "colorscale": [
             [
              0,
              "#0d0887"
             ],
             [
              0.1111111111111111,
              "#46039f"
             ],
             [
              0.2222222222222222,
              "#7201a8"
             ],
             [
              0.3333333333333333,
              "#9c179e"
             ],
             [
              0.4444444444444444,
              "#bd3786"
             ],
             [
              0.5555555555555556,
              "#d8576b"
             ],
             [
              0.6666666666666666,
              "#ed7953"
             ],
             [
              0.7777777777777778,
              "#fb9f3a"
             ],
             [
              0.8888888888888888,
              "#fdca26"
             ],
             [
              1,
              "#f0f921"
             ]
            ],
            "type": "heatmapgl"
           }
          ],
          "histogram": [
           {
            "marker": {
             "colorbar": {
              "outlinewidth": 0,
              "ticks": ""
             }
            },
            "type": "histogram"
           }
          ],
          "histogram2d": [
           {
            "colorbar": {
             "outlinewidth": 0,
             "ticks": ""
            },
            "colorscale": [
             [
              0,
              "#0d0887"
             ],
             [
              0.1111111111111111,
              "#46039f"
             ],
             [
              0.2222222222222222,
              "#7201a8"
             ],
             [
              0.3333333333333333,
              "#9c179e"
             ],
             [
              0.4444444444444444,
              "#bd3786"
             ],
             [
              0.5555555555555556,
              "#d8576b"
             ],
             [
              0.6666666666666666,
              "#ed7953"
             ],
             [
              0.7777777777777778,
              "#fb9f3a"
             ],
             [
              0.8888888888888888,
              "#fdca26"
             ],
             [
              1,
              "#f0f921"
             ]
            ],
            "type": "histogram2d"
           }
          ],
          "histogram2dcontour": [
           {
            "colorbar": {
             "outlinewidth": 0,
             "ticks": ""
            },
            "colorscale": [
             [
              0,
              "#0d0887"
             ],
             [
              0.1111111111111111,
              "#46039f"
             ],
             [
              0.2222222222222222,
              "#7201a8"
             ],
             [
              0.3333333333333333,
              "#9c179e"
             ],
             [
              0.4444444444444444,
              "#bd3786"
             ],
             [
              0.5555555555555556,
              "#d8576b"
             ],
             [
              0.6666666666666666,
              "#ed7953"
             ],
             [
              0.7777777777777778,
              "#fb9f3a"
             ],
             [
              0.8888888888888888,
              "#fdca26"
             ],
             [
              1,
              "#f0f921"
             ]
            ],
            "type": "histogram2dcontour"
           }
          ],
          "mesh3d": [
           {
            "colorbar": {
             "outlinewidth": 0,
             "ticks": ""
            },
            "type": "mesh3d"
           }
          ],
          "parcoords": [
           {
            "line": {
             "colorbar": {
              "outlinewidth": 0,
              "ticks": ""
             }
            },
            "type": "parcoords"
           }
          ],
          "pie": [
           {
            "automargin": true,
            "type": "pie"
           }
          ],
          "scatter": [
           {
            "marker": {
             "colorbar": {
              "outlinewidth": 0,
              "ticks": ""
             }
            },
            "type": "scatter"
           }
          ],
          "scatter3d": [
           {
            "line": {
             "colorbar": {
              "outlinewidth": 0,
              "ticks": ""
             }
            },
            "marker": {
             "colorbar": {
              "outlinewidth": 0,
              "ticks": ""
             }
            },
            "type": "scatter3d"
           }
          ],
          "scattercarpet": [
           {
            "marker": {
             "colorbar": {
              "outlinewidth": 0,
              "ticks": ""
             }
            },
            "type": "scattercarpet"
           }
          ],
          "scattergeo": [
           {
            "marker": {
             "colorbar": {
              "outlinewidth": 0,
              "ticks": ""
             }
            },
            "type": "scattergeo"
           }
          ],
          "scattergl": [
           {
            "marker": {
             "colorbar": {
              "outlinewidth": 0,
              "ticks": ""
             }
            },
            "type": "scattergl"
           }
          ],
          "scattermapbox": [
           {
            "marker": {
             "colorbar": {
              "outlinewidth": 0,
              "ticks": ""
             }
            },
            "type": "scattermapbox"
           }
          ],
          "scatterpolar": [
           {
            "marker": {
             "colorbar": {
              "outlinewidth": 0,
              "ticks": ""
             }
            },
            "type": "scatterpolar"
           }
          ],
          "scatterpolargl": [
           {
            "marker": {
             "colorbar": {
              "outlinewidth": 0,
              "ticks": ""
             }
            },
            "type": "scatterpolargl"
           }
          ],
          "scatterternary": [
           {
            "marker": {
             "colorbar": {
              "outlinewidth": 0,
              "ticks": ""
             }
            },
            "type": "scatterternary"
           }
          ],
          "surface": [
           {
            "colorbar": {
             "outlinewidth": 0,
             "ticks": ""
            },
            "colorscale": [
             [
              0,
              "#0d0887"
             ],
             [
              0.1111111111111111,
              "#46039f"
             ],
             [
              0.2222222222222222,
              "#7201a8"
             ],
             [
              0.3333333333333333,
              "#9c179e"
             ],
             [
              0.4444444444444444,
              "#bd3786"
             ],
             [
              0.5555555555555556,
              "#d8576b"
             ],
             [
              0.6666666666666666,
              "#ed7953"
             ],
             [
              0.7777777777777778,
              "#fb9f3a"
             ],
             [
              0.8888888888888888,
              "#fdca26"
             ],
             [
              1,
              "#f0f921"
             ]
            ],
            "type": "surface"
           }
          ],
          "table": [
           {
            "cells": {
             "fill": {
              "color": "#EBF0F8"
             },
             "line": {
              "color": "white"
             }
            },
            "header": {
             "fill": {
              "color": "#C8D4E3"
             },
             "line": {
              "color": "white"
             }
            },
            "type": "table"
           }
          ]
         },
         "layout": {
          "annotationdefaults": {
           "arrowcolor": "#2a3f5f",
           "arrowhead": 0,
           "arrowwidth": 1
          },
          "autotypenumbers": "strict",
          "coloraxis": {
           "colorbar": {
            "outlinewidth": 0,
            "ticks": ""
           }
          },
          "colorscale": {
           "diverging": [
            [
             0,
             "#8e0152"
            ],
            [
             0.1,
             "#c51b7d"
            ],
            [
             0.2,
             "#de77ae"
            ],
            [
             0.3,
             "#f1b6da"
            ],
            [
             0.4,
             "#fde0ef"
            ],
            [
             0.5,
             "#f7f7f7"
            ],
            [
             0.6,
             "#e6f5d0"
            ],
            [
             0.7,
             "#b8e186"
            ],
            [
             0.8,
             "#7fbc41"
            ],
            [
             0.9,
             "#4d9221"
            ],
            [
             1,
             "#276419"
            ]
           ],
           "sequential": [
            [
             0,
             "#0d0887"
            ],
            [
             0.1111111111111111,
             "#46039f"
            ],
            [
             0.2222222222222222,
             "#7201a8"
            ],
            [
             0.3333333333333333,
             "#9c179e"
            ],
            [
             0.4444444444444444,
             "#bd3786"
            ],
            [
             0.5555555555555556,
             "#d8576b"
            ],
            [
             0.6666666666666666,
             "#ed7953"
            ],
            [
             0.7777777777777778,
             "#fb9f3a"
            ],
            [
             0.8888888888888888,
             "#fdca26"
            ],
            [
             1,
             "#f0f921"
            ]
           ],
           "sequentialminus": [
            [
             0,
             "#0d0887"
            ],
            [
             0.1111111111111111,
             "#46039f"
            ],
            [
             0.2222222222222222,
             "#7201a8"
            ],
            [
             0.3333333333333333,
             "#9c179e"
            ],
            [
             0.4444444444444444,
             "#bd3786"
            ],
            [
             0.5555555555555556,
             "#d8576b"
            ],
            [
             0.6666666666666666,
             "#ed7953"
            ],
            [
             0.7777777777777778,
             "#fb9f3a"
            ],
            [
             0.8888888888888888,
             "#fdca26"
            ],
            [
             1,
             "#f0f921"
            ]
           ]
          },
          "colorway": [
           "#636efa",
           "#EF553B",
           "#00cc96",
           "#ab63fa",
           "#FFA15A",
           "#19d3f3",
           "#FF6692",
           "#B6E880",
           "#FF97FF",
           "#FECB52"
          ],
          "font": {
           "color": "#2a3f5f"
          },
          "geo": {
           "bgcolor": "white",
           "lakecolor": "white",
           "landcolor": "#E5ECF6",
           "showlakes": true,
           "showland": true,
           "subunitcolor": "white"
          },
          "hoverlabel": {
           "align": "left"
          },
          "hovermode": "closest",
          "mapbox": {
           "style": "light"
          },
          "paper_bgcolor": "white",
          "plot_bgcolor": "#E5ECF6",
          "polar": {
           "angularaxis": {
            "gridcolor": "white",
            "linecolor": "white",
            "ticks": ""
           },
           "bgcolor": "#E5ECF6",
           "radialaxis": {
            "gridcolor": "white",
            "linecolor": "white",
            "ticks": ""
           }
          },
          "scene": {
           "xaxis": {
            "backgroundcolor": "#E5ECF6",
            "gridcolor": "white",
            "gridwidth": 2,
            "linecolor": "white",
            "showbackground": true,
            "ticks": "",
            "zerolinecolor": "white"
           },
           "yaxis": {
            "backgroundcolor": "#E5ECF6",
            "gridcolor": "white",
            "gridwidth": 2,
            "linecolor": "white",
            "showbackground": true,
            "ticks": "",
            "zerolinecolor": "white"
           },
           "zaxis": {
            "backgroundcolor": "#E5ECF6",
            "gridcolor": "white",
            "gridwidth": 2,
            "linecolor": "white",
            "showbackground": true,
            "ticks": "",
            "zerolinecolor": "white"
           }
          },
          "shapedefaults": {
           "line": {
            "color": "#2a3f5f"
           }
          },
          "ternary": {
           "aaxis": {
            "gridcolor": "white",
            "linecolor": "white",
            "ticks": ""
           },
           "baxis": {
            "gridcolor": "white",
            "linecolor": "white",
            "ticks": ""
           },
           "bgcolor": "#E5ECF6",
           "caxis": {
            "gridcolor": "white",
            "linecolor": "white",
            "ticks": ""
           }
          },
          "title": {
           "x": 0.05
          },
          "xaxis": {
           "automargin": true,
           "gridcolor": "white",
           "linecolor": "white",
           "ticks": "",
           "title": {
            "standoff": 15
           },
           "zerolinecolor": "white",
           "zerolinewidth": 2
          },
          "yaxis": {
           "automargin": true,
           "gridcolor": "white",
           "linecolor": "white",
           "ticks": "",
           "title": {
            "standoff": 15
           },
           "zerolinecolor": "white",
           "zerolinewidth": 2
          }
         }
        },
        "title": {
         "text": "encoding_dim"
        },
        "width": 1000,
        "yaxis": {
         "dtick": 25,
         "range": [
          -175,
          100
         ],
         "tick0": 0
        }
       }
      }
     },
     "metadata": {}
    },
    {
     "output_type": "display_data",
     "data": {
      "text/plain": "<Figure size 432x288 with 0 Axes>"
     },
     "metadata": {}
    }
   ],
   "source": [
    "plot_vals(3)\n",
    "plt.savefig(\"pictures/results_fig_3.svg\")"
   ]
  },
  {
   "cell_type": "code",
   "execution_count": 8,
   "id": "lesser-nashville",
   "metadata": {},
   "outputs": [
    {
     "output_type": "display_data",
     "data": {
      "application/vnd.plotly.v1+json": {
       "config": {
        "plotlyServerURL": "https://plot.ly"
       },
       "data": [
        {
         "marker": {
          "color": "#4285F4"
         },
         "mode": "lines+markers",
         "name": "CCE, SD=4",
         "type": "scatter",
         "x": [
          3,
          5,
          7,
          9,
          27
         ],
         "y": [
          91.01051363359095,
          93.00702827685102,
          94.05479405025365,
          95.53623529147096,
          -498.2553104085727
         ]
        },
        {
         "line": {
          "width": 0
         },
         "marker": {
          "color": "#4285F4"
         },
         "mode": "lines",
         "name": "Upper bound",
         "showlegend": false,
         "type": "scatter",
         "x": [
          3,
          5,
          7,
          9,
          27
         ],
         "y": [
          91.58449972792857,
          93.24963955993607,
          94.43949973218342,
          96.10727938628787,
          10.994068426522063
         ]
        },
        {
         "fill": "tonexty",
         "fillcolor": "rgba(66, 133, 244, 0.2)",
         "line": {
          "width": 0
         },
         "marker": {
          "color": "#4285F4"
         },
         "mode": "lines",
         "name": "Lower bound",
         "showlegend": false,
         "type": "scatter",
         "x": [
          3,
          5,
          7,
          9,
          27
         ],
         "y": [
          90.43652753925332,
          92.76441699376596,
          93.67008836832387,
          94.96519119665405,
          -1007.5046892436675
         ]
        },
        {
         "marker": {
          "color": "#EA4335"
         },
         "mode": "lines+markers",
         "name": "JSD, SD=4",
         "type": "scatter",
         "x": [
          3,
          5,
          7,
          9,
          27
         ],
         "y": [
          94.30239790929252,
          95.25069564346892,
          96.01394435499836,
          96.60521360729986,
          -497.14506037078274
         ]
        },
        {
         "line": {
          "width": 0
         },
         "marker": {
          "color": "#EA4335"
         },
         "mode": "lines",
         "name": "Upper bound",
         "showlegend": false,
         "type": "scatter",
         "x": [
          3,
          5,
          7,
          9,
          27
         ],
         "y": [
          94.64453709194248,
          95.78226423550481,
          96.80554086432119,
          97.15362076241112,
          -402.5198919973211
         ]
        },
        {
         "fill": "tonexty",
         "fillcolor": "rgba(234, 67, 53, 0.2)",
         "line": {
          "width": 0
         },
         "marker": {
          "color": "#EA4335"
         },
         "mode": "lines",
         "name": "Lower bound",
         "showlegend": false,
         "type": "scatter",
         "x": [
          3,
          5,
          7,
          9,
          27
         ],
         "y": [
          93.96025872664256,
          94.71912705143302,
          95.22234784567553,
          96.0568064521886,
          -591.7702287442444
         ]
        },
        {
         "marker": {
          "color": "#FBBC04"
         },
         "mode": "lines+markers",
         "name": "CCEu, SD=4",
         "type": "scatter",
         "x": [
          3,
          5,
          7,
          9,
          27
         ],
         "y": [
          -15.300565536731503,
          -16.663972875958645,
          -16.24158580769057,
          -15.919837499226203,
          -250.9501821588033
         ]
        },
        {
         "line": {
          "width": 0
         },
         "marker": {
          "color": "#FBBC04"
         },
         "mode": "lines",
         "name": "Upper bound",
         "showlegend": false,
         "type": "scatter",
         "x": [
          3,
          5,
          7,
          9,
          27
         ],
         "y": [
          -13.80235882139728,
          -14.074113850253166,
          -14.212692374249825,
          -12.798620912378395,
          -9.727744770836495
         ]
        },
        {
         "fill": "tonexty",
         "fillcolor": "rgba(251, 188, 4, 0.2)",
         "line": {
          "width": 0
         },
         "marker": {
          "color": "#FBBC04"
         },
         "mode": "lines",
         "name": "Lower bound",
         "showlegend": false,
         "type": "scatter",
         "x": [
          3,
          5,
          7,
          9,
          27
         ],
         "y": [
          -16.798772252065724,
          -19.253831901664125,
          -18.270479241131312,
          -19.04105408607401,
          -492.1726195467701
         ]
        },
        {
         "marker": {
          "color": "#34A853"
         },
         "mode": "lines+markers",
         "name": "JSDu, SD=4",
         "type": "scatter",
         "x": [
          3,
          5,
          7,
          9,
          27
         ],
         "y": [
          16.4325262097128,
          17.455810670223805,
          17.4624971218242,
          17.44428741843876,
          -449.93204392354704
         ]
        },
        {
         "line": {
          "width": 0
         },
         "marker": {
          "color": "#34A853"
         },
         "mode": "lines",
         "name": "Upper bound",
         "showlegend": false,
         "type": "scatter",
         "x": [
          3,
          5,
          7,
          9,
          27
         ],
         "y": [
          17.53281186524548,
          19.51869466226508,
          20.089703240000336,
          19.034973754282184,
          -348.45465357151795
         ]
        },
        {
         "fill": "tonexty",
         "fillcolor": "rgba(52, 168, 83, 0.2)",
         "line": {
          "width": 0
         },
         "marker": {
          "color": "#34A853"
         },
         "mode": "lines",
         "name": "Lower bound",
         "showlegend": false,
         "type": "scatter",
         "x": [
          3,
          5,
          7,
          9,
          27
         ],
         "y": [
          15.33224055418012,
          15.39292667818253,
          14.835291003648063,
          15.853601082595333,
          -551.4094342755761
         ]
        },
        {
         "marker": {
          "color": "#000000"
         },
         "mode": "lines+markers",
         "name": "CCE, SD=100",
         "type": "scatter",
         "x": [
          3,
          5,
          7,
          9,
          27
         ],
         "y": [
          69.13845488028488,
          74.38630502896427,
          -23.22050106790072,
          -61.659471036519335,
          -149.58567681604893
         ]
        },
        {
         "line": {
          "width": 0
         },
         "marker": {
          "color": "#000000"
         },
         "mode": "lines",
         "name": "Upper bound",
         "showlegend": false,
         "type": "scatter",
         "x": [
          3,
          5,
          7,
          9,
          27
         ],
         "y": [
          69.16093196030639,
          75.45628773616536,
          -19.988297596407932,
          -55.30488536995557,
          -149.3851665947234
         ]
        },
        {
         "fill": "tonexty",
         "fillcolor": "rgba(0, 0, 0, 0.2)",
         "line": {
          "width": 0
         },
         "marker": {
          "color": "#000000"
         },
         "mode": "lines",
         "name": "Lower bound",
         "showlegend": false,
         "type": "scatter",
         "x": [
          3,
          5,
          7,
          9,
          27
         ],
         "y": [
          69.11597780026338,
          73.31632232176318,
          -26.45270453939351,
          -68.0140567030831,
          -149.78618703737448
         ]
        },
        {
         "marker": {
          "color": "#46BDC6"
         },
         "mode": "lines+markers",
         "name": "JSD, SD=100",
         "type": "scatter",
         "x": [
          3,
          5,
          7,
          9,
          27
         ],
         "y": [
          82.43192930564419,
          81.55661934525779,
          16.5162647680649,
          -148.33772101017297,
          -147.33851333599762
         ]
        },
        {
         "line": {
          "width": 0
         },
         "marker": {
          "color": "#46BDC6"
         },
         "mode": "lines",
         "name": "Upper bound",
         "showlegend": false,
         "type": "scatter",
         "x": [
          3,
          5,
          7,
          9,
          27
         ],
         "y": [
          83.3371670953114,
          81.55661934525779,
          16.5162647680649,
          -148.33772101017297,
          -147.33851333599762
         ]
        },
        {
         "fill": "tonexty",
         "fillcolor": "rgba(70, 189, 198, 0.2)",
         "line": {
          "width": 0
         },
         "marker": {
          "color": "#46BDC6"
         },
         "mode": "lines",
         "name": "Lower bound",
         "showlegend": false,
         "type": "scatter",
         "x": [
          3,
          5,
          7,
          9,
          27
         ],
         "y": [
          81.52669151597698,
          81.55661934525779,
          16.5162647680649,
          -148.33772101017297,
          -147.33851333599762
         ]
        }
       ],
       "layout": {
        "height": 600,
        "template": {
         "data": {
          "bar": [
           {
            "error_x": {
             "color": "#2a3f5f"
            },
            "error_y": {
             "color": "#2a3f5f"
            },
            "marker": {
             "line": {
              "color": "#E5ECF6",
              "width": 0.5
             }
            },
            "type": "bar"
           }
          ],
          "barpolar": [
           {
            "marker": {
             "line": {
              "color": "#E5ECF6",
              "width": 0.5
             }
            },
            "type": "barpolar"
           }
          ],
          "carpet": [
           {
            "aaxis": {
             "endlinecolor": "#2a3f5f",
             "gridcolor": "white",
             "linecolor": "white",
             "minorgridcolor": "white",
             "startlinecolor": "#2a3f5f"
            },
            "baxis": {
             "endlinecolor": "#2a3f5f",
             "gridcolor": "white",
             "linecolor": "white",
             "minorgridcolor": "white",
             "startlinecolor": "#2a3f5f"
            },
            "type": "carpet"
           }
          ],
          "choropleth": [
           {
            "colorbar": {
             "outlinewidth": 0,
             "ticks": ""
            },
            "type": "choropleth"
           }
          ],
          "contour": [
           {
            "colorbar": {
             "outlinewidth": 0,
             "ticks": ""
            },
            "colorscale": [
             [
              0,
              "#0d0887"
             ],
             [
              0.1111111111111111,
              "#46039f"
             ],
             [
              0.2222222222222222,
              "#7201a8"
             ],
             [
              0.3333333333333333,
              "#9c179e"
             ],
             [
              0.4444444444444444,
              "#bd3786"
             ],
             [
              0.5555555555555556,
              "#d8576b"
             ],
             [
              0.6666666666666666,
              "#ed7953"
             ],
             [
              0.7777777777777778,
              "#fb9f3a"
             ],
             [
              0.8888888888888888,
              "#fdca26"
             ],
             [
              1,
              "#f0f921"
             ]
            ],
            "type": "contour"
           }
          ],
          "contourcarpet": [
           {
            "colorbar": {
             "outlinewidth": 0,
             "ticks": ""
            },
            "type": "contourcarpet"
           }
          ],
          "heatmap": [
           {
            "colorbar": {
             "outlinewidth": 0,
             "ticks": ""
            },
            "colorscale": [
             [
              0,
              "#0d0887"
             ],
             [
              0.1111111111111111,
              "#46039f"
             ],
             [
              0.2222222222222222,
              "#7201a8"
             ],
             [
              0.3333333333333333,
              "#9c179e"
             ],
             [
              0.4444444444444444,
              "#bd3786"
             ],
             [
              0.5555555555555556,
              "#d8576b"
             ],
             [
              0.6666666666666666,
              "#ed7953"
             ],
             [
              0.7777777777777778,
              "#fb9f3a"
             ],
             [
              0.8888888888888888,
              "#fdca26"
             ],
             [
              1,
              "#f0f921"
             ]
            ],
            "type": "heatmap"
           }
          ],
          "heatmapgl": [
           {
            "colorbar": {
             "outlinewidth": 0,
             "ticks": ""
            },
            "colorscale": [
             [
              0,
              "#0d0887"
             ],
             [
              0.1111111111111111,
              "#46039f"
             ],
             [
              0.2222222222222222,
              "#7201a8"
             ],
             [
              0.3333333333333333,
              "#9c179e"
             ],
             [
              0.4444444444444444,
              "#bd3786"
             ],
             [
              0.5555555555555556,
              "#d8576b"
             ],
             [
              0.6666666666666666,
              "#ed7953"
             ],
             [
              0.7777777777777778,
              "#fb9f3a"
             ],
             [
              0.8888888888888888,
              "#fdca26"
             ],
             [
              1,
              "#f0f921"
             ]
            ],
            "type": "heatmapgl"
           }
          ],
          "histogram": [
           {
            "marker": {
             "colorbar": {
              "outlinewidth": 0,
              "ticks": ""
             }
            },
            "type": "histogram"
           }
          ],
          "histogram2d": [
           {
            "colorbar": {
             "outlinewidth": 0,
             "ticks": ""
            },
            "colorscale": [
             [
              0,
              "#0d0887"
             ],
             [
              0.1111111111111111,
              "#46039f"
             ],
             [
              0.2222222222222222,
              "#7201a8"
             ],
             [
              0.3333333333333333,
              "#9c179e"
             ],
             [
              0.4444444444444444,
              "#bd3786"
             ],
             [
              0.5555555555555556,
              "#d8576b"
             ],
             [
              0.6666666666666666,
              "#ed7953"
             ],
             [
              0.7777777777777778,
              "#fb9f3a"
             ],
             [
              0.8888888888888888,
              "#fdca26"
             ],
             [
              1,
              "#f0f921"
             ]
            ],
            "type": "histogram2d"
           }
          ],
          "histogram2dcontour": [
           {
            "colorbar": {
             "outlinewidth": 0,
             "ticks": ""
            },
            "colorscale": [
             [
              0,
              "#0d0887"
             ],
             [
              0.1111111111111111,
              "#46039f"
             ],
             [
              0.2222222222222222,
              "#7201a8"
             ],
             [
              0.3333333333333333,
              "#9c179e"
             ],
             [
              0.4444444444444444,
              "#bd3786"
             ],
             [
              0.5555555555555556,
              "#d8576b"
             ],
             [
              0.6666666666666666,
              "#ed7953"
             ],
             [
              0.7777777777777778,
              "#fb9f3a"
             ],
             [
              0.8888888888888888,
              "#fdca26"
             ],
             [
              1,
              "#f0f921"
             ]
            ],
            "type": "histogram2dcontour"
           }
          ],
          "mesh3d": [
           {
            "colorbar": {
             "outlinewidth": 0,
             "ticks": ""
            },
            "type": "mesh3d"
           }
          ],
          "parcoords": [
           {
            "line": {
             "colorbar": {
              "outlinewidth": 0,
              "ticks": ""
             }
            },
            "type": "parcoords"
           }
          ],
          "pie": [
           {
            "automargin": true,
            "type": "pie"
           }
          ],
          "scatter": [
           {
            "marker": {
             "colorbar": {
              "outlinewidth": 0,
              "ticks": ""
             }
            },
            "type": "scatter"
           }
          ],
          "scatter3d": [
           {
            "line": {
             "colorbar": {
              "outlinewidth": 0,
              "ticks": ""
             }
            },
            "marker": {
             "colorbar": {
              "outlinewidth": 0,
              "ticks": ""
             }
            },
            "type": "scatter3d"
           }
          ],
          "scattercarpet": [
           {
            "marker": {
             "colorbar": {
              "outlinewidth": 0,
              "ticks": ""
             }
            },
            "type": "scattercarpet"
           }
          ],
          "scattergeo": [
           {
            "marker": {
             "colorbar": {
              "outlinewidth": 0,
              "ticks": ""
             }
            },
            "type": "scattergeo"
           }
          ],
          "scattergl": [
           {
            "marker": {
             "colorbar": {
              "outlinewidth": 0,
              "ticks": ""
             }
            },
            "type": "scattergl"
           }
          ],
          "scattermapbox": [
           {
            "marker": {
             "colorbar": {
              "outlinewidth": 0,
              "ticks": ""
             }
            },
            "type": "scattermapbox"
           }
          ],
          "scatterpolar": [
           {
            "marker": {
             "colorbar": {
              "outlinewidth": 0,
              "ticks": ""
             }
            },
            "type": "scatterpolar"
           }
          ],
          "scatterpolargl": [
           {
            "marker": {
             "colorbar": {
              "outlinewidth": 0,
              "ticks": ""
             }
            },
            "type": "scatterpolargl"
           }
          ],
          "scatterternary": [
           {
            "marker": {
             "colorbar": {
              "outlinewidth": 0,
              "ticks": ""
             }
            },
            "type": "scatterternary"
           }
          ],
          "surface": [
           {
            "colorbar": {
             "outlinewidth": 0,
             "ticks": ""
            },
            "colorscale": [
             [
              0,
              "#0d0887"
             ],
             [
              0.1111111111111111,
              "#46039f"
             ],
             [
              0.2222222222222222,
              "#7201a8"
             ],
             [
              0.3333333333333333,
              "#9c179e"
             ],
             [
              0.4444444444444444,
              "#bd3786"
             ],
             [
              0.5555555555555556,
              "#d8576b"
             ],
             [
              0.6666666666666666,
              "#ed7953"
             ],
             [
              0.7777777777777778,
              "#fb9f3a"
             ],
             [
              0.8888888888888888,
              "#fdca26"
             ],
             [
              1,
              "#f0f921"
             ]
            ],
            "type": "surface"
           }
          ],
          "table": [
           {
            "cells": {
             "fill": {
              "color": "#EBF0F8"
             },
             "line": {
              "color": "white"
             }
            },
            "header": {
             "fill": {
              "color": "#C8D4E3"
             },
             "line": {
              "color": "white"
             }
            },
            "type": "table"
           }
          ]
         },
         "layout": {
          "annotationdefaults": {
           "arrowcolor": "#2a3f5f",
           "arrowhead": 0,
           "arrowwidth": 1
          },
          "autotypenumbers": "strict",
          "coloraxis": {
           "colorbar": {
            "outlinewidth": 0,
            "ticks": ""
           }
          },
          "colorscale": {
           "diverging": [
            [
             0,
             "#8e0152"
            ],
            [
             0.1,
             "#c51b7d"
            ],
            [
             0.2,
             "#de77ae"
            ],
            [
             0.3,
             "#f1b6da"
            ],
            [
             0.4,
             "#fde0ef"
            ],
            [
             0.5,
             "#f7f7f7"
            ],
            [
             0.6,
             "#e6f5d0"
            ],
            [
             0.7,
             "#b8e186"
            ],
            [
             0.8,
             "#7fbc41"
            ],
            [
             0.9,
             "#4d9221"
            ],
            [
             1,
             "#276419"
            ]
           ],
           "sequential": [
            [
             0,
             "#0d0887"
            ],
            [
             0.1111111111111111,
             "#46039f"
            ],
            [
             0.2222222222222222,
             "#7201a8"
            ],
            [
             0.3333333333333333,
             "#9c179e"
            ],
            [
             0.4444444444444444,
             "#bd3786"
            ],
            [
             0.5555555555555556,
             "#d8576b"
            ],
            [
             0.6666666666666666,
             "#ed7953"
            ],
            [
             0.7777777777777778,
             "#fb9f3a"
            ],
            [
             0.8888888888888888,
             "#fdca26"
            ],
            [
             1,
             "#f0f921"
            ]
           ],
           "sequentialminus": [
            [
             0,
             "#0d0887"
            ],
            [
             0.1111111111111111,
             "#46039f"
            ],
            [
             0.2222222222222222,
             "#7201a8"
            ],
            [
             0.3333333333333333,
             "#9c179e"
            ],
            [
             0.4444444444444444,
             "#bd3786"
            ],
            [
             0.5555555555555556,
             "#d8576b"
            ],
            [
             0.6666666666666666,
             "#ed7953"
            ],
            [
             0.7777777777777778,
             "#fb9f3a"
            ],
            [
             0.8888888888888888,
             "#fdca26"
            ],
            [
             1,
             "#f0f921"
            ]
           ]
          },
          "colorway": [
           "#636efa",
           "#EF553B",
           "#00cc96",
           "#ab63fa",
           "#FFA15A",
           "#19d3f3",
           "#FF6692",
           "#B6E880",
           "#FF97FF",
           "#FECB52"
          ],
          "font": {
           "color": "#2a3f5f"
          },
          "geo": {
           "bgcolor": "white",
           "lakecolor": "white",
           "landcolor": "#E5ECF6",
           "showlakes": true,
           "showland": true,
           "subunitcolor": "white"
          },
          "hoverlabel": {
           "align": "left"
          },
          "hovermode": "closest",
          "mapbox": {
           "style": "light"
          },
          "paper_bgcolor": "white",
          "plot_bgcolor": "#E5ECF6",
          "polar": {
           "angularaxis": {
            "gridcolor": "white",
            "linecolor": "white",
            "ticks": ""
           },
           "bgcolor": "#E5ECF6",
           "radialaxis": {
            "gridcolor": "white",
            "linecolor": "white",
            "ticks": ""
           }
          },
          "scene": {
           "xaxis": {
            "backgroundcolor": "#E5ECF6",
            "gridcolor": "white",
            "gridwidth": 2,
            "linecolor": "white",
            "showbackground": true,
            "ticks": "",
            "zerolinecolor": "white"
           },
           "yaxis": {
            "backgroundcolor": "#E5ECF6",
            "gridcolor": "white",
            "gridwidth": 2,
            "linecolor": "white",
            "showbackground": true,
            "ticks": "",
            "zerolinecolor": "white"
           },
           "zaxis": {
            "backgroundcolor": "#E5ECF6",
            "gridcolor": "white",
            "gridwidth": 2,
            "linecolor": "white",
            "showbackground": true,
            "ticks": "",
            "zerolinecolor": "white"
           }
          },
          "shapedefaults": {
           "line": {
            "color": "#2a3f5f"
           }
          },
          "ternary": {
           "aaxis": {
            "gridcolor": "white",
            "linecolor": "white",
            "ticks": ""
           },
           "baxis": {
            "gridcolor": "white",
            "linecolor": "white",
            "ticks": ""
           },
           "bgcolor": "#E5ECF6",
           "caxis": {
            "gridcolor": "white",
            "linecolor": "white",
            "ticks": ""
           }
          },
          "title": {
           "x": 0.05
          },
          "xaxis": {
           "automargin": true,
           "gridcolor": "white",
           "linecolor": "white",
           "ticks": "",
           "title": {
            "standoff": 15
           },
           "zerolinecolor": "white",
           "zerolinewidth": 2
          },
          "yaxis": {
           "automargin": true,
           "gridcolor": "white",
           "linecolor": "white",
           "ticks": "",
           "title": {
            "standoff": 15
           },
           "zerolinecolor": "white",
           "zerolinewidth": 2
          }
         }
        },
        "title": {
         "text": "hidden_layers"
        },
        "width": 1000,
        "yaxis": {
         "dtick": 25,
         "range": [
          -175,
          100
         ],
         "tick0": 0
        }
       }
      }
     },
     "metadata": {}
    },
    {
     "output_type": "display_data",
     "data": {
      "text/plain": "<Figure size 432x288 with 0 Axes>"
     },
     "metadata": {}
    }
   ],
   "source": [
    "plot_vals(4)\n",
    "plt.savefig(\"pictures/results_fig_4.svg\")"
   ]
  },
  {
   "cell_type": "code",
   "execution_count": 9,
   "id": "reflected-security",
   "metadata": {},
   "outputs": [
    {
     "output_type": "display_data",
     "data": {
      "application/vnd.plotly.v1+json": {
       "config": {
        "plotlyServerURL": "https://plot.ly"
       },
       "data": [
        {
         "error_y": {
          "array": [
           0.573986094337633,
           0.8328483998982231,
           0.28555747983520835,
           0.7618836145595103,
           0.44904700818542037
          ]
         },
         "marker": {
          "color": "#4285F4"
         },
         "name": "CCE, SD=4",
         "type": "bar",
         "x": [
          "",
          "L2: 0.01",
          "L2: 10^-4",
          "L1: 0.01",
          "L1: 10^-4"
         ],
         "y": [
          91.01051363359095,
          74.44929524949508,
          86.97848359910067,
          66.49433219784495,
          88.56164749293764
         ]
        },
        {
         "error_y": {
          "array": [
           0.3421391826499525,
           0.5459981249816741,
           0.16101253816709904,
           1.3728574901825272,
           0.23966331802443686
          ]
         },
         "marker": {
          "color": "#EA4335"
         },
         "name": "JSD, SD=4",
         "type": "bar",
         "x": [
          "",
          "L2: 0.01",
          "L2: 10^-4",
          "L1: 0.01",
          "L1: 10^-4"
         ],
         "y": [
          94.30239790929252,
          74.80580582667646,
          89.21418368370885,
          62.4522471151629,
          89.09329150234099
         ]
        },
        {
         "error_y": {
          "array": [
           1.4982067153342211,
           2.1863078370312423,
           1.6172862150542295,
           6.135967822248378,
           1.6924815848696597
          ]
         },
         "marker": {
          "color": "#FBBC04"
         },
         "name": "CCEu, SD=4",
         "type": "bar",
         "x": [
          "",
          "L2: 0.01",
          "L2: 10^-4",
          "L1: 0.01",
          "L1: 10^-4"
         ],
         "y": [
          -15.300565536731503,
          -17.81269293606028,
          -16.900348242818943,
          -18.663232511809856,
          -14.769180364363711
         ]
        },
        {
         "error_y": {
          "array": [
           1.1002856555326814,
           3.251534620766606,
           2.2027867226489253,
           4.388806296672756,
           2.017363028625865
          ]
         },
         "marker": {
          "color": "#34A853"
         },
         "name": "JSDu, SD=4",
         "type": "bar",
         "x": [
          "",
          "L2: 0.01",
          "L2: 10^-4",
          "L1: 0.01",
          "L1: 10^-4"
         ],
         "y": [
          16.4325262097128,
          11.275918356425594,
          15.203555861762263,
          6.26070542545375,
          17.975515289246488
         ]
        },
        {
         "error_y": {
          "array": [
           0.022477080021502616,
           0.1119573974700252,
           1.7609607034889905,
           0,
           0
          ]
         },
         "marker": {
          "color": "#000000"
         },
         "name": "CCE, SD=100",
         "type": "bar",
         "x": [
          "",
          "L2: 0.01",
          "L2: 10^-4",
          "L1: 0.01",
          "L1: 10^-4"
         ],
         "y": [
          69.13845488028488,
          50.78902674163268,
          69.44391659256829,
          51.77736457236776,
          69.45482277065122
         ]
        },
        {
         "error_y": {
          "array": [
           0.9052377896672184,
           0,
           0,
           0,
           0
          ]
         },
         "marker": {
          "color": "#46BDC6"
         },
         "name": "JSD, SD=100",
         "type": "bar",
         "x": [
          "",
          "L2: 0.01",
          "L2: 10^-4",
          "L1: 0.01",
          "L1: 10^-4"
         ],
         "y": [
          82.43192930564419,
          21.357813444114825,
          83.94772236125706,
          -41.544550297475155,
          83.30473587856534
         ]
        }
       ],
       "layout": {
        "height": 600,
        "template": {
         "data": {
          "bar": [
           {
            "error_x": {
             "color": "#2a3f5f"
            },
            "error_y": {
             "color": "#2a3f5f"
            },
            "marker": {
             "line": {
              "color": "#E5ECF6",
              "width": 0.5
             }
            },
            "type": "bar"
           }
          ],
          "barpolar": [
           {
            "marker": {
             "line": {
              "color": "#E5ECF6",
              "width": 0.5
             }
            },
            "type": "barpolar"
           }
          ],
          "carpet": [
           {
            "aaxis": {
             "endlinecolor": "#2a3f5f",
             "gridcolor": "white",
             "linecolor": "white",
             "minorgridcolor": "white",
             "startlinecolor": "#2a3f5f"
            },
            "baxis": {
             "endlinecolor": "#2a3f5f",
             "gridcolor": "white",
             "linecolor": "white",
             "minorgridcolor": "white",
             "startlinecolor": "#2a3f5f"
            },
            "type": "carpet"
           }
          ],
          "choropleth": [
           {
            "colorbar": {
             "outlinewidth": 0,
             "ticks": ""
            },
            "type": "choropleth"
           }
          ],
          "contour": [
           {
            "colorbar": {
             "outlinewidth": 0,
             "ticks": ""
            },
            "colorscale": [
             [
              0,
              "#0d0887"
             ],
             [
              0.1111111111111111,
              "#46039f"
             ],
             [
              0.2222222222222222,
              "#7201a8"
             ],
             [
              0.3333333333333333,
              "#9c179e"
             ],
             [
              0.4444444444444444,
              "#bd3786"
             ],
             [
              0.5555555555555556,
              "#d8576b"
             ],
             [
              0.6666666666666666,
              "#ed7953"
             ],
             [
              0.7777777777777778,
              "#fb9f3a"
             ],
             [
              0.8888888888888888,
              "#fdca26"
             ],
             [
              1,
              "#f0f921"
             ]
            ],
            "type": "contour"
           }
          ],
          "contourcarpet": [
           {
            "colorbar": {
             "outlinewidth": 0,
             "ticks": ""
            },
            "type": "contourcarpet"
           }
          ],
          "heatmap": [
           {
            "colorbar": {
             "outlinewidth": 0,
             "ticks": ""
            },
            "colorscale": [
             [
              0,
              "#0d0887"
             ],
             [
              0.1111111111111111,
              "#46039f"
             ],
             [
              0.2222222222222222,
              "#7201a8"
             ],
             [
              0.3333333333333333,
              "#9c179e"
             ],
             [
              0.4444444444444444,
              "#bd3786"
             ],
             [
              0.5555555555555556,
              "#d8576b"
             ],
             [
              0.6666666666666666,
              "#ed7953"
             ],
             [
              0.7777777777777778,
              "#fb9f3a"
             ],
             [
              0.8888888888888888,
              "#fdca26"
             ],
             [
              1,
              "#f0f921"
             ]
            ],
            "type": "heatmap"
           }
          ],
          "heatmapgl": [
           {
            "colorbar": {
             "outlinewidth": 0,
             "ticks": ""
            },
            "colorscale": [
             [
              0,
              "#0d0887"
             ],
             [
              0.1111111111111111,
              "#46039f"
             ],
             [
              0.2222222222222222,
              "#7201a8"
             ],
             [
              0.3333333333333333,
              "#9c179e"
             ],
             [
              0.4444444444444444,
              "#bd3786"
             ],
             [
              0.5555555555555556,
              "#d8576b"
             ],
             [
              0.6666666666666666,
              "#ed7953"
             ],
             [
              0.7777777777777778,
              "#fb9f3a"
             ],
             [
              0.8888888888888888,
              "#fdca26"
             ],
             [
              1,
              "#f0f921"
             ]
            ],
            "type": "heatmapgl"
           }
          ],
          "histogram": [
           {
            "marker": {
             "colorbar": {
              "outlinewidth": 0,
              "ticks": ""
             }
            },
            "type": "histogram"
           }
          ],
          "histogram2d": [
           {
            "colorbar": {
             "outlinewidth": 0,
             "ticks": ""
            },
            "colorscale": [
             [
              0,
              "#0d0887"
             ],
             [
              0.1111111111111111,
              "#46039f"
             ],
             [
              0.2222222222222222,
              "#7201a8"
             ],
             [
              0.3333333333333333,
              "#9c179e"
             ],
             [
              0.4444444444444444,
              "#bd3786"
             ],
             [
              0.5555555555555556,
              "#d8576b"
             ],
             [
              0.6666666666666666,
              "#ed7953"
             ],
             [
              0.7777777777777778,
              "#fb9f3a"
             ],
             [
              0.8888888888888888,
              "#fdca26"
             ],
             [
              1,
              "#f0f921"
             ]
            ],
            "type": "histogram2d"
           }
          ],
          "histogram2dcontour": [
           {
            "colorbar": {
             "outlinewidth": 0,
             "ticks": ""
            },
            "colorscale": [
             [
              0,
              "#0d0887"
             ],
             [
              0.1111111111111111,
              "#46039f"
             ],
             [
              0.2222222222222222,
              "#7201a8"
             ],
             [
              0.3333333333333333,
              "#9c179e"
             ],
             [
              0.4444444444444444,
              "#bd3786"
             ],
             [
              0.5555555555555556,
              "#d8576b"
             ],
             [
              0.6666666666666666,
              "#ed7953"
             ],
             [
              0.7777777777777778,
              "#fb9f3a"
             ],
             [
              0.8888888888888888,
              "#fdca26"
             ],
             [
              1,
              "#f0f921"
             ]
            ],
            "type": "histogram2dcontour"
           }
          ],
          "mesh3d": [
           {
            "colorbar": {
             "outlinewidth": 0,
             "ticks": ""
            },
            "type": "mesh3d"
           }
          ],
          "parcoords": [
           {
            "line": {
             "colorbar": {
              "outlinewidth": 0,
              "ticks": ""
             }
            },
            "type": "parcoords"
           }
          ],
          "pie": [
           {
            "automargin": true,
            "type": "pie"
           }
          ],
          "scatter": [
           {
            "marker": {
             "colorbar": {
              "outlinewidth": 0,
              "ticks": ""
             }
            },
            "type": "scatter"
           }
          ],
          "scatter3d": [
           {
            "line": {
             "colorbar": {
              "outlinewidth": 0,
              "ticks": ""
             }
            },
            "marker": {
             "colorbar": {
              "outlinewidth": 0,
              "ticks": ""
             }
            },
            "type": "scatter3d"
           }
          ],
          "scattercarpet": [
           {
            "marker": {
             "colorbar": {
              "outlinewidth": 0,
              "ticks": ""
             }
            },
            "type": "scattercarpet"
           }
          ],
          "scattergeo": [
           {
            "marker": {
             "colorbar": {
              "outlinewidth": 0,
              "ticks": ""
             }
            },
            "type": "scattergeo"
           }
          ],
          "scattergl": [
           {
            "marker": {
             "colorbar": {
              "outlinewidth": 0,
              "ticks": ""
             }
            },
            "type": "scattergl"
           }
          ],
          "scattermapbox": [
           {
            "marker": {
             "colorbar": {
              "outlinewidth": 0,
              "ticks": ""
             }
            },
            "type": "scattermapbox"
           }
          ],
          "scatterpolar": [
           {
            "marker": {
             "colorbar": {
              "outlinewidth": 0,
              "ticks": ""
             }
            },
            "type": "scatterpolar"
           }
          ],
          "scatterpolargl": [
           {
            "marker": {
             "colorbar": {
              "outlinewidth": 0,
              "ticks": ""
             }
            },
            "type": "scatterpolargl"
           }
          ],
          "scatterternary": [
           {
            "marker": {
             "colorbar": {
              "outlinewidth": 0,
              "ticks": ""
             }
            },
            "type": "scatterternary"
           }
          ],
          "surface": [
           {
            "colorbar": {
             "outlinewidth": 0,
             "ticks": ""
            },
            "colorscale": [
             [
              0,
              "#0d0887"
             ],
             [
              0.1111111111111111,
              "#46039f"
             ],
             [
              0.2222222222222222,
              "#7201a8"
             ],
             [
              0.3333333333333333,
              "#9c179e"
             ],
             [
              0.4444444444444444,
              "#bd3786"
             ],
             [
              0.5555555555555556,
              "#d8576b"
             ],
             [
              0.6666666666666666,
              "#ed7953"
             ],
             [
              0.7777777777777778,
              "#fb9f3a"
             ],
             [
              0.8888888888888888,
              "#fdca26"
             ],
             [
              1,
              "#f0f921"
             ]
            ],
            "type": "surface"
           }
          ],
          "table": [
           {
            "cells": {
             "fill": {
              "color": "#EBF0F8"
             },
             "line": {
              "color": "white"
             }
            },
            "header": {
             "fill": {
              "color": "#C8D4E3"
             },
             "line": {
              "color": "white"
             }
            },
            "type": "table"
           }
          ]
         },
         "layout": {
          "annotationdefaults": {
           "arrowcolor": "#2a3f5f",
           "arrowhead": 0,
           "arrowwidth": 1
          },
          "autotypenumbers": "strict",
          "coloraxis": {
           "colorbar": {
            "outlinewidth": 0,
            "ticks": ""
           }
          },
          "colorscale": {
           "diverging": [
            [
             0,
             "#8e0152"
            ],
            [
             0.1,
             "#c51b7d"
            ],
            [
             0.2,
             "#de77ae"
            ],
            [
             0.3,
             "#f1b6da"
            ],
            [
             0.4,
             "#fde0ef"
            ],
            [
             0.5,
             "#f7f7f7"
            ],
            [
             0.6,
             "#e6f5d0"
            ],
            [
             0.7,
             "#b8e186"
            ],
            [
             0.8,
             "#7fbc41"
            ],
            [
             0.9,
             "#4d9221"
            ],
            [
             1,
             "#276419"
            ]
           ],
           "sequential": [
            [
             0,
             "#0d0887"
            ],
            [
             0.1111111111111111,
             "#46039f"
            ],
            [
             0.2222222222222222,
             "#7201a8"
            ],
            [
             0.3333333333333333,
             "#9c179e"
            ],
            [
             0.4444444444444444,
             "#bd3786"
            ],
            [
             0.5555555555555556,
             "#d8576b"
            ],
            [
             0.6666666666666666,
             "#ed7953"
            ],
            [
             0.7777777777777778,
             "#fb9f3a"
            ],
            [
             0.8888888888888888,
             "#fdca26"
            ],
            [
             1,
             "#f0f921"
            ]
           ],
           "sequentialminus": [
            [
             0,
             "#0d0887"
            ],
            [
             0.1111111111111111,
             "#46039f"
            ],
            [
             0.2222222222222222,
             "#7201a8"
            ],
            [
             0.3333333333333333,
             "#9c179e"
            ],
            [
             0.4444444444444444,
             "#bd3786"
            ],
            [
             0.5555555555555556,
             "#d8576b"
            ],
            [
             0.6666666666666666,
             "#ed7953"
            ],
            [
             0.7777777777777778,
             "#fb9f3a"
            ],
            [
             0.8888888888888888,
             "#fdca26"
            ],
            [
             1,
             "#f0f921"
            ]
           ]
          },
          "colorway": [
           "#636efa",
           "#EF553B",
           "#00cc96",
           "#ab63fa",
           "#FFA15A",
           "#19d3f3",
           "#FF6692",
           "#B6E880",
           "#FF97FF",
           "#FECB52"
          ],
          "font": {
           "color": "#2a3f5f"
          },
          "geo": {
           "bgcolor": "white",
           "lakecolor": "white",
           "landcolor": "#E5ECF6",
           "showlakes": true,
           "showland": true,
           "subunitcolor": "white"
          },
          "hoverlabel": {
           "align": "left"
          },
          "hovermode": "closest",
          "mapbox": {
           "style": "light"
          },
          "paper_bgcolor": "white",
          "plot_bgcolor": "#E5ECF6",
          "polar": {
           "angularaxis": {
            "gridcolor": "white",
            "linecolor": "white",
            "ticks": ""
           },
           "bgcolor": "#E5ECF6",
           "radialaxis": {
            "gridcolor": "white",
            "linecolor": "white",
            "ticks": ""
           }
          },
          "scene": {
           "xaxis": {
            "backgroundcolor": "#E5ECF6",
            "gridcolor": "white",
            "gridwidth": 2,
            "linecolor": "white",
            "showbackground": true,
            "ticks": "",
            "zerolinecolor": "white"
           },
           "yaxis": {
            "backgroundcolor": "#E5ECF6",
            "gridcolor": "white",
            "gridwidth": 2,
            "linecolor": "white",
            "showbackground": true,
            "ticks": "",
            "zerolinecolor": "white"
           },
           "zaxis": {
            "backgroundcolor": "#E5ECF6",
            "gridcolor": "white",
            "gridwidth": 2,
            "linecolor": "white",
            "showbackground": true,
            "ticks": "",
            "zerolinecolor": "white"
           }
          },
          "shapedefaults": {
           "line": {
            "color": "#2a3f5f"
           }
          },
          "ternary": {
           "aaxis": {
            "gridcolor": "white",
            "linecolor": "white",
            "ticks": ""
           },
           "baxis": {
            "gridcolor": "white",
            "linecolor": "white",
            "ticks": ""
           },
           "bgcolor": "#E5ECF6",
           "caxis": {
            "gridcolor": "white",
            "linecolor": "white",
            "ticks": ""
           }
          },
          "title": {
           "x": 0.05
          },
          "xaxis": {
           "automargin": true,
           "gridcolor": "white",
           "linecolor": "white",
           "ticks": "",
           "title": {
            "standoff": 15
           },
           "zerolinecolor": "white",
           "zerolinewidth": 2
          },
          "yaxis": {
           "automargin": true,
           "gridcolor": "white",
           "linecolor": "white",
           "ticks": "",
           "title": {
            "standoff": 15
           },
           "zerolinecolor": "white",
           "zerolinewidth": 2
          }
         }
        },
        "title": {
         "text": "activity_regularizer"
        },
        "width": 1000,
        "yaxis": {
         "dtick": 25,
         "range": [
          -175,
          100
         ],
         "tick0": 0
        }
       }
      }
     },
     "metadata": {}
    },
    {
     "output_type": "display_data",
     "data": {
      "text/plain": "<Figure size 432x288 with 0 Axes>"
     },
     "metadata": {}
    }
   ],
   "source": [
    "plot_vals(5)\n",
    "plt.savefig(\"pictures/results_fig_5.svg\")"
   ]
  },
  {
   "cell_type": "code",
   "execution_count": 10,
   "id": "gentle-cowboy",
   "metadata": {},
   "outputs": [
    {
     "output_type": "display_data",
     "data": {
      "application/vnd.plotly.v1+json": {
       "config": {
        "plotlyServerURL": "https://plot.ly"
       },
       "data": [
        {
         "error_y": {
          "array": [
           0.4198747008094716,
           0.5671968389144911,
           0.24700840820783998,
           0.32036356902190444,
           0.48948437477121026,
           0.7618198532060377,
           0.3864432212481912
          ]
         },
         "marker": {
          "color": "#4285F4"
         },
         "name": "CCE, SD=4",
         "type": "bar",
         "x": [
          "0.01/SD",
          "(0.01*4)/SD",
          "0.01/math.sqrt(SD)",
          "0.01",
          "0.05",
          "0.1",
          "0.2"
         ],
         "y": [
          91.00333154058762,
          91.12702451111598,
          91.04237978902954,
          91.05247222410182,
          93.34502505703017,
          94.32789812219002,
          94.30766478386526
         ]
        },
        {
         "error_y": {
          "array": [
           0.2876809252865852,
           0.505143789355596,
           0.24963547216955695,
           0.23566876366998962,
           0.27670380281963847,
           0.505812974993236,
           0.8432262694093301
          ]
         },
         "marker": {
          "color": "#EA4335"
         },
         "name": "JSD, SD=4",
         "type": "bar",
         "x": [
          "0.01/SD",
          "(0.01*4)/SD",
          "0.01/math.sqrt(SD)",
          "0.01",
          "0.05",
          "0.1",
          "0.2"
         ],
         "y": [
          94.52173334209245,
          94.3892081615712,
          94.447585053779,
          94.5183196165392,
          95.43702550062626,
          96.01729221449293,
          95.0488463158413
         ]
        },
        {
         "error_y": {
          "array": [
           1.6413708462527996,
           1.206365457290055,
           0.8577820934199679,
           1.4941049009065293,
           2.835190511535121,
           0.99770656303896,
           0.9301812039534825
          ]
         },
         "marker": {
          "color": "#FBBC04"
         },
         "name": "CCEu, SD=4",
         "type": "bar",
         "x": [
          "0.01/SD",
          "(0.01*4)/SD",
          "0.01/math.sqrt(SD)",
          "0.01",
          "0.05",
          "0.1",
          "0.2"
         ],
         "y": [
          -16.201381516125334,
          -14.73310786036501,
          -16.12549640444786,
          -14.783106712089241,
          -8.888567726022018,
          -3.843989862947666,
          -2.87186975673324
         ]
        },
        {
         "error_y": {
          "array": [
           1.6004072596045136,
           1.8299902240430035,
           1.0002503855836145,
           1.4448136400247908,
           1.1259311530793936,
           1.042413573671528,
           1.3411777170786536
          ]
         },
         "marker": {
          "color": "#34A853"
         },
         "name": "JSDu, SD=4",
         "type": "bar",
         "x": [
          "0.01/SD",
          "(0.01*4)/SD",
          "0.01/math.sqrt(SD)",
          "0.01",
          "0.05",
          "0.1",
          "0.2"
         ],
         "y": [
          17.623283066066577,
          17.12758400421996,
          17.213418930670247,
          15.825024807104578,
          16.534301065436257,
          14.081196348609879,
          7.013794845514627
         ]
        },
        {
         "error_y": {
          "array": [
           0,
           0,
           0,
           0,
           0,
           0,
           0
          ]
         },
         "marker": {
          "color": "#000000"
         },
         "name": "CCE, SD=100",
         "type": "bar",
         "x": [
          "0.01/SD",
          "(0.01*4)/SD",
          "0.01/math.sqrt(SD)",
          "0.01",
          "0.05",
          "0.1",
          "0.2"
         ],
         "y": [
          86.44800171501802,
          58.98317705589951,
          67.75514661093557,
          68.80394889781354,
          33.8609010882213,
          16.858101472699147,
          -6.7729051253433
         ]
        },
        {
         "error_y": {
          "array": [
           0,
           0,
           0,
           0,
           0,
           0,
           0
          ]
         },
         "marker": {
          "color": "#46BDC6"
         },
         "name": "JSD, SD=100",
         "type": "bar",
         "x": [
          "0.01/SD",
          "(0.01*4)/SD",
          "0.01/math.sqrt(SD)",
          "0.01",
          "0.05",
          "0.1",
          "0.2"
         ],
         "y": [
          90.48054245874191,
          93.36593322114166,
          95.79855821939955,
          83.41371563712201,
          19.59400755890809,
          18.129883766094665,
          -1.2532310860171236
         ]
        }
       ],
       "layout": {
        "height": 600,
        "template": {
         "data": {
          "bar": [
           {
            "error_x": {
             "color": "#2a3f5f"
            },
            "error_y": {
             "color": "#2a3f5f"
            },
            "marker": {
             "line": {
              "color": "#E5ECF6",
              "width": 0.5
             }
            },
            "type": "bar"
           }
          ],
          "barpolar": [
           {
            "marker": {
             "line": {
              "color": "#E5ECF6",
              "width": 0.5
             }
            },
            "type": "barpolar"
           }
          ],
          "carpet": [
           {
            "aaxis": {
             "endlinecolor": "#2a3f5f",
             "gridcolor": "white",
             "linecolor": "white",
             "minorgridcolor": "white",
             "startlinecolor": "#2a3f5f"
            },
            "baxis": {
             "endlinecolor": "#2a3f5f",
             "gridcolor": "white",
             "linecolor": "white",
             "minorgridcolor": "white",
             "startlinecolor": "#2a3f5f"
            },
            "type": "carpet"
           }
          ],
          "choropleth": [
           {
            "colorbar": {
             "outlinewidth": 0,
             "ticks": ""
            },
            "type": "choropleth"
           }
          ],
          "contour": [
           {
            "colorbar": {
             "outlinewidth": 0,
             "ticks": ""
            },
            "colorscale": [
             [
              0,
              "#0d0887"
             ],
             [
              0.1111111111111111,
              "#46039f"
             ],
             [
              0.2222222222222222,
              "#7201a8"
             ],
             [
              0.3333333333333333,
              "#9c179e"
             ],
             [
              0.4444444444444444,
              "#bd3786"
             ],
             [
              0.5555555555555556,
              "#d8576b"
             ],
             [
              0.6666666666666666,
              "#ed7953"
             ],
             [
              0.7777777777777778,
              "#fb9f3a"
             ],
             [
              0.8888888888888888,
              "#fdca26"
             ],
             [
              1,
              "#f0f921"
             ]
            ],
            "type": "contour"
           }
          ],
          "contourcarpet": [
           {
            "colorbar": {
             "outlinewidth": 0,
             "ticks": ""
            },
            "type": "contourcarpet"
           }
          ],
          "heatmap": [
           {
            "colorbar": {
             "outlinewidth": 0,
             "ticks": ""
            },
            "colorscale": [
             [
              0,
              "#0d0887"
             ],
             [
              0.1111111111111111,
              "#46039f"
             ],
             [
              0.2222222222222222,
              "#7201a8"
             ],
             [
              0.3333333333333333,
              "#9c179e"
             ],
             [
              0.4444444444444444,
              "#bd3786"
             ],
             [
              0.5555555555555556,
              "#d8576b"
             ],
             [
              0.6666666666666666,
              "#ed7953"
             ],
             [
              0.7777777777777778,
              "#fb9f3a"
             ],
             [
              0.8888888888888888,
              "#fdca26"
             ],
             [
              1,
              "#f0f921"
             ]
            ],
            "type": "heatmap"
           }
          ],
          "heatmapgl": [
           {
            "colorbar": {
             "outlinewidth": 0,
             "ticks": ""
            },
            "colorscale": [
             [
              0,
              "#0d0887"
             ],
             [
              0.1111111111111111,
              "#46039f"
             ],
             [
              0.2222222222222222,
              "#7201a8"
             ],
             [
              0.3333333333333333,
              "#9c179e"
             ],
             [
              0.4444444444444444,
              "#bd3786"
             ],
             [
              0.5555555555555556,
              "#d8576b"
             ],
             [
              0.6666666666666666,
              "#ed7953"
             ],
             [
              0.7777777777777778,
              "#fb9f3a"
             ],
             [
              0.8888888888888888,
              "#fdca26"
             ],
             [
              1,
              "#f0f921"
             ]
            ],
            "type": "heatmapgl"
           }
          ],
          "histogram": [
           {
            "marker": {
             "colorbar": {
              "outlinewidth": 0,
              "ticks": ""
             }
            },
            "type": "histogram"
           }
          ],
          "histogram2d": [
           {
            "colorbar": {
             "outlinewidth": 0,
             "ticks": ""
            },
            "colorscale": [
             [
              0,
              "#0d0887"
             ],
             [
              0.1111111111111111,
              "#46039f"
             ],
             [
              0.2222222222222222,
              "#7201a8"
             ],
             [
              0.3333333333333333,
              "#9c179e"
             ],
             [
              0.4444444444444444,
              "#bd3786"
             ],
             [
              0.5555555555555556,
              "#d8576b"
             ],
             [
              0.6666666666666666,
              "#ed7953"
             ],
             [
              0.7777777777777778,
              "#fb9f3a"
             ],
             [
              0.8888888888888888,
              "#fdca26"
             ],
             [
              1,
              "#f0f921"
             ]
            ],
            "type": "histogram2d"
           }
          ],
          "histogram2dcontour": [
           {
            "colorbar": {
             "outlinewidth": 0,
             "ticks": ""
            },
            "colorscale": [
             [
              0,
              "#0d0887"
             ],
             [
              0.1111111111111111,
              "#46039f"
             ],
             [
              0.2222222222222222,
              "#7201a8"
             ],
             [
              0.3333333333333333,
              "#9c179e"
             ],
             [
              0.4444444444444444,
              "#bd3786"
             ],
             [
              0.5555555555555556,
              "#d8576b"
             ],
             [
              0.6666666666666666,
              "#ed7953"
             ],
             [
              0.7777777777777778,
              "#fb9f3a"
             ],
             [
              0.8888888888888888,
              "#fdca26"
             ],
             [
              1,
              "#f0f921"
             ]
            ],
            "type": "histogram2dcontour"
           }
          ],
          "mesh3d": [
           {
            "colorbar": {
             "outlinewidth": 0,
             "ticks": ""
            },
            "type": "mesh3d"
           }
          ],
          "parcoords": [
           {
            "line": {
             "colorbar": {
              "outlinewidth": 0,
              "ticks": ""
             }
            },
            "type": "parcoords"
           }
          ],
          "pie": [
           {
            "automargin": true,
            "type": "pie"
           }
          ],
          "scatter": [
           {
            "marker": {
             "colorbar": {
              "outlinewidth": 0,
              "ticks": ""
             }
            },
            "type": "scatter"
           }
          ],
          "scatter3d": [
           {
            "line": {
             "colorbar": {
              "outlinewidth": 0,
              "ticks": ""
             }
            },
            "marker": {
             "colorbar": {
              "outlinewidth": 0,
              "ticks": ""
             }
            },
            "type": "scatter3d"
           }
          ],
          "scattercarpet": [
           {
            "marker": {
             "colorbar": {
              "outlinewidth": 0,
              "ticks": ""
             }
            },
            "type": "scattercarpet"
           }
          ],
          "scattergeo": [
           {
            "marker": {
             "colorbar": {
              "outlinewidth": 0,
              "ticks": ""
             }
            },
            "type": "scattergeo"
           }
          ],
          "scattergl": [
           {
            "marker": {
             "colorbar": {
              "outlinewidth": 0,
              "ticks": ""
             }
            },
            "type": "scattergl"
           }
          ],
          "scattermapbox": [
           {
            "marker": {
             "colorbar": {
              "outlinewidth": 0,
              "ticks": ""
             }
            },
            "type": "scattermapbox"
           }
          ],
          "scatterpolar": [
           {
            "marker": {
             "colorbar": {
              "outlinewidth": 0,
              "ticks": ""
             }
            },
            "type": "scatterpolar"
           }
          ],
          "scatterpolargl": [
           {
            "marker": {
             "colorbar": {
              "outlinewidth": 0,
              "ticks": ""
             }
            },
            "type": "scatterpolargl"
           }
          ],
          "scatterternary": [
           {
            "marker": {
             "colorbar": {
              "outlinewidth": 0,
              "ticks": ""
             }
            },
            "type": "scatterternary"
           }
          ],
          "surface": [
           {
            "colorbar": {
             "outlinewidth": 0,
             "ticks": ""
            },
            "colorscale": [
             [
              0,
              "#0d0887"
             ],
             [
              0.1111111111111111,
              "#46039f"
             ],
             [
              0.2222222222222222,
              "#7201a8"
             ],
             [
              0.3333333333333333,
              "#9c179e"
             ],
             [
              0.4444444444444444,
              "#bd3786"
             ],
             [
              0.5555555555555556,
              "#d8576b"
             ],
             [
              0.6666666666666666,
              "#ed7953"
             ],
             [
              0.7777777777777778,
              "#fb9f3a"
             ],
             [
              0.8888888888888888,
              "#fdca26"
             ],
             [
              1,
              "#f0f921"
             ]
            ],
            "type": "surface"
           }
          ],
          "table": [
           {
            "cells": {
             "fill": {
              "color": "#EBF0F8"
             },
             "line": {
              "color": "white"
             }
            },
            "header": {
             "fill": {
              "color": "#C8D4E3"
             },
             "line": {
              "color": "white"
             }
            },
            "type": "table"
           }
          ]
         },
         "layout": {
          "annotationdefaults": {
           "arrowcolor": "#2a3f5f",
           "arrowhead": 0,
           "arrowwidth": 1
          },
          "autotypenumbers": "strict",
          "coloraxis": {
           "colorbar": {
            "outlinewidth": 0,
            "ticks": ""
           }
          },
          "colorscale": {
           "diverging": [
            [
             0,
             "#8e0152"
            ],
            [
             0.1,
             "#c51b7d"
            ],
            [
             0.2,
             "#de77ae"
            ],
            [
             0.3,
             "#f1b6da"
            ],
            [
             0.4,
             "#fde0ef"
            ],
            [
             0.5,
             "#f7f7f7"
            ],
            [
             0.6,
             "#e6f5d0"
            ],
            [
             0.7,
             "#b8e186"
            ],
            [
             0.8,
             "#7fbc41"
            ],
            [
             0.9,
             "#4d9221"
            ],
            [
             1,
             "#276419"
            ]
           ],
           "sequential": [
            [
             0,
             "#0d0887"
            ],
            [
             0.1111111111111111,
             "#46039f"
            ],
            [
             0.2222222222222222,
             "#7201a8"
            ],
            [
             0.3333333333333333,
             "#9c179e"
            ],
            [
             0.4444444444444444,
             "#bd3786"
            ],
            [
             0.5555555555555556,
             "#d8576b"
            ],
            [
             0.6666666666666666,
             "#ed7953"
            ],
            [
             0.7777777777777778,
             "#fb9f3a"
            ],
            [
             0.8888888888888888,
             "#fdca26"
            ],
            [
             1,
             "#f0f921"
            ]
           ],
           "sequentialminus": [
            [
             0,
             "#0d0887"
            ],
            [
             0.1111111111111111,
             "#46039f"
            ],
            [
             0.2222222222222222,
             "#7201a8"
            ],
            [
             0.3333333333333333,
             "#9c179e"
            ],
            [
             0.4444444444444444,
             "#bd3786"
            ],
            [
             0.5555555555555556,
             "#d8576b"
            ],
            [
             0.6666666666666666,
             "#ed7953"
            ],
            [
             0.7777777777777778,
             "#fb9f3a"
            ],
            [
             0.8888888888888888,
             "#fdca26"
            ],
            [
             1,
             "#f0f921"
            ]
           ]
          },
          "colorway": [
           "#636efa",
           "#EF553B",
           "#00cc96",
           "#ab63fa",
           "#FFA15A",
           "#19d3f3",
           "#FF6692",
           "#B6E880",
           "#FF97FF",
           "#FECB52"
          ],
          "font": {
           "color": "#2a3f5f"
          },
          "geo": {
           "bgcolor": "white",
           "lakecolor": "white",
           "landcolor": "#E5ECF6",
           "showlakes": true,
           "showland": true,
           "subunitcolor": "white"
          },
          "hoverlabel": {
           "align": "left"
          },
          "hovermode": "closest",
          "mapbox": {
           "style": "light"
          },
          "paper_bgcolor": "white",
          "plot_bgcolor": "#E5ECF6",
          "polar": {
           "angularaxis": {
            "gridcolor": "white",
            "linecolor": "white",
            "ticks": ""
           },
           "bgcolor": "#E5ECF6",
           "radialaxis": {
            "gridcolor": "white",
            "linecolor": "white",
            "ticks": ""
           }
          },
          "scene": {
           "xaxis": {
            "backgroundcolor": "#E5ECF6",
            "gridcolor": "white",
            "gridwidth": 2,
            "linecolor": "white",
            "showbackground": true,
            "ticks": "",
            "zerolinecolor": "white"
           },
           "yaxis": {
            "backgroundcolor": "#E5ECF6",
            "gridcolor": "white",
            "gridwidth": 2,
            "linecolor": "white",
            "showbackground": true,
            "ticks": "",
            "zerolinecolor": "white"
           },
           "zaxis": {
            "backgroundcolor": "#E5ECF6",
            "gridcolor": "white",
            "gridwidth": 2,
            "linecolor": "white",
            "showbackground": true,
            "ticks": "",
            "zerolinecolor": "white"
           }
          },
          "shapedefaults": {
           "line": {
            "color": "#2a3f5f"
           }
          },
          "ternary": {
           "aaxis": {
            "gridcolor": "white",
            "linecolor": "white",
            "ticks": ""
           },
           "baxis": {
            "gridcolor": "white",
            "linecolor": "white",
            "ticks": ""
           },
           "bgcolor": "#E5ECF6",
           "caxis": {
            "gridcolor": "white",
            "linecolor": "white",
            "ticks": ""
           }
          },
          "title": {
           "x": 0.05
          },
          "xaxis": {
           "automargin": true,
           "gridcolor": "white",
           "linecolor": "white",
           "ticks": "",
           "title": {
            "standoff": 15
           },
           "zerolinecolor": "white",
           "zerolinewidth": 2
          },
          "yaxis": {
           "automargin": true,
           "gridcolor": "white",
           "linecolor": "white",
           "ticks": "",
           "title": {
            "standoff": 15
           },
           "zerolinecolor": "white",
           "zerolinewidth": 2
          }
         }
        },
        "title": {
         "text": "sigma"
        },
        "width": 1000,
        "yaxis": {
         "dtick": 25,
         "range": [
          -175,
          100
         ],
         "tick0": 0
        }
       }
      }
     },
     "metadata": {}
    },
    {
     "output_type": "display_data",
     "data": {
      "text/plain": "<Figure size 432x288 with 0 Axes>"
     },
     "metadata": {}
    }
   ],
   "source": [
    "plot_vals(6)\n",
    "plt.savefig(\"pictures/results_fig_6.svg\")"
   ]
  },
  {
   "cell_type": "code",
   "execution_count": 11,
   "id": "collected-girlfriend",
   "metadata": {},
   "outputs": [
    {
     "output_type": "display_data",
     "data": {
      "application/vnd.plotly.v1+json": {
       "config": {
        "plotlyServerURL": "https://plot.ly"
       },
       "data": [
        {
         "marker": {
          "color": "#4285F4"
         },
         "mode": "lines+markers",
         "name": "CCE, SD=4",
         "type": "scatter",
         "x": [
          2,
          3,
          4,
          5,
          10,
          20,
          30
         ],
         "y": [
          94.2834275984791,
          91.01051363359095,
          88.46553297264254,
          85.78398123029922,
          76.17887529709651,
          -61.19097859163564,
          -313.6012100028101
         ]
        },
        {
         "line": {
          "width": 0
         },
         "marker": {
          "color": "#4285F4"
         },
         "mode": "lines",
         "name": "Upper bound",
         "showlegend": false,
         "type": "scatter",
         "x": [
          2,
          3,
          4,
          5,
          10,
          20,
          30
         ],
         "y": [
          95.18494617291705,
          91.58449972792857,
          88.8329233764751,
          86.40206521578733,
          77.5380465490495,
          -49.61869082051464,
          -313.3116453150153
         ]
        },
        {
         "fill": "tonexty",
         "fillcolor": "rgba(66, 133, 244, 0.2)",
         "line": {
          "width": 0
         },
         "marker": {
          "color": "#4285F4"
         },
         "mode": "lines",
         "name": "Lower bound",
         "showlegend": false,
         "type": "scatter",
         "x": [
          2,
          3,
          4,
          5,
          10,
          20,
          30
         ],
         "y": [
          93.38190902404114,
          90.43652753925332,
          88.09814256880998,
          85.1658972448111,
          74.81970404514352,
          -72.76326636275664,
          -313.89077469060487
         ]
        },
        {
         "marker": {
          "color": "#EA4335"
         },
         "mode": "lines+markers",
         "name": "JSD, SD=4",
         "type": "scatter",
         "x": [
          2,
          3,
          4,
          5,
          10,
          20,
          30
         ],
         "y": [
          96.17686852371989,
          94.30239790929252,
          92.85333374568651,
          91.22911059521951,
          87.522252220515,
          -15.617020259506798,
          -294.6742206606793
         ]
        },
        {
         "line": {
          "width": 0
         },
         "marker": {
          "color": "#EA4335"
         },
         "mode": "lines",
         "name": "Upper bound",
         "showlegend": false,
         "type": "scatter",
         "x": [
          2,
          3,
          4,
          5,
          10,
          20,
          30
         ],
         "y": [
          96.49910513593953,
          94.64453709194248,
          93.30561580606185,
          91.84000968855923,
          88.80569778736039,
          -1.6497886148147813,
          -293.15190938394073
         ]
        },
        {
         "fill": "tonexty",
         "fillcolor": "rgba(234, 67, 53, 0.2)",
         "line": {
          "width": 0
         },
         "marker": {
          "color": "#EA4335"
         },
         "mode": "lines",
         "name": "Lower bound",
         "showlegend": false,
         "type": "scatter",
         "x": [
          2,
          3,
          4,
          5,
          10,
          20,
          30
         ],
         "y": [
          95.85463191150025,
          93.96025872664256,
          92.40105168531117,
          90.61821150187978,
          86.23880665366961,
          -29.584251904198815,
          -296.19653193741783
         ]
        },
        {
         "marker": {
          "color": "#FBBC04"
         },
         "mode": "lines+markers",
         "name": "CCEu, SD=4",
         "type": "scatter",
         "x": [
          2,
          3,
          4,
          5,
          10,
          20,
          30
         ],
         "y": [
          -18.683220688258395,
          -15.300565536731503,
          -14.178280922970577,
          -12.16718809416573,
          -11.899289203387033,
          -66.71339766131113,
          -283.9884612024834
         ]
        },
        {
         "line": {
          "width": 0
         },
         "marker": {
          "color": "#FBBC04"
         },
         "mode": "lines",
         "name": "Upper bound",
         "showlegend": false,
         "type": "scatter",
         "x": [
          2,
          3,
          4,
          5,
          10,
          20,
          30
         ],
         "y": [
          -14.419012123835715,
          -13.80235882139728,
          -13.26901864885027,
          -10.824972086577127,
          -9.340648997900331,
          -59.21145121925849,
          -266.93230362880394
         ]
        },
        {
         "fill": "tonexty",
         "fillcolor": "rgba(251, 188, 4, 0.2)",
         "line": {
          "width": 0
         },
         "marker": {
          "color": "#FBBC04"
         },
         "mode": "lines",
         "name": "Lower bound",
         "showlegend": false,
         "type": "scatter",
         "x": [
          2,
          3,
          4,
          5,
          10,
          20,
          30
         ],
         "y": [
          -22.947429252681076,
          -16.798772252065724,
          -15.087543197090884,
          -13.509404101754335,
          -14.457929408873735,
          -74.21534410336378,
          -301.04461877616285
         ]
        },
        {
         "marker": {
          "color": "#34A853"
         },
         "mode": "lines+markers",
         "name": "JSDu, SD=4",
         "type": "scatter",
         "x": [
          2,
          3,
          4,
          5,
          10,
          20,
          30
         ],
         "y": [
          15.447433948874005,
          16.4325262097128,
          19.612920865476116,
          22.803674580912826,
          50.6999940459169,
          0.566256936055737,
          -219.41772918921558
         ]
        },
        {
         "line": {
          "width": 0
         },
         "marker": {
          "color": "#34A853"
         },
         "mode": "lines",
         "name": "Upper bound",
         "showlegend": false,
         "type": "scatter",
         "x": [
          2,
          3,
          4,
          5,
          10,
          20,
          30
         ],
         "y": [
          18.154644927668837,
          17.53281186524548,
          20.539210917598947,
          25.73466258296588,
          54.801123412893254,
          8.219277652285765,
          -214.00352406277852
         ]
        },
        {
         "fill": "tonexty",
         "fillcolor": "rgba(52, 168, 83, 0.2)",
         "line": {
          "width": 0
         },
         "marker": {
          "color": "#34A853"
         },
         "mode": "lines",
         "name": "Lower bound",
         "showlegend": false,
         "type": "scatter",
         "x": [
          2,
          3,
          4,
          5,
          10,
          20,
          30
         ],
         "y": [
          12.740222970079174,
          15.33224055418012,
          18.686630813353286,
          19.872686578859774,
          46.59886467894055,
          -7.08676378017429,
          -224.83193431565263
         ]
        },
        {
         "marker": {
          "color": "#000000"
         },
         "mode": "lines+markers",
         "name": "CCE, SD=100",
         "type": "scatter",
         "x": [
          2,
          3,
          4,
          5
         ],
         "y": [
          85.14502964918799,
          69.13845488028488,
          33.84231283288854,
          -40.81359773312883
         ]
        },
        {
         "line": {
          "width": 0
         },
         "marker": {
          "color": "#000000"
         },
         "mode": "lines",
         "name": "Upper bound",
         "showlegend": false,
         "type": "scatter",
         "x": [
          2,
          3,
          4,
          5
         ],
         "y": [
          85.14502964918799,
          69.16093196030639,
          33.84231283288854,
          -40.81359773312883
         ]
        },
        {
         "fill": "tonexty",
         "fillcolor": "rgba(0, 0, 0, 0.2)",
         "line": {
          "width": 0
         },
         "marker": {
          "color": "#000000"
         },
         "mode": "lines",
         "name": "Lower bound",
         "showlegend": false,
         "type": "scatter",
         "x": [
          2,
          3,
          4,
          5
         ],
         "y": [
          85.14502964918799,
          69.11597780026338,
          33.84231283288854,
          -40.81359773312883
         ]
        },
        {
         "marker": {
          "color": "#46BDC6"
         },
         "mode": "lines+markers",
         "name": "JSD, SD=100",
         "type": "scatter",
         "x": [
          2,
          3,
          4,
          5
         ],
         "y": [
          89.50104176647521,
          82.43192930564419,
          35.56573164850526,
          -13.08810610727032
         ]
        },
        {
         "line": {
          "width": 0
         },
         "marker": {
          "color": "#46BDC6"
         },
         "mode": "lines",
         "name": "Upper bound",
         "showlegend": false,
         "type": "scatter",
         "x": [
          2,
          3,
          4,
          5
         ],
         "y": [
          89.50104176647521,
          83.3371670953114,
          35.56573164850526,
          -13.08810610727032
         ]
        },
        {
         "fill": "tonexty",
         "fillcolor": "rgba(70, 189, 198, 0.2)",
         "line": {
          "width": 0
         },
         "marker": {
          "color": "#46BDC6"
         },
         "mode": "lines",
         "name": "Lower bound",
         "showlegend": false,
         "type": "scatter",
         "x": [
          2,
          3,
          4,
          5
         ],
         "y": [
          89.50104176647521,
          81.52669151597698,
          35.56573164850526,
          -13.08810610727032
         ]
        }
       ],
       "layout": {
        "height": 600,
        "template": {
         "data": {
          "bar": [
           {
            "error_x": {
             "color": "#2a3f5f"
            },
            "error_y": {
             "color": "#2a3f5f"
            },
            "marker": {
             "line": {
              "color": "#E5ECF6",
              "width": 0.5
             }
            },
            "type": "bar"
           }
          ],
          "barpolar": [
           {
            "marker": {
             "line": {
              "color": "#E5ECF6",
              "width": 0.5
             }
            },
            "type": "barpolar"
           }
          ],
          "carpet": [
           {
            "aaxis": {
             "endlinecolor": "#2a3f5f",
             "gridcolor": "white",
             "linecolor": "white",
             "minorgridcolor": "white",
             "startlinecolor": "#2a3f5f"
            },
            "baxis": {
             "endlinecolor": "#2a3f5f",
             "gridcolor": "white",
             "linecolor": "white",
             "minorgridcolor": "white",
             "startlinecolor": "#2a3f5f"
            },
            "type": "carpet"
           }
          ],
          "choropleth": [
           {
            "colorbar": {
             "outlinewidth": 0,
             "ticks": ""
            },
            "type": "choropleth"
           }
          ],
          "contour": [
           {
            "colorbar": {
             "outlinewidth": 0,
             "ticks": ""
            },
            "colorscale": [
             [
              0,
              "#0d0887"
             ],
             [
              0.1111111111111111,
              "#46039f"
             ],
             [
              0.2222222222222222,
              "#7201a8"
             ],
             [
              0.3333333333333333,
              "#9c179e"
             ],
             [
              0.4444444444444444,
              "#bd3786"
             ],
             [
              0.5555555555555556,
              "#d8576b"
             ],
             [
              0.6666666666666666,
              "#ed7953"
             ],
             [
              0.7777777777777778,
              "#fb9f3a"
             ],
             [
              0.8888888888888888,
              "#fdca26"
             ],
             [
              1,
              "#f0f921"
             ]
            ],
            "type": "contour"
           }
          ],
          "contourcarpet": [
           {
            "colorbar": {
             "outlinewidth": 0,
             "ticks": ""
            },
            "type": "contourcarpet"
           }
          ],
          "heatmap": [
           {
            "colorbar": {
             "outlinewidth": 0,
             "ticks": ""
            },
            "colorscale": [
             [
              0,
              "#0d0887"
             ],
             [
              0.1111111111111111,
              "#46039f"
             ],
             [
              0.2222222222222222,
              "#7201a8"
             ],
             [
              0.3333333333333333,
              "#9c179e"
             ],
             [
              0.4444444444444444,
              "#bd3786"
             ],
             [
              0.5555555555555556,
              "#d8576b"
             ],
             [
              0.6666666666666666,
              "#ed7953"
             ],
             [
              0.7777777777777778,
              "#fb9f3a"
             ],
             [
              0.8888888888888888,
              "#fdca26"
             ],
             [
              1,
              "#f0f921"
             ]
            ],
            "type": "heatmap"
           }
          ],
          "heatmapgl": [
           {
            "colorbar": {
             "outlinewidth": 0,
             "ticks": ""
            },
            "colorscale": [
             [
              0,
              "#0d0887"
             ],
             [
              0.1111111111111111,
              "#46039f"
             ],
             [
              0.2222222222222222,
              "#7201a8"
             ],
             [
              0.3333333333333333,
              "#9c179e"
             ],
             [
              0.4444444444444444,
              "#bd3786"
             ],
             [
              0.5555555555555556,
              "#d8576b"
             ],
             [
              0.6666666666666666,
              "#ed7953"
             ],
             [
              0.7777777777777778,
              "#fb9f3a"
             ],
             [
              0.8888888888888888,
              "#fdca26"
             ],
             [
              1,
              "#f0f921"
             ]
            ],
            "type": "heatmapgl"
           }
          ],
          "histogram": [
           {
            "marker": {
             "colorbar": {
              "outlinewidth": 0,
              "ticks": ""
             }
            },
            "type": "histogram"
           }
          ],
          "histogram2d": [
           {
            "colorbar": {
             "outlinewidth": 0,
             "ticks": ""
            },
            "colorscale": [
             [
              0,
              "#0d0887"
             ],
             [
              0.1111111111111111,
              "#46039f"
             ],
             [
              0.2222222222222222,
              "#7201a8"
             ],
             [
              0.3333333333333333,
              "#9c179e"
             ],
             [
              0.4444444444444444,
              "#bd3786"
             ],
             [
              0.5555555555555556,
              "#d8576b"
             ],
             [
              0.6666666666666666,
              "#ed7953"
             ],
             [
              0.7777777777777778,
              "#fb9f3a"
             ],
             [
              0.8888888888888888,
              "#fdca26"
             ],
             [
              1,
              "#f0f921"
             ]
            ],
            "type": "histogram2d"
           }
          ],
          "histogram2dcontour": [
           {
            "colorbar": {
             "outlinewidth": 0,
             "ticks": ""
            },
            "colorscale": [
             [
              0,
              "#0d0887"
             ],
             [
              0.1111111111111111,
              "#46039f"
             ],
             [
              0.2222222222222222,
              "#7201a8"
             ],
             [
              0.3333333333333333,
              "#9c179e"
             ],
             [
              0.4444444444444444,
              "#bd3786"
             ],
             [
              0.5555555555555556,
              "#d8576b"
             ],
             [
              0.6666666666666666,
              "#ed7953"
             ],
             [
              0.7777777777777778,
              "#fb9f3a"
             ],
             [
              0.8888888888888888,
              "#fdca26"
             ],
             [
              1,
              "#f0f921"
             ]
            ],
            "type": "histogram2dcontour"
           }
          ],
          "mesh3d": [
           {
            "colorbar": {
             "outlinewidth": 0,
             "ticks": ""
            },
            "type": "mesh3d"
           }
          ],
          "parcoords": [
           {
            "line": {
             "colorbar": {
              "outlinewidth": 0,
              "ticks": ""
             }
            },
            "type": "parcoords"
           }
          ],
          "pie": [
           {
            "automargin": true,
            "type": "pie"
           }
          ],
          "scatter": [
           {
            "marker": {
             "colorbar": {
              "outlinewidth": 0,
              "ticks": ""
             }
            },
            "type": "scatter"
           }
          ],
          "scatter3d": [
           {
            "line": {
             "colorbar": {
              "outlinewidth": 0,
              "ticks": ""
             }
            },
            "marker": {
             "colorbar": {
              "outlinewidth": 0,
              "ticks": ""
             }
            },
            "type": "scatter3d"
           }
          ],
          "scattercarpet": [
           {
            "marker": {
             "colorbar": {
              "outlinewidth": 0,
              "ticks": ""
             }
            },
            "type": "scattercarpet"
           }
          ],
          "scattergeo": [
           {
            "marker": {
             "colorbar": {
              "outlinewidth": 0,
              "ticks": ""
             }
            },
            "type": "scattergeo"
           }
          ],
          "scattergl": [
           {
            "marker": {
             "colorbar": {
              "outlinewidth": 0,
              "ticks": ""
             }
            },
            "type": "scattergl"
           }
          ],
          "scattermapbox": [
           {
            "marker": {
             "colorbar": {
              "outlinewidth": 0,
              "ticks": ""
             }
            },
            "type": "scattermapbox"
           }
          ],
          "scatterpolar": [
           {
            "marker": {
             "colorbar": {
              "outlinewidth": 0,
              "ticks": ""
             }
            },
            "type": "scatterpolar"
           }
          ],
          "scatterpolargl": [
           {
            "marker": {
             "colorbar": {
              "outlinewidth": 0,
              "ticks": ""
             }
            },
            "type": "scatterpolargl"
           }
          ],
          "scatterternary": [
           {
            "marker": {
             "colorbar": {
              "outlinewidth": 0,
              "ticks": ""
             }
            },
            "type": "scatterternary"
           }
          ],
          "surface": [
           {
            "colorbar": {
             "outlinewidth": 0,
             "ticks": ""
            },
            "colorscale": [
             [
              0,
              "#0d0887"
             ],
             [
              0.1111111111111111,
              "#46039f"
             ],
             [
              0.2222222222222222,
              "#7201a8"
             ],
             [
              0.3333333333333333,
              "#9c179e"
             ],
             [
              0.4444444444444444,
              "#bd3786"
             ],
             [
              0.5555555555555556,
              "#d8576b"
             ],
             [
              0.6666666666666666,
              "#ed7953"
             ],
             [
              0.7777777777777778,
              "#fb9f3a"
             ],
             [
              0.8888888888888888,
              "#fdca26"
             ],
             [
              1,
              "#f0f921"
             ]
            ],
            "type": "surface"
           }
          ],
          "table": [
           {
            "cells": {
             "fill": {
              "color": "#EBF0F8"
             },
             "line": {
              "color": "white"
             }
            },
            "header": {
             "fill": {
              "color": "#C8D4E3"
             },
             "line": {
              "color": "white"
             }
            },
            "type": "table"
           }
          ]
         },
         "layout": {
          "annotationdefaults": {
           "arrowcolor": "#2a3f5f",
           "arrowhead": 0,
           "arrowwidth": 1
          },
          "autotypenumbers": "strict",
          "coloraxis": {
           "colorbar": {
            "outlinewidth": 0,
            "ticks": ""
           }
          },
          "colorscale": {
           "diverging": [
            [
             0,
             "#8e0152"
            ],
            [
             0.1,
             "#c51b7d"
            ],
            [
             0.2,
             "#de77ae"
            ],
            [
             0.3,
             "#f1b6da"
            ],
            [
             0.4,
             "#fde0ef"
            ],
            [
             0.5,
             "#f7f7f7"
            ],
            [
             0.6,
             "#e6f5d0"
            ],
            [
             0.7,
             "#b8e186"
            ],
            [
             0.8,
             "#7fbc41"
            ],
            [
             0.9,
             "#4d9221"
            ],
            [
             1,
             "#276419"
            ]
           ],
           "sequential": [
            [
             0,
             "#0d0887"
            ],
            [
             0.1111111111111111,
             "#46039f"
            ],
            [
             0.2222222222222222,
             "#7201a8"
            ],
            [
             0.3333333333333333,
             "#9c179e"
            ],
            [
             0.4444444444444444,
             "#bd3786"
            ],
            [
             0.5555555555555556,
             "#d8576b"
            ],
            [
             0.6666666666666666,
             "#ed7953"
            ],
            [
             0.7777777777777778,
             "#fb9f3a"
            ],
            [
             0.8888888888888888,
             "#fdca26"
            ],
            [
             1,
             "#f0f921"
            ]
           ],
           "sequentialminus": [
            [
             0,
             "#0d0887"
            ],
            [
             0.1111111111111111,
             "#46039f"
            ],
            [
             0.2222222222222222,
             "#7201a8"
            ],
            [
             0.3333333333333333,
             "#9c179e"
            ],
            [
             0.4444444444444444,
             "#bd3786"
            ],
            [
             0.5555555555555556,
             "#d8576b"
            ],
            [
             0.6666666666666666,
             "#ed7953"
            ],
            [
             0.7777777777777778,
             "#fb9f3a"
            ],
            [
             0.8888888888888888,
             "#fdca26"
            ],
            [
             1,
             "#f0f921"
            ]
           ]
          },
          "colorway": [
           "#636efa",
           "#EF553B",
           "#00cc96",
           "#ab63fa",
           "#FFA15A",
           "#19d3f3",
           "#FF6692",
           "#B6E880",
           "#FF97FF",
           "#FECB52"
          ],
          "font": {
           "color": "#2a3f5f"
          },
          "geo": {
           "bgcolor": "white",
           "lakecolor": "white",
           "landcolor": "#E5ECF6",
           "showlakes": true,
           "showland": true,
           "subunitcolor": "white"
          },
          "hoverlabel": {
           "align": "left"
          },
          "hovermode": "closest",
          "mapbox": {
           "style": "light"
          },
          "paper_bgcolor": "white",
          "plot_bgcolor": "#E5ECF6",
          "polar": {
           "angularaxis": {
            "gridcolor": "white",
            "linecolor": "white",
            "ticks": ""
           },
           "bgcolor": "#E5ECF6",
           "radialaxis": {
            "gridcolor": "white",
            "linecolor": "white",
            "ticks": ""
           }
          },
          "scene": {
           "xaxis": {
            "backgroundcolor": "#E5ECF6",
            "gridcolor": "white",
            "gridwidth": 2,
            "linecolor": "white",
            "showbackground": true,
            "ticks": "",
            "zerolinecolor": "white"
           },
           "yaxis": {
            "backgroundcolor": "#E5ECF6",
            "gridcolor": "white",
            "gridwidth": 2,
            "linecolor": "white",
            "showbackground": true,
            "ticks": "",
            "zerolinecolor": "white"
           },
           "zaxis": {
            "backgroundcolor": "#E5ECF6",
            "gridcolor": "white",
            "gridwidth": 2,
            "linecolor": "white",
            "showbackground": true,
            "ticks": "",
            "zerolinecolor": "white"
           }
          },
          "shapedefaults": {
           "line": {
            "color": "#2a3f5f"
           }
          },
          "ternary": {
           "aaxis": {
            "gridcolor": "white",
            "linecolor": "white",
            "ticks": ""
           },
           "baxis": {
            "gridcolor": "white",
            "linecolor": "white",
            "ticks": ""
           },
           "bgcolor": "#E5ECF6",
           "caxis": {
            "gridcolor": "white",
            "linecolor": "white",
            "ticks": ""
           }
          },
          "title": {
           "x": 0.05
          },
          "xaxis": {
           "automargin": true,
           "gridcolor": "white",
           "linecolor": "white",
           "ticks": "",
           "title": {
            "standoff": 15
           },
           "zerolinecolor": "white",
           "zerolinewidth": 2
          },
          "yaxis": {
           "automargin": true,
           "gridcolor": "white",
           "linecolor": "white",
           "ticks": "",
           "title": {
            "standoff": 15
           },
           "zerolinecolor": "white",
           "zerolinewidth": 2
          }
         }
        },
        "title": {
         "text": "BN_size"
        },
        "width": 1000,
        "yaxis": {
         "dtick": 25,
         "range": [
          -175,
          100
         ],
         "tick0": 0
        }
       }
      }
     },
     "metadata": {}
    },
    {
     "output_type": "display_data",
     "data": {
      "text/plain": "<Figure size 432x288 with 0 Axes>"
     },
     "metadata": {}
    }
   ],
   "source": [
    "plot_vals(7)\n",
    "plt.savefig(\"pictures/results_fig_7.svg\")"
   ]
  },
  {
   "cell_type": "code",
   "execution_count": 12,
   "id": "armed-network",
   "metadata": {},
   "outputs": [
    {
     "output_type": "display_data",
     "data": {
      "application/vnd.plotly.v1+json": {
       "config": {
        "plotlyServerURL": "https://plot.ly"
       },
       "data": [
        {
         "marker": {
          "color": "#4285F4"
         },
         "mode": "lines+markers",
         "name": "CCE, SD=4",
         "type": "scatter",
         "x": [
          5,
          2,
          1,
          0.5,
          0.25,
          0.125
         ],
         "y": [
          95.14608173069091,
          91.01051363359095,
          87.3038764382734,
          78.94863944097565,
          69.09564120865524,
          61.198099602249904
         ]
        },
        {
         "line": {
          "width": 0
         },
         "marker": {
          "color": "#4285F4"
         },
         "mode": "lines",
         "name": "Upper bound",
         "showlegend": false,
         "type": "scatter",
         "x": [
          5,
          2,
          1,
          0.5,
          0.25,
          0.125
         ],
         "y": [
          95.48218237295842,
          91.58449972792857,
          87.66581885819946,
          82.12730816153116,
          73.77471665288743,
          71.07961463212864
         ]
        },
        {
         "fill": "tonexty",
         "fillcolor": "rgba(66, 133, 244, 0.2)",
         "line": {
          "width": 0
         },
         "marker": {
          "color": "#4285F4"
         },
         "mode": "lines",
         "name": "Lower bound",
         "showlegend": false,
         "type": "scatter",
         "x": [
          5,
          2,
          1,
          0.5,
          0.25,
          0.125
         ],
         "y": [
          94.8099810884234,
          90.43652753925332,
          86.94193401834735,
          75.76997072042015,
          64.41656576442304,
          51.31658457237117
         ]
        },
        {
         "marker": {
          "color": "#EA4335"
         },
         "mode": "lines+markers",
         "name": "JSD, SD=4",
         "type": "scatter",
         "x": [
          5,
          2,
          1,
          0.5,
          0.25,
          0.125
         ],
         "y": [
          96.86513087023964,
          94.30239790929252,
          91.99843889781381,
          87.82185167722544,
          78.8424436037054,
          73.0939782381722
         ]
        },
        {
         "line": {
          "width": 0
         },
         "marker": {
          "color": "#EA4335"
         },
         "mode": "lines",
         "name": "Upper bound",
         "showlegend": false,
         "type": "scatter",
         "x": [
          5,
          2,
          1,
          0.5,
          0.25,
          0.125
         ],
         "y": [
          96.99209844035563,
          94.64453709194248,
          92.51306899174148,
          88.3549489957249,
          82.77124276178483,
          79.50531380598014
         ]
        },
        {
         "fill": "tonexty",
         "fillcolor": "rgba(234, 67, 53, 0.2)",
         "line": {
          "width": 0
         },
         "marker": {
          "color": "#EA4335"
         },
         "mode": "lines",
         "name": "Lower bound",
         "showlegend": false,
         "type": "scatter",
         "x": [
          5,
          2,
          1,
          0.5,
          0.25,
          0.125
         ],
         "y": [
          96.73816330012365,
          93.96025872664256,
          91.48380880388615,
          87.28875435872598,
          74.91364444562598,
          66.68264267036426
         ]
        },
        {
         "marker": {
          "color": "#000000"
         },
         "mode": "lines+markers",
         "name": "CCE, SD=100",
         "type": "scatter",
         "x": [
          5,
          2,
          1,
          0.5,
          0.25,
          0.125
         ],
         "y": [
          85.4987564408403,
          69.13845488028488,
          43.830262496048896,
          32.89059859988322,
          20.657543379194664,
          -1.915884359649482
         ]
        },
        {
         "line": {
          "width": 0
         },
         "marker": {
          "color": "#000000"
         },
         "mode": "lines",
         "name": "Upper bound",
         "showlegend": false,
         "type": "scatter",
         "x": [
          5,
          2,
          1,
          0.5,
          0.25,
          0.125
         ],
         "y": [
          85.4987564408403,
          69.16093196030639,
          43.830262496048896,
          32.89059859988322,
          20.657543379194664,
          -1.915884359649482
         ]
        },
        {
         "fill": "tonexty",
         "fillcolor": "rgba(0, 0, 0, 0.2)",
         "line": {
          "width": 0
         },
         "marker": {
          "color": "#000000"
         },
         "mode": "lines",
         "name": "Lower bound",
         "showlegend": false,
         "type": "scatter",
         "x": [
          5,
          2,
          1,
          0.5,
          0.25,
          0.125
         ],
         "y": [
          85.4987564408403,
          69.11597780026338,
          43.830262496048896,
          32.89059859988322,
          20.657543379194664,
          -1.915884359649482
         ]
        },
        {
         "marker": {
          "color": "#46BDC6"
         },
         "mode": "lines+markers",
         "name": "JSD, SD=100",
         "type": "scatter",
         "x": [
          5,
          2,
          1,
          0.5,
          0.25,
          0.125
         ],
         "y": [
          90.81597218688734,
          82.43192930564419,
          77.26958063719879,
          78.29711467025925,
          67.4804615949688,
          62.756619571181716
         ]
        },
        {
         "line": {
          "width": 0
         },
         "marker": {
          "color": "#46BDC6"
         },
         "mode": "lines",
         "name": "Upper bound",
         "showlegend": false,
         "type": "scatter",
         "x": [
          5,
          2,
          1,
          0.5,
          0.25,
          0.125
         ],
         "y": [
          90.81597218688734,
          83.3371670953114,
          77.26958063719879,
          78.29711467025925,
          67.4804615949688,
          62.756619571181716
         ]
        },
        {
         "fill": "tonexty",
         "fillcolor": "rgba(70, 189, 198, 0.2)",
         "line": {
          "width": 0
         },
         "marker": {
          "color": "#46BDC6"
         },
         "mode": "lines",
         "name": "Lower bound",
         "showlegend": false,
         "type": "scatter",
         "x": [
          5,
          2,
          1,
          0.5,
          0.25,
          0.125
         ],
         "y": [
          90.81597218688734,
          81.52669151597698,
          77.26958063719879,
          78.29711467025925,
          67.4804615949688,
          62.756619571181716
         ]
        }
       ],
       "layout": {
        "height": 600,
        "template": {
         "data": {
          "bar": [
           {
            "error_x": {
             "color": "#2a3f5f"
            },
            "error_y": {
             "color": "#2a3f5f"
            },
            "marker": {
             "line": {
              "color": "#E5ECF6",
              "width": 0.5
             }
            },
            "type": "bar"
           }
          ],
          "barpolar": [
           {
            "marker": {
             "line": {
              "color": "#E5ECF6",
              "width": 0.5
             }
            },
            "type": "barpolar"
           }
          ],
          "carpet": [
           {
            "aaxis": {
             "endlinecolor": "#2a3f5f",
             "gridcolor": "white",
             "linecolor": "white",
             "minorgridcolor": "white",
             "startlinecolor": "#2a3f5f"
            },
            "baxis": {
             "endlinecolor": "#2a3f5f",
             "gridcolor": "white",
             "linecolor": "white",
             "minorgridcolor": "white",
             "startlinecolor": "#2a3f5f"
            },
            "type": "carpet"
           }
          ],
          "choropleth": [
           {
            "colorbar": {
             "outlinewidth": 0,
             "ticks": ""
            },
            "type": "choropleth"
           }
          ],
          "contour": [
           {
            "colorbar": {
             "outlinewidth": 0,
             "ticks": ""
            },
            "colorscale": [
             [
              0,
              "#0d0887"
             ],
             [
              0.1111111111111111,
              "#46039f"
             ],
             [
              0.2222222222222222,
              "#7201a8"
             ],
             [
              0.3333333333333333,
              "#9c179e"
             ],
             [
              0.4444444444444444,
              "#bd3786"
             ],
             [
              0.5555555555555556,
              "#d8576b"
             ],
             [
              0.6666666666666666,
              "#ed7953"
             ],
             [
              0.7777777777777778,
              "#fb9f3a"
             ],
             [
              0.8888888888888888,
              "#fdca26"
             ],
             [
              1,
              "#f0f921"
             ]
            ],
            "type": "contour"
           }
          ],
          "contourcarpet": [
           {
            "colorbar": {
             "outlinewidth": 0,
             "ticks": ""
            },
            "type": "contourcarpet"
           }
          ],
          "heatmap": [
           {
            "colorbar": {
             "outlinewidth": 0,
             "ticks": ""
            },
            "colorscale": [
             [
              0,
              "#0d0887"
             ],
             [
              0.1111111111111111,
              "#46039f"
             ],
             [
              0.2222222222222222,
              "#7201a8"
             ],
             [
              0.3333333333333333,
              "#9c179e"
             ],
             [
              0.4444444444444444,
              "#bd3786"
             ],
             [
              0.5555555555555556,
              "#d8576b"
             ],
             [
              0.6666666666666666,
              "#ed7953"
             ],
             [
              0.7777777777777778,
              "#fb9f3a"
             ],
             [
              0.8888888888888888,
              "#fdca26"
             ],
             [
              1,
              "#f0f921"
             ]
            ],
            "type": "heatmap"
           }
          ],
          "heatmapgl": [
           {
            "colorbar": {
             "outlinewidth": 0,
             "ticks": ""
            },
            "colorscale": [
             [
              0,
              "#0d0887"
             ],
             [
              0.1111111111111111,
              "#46039f"
             ],
             [
              0.2222222222222222,
              "#7201a8"
             ],
             [
              0.3333333333333333,
              "#9c179e"
             ],
             [
              0.4444444444444444,
              "#bd3786"
             ],
             [
              0.5555555555555556,
              "#d8576b"
             ],
             [
              0.6666666666666666,
              "#ed7953"
             ],
             [
              0.7777777777777778,
              "#fb9f3a"
             ],
             [
              0.8888888888888888,
              "#fdca26"
             ],
             [
              1,
              "#f0f921"
             ]
            ],
            "type": "heatmapgl"
           }
          ],
          "histogram": [
           {
            "marker": {
             "colorbar": {
              "outlinewidth": 0,
              "ticks": ""
             }
            },
            "type": "histogram"
           }
          ],
          "histogram2d": [
           {
            "colorbar": {
             "outlinewidth": 0,
             "ticks": ""
            },
            "colorscale": [
             [
              0,
              "#0d0887"
             ],
             [
              0.1111111111111111,
              "#46039f"
             ],
             [
              0.2222222222222222,
              "#7201a8"
             ],
             [
              0.3333333333333333,
              "#9c179e"
             ],
             [
              0.4444444444444444,
              "#bd3786"
             ],
             [
              0.5555555555555556,
              "#d8576b"
             ],
             [
              0.6666666666666666,
              "#ed7953"
             ],
             [
              0.7777777777777778,
              "#fb9f3a"
             ],
             [
              0.8888888888888888,
              "#fdca26"
             ],
             [
              1,
              "#f0f921"
             ]
            ],
            "type": "histogram2d"
           }
          ],
          "histogram2dcontour": [
           {
            "colorbar": {
             "outlinewidth": 0,
             "ticks": ""
            },
            "colorscale": [
             [
              0,
              "#0d0887"
             ],
             [
              0.1111111111111111,
              "#46039f"
             ],
             [
              0.2222222222222222,
              "#7201a8"
             ],
             [
              0.3333333333333333,
              "#9c179e"
             ],
             [
              0.4444444444444444,
              "#bd3786"
             ],
             [
              0.5555555555555556,
              "#d8576b"
             ],
             [
              0.6666666666666666,
              "#ed7953"
             ],
             [
              0.7777777777777778,
              "#fb9f3a"
             ],
             [
              0.8888888888888888,
              "#fdca26"
             ],
             [
              1,
              "#f0f921"
             ]
            ],
            "type": "histogram2dcontour"
           }
          ],
          "mesh3d": [
           {
            "colorbar": {
             "outlinewidth": 0,
             "ticks": ""
            },
            "type": "mesh3d"
           }
          ],
          "parcoords": [
           {
            "line": {
             "colorbar": {
              "outlinewidth": 0,
              "ticks": ""
             }
            },
            "type": "parcoords"
           }
          ],
          "pie": [
           {
            "automargin": true,
            "type": "pie"
           }
          ],
          "scatter": [
           {
            "marker": {
             "colorbar": {
              "outlinewidth": 0,
              "ticks": ""
             }
            },
            "type": "scatter"
           }
          ],
          "scatter3d": [
           {
            "line": {
             "colorbar": {
              "outlinewidth": 0,
              "ticks": ""
             }
            },
            "marker": {
             "colorbar": {
              "outlinewidth": 0,
              "ticks": ""
             }
            },
            "type": "scatter3d"
           }
          ],
          "scattercarpet": [
           {
            "marker": {
             "colorbar": {
              "outlinewidth": 0,
              "ticks": ""
             }
            },
            "type": "scattercarpet"
           }
          ],
          "scattergeo": [
           {
            "marker": {
             "colorbar": {
              "outlinewidth": 0,
              "ticks": ""
             }
            },
            "type": "scattergeo"
           }
          ],
          "scattergl": [
           {
            "marker": {
             "colorbar": {
              "outlinewidth": 0,
              "ticks": ""
             }
            },
            "type": "scattergl"
           }
          ],
          "scattermapbox": [
           {
            "marker": {
             "colorbar": {
              "outlinewidth": 0,
              "ticks": ""
             }
            },
            "type": "scattermapbox"
           }
          ],
          "scatterpolar": [
           {
            "marker": {
             "colorbar": {
              "outlinewidth": 0,
              "ticks": ""
             }
            },
            "type": "scatterpolar"
           }
          ],
          "scatterpolargl": [
           {
            "marker": {
             "colorbar": {
              "outlinewidth": 0,
              "ticks": ""
             }
            },
            "type": "scatterpolargl"
           }
          ],
          "scatterternary": [
           {
            "marker": {
             "colorbar": {
              "outlinewidth": 0,
              "ticks": ""
             }
            },
            "type": "scatterternary"
           }
          ],
          "surface": [
           {
            "colorbar": {
             "outlinewidth": 0,
             "ticks": ""
            },
            "colorscale": [
             [
              0,
              "#0d0887"
             ],
             [
              0.1111111111111111,
              "#46039f"
             ],
             [
              0.2222222222222222,
              "#7201a8"
             ],
             [
              0.3333333333333333,
              "#9c179e"
             ],
             [
              0.4444444444444444,
              "#bd3786"
             ],
             [
              0.5555555555555556,
              "#d8576b"
             ],
             [
              0.6666666666666666,
              "#ed7953"
             ],
             [
              0.7777777777777778,
              "#fb9f3a"
             ],
             [
              0.8888888888888888,
              "#fdca26"
             ],
             [
              1,
              "#f0f921"
             ]
            ],
            "type": "surface"
           }
          ],
          "table": [
           {
            "cells": {
             "fill": {
              "color": "#EBF0F8"
             },
             "line": {
              "color": "white"
             }
            },
            "header": {
             "fill": {
              "color": "#C8D4E3"
             },
             "line": {
              "color": "white"
             }
            },
            "type": "table"
           }
          ]
         },
         "layout": {
          "annotationdefaults": {
           "arrowcolor": "#2a3f5f",
           "arrowhead": 0,
           "arrowwidth": 1
          },
          "autotypenumbers": "strict",
          "coloraxis": {
           "colorbar": {
            "outlinewidth": 0,
            "ticks": ""
           }
          },
          "colorscale": {
           "diverging": [
            [
             0,
             "#8e0152"
            ],
            [
             0.1,
             "#c51b7d"
            ],
            [
             0.2,
             "#de77ae"
            ],
            [
             0.3,
             "#f1b6da"
            ],
            [
             0.4,
             "#fde0ef"
            ],
            [
             0.5,
             "#f7f7f7"
            ],
            [
             0.6,
             "#e6f5d0"
            ],
            [
             0.7,
             "#b8e186"
            ],
            [
             0.8,
             "#7fbc41"
            ],
            [
             0.9,
             "#4d9221"
            ],
            [
             1,
             "#276419"
            ]
           ],
           "sequential": [
            [
             0,
             "#0d0887"
            ],
            [
             0.1111111111111111,
             "#46039f"
            ],
            [
             0.2222222222222222,
             "#7201a8"
            ],
            [
             0.3333333333333333,
             "#9c179e"
            ],
            [
             0.4444444444444444,
             "#bd3786"
            ],
            [
             0.5555555555555556,
             "#d8576b"
            ],
            [
             0.6666666666666666,
             "#ed7953"
            ],
            [
             0.7777777777777778,
             "#fb9f3a"
            ],
            [
             0.8888888888888888,
             "#fdca26"
            ],
            [
             1,
             "#f0f921"
            ]
           ],
           "sequentialminus": [
            [
             0,
             "#0d0887"
            ],
            [
             0.1111111111111111,
             "#46039f"
            ],
            [
             0.2222222222222222,
             "#7201a8"
            ],
            [
             0.3333333333333333,
             "#9c179e"
            ],
            [
             0.4444444444444444,
             "#bd3786"
            ],
            [
             0.5555555555555556,
             "#d8576b"
            ],
            [
             0.6666666666666666,
             "#ed7953"
            ],
            [
             0.7777777777777778,
             "#fb9f3a"
            ],
            [
             0.8888888888888888,
             "#fdca26"
            ],
            [
             1,
             "#f0f921"
            ]
           ]
          },
          "colorway": [
           "#636efa",
           "#EF553B",
           "#00cc96",
           "#ab63fa",
           "#FFA15A",
           "#19d3f3",
           "#FF6692",
           "#B6E880",
           "#FF97FF",
           "#FECB52"
          ],
          "font": {
           "color": "#2a3f5f"
          },
          "geo": {
           "bgcolor": "white",
           "lakecolor": "white",
           "landcolor": "#E5ECF6",
           "showlakes": true,
           "showland": true,
           "subunitcolor": "white"
          },
          "hoverlabel": {
           "align": "left"
          },
          "hovermode": "closest",
          "mapbox": {
           "style": "light"
          },
          "paper_bgcolor": "white",
          "plot_bgcolor": "#E5ECF6",
          "polar": {
           "angularaxis": {
            "gridcolor": "white",
            "linecolor": "white",
            "ticks": ""
           },
           "bgcolor": "#E5ECF6",
           "radialaxis": {
            "gridcolor": "white",
            "linecolor": "white",
            "ticks": ""
           }
          },
          "scene": {
           "xaxis": {
            "backgroundcolor": "#E5ECF6",
            "gridcolor": "white",
            "gridwidth": 2,
            "linecolor": "white",
            "showbackground": true,
            "ticks": "",
            "zerolinecolor": "white"
           },
           "yaxis": {
            "backgroundcolor": "#E5ECF6",
            "gridcolor": "white",
            "gridwidth": 2,
            "linecolor": "white",
            "showbackground": true,
            "ticks": "",
            "zerolinecolor": "white"
           },
           "zaxis": {
            "backgroundcolor": "#E5ECF6",
            "gridcolor": "white",
            "gridwidth": 2,
            "linecolor": "white",
            "showbackground": true,
            "ticks": "",
            "zerolinecolor": "white"
           }
          },
          "shapedefaults": {
           "line": {
            "color": "#2a3f5f"
           }
          },
          "ternary": {
           "aaxis": {
            "gridcolor": "white",
            "linecolor": "white",
            "ticks": ""
           },
           "baxis": {
            "gridcolor": "white",
            "linecolor": "white",
            "ticks": ""
           },
           "bgcolor": "#E5ECF6",
           "caxis": {
            "gridcolor": "white",
            "linecolor": "white",
            "ticks": ""
           }
          },
          "title": {
           "x": 0.05
          },
          "xaxis": {
           "automargin": true,
           "gridcolor": "white",
           "linecolor": "white",
           "ticks": "",
           "title": {
            "standoff": 15
           },
           "zerolinecolor": "white",
           "zerolinewidth": 2
          },
          "yaxis": {
           "automargin": true,
           "gridcolor": "white",
           "linecolor": "white",
           "ticks": "",
           "title": {
            "standoff": 15
           },
           "zerolinecolor": "white",
           "zerolinewidth": 2
          }
         }
        },
        "title": {
         "text": "labeled_data_percentage"
        },
        "width": 1000,
        "yaxis": {
         "dtick": 25,
         "range": [
          -175,
          100
         ],
         "tick0": 0
        }
       }
      }
     },
     "metadata": {}
    },
    {
     "output_type": "display_data",
     "data": {
      "text/plain": "<Figure size 432x288 with 0 Axes>"
     },
     "metadata": {}
    }
   ],
   "source": [
    "plot_vals(8)\n",
    "plt.savefig(\"pictures/results_fig_8.svg\")"
   ]
  },
  {
   "cell_type": "code",
   "execution_count": 13,
   "id": "experimental-glenn",
   "metadata": {},
   "outputs": [
    {
     "output_type": "display_data",
     "data": {
      "application/vnd.plotly.v1+json": {
       "config": {
        "plotlyServerURL": "https://plot.ly"
       },
       "data": [
        {
         "marker": {
          "color": "#4285F4"
         },
         "mode": "lines+markers",
         "name": "CCE, SD=4",
         "type": "scatter",
         "x": [
          4,
          15,
          25,
          50,
          100,
          150,
          300
         ],
         "y": [
          91.01051363359095,
          87.90169807359567,
          85.83725938411456,
          81.91437455051161,
          69.13845488028488,
          44.68350955347985,
          -11.544915601757367
         ]
        },
        {
         "line": {
          "width": 0
         },
         "marker": {
          "color": "#4285F4"
         },
         "mode": "lines",
         "name": "Upper bound",
         "showlegend": false,
         "type": "scatter",
         "x": [
          4,
          15,
          25,
          50,
          100,
          150,
          300
         ],
         "y": [
          91.58449972792857,
          88.4217500142812,
          86.80400918000879,
          82.74412117881462,
          69.16093196030639,
          45.499503174624955,
          -8.524343178334746
         ]
        },
        {
         "fill": "tonexty",
         "fillcolor": "rgba(66, 133, 244, 0.2)",
         "line": {
          "width": 0
         },
         "marker": {
          "color": "#4285F4"
         },
         "mode": "lines",
         "name": "Lower bound",
         "showlegend": false,
         "type": "scatter",
         "x": [
          4,
          15,
          25,
          50,
          100,
          150,
          300
         ],
         "y": [
          90.43652753925332,
          87.38164613291013,
          84.87050958822033,
          81.0846279222086,
          69.11597780026338,
          43.86751593233475,
          -14.565488025179988
         ]
        },
        {
         "marker": {
          "color": "#EA4335"
         },
         "mode": "lines+markers",
         "name": "JSD, SD=4",
         "type": "scatter",
         "x": [
          4,
          15,
          25,
          50,
          100,
          150,
          300
         ],
         "y": [
          94.30239790929252,
          92.43499941085744,
          92.06452653741141,
          89.98361894740503,
          82.43192930564419,
          -10.654150841343252,
          -18.06384970201581
         ]
        },
        {
         "line": {
          "width": 0
         },
         "marker": {
          "color": "#EA4335"
         },
         "mode": "lines",
         "name": "Upper bound",
         "showlegend": false,
         "type": "scatter",
         "x": [
          4,
          15,
          25,
          50,
          100,
          150,
          300
         ],
         "y": [
          94.64453709194248,
          92.98136109958108,
          92.53990405443689,
          90.72607695497817,
          83.3371670953114,
          -7.821321425736187,
          -16.855508289369666
         ]
        },
        {
         "fill": "tonexty",
         "fillcolor": "rgba(234, 67, 53, 0.2)",
         "line": {
          "width": 0
         },
         "marker": {
          "color": "#EA4335"
         },
         "mode": "lines",
         "name": "Lower bound",
         "showlegend": false,
         "type": "scatter",
         "x": [
          4,
          15,
          25,
          50,
          100,
          150,
          300
         ],
         "y": [
          93.96025872664256,
          91.88863772213381,
          91.58914902038593,
          89.2411609398319,
          81.52669151597698,
          -13.486980256950318,
          -19.27219111466195
         ]
        },
        {
         "marker": {
          "color": "#FBBC04"
         },
         "mode": "lines+markers",
         "name": "CCEu, SD=4",
         "type": "scatter",
         "x": [
          4,
          15,
          25,
          50,
          100,
          150,
          300
         ],
         "y": [
          -15.300565536731503,
          4.4848407292134995,
          7.861913522532824,
          12.39885127424349,
          14.280677425063729,
          12.567018344948337,
          -27.551251413330007
         ]
        },
        {
         "line": {
          "width": 0
         },
         "marker": {
          "color": "#FBBC04"
         },
         "mode": "lines",
         "name": "Upper bound",
         "showlegend": false,
         "type": "scatter",
         "x": [
          4,
          15,
          25,
          50,
          100,
          150,
          300
         ],
         "y": [
          -13.80235882139728,
          4.899541842718051,
          8.265490722415768,
          12.54264736401052,
          15.22519960741542,
          13.451372564677257,
          -27.245586351245706
         ]
        },
        {
         "fill": "tonexty",
         "fillcolor": "rgba(251, 188, 4, 0.2)",
         "line": {
          "width": 0
         },
         "marker": {
          "color": "#FBBC04"
         },
         "mode": "lines",
         "name": "Lower bound",
         "showlegend": false,
         "type": "scatter",
         "x": [
          4,
          15,
          25,
          50,
          100,
          150,
          300
         ],
         "y": [
          -16.798772252065724,
          4.070139615708948,
          7.458336322649879,
          12.255055184476461,
          13.336155242712039,
          11.682664125219418,
          -27.85691647541431
         ]
        },
        {
         "marker": {
          "color": "#34A853"
         },
         "mode": "lines+markers",
         "name": "JSDu, SD=4",
         "type": "scatter",
         "x": [
          4,
          15,
          25,
          50,
          100,
          150,
          300
         ],
         "y": [
          16.4325262097128,
          34.81411264117712,
          41.38528743047185,
          55.12161022505618,
          68.22880616678275,
          -18.50485497429812,
          -41.0762517475456
         ]
        },
        {
         "line": {
          "width": 0
         },
         "marker": {
          "color": "#34A853"
         },
         "mode": "lines",
         "name": "Upper bound",
         "showlegend": false,
         "type": "scatter",
         "x": [
          4,
          15,
          25,
          50,
          100,
          150,
          300
         ],
         "y": [
          17.53281186524548,
          35.71526354802059,
          41.91126504649824,
          56.61746204616175,
          68.82915462946929,
          -16.126854231785956,
          -40.77223646826485
         ]
        },
        {
         "fill": "tonexty",
         "fillcolor": "rgba(52, 168, 83, 0.2)",
         "line": {
          "width": 0
         },
         "marker": {
          "color": "#34A853"
         },
         "mode": "lines",
         "name": "Lower bound",
         "showlegend": false,
         "type": "scatter",
         "x": [
          4,
          15,
          25,
          50,
          100,
          150,
          300
         ],
         "y": [
          15.33224055418012,
          33.91296173433365,
          40.85930981444546,
          53.62575840395061,
          67.6284577040962,
          -20.882855716810283,
          -41.380267026826346
         ]
        }
       ],
       "layout": {
        "height": 600,
        "template": {
         "data": {
          "bar": [
           {
            "error_x": {
             "color": "#2a3f5f"
            },
            "error_y": {
             "color": "#2a3f5f"
            },
            "marker": {
             "line": {
              "color": "#E5ECF6",
              "width": 0.5
             }
            },
            "type": "bar"
           }
          ],
          "barpolar": [
           {
            "marker": {
             "line": {
              "color": "#E5ECF6",
              "width": 0.5
             }
            },
            "type": "barpolar"
           }
          ],
          "carpet": [
           {
            "aaxis": {
             "endlinecolor": "#2a3f5f",
             "gridcolor": "white",
             "linecolor": "white",
             "minorgridcolor": "white",
             "startlinecolor": "#2a3f5f"
            },
            "baxis": {
             "endlinecolor": "#2a3f5f",
             "gridcolor": "white",
             "linecolor": "white",
             "minorgridcolor": "white",
             "startlinecolor": "#2a3f5f"
            },
            "type": "carpet"
           }
          ],
          "choropleth": [
           {
            "colorbar": {
             "outlinewidth": 0,
             "ticks": ""
            },
            "type": "choropleth"
           }
          ],
          "contour": [
           {
            "colorbar": {
             "outlinewidth": 0,
             "ticks": ""
            },
            "colorscale": [
             [
              0,
              "#0d0887"
             ],
             [
              0.1111111111111111,
              "#46039f"
             ],
             [
              0.2222222222222222,
              "#7201a8"
             ],
             [
              0.3333333333333333,
              "#9c179e"
             ],
             [
              0.4444444444444444,
              "#bd3786"
             ],
             [
              0.5555555555555556,
              "#d8576b"
             ],
             [
              0.6666666666666666,
              "#ed7953"
             ],
             [
              0.7777777777777778,
              "#fb9f3a"
             ],
             [
              0.8888888888888888,
              "#fdca26"
             ],
             [
              1,
              "#f0f921"
             ]
            ],
            "type": "contour"
           }
          ],
          "contourcarpet": [
           {
            "colorbar": {
             "outlinewidth": 0,
             "ticks": ""
            },
            "type": "contourcarpet"
           }
          ],
          "heatmap": [
           {
            "colorbar": {
             "outlinewidth": 0,
             "ticks": ""
            },
            "colorscale": [
             [
              0,
              "#0d0887"
             ],
             [
              0.1111111111111111,
              "#46039f"
             ],
             [
              0.2222222222222222,
              "#7201a8"
             ],
             [
              0.3333333333333333,
              "#9c179e"
             ],
             [
              0.4444444444444444,
              "#bd3786"
             ],
             [
              0.5555555555555556,
              "#d8576b"
             ],
             [
              0.6666666666666666,
              "#ed7953"
             ],
             [
              0.7777777777777778,
              "#fb9f3a"
             ],
             [
              0.8888888888888888,
              "#fdca26"
             ],
             [
              1,
              "#f0f921"
             ]
            ],
            "type": "heatmap"
           }
          ],
          "heatmapgl": [
           {
            "colorbar": {
             "outlinewidth": 0,
             "ticks": ""
            },
            "colorscale": [
             [
              0,
              "#0d0887"
             ],
             [
              0.1111111111111111,
              "#46039f"
             ],
             [
              0.2222222222222222,
              "#7201a8"
             ],
             [
              0.3333333333333333,
              "#9c179e"
             ],
             [
              0.4444444444444444,
              "#bd3786"
             ],
             [
              0.5555555555555556,
              "#d8576b"
             ],
             [
              0.6666666666666666,
              "#ed7953"
             ],
             [
              0.7777777777777778,
              "#fb9f3a"
             ],
             [
              0.8888888888888888,
              "#fdca26"
             ],
             [
              1,
              "#f0f921"
             ]
            ],
            "type": "heatmapgl"
           }
          ],
          "histogram": [
           {
            "marker": {
             "colorbar": {
              "outlinewidth": 0,
              "ticks": ""
             }
            },
            "type": "histogram"
           }
          ],
          "histogram2d": [
           {
            "colorbar": {
             "outlinewidth": 0,
             "ticks": ""
            },
            "colorscale": [
             [
              0,
              "#0d0887"
             ],
             [
              0.1111111111111111,
              "#46039f"
             ],
             [
              0.2222222222222222,
              "#7201a8"
             ],
             [
              0.3333333333333333,
              "#9c179e"
             ],
             [
              0.4444444444444444,
              "#bd3786"
             ],
             [
              0.5555555555555556,
              "#d8576b"
             ],
             [
              0.6666666666666666,
              "#ed7953"
             ],
             [
              0.7777777777777778,
              "#fb9f3a"
             ],
             [
              0.8888888888888888,
              "#fdca26"
             ],
             [
              1,
              "#f0f921"
             ]
            ],
            "type": "histogram2d"
           }
          ],
          "histogram2dcontour": [
           {
            "colorbar": {
             "outlinewidth": 0,
             "ticks": ""
            },
            "colorscale": [
             [
              0,
              "#0d0887"
             ],
             [
              0.1111111111111111,
              "#46039f"
             ],
             [
              0.2222222222222222,
              "#7201a8"
             ],
             [
              0.3333333333333333,
              "#9c179e"
             ],
             [
              0.4444444444444444,
              "#bd3786"
             ],
             [
              0.5555555555555556,
              "#d8576b"
             ],
             [
              0.6666666666666666,
              "#ed7953"
             ],
             [
              0.7777777777777778,
              "#fb9f3a"
             ],
             [
              0.8888888888888888,
              "#fdca26"
             ],
             [
              1,
              "#f0f921"
             ]
            ],
            "type": "histogram2dcontour"
           }
          ],
          "mesh3d": [
           {
            "colorbar": {
             "outlinewidth": 0,
             "ticks": ""
            },
            "type": "mesh3d"
           }
          ],
          "parcoords": [
           {
            "line": {
             "colorbar": {
              "outlinewidth": 0,
              "ticks": ""
             }
            },
            "type": "parcoords"
           }
          ],
          "pie": [
           {
            "automargin": true,
            "type": "pie"
           }
          ],
          "scatter": [
           {
            "marker": {
             "colorbar": {
              "outlinewidth": 0,
              "ticks": ""
             }
            },
            "type": "scatter"
           }
          ],
          "scatter3d": [
           {
            "line": {
             "colorbar": {
              "outlinewidth": 0,
              "ticks": ""
             }
            },
            "marker": {
             "colorbar": {
              "outlinewidth": 0,
              "ticks": ""
             }
            },
            "type": "scatter3d"
           }
          ],
          "scattercarpet": [
           {
            "marker": {
             "colorbar": {
              "outlinewidth": 0,
              "ticks": ""
             }
            },
            "type": "scattercarpet"
           }
          ],
          "scattergeo": [
           {
            "marker": {
             "colorbar": {
              "outlinewidth": 0,
              "ticks": ""
             }
            },
            "type": "scattergeo"
           }
          ],
          "scattergl": [
           {
            "marker": {
             "colorbar": {
              "outlinewidth": 0,
              "ticks": ""
             }
            },
            "type": "scattergl"
           }
          ],
          "scattermapbox": [
           {
            "marker": {
             "colorbar": {
              "outlinewidth": 0,
              "ticks": ""
             }
            },
            "type": "scattermapbox"
           }
          ],
          "scatterpolar": [
           {
            "marker": {
             "colorbar": {
              "outlinewidth": 0,
              "ticks": ""
             }
            },
            "type": "scatterpolar"
           }
          ],
          "scatterpolargl": [
           {
            "marker": {
             "colorbar": {
              "outlinewidth": 0,
              "ticks": ""
             }
            },
            "type": "scatterpolargl"
           }
          ],
          "scatterternary": [
           {
            "marker": {
             "colorbar": {
              "outlinewidth": 0,
              "ticks": ""
             }
            },
            "type": "scatterternary"
           }
          ],
          "surface": [
           {
            "colorbar": {
             "outlinewidth": 0,
             "ticks": ""
            },
            "colorscale": [
             [
              0,
              "#0d0887"
             ],
             [
              0.1111111111111111,
              "#46039f"
             ],
             [
              0.2222222222222222,
              "#7201a8"
             ],
             [
              0.3333333333333333,
              "#9c179e"
             ],
             [
              0.4444444444444444,
              "#bd3786"
             ],
             [
              0.5555555555555556,
              "#d8576b"
             ],
             [
              0.6666666666666666,
              "#ed7953"
             ],
             [
              0.7777777777777778,
              "#fb9f3a"
             ],
             [
              0.8888888888888888,
              "#fdca26"
             ],
             [
              1,
              "#f0f921"
             ]
            ],
            "type": "surface"
           }
          ],
          "table": [
           {
            "cells": {
             "fill": {
              "color": "#EBF0F8"
             },
             "line": {
              "color": "white"
             }
            },
            "header": {
             "fill": {
              "color": "#C8D4E3"
             },
             "line": {
              "color": "white"
             }
            },
            "type": "table"
           }
          ]
         },
         "layout": {
          "annotationdefaults": {
           "arrowcolor": "#2a3f5f",
           "arrowhead": 0,
           "arrowwidth": 1
          },
          "autotypenumbers": "strict",
          "coloraxis": {
           "colorbar": {
            "outlinewidth": 0,
            "ticks": ""
           }
          },
          "colorscale": {
           "diverging": [
            [
             0,
             "#8e0152"
            ],
            [
             0.1,
             "#c51b7d"
            ],
            [
             0.2,
             "#de77ae"
            ],
            [
             0.3,
             "#f1b6da"
            ],
            [
             0.4,
             "#fde0ef"
            ],
            [
             0.5,
             "#f7f7f7"
            ],
            [
             0.6,
             "#e6f5d0"
            ],
            [
             0.7,
             "#b8e186"
            ],
            [
             0.8,
             "#7fbc41"
            ],
            [
             0.9,
             "#4d9221"
            ],
            [
             1,
             "#276419"
            ]
           ],
           "sequential": [
            [
             0,
             "#0d0887"
            ],
            [
             0.1111111111111111,
             "#46039f"
            ],
            [
             0.2222222222222222,
             "#7201a8"
            ],
            [
             0.3333333333333333,
             "#9c179e"
            ],
            [
             0.4444444444444444,
             "#bd3786"
            ],
            [
             0.5555555555555556,
             "#d8576b"
            ],
            [
             0.6666666666666666,
             "#ed7953"
            ],
            [
             0.7777777777777778,
             "#fb9f3a"
            ],
            [
             0.8888888888888888,
             "#fdca26"
            ],
            [
             1,
             "#f0f921"
            ]
           ],
           "sequentialminus": [
            [
             0,
             "#0d0887"
            ],
            [
             0.1111111111111111,
             "#46039f"
            ],
            [
             0.2222222222222222,
             "#7201a8"
            ],
            [
             0.3333333333333333,
             "#9c179e"
            ],
            [
             0.4444444444444444,
             "#bd3786"
            ],
            [
             0.5555555555555556,
             "#d8576b"
            ],
            [
             0.6666666666666666,
             "#ed7953"
            ],
            [
             0.7777777777777778,
             "#fb9f3a"
            ],
            [
             0.8888888888888888,
             "#fdca26"
            ],
            [
             1,
             "#f0f921"
            ]
           ]
          },
          "colorway": [
           "#636efa",
           "#EF553B",
           "#00cc96",
           "#ab63fa",
           "#FFA15A",
           "#19d3f3",
           "#FF6692",
           "#B6E880",
           "#FF97FF",
           "#FECB52"
          ],
          "font": {
           "color": "#2a3f5f"
          },
          "geo": {
           "bgcolor": "white",
           "lakecolor": "white",
           "landcolor": "#E5ECF6",
           "showlakes": true,
           "showland": true,
           "subunitcolor": "white"
          },
          "hoverlabel": {
           "align": "left"
          },
          "hovermode": "closest",
          "mapbox": {
           "style": "light"
          },
          "paper_bgcolor": "white",
          "plot_bgcolor": "#E5ECF6",
          "polar": {
           "angularaxis": {
            "gridcolor": "white",
            "linecolor": "white",
            "ticks": ""
           },
           "bgcolor": "#E5ECF6",
           "radialaxis": {
            "gridcolor": "white",
            "linecolor": "white",
            "ticks": ""
           }
          },
          "scene": {
           "xaxis": {
            "backgroundcolor": "#E5ECF6",
            "gridcolor": "white",
            "gridwidth": 2,
            "linecolor": "white",
            "showbackground": true,
            "ticks": "",
            "zerolinecolor": "white"
           },
           "yaxis": {
            "backgroundcolor": "#E5ECF6",
            "gridcolor": "white",
            "gridwidth": 2,
            "linecolor": "white",
            "showbackground": true,
            "ticks": "",
            "zerolinecolor": "white"
           },
           "zaxis": {
            "backgroundcolor": "#E5ECF6",
            "gridcolor": "white",
            "gridwidth": 2,
            "linecolor": "white",
            "showbackground": true,
            "ticks": "",
            "zerolinecolor": "white"
           }
          },
          "shapedefaults": {
           "line": {
            "color": "#2a3f5f"
           }
          },
          "ternary": {
           "aaxis": {
            "gridcolor": "white",
            "linecolor": "white",
            "ticks": ""
           },
           "baxis": {
            "gridcolor": "white",
            "linecolor": "white",
            "ticks": ""
           },
           "bgcolor": "#E5ECF6",
           "caxis": {
            "gridcolor": "white",
            "linecolor": "white",
            "ticks": ""
           }
          },
          "title": {
           "x": 0.05
          },
          "xaxis": {
           "automargin": true,
           "gridcolor": "white",
           "linecolor": "white",
           "ticks": "",
           "title": {
            "standoff": 15
           },
           "zerolinecolor": "white",
           "zerolinewidth": 2
          },
          "yaxis": {
           "automargin": true,
           "gridcolor": "white",
           "linecolor": "white",
           "ticks": "",
           "title": {
            "standoff": 15
           },
           "zerolinecolor": "white",
           "zerolinewidth": 2
          }
         }
        },
        "title": {
         "text": "sampling_density"
        },
        "width": 1000,
        "yaxis": {
         "dtick": 25,
         "range": [
          -175,
          100
         ],
         "tick0": 0
        }
       }
      }
     },
     "metadata": {}
    },
    {
     "output_type": "display_data",
     "data": {
      "text/plain": "<Figure size 432x288 with 0 Axes>"
     },
     "metadata": {}
    }
   ],
   "source": [
    "plot_vals(9)\n",
    "plt.savefig(\"pictures/results_fig_9.svg\")"
   ]
  },
  {
   "cell_type": "code",
   "execution_count": 14,
   "id": "filled-assignment",
   "metadata": {},
   "outputs": [
    {
     "output_type": "display_data",
     "data": {
      "application/vnd.plotly.v1+json": {
       "config": {
        "plotlyServerURL": "https://plot.ly"
       },
       "data": [
        {
         "error_y": {
          "array": [
           0.5204904358752298,
           0.6256381244460424,
           0.6009222745145516,
           0.6809861789979879,
           0.4827549735633681,
           0.45349213651530584,
           1.5333208674264804
          ]
         },
         "marker": {
          "color": "#4285F4"
         },
         "name": "CCE, SD=4",
         "type": "bar",
         "x": [
          "0.01/SD",
          "(0.01*4)/SD",
          "0.01/math.sqrt(SD)",
          "0.01",
          "0.05",
          "0.1",
          "0.2"
         ],
         "y": [
          92.8078666736167,
          92.12980782393137,
          91.96078855867806,
          91.62078094707022,
          90.83845168431148,
          91.76325249652517,
          85.67130461098289
         ]
        },
        {
         "error_y": {
          "array": [
           0.5884016778499116,
           0.4176678240617919,
           0.2688261264328942,
           0.3785248634499158,
           0.47585099630160155,
           0.2981979476976322,
           0.6464343782528348
          ]
         },
         "marker": {
          "color": "#EA4335"
         },
         "name": "JSD, SD=4",
         "type": "bar",
         "x": [
          "0.01/SD",
          "(0.01*4)/SD",
          "0.01/math.sqrt(SD)",
          "0.01",
          "0.05",
          "0.1",
          "0.2"
         ],
         "y": [
          94.52351012220858,
          94.90686775657332,
          94.68392323299068,
          94.89342055759563,
          94.44811138140189,
          94.67336968730606,
          90.6625041795356
         ]
        },
        {
         "error_y": {
          "array": [
           1.4393449780068748,
           0.989189631164125,
           2.2200189693174632,
           3.0545459020334698,
           1.3116068412956006,
           1.4713142153316197,
           2.7271570812041586
          ]
         },
         "marker": {
          "color": "#FBBC04"
         },
         "name": "CCEu, SD=4",
         "type": "bar",
         "x": [
          "0.01/SD",
          "(0.01*4)/SD",
          "0.01/math.sqrt(SD)",
          "0.01",
          "0.05",
          "0.1",
          "0.2"
         ],
         "y": [
          -10.808993950690477,
          -12.079148000682174,
          -11.639147203998414,
          -13.228550939316959,
          -17.116394715879483,
          -14.798873279907438,
          -16.725859472968555
         ]
        },
        {
         "error_y": {
          "array": [
           3.4196346478407924,
           2.555005657961255,
           2.198354654362088,
           2.1228245924573796,
           1.4872351520713543,
           1.5236032993461046,
           3.945520883369534
          ]
         },
         "marker": {
          "color": "#34A853"
         },
         "name": "JSDu, SD=4",
         "type": "bar",
         "x": [
          "0.01/SD",
          "(0.01*4)/SD",
          "0.01/math.sqrt(SD)",
          "0.01",
          "0.05",
          "0.1",
          "0.2"
         ],
         "y": [
          11.11833531390335,
          16.998500034170977,
          14.373330581944137,
          17.004481184147384,
          16.875661548306873,
          18.28552192774318,
          21.569920594100445
         ]
        },
        {
         "error_y": {
          "array": [
           0,
           0,
           0,
           0,
           0,
           0,
           0
          ]
         },
         "marker": {
          "color": "#000000"
         },
         "name": "CCE, SD=100",
         "type": "bar",
         "x": [
          "0.01/SD",
          "(0.01*4)/SD",
          "0.01/math.sqrt(SD)",
          "0.01",
          "0.05",
          "0.1",
          "0.2"
         ],
         "y": [
          69.79046358493234,
          67.86484960257548,
          69.89177411307381,
          69.1333627820823,
          68.76097898841147,
          35.75269141004371,
          -44.11014907477963
         ]
        },
        {
         "error_y": {
          "array": [
           0,
           0,
           0,
           0,
           0,
           0,
           0
          ]
         },
         "marker": {
          "color": "#46BDC6"
         },
         "name": "JSD, SD=100",
         "type": "bar",
         "x": [
          "0.01/SD",
          "(0.01*4)/SD",
          "0.01/math.sqrt(SD)",
          "0.01",
          "0.05",
          "0.1",
          "0.2"
         ],
         "y": [
          76.49024246676913,
          74.77487794104879,
          76.37773947349842,
          76.13921882556075,
          85.83372395431785,
          -24.924001348512235,
          -55.19636050716866
         ]
        }
       ],
       "layout": {
        "height": 600,
        "template": {
         "data": {
          "bar": [
           {
            "error_x": {
             "color": "#2a3f5f"
            },
            "error_y": {
             "color": "#2a3f5f"
            },
            "marker": {
             "line": {
              "color": "#E5ECF6",
              "width": 0.5
             }
            },
            "type": "bar"
           }
          ],
          "barpolar": [
           {
            "marker": {
             "line": {
              "color": "#E5ECF6",
              "width": 0.5
             }
            },
            "type": "barpolar"
           }
          ],
          "carpet": [
           {
            "aaxis": {
             "endlinecolor": "#2a3f5f",
             "gridcolor": "white",
             "linecolor": "white",
             "minorgridcolor": "white",
             "startlinecolor": "#2a3f5f"
            },
            "baxis": {
             "endlinecolor": "#2a3f5f",
             "gridcolor": "white",
             "linecolor": "white",
             "minorgridcolor": "white",
             "startlinecolor": "#2a3f5f"
            },
            "type": "carpet"
           }
          ],
          "choropleth": [
           {
            "colorbar": {
             "outlinewidth": 0,
             "ticks": ""
            },
            "type": "choropleth"
           }
          ],
          "contour": [
           {
            "colorbar": {
             "outlinewidth": 0,
             "ticks": ""
            },
            "colorscale": [
             [
              0,
              "#0d0887"
             ],
             [
              0.1111111111111111,
              "#46039f"
             ],
             [
              0.2222222222222222,
              "#7201a8"
             ],
             [
              0.3333333333333333,
              "#9c179e"
             ],
             [
              0.4444444444444444,
              "#bd3786"
             ],
             [
              0.5555555555555556,
              "#d8576b"
             ],
             [
              0.6666666666666666,
              "#ed7953"
             ],
             [
              0.7777777777777778,
              "#fb9f3a"
             ],
             [
              0.8888888888888888,
              "#fdca26"
             ],
             [
              1,
              "#f0f921"
             ]
            ],
            "type": "contour"
           }
          ],
          "contourcarpet": [
           {
            "colorbar": {
             "outlinewidth": 0,
             "ticks": ""
            },
            "type": "contourcarpet"
           }
          ],
          "heatmap": [
           {
            "colorbar": {
             "outlinewidth": 0,
             "ticks": ""
            },
            "colorscale": [
             [
              0,
              "#0d0887"
             ],
             [
              0.1111111111111111,
              "#46039f"
             ],
             [
              0.2222222222222222,
              "#7201a8"
             ],
             [
              0.3333333333333333,
              "#9c179e"
             ],
             [
              0.4444444444444444,
              "#bd3786"
             ],
             [
              0.5555555555555556,
              "#d8576b"
             ],
             [
              0.6666666666666666,
              "#ed7953"
             ],
             [
              0.7777777777777778,
              "#fb9f3a"
             ],
             [
              0.8888888888888888,
              "#fdca26"
             ],
             [
              1,
              "#f0f921"
             ]
            ],
            "type": "heatmap"
           }
          ],
          "heatmapgl": [
           {
            "colorbar": {
             "outlinewidth": 0,
             "ticks": ""
            },
            "colorscale": [
             [
              0,
              "#0d0887"
             ],
             [
              0.1111111111111111,
              "#46039f"
             ],
             [
              0.2222222222222222,
              "#7201a8"
             ],
             [
              0.3333333333333333,
              "#9c179e"
             ],
             [
              0.4444444444444444,
              "#bd3786"
             ],
             [
              0.5555555555555556,
              "#d8576b"
             ],
             [
              0.6666666666666666,
              "#ed7953"
             ],
             [
              0.7777777777777778,
              "#fb9f3a"
             ],
             [
              0.8888888888888888,
              "#fdca26"
             ],
             [
              1,
              "#f0f921"
             ]
            ],
            "type": "heatmapgl"
           }
          ],
          "histogram": [
           {
            "marker": {
             "colorbar": {
              "outlinewidth": 0,
              "ticks": ""
             }
            },
            "type": "histogram"
           }
          ],
          "histogram2d": [
           {
            "colorbar": {
             "outlinewidth": 0,
             "ticks": ""
            },
            "colorscale": [
             [
              0,
              "#0d0887"
             ],
             [
              0.1111111111111111,
              "#46039f"
             ],
             [
              0.2222222222222222,
              "#7201a8"
             ],
             [
              0.3333333333333333,
              "#9c179e"
             ],
             [
              0.4444444444444444,
              "#bd3786"
             ],
             [
              0.5555555555555556,
              "#d8576b"
             ],
             [
              0.6666666666666666,
              "#ed7953"
             ],
             [
              0.7777777777777778,
              "#fb9f3a"
             ],
             [
              0.8888888888888888,
              "#fdca26"
             ],
             [
              1,
              "#f0f921"
             ]
            ],
            "type": "histogram2d"
           }
          ],
          "histogram2dcontour": [
           {
            "colorbar": {
             "outlinewidth": 0,
             "ticks": ""
            },
            "colorscale": [
             [
              0,
              "#0d0887"
             ],
             [
              0.1111111111111111,
              "#46039f"
             ],
             [
              0.2222222222222222,
              "#7201a8"
             ],
             [
              0.3333333333333333,
              "#9c179e"
             ],
             [
              0.4444444444444444,
              "#bd3786"
             ],
             [
              0.5555555555555556,
              "#d8576b"
             ],
             [
              0.6666666666666666,
              "#ed7953"
             ],
             [
              0.7777777777777778,
              "#fb9f3a"
             ],
             [
              0.8888888888888888,
              "#fdca26"
             ],
             [
              1,
              "#f0f921"
             ]
            ],
            "type": "histogram2dcontour"
           }
          ],
          "mesh3d": [
           {
            "colorbar": {
             "outlinewidth": 0,
             "ticks": ""
            },
            "type": "mesh3d"
           }
          ],
          "parcoords": [
           {
            "line": {
             "colorbar": {
              "outlinewidth": 0,
              "ticks": ""
             }
            },
            "type": "parcoords"
           }
          ],
          "pie": [
           {
            "automargin": true,
            "type": "pie"
           }
          ],
          "scatter": [
           {
            "marker": {
             "colorbar": {
              "outlinewidth": 0,
              "ticks": ""
             }
            },
            "type": "scatter"
           }
          ],
          "scatter3d": [
           {
            "line": {
             "colorbar": {
              "outlinewidth": 0,
              "ticks": ""
             }
            },
            "marker": {
             "colorbar": {
              "outlinewidth": 0,
              "ticks": ""
             }
            },
            "type": "scatter3d"
           }
          ],
          "scattercarpet": [
           {
            "marker": {
             "colorbar": {
              "outlinewidth": 0,
              "ticks": ""
             }
            },
            "type": "scattercarpet"
           }
          ],
          "scattergeo": [
           {
            "marker": {
             "colorbar": {
              "outlinewidth": 0,
              "ticks": ""
             }
            },
            "type": "scattergeo"
           }
          ],
          "scattergl": [
           {
            "marker": {
             "colorbar": {
              "outlinewidth": 0,
              "ticks": ""
             }
            },
            "type": "scattergl"
           }
          ],
          "scattermapbox": [
           {
            "marker": {
             "colorbar": {
              "outlinewidth": 0,
              "ticks": ""
             }
            },
            "type": "scattermapbox"
           }
          ],
          "scatterpolar": [
           {
            "marker": {
             "colorbar": {
              "outlinewidth": 0,
              "ticks": ""
             }
            },
            "type": "scatterpolar"
           }
          ],
          "scatterpolargl": [
           {
            "marker": {
             "colorbar": {
              "outlinewidth": 0,
              "ticks": ""
             }
            },
            "type": "scatterpolargl"
           }
          ],
          "scatterternary": [
           {
            "marker": {
             "colorbar": {
              "outlinewidth": 0,
              "ticks": ""
             }
            },
            "type": "scatterternary"
           }
          ],
          "surface": [
           {
            "colorbar": {
             "outlinewidth": 0,
             "ticks": ""
            },
            "colorscale": [
             [
              0,
              "#0d0887"
             ],
             [
              0.1111111111111111,
              "#46039f"
             ],
             [
              0.2222222222222222,
              "#7201a8"
             ],
             [
              0.3333333333333333,
              "#9c179e"
             ],
             [
              0.4444444444444444,
              "#bd3786"
             ],
             [
              0.5555555555555556,
              "#d8576b"
             ],
             [
              0.6666666666666666,
              "#ed7953"
             ],
             [
              0.7777777777777778,
              "#fb9f3a"
             ],
             [
              0.8888888888888888,
              "#fdca26"
             ],
             [
              1,
              "#f0f921"
             ]
            ],
            "type": "surface"
           }
          ],
          "table": [
           {
            "cells": {
             "fill": {
              "color": "#EBF0F8"
             },
             "line": {
              "color": "white"
             }
            },
            "header": {
             "fill": {
              "color": "#C8D4E3"
             },
             "line": {
              "color": "white"
             }
            },
            "type": "table"
           }
          ]
         },
         "layout": {
          "annotationdefaults": {
           "arrowcolor": "#2a3f5f",
           "arrowhead": 0,
           "arrowwidth": 1
          },
          "autotypenumbers": "strict",
          "coloraxis": {
           "colorbar": {
            "outlinewidth": 0,
            "ticks": ""
           }
          },
          "colorscale": {
           "diverging": [
            [
             0,
             "#8e0152"
            ],
            [
             0.1,
             "#c51b7d"
            ],
            [
             0.2,
             "#de77ae"
            ],
            [
             0.3,
             "#f1b6da"
            ],
            [
             0.4,
             "#fde0ef"
            ],
            [
             0.5,
             "#f7f7f7"
            ],
            [
             0.6,
             "#e6f5d0"
            ],
            [
             0.7,
             "#b8e186"
            ],
            [
             0.8,
             "#7fbc41"
            ],
            [
             0.9,
             "#4d9221"
            ],
            [
             1,
             "#276419"
            ]
           ],
           "sequential": [
            [
             0,
             "#0d0887"
            ],
            [
             0.1111111111111111,
             "#46039f"
            ],
            [
             0.2222222222222222,
             "#7201a8"
            ],
            [
             0.3333333333333333,
             "#9c179e"
            ],
            [
             0.4444444444444444,
             "#bd3786"
            ],
            [
             0.5555555555555556,
             "#d8576b"
            ],
            [
             0.6666666666666666,
             "#ed7953"
            ],
            [
             0.7777777777777778,
             "#fb9f3a"
            ],
            [
             0.8888888888888888,
             "#fdca26"
            ],
            [
             1,
             "#f0f921"
            ]
           ],
           "sequentialminus": [
            [
             0,
             "#0d0887"
            ],
            [
             0.1111111111111111,
             "#46039f"
            ],
            [
             0.2222222222222222,
             "#7201a8"
            ],
            [
             0.3333333333333333,
             "#9c179e"
            ],
            [
             0.4444444444444444,
             "#bd3786"
            ],
            [
             0.5555555555555556,
             "#d8576b"
            ],
            [
             0.6666666666666666,
             "#ed7953"
            ],
            [
             0.7777777777777778,
             "#fb9f3a"
            ],
            [
             0.8888888888888888,
             "#fdca26"
            ],
            [
             1,
             "#f0f921"
            ]
           ]
          },
          "colorway": [
           "#636efa",
           "#EF553B",
           "#00cc96",
           "#ab63fa",
           "#FFA15A",
           "#19d3f3",
           "#FF6692",
           "#B6E880",
           "#FF97FF",
           "#FECB52"
          ],
          "font": {
           "color": "#2a3f5f"
          },
          "geo": {
           "bgcolor": "white",
           "lakecolor": "white",
           "landcolor": "#E5ECF6",
           "showlakes": true,
           "showland": true,
           "subunitcolor": "white"
          },
          "hoverlabel": {
           "align": "left"
          },
          "hovermode": "closest",
          "mapbox": {
           "style": "light"
          },
          "paper_bgcolor": "white",
          "plot_bgcolor": "#E5ECF6",
          "polar": {
           "angularaxis": {
            "gridcolor": "white",
            "linecolor": "white",
            "ticks": ""
           },
           "bgcolor": "#E5ECF6",
           "radialaxis": {
            "gridcolor": "white",
            "linecolor": "white",
            "ticks": ""
           }
          },
          "scene": {
           "xaxis": {
            "backgroundcolor": "#E5ECF6",
            "gridcolor": "white",
            "gridwidth": 2,
            "linecolor": "white",
            "showbackground": true,
            "ticks": "",
            "zerolinecolor": "white"
           },
           "yaxis": {
            "backgroundcolor": "#E5ECF6",
            "gridcolor": "white",
            "gridwidth": 2,
            "linecolor": "white",
            "showbackground": true,
            "ticks": "",
            "zerolinecolor": "white"
           },
           "zaxis": {
            "backgroundcolor": "#E5ECF6",
            "gridcolor": "white",
            "gridwidth": 2,
            "linecolor": "white",
            "showbackground": true,
            "ticks": "",
            "zerolinecolor": "white"
           }
          },
          "shapedefaults": {
           "line": {
            "color": "#2a3f5f"
           }
          },
          "ternary": {
           "aaxis": {
            "gridcolor": "white",
            "linecolor": "white",
            "ticks": ""
           },
           "baxis": {
            "gridcolor": "white",
            "linecolor": "white",
            "ticks": ""
           },
           "bgcolor": "#E5ECF6",
           "caxis": {
            "gridcolor": "white",
            "linecolor": "white",
            "ticks": ""
           }
          },
          "title": {
           "x": 0.05
          },
          "xaxis": {
           "automargin": true,
           "gridcolor": "white",
           "linecolor": "white",
           "ticks": "",
           "title": {
            "standoff": 15
           },
           "zerolinecolor": "white",
           "zerolinewidth": 2
          },
          "yaxis": {
           "automargin": true,
           "gridcolor": "white",
           "linecolor": "white",
           "ticks": "",
           "title": {
            "standoff": 15
           },
           "zerolinecolor": "white",
           "zerolinewidth": 2
          }
         }
        },
        "title": {
         "text": "gaussian_noise_sigma"
        },
        "width": 1000,
        "yaxis": {
         "dtick": 25,
         "range": [
          -175,
          100
         ],
         "tick0": 0
        }
       }
      }
     },
     "metadata": {}
    },
    {
     "output_type": "display_data",
     "data": {
      "text/plain": "<Figure size 432x288 with 0 Axes>"
     },
     "metadata": {}
    }
   ],
   "source": [
    "plot_vals(10)\n",
    "plt.savefig(\"pictures/results_fig_10.svg\")"
   ]
  },
  {
   "cell_type": "code",
   "execution_count": 15,
   "id": "usual-horse",
   "metadata": {},
   "outputs": [],
   "source": [
    "# plot_vals(11)\n",
    "# plt.savefig(\"pictures/results_fig_11.svg\")"
   ]
  },
  {
   "cell_type": "code",
   "execution_count": 16,
   "id": "burning-carnival",
   "metadata": {},
   "outputs": [],
   "source": [
    "# plot_vals(12,ylim=[-350,100])\n",
    "# plt.savefig(\"pictures/results_fig_12.svg\")"
   ]
  },
  {
   "cell_type": "code",
   "execution_count": 17,
   "id": "partial-algeria",
   "metadata": {},
   "outputs": [
    {
     "output_type": "execute_result",
     "data": {
      "text/plain": [
       "['0 7',\n",
       " '1 7',\n",
       " '2 7',\n",
       " '3 7',\n",
       " '4 7',\n",
       " '5 7',\n",
       " '6 7',\n",
       " '7 7',\n",
       " '8 7',\n",
       " '9 7',\n",
       " '10 7',\n",
       " '11 7',\n",
       " '12 7',\n",
       " '13 7',\n",
       " '14 7',\n",
       " '15 7',\n",
       " '16 7',\n",
       " '17 7',\n",
       " '18 7',\n",
       " '19 7',\n",
       " '20 7',\n",
       " '21 7',\n",
       " '22 7',\n",
       " '23 7',\n",
       " '24 7',\n",
       " '25 7',\n",
       " '26 7',\n",
       " '27 7',\n",
       " '28 7',\n",
       " '29 7',\n",
       " '30 7',\n",
       " '31 7',\n",
       " '32 7',\n",
       " '33 7',\n",
       " '34 7',\n",
       " '35 7',\n",
       " '36 7',\n",
       " '37 7',\n",
       " '38 7',\n",
       " '39 7',\n",
       " '40 7',\n",
       " '41 7',\n",
       " '42 7',\n",
       " '43 7',\n",
       " '44 2',\n",
       " '45 7',\n",
       " '46 7',\n",
       " '47 7',\n",
       " '48 7',\n",
       " '49 7',\n",
       " '50 7',\n",
       " '51 7',\n",
       " '52 7',\n",
       " '53 7',\n",
       " '54 2',\n",
       " '55 2',\n",
       " '56 2',\n",
       " '57 2',\n",
       " '58 7',\n",
       " '59 7',\n",
       " '60 7',\n",
       " '61 7',\n",
       " '62 7',\n",
       " '63 7',\n",
       " '64 7',\n",
       " '65 7',\n",
       " '66 7',\n",
       " '67 7',\n",
       " '68 7',\n",
       " '69 7',\n",
       " '70 7',\n",
       " '71 7',\n",
       " '72 7',\n",
       " '73 7',\n",
       " '74 7',\n",
       " '75 7',\n",
       " '76 7',\n",
       " '77 7',\n",
       " '78 7',\n",
       " '79 7',\n",
       " '80 7',\n",
       " '81 7',\n",
       " '82 7',\n",
       " '83 7',\n",
       " '84 7',\n",
       " '85 7',\n",
       " '86 7',\n",
       " '87 7',\n",
       " '88 7',\n",
       " '89 7',\n",
       " '90 7',\n",
       " '91 7',\n",
       " '92 7',\n",
       " '93 7',\n",
       " '94 7',\n",
       " '95 7',\n",
       " '96 7',\n",
       " '97 7',\n",
       " '98 7',\n",
       " '99 7',\n",
       " '100 7',\n",
       " '101 7',\n",
       " '102 7',\n",
       " '103 7',\n",
       " '104 7',\n",
       " '105 7',\n",
       " '106 7',\n",
       " '107 7',\n",
       " '108 7',\n",
       " '109 2',\n",
       " '110 7',\n",
       " '111 7',\n",
       " '112 7',\n",
       " '113 7',\n",
       " '114 7',\n",
       " '115 7',\n",
       " '116 7',\n",
       " '117 7',\n",
       " '118 7',\n",
       " '119 2',\n",
       " '120 2',\n",
       " '121 2',\n",
       " '122 2',\n",
       " '123 7',\n",
       " '124 7',\n",
       " '125 7',\n",
       " '126 7',\n",
       " '127 7',\n",
       " '128 7',\n",
       " '129 7',\n",
       " '130 7',\n",
       " '131 7',\n",
       " '132 7',\n",
       " '133 7',\n",
       " '134 7',\n",
       " '135 7',\n",
       " '136 7',\n",
       " '137 7',\n",
       " '138 7',\n",
       " '139 7',\n",
       " '140 7',\n",
       " '141 7',\n",
       " '142 7',\n",
       " '143 7',\n",
       " '144 7',\n",
       " '145 7',\n",
       " '146 7',\n",
       " '147 7',\n",
       " '148 7',\n",
       " '149 7',\n",
       " '150 7',\n",
       " '151 7',\n",
       " '152 7',\n",
       " '153 7',\n",
       " '154 7',\n",
       " '155 7',\n",
       " '156 6',\n",
       " '157 6',\n",
       " '158 6',\n",
       " '159 6',\n",
       " '160 6',\n",
       " '161 6',\n",
       " '162 6',\n",
       " '163 7',\n",
       " '164 6',\n",
       " '165 6',\n",
       " '166 6',\n",
       " '167 6',\n",
       " '168 2',\n",
       " '169 7',\n",
       " '170 6',\n",
       " '171 6',\n",
       " '172 2',\n",
       " '173 2',\n",
       " '174 2',\n",
       " '175 2',\n",
       " '176 6',\n",
       " '177 6',\n",
       " '178 6',\n",
       " '179 6',\n",
       " '180 6',\n",
       " '181 6',\n",
       " '182 6',\n",
       " '183 7',\n",
       " '184 6',\n",
       " '185 6',\n",
       " '186 6',\n",
       " '187 6',\n",
       " '188 6',\n",
       " '189 7',\n",
       " '190 6',\n",
       " '191 6',\n",
       " '192 6',\n",
       " '193 6',\n",
       " '194 6',\n",
       " '195 6',\n",
       " '196 7',\n",
       " '197 6',\n",
       " '198 7',\n",
       " '199 6',\n",
       " '200 6',\n",
       " '201 6',\n",
       " '202 6',\n",
       " '203 7',\n",
       " '204 6',\n",
       " '205 6',\n",
       " '206 6',\n",
       " '207 6',\n",
       " '208 6',\n",
       " '209 6',\n",
       " '210 6',\n",
       " '211 6',\n",
       " '212 6',\n",
       " '213 6',\n",
       " '214 6',\n",
       " '215 6',\n",
       " '216 7',\n",
       " '217 6',\n",
       " '218 6',\n",
       " '219 6',\n",
       " '220 6',\n",
       " '221 2',\n",
       " '222 7',\n",
       " '223 7',\n",
       " '224 7',\n",
       " '225 2',\n",
       " '226 2',\n",
       " '227 2',\n",
       " '228 2',\n",
       " '229 7',\n",
       " '230 7',\n",
       " '231 7',\n",
       " '232 7',\n",
       " '233 7',\n",
       " '234 7',\n",
       " '235 7',\n",
       " '236 2',\n",
       " '237 2',\n",
       " '238 2',\n",
       " '239 2',\n",
       " '240 2',\n",
       " '241 2',\n",
       " '242 2',\n",
       " '243 2',\n",
       " '244 2',\n",
       " '245 2',\n",
       " '246 2',\n",
       " '247 2',\n",
       " '248 2',\n",
       " '249 2',\n",
       " '250 2',\n",
       " '251 2',\n",
       " '252 2',\n",
       " '253 2',\n",
       " '254 2',\n",
       " '255 2',\n",
       " '256 2',\n",
       " '257 2',\n",
       " '258 2',\n",
       " '259 2',\n",
       " '260 2',\n",
       " '261 2',\n",
       " '262 2',\n",
       " '263 2',\n",
       " '264 2',\n",
       " '265 1',\n",
       " '266 1',\n",
       " '267 1',\n",
       " '268 1',\n",
       " '269 1',\n",
       " '270 1',\n",
       " '271 1',\n",
       " '272 1',\n",
       " '273 1',\n",
       " '274 1',\n",
       " '275 2',\n",
       " '276 1',\n",
       " '277 1',\n",
       " '278 1',\n",
       " '279 2',\n",
       " '280 1',\n",
       " '281 1',\n",
       " '282 1',\n",
       " '283 1',\n",
       " '284 1',\n",
       " '285 1',\n",
       " '286 1',\n",
       " '287 1',\n",
       " '288 1',\n",
       " '289 1',\n",
       " '290 1',\n",
       " '291 1',\n",
       " '292 1',\n",
       " '293 2',\n",
       " '294 1',\n",
       " '295 1',\n",
       " '296 2',\n",
       " '297 2',\n",
       " '298 1',\n",
       " '299 1',\n",
       " '300 1',\n",
       " '301 1',\n",
       " '302 1',\n",
       " '303 2',\n",
       " '304 1',\n",
       " '305 1',\n",
       " '306 1',\n",
       " '307 1',\n",
       " '308 1',\n",
       " '309 1',\n",
       " '310 2',\n",
       " '311 1',\n",
       " '312 2',\n",
       " '313 1',\n",
       " '314 1',\n",
       " '315 1',\n",
       " '316 1',\n",
       " '317 2',\n",
       " '318 1',\n",
       " '319 1',\n",
       " '320 1',\n",
       " '321 1',\n",
       " '322 1',\n",
       " '323 1',\n",
       " '324 1',\n",
       " '325 1',\n",
       " '326 1',\n",
       " '327 1',\n",
       " '328 1',\n",
       " '329 1',\n",
       " '330 2',\n",
       " '331 1',\n",
       " '332 1',\n",
       " '333 1',\n",
       " '334 2',\n",
       " '335 1',\n",
       " '336 1',\n",
       " '337 1',\n",
       " '338 1',\n",
       " '339 1',\n",
       " '340 1',\n",
       " '341 1',\n",
       " '342 1',\n",
       " '343 1',\n",
       " '344 1',\n",
       " '345 1']"
      ]
     },
     "metadata": {},
     "execution_count": 17
    }
   ],
   "source": [
    "[str(i) + \" \" + str(len(experiment_config_results[x['mapping']])) for i,x in enumerate(experiments)]"
   ]
  },
  {
   "cell_type": "code",
   "execution_count": null,
   "id": "educated-tulsa",
   "metadata": {},
   "outputs": [],
   "source": []
  },
  {
   "cell_type": "code",
   "execution_count": null,
   "id": "exposed-craps",
   "metadata": {},
   "outputs": [],
   "source": []
  },
  {
   "cell_type": "code",
   "execution_count": null,
   "id": "working-barrier",
   "metadata": {},
   "outputs": [],
   "source": []
  },
  {
   "cell_type": "code",
   "execution_count": null,
   "id": "cultural-working",
   "metadata": {},
   "outputs": [],
   "source": []
  },
  {
   "cell_type": "code",
   "execution_count": 18,
   "id": "tribal-steam",
   "metadata": {},
   "outputs": [],
   "source": [
    "# suffix1 = \"_merge1\"\n",
    "# suffix2 = \"_laptop\"\n",
    "# result = \"_mergefinal\""
   ]
  },
  {
   "cell_type": "code",
   "execution_count": 19,
   "id": "brilliant-necklace",
   "metadata": {},
   "outputs": [],
   "source": [
    "# with open(\"experiment_config_results\"+suffix1,\"rb\") as current_file:\n",
    "#     experiment_config_results1 = dill.load(current_file)\n",
    "# with open(\"experiment_config_results\"+suffix2,\"rb\") as current_file:\n",
    "#     experiment_config_results2 = dill.load(current_file)\n",
    "\n",
    "# experiment_config_results = []\n",
    "# for i in range(len(experiment_config_results1)):\n",
    "#     exp1 = experiment_config_results1[i]\n",
    "#     exp2 = experiment_config_results2[i]\n",
    "#     experiment_config_results.append(exp1+exp2)\n",
    "\n",
    "# display(experiment_config_results)\n",
    "# with open(\"experiment_config_results\"+result, \"wb\") as dill_file:\n",
    "#     dill.dump(experiment_config_results, dill_file)"
   ]
  },
  {
   "cell_type": "code",
   "execution_count": 20,
   "id": "electrical-amendment",
   "metadata": {},
   "outputs": [],
   "source": [
    "# with open(\"experiment_config_results\"+suffix1,\"rb\") as current_file:\n",
    "#     experiment_config_results1 = dill.load(current_file)\n",
    "# with open(\"experiment_config_results\"+suffix2,\"rb\") as current_file:\n",
    "#     experiment_config_results2 = dill.load(current_file)\n",
    "\n",
    "# experiment_config_results = []\n",
    "# for i in range(len(experiment_config_results1)):\n",
    "#     exp1 = experiment_config_results1[i]\n",
    "#     exp2 = experiment_config_results2[i]\n",
    "#     experiment_config_results.append(exp1+exp2)\n",
    "\n",
    "# display(experiment_config_results)\n",
    "# with open(\"experiment_config_results\"+result, \"wb\") as dill_file:\n",
    "#     dill.dump(experiment_config_results, dill_file)"
   ]
  },
  {
   "cell_type": "code",
   "execution_count": null,
   "metadata": {},
   "outputs": [],
   "source": []
  }
 ],
 "metadata": {
  "kernelspec": {
   "display_name": "Python 3",
   "language": "python",
   "name": "python3"
  },
  "language_info": {
   "codemirror_mode": {
    "name": "ipython",
    "version": 3
   },
   "file_extension": ".py",
   "mimetype": "text/x-python",
   "name": "python",
   "nbconvert_exporter": "python",
   "pygments_lexer": "ipython3",
   "version": "3.8.5-final"
  }
 },
 "nbformat": 4,
 "nbformat_minor": 5
}