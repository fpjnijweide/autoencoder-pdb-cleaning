{
 "cells": [
  {
   "cell_type": "code",
   "execution_count": 1,
   "id": "partial-rebate",
   "metadata": {},
   "outputs": [
    {
     "output_type": "stream",
     "name": "stdout",
     "text": [
      "done\n"
     ]
    }
   ],
   "source": [
    "import dill\n",
    "import numpy as np\n",
    "import matplotlib.pyplot as plt\n",
    "from IPython.display import display\n",
    "import plotly.express as px\n",
    "import plotly.graph_objs as go\n",
    "print('done')\n",
    "\n",
    "USE_PLOTLY = True\n"
   ]
  },
  {
   "cell_type": "code",
   "execution_count": 2,
   "id": "present-white",
   "metadata": {},
   "outputs": [
    {
     "output_type": "stream",
     "name": "stdout",
     "text": [
      "['CCEu, SD=4' 'CCE, SD=4' 'JSD, SD=4' 'CCE, SD=100' 'JSD, SD=100'\n 'JSD(5), SD=100' 'JSD(5)' 'MSE, SD=4' 'MSE, SD=100' 'KLD, SD=4'\n 'KLD, SD=100']\n11\n11\n['CCEu, SD=4' 'CCE, SD=4' 'JSD, SD=4' 'CCE, SD=100' 'JSD, SD=100'\n 'JSD(5), SD=100' 'JSD(5)' 'MSE, SD=4' 'MSE, SD=100' 'KLD, SD=4'\n 'KLD, SD=100']\n\n\n['training_method' 'activation_types' 'input_layer_type' 'encoding_dim'\n 'hidden_layers' 'activity_regularizer' 'sigma' 'BN_size'\n 'labeled_data_percentage' 'kernel_landmarks' 'CNN_kernel_size'\n 'CNN_filters' 'sampling_density']\n\n['training_method' 'activation_types' 'input_layer_type'\n 'kernel_landmarks' 'CNN_kernel_size' 'CNN_filters' 'activity_regularizer'\n 'encoding_dim' 'hidden_layers' 'sigma' 'labeled_data_percentage'\n 'sampling_density' 'BN_size']\n"
     ]
    }
   ],
   "source": [
    "with open(\"experiment_config_results_gpu\",\"rb\") as current_file:\n",
    "    experiment_config_results = dill.load(current_file)\n",
    "with open(\"experiments_gpu\",\"rb\") as current_file:\n",
    "    experiments = dill.load(current_file)\n",
    "\n",
    "    \n",
    "non_unique_params = np.array([experiment['parameter'] for experiment in experiments])\n",
    "non_unique_config_strings = np.array([experiment['config_string'] for experiment in experiments])\n",
    "\n",
    "par_indices = np.unique(non_unique_params,return_index=True)[1]\n",
    "string_indices = np.unique(non_unique_config_strings,return_index=True)[1]\n",
    "\n",
    "parameters = non_unique_params[np.sort(par_indices)]\n",
    "config_strings = non_unique_config_strings[np.sort(string_indices)]\n",
    "# config_strings[0],config_strings[1],config_strings[2] = config_strings[2],config_strings[0],config_strings[1]\n",
    "config_strings[[0,1,2]] = config_strings[[2,0,1]]\n",
    "print(config_strings)\n",
    "\n",
    "def str_noneguard(obj):\n",
    "    if hasattr(obj,'__name__'):\n",
    "        return obj.__name__\n",
    "    if obj is None:\n",
    "        return ''\n",
    "    if isinstance(obj,list):\n",
    "        return str([str_noneguard(x) for x in obj])\n",
    "    return str(obj)\n",
    "\n",
    "\n",
    "print(len(config_strings))\n",
    "colors=['#4285F4','#EA4335', '#FBBC04',  '#34A853','#000000','#46BDC6',      '#46BDC6',             '#F4CCCC','#C9DAF8',            'grey','purple']\n",
    "print(len(colors))\n",
    "print(config_strings)\n",
    "print(\"\")\n",
    "print(\"\")\n",
    "\n",
    "print(parameters)\n",
    "print(\"\")\n",
    "\n",
    "parameters[[3,4,5,6,7,8,9,10,11,12]] = parameters[[-4,-3,-2,5,3,4,6,8,-1,7]]\n",
    "print(parameters)\n",
    "\n"
   ]
  },
  {
   "cell_type": "code",
   "execution_count": 131,
   "id": "italic-thinking",
   "metadata": {},
   "outputs": [],
   "source": [
    "from matplotlib.ticker import (AutoMinorLocator, MultipleLocator)\n",
    "\n",
    "def hex_to_rgb(hex_color: str) -> tuple:\n",
    "    # thanks to https://community.plotly.com/t/scatter-plot-fill-with-color-how-to-set-opacity-of-fill/29591/2\n",
    "    hex_color = hex_color.lstrip(\"#\")\n",
    "    if len(hex_color) == 3:\n",
    "        hex_color = hex_color * 2\n",
    "    return int(hex_color[0:2], 16), int(hex_color[2:4], 16), int(hex_color[4:6], 16)\n",
    "\n",
    "def plot_vals(i,ylim=[-175,100]):\n",
    "\n",
    "    if USE_PLOTLY:\n",
    "        fig = go.Figure()\n",
    "\n",
    "    else:\n",
    "        fig, ax = plt.subplots(figsize=[10,6])  \n",
    "        ax.set_title(parameter)\n",
    "\n",
    "    parameter = parameters[i]\n",
    "    bar=0\n",
    "    all_numbers = True\n",
    "    \n",
    "    for config_index,config_string in enumerate(config_strings):\n",
    "        color=colors[config_index]\n",
    "    #     print(\"--------- \" + config_string + \" -----------\")\n",
    "        filtered_experiments = [ex for ex in experiments if ex['parameter']==parameter and ex['config_string']==config_string]\n",
    "        if len(filtered_experiments)==0:\n",
    "            continue\n",
    "        mappings = np.array([x['mapping'] for x in filtered_experiments])\n",
    "        x_values = [x['current_var'] for x in filtered_experiments]\n",
    "        for x in x_values:\n",
    "            if not isinstance(x,int) and not isinstance(x,float):\n",
    "                all_numbers=False\n",
    "\n",
    "        if not all_numbers:\n",
    "            for i in range(len(x_values)):\n",
    "                x_values[i] = str_noneguard(x_values[i])\n",
    "\n",
    "        results = [result for result in np.array(experiment_config_results,dtype=object)[mappings] ]\n",
    "        means = np.array([np.mean(x) for x in results])\n",
    "        sigmas = np.array([np.std(x) for x in results])\n",
    "\n",
    "    #     print(\"mappings\")\n",
    "    #     display(mappings)\n",
    "    #     print(\"\")\n",
    "    #     print(\"results\")\n",
    "    #     display(results)\n",
    "    #     print(\"\")\n",
    "    #     print(\"x_values\")\n",
    "    #     display(x_values)\n",
    "    #     print(\"\")\n",
    "    #     print(\"means\")\n",
    "    #     display(means)\n",
    "    #     print(\"\")\n",
    "    #     print(\"sigmas\")\n",
    "    #     display(sigmas)\n",
    "    #     print(\"\\n\\n\\n\")\n",
    "    #     ax.plot(x_values,means)\n",
    "#         print(x_values)\n",
    "        if USE_PLOTLY:\n",
    "            if all_numbers:\n",
    "                # fig.add_trace(go.Scatter(x=x_values, y=means, error_y={\"array\":sigmas}, marker_color=color,name=config_string,mode='lines+markers'))\n",
    "                fig.add_trace(go.Scatter(x=x_values, y=means, marker_color=color,name=config_string,mode='lines+markers'))\n",
    "                fig.add_trace(go.Scatter(x=x_values, y=means+sigmas, marker_color=color,name=\"Upper bound\", line=dict(width=0), showlegend=False, mode='lines'))\n",
    "                fig.add_trace(go.Scatter(x=x_values, y=means-sigmas, marker_color=color,fillcolor=f\"rgba{(*hex_to_rgb(color), 0.2)}\",name=\"Lower bound\", line=dict(width=0), showlegend=False, fill='tonexty', mode='lines'))\n",
    "                \n",
    "            else:\n",
    "                fig.add_bar(x=x_values,y=means,error_y={\"array\":sigmas},marker_color=color,name=config_string)\n",
    "        else:\n",
    "            if all_numbers:\n",
    "                ax.plot(x_values,means,'o-',label=config_string,color=color)\n",
    "                ax.fill_between(x_values, (means-sigmas), (means+sigmas),alpha=.2,color=color)\n",
    "            else:\n",
    "                n=len(x_values)\n",
    "                ind = np.arange(n)\n",
    "                width = 0.1\n",
    "                position = ind + (width*(1-n)/2) + bar*width\n",
    "                ax.bar(position,means,width=width,yerr=sigmas,label=config_string,color=color)\n",
    "                bar+=1\n",
    "    \n",
    "    if USE_PLOTLY:\n",
    "        fig.update_yaxes(tick0=0, dtick=25)\n",
    "        # fig.update_xaxes(tickangle = 0)\n",
    "        fig.update_layout(yaxis_range=ylim,title=parameter, width=1000, height=600)\n",
    "        fig.show()\n",
    "    else:\n",
    "        ax.set_ylim(ylim)\n",
    "        if not all_numbers:\n",
    "            print(x_values)\n",
    "            print(ind)\n",
    "    #         ax.axhline(0,\"black\")\n",
    "            ax.yaxis.set_major_locator(MultipleLocator(25))    \n",
    "            ax.grid(axis=\"y\")\n",
    "            \n",
    "            plt.xticks(ind, x_values)\n",
    "        else:\n",
    "            ax.yaxis.set_major_locator(MultipleLocator(25))\n",
    "            ax.grid()\n",
    "        ax.axhline(0,color='black')\n",
    "        ax.legend()"
   ]
  },
  {
   "cell_type": "code",
   "execution_count": 132,
   "id": "experimental-container",
   "metadata": {
    "tags": []
   },
   "outputs": [
    {
     "output_type": "display_data",
     "data": {
      "application/vnd.plotly.v1+json": {
       "config": {
        "plotlyServerURL": "https://plot.ly"
       },
       "data": [
        {
         "error_y": {
          "array": [
           0.019186782431231696,
           6.342860713987995,
           2.7877219101837225,
           3.1684736413262247,
           4.281166729330914,
           3.357203883864563
          ]
         },
         "marker": {
          "color": "#EA4335"
         },
         "name": "CCE, SD=4",
         "type": "bar",
         "x": [
          "supervised",
          "supervised_2_percent",
          "semi",
          "semi_sup_first",
          "semi_mixed",
          "unsupervised"
         ],
         "y": [
          99.82514779929623,
          71.10002482615529,
          93.0332506542994,
          -11.314685191681153,
          23.787860714187776,
          -9.073558317399192
         ]
        },
        {
         "error_y": {
          "array": [
           25.393027682496548,
           20.688562431719454,
           1.114086847989803,
           3.014195582699972,
           8.008030011305035,
           2.9740024928208264
          ]
         },
         "marker": {
          "color": "#FBBC04"
         },
         "name": "JSD, SD=4",
         "type": "bar",
         "x": [
          "supervised",
          "supervised_2_percent",
          "semi",
          "semi_sup_first",
          "semi_mixed",
          "unsupervised"
         ],
         "y": [
          84.88704223364684,
          56.78415981500201,
          95.61616153156402,
          10.012340858067823,
          44.75891649989346,
          8.625124921557347
         ]
        },
        {
         "error_y": {
          "array": [
           1.616863728491764,
           5.694602124529275,
           102.50397235152852,
           50.136817031052175,
           74.26285689486676,
           65.70288646029056
          ]
         },
         "marker": {
          "color": "#34A853"
         },
         "name": "CCE, SD=100",
         "type": "bar",
         "x": [
          "supervised",
          "supervised_2_percent",
          "semi",
          "semi_sup_first",
          "semi_mixed",
          "unsupervised"
         ],
         "y": [
          -148.10838974432266,
          -100.50564286540187,
          -43.56191518960144,
          -34.09054439088263,
          -75.4133942759365,
          -64.13384764740456
         ]
        },
        {
         "error_y": {
          "array": [
           0.9563071729825061,
           0.6540392548118481,
           1.7777270891153345,
           0.770465557244191,
           1.7824865185067622,
           2.0041169971795907
          ]
         },
         "marker": {
          "color": "#000000"
         },
         "name": "JSD, SD=100",
         "type": "bar",
         "x": [
          "supervised",
          "supervised_2_percent",
          "semi",
          "semi_sup_first",
          "semi_mixed",
          "unsupervised"
         ],
         "y": [
          -147.58850305569598,
          -147.49567660129193,
          -149.71650920813715,
          -147.6283438961563,
          -149.29774912369965,
          -149.60016629948493
         ]
        },
        {
         "error_y": {
          "array": [
           0.844389722238801,
           4.838393280519017,
           7.768719245240054,
           0.9427232055905251,
           2.213226200871065,
           0.6868177102759241
          ]
         },
         "marker": {
          "color": "#46BDC6"
         },
         "name": "JSD(5), SD=100",
         "type": "bar",
         "x": [
          "supervised",
          "supervised_2_percent",
          "semi",
          "semi_sup_first",
          "semi_mixed",
          "unsupervised"
         ],
         "y": [
          97.07828052448762,
          -71.16659247345747,
          67.82183728829347,
          20.75117559273741,
          17.134307448605703,
          21.017708824924632
         ]
        },
        {
         "error_y": {
          "array": [
           9.022571551232765,
           13.16257764602549,
           4.28813009447531,
           9.226343568860539,
           16.64256535100872,
           25.494577865054268
          ]
         },
         "marker": {
          "color": "#F4CCCC"
         },
         "name": "MSE, SD=4",
         "type": "bar",
         "x": [
          "supervised",
          "supervised_2_percent",
          "semi",
          "semi_sup_first",
          "semi_mixed",
          "unsupervised"
         ],
         "y": [
          89.86442510237676,
          -3.765018008148965,
          78.24467714829015,
          2.931553583034423,
          26.600387385368844,
          11.33506774460105
         ]
        },
        {
         "error_y": {
          "array": [
           0.9671006785301304,
           1.1855401558723273,
           0.9773601906633415,
           0.8483047622707819,
           1.5169055563847822,
           1.1384249420417147
          ]
         },
         "marker": {
          "color": "#C9DAF8"
         },
         "name": "MSE, SD=100",
         "type": "bar",
         "x": [
          "supervised",
          "supervised_2_percent",
          "semi",
          "semi_sup_first",
          "semi_mixed",
          "unsupervised"
         ],
         "y": [
          -149.865803364235,
          -149.82871410164117,
          -150.28911135697552,
          -150.26848450748258,
          -150.1356316420199,
          -149.51545982786925
         ]
        },
        {
         "error_y": {
          "array": [
           20.32677256646998,
           5.290151166880839,
           0.5828448032418441,
           2.441436037647317,
           4.854044886197875,
           4.064574166429508
          ]
         },
         "marker": {
          "color": "grey"
         },
         "name": "KLD, SD=4",
         "type": "bar",
         "x": [
          "supervised",
          "supervised_2_percent",
          "semi",
          "semi_sup_first",
          "semi_mixed",
          "unsupervised"
         ],
         "y": [
          92.48762662638305,
          72.60460882723348,
          95.38105773205966,
          -9.234016077197362,
          32.4568692823089,
          -9.2511093316415
         ]
        },
        {
         "error_y": {
          "array": [
           2.464313550770183,
           5.566822877006993,
           63.565499467448035,
           28.10417808138779,
           49.2933494076419,
           19.772282251292815
          ]
         },
         "marker": {
          "color": "purple"
         },
         "name": "KLD, SD=100",
         "type": "bar",
         "x": [
          "supervised",
          "supervised_2_percent",
          "semi",
          "semi_sup_first",
          "semi_mixed",
          "unsupervised"
         ],
         "y": [
          -148.15298216108974,
          -99.94639657712317,
          -32.78015516640035,
          -27.521719158017095,
          -29.54128178356647,
          -17.99487121863645
         ]
        }
       ],
       "layout": {
        "height": 600,
        "template": {
         "data": {
          "bar": [
           {
            "error_x": {
             "color": "#2a3f5f"
            },
            "error_y": {
             "color": "#2a3f5f"
            },
            "marker": {
             "line": {
              "color": "#E5ECF6",
              "width": 0.5
             }
            },
            "type": "bar"
           }
          ],
          "barpolar": [
           {
            "marker": {
             "line": {
              "color": "#E5ECF6",
              "width": 0.5
             }
            },
            "type": "barpolar"
           }
          ],
          "carpet": [
           {
            "aaxis": {
             "endlinecolor": "#2a3f5f",
             "gridcolor": "white",
             "linecolor": "white",
             "minorgridcolor": "white",
             "startlinecolor": "#2a3f5f"
            },
            "baxis": {
             "endlinecolor": "#2a3f5f",
             "gridcolor": "white",
             "linecolor": "white",
             "minorgridcolor": "white",
             "startlinecolor": "#2a3f5f"
            },
            "type": "carpet"
           }
          ],
          "choropleth": [
           {
            "colorbar": {
             "outlinewidth": 0,
             "ticks": ""
            },
            "type": "choropleth"
           }
          ],
          "contour": [
           {
            "colorbar": {
             "outlinewidth": 0,
             "ticks": ""
            },
            "colorscale": [
             [
              0,
              "#0d0887"
             ],
             [
              0.1111111111111111,
              "#46039f"
             ],
             [
              0.2222222222222222,
              "#7201a8"
             ],
             [
              0.3333333333333333,
              "#9c179e"
             ],
             [
              0.4444444444444444,
              "#bd3786"
             ],
             [
              0.5555555555555556,
              "#d8576b"
             ],
             [
              0.6666666666666666,
              "#ed7953"
             ],
             [
              0.7777777777777778,
              "#fb9f3a"
             ],
             [
              0.8888888888888888,
              "#fdca26"
             ],
             [
              1,
              "#f0f921"
             ]
            ],
            "type": "contour"
           }
          ],
          "contourcarpet": [
           {
            "colorbar": {
             "outlinewidth": 0,
             "ticks": ""
            },
            "type": "contourcarpet"
           }
          ],
          "heatmap": [
           {
            "colorbar": {
             "outlinewidth": 0,
             "ticks": ""
            },
            "colorscale": [
             [
              0,
              "#0d0887"
             ],
             [
              0.1111111111111111,
              "#46039f"
             ],
             [
              0.2222222222222222,
              "#7201a8"
             ],
             [
              0.3333333333333333,
              "#9c179e"
             ],
             [
              0.4444444444444444,
              "#bd3786"
             ],
             [
              0.5555555555555556,
              "#d8576b"
             ],
             [
              0.6666666666666666,
              "#ed7953"
             ],
             [
              0.7777777777777778,
              "#fb9f3a"
             ],
             [
              0.8888888888888888,
              "#fdca26"
             ],
             [
              1,
              "#f0f921"
             ]
            ],
            "type": "heatmap"
           }
          ],
          "heatmapgl": [
           {
            "colorbar": {
             "outlinewidth": 0,
             "ticks": ""
            },
            "colorscale": [
             [
              0,
              "#0d0887"
             ],
             [
              0.1111111111111111,
              "#46039f"
             ],
             [
              0.2222222222222222,
              "#7201a8"
             ],
             [
              0.3333333333333333,
              "#9c179e"
             ],
             [
              0.4444444444444444,
              "#bd3786"
             ],
             [
              0.5555555555555556,
              "#d8576b"
             ],
             [
              0.6666666666666666,
              "#ed7953"
             ],
             [
              0.7777777777777778,
              "#fb9f3a"
             ],
             [
              0.8888888888888888,
              "#fdca26"
             ],
             [
              1,
              "#f0f921"
             ]
            ],
            "type": "heatmapgl"
           }
          ],
          "histogram": [
           {
            "marker": {
             "colorbar": {
              "outlinewidth": 0,
              "ticks": ""
             }
            },
            "type": "histogram"
           }
          ],
          "histogram2d": [
           {
            "colorbar": {
             "outlinewidth": 0,
             "ticks": ""
            },
            "colorscale": [
             [
              0,
              "#0d0887"
             ],
             [
              0.1111111111111111,
              "#46039f"
             ],
             [
              0.2222222222222222,
              "#7201a8"
             ],
             [
              0.3333333333333333,
              "#9c179e"
             ],
             [
              0.4444444444444444,
              "#bd3786"
             ],
             [
              0.5555555555555556,
              "#d8576b"
             ],
             [
              0.6666666666666666,
              "#ed7953"
             ],
             [
              0.7777777777777778,
              "#fb9f3a"
             ],
             [
              0.8888888888888888,
              "#fdca26"
             ],
             [
              1,
              "#f0f921"
             ]
            ],
            "type": "histogram2d"
           }
          ],
          "histogram2dcontour": [
           {
            "colorbar": {
             "outlinewidth": 0,
             "ticks": ""
            },
            "colorscale": [
             [
              0,
              "#0d0887"
             ],
             [
              0.1111111111111111,
              "#46039f"
             ],
             [
              0.2222222222222222,
              "#7201a8"
             ],
             [
              0.3333333333333333,
              "#9c179e"
             ],
             [
              0.4444444444444444,
              "#bd3786"
             ],
             [
              0.5555555555555556,
              "#d8576b"
             ],
             [
              0.6666666666666666,
              "#ed7953"
             ],
             [
              0.7777777777777778,
              "#fb9f3a"
             ],
             [
              0.8888888888888888,
              "#fdca26"
             ],
             [
              1,
              "#f0f921"
             ]
            ],
            "type": "histogram2dcontour"
           }
          ],
          "mesh3d": [
           {
            "colorbar": {
             "outlinewidth": 0,
             "ticks": ""
            },
            "type": "mesh3d"
           }
          ],
          "parcoords": [
           {
            "line": {
             "colorbar": {
              "outlinewidth": 0,
              "ticks": ""
             }
            },
            "type": "parcoords"
           }
          ],
          "pie": [
           {
            "automargin": true,
            "type": "pie"
           }
          ],
          "scatter": [
           {
            "marker": {
             "colorbar": {
              "outlinewidth": 0,
              "ticks": ""
             }
            },
            "type": "scatter"
           }
          ],
          "scatter3d": [
           {
            "line": {
             "colorbar": {
              "outlinewidth": 0,
              "ticks": ""
             }
            },
            "marker": {
             "colorbar": {
              "outlinewidth": 0,
              "ticks": ""
             }
            },
            "type": "scatter3d"
           }
          ],
          "scattercarpet": [
           {
            "marker": {
             "colorbar": {
              "outlinewidth": 0,
              "ticks": ""
             }
            },
            "type": "scattercarpet"
           }
          ],
          "scattergeo": [
           {
            "marker": {
             "colorbar": {
              "outlinewidth": 0,
              "ticks": ""
             }
            },
            "type": "scattergeo"
           }
          ],
          "scattergl": [
           {
            "marker": {
             "colorbar": {
              "outlinewidth": 0,
              "ticks": ""
             }
            },
            "type": "scattergl"
           }
          ],
          "scattermapbox": [
           {
            "marker": {
             "colorbar": {
              "outlinewidth": 0,
              "ticks": ""
             }
            },
            "type": "scattermapbox"
           }
          ],
          "scatterpolar": [
           {
            "marker": {
             "colorbar": {
              "outlinewidth": 0,
              "ticks": ""
             }
            },
            "type": "scatterpolar"
           }
          ],
          "scatterpolargl": [
           {
            "marker": {
             "colorbar": {
              "outlinewidth": 0,
              "ticks": ""
             }
            },
            "type": "scatterpolargl"
           }
          ],
          "scatterternary": [
           {
            "marker": {
             "colorbar": {
              "outlinewidth": 0,
              "ticks": ""
             }
            },
            "type": "scatterternary"
           }
          ],
          "surface": [
           {
            "colorbar": {
             "outlinewidth": 0,
             "ticks": ""
            },
            "colorscale": [
             [
              0,
              "#0d0887"
             ],
             [
              0.1111111111111111,
              "#46039f"
             ],
             [
              0.2222222222222222,
              "#7201a8"
             ],
             [
              0.3333333333333333,
              "#9c179e"
             ],
             [
              0.4444444444444444,
              "#bd3786"
             ],
             [
              0.5555555555555556,
              "#d8576b"
             ],
             [
              0.6666666666666666,
              "#ed7953"
             ],
             [
              0.7777777777777778,
              "#fb9f3a"
             ],
             [
              0.8888888888888888,
              "#fdca26"
             ],
             [
              1,
              "#f0f921"
             ]
            ],
            "type": "surface"
           }
          ],
          "table": [
           {
            "cells": {
             "fill": {
              "color": "#EBF0F8"
             },
             "line": {
              "color": "white"
             }
            },
            "header": {
             "fill": {
              "color": "#C8D4E3"
             },
             "line": {
              "color": "white"
             }
            },
            "type": "table"
           }
          ]
         },
         "layout": {
          "annotationdefaults": {
           "arrowcolor": "#2a3f5f",
           "arrowhead": 0,
           "arrowwidth": 1
          },
          "autotypenumbers": "strict",
          "coloraxis": {
           "colorbar": {
            "outlinewidth": 0,
            "ticks": ""
           }
          },
          "colorscale": {
           "diverging": [
            [
             0,
             "#8e0152"
            ],
            [
             0.1,
             "#c51b7d"
            ],
            [
             0.2,
             "#de77ae"
            ],
            [
             0.3,
             "#f1b6da"
            ],
            [
             0.4,
             "#fde0ef"
            ],
            [
             0.5,
             "#f7f7f7"
            ],
            [
             0.6,
             "#e6f5d0"
            ],
            [
             0.7,
             "#b8e186"
            ],
            [
             0.8,
             "#7fbc41"
            ],
            [
             0.9,
             "#4d9221"
            ],
            [
             1,
             "#276419"
            ]
           ],
           "sequential": [
            [
             0,
             "#0d0887"
            ],
            [
             0.1111111111111111,
             "#46039f"
            ],
            [
             0.2222222222222222,
             "#7201a8"
            ],
            [
             0.3333333333333333,
             "#9c179e"
            ],
            [
             0.4444444444444444,
             "#bd3786"
            ],
            [
             0.5555555555555556,
             "#d8576b"
            ],
            [
             0.6666666666666666,
             "#ed7953"
            ],
            [
             0.7777777777777778,
             "#fb9f3a"
            ],
            [
             0.8888888888888888,
             "#fdca26"
            ],
            [
             1,
             "#f0f921"
            ]
           ],
           "sequentialminus": [
            [
             0,
             "#0d0887"
            ],
            [
             0.1111111111111111,
             "#46039f"
            ],
            [
             0.2222222222222222,
             "#7201a8"
            ],
            [
             0.3333333333333333,
             "#9c179e"
            ],
            [
             0.4444444444444444,
             "#bd3786"
            ],
            [
             0.5555555555555556,
             "#d8576b"
            ],
            [
             0.6666666666666666,
             "#ed7953"
            ],
            [
             0.7777777777777778,
             "#fb9f3a"
            ],
            [
             0.8888888888888888,
             "#fdca26"
            ],
            [
             1,
             "#f0f921"
            ]
           ]
          },
          "colorway": [
           "#636efa",
           "#EF553B",
           "#00cc96",
           "#ab63fa",
           "#FFA15A",
           "#19d3f3",
           "#FF6692",
           "#B6E880",
           "#FF97FF",
           "#FECB52"
          ],
          "font": {
           "color": "#2a3f5f"
          },
          "geo": {
           "bgcolor": "white",
           "lakecolor": "white",
           "landcolor": "#E5ECF6",
           "showlakes": true,
           "showland": true,
           "subunitcolor": "white"
          },
          "hoverlabel": {
           "align": "left"
          },
          "hovermode": "closest",
          "mapbox": {
           "style": "light"
          },
          "paper_bgcolor": "white",
          "plot_bgcolor": "#E5ECF6",
          "polar": {
           "angularaxis": {
            "gridcolor": "white",
            "linecolor": "white",
            "ticks": ""
           },
           "bgcolor": "#E5ECF6",
           "radialaxis": {
            "gridcolor": "white",
            "linecolor": "white",
            "ticks": ""
           }
          },
          "scene": {
           "xaxis": {
            "backgroundcolor": "#E5ECF6",
            "gridcolor": "white",
            "gridwidth": 2,
            "linecolor": "white",
            "showbackground": true,
            "ticks": "",
            "zerolinecolor": "white"
           },
           "yaxis": {
            "backgroundcolor": "#E5ECF6",
            "gridcolor": "white",
            "gridwidth": 2,
            "linecolor": "white",
            "showbackground": true,
            "ticks": "",
            "zerolinecolor": "white"
           },
           "zaxis": {
            "backgroundcolor": "#E5ECF6",
            "gridcolor": "white",
            "gridwidth": 2,
            "linecolor": "white",
            "showbackground": true,
            "ticks": "",
            "zerolinecolor": "white"
           }
          },
          "shapedefaults": {
           "line": {
            "color": "#2a3f5f"
           }
          },
          "ternary": {
           "aaxis": {
            "gridcolor": "white",
            "linecolor": "white",
            "ticks": ""
           },
           "baxis": {
            "gridcolor": "white",
            "linecolor": "white",
            "ticks": ""
           },
           "bgcolor": "#E5ECF6",
           "caxis": {
            "gridcolor": "white",
            "linecolor": "white",
            "ticks": ""
           }
          },
          "title": {
           "x": 0.05
          },
          "xaxis": {
           "automargin": true,
           "gridcolor": "white",
           "linecolor": "white",
           "ticks": "",
           "title": {
            "standoff": 15
           },
           "zerolinecolor": "white",
           "zerolinewidth": 2
          },
          "yaxis": {
           "automargin": true,
           "gridcolor": "white",
           "linecolor": "white",
           "ticks": "",
           "title": {
            "standoff": 15
           },
           "zerolinecolor": "white",
           "zerolinewidth": 2
          }
         }
        },
        "title": {
         "text": "training_method"
        },
        "width": 1000,
        "yaxis": {
         "dtick": 25,
         "range": [
          -175,
          100
         ],
         "tick0": 0
        }
       }
      }
     },
     "metadata": {}
    },
    {
     "output_type": "display_data",
     "data": {
      "text/plain": "<Figure size 432x288 with 0 Axes>"
     },
     "metadata": {}
    }
   ],
   "source": [
    "plot_vals(0)\n",
    "plt.savefig(\"pictures/results_fig_0.svg\")"
   ]
  },
  {
   "cell_type": "code",
   "execution_count": 133,
   "id": "sealed-recall",
   "metadata": {},
   "outputs": [
    {
     "output_type": "display_data",
     "data": {
      "application/vnd.plotly.v1+json": {
       "config": {
        "plotlyServerURL": "https://plot.ly"
       },
       "data": [
        {
         "error_y": {
          "array": [
           3.357203883864563,
           393.9683842758263,
           2.6221119118147813,
           2.4322134432468325,
           5.549050955259265
          ]
         },
         "marker": {
          "color": "#4285F4"
         },
         "name": "CCEu, SD=4",
         "type": "bar",
         "x": [
          "['sin', 'cos', 'linear', 'relu', 'swish']",
          "['relu']",
          "['relu', 'relu', 'relu', 'relu', 'relu']",
          "['sin', 'cos', 'linear']",
          "['sin', 'cos', 'linear', 'relu', 'sigmoid']"
         ],
         "y": [
          -9.073558317399192,
          -406.59250268243585,
          -9.764486583687718,
          -12.121217955155108,
          -11.140427344250291
         ]
        },
        {
         "error_y": {
          "array": [
           2.7877219101837225,
           376.23451423549517,
           0.7085574297000419,
           1.0812145811402385,
           2.303290519799481
          ]
         },
         "marker": {
          "color": "#EA4335"
         },
         "name": "CCE, SD=4",
         "type": "bar",
         "x": [
          "['sin', 'cos', 'linear', 'relu', 'swish']",
          "['relu']",
          "['relu', 'relu', 'relu', 'relu', 'relu']",
          "['sin', 'cos', 'linear']",
          "['sin', 'cos', 'linear', 'relu', 'sigmoid']"
         ],
         "y": [
          93.0332506542994,
          -250.80756764022053,
          98.15091638697774,
          92.1648576317455,
          92.64657968120318
         ]
        },
        {
         "error_y": {
          "array": [
           1.114086847989803,
           261.69594902782717,
           0.3400954284096204,
           1.0635492958502872,
           1.1554124029854582
          ]
         },
         "marker": {
          "color": "#FBBC04"
         },
         "name": "JSD, SD=4",
         "type": "bar",
         "x": [
          "['sin', 'cos', 'linear', 'relu', 'swish']",
          "['relu']",
          "['relu', 'relu', 'relu', 'relu', 'relu']",
          "['sin', 'cos', 'linear']",
          "['sin', 'cos', 'linear', 'relu', 'sigmoid']"
         ],
         "y": [
          95.61616153156402,
          -134.5297758631578,
          98.68545823456932,
          93.59693415664283,
          94.65947390945243
         ]
        },
        {
         "error_y": {
          "array": [
           102.50397235152852,
           11.484269375317423,
           24.50074325397731,
           65.7328132849575,
           43.73508139975903
          ]
         },
         "marker": {
          "color": "#34A853"
         },
         "name": "CCE, SD=100",
         "type": "bar",
         "x": [
          "['sin', 'cos', 'linear', 'relu', 'swish']",
          "['relu']",
          "['relu', 'relu', 'relu', 'relu', 'relu']",
          "['sin', 'cos', 'linear']",
          "['sin', 'cos', 'linear', 'relu', 'sigmoid']"
         ],
         "y": [
          -43.56191518960144,
          -45.68829128708064,
          -19.3657428881666,
          0.8995642275126599,
          -108.67706096841917
         ]
        },
        {
         "error_y": {
          "array": [
           1.7777270891153345,
           37.74498651112408,
           9.251316920603301,
           2.1197966487832316,
           2.0480025166279643
          ]
         },
         "marker": {
          "color": "#000000"
         },
         "name": "JSD, SD=100",
         "type": "bar",
         "x": [
          "['sin', 'cos', 'linear', 'relu', 'swish']",
          "['relu']",
          "['relu', 'relu', 'relu', 'relu', 'relu']",
          "['sin', 'cos', 'linear']",
          "['sin', 'cos', 'linear', 'relu', 'sigmoid']"
         ],
         "y": [
          -149.71650920813715,
          -90.79114266513886,
          -31.15534798068996,
          -148.88957574267195,
          -149.83976102127863
         ]
        },
        {
         "error_y": {
          "array": [
           7.768719245240054,
           19.556003919651747,
           13.896107100122359,
           7.8937441537805615,
           8.531083335174996
          ]
         },
         "marker": {
          "color": "#46BDC6"
         },
         "name": "JSD(5), SD=100",
         "type": "bar",
         "x": [
          "['sin', 'cos', 'linear', 'relu', 'swish']",
          "['relu']",
          "['relu', 'relu', 'relu', 'relu', 'relu']",
          "['sin', 'cos', 'linear']",
          "['sin', 'cos', 'linear', 'relu', 'sigmoid']"
         ],
         "y": [
          67.82183728829347,
          -63.41589083507114,
          23.457631370850578,
          62.73355760784383,
          68.70088469410537
         ]
        }
       ],
       "layout": {
        "height": 600,
        "template": {
         "data": {
          "bar": [
           {
            "error_x": {
             "color": "#2a3f5f"
            },
            "error_y": {
             "color": "#2a3f5f"
            },
            "marker": {
             "line": {
              "color": "#E5ECF6",
              "width": 0.5
             }
            },
            "type": "bar"
           }
          ],
          "barpolar": [
           {
            "marker": {
             "line": {
              "color": "#E5ECF6",
              "width": 0.5
             }
            },
            "type": "barpolar"
           }
          ],
          "carpet": [
           {
            "aaxis": {
             "endlinecolor": "#2a3f5f",
             "gridcolor": "white",
             "linecolor": "white",
             "minorgridcolor": "white",
             "startlinecolor": "#2a3f5f"
            },
            "baxis": {
             "endlinecolor": "#2a3f5f",
             "gridcolor": "white",
             "linecolor": "white",
             "minorgridcolor": "white",
             "startlinecolor": "#2a3f5f"
            },
            "type": "carpet"
           }
          ],
          "choropleth": [
           {
            "colorbar": {
             "outlinewidth": 0,
             "ticks": ""
            },
            "type": "choropleth"
           }
          ],
          "contour": [
           {
            "colorbar": {
             "outlinewidth": 0,
             "ticks": ""
            },
            "colorscale": [
             [
              0,
              "#0d0887"
             ],
             [
              0.1111111111111111,
              "#46039f"
             ],
             [
              0.2222222222222222,
              "#7201a8"
             ],
             [
              0.3333333333333333,
              "#9c179e"
             ],
             [
              0.4444444444444444,
              "#bd3786"
             ],
             [
              0.5555555555555556,
              "#d8576b"
             ],
             [
              0.6666666666666666,
              "#ed7953"
             ],
             [
              0.7777777777777778,
              "#fb9f3a"
             ],
             [
              0.8888888888888888,
              "#fdca26"
             ],
             [
              1,
              "#f0f921"
             ]
            ],
            "type": "contour"
           }
          ],
          "contourcarpet": [
           {
            "colorbar": {
             "outlinewidth": 0,
             "ticks": ""
            },
            "type": "contourcarpet"
           }
          ],
          "heatmap": [
           {
            "colorbar": {
             "outlinewidth": 0,
             "ticks": ""
            },
            "colorscale": [
             [
              0,
              "#0d0887"
             ],
             [
              0.1111111111111111,
              "#46039f"
             ],
             [
              0.2222222222222222,
              "#7201a8"
             ],
             [
              0.3333333333333333,
              "#9c179e"
             ],
             [
              0.4444444444444444,
              "#bd3786"
             ],
             [
              0.5555555555555556,
              "#d8576b"
             ],
             [
              0.6666666666666666,
              "#ed7953"
             ],
             [
              0.7777777777777778,
              "#fb9f3a"
             ],
             [
              0.8888888888888888,
              "#fdca26"
             ],
             [
              1,
              "#f0f921"
             ]
            ],
            "type": "heatmap"
           }
          ],
          "heatmapgl": [
           {
            "colorbar": {
             "outlinewidth": 0,
             "ticks": ""
            },
            "colorscale": [
             [
              0,
              "#0d0887"
             ],
             [
              0.1111111111111111,
              "#46039f"
             ],
             [
              0.2222222222222222,
              "#7201a8"
             ],
             [
              0.3333333333333333,
              "#9c179e"
             ],
             [
              0.4444444444444444,
              "#bd3786"
             ],
             [
              0.5555555555555556,
              "#d8576b"
             ],
             [
              0.6666666666666666,
              "#ed7953"
             ],
             [
              0.7777777777777778,
              "#fb9f3a"
             ],
             [
              0.8888888888888888,
              "#fdca26"
             ],
             [
              1,
              "#f0f921"
             ]
            ],
            "type": "heatmapgl"
           }
          ],
          "histogram": [
           {
            "marker": {
             "colorbar": {
              "outlinewidth": 0,
              "ticks": ""
             }
            },
            "type": "histogram"
           }
          ],
          "histogram2d": [
           {
            "colorbar": {
             "outlinewidth": 0,
             "ticks": ""
            },
            "colorscale": [
             [
              0,
              "#0d0887"
             ],
             [
              0.1111111111111111,
              "#46039f"
             ],
             [
              0.2222222222222222,
              "#7201a8"
             ],
             [
              0.3333333333333333,
              "#9c179e"
             ],
             [
              0.4444444444444444,
              "#bd3786"
             ],
             [
              0.5555555555555556,
              "#d8576b"
             ],
             [
              0.6666666666666666,
              "#ed7953"
             ],
             [
              0.7777777777777778,
              "#fb9f3a"
             ],
             [
              0.8888888888888888,
              "#fdca26"
             ],
             [
              1,
              "#f0f921"
             ]
            ],
            "type": "histogram2d"
           }
          ],
          "histogram2dcontour": [
           {
            "colorbar": {
             "outlinewidth": 0,
             "ticks": ""
            },
            "colorscale": [
             [
              0,
              "#0d0887"
             ],
             [
              0.1111111111111111,
              "#46039f"
             ],
             [
              0.2222222222222222,
              "#7201a8"
             ],
             [
              0.3333333333333333,
              "#9c179e"
             ],
             [
              0.4444444444444444,
              "#bd3786"
             ],
             [
              0.5555555555555556,
              "#d8576b"
             ],
             [
              0.6666666666666666,
              "#ed7953"
             ],
             [
              0.7777777777777778,
              "#fb9f3a"
             ],
             [
              0.8888888888888888,
              "#fdca26"
             ],
             [
              1,
              "#f0f921"
             ]
            ],
            "type": "histogram2dcontour"
           }
          ],
          "mesh3d": [
           {
            "colorbar": {
             "outlinewidth": 0,
             "ticks": ""
            },
            "type": "mesh3d"
           }
          ],
          "parcoords": [
           {
            "line": {
             "colorbar": {
              "outlinewidth": 0,
              "ticks": ""
             }
            },
            "type": "parcoords"
           }
          ],
          "pie": [
           {
            "automargin": true,
            "type": "pie"
           }
          ],
          "scatter": [
           {
            "marker": {
             "colorbar": {
              "outlinewidth": 0,
              "ticks": ""
             }
            },
            "type": "scatter"
           }
          ],
          "scatter3d": [
           {
            "line": {
             "colorbar": {
              "outlinewidth": 0,
              "ticks": ""
             }
            },
            "marker": {
             "colorbar": {
              "outlinewidth": 0,
              "ticks": ""
             }
            },
            "type": "scatter3d"
           }
          ],
          "scattercarpet": [
           {
            "marker": {
             "colorbar": {
              "outlinewidth": 0,
              "ticks": ""
             }
            },
            "type": "scattercarpet"
           }
          ],
          "scattergeo": [
           {
            "marker": {
             "colorbar": {
              "outlinewidth": 0,
              "ticks": ""
             }
            },
            "type": "scattergeo"
           }
          ],
          "scattergl": [
           {
            "marker": {
             "colorbar": {
              "outlinewidth": 0,
              "ticks": ""
             }
            },
            "type": "scattergl"
           }
          ],
          "scattermapbox": [
           {
            "marker": {
             "colorbar": {
              "outlinewidth": 0,
              "ticks": ""
             }
            },
            "type": "scattermapbox"
           }
          ],
          "scatterpolar": [
           {
            "marker": {
             "colorbar": {
              "outlinewidth": 0,
              "ticks": ""
             }
            },
            "type": "scatterpolar"
           }
          ],
          "scatterpolargl": [
           {
            "marker": {
             "colorbar": {
              "outlinewidth": 0,
              "ticks": ""
             }
            },
            "type": "scatterpolargl"
           }
          ],
          "scatterternary": [
           {
            "marker": {
             "colorbar": {
              "outlinewidth": 0,
              "ticks": ""
             }
            },
            "type": "scatterternary"
           }
          ],
          "surface": [
           {
            "colorbar": {
             "outlinewidth": 0,
             "ticks": ""
            },
            "colorscale": [
             [
              0,
              "#0d0887"
             ],
             [
              0.1111111111111111,
              "#46039f"
             ],
             [
              0.2222222222222222,
              "#7201a8"
             ],
             [
              0.3333333333333333,
              "#9c179e"
             ],
             [
              0.4444444444444444,
              "#bd3786"
             ],
             [
              0.5555555555555556,
              "#d8576b"
             ],
             [
              0.6666666666666666,
              "#ed7953"
             ],
             [
              0.7777777777777778,
              "#fb9f3a"
             ],
             [
              0.8888888888888888,
              "#fdca26"
             ],
             [
              1,
              "#f0f921"
             ]
            ],
            "type": "surface"
           }
          ],
          "table": [
           {
            "cells": {
             "fill": {
              "color": "#EBF0F8"
             },
             "line": {
              "color": "white"
             }
            },
            "header": {
             "fill": {
              "color": "#C8D4E3"
             },
             "line": {
              "color": "white"
             }
            },
            "type": "table"
           }
          ]
         },
         "layout": {
          "annotationdefaults": {
           "arrowcolor": "#2a3f5f",
           "arrowhead": 0,
           "arrowwidth": 1
          },
          "autotypenumbers": "strict",
          "coloraxis": {
           "colorbar": {
            "outlinewidth": 0,
            "ticks": ""
           }
          },
          "colorscale": {
           "diverging": [
            [
             0,
             "#8e0152"
            ],
            [
             0.1,
             "#c51b7d"
            ],
            [
             0.2,
             "#de77ae"
            ],
            [
             0.3,
             "#f1b6da"
            ],
            [
             0.4,
             "#fde0ef"
            ],
            [
             0.5,
             "#f7f7f7"
            ],
            [
             0.6,
             "#e6f5d0"
            ],
            [
             0.7,
             "#b8e186"
            ],
            [
             0.8,
             "#7fbc41"
            ],
            [
             0.9,
             "#4d9221"
            ],
            [
             1,
             "#276419"
            ]
           ],
           "sequential": [
            [
             0,
             "#0d0887"
            ],
            [
             0.1111111111111111,
             "#46039f"
            ],
            [
             0.2222222222222222,
             "#7201a8"
            ],
            [
             0.3333333333333333,
             "#9c179e"
            ],
            [
             0.4444444444444444,
             "#bd3786"
            ],
            [
             0.5555555555555556,
             "#d8576b"
            ],
            [
             0.6666666666666666,
             "#ed7953"
            ],
            [
             0.7777777777777778,
             "#fb9f3a"
            ],
            [
             0.8888888888888888,
             "#fdca26"
            ],
            [
             1,
             "#f0f921"
            ]
           ],
           "sequentialminus": [
            [
             0,
             "#0d0887"
            ],
            [
             0.1111111111111111,
             "#46039f"
            ],
            [
             0.2222222222222222,
             "#7201a8"
            ],
            [
             0.3333333333333333,
             "#9c179e"
            ],
            [
             0.4444444444444444,
             "#bd3786"
            ],
            [
             0.5555555555555556,
             "#d8576b"
            ],
            [
             0.6666666666666666,
             "#ed7953"
            ],
            [
             0.7777777777777778,
             "#fb9f3a"
            ],
            [
             0.8888888888888888,
             "#fdca26"
            ],
            [
             1,
             "#f0f921"
            ]
           ]
          },
          "colorway": [
           "#636efa",
           "#EF553B",
           "#00cc96",
           "#ab63fa",
           "#FFA15A",
           "#19d3f3",
           "#FF6692",
           "#B6E880",
           "#FF97FF",
           "#FECB52"
          ],
          "font": {
           "color": "#2a3f5f"
          },
          "geo": {
           "bgcolor": "white",
           "lakecolor": "white",
           "landcolor": "#E5ECF6",
           "showlakes": true,
           "showland": true,
           "subunitcolor": "white"
          },
          "hoverlabel": {
           "align": "left"
          },
          "hovermode": "closest",
          "mapbox": {
           "style": "light"
          },
          "paper_bgcolor": "white",
          "plot_bgcolor": "#E5ECF6",
          "polar": {
           "angularaxis": {
            "gridcolor": "white",
            "linecolor": "white",
            "ticks": ""
           },
           "bgcolor": "#E5ECF6",
           "radialaxis": {
            "gridcolor": "white",
            "linecolor": "white",
            "ticks": ""
           }
          },
          "scene": {
           "xaxis": {
            "backgroundcolor": "#E5ECF6",
            "gridcolor": "white",
            "gridwidth": 2,
            "linecolor": "white",
            "showbackground": true,
            "ticks": "",
            "zerolinecolor": "white"
           },
           "yaxis": {
            "backgroundcolor": "#E5ECF6",
            "gridcolor": "white",
            "gridwidth": 2,
            "linecolor": "white",
            "showbackground": true,
            "ticks": "",
            "zerolinecolor": "white"
           },
           "zaxis": {
            "backgroundcolor": "#E5ECF6",
            "gridcolor": "white",
            "gridwidth": 2,
            "linecolor": "white",
            "showbackground": true,
            "ticks": "",
            "zerolinecolor": "white"
           }
          },
          "shapedefaults": {
           "line": {
            "color": "#2a3f5f"
           }
          },
          "ternary": {
           "aaxis": {
            "gridcolor": "white",
            "linecolor": "white",
            "ticks": ""
           },
           "baxis": {
            "gridcolor": "white",
            "linecolor": "white",
            "ticks": ""
           },
           "bgcolor": "#E5ECF6",
           "caxis": {
            "gridcolor": "white",
            "linecolor": "white",
            "ticks": ""
           }
          },
          "title": {
           "x": 0.05
          },
          "xaxis": {
           "automargin": true,
           "gridcolor": "white",
           "linecolor": "white",
           "ticks": "",
           "title": {
            "standoff": 15
           },
           "zerolinecolor": "white",
           "zerolinewidth": 2
          },
          "yaxis": {
           "automargin": true,
           "gridcolor": "white",
           "linecolor": "white",
           "ticks": "",
           "title": {
            "standoff": 15
           },
           "zerolinecolor": "white",
           "zerolinewidth": 2
          }
         }
        },
        "title": {
         "text": "activation_types"
        },
        "width": 1000,
        "yaxis": {
         "dtick": 25,
         "range": [
          -175,
          100
         ],
         "tick0": 0
        }
       }
      }
     },
     "metadata": {}
    },
    {
     "output_type": "display_data",
     "data": {
      "text/plain": "<Figure size 432x288 with 0 Axes>"
     },
     "metadata": {}
    }
   ],
   "source": [
    "plot_vals(1)\n",
    "plt.savefig(\"pictures/results_fig_1.svg\")"
   ]
  },
  {
   "cell_type": "code",
   "execution_count": 134,
   "id": "broken-court",
   "metadata": {},
   "outputs": [
    {
     "output_type": "display_data",
     "data": {
      "application/vnd.plotly.v1+json": {
       "config": {
        "plotlyServerURL": "https://plot.ly"
       },
       "data": [
        {
         "error_y": {
          "array": [
           3.357203883864563,
           5.0524552531315345,
           3.3575162061009403,
           3.062996615079632,
           4.752112867745913,
           2.780512968490444,
           13.241502066833192
          ]
         },
         "marker": {
          "color": "#4285F4"
         },
         "name": "CCEu, SD=4",
         "type": "bar",
         "x": [
          "dense",
          "gaussian_noise",
          "gaussian_dropout",
          "sqrt_softmax",
          "gaussian_kernel",
          "CNN",
          "VAE"
         ],
         "y": [
          -9.073558317399192,
          -11.355181510952614,
          -10.011999283873767,
          -10.945692556942587,
          -11.601542033420474,
          -4.072261849457064,
          -516.7659212893672
         ]
        },
        {
         "error_y": {
          "array": [
           2.7877219101837225,
           0.8496327272597387,
           0.975235244547199,
           1.3553068097347178,
           3.9676709830134382,
           2.2836099460908197,
           167.16988597398586
          ]
         },
         "marker": {
          "color": "#EA4335"
         },
         "name": "CCE, SD=4",
         "type": "bar",
         "x": [
          "dense",
          "gaussian_noise",
          "gaussian_dropout",
          "sqrt_softmax",
          "gaussian_kernel",
          "CNN",
          "VAE"
         ],
         "y": [
          93.0332506542994,
          95.44531866632671,
          95.32502923130343,
          95.46801506592934,
          89.17333850984207,
          95.47405751350963,
          -394.4293885441434
         ]
        },
        {
         "error_y": {
          "array": [
           1.114086847989803,
           0.7865506917171119,
           0.43512138430919906,
           1.2613830831491017,
           19.980886917826094,
           0.6874215443212631,
           19.237606446363166
          ]
         },
         "marker": {
          "color": "#FBBC04"
         },
         "name": "JSD, SD=4",
         "type": "bar",
         "x": [
          "dense",
          "gaussian_noise",
          "gaussian_dropout",
          "sqrt_softmax",
          "gaussian_kernel",
          "CNN",
          "VAE"
         ],
         "y": [
          95.61616153156402,
          96.35958987658533,
          96.48909075845742,
          95.65612958307814,
          83.92520497697161,
          96.36643989558827,
          -611.8769068571639
         ]
        },
        {
         "error_y": {
          "array": [
           102.50397235152852,
           57.892811087041984,
           67.05000587076262,
           2.55405978056606,
           19.360821390913717,
           80.7549762040145,
           119.82220501571578
          ]
         },
         "marker": {
          "color": "#34A853"
         },
         "name": "CCE, SD=100",
         "type": "bar",
         "x": [
          "dense",
          "gaussian_noise",
          "gaussian_dropout",
          "sqrt_softmax",
          "gaussian_kernel",
          "CNN",
          "VAE"
         ],
         "y": [
          -43.56191518960144,
          -28.23826631690863,
          -5.865422565683893,
          -149.8949510424826,
          -143.30954348647418,
          -5.234606235208023,
          -46.75108303345566
         ]
        },
        {
         "error_y": {
          "array": [
           1.7777270891153345,
           1.6331490477594748,
           1.7543200982436393,
           1.788112669077971,
           1.3417644561172744,
           1.813930722831801,
           98.91689188508653
          ]
         },
         "marker": {
          "color": "#000000"
         },
         "name": "JSD, SD=100",
         "type": "bar",
         "x": [
          "dense",
          "gaussian_noise",
          "gaussian_dropout",
          "sqrt_softmax",
          "gaussian_kernel",
          "CNN",
          "VAE"
         ],
         "y": [
          -149.71650920813715,
          -149.11157001405286,
          -149.9175455538778,
          -150.73035328436706,
          -149.8458212713321,
          -149.482117889364,
          50.541629512110994
         ]
        },
        {
         "error_y": {
          "array": [
           7.768719245240054,
           1.8757632045329273,
           3.7278617522588693,
           3.606889498217834,
           57.0815359710217,
           10.515893208508784,
           0.2478454839471632
          ]
         },
         "marker": {
          "color": "#46BDC6"
         },
         "name": "JSD(5), SD=100",
         "type": "bar",
         "x": [
          "dense",
          "gaussian_noise",
          "gaussian_dropout",
          "sqrt_softmax",
          "gaussian_kernel",
          "CNN",
          "VAE"
         ],
         "y": [
          67.82183728829347,
          76.62538864230861,
          76.30853916564115,
          -144.38491157405662,
          18.94355803916928,
          65.79434760639097,
          -145.47551833613826
         ]
        }
       ],
       "layout": {
        "height": 600,
        "template": {
         "data": {
          "bar": [
           {
            "error_x": {
             "color": "#2a3f5f"
            },
            "error_y": {
             "color": "#2a3f5f"
            },
            "marker": {
             "line": {
              "color": "#E5ECF6",
              "width": 0.5
             }
            },
            "type": "bar"
           }
          ],
          "barpolar": [
           {
            "marker": {
             "line": {
              "color": "#E5ECF6",
              "width": 0.5
             }
            },
            "type": "barpolar"
           }
          ],
          "carpet": [
           {
            "aaxis": {
             "endlinecolor": "#2a3f5f",
             "gridcolor": "white",
             "linecolor": "white",
             "minorgridcolor": "white",
             "startlinecolor": "#2a3f5f"
            },
            "baxis": {
             "endlinecolor": "#2a3f5f",
             "gridcolor": "white",
             "linecolor": "white",
             "minorgridcolor": "white",
             "startlinecolor": "#2a3f5f"
            },
            "type": "carpet"
           }
          ],
          "choropleth": [
           {
            "colorbar": {
             "outlinewidth": 0,
             "ticks": ""
            },
            "type": "choropleth"
           }
          ],
          "contour": [
           {
            "colorbar": {
             "outlinewidth": 0,
             "ticks": ""
            },
            "colorscale": [
             [
              0,
              "#0d0887"
             ],
             [
              0.1111111111111111,
              "#46039f"
             ],
             [
              0.2222222222222222,
              "#7201a8"
             ],
             [
              0.3333333333333333,
              "#9c179e"
             ],
             [
              0.4444444444444444,
              "#bd3786"
             ],
             [
              0.5555555555555556,
              "#d8576b"
             ],
             [
              0.6666666666666666,
              "#ed7953"
             ],
             [
              0.7777777777777778,
              "#fb9f3a"
             ],
             [
              0.8888888888888888,
              "#fdca26"
             ],
             [
              1,
              "#f0f921"
             ]
            ],
            "type": "contour"
           }
          ],
          "contourcarpet": [
           {
            "colorbar": {
             "outlinewidth": 0,
             "ticks": ""
            },
            "type": "contourcarpet"
           }
          ],
          "heatmap": [
           {
            "colorbar": {
             "outlinewidth": 0,
             "ticks": ""
            },
            "colorscale": [
             [
              0,
              "#0d0887"
             ],
             [
              0.1111111111111111,
              "#46039f"
             ],
             [
              0.2222222222222222,
              "#7201a8"
             ],
             [
              0.3333333333333333,
              "#9c179e"
             ],
             [
              0.4444444444444444,
              "#bd3786"
             ],
             [
              0.5555555555555556,
              "#d8576b"
             ],
             [
              0.6666666666666666,
              "#ed7953"
             ],
             [
              0.7777777777777778,
              "#fb9f3a"
             ],
             [
              0.8888888888888888,
              "#fdca26"
             ],
             [
              1,
              "#f0f921"
             ]
            ],
            "type": "heatmap"
           }
          ],
          "heatmapgl": [
           {
            "colorbar": {
             "outlinewidth": 0,
             "ticks": ""
            },
            "colorscale": [
             [
              0,
              "#0d0887"
             ],
             [
              0.1111111111111111,
              "#46039f"
             ],
             [
              0.2222222222222222,
              "#7201a8"
             ],
             [
              0.3333333333333333,
              "#9c179e"
             ],
             [
              0.4444444444444444,
              "#bd3786"
             ],
             [
              0.5555555555555556,
              "#d8576b"
             ],
             [
              0.6666666666666666,
              "#ed7953"
             ],
             [
              0.7777777777777778,
              "#fb9f3a"
             ],
             [
              0.8888888888888888,
              "#fdca26"
             ],
             [
              1,
              "#f0f921"
             ]
            ],
            "type": "heatmapgl"
           }
          ],
          "histogram": [
           {
            "marker": {
             "colorbar": {
              "outlinewidth": 0,
              "ticks": ""
             }
            },
            "type": "histogram"
           }
          ],
          "histogram2d": [
           {
            "colorbar": {
             "outlinewidth": 0,
             "ticks": ""
            },
            "colorscale": [
             [
              0,
              "#0d0887"
             ],
             [
              0.1111111111111111,
              "#46039f"
             ],
             [
              0.2222222222222222,
              "#7201a8"
             ],
             [
              0.3333333333333333,
              "#9c179e"
             ],
             [
              0.4444444444444444,
              "#bd3786"
             ],
             [
              0.5555555555555556,
              "#d8576b"
             ],
             [
              0.6666666666666666,
              "#ed7953"
             ],
             [
              0.7777777777777778,
              "#fb9f3a"
             ],
             [
              0.8888888888888888,
              "#fdca26"
             ],
             [
              1,
              "#f0f921"
             ]
            ],
            "type": "histogram2d"
           }
          ],
          "histogram2dcontour": [
           {
            "colorbar": {
             "outlinewidth": 0,
             "ticks": ""
            },
            "colorscale": [
             [
              0,
              "#0d0887"
             ],
             [
              0.1111111111111111,
              "#46039f"
             ],
             [
              0.2222222222222222,
              "#7201a8"
             ],
             [
              0.3333333333333333,
              "#9c179e"
             ],
             [
              0.4444444444444444,
              "#bd3786"
             ],
             [
              0.5555555555555556,
              "#d8576b"
             ],
             [
              0.6666666666666666,
              "#ed7953"
             ],
             [
              0.7777777777777778,
              "#fb9f3a"
             ],
             [
              0.8888888888888888,
              "#fdca26"
             ],
             [
              1,
              "#f0f921"
             ]
            ],
            "type": "histogram2dcontour"
           }
          ],
          "mesh3d": [
           {
            "colorbar": {
             "outlinewidth": 0,
             "ticks": ""
            },
            "type": "mesh3d"
           }
          ],
          "parcoords": [
           {
            "line": {
             "colorbar": {
              "outlinewidth": 0,
              "ticks": ""
             }
            },
            "type": "parcoords"
           }
          ],
          "pie": [
           {
            "automargin": true,
            "type": "pie"
           }
          ],
          "scatter": [
           {
            "marker": {
             "colorbar": {
              "outlinewidth": 0,
              "ticks": ""
             }
            },
            "type": "scatter"
           }
          ],
          "scatter3d": [
           {
            "line": {
             "colorbar": {
              "outlinewidth": 0,
              "ticks": ""
             }
            },
            "marker": {
             "colorbar": {
              "outlinewidth": 0,
              "ticks": ""
             }
            },
            "type": "scatter3d"
           }
          ],
          "scattercarpet": [
           {
            "marker": {
             "colorbar": {
              "outlinewidth": 0,
              "ticks": ""
             }
            },
            "type": "scattercarpet"
           }
          ],
          "scattergeo": [
           {
            "marker": {
             "colorbar": {
              "outlinewidth": 0,
              "ticks": ""
             }
            },
            "type": "scattergeo"
           }
          ],
          "scattergl": [
           {
            "marker": {
             "colorbar": {
              "outlinewidth": 0,
              "ticks": ""
             }
            },
            "type": "scattergl"
           }
          ],
          "scattermapbox": [
           {
            "marker": {
             "colorbar": {
              "outlinewidth": 0,
              "ticks": ""
             }
            },
            "type": "scattermapbox"
           }
          ],
          "scatterpolar": [
           {
            "marker": {
             "colorbar": {
              "outlinewidth": 0,
              "ticks": ""
             }
            },
            "type": "scatterpolar"
           }
          ],
          "scatterpolargl": [
           {
            "marker": {
             "colorbar": {
              "outlinewidth": 0,
              "ticks": ""
             }
            },
            "type": "scatterpolargl"
           }
          ],
          "scatterternary": [
           {
            "marker": {
             "colorbar": {
              "outlinewidth": 0,
              "ticks": ""
             }
            },
            "type": "scatterternary"
           }
          ],
          "surface": [
           {
            "colorbar": {
             "outlinewidth": 0,
             "ticks": ""
            },
            "colorscale": [
             [
              0,
              "#0d0887"
             ],
             [
              0.1111111111111111,
              "#46039f"
             ],
             [
              0.2222222222222222,
              "#7201a8"
             ],
             [
              0.3333333333333333,
              "#9c179e"
             ],
             [
              0.4444444444444444,
              "#bd3786"
             ],
             [
              0.5555555555555556,
              "#d8576b"
             ],
             [
              0.6666666666666666,
              "#ed7953"
             ],
             [
              0.7777777777777778,
              "#fb9f3a"
             ],
             [
              0.8888888888888888,
              "#fdca26"
             ],
             [
              1,
              "#f0f921"
             ]
            ],
            "type": "surface"
           }
          ],
          "table": [
           {
            "cells": {
             "fill": {
              "color": "#EBF0F8"
             },
             "line": {
              "color": "white"
             }
            },
            "header": {
             "fill": {
              "color": "#C8D4E3"
             },
             "line": {
              "color": "white"
             }
            },
            "type": "table"
           }
          ]
         },
         "layout": {
          "annotationdefaults": {
           "arrowcolor": "#2a3f5f",
           "arrowhead": 0,
           "arrowwidth": 1
          },
          "autotypenumbers": "strict",
          "coloraxis": {
           "colorbar": {
            "outlinewidth": 0,
            "ticks": ""
           }
          },
          "colorscale": {
           "diverging": [
            [
             0,
             "#8e0152"
            ],
            [
             0.1,
             "#c51b7d"
            ],
            [
             0.2,
             "#de77ae"
            ],
            [
             0.3,
             "#f1b6da"
            ],
            [
             0.4,
             "#fde0ef"
            ],
            [
             0.5,
             "#f7f7f7"
            ],
            [
             0.6,
             "#e6f5d0"
            ],
            [
             0.7,
             "#b8e186"
            ],
            [
             0.8,
             "#7fbc41"
            ],
            [
             0.9,
             "#4d9221"
            ],
            [
             1,
             "#276419"
            ]
           ],
           "sequential": [
            [
             0,
             "#0d0887"
            ],
            [
             0.1111111111111111,
             "#46039f"
            ],
            [
             0.2222222222222222,
             "#7201a8"
            ],
            [
             0.3333333333333333,
             "#9c179e"
            ],
            [
             0.4444444444444444,
             "#bd3786"
            ],
            [
             0.5555555555555556,
             "#d8576b"
            ],
            [
             0.6666666666666666,
             "#ed7953"
            ],
            [
             0.7777777777777778,
             "#fb9f3a"
            ],
            [
             0.8888888888888888,
             "#fdca26"
            ],
            [
             1,
             "#f0f921"
            ]
           ],
           "sequentialminus": [
            [
             0,
             "#0d0887"
            ],
            [
             0.1111111111111111,
             "#46039f"
            ],
            [
             0.2222222222222222,
             "#7201a8"
            ],
            [
             0.3333333333333333,
             "#9c179e"
            ],
            [
             0.4444444444444444,
             "#bd3786"
            ],
            [
             0.5555555555555556,
             "#d8576b"
            ],
            [
             0.6666666666666666,
             "#ed7953"
            ],
            [
             0.7777777777777778,
             "#fb9f3a"
            ],
            [
             0.8888888888888888,
             "#fdca26"
            ],
            [
             1,
             "#f0f921"
            ]
           ]
          },
          "colorway": [
           "#636efa",
           "#EF553B",
           "#00cc96",
           "#ab63fa",
           "#FFA15A",
           "#19d3f3",
           "#FF6692",
           "#B6E880",
           "#FF97FF",
           "#FECB52"
          ],
          "font": {
           "color": "#2a3f5f"
          },
          "geo": {
           "bgcolor": "white",
           "lakecolor": "white",
           "landcolor": "#E5ECF6",
           "showlakes": true,
           "showland": true,
           "subunitcolor": "white"
          },
          "hoverlabel": {
           "align": "left"
          },
          "hovermode": "closest",
          "mapbox": {
           "style": "light"
          },
          "paper_bgcolor": "white",
          "plot_bgcolor": "#E5ECF6",
          "polar": {
           "angularaxis": {
            "gridcolor": "white",
            "linecolor": "white",
            "ticks": ""
           },
           "bgcolor": "#E5ECF6",
           "radialaxis": {
            "gridcolor": "white",
            "linecolor": "white",
            "ticks": ""
           }
          },
          "scene": {
           "xaxis": {
            "backgroundcolor": "#E5ECF6",
            "gridcolor": "white",
            "gridwidth": 2,
            "linecolor": "white",
            "showbackground": true,
            "ticks": "",
            "zerolinecolor": "white"
           },
           "yaxis": {
            "backgroundcolor": "#E5ECF6",
            "gridcolor": "white",
            "gridwidth": 2,
            "linecolor": "white",
            "showbackground": true,
            "ticks": "",
            "zerolinecolor": "white"
           },
           "zaxis": {
            "backgroundcolor": "#E5ECF6",
            "gridcolor": "white",
            "gridwidth": 2,
            "linecolor": "white",
            "showbackground": true,
            "ticks": "",
            "zerolinecolor": "white"
           }
          },
          "shapedefaults": {
           "line": {
            "color": "#2a3f5f"
           }
          },
          "ternary": {
           "aaxis": {
            "gridcolor": "white",
            "linecolor": "white",
            "ticks": ""
           },
           "baxis": {
            "gridcolor": "white",
            "linecolor": "white",
            "ticks": ""
           },
           "bgcolor": "#E5ECF6",
           "caxis": {
            "gridcolor": "white",
            "linecolor": "white",
            "ticks": ""
           }
          },
          "title": {
           "x": 0.05
          },
          "xaxis": {
           "automargin": true,
           "gridcolor": "white",
           "linecolor": "white",
           "ticks": "",
           "title": {
            "standoff": 15
           },
           "zerolinecolor": "white",
           "zerolinewidth": 2
          },
          "yaxis": {
           "automargin": true,
           "gridcolor": "white",
           "linecolor": "white",
           "ticks": "",
           "title": {
            "standoff": 15
           },
           "zerolinecolor": "white",
           "zerolinewidth": 2
          }
         }
        },
        "title": {
         "text": "input_layer_type"
        },
        "width": 1000,
        "yaxis": {
         "dtick": 25,
         "range": [
          -175,
          100
         ],
         "tick0": 0
        }
       }
      }
     },
     "metadata": {}
    },
    {
     "output_type": "display_data",
     "data": {
      "text/plain": "<Figure size 432x288 with 0 Axes>"
     },
     "metadata": {}
    }
   ],
   "source": [
    "plot_vals(2)\n",
    "plt.savefig(\"pictures/results_fig_2.svg\")"
   ]
  },
  {
   "cell_type": "code",
   "execution_count": 135,
   "id": "disturbed-chuck",
   "metadata": {},
   "outputs": [
    {
     "output_type": "display_data",
     "data": {
      "application/vnd.plotly.v1+json": {
       "config": {
        "plotlyServerURL": "https://plot.ly"
       },
       "data": [
        {
         "marker": {
          "color": "#4285F4"
         },
         "mode": "lines+markers",
         "name": "CCEu, SD=4",
         "type": "scatter",
         "x": [
          3,
          10,
          25,
          50,
          100,
          200,
          500,
          1000
         ],
         "y": [
          -9.27586630379174,
          -12.588293530728311,
          -12.11507753254938,
          -12.163280581397693,
          -11.601542033420474,
          -15.12398286310923,
          -14.57351211446373,
          -15.706562923997334
         ]
        },
        {
         "line": {
          "width": 0
         },
         "marker": {
          "color": "#4285F4"
         },
         "mode": "lines",
         "name": "Upper bound",
         "showlegend": false,
         "type": "scatter",
         "x": [
          3,
          10,
          25,
          50,
          100,
          200,
          500,
          1000
         ],
         "y": [
          -5.458434565104921,
          -7.620733369954343,
          -4.819203998621322,
          -7.985698153590627,
          -6.849429165674561,
          -7.3306068020326745,
          -9.556279414959718,
          -9.498857055440652
         ]
        },
        {
         "fill": "tonexty",
         "fillcolor": "rgba(66, 133, 244, 0.2)",
         "line": {
          "width": 0
         },
         "marker": {
          "color": "#4285F4"
         },
         "mode": "lines",
         "name": "Lower bound",
         "showlegend": false,
         "type": "scatter",
         "x": [
          3,
          10,
          25,
          50,
          100,
          200,
          500,
          1000
         ],
         "y": [
          -13.093298042478562,
          -17.55585369150228,
          -19.410951066477438,
          -16.34086300920476,
          -16.353654901166387,
          -22.917358924185784,
          -19.590744813967742,
          -21.914268792554015
         ]
        },
        {
         "marker": {
          "color": "#EA4335"
         },
         "mode": "lines+markers",
         "name": "CCE, SD=4",
         "type": "scatter",
         "x": [
          3,
          10,
          25,
          50,
          100,
          200,
          500,
          1000
         ],
         "y": [
          91.01330300640223,
          90.48590987455842,
          91.85386057520712,
          90.71046452467122,
          89.17333850984207,
          90.43679949989446,
          88.20138007100272,
          88.59221598735746
         ]
        },
        {
         "line": {
          "width": 0
         },
         "marker": {
          "color": "#EA4335"
         },
         "mode": "lines",
         "name": "Upper bound",
         "showlegend": false,
         "type": "scatter",
         "x": [
          3,
          10,
          25,
          50,
          100,
          200,
          500,
          1000
         ],
         "y": [
          94.77104468025576,
          94.68026775972469,
          96.29637142290298,
          95.33813536327133,
          93.1410094928555,
          93.8456020663315,
          95.41037765537978,
          92.54912763167104
         ]
        },
        {
         "fill": "tonexty",
         "fillcolor": "rgba(234, 67, 53, 0.2)",
         "line": {
          "width": 0
         },
         "marker": {
          "color": "#EA4335"
         },
         "mode": "lines",
         "name": "Lower bound",
         "showlegend": false,
         "type": "scatter",
         "x": [
          3,
          10,
          25,
          50,
          100,
          200,
          500,
          1000
         ],
         "y": [
          87.2555613325487,
          86.29155198939215,
          87.41134972751126,
          86.08279368607111,
          85.20566752682863,
          87.02799693345743,
          80.99238248662566,
          84.63530434304388
         ]
        },
        {
         "marker": {
          "color": "#FBBC04"
         },
         "mode": "lines+markers",
         "name": "JSD, SD=4",
         "type": "scatter",
         "x": [
          3,
          10,
          25,
          50,
          100,
          200,
          500,
          1000
         ],
         "y": [
          82.85326264793241,
          94.2032246471324,
          95.1283664274742,
          89.6406538841329,
          83.92520497697161,
          26.36481696355471,
          75.61650665625612,
          -43.67303120091918
         ]
        },
        {
         "line": {
          "width": 0
         },
         "marker": {
          "color": "#FBBC04"
         },
         "mode": "lines",
         "name": "Upper bound",
         "showlegend": false,
         "type": "scatter",
         "x": [
          3,
          10,
          25,
          50,
          100,
          200,
          500,
          1000
         ],
         "y": [
          115.22583797833128,
          95.91104242152035,
          97.05898380234113,
          98.28069062869334,
          103.90609189479771,
          213.8403869347384,
          132.61398209795783,
          196.22114717844394
         ]
        },
        {
         "fill": "tonexty",
         "fillcolor": "rgba(251, 188, 4, 0.2)",
         "line": {
          "width": 0
         },
         "marker": {
          "color": "#FBBC04"
         },
         "mode": "lines",
         "name": "Lower bound",
         "showlegend": false,
         "type": "scatter",
         "x": [
          3,
          10,
          25,
          50,
          100,
          200,
          500,
          1000
         ],
         "y": [
          50.48068731753354,
          92.49540687274445,
          93.19774905260728,
          81.00061713957247,
          63.944318059145516,
          -161.11075300762897,
          18.619031214554425,
          -283.56720958028234
         ]
        },
        {
         "marker": {
          "color": "#34A853"
         },
         "mode": "lines+markers",
         "name": "CCE, SD=100",
         "type": "scatter",
         "x": [
          3,
          10,
          25,
          50,
          100,
          200,
          500,
          1000
         ],
         "y": [
          -131.9943188904117,
          -131.17891341061144,
          -127.28685234418302,
          -91.78483773921536,
          -143.30954348647418,
          -141.71594793715929,
          -150.93722857913207,
          -148.39601550530492
         ]
        },
        {
         "line": {
          "width": 0
         },
         "marker": {
          "color": "#34A853"
         },
         "mode": "lines",
         "name": "Upper bound",
         "showlegend": false,
         "type": "scatter",
         "x": [
          3,
          10,
          25,
          50,
          100,
          200,
          500,
          1000
         ],
         "y": [
          -105.67744240153856,
          -101.3296756456808,
          -93.36080945606338,
          -8.142003612333426,
          -123.94872209556047,
          -119.76609549637125,
          -148.69861877330558,
          -146.9989758546057
         ]
        },
        {
         "fill": "tonexty",
         "fillcolor": "rgba(52, 168, 83, 0.2)",
         "line": {
          "width": 0
         },
         "marker": {
          "color": "#34A853"
         },
         "mode": "lines",
         "name": "Lower bound",
         "showlegend": false,
         "type": "scatter",
         "x": [
          3,
          10,
          25,
          50,
          100,
          200,
          500,
          1000
         ],
         "y": [
          -158.31119537928487,
          -161.0281511755421,
          -161.21289523230266,
          -175.42767186609728,
          -162.6703648773879,
          -163.66580037794733,
          -153.17583838495855,
          -149.79305515600413
         ]
        },
        {
         "marker": {
          "color": "#000000"
         },
         "mode": "lines+markers",
         "name": "JSD, SD=100",
         "type": "scatter",
         "x": [
          3,
          10,
          25,
          50,
          100,
          200,
          500,
          1000
         ],
         "y": [
          -150.5435029065688,
          -150.47234600163776,
          -149.68565524417048,
          -150.6610686338317,
          -149.8458212713321,
          -149.79379784700222,
          -148.0780115944094,
          -148.79740378614002
         ]
        },
        {
         "line": {
          "width": 0
         },
         "marker": {
          "color": "#000000"
         },
         "mode": "lines",
         "name": "Upper bound",
         "showlegend": false,
         "type": "scatter",
         "x": [
          3,
          10,
          25,
          50,
          100,
          200,
          500,
          1000
         ],
         "y": [
          -149.0779051428295,
          -148.3286810608939,
          -147.5400507440617,
          -149.2869858499109,
          -148.50405681521485,
          -148.13399076493027,
          -147.03297372589697,
          -147.74284885491448
         ]
        },
        {
         "fill": "tonexty",
         "fillcolor": "rgba(0, 0, 0, 0.2)",
         "line": {
          "width": 0
         },
         "marker": {
          "color": "#000000"
         },
         "mode": "lines",
         "name": "Lower bound",
         "showlegend": false,
         "type": "scatter",
         "x": [
          3,
          10,
          25,
          50,
          100,
          200,
          500,
          1000
         ],
         "y": [
          -152.00910067030807,
          -152.61601094238162,
          -151.83125974427927,
          -152.03515141775247,
          -151.18758572744937,
          -151.45360492907417,
          -149.1230494629218,
          -149.85195871736556
         ]
        },
        {
         "marker": {
          "color": "#46BDC6"
         },
         "mode": "lines+markers",
         "name": "JSD(5), SD=100",
         "type": "scatter",
         "x": [
          3,
          10,
          25,
          50,
          100,
          200,
          500,
          1000
         ],
         "y": [
          -53.991585507662855,
          52.07132087751355,
          21.479843638728873,
          11.03679826637234,
          18.94355803916928,
          -35.93631108104224,
          -61.15632677133963,
          -56.6074811933388
         ]
        },
        {
         "line": {
          "width": 0
         },
         "marker": {
          "color": "#46BDC6"
         },
         "mode": "lines",
         "name": "Upper bound",
         "showlegend": false,
         "type": "scatter",
         "x": [
          3,
          10,
          25,
          50,
          100,
          200,
          500,
          1000
         ],
         "y": [
          -50.606448432145996,
          92.69677490232226,
          84.65809334938716,
          67.62788857926293,
          76.02509401019098,
          42.6122338983017,
          -14.167635273644422,
          -8.706814836215393
         ]
        },
        {
         "fill": "tonexty",
         "fillcolor": "rgba(70, 189, 198, 0.2)",
         "line": {
          "width": 0
         },
         "marker": {
          "color": "#46BDC6"
         },
         "mode": "lines",
         "name": "Lower bound",
         "showlegend": false,
         "type": "scatter",
         "x": [
          3,
          10,
          25,
          50,
          100,
          200,
          500,
          1000
         ],
         "y": [
          -57.37672258317971,
          11.445866852704839,
          -41.69840607192941,
          -45.55429204651824,
          -38.13797793185242,
          -114.48485606038619,
          -108.14501826903484,
          -104.50814755046221
         ]
        }
       ],
       "layout": {
        "height": 600,
        "template": {
         "data": {
          "bar": [
           {
            "error_x": {
             "color": "#2a3f5f"
            },
            "error_y": {
             "color": "#2a3f5f"
            },
            "marker": {
             "line": {
              "color": "#E5ECF6",
              "width": 0.5
             }
            },
            "type": "bar"
           }
          ],
          "barpolar": [
           {
            "marker": {
             "line": {
              "color": "#E5ECF6",
              "width": 0.5
             }
            },
            "type": "barpolar"
           }
          ],
          "carpet": [
           {
            "aaxis": {
             "endlinecolor": "#2a3f5f",
             "gridcolor": "white",
             "linecolor": "white",
             "minorgridcolor": "white",
             "startlinecolor": "#2a3f5f"
            },
            "baxis": {
             "endlinecolor": "#2a3f5f",
             "gridcolor": "white",
             "linecolor": "white",
             "minorgridcolor": "white",
             "startlinecolor": "#2a3f5f"
            },
            "type": "carpet"
           }
          ],
          "choropleth": [
           {
            "colorbar": {
             "outlinewidth": 0,
             "ticks": ""
            },
            "type": "choropleth"
           }
          ],
          "contour": [
           {
            "colorbar": {
             "outlinewidth": 0,
             "ticks": ""
            },
            "colorscale": [
             [
              0,
              "#0d0887"
             ],
             [
              0.1111111111111111,
              "#46039f"
             ],
             [
              0.2222222222222222,
              "#7201a8"
             ],
             [
              0.3333333333333333,
              "#9c179e"
             ],
             [
              0.4444444444444444,
              "#bd3786"
             ],
             [
              0.5555555555555556,
              "#d8576b"
             ],
             [
              0.6666666666666666,
              "#ed7953"
             ],
             [
              0.7777777777777778,
              "#fb9f3a"
             ],
             [
              0.8888888888888888,
              "#fdca26"
             ],
             [
              1,
              "#f0f921"
             ]
            ],
            "type": "contour"
           }
          ],
          "contourcarpet": [
           {
            "colorbar": {
             "outlinewidth": 0,
             "ticks": ""
            },
            "type": "contourcarpet"
           }
          ],
          "heatmap": [
           {
            "colorbar": {
             "outlinewidth": 0,
             "ticks": ""
            },
            "colorscale": [
             [
              0,
              "#0d0887"
             ],
             [
              0.1111111111111111,
              "#46039f"
             ],
             [
              0.2222222222222222,
              "#7201a8"
             ],
             [
              0.3333333333333333,
              "#9c179e"
             ],
             [
              0.4444444444444444,
              "#bd3786"
             ],
             [
              0.5555555555555556,
              "#d8576b"
             ],
             [
              0.6666666666666666,
              "#ed7953"
             ],
             [
              0.7777777777777778,
              "#fb9f3a"
             ],
             [
              0.8888888888888888,
              "#fdca26"
             ],
             [
              1,
              "#f0f921"
             ]
            ],
            "type": "heatmap"
           }
          ],
          "heatmapgl": [
           {
            "colorbar": {
             "outlinewidth": 0,
             "ticks": ""
            },
            "colorscale": [
             [
              0,
              "#0d0887"
             ],
             [
              0.1111111111111111,
              "#46039f"
             ],
             [
              0.2222222222222222,
              "#7201a8"
             ],
             [
              0.3333333333333333,
              "#9c179e"
             ],
             [
              0.4444444444444444,
              "#bd3786"
             ],
             [
              0.5555555555555556,
              "#d8576b"
             ],
             [
              0.6666666666666666,
              "#ed7953"
             ],
             [
              0.7777777777777778,
              "#fb9f3a"
             ],
             [
              0.8888888888888888,
              "#fdca26"
             ],
             [
              1,
              "#f0f921"
             ]
            ],
            "type": "heatmapgl"
           }
          ],
          "histogram": [
           {
            "marker": {
             "colorbar": {
              "outlinewidth": 0,
              "ticks": ""
             }
            },
            "type": "histogram"
           }
          ],
          "histogram2d": [
           {
            "colorbar": {
             "outlinewidth": 0,
             "ticks": ""
            },
            "colorscale": [
             [
              0,
              "#0d0887"
             ],
             [
              0.1111111111111111,
              "#46039f"
             ],
             [
              0.2222222222222222,
              "#7201a8"
             ],
             [
              0.3333333333333333,
              "#9c179e"
             ],
             [
              0.4444444444444444,
              "#bd3786"
             ],
             [
              0.5555555555555556,
              "#d8576b"
             ],
             [
              0.6666666666666666,
              "#ed7953"
             ],
             [
              0.7777777777777778,
              "#fb9f3a"
             ],
             [
              0.8888888888888888,
              "#fdca26"
             ],
             [
              1,
              "#f0f921"
             ]
            ],
            "type": "histogram2d"
           }
          ],
          "histogram2dcontour": [
           {
            "colorbar": {
             "outlinewidth": 0,
             "ticks": ""
            },
            "colorscale": [
             [
              0,
              "#0d0887"
             ],
             [
              0.1111111111111111,
              "#46039f"
             ],
             [
              0.2222222222222222,
              "#7201a8"
             ],
             [
              0.3333333333333333,
              "#9c179e"
             ],
             [
              0.4444444444444444,
              "#bd3786"
             ],
             [
              0.5555555555555556,
              "#d8576b"
             ],
             [
              0.6666666666666666,
              "#ed7953"
             ],
             [
              0.7777777777777778,
              "#fb9f3a"
             ],
             [
              0.8888888888888888,
              "#fdca26"
             ],
             [
              1,
              "#f0f921"
             ]
            ],
            "type": "histogram2dcontour"
           }
          ],
          "mesh3d": [
           {
            "colorbar": {
             "outlinewidth": 0,
             "ticks": ""
            },
            "type": "mesh3d"
           }
          ],
          "parcoords": [
           {
            "line": {
             "colorbar": {
              "outlinewidth": 0,
              "ticks": ""
             }
            },
            "type": "parcoords"
           }
          ],
          "pie": [
           {
            "automargin": true,
            "type": "pie"
           }
          ],
          "scatter": [
           {
            "marker": {
             "colorbar": {
              "outlinewidth": 0,
              "ticks": ""
             }
            },
            "type": "scatter"
           }
          ],
          "scatter3d": [
           {
            "line": {
             "colorbar": {
              "outlinewidth": 0,
              "ticks": ""
             }
            },
            "marker": {
             "colorbar": {
              "outlinewidth": 0,
              "ticks": ""
             }
            },
            "type": "scatter3d"
           }
          ],
          "scattercarpet": [
           {
            "marker": {
             "colorbar": {
              "outlinewidth": 0,
              "ticks": ""
             }
            },
            "type": "scattercarpet"
           }
          ],
          "scattergeo": [
           {
            "marker": {
             "colorbar": {
              "outlinewidth": 0,
              "ticks": ""
             }
            },
            "type": "scattergeo"
           }
          ],
          "scattergl": [
           {
            "marker": {
             "colorbar": {
              "outlinewidth": 0,
              "ticks": ""
             }
            },
            "type": "scattergl"
           }
          ],
          "scattermapbox": [
           {
            "marker": {
             "colorbar": {
              "outlinewidth": 0,
              "ticks": ""
             }
            },
            "type": "scattermapbox"
           }
          ],
          "scatterpolar": [
           {
            "marker": {
             "colorbar": {
              "outlinewidth": 0,
              "ticks": ""
             }
            },
            "type": "scatterpolar"
           }
          ],
          "scatterpolargl": [
           {
            "marker": {
             "colorbar": {
              "outlinewidth": 0,
              "ticks": ""
             }
            },
            "type": "scatterpolargl"
           }
          ],
          "scatterternary": [
           {
            "marker": {
             "colorbar": {
              "outlinewidth": 0,
              "ticks": ""
             }
            },
            "type": "scatterternary"
           }
          ],
          "surface": [
           {
            "colorbar": {
             "outlinewidth": 0,
             "ticks": ""
            },
            "colorscale": [
             [
              0,
              "#0d0887"
             ],
             [
              0.1111111111111111,
              "#46039f"
             ],
             [
              0.2222222222222222,
              "#7201a8"
             ],
             [
              0.3333333333333333,
              "#9c179e"
             ],
             [
              0.4444444444444444,
              "#bd3786"
             ],
             [
              0.5555555555555556,
              "#d8576b"
             ],
             [
              0.6666666666666666,
              "#ed7953"
             ],
             [
              0.7777777777777778,
              "#fb9f3a"
             ],
             [
              0.8888888888888888,
              "#fdca26"
             ],
             [
              1,
              "#f0f921"
             ]
            ],
            "type": "surface"
           }
          ],
          "table": [
           {
            "cells": {
             "fill": {
              "color": "#EBF0F8"
             },
             "line": {
              "color": "white"
             }
            },
            "header": {
             "fill": {
              "color": "#C8D4E3"
             },
             "line": {
              "color": "white"
             }
            },
            "type": "table"
           }
          ]
         },
         "layout": {
          "annotationdefaults": {
           "arrowcolor": "#2a3f5f",
           "arrowhead": 0,
           "arrowwidth": 1
          },
          "autotypenumbers": "strict",
          "coloraxis": {
           "colorbar": {
            "outlinewidth": 0,
            "ticks": ""
           }
          },
          "colorscale": {
           "diverging": [
            [
             0,
             "#8e0152"
            ],
            [
             0.1,
             "#c51b7d"
            ],
            [
             0.2,
             "#de77ae"
            ],
            [
             0.3,
             "#f1b6da"
            ],
            [
             0.4,
             "#fde0ef"
            ],
            [
             0.5,
             "#f7f7f7"
            ],
            [
             0.6,
             "#e6f5d0"
            ],
            [
             0.7,
             "#b8e186"
            ],
            [
             0.8,
             "#7fbc41"
            ],
            [
             0.9,
             "#4d9221"
            ],
            [
             1,
             "#276419"
            ]
           ],
           "sequential": [
            [
             0,
             "#0d0887"
            ],
            [
             0.1111111111111111,
             "#46039f"
            ],
            [
             0.2222222222222222,
             "#7201a8"
            ],
            [
             0.3333333333333333,
             "#9c179e"
            ],
            [
             0.4444444444444444,
             "#bd3786"
            ],
            [
             0.5555555555555556,
             "#d8576b"
            ],
            [
             0.6666666666666666,
             "#ed7953"
            ],
            [
             0.7777777777777778,
             "#fb9f3a"
            ],
            [
             0.8888888888888888,
             "#fdca26"
            ],
            [
             1,
             "#f0f921"
            ]
           ],
           "sequentialminus": [
            [
             0,
             "#0d0887"
            ],
            [
             0.1111111111111111,
             "#46039f"
            ],
            [
             0.2222222222222222,
             "#7201a8"
            ],
            [
             0.3333333333333333,
             "#9c179e"
            ],
            [
             0.4444444444444444,
             "#bd3786"
            ],
            [
             0.5555555555555556,
             "#d8576b"
            ],
            [
             0.6666666666666666,
             "#ed7953"
            ],
            [
             0.7777777777777778,
             "#fb9f3a"
            ],
            [
             0.8888888888888888,
             "#fdca26"
            ],
            [
             1,
             "#f0f921"
            ]
           ]
          },
          "colorway": [
           "#636efa",
           "#EF553B",
           "#00cc96",
           "#ab63fa",
           "#FFA15A",
           "#19d3f3",
           "#FF6692",
           "#B6E880",
           "#FF97FF",
           "#FECB52"
          ],
          "font": {
           "color": "#2a3f5f"
          },
          "geo": {
           "bgcolor": "white",
           "lakecolor": "white",
           "landcolor": "#E5ECF6",
           "showlakes": true,
           "showland": true,
           "subunitcolor": "white"
          },
          "hoverlabel": {
           "align": "left"
          },
          "hovermode": "closest",
          "mapbox": {
           "style": "light"
          },
          "paper_bgcolor": "white",
          "plot_bgcolor": "#E5ECF6",
          "polar": {
           "angularaxis": {
            "gridcolor": "white",
            "linecolor": "white",
            "ticks": ""
           },
           "bgcolor": "#E5ECF6",
           "radialaxis": {
            "gridcolor": "white",
            "linecolor": "white",
            "ticks": ""
           }
          },
          "scene": {
           "xaxis": {
            "backgroundcolor": "#E5ECF6",
            "gridcolor": "white",
            "gridwidth": 2,
            "linecolor": "white",
            "showbackground": true,
            "ticks": "",
            "zerolinecolor": "white"
           },
           "yaxis": {
            "backgroundcolor": "#E5ECF6",
            "gridcolor": "white",
            "gridwidth": 2,
            "linecolor": "white",
            "showbackground": true,
            "ticks": "",
            "zerolinecolor": "white"
           },
           "zaxis": {
            "backgroundcolor": "#E5ECF6",
            "gridcolor": "white",
            "gridwidth": 2,
            "linecolor": "white",
            "showbackground": true,
            "ticks": "",
            "zerolinecolor": "white"
           }
          },
          "shapedefaults": {
           "line": {
            "color": "#2a3f5f"
           }
          },
          "ternary": {
           "aaxis": {
            "gridcolor": "white",
            "linecolor": "white",
            "ticks": ""
           },
           "baxis": {
            "gridcolor": "white",
            "linecolor": "white",
            "ticks": ""
           },
           "bgcolor": "#E5ECF6",
           "caxis": {
            "gridcolor": "white",
            "linecolor": "white",
            "ticks": ""
           }
          },
          "title": {
           "x": 0.05
          },
          "xaxis": {
           "automargin": true,
           "gridcolor": "white",
           "linecolor": "white",
           "ticks": "",
           "title": {
            "standoff": 15
           },
           "zerolinecolor": "white",
           "zerolinewidth": 2
          },
          "yaxis": {
           "automargin": true,
           "gridcolor": "white",
           "linecolor": "white",
           "ticks": "",
           "title": {
            "standoff": 15
           },
           "zerolinecolor": "white",
           "zerolinewidth": 2
          }
         }
        },
        "title": {
         "text": "kernel_landmarks"
        },
        "width": 1000,
        "yaxis": {
         "dtick": 25,
         "range": [
          -175,
          100
         ],
         "tick0": 0
        }
       }
      }
     },
     "metadata": {}
    },
    {
     "output_type": "display_data",
     "data": {
      "text/plain": "<Figure size 432x288 with 0 Axes>"
     },
     "metadata": {}
    }
   ],
   "source": [
    "plot_vals(3)\n",
    "plt.savefig(\"pictures/results_fig_3.svg\")"
   ]
  },
  {
   "cell_type": "code",
   "execution_count": 136,
   "id": "lesser-nashville",
   "metadata": {},
   "outputs": [
    {
     "output_type": "display_data",
     "data": {
      "application/vnd.plotly.v1+json": {
       "config": {
        "plotlyServerURL": "https://plot.ly"
       },
       "data": [
        {
         "marker": {
          "color": "#4285F4"
         },
         "mode": "lines+markers",
         "name": "CCEu, SD=4",
         "type": "scatter",
         "x": [
          1,
          3,
          5,
          7,
          9
         ],
         "y": [
          -483.63854964652273,
          -4.072261849457064,
          -4.726583388867302,
          -7.690436860551013,
          -7.391261644897526
         ]
        },
        {
         "line": {
          "width": 0
         },
         "marker": {
          "color": "#4285F4"
         },
         "mode": "lines",
         "name": "Upper bound",
         "showlegend": false,
         "type": "scatter",
         "x": [
          1,
          3,
          5,
          7,
          9
         ],
         "y": [
          -477.5648602319041,
          -1.2917488809666198,
          -2.26489249235239,
          -5.94207207083172,
          -4.04456298489269
         ]
        },
        {
         "fill": "tonexty",
         "fillcolor": "rgba(66, 133, 244, 0.2)",
         "line": {
          "width": 0
         },
         "marker": {
          "color": "#4285F4"
         },
         "mode": "lines",
         "name": "Lower bound",
         "showlegend": false,
         "type": "scatter",
         "x": [
          1,
          3,
          5,
          7,
          9
         ],
         "y": [
          -489.71223906114136,
          -6.852774817947508,
          -7.188274285382214,
          -9.438801650270307,
          -10.737960304902362
         ]
        },
        {
         "marker": {
          "color": "#EA4335"
         },
         "mode": "lines+markers",
         "name": "CCE, SD=4",
         "type": "scatter",
         "x": [
          1,
          3,
          5,
          7,
          9
         ],
         "y": [
          -448.6817551554711,
          95.47405751350963,
          94.80906913962109,
          95.42170438123613,
          93.3463696698525
         ]
        },
        {
         "line": {
          "width": 0
         },
         "marker": {
          "color": "#EA4335"
         },
         "mode": "lines",
         "name": "Upper bound",
         "showlegend": false,
         "type": "scatter",
         "x": [
          1,
          3,
          5,
          7,
          9
         ],
         "y": [
          -433.50814093778064,
          97.75766745960046,
          96.58778939800409,
          96.78337637172041,
          95.56713250189695
         ]
        },
        {
         "fill": "tonexty",
         "fillcolor": "rgba(234, 67, 53, 0.2)",
         "line": {
          "width": 0
         },
         "marker": {
          "color": "#EA4335"
         },
         "mode": "lines",
         "name": "Lower bound",
         "showlegend": false,
         "type": "scatter",
         "x": [
          1,
          3,
          5,
          7,
          9
         ],
         "y": [
          -463.8553693731615,
          93.19044756741881,
          93.03034888123808,
          94.06003239075184,
          91.12560683780806
         ]
        },
        {
         "marker": {
          "color": "#FBBC04"
         },
         "mode": "lines+markers",
         "name": "JSD, SD=4",
         "type": "scatter",
         "x": [
          1,
          3,
          5,
          7,
          9
         ],
         "y": [
          -328.07042140765503,
          96.36643989558827,
          96.29191291246477,
          96.23349168426603,
          93.77623755784117
         ]
        },
        {
         "line": {
          "width": 0
         },
         "marker": {
          "color": "#FBBC04"
         },
         "mode": "lines",
         "name": "Upper bound",
         "showlegend": false,
         "type": "scatter",
         "x": [
          1,
          3,
          5,
          7,
          9
         ],
         "y": [
          -307.06268133049184,
          97.05386143990954,
          97.0564072824001,
          96.98572556666639,
          97.9760794180329
         ]
        },
        {
         "fill": "tonexty",
         "fillcolor": "rgba(251, 188, 4, 0.2)",
         "line": {
          "width": 0
         },
         "marker": {
          "color": "#FBBC04"
         },
         "mode": "lines",
         "name": "Lower bound",
         "showlegend": false,
         "type": "scatter",
         "x": [
          1,
          3,
          5,
          7,
          9
         ],
         "y": [
          -349.0781614848182,
          95.679018351267,
          95.52741854252943,
          95.48125780186567,
          89.57639569764945
         ]
        },
        {
         "marker": {
          "color": "#34A853"
         },
         "mode": "lines+markers",
         "name": "CCE, SD=100",
         "type": "scatter",
         "x": [
          1,
          3,
          5,
          7,
          9,
          100
         ],
         "y": [
          -100.03378172263638,
          -5.234606235208023,
          -5.113966909875944,
          12.844062054921164,
          -16.887221678847773,
          -80.44800319312284
         ]
        },
        {
         "line": {
          "width": 0
         },
         "marker": {
          "color": "#34A853"
         },
         "mode": "lines",
         "name": "Upper bound",
         "showlegend": false,
         "type": "scatter",
         "x": [
          1,
          3,
          5,
          7,
          9,
          100
         ],
         "y": [
          -68.24313929728784,
          75.52036996880648,
          86.12229895127491,
          98.46587261409701,
          80.62022953433461,
          -3.957040039850412
         ]
        },
        {
         "fill": "tonexty",
         "fillcolor": "rgba(52, 168, 83, 0.2)",
         "line": {
          "width": 0
         },
         "marker": {
          "color": "#34A853"
         },
         "mode": "lines",
         "name": "Lower bound",
         "showlegend": false,
         "type": "scatter",
         "x": [
          1,
          3,
          5,
          7,
          9,
          100
         ],
         "y": [
          -131.82442414798493,
          -85.98958243922252,
          -96.3502327710268,
          -72.77774850425467,
          -114.39467289203017,
          -156.93896634639526
         ]
        },
        {
         "marker": {
          "color": "#000000"
         },
         "mode": "lines+markers",
         "name": "JSD, SD=100",
         "type": "scatter",
         "x": [
          1,
          3,
          5,
          7,
          9,
          100
         ],
         "y": [
          -148.9750376384477,
          -149.482117889364,
          -149.4952673403873,
          -149.5247934585343,
          -150.0203018152888,
          -149.31705791589906
         ]
        },
        {
         "line": {
          "width": 0
         },
         "marker": {
          "color": "#000000"
         },
         "mode": "lines",
         "name": "Upper bound",
         "showlegend": false,
         "type": "scatter",
         "x": [
          1,
          3,
          5,
          7,
          9,
          100
         ],
         "y": [
          -147.323776244204,
          -147.6681871665322,
          -147.84171284765986,
          -147.96697739982824,
          -148.67807966825328,
          -147.59162138913214
         ]
        },
        {
         "fill": "tonexty",
         "fillcolor": "rgba(0, 0, 0, 0.2)",
         "line": {
          "width": 0
         },
         "marker": {
          "color": "#000000"
         },
         "mode": "lines",
         "name": "Lower bound",
         "showlegend": false,
         "type": "scatter",
         "x": [
          1,
          3,
          5,
          7,
          9,
          100
         ],
         "y": [
          -150.6262990326914,
          -151.2960486121958,
          -151.14882183311474,
          -151.08260951724037,
          -151.36252396232433,
          -151.04249444266597
         ]
        },
        {
         "marker": {
          "color": "#46BDC6"
         },
         "mode": "lines+markers",
         "name": "JSD(5), SD=100",
         "type": "scatter",
         "x": [
          1,
          3,
          5,
          7,
          9,
          100
         ],
         "y": [
          -15.392521327527572,
          65.79434760639097,
          75.03673343021889,
          73.63358455701487,
          73.28196816952152,
          70.84161153162532
         ]
        },
        {
         "line": {
          "width": 0
         },
         "marker": {
          "color": "#46BDC6"
         },
         "mode": "lines",
         "name": "Upper bound",
         "showlegend": false,
         "type": "scatter",
         "x": [
          1,
          3,
          5,
          7,
          9,
          100
         ],
         "y": [
          -13.60544281382747,
          76.31024081489976,
          76.08276040866457,
          77.6929742125279,
          75.9933553967484,
          77.6383988363865
         ]
        },
        {
         "fill": "tonexty",
         "fillcolor": "rgba(70, 189, 198, 0.2)",
         "line": {
          "width": 0
         },
         "marker": {
          "color": "#46BDC6"
         },
         "mode": "lines",
         "name": "Lower bound",
         "showlegend": false,
         "type": "scatter",
         "x": [
          1,
          3,
          5,
          7,
          9,
          100
         ],
         "y": [
          -17.179599841227674,
          55.278454397882186,
          73.9907064517732,
          69.57419490150184,
          70.57058094229464,
          64.04482422686414
         ]
        }
       ],
       "layout": {
        "height": 600,
        "template": {
         "data": {
          "bar": [
           {
            "error_x": {
             "color": "#2a3f5f"
            },
            "error_y": {
             "color": "#2a3f5f"
            },
            "marker": {
             "line": {
              "color": "#E5ECF6",
              "width": 0.5
             }
            },
            "type": "bar"
           }
          ],
          "barpolar": [
           {
            "marker": {
             "line": {
              "color": "#E5ECF6",
              "width": 0.5
             }
            },
            "type": "barpolar"
           }
          ],
          "carpet": [
           {
            "aaxis": {
             "endlinecolor": "#2a3f5f",
             "gridcolor": "white",
             "linecolor": "white",
             "minorgridcolor": "white",
             "startlinecolor": "#2a3f5f"
            },
            "baxis": {
             "endlinecolor": "#2a3f5f",
             "gridcolor": "white",
             "linecolor": "white",
             "minorgridcolor": "white",
             "startlinecolor": "#2a3f5f"
            },
            "type": "carpet"
           }
          ],
          "choropleth": [
           {
            "colorbar": {
             "outlinewidth": 0,
             "ticks": ""
            },
            "type": "choropleth"
           }
          ],
          "contour": [
           {
            "colorbar": {
             "outlinewidth": 0,
             "ticks": ""
            },
            "colorscale": [
             [
              0,
              "#0d0887"
             ],
             [
              0.1111111111111111,
              "#46039f"
             ],
             [
              0.2222222222222222,
              "#7201a8"
             ],
             [
              0.3333333333333333,
              "#9c179e"
             ],
             [
              0.4444444444444444,
              "#bd3786"
             ],
             [
              0.5555555555555556,
              "#d8576b"
             ],
             [
              0.6666666666666666,
              "#ed7953"
             ],
             [
              0.7777777777777778,
              "#fb9f3a"
             ],
             [
              0.8888888888888888,
              "#fdca26"
             ],
             [
              1,
              "#f0f921"
             ]
            ],
            "type": "contour"
           }
          ],
          "contourcarpet": [
           {
            "colorbar": {
             "outlinewidth": 0,
             "ticks": ""
            },
            "type": "contourcarpet"
           }
          ],
          "heatmap": [
           {
            "colorbar": {
             "outlinewidth": 0,
             "ticks": ""
            },
            "colorscale": [
             [
              0,
              "#0d0887"
             ],
             [
              0.1111111111111111,
              "#46039f"
             ],
             [
              0.2222222222222222,
              "#7201a8"
             ],
             [
              0.3333333333333333,
              "#9c179e"
             ],
             [
              0.4444444444444444,
              "#bd3786"
             ],
             [
              0.5555555555555556,
              "#d8576b"
             ],
             [
              0.6666666666666666,
              "#ed7953"
             ],
             [
              0.7777777777777778,
              "#fb9f3a"
             ],
             [
              0.8888888888888888,
              "#fdca26"
             ],
             [
              1,
              "#f0f921"
             ]
            ],
            "type": "heatmap"
           }
          ],
          "heatmapgl": [
           {
            "colorbar": {
             "outlinewidth": 0,
             "ticks": ""
            },
            "colorscale": [
             [
              0,
              "#0d0887"
             ],
             [
              0.1111111111111111,
              "#46039f"
             ],
             [
              0.2222222222222222,
              "#7201a8"
             ],
             [
              0.3333333333333333,
              "#9c179e"
             ],
             [
              0.4444444444444444,
              "#bd3786"
             ],
             [
              0.5555555555555556,
              "#d8576b"
             ],
             [
              0.6666666666666666,
              "#ed7953"
             ],
             [
              0.7777777777777778,
              "#fb9f3a"
             ],
             [
              0.8888888888888888,
              "#fdca26"
             ],
             [
              1,
              "#f0f921"
             ]
            ],
            "type": "heatmapgl"
           }
          ],
          "histogram": [
           {
            "marker": {
             "colorbar": {
              "outlinewidth": 0,
              "ticks": ""
             }
            },
            "type": "histogram"
           }
          ],
          "histogram2d": [
           {
            "colorbar": {
             "outlinewidth": 0,
             "ticks": ""
            },
            "colorscale": [
             [
              0,
              "#0d0887"
             ],
             [
              0.1111111111111111,
              "#46039f"
             ],
             [
              0.2222222222222222,
              "#7201a8"
             ],
             [
              0.3333333333333333,
              "#9c179e"
             ],
             [
              0.4444444444444444,
              "#bd3786"
             ],
             [
              0.5555555555555556,
              "#d8576b"
             ],
             [
              0.6666666666666666,
              "#ed7953"
             ],
             [
              0.7777777777777778,
              "#fb9f3a"
             ],
             [
              0.8888888888888888,
              "#fdca26"
             ],
             [
              1,
              "#f0f921"
             ]
            ],
            "type": "histogram2d"
           }
          ],
          "histogram2dcontour": [
           {
            "colorbar": {
             "outlinewidth": 0,
             "ticks": ""
            },
            "colorscale": [
             [
              0,
              "#0d0887"
             ],
             [
              0.1111111111111111,
              "#46039f"
             ],
             [
              0.2222222222222222,
              "#7201a8"
             ],
             [
              0.3333333333333333,
              "#9c179e"
             ],
             [
              0.4444444444444444,
              "#bd3786"
             ],
             [
              0.5555555555555556,
              "#d8576b"
             ],
             [
              0.6666666666666666,
              "#ed7953"
             ],
             [
              0.7777777777777778,
              "#fb9f3a"
             ],
             [
              0.8888888888888888,
              "#fdca26"
             ],
             [
              1,
              "#f0f921"
             ]
            ],
            "type": "histogram2dcontour"
           }
          ],
          "mesh3d": [
           {
            "colorbar": {
             "outlinewidth": 0,
             "ticks": ""
            },
            "type": "mesh3d"
           }
          ],
          "parcoords": [
           {
            "line": {
             "colorbar": {
              "outlinewidth": 0,
              "ticks": ""
             }
            },
            "type": "parcoords"
           }
          ],
          "pie": [
           {
            "automargin": true,
            "type": "pie"
           }
          ],
          "scatter": [
           {
            "marker": {
             "colorbar": {
              "outlinewidth": 0,
              "ticks": ""
             }
            },
            "type": "scatter"
           }
          ],
          "scatter3d": [
           {
            "line": {
             "colorbar": {
              "outlinewidth": 0,
              "ticks": ""
             }
            },
            "marker": {
             "colorbar": {
              "outlinewidth": 0,
              "ticks": ""
             }
            },
            "type": "scatter3d"
           }
          ],
          "scattercarpet": [
           {
            "marker": {
             "colorbar": {
              "outlinewidth": 0,
              "ticks": ""
             }
            },
            "type": "scattercarpet"
           }
          ],
          "scattergeo": [
           {
            "marker": {
             "colorbar": {
              "outlinewidth": 0,
              "ticks": ""
             }
            },
            "type": "scattergeo"
           }
          ],
          "scattergl": [
           {
            "marker": {
             "colorbar": {
              "outlinewidth": 0,
              "ticks": ""
             }
            },
            "type": "scattergl"
           }
          ],
          "scattermapbox": [
           {
            "marker": {
             "colorbar": {
              "outlinewidth": 0,
              "ticks": ""
             }
            },
            "type": "scattermapbox"
           }
          ],
          "scatterpolar": [
           {
            "marker": {
             "colorbar": {
              "outlinewidth": 0,
              "ticks": ""
             }
            },
            "type": "scatterpolar"
           }
          ],
          "scatterpolargl": [
           {
            "marker": {
             "colorbar": {
              "outlinewidth": 0,
              "ticks": ""
             }
            },
            "type": "scatterpolargl"
           }
          ],
          "scatterternary": [
           {
            "marker": {
             "colorbar": {
              "outlinewidth": 0,
              "ticks": ""
             }
            },
            "type": "scatterternary"
           }
          ],
          "surface": [
           {
            "colorbar": {
             "outlinewidth": 0,
             "ticks": ""
            },
            "colorscale": [
             [
              0,
              "#0d0887"
             ],
             [
              0.1111111111111111,
              "#46039f"
             ],
             [
              0.2222222222222222,
              "#7201a8"
             ],
             [
              0.3333333333333333,
              "#9c179e"
             ],
             [
              0.4444444444444444,
              "#bd3786"
             ],
             [
              0.5555555555555556,
              "#d8576b"
             ],
             [
              0.6666666666666666,
              "#ed7953"
             ],
             [
              0.7777777777777778,
              "#fb9f3a"
             ],
             [
              0.8888888888888888,
              "#fdca26"
             ],
             [
              1,
              "#f0f921"
             ]
            ],
            "type": "surface"
           }
          ],
          "table": [
           {
            "cells": {
             "fill": {
              "color": "#EBF0F8"
             },
             "line": {
              "color": "white"
             }
            },
            "header": {
             "fill": {
              "color": "#C8D4E3"
             },
             "line": {
              "color": "white"
             }
            },
            "type": "table"
           }
          ]
         },
         "layout": {
          "annotationdefaults": {
           "arrowcolor": "#2a3f5f",
           "arrowhead": 0,
           "arrowwidth": 1
          },
          "autotypenumbers": "strict",
          "coloraxis": {
           "colorbar": {
            "outlinewidth": 0,
            "ticks": ""
           }
          },
          "colorscale": {
           "diverging": [
            [
             0,
             "#8e0152"
            ],
            [
             0.1,
             "#c51b7d"
            ],
            [
             0.2,
             "#de77ae"
            ],
            [
             0.3,
             "#f1b6da"
            ],
            [
             0.4,
             "#fde0ef"
            ],
            [
             0.5,
             "#f7f7f7"
            ],
            [
             0.6,
             "#e6f5d0"
            ],
            [
             0.7,
             "#b8e186"
            ],
            [
             0.8,
             "#7fbc41"
            ],
            [
             0.9,
             "#4d9221"
            ],
            [
             1,
             "#276419"
            ]
           ],
           "sequential": [
            [
             0,
             "#0d0887"
            ],
            [
             0.1111111111111111,
             "#46039f"
            ],
            [
             0.2222222222222222,
             "#7201a8"
            ],
            [
             0.3333333333333333,
             "#9c179e"
            ],
            [
             0.4444444444444444,
             "#bd3786"
            ],
            [
             0.5555555555555556,
             "#d8576b"
            ],
            [
             0.6666666666666666,
             "#ed7953"
            ],
            [
             0.7777777777777778,
             "#fb9f3a"
            ],
            [
             0.8888888888888888,
             "#fdca26"
            ],
            [
             1,
             "#f0f921"
            ]
           ],
           "sequentialminus": [
            [
             0,
             "#0d0887"
            ],
            [
             0.1111111111111111,
             "#46039f"
            ],
            [
             0.2222222222222222,
             "#7201a8"
            ],
            [
             0.3333333333333333,
             "#9c179e"
            ],
            [
             0.4444444444444444,
             "#bd3786"
            ],
            [
             0.5555555555555556,
             "#d8576b"
            ],
            [
             0.6666666666666666,
             "#ed7953"
            ],
            [
             0.7777777777777778,
             "#fb9f3a"
            ],
            [
             0.8888888888888888,
             "#fdca26"
            ],
            [
             1,
             "#f0f921"
            ]
           ]
          },
          "colorway": [
           "#636efa",
           "#EF553B",
           "#00cc96",
           "#ab63fa",
           "#FFA15A",
           "#19d3f3",
           "#FF6692",
           "#B6E880",
           "#FF97FF",
           "#FECB52"
          ],
          "font": {
           "color": "#2a3f5f"
          },
          "geo": {
           "bgcolor": "white",
           "lakecolor": "white",
           "landcolor": "#E5ECF6",
           "showlakes": true,
           "showland": true,
           "subunitcolor": "white"
          },
          "hoverlabel": {
           "align": "left"
          },
          "hovermode": "closest",
          "mapbox": {
           "style": "light"
          },
          "paper_bgcolor": "white",
          "plot_bgcolor": "#E5ECF6",
          "polar": {
           "angularaxis": {
            "gridcolor": "white",
            "linecolor": "white",
            "ticks": ""
           },
           "bgcolor": "#E5ECF6",
           "radialaxis": {
            "gridcolor": "white",
            "linecolor": "white",
            "ticks": ""
           }
          },
          "scene": {
           "xaxis": {
            "backgroundcolor": "#E5ECF6",
            "gridcolor": "white",
            "gridwidth": 2,
            "linecolor": "white",
            "showbackground": true,
            "ticks": "",
            "zerolinecolor": "white"
           },
           "yaxis": {
            "backgroundcolor": "#E5ECF6",
            "gridcolor": "white",
            "gridwidth": 2,
            "linecolor": "white",
            "showbackground": true,
            "ticks": "",
            "zerolinecolor": "white"
           },
           "zaxis": {
            "backgroundcolor": "#E5ECF6",
            "gridcolor": "white",
            "gridwidth": 2,
            "linecolor": "white",
            "showbackground": true,
            "ticks": "",
            "zerolinecolor": "white"
           }
          },
          "shapedefaults": {
           "line": {
            "color": "#2a3f5f"
           }
          },
          "ternary": {
           "aaxis": {
            "gridcolor": "white",
            "linecolor": "white",
            "ticks": ""
           },
           "baxis": {
            "gridcolor": "white",
            "linecolor": "white",
            "ticks": ""
           },
           "bgcolor": "#E5ECF6",
           "caxis": {
            "gridcolor": "white",
            "linecolor": "white",
            "ticks": ""
           }
          },
          "title": {
           "x": 0.05
          },
          "xaxis": {
           "automargin": true,
           "gridcolor": "white",
           "linecolor": "white",
           "ticks": "",
           "title": {
            "standoff": 15
           },
           "zerolinecolor": "white",
           "zerolinewidth": 2
          },
          "yaxis": {
           "automargin": true,
           "gridcolor": "white",
           "linecolor": "white",
           "ticks": "",
           "title": {
            "standoff": 15
           },
           "zerolinecolor": "white",
           "zerolinewidth": 2
          }
         }
        },
        "title": {
         "text": "CNN_kernel_size"
        },
        "width": 1000,
        "yaxis": {
         "dtick": 25,
         "range": [
          -175,
          100
         ],
         "tick0": 0
        }
       }
      }
     },
     "metadata": {}
    },
    {
     "output_type": "display_data",
     "data": {
      "text/plain": "<Figure size 432x288 with 0 Axes>"
     },
     "metadata": {}
    }
   ],
   "source": [
    "plot_vals(4)\n",
    "plt.savefig(\"pictures/results_fig_4.svg\")"
   ]
  },
  {
   "cell_type": "code",
   "execution_count": 137,
   "id": "reflected-security",
   "metadata": {},
   "outputs": [
    {
     "output_type": "display_data",
     "data": {
      "application/vnd.plotly.v1+json": {
       "config": {
        "plotlyServerURL": "https://plot.ly"
       },
       "data": [
        {
         "marker": {
          "color": "#4285F4"
         },
         "mode": "lines+markers",
         "name": "CCEu, SD=4",
         "type": "scatter",
         "x": [
          16,
          32,
          64,
          128
         ],
         "y": [
          -6.877835950515509,
          -3.9634122816662996,
          -4.072261849457064,
          -2.958544169318375
         ]
        },
        {
         "line": {
          "width": 0
         },
         "marker": {
          "color": "#4285F4"
         },
         "mode": "lines",
         "name": "Upper bound",
         "showlegend": false,
         "type": "scatter",
         "x": [
          16,
          32,
          64,
          128
         ],
         "y": [
          -3.6292444484353203,
          -0.511912956263004,
          -1.2917488809666198,
          -0.5132268970100924
         ]
        },
        {
         "fill": "tonexty",
         "fillcolor": "rgba(66, 133, 244, 0.2)",
         "line": {
          "width": 0
         },
         "marker": {
          "color": "#4285F4"
         },
         "mode": "lines",
         "name": "Lower bound",
         "showlegend": false,
         "type": "scatter",
         "x": [
          16,
          32,
          64,
          128
         ],
         "y": [
          -10.126427452595697,
          -7.414911607069595,
          -6.852774817947508,
          -5.403861441626658
         ]
        },
        {
         "marker": {
          "color": "#EA4335"
         },
         "mode": "lines+markers",
         "name": "CCE, SD=4",
         "type": "scatter",
         "x": [
          16,
          32,
          64,
          128
         ],
         "y": [
          94.51084450376298,
          93.3911357668409,
          95.47405751350963,
          96.17684213526178
         ]
        },
        {
         "line": {
          "width": 0
         },
         "marker": {
          "color": "#EA4335"
         },
         "mode": "lines",
         "name": "Upper bound",
         "showlegend": false,
         "type": "scatter",
         "x": [
          16,
          32,
          64,
          128
         ],
         "y": [
          96.1204142713432,
          96.79337252786434,
          97.75766745960046,
          97.33961177736393
         ]
        },
        {
         "fill": "tonexty",
         "fillcolor": "rgba(234, 67, 53, 0.2)",
         "line": {
          "width": 0
         },
         "marker": {
          "color": "#EA4335"
         },
         "mode": "lines",
         "name": "Lower bound",
         "showlegend": false,
         "type": "scatter",
         "x": [
          16,
          32,
          64,
          128
         ],
         "y": [
          92.90127473618277,
          89.98889900581747,
          93.19044756741881,
          95.01407249315963
         ]
        },
        {
         "marker": {
          "color": "#FBBC04"
         },
         "mode": "lines+markers",
         "name": "JSD, SD=4",
         "type": "scatter",
         "x": [
          16,
          32,
          64,
          128
         ],
         "y": [
          95.16353496530635,
          96.32743107191303,
          96.36643989558827,
          96.40305182809465
         ]
        },
        {
         "line": {
          "width": 0
         },
         "marker": {
          "color": "#FBBC04"
         },
         "mode": "lines",
         "name": "Upper bound",
         "showlegend": false,
         "type": "scatter",
         "x": [
          16,
          32,
          64,
          128
         ],
         "y": [
          96.95192847839552,
          97.35299245889782,
          97.05386143990954,
          98.34383463503848
         ]
        },
        {
         "fill": "tonexty",
         "fillcolor": "rgba(251, 188, 4, 0.2)",
         "line": {
          "width": 0
         },
         "marker": {
          "color": "#FBBC04"
         },
         "mode": "lines",
         "name": "Lower bound",
         "showlegend": false,
         "type": "scatter",
         "x": [
          16,
          32,
          64,
          128
         ],
         "y": [
          93.37514145221719,
          95.30186968492823,
          95.679018351267,
          94.46226902115082
         ]
        },
        {
         "marker": {
          "color": "#34A853"
         },
         "mode": "lines+markers",
         "name": "CCE, SD=100",
         "type": "scatter",
         "x": [
          16,
          32,
          64,
          128
         ],
         "y": [
          7.785049366544771,
          -66.19854098098683,
          -5.234606235208023,
          -1.435682099235062
         ]
        },
        {
         "line": {
          "width": 0
         },
         "marker": {
          "color": "#34A853"
         },
         "mode": "lines",
         "name": "Upper bound",
         "showlegend": false,
         "type": "scatter",
         "x": [
          16,
          32,
          64,
          128
         ],
         "y": [
          84.29080127588608,
          28.456069632228804,
          75.52036996880648,
          88.21577699236067
         ]
        },
        {
         "fill": "tonexty",
         "fillcolor": "rgba(52, 168, 83, 0.2)",
         "line": {
          "width": 0
         },
         "marker": {
          "color": "#34A853"
         },
         "mode": "lines",
         "name": "Lower bound",
         "showlegend": false,
         "type": "scatter",
         "x": [
          16,
          32,
          64,
          128
         ],
         "y": [
          -68.72070254279654,
          -160.85315159420247,
          -85.98958243922252,
          -91.0871411908308
         ]
        },
        {
         "marker": {
          "color": "#000000"
         },
         "mode": "lines+markers",
         "name": "JSD, SD=100",
         "type": "scatter",
         "x": [
          16,
          32,
          64,
          128
         ],
         "y": [
          -148.99997092784756,
          -149.09895574770184,
          -149.482117889364,
          -148.37361124367888
         ]
        },
        {
         "line": {
          "width": 0
         },
         "marker": {
          "color": "#000000"
         },
         "mode": "lines",
         "name": "Upper bound",
         "showlegend": false,
         "type": "scatter",
         "x": [
          16,
          32,
          64,
          128
         ],
         "y": [
          -147.58175668170134,
          -147.38946583630795,
          -147.6681871665322,
          -146.67179661760517
         ]
        },
        {
         "fill": "tonexty",
         "fillcolor": "rgba(0, 0, 0, 0.2)",
         "line": {
          "width": 0
         },
         "marker": {
          "color": "#000000"
         },
         "mode": "lines",
         "name": "Lower bound",
         "showlegend": false,
         "type": "scatter",
         "x": [
          16,
          32,
          64,
          128
         ],
         "y": [
          -150.41818517399378,
          -150.80844565909572,
          -151.2960486121958,
          -150.0754258697526
         ]
        },
        {
         "marker": {
          "color": "#46BDC6"
         },
         "mode": "lines+markers",
         "name": "JSD(5), SD=100",
         "type": "scatter",
         "x": [
          16,
          32,
          64,
          128
         ],
         "y": [
          71.32782734617061,
          73.938986610604,
          65.79434760639097,
          71.99959022929109
         ]
        },
        {
         "line": {
          "width": 0
         },
         "marker": {
          "color": "#46BDC6"
         },
         "mode": "lines",
         "name": "Upper bound",
         "showlegend": false,
         "type": "scatter",
         "x": [
          16,
          32,
          64,
          128
         ],
         "y": [
          76.1994596347371,
          76.5514445509969,
          76.31024081489976,
          77.63192215380019
         ]
        },
        {
         "fill": "tonexty",
         "fillcolor": "rgba(70, 189, 198, 0.2)",
         "line": {
          "width": 0
         },
         "marker": {
          "color": "#46BDC6"
         },
         "mode": "lines",
         "name": "Lower bound",
         "showlegend": false,
         "type": "scatter",
         "x": [
          16,
          32,
          64,
          128
         ],
         "y": [
          66.45619505760412,
          71.3265286702111,
          55.278454397882186,
          66.36725830478198
         ]
        }
       ],
       "layout": {
        "height": 600,
        "template": {
         "data": {
          "bar": [
           {
            "error_x": {
             "color": "#2a3f5f"
            },
            "error_y": {
             "color": "#2a3f5f"
            },
            "marker": {
             "line": {
              "color": "#E5ECF6",
              "width": 0.5
             }
            },
            "type": "bar"
           }
          ],
          "barpolar": [
           {
            "marker": {
             "line": {
              "color": "#E5ECF6",
              "width": 0.5
             }
            },
            "type": "barpolar"
           }
          ],
          "carpet": [
           {
            "aaxis": {
             "endlinecolor": "#2a3f5f",
             "gridcolor": "white",
             "linecolor": "white",
             "minorgridcolor": "white",
             "startlinecolor": "#2a3f5f"
            },
            "baxis": {
             "endlinecolor": "#2a3f5f",
             "gridcolor": "white",
             "linecolor": "white",
             "minorgridcolor": "white",
             "startlinecolor": "#2a3f5f"
            },
            "type": "carpet"
           }
          ],
          "choropleth": [
           {
            "colorbar": {
             "outlinewidth": 0,
             "ticks": ""
            },
            "type": "choropleth"
           }
          ],
          "contour": [
           {
            "colorbar": {
             "outlinewidth": 0,
             "ticks": ""
            },
            "colorscale": [
             [
              0,
              "#0d0887"
             ],
             [
              0.1111111111111111,
              "#46039f"
             ],
             [
              0.2222222222222222,
              "#7201a8"
             ],
             [
              0.3333333333333333,
              "#9c179e"
             ],
             [
              0.4444444444444444,
              "#bd3786"
             ],
             [
              0.5555555555555556,
              "#d8576b"
             ],
             [
              0.6666666666666666,
              "#ed7953"
             ],
             [
              0.7777777777777778,
              "#fb9f3a"
             ],
             [
              0.8888888888888888,
              "#fdca26"
             ],
             [
              1,
              "#f0f921"
             ]
            ],
            "type": "contour"
           }
          ],
          "contourcarpet": [
           {
            "colorbar": {
             "outlinewidth": 0,
             "ticks": ""
            },
            "type": "contourcarpet"
           }
          ],
          "heatmap": [
           {
            "colorbar": {
             "outlinewidth": 0,
             "ticks": ""
            },
            "colorscale": [
             [
              0,
              "#0d0887"
             ],
             [
              0.1111111111111111,
              "#46039f"
             ],
             [
              0.2222222222222222,
              "#7201a8"
             ],
             [
              0.3333333333333333,
              "#9c179e"
             ],
             [
              0.4444444444444444,
              "#bd3786"
             ],
             [
              0.5555555555555556,
              "#d8576b"
             ],
             [
              0.6666666666666666,
              "#ed7953"
             ],
             [
              0.7777777777777778,
              "#fb9f3a"
             ],
             [
              0.8888888888888888,
              "#fdca26"
             ],
             [
              1,
              "#f0f921"
             ]
            ],
            "type": "heatmap"
           }
          ],
          "heatmapgl": [
           {
            "colorbar": {
             "outlinewidth": 0,
             "ticks": ""
            },
            "colorscale": [
             [
              0,
              "#0d0887"
             ],
             [
              0.1111111111111111,
              "#46039f"
             ],
             [
              0.2222222222222222,
              "#7201a8"
             ],
             [
              0.3333333333333333,
              "#9c179e"
             ],
             [
              0.4444444444444444,
              "#bd3786"
             ],
             [
              0.5555555555555556,
              "#d8576b"
             ],
             [
              0.6666666666666666,
              "#ed7953"
             ],
             [
              0.7777777777777778,
              "#fb9f3a"
             ],
             [
              0.8888888888888888,
              "#fdca26"
             ],
             [
              1,
              "#f0f921"
             ]
            ],
            "type": "heatmapgl"
           }
          ],
          "histogram": [
           {
            "marker": {
             "colorbar": {
              "outlinewidth": 0,
              "ticks": ""
             }
            },
            "type": "histogram"
           }
          ],
          "histogram2d": [
           {
            "colorbar": {
             "outlinewidth": 0,
             "ticks": ""
            },
            "colorscale": [
             [
              0,
              "#0d0887"
             ],
             [
              0.1111111111111111,
              "#46039f"
             ],
             [
              0.2222222222222222,
              "#7201a8"
             ],
             [
              0.3333333333333333,
              "#9c179e"
             ],
             [
              0.4444444444444444,
              "#bd3786"
             ],
             [
              0.5555555555555556,
              "#d8576b"
             ],
             [
              0.6666666666666666,
              "#ed7953"
             ],
             [
              0.7777777777777778,
              "#fb9f3a"
             ],
             [
              0.8888888888888888,
              "#fdca26"
             ],
             [
              1,
              "#f0f921"
             ]
            ],
            "type": "histogram2d"
           }
          ],
          "histogram2dcontour": [
           {
            "colorbar": {
             "outlinewidth": 0,
             "ticks": ""
            },
            "colorscale": [
             [
              0,
              "#0d0887"
             ],
             [
              0.1111111111111111,
              "#46039f"
             ],
             [
              0.2222222222222222,
              "#7201a8"
             ],
             [
              0.3333333333333333,
              "#9c179e"
             ],
             [
              0.4444444444444444,
              "#bd3786"
             ],
             [
              0.5555555555555556,
              "#d8576b"
             ],
             [
              0.6666666666666666,
              "#ed7953"
             ],
             [
              0.7777777777777778,
              "#fb9f3a"
             ],
             [
              0.8888888888888888,
              "#fdca26"
             ],
             [
              1,
              "#f0f921"
             ]
            ],
            "type": "histogram2dcontour"
           }
          ],
          "mesh3d": [
           {
            "colorbar": {
             "outlinewidth": 0,
             "ticks": ""
            },
            "type": "mesh3d"
           }
          ],
          "parcoords": [
           {
            "line": {
             "colorbar": {
              "outlinewidth": 0,
              "ticks": ""
             }
            },
            "type": "parcoords"
           }
          ],
          "pie": [
           {
            "automargin": true,
            "type": "pie"
           }
          ],
          "scatter": [
           {
            "marker": {
             "colorbar": {
              "outlinewidth": 0,
              "ticks": ""
             }
            },
            "type": "scatter"
           }
          ],
          "scatter3d": [
           {
            "line": {
             "colorbar": {
              "outlinewidth": 0,
              "ticks": ""
             }
            },
            "marker": {
             "colorbar": {
              "outlinewidth": 0,
              "ticks": ""
             }
            },
            "type": "scatter3d"
           }
          ],
          "scattercarpet": [
           {
            "marker": {
             "colorbar": {
              "outlinewidth": 0,
              "ticks": ""
             }
            },
            "type": "scattercarpet"
           }
          ],
          "scattergeo": [
           {
            "marker": {
             "colorbar": {
              "outlinewidth": 0,
              "ticks": ""
             }
            },
            "type": "scattergeo"
           }
          ],
          "scattergl": [
           {
            "marker": {
             "colorbar": {
              "outlinewidth": 0,
              "ticks": ""
             }
            },
            "type": "scattergl"
           }
          ],
          "scattermapbox": [
           {
            "marker": {
             "colorbar": {
              "outlinewidth": 0,
              "ticks": ""
             }
            },
            "type": "scattermapbox"
           }
          ],
          "scatterpolar": [
           {
            "marker": {
             "colorbar": {
              "outlinewidth": 0,
              "ticks": ""
             }
            },
            "type": "scatterpolar"
           }
          ],
          "scatterpolargl": [
           {
            "marker": {
             "colorbar": {
              "outlinewidth": 0,
              "ticks": ""
             }
            },
            "type": "scatterpolargl"
           }
          ],
          "scatterternary": [
           {
            "marker": {
             "colorbar": {
              "outlinewidth": 0,
              "ticks": ""
             }
            },
            "type": "scatterternary"
           }
          ],
          "surface": [
           {
            "colorbar": {
             "outlinewidth": 0,
             "ticks": ""
            },
            "colorscale": [
             [
              0,
              "#0d0887"
             ],
             [
              0.1111111111111111,
              "#46039f"
             ],
             [
              0.2222222222222222,
              "#7201a8"
             ],
             [
              0.3333333333333333,
              "#9c179e"
             ],
             [
              0.4444444444444444,
              "#bd3786"
             ],
             [
              0.5555555555555556,
              "#d8576b"
             ],
             [
              0.6666666666666666,
              "#ed7953"
             ],
             [
              0.7777777777777778,
              "#fb9f3a"
             ],
             [
              0.8888888888888888,
              "#fdca26"
             ],
             [
              1,
              "#f0f921"
             ]
            ],
            "type": "surface"
           }
          ],
          "table": [
           {
            "cells": {
             "fill": {
              "color": "#EBF0F8"
             },
             "line": {
              "color": "white"
             }
            },
            "header": {
             "fill": {
              "color": "#C8D4E3"
             },
             "line": {
              "color": "white"
             }
            },
            "type": "table"
           }
          ]
         },
         "layout": {
          "annotationdefaults": {
           "arrowcolor": "#2a3f5f",
           "arrowhead": 0,
           "arrowwidth": 1
          },
          "autotypenumbers": "strict",
          "coloraxis": {
           "colorbar": {
            "outlinewidth": 0,
            "ticks": ""
           }
          },
          "colorscale": {
           "diverging": [
            [
             0,
             "#8e0152"
            ],
            [
             0.1,
             "#c51b7d"
            ],
            [
             0.2,
             "#de77ae"
            ],
            [
             0.3,
             "#f1b6da"
            ],
            [
             0.4,
             "#fde0ef"
            ],
            [
             0.5,
             "#f7f7f7"
            ],
            [
             0.6,
             "#e6f5d0"
            ],
            [
             0.7,
             "#b8e186"
            ],
            [
             0.8,
             "#7fbc41"
            ],
            [
             0.9,
             "#4d9221"
            ],
            [
             1,
             "#276419"
            ]
           ],
           "sequential": [
            [
             0,
             "#0d0887"
            ],
            [
             0.1111111111111111,
             "#46039f"
            ],
            [
             0.2222222222222222,
             "#7201a8"
            ],
            [
             0.3333333333333333,
             "#9c179e"
            ],
            [
             0.4444444444444444,
             "#bd3786"
            ],
            [
             0.5555555555555556,
             "#d8576b"
            ],
            [
             0.6666666666666666,
             "#ed7953"
            ],
            [
             0.7777777777777778,
             "#fb9f3a"
            ],
            [
             0.8888888888888888,
             "#fdca26"
            ],
            [
             1,
             "#f0f921"
            ]
           ],
           "sequentialminus": [
            [
             0,
             "#0d0887"
            ],
            [
             0.1111111111111111,
             "#46039f"
            ],
            [
             0.2222222222222222,
             "#7201a8"
            ],
            [
             0.3333333333333333,
             "#9c179e"
            ],
            [
             0.4444444444444444,
             "#bd3786"
            ],
            [
             0.5555555555555556,
             "#d8576b"
            ],
            [
             0.6666666666666666,
             "#ed7953"
            ],
            [
             0.7777777777777778,
             "#fb9f3a"
            ],
            [
             0.8888888888888888,
             "#fdca26"
            ],
            [
             1,
             "#f0f921"
            ]
           ]
          },
          "colorway": [
           "#636efa",
           "#EF553B",
           "#00cc96",
           "#ab63fa",
           "#FFA15A",
           "#19d3f3",
           "#FF6692",
           "#B6E880",
           "#FF97FF",
           "#FECB52"
          ],
          "font": {
           "color": "#2a3f5f"
          },
          "geo": {
           "bgcolor": "white",
           "lakecolor": "white",
           "landcolor": "#E5ECF6",
           "showlakes": true,
           "showland": true,
           "subunitcolor": "white"
          },
          "hoverlabel": {
           "align": "left"
          },
          "hovermode": "closest",
          "mapbox": {
           "style": "light"
          },
          "paper_bgcolor": "white",
          "plot_bgcolor": "#E5ECF6",
          "polar": {
           "angularaxis": {
            "gridcolor": "white",
            "linecolor": "white",
            "ticks": ""
           },
           "bgcolor": "#E5ECF6",
           "radialaxis": {
            "gridcolor": "white",
            "linecolor": "white",
            "ticks": ""
           }
          },
          "scene": {
           "xaxis": {
            "backgroundcolor": "#E5ECF6",
            "gridcolor": "white",
            "gridwidth": 2,
            "linecolor": "white",
            "showbackground": true,
            "ticks": "",
            "zerolinecolor": "white"
           },
           "yaxis": {
            "backgroundcolor": "#E5ECF6",
            "gridcolor": "white",
            "gridwidth": 2,
            "linecolor": "white",
            "showbackground": true,
            "ticks": "",
            "zerolinecolor": "white"
           },
           "zaxis": {
            "backgroundcolor": "#E5ECF6",
            "gridcolor": "white",
            "gridwidth": 2,
            "linecolor": "white",
            "showbackground": true,
            "ticks": "",
            "zerolinecolor": "white"
           }
          },
          "shapedefaults": {
           "line": {
            "color": "#2a3f5f"
           }
          },
          "ternary": {
           "aaxis": {
            "gridcolor": "white",
            "linecolor": "white",
            "ticks": ""
           },
           "baxis": {
            "gridcolor": "white",
            "linecolor": "white",
            "ticks": ""
           },
           "bgcolor": "#E5ECF6",
           "caxis": {
            "gridcolor": "white",
            "linecolor": "white",
            "ticks": ""
           }
          },
          "title": {
           "x": 0.05
          },
          "xaxis": {
           "automargin": true,
           "gridcolor": "white",
           "linecolor": "white",
           "ticks": "",
           "title": {
            "standoff": 15
           },
           "zerolinecolor": "white",
           "zerolinewidth": 2
          },
          "yaxis": {
           "automargin": true,
           "gridcolor": "white",
           "linecolor": "white",
           "ticks": "",
           "title": {
            "standoff": 15
           },
           "zerolinecolor": "white",
           "zerolinewidth": 2
          }
         }
        },
        "title": {
         "text": "CNN_filters"
        },
        "width": 1000,
        "yaxis": {
         "dtick": 25,
         "range": [
          -175,
          100
         ],
         "tick0": 0
        }
       }
      }
     },
     "metadata": {}
    },
    {
     "output_type": "display_data",
     "data": {
      "text/plain": "<Figure size 432x288 with 0 Axes>"
     },
     "metadata": {}
    }
   ],
   "source": [
    "plot_vals(5)\n",
    "plt.savefig(\"pictures/results_fig_5.svg\")"
   ]
  },
  {
   "cell_type": "code",
   "execution_count": 138,
   "id": "gentle-cowboy",
   "metadata": {},
   "outputs": [
    {
     "output_type": "display_data",
     "data": {
      "application/vnd.plotly.v1+json": {
       "config": {
        "plotlyServerURL": "https://plot.ly"
       },
       "data": [
        {
         "error_y": {
          "array": [
           3.357203883864563,
           5.263387941162869,
           3.5008397561038436,
           8.221700361564746,
           3.3562257228765655
          ]
         },
         "marker": {
          "color": "#4285F4"
         },
         "name": "CCEu, SD=4",
         "type": "bar",
         "x": [
          "",
          "L2: 0.01",
          "L2: 10^-4",
          "L1: 0.01",
          "L1: 10^-4"
         ],
         "y": [
          -9.073558317399192,
          -14.68680107295927,
          -10.11713451903249,
          -26.412051246000413,
          -7.697064952997954
         ]
        },
        {
         "error_y": {
          "array": [
           2.7877219101837225,
           1.9931743439204237,
           1.4019104277526597,
           7.033549861849183,
           0.786414443380033
          ]
         },
         "marker": {
          "color": "#EA4335"
         },
         "name": "CCE, SD=4",
         "type": "bar",
         "x": [
          "",
          "L2: 0.01",
          "L2: 10^-4",
          "L1: 0.01",
          "L1: 10^-4"
         ],
         "y": [
          93.0332506542994,
          70.35314213456063,
          87.57732149232497,
          47.915780750667956,
          88.05732899071411
         ]
        },
        {
         "error_y": {
          "array": [
           1.114086847989803,
           1.628896478454796,
           0.7138487368703146,
           4.550484214878791,
           0.594628664156236
          ]
         },
         "marker": {
          "color": "#FBBC04"
         },
         "name": "JSD, SD=4",
         "type": "bar",
         "x": [
          "",
          "L2: 0.01",
          "L2: 10^-4",
          "L1: 0.01",
          "L1: 10^-4"
         ],
         "y": [
          95.61616153156402,
          63.916544016294324,
          87.75787544867072,
          32.37789699868377,
          85.848544245575
         ]
        },
        {
         "error_y": {
          "array": [
           102.50397235152852,
           31.495821686753025,
           49.04119520502362,
           27.375789022515832,
           55.36462799495003
          ]
         },
         "marker": {
          "color": "#34A853"
         },
         "name": "CCE, SD=100",
         "type": "bar",
         "x": [
          "",
          "L2: 0.01",
          "L2: 10^-4",
          "L1: 0.01",
          "L1: 10^-4"
         ],
         "y": [
          -43.56191518960144,
          -36.03384031082169,
          -11.553587540473213,
          -102.93121484062542,
          17.187885480430243
         ]
        },
        {
         "error_y": {
          "array": [
           1.7777270891153345,
           24.45084693160893,
           84.02327409484778,
           0.8043274880345642,
           98.31000478758676
          ]
         },
         "marker": {
          "color": "#000000"
         },
         "name": "JSD, SD=100",
         "type": "bar",
         "x": [
          "",
          "L2: 0.01",
          "L2: 10^-4",
          "L1: 0.01",
          "L1: 10^-4"
         ],
         "y": [
          -149.71650920813715,
          -125.63307294155058,
          5.652762195137372,
          -145.6934527204035,
          -66.0151459317986
         ]
        },
        {
         "error_y": {
          "array": [
           7.768719245240054,
           12.096185745230466,
           7.789951018497356,
           16.151622320846656,
           5.038332112621603
          ]
         },
         "marker": {
          "color": "#46BDC6"
         },
         "name": "JSD(5), SD=100",
         "type": "bar",
         "x": [
          "",
          "L2: 0.01",
          "L2: 10^-4",
          "L1: 0.01",
          "L1: 10^-4"
         ],
         "y": [
          67.82183728829347,
          61.93999842834823,
          69.57035722976285,
          -103.3566016485693,
          70.38914939491806
         ]
        }
       ],
       "layout": {
        "height": 600,
        "template": {
         "data": {
          "bar": [
           {
            "error_x": {
             "color": "#2a3f5f"
            },
            "error_y": {
             "color": "#2a3f5f"
            },
            "marker": {
             "line": {
              "color": "#E5ECF6",
              "width": 0.5
             }
            },
            "type": "bar"
           }
          ],
          "barpolar": [
           {
            "marker": {
             "line": {
              "color": "#E5ECF6",
              "width": 0.5
             }
            },
            "type": "barpolar"
           }
          ],
          "carpet": [
           {
            "aaxis": {
             "endlinecolor": "#2a3f5f",
             "gridcolor": "white",
             "linecolor": "white",
             "minorgridcolor": "white",
             "startlinecolor": "#2a3f5f"
            },
            "baxis": {
             "endlinecolor": "#2a3f5f",
             "gridcolor": "white",
             "linecolor": "white",
             "minorgridcolor": "white",
             "startlinecolor": "#2a3f5f"
            },
            "type": "carpet"
           }
          ],
          "choropleth": [
           {
            "colorbar": {
             "outlinewidth": 0,
             "ticks": ""
            },
            "type": "choropleth"
           }
          ],
          "contour": [
           {
            "colorbar": {
             "outlinewidth": 0,
             "ticks": ""
            },
            "colorscale": [
             [
              0,
              "#0d0887"
             ],
             [
              0.1111111111111111,
              "#46039f"
             ],
             [
              0.2222222222222222,
              "#7201a8"
             ],
             [
              0.3333333333333333,
              "#9c179e"
             ],
             [
              0.4444444444444444,
              "#bd3786"
             ],
             [
              0.5555555555555556,
              "#d8576b"
             ],
             [
              0.6666666666666666,
              "#ed7953"
             ],
             [
              0.7777777777777778,
              "#fb9f3a"
             ],
             [
              0.8888888888888888,
              "#fdca26"
             ],
             [
              1,
              "#f0f921"
             ]
            ],
            "type": "contour"
           }
          ],
          "contourcarpet": [
           {
            "colorbar": {
             "outlinewidth": 0,
             "ticks": ""
            },
            "type": "contourcarpet"
           }
          ],
          "heatmap": [
           {
            "colorbar": {
             "outlinewidth": 0,
             "ticks": ""
            },
            "colorscale": [
             [
              0,
              "#0d0887"
             ],
             [
              0.1111111111111111,
              "#46039f"
             ],
             [
              0.2222222222222222,
              "#7201a8"
             ],
             [
              0.3333333333333333,
              "#9c179e"
             ],
             [
              0.4444444444444444,
              "#bd3786"
             ],
             [
              0.5555555555555556,
              "#d8576b"
             ],
             [
              0.6666666666666666,
              "#ed7953"
             ],
             [
              0.7777777777777778,
              "#fb9f3a"
             ],
             [
              0.8888888888888888,
              "#fdca26"
             ],
             [
              1,
              "#f0f921"
             ]
            ],
            "type": "heatmap"
           }
          ],
          "heatmapgl": [
           {
            "colorbar": {
             "outlinewidth": 0,
             "ticks": ""
            },
            "colorscale": [
             [
              0,
              "#0d0887"
             ],
             [
              0.1111111111111111,
              "#46039f"
             ],
             [
              0.2222222222222222,
              "#7201a8"
             ],
             [
              0.3333333333333333,
              "#9c179e"
             ],
             [
              0.4444444444444444,
              "#bd3786"
             ],
             [
              0.5555555555555556,
              "#d8576b"
             ],
             [
              0.6666666666666666,
              "#ed7953"
             ],
             [
              0.7777777777777778,
              "#fb9f3a"
             ],
             [
              0.8888888888888888,
              "#fdca26"
             ],
             [
              1,
              "#f0f921"
             ]
            ],
            "type": "heatmapgl"
           }
          ],
          "histogram": [
           {
            "marker": {
             "colorbar": {
              "outlinewidth": 0,
              "ticks": ""
             }
            },
            "type": "histogram"
           }
          ],
          "histogram2d": [
           {
            "colorbar": {
             "outlinewidth": 0,
             "ticks": ""
            },
            "colorscale": [
             [
              0,
              "#0d0887"
             ],
             [
              0.1111111111111111,
              "#46039f"
             ],
             [
              0.2222222222222222,
              "#7201a8"
             ],
             [
              0.3333333333333333,
              "#9c179e"
             ],
             [
              0.4444444444444444,
              "#bd3786"
             ],
             [
              0.5555555555555556,
              "#d8576b"
             ],
             [
              0.6666666666666666,
              "#ed7953"
             ],
             [
              0.7777777777777778,
              "#fb9f3a"
             ],
             [
              0.8888888888888888,
              "#fdca26"
             ],
             [
              1,
              "#f0f921"
             ]
            ],
            "type": "histogram2d"
           }
          ],
          "histogram2dcontour": [
           {
            "colorbar": {
             "outlinewidth": 0,
             "ticks": ""
            },
            "colorscale": [
             [
              0,
              "#0d0887"
             ],
             [
              0.1111111111111111,
              "#46039f"
             ],
             [
              0.2222222222222222,
              "#7201a8"
             ],
             [
              0.3333333333333333,
              "#9c179e"
             ],
             [
              0.4444444444444444,
              "#bd3786"
             ],
             [
              0.5555555555555556,
              "#d8576b"
             ],
             [
              0.6666666666666666,
              "#ed7953"
             ],
             [
              0.7777777777777778,
              "#fb9f3a"
             ],
             [
              0.8888888888888888,
              "#fdca26"
             ],
             [
              1,
              "#f0f921"
             ]
            ],
            "type": "histogram2dcontour"
           }
          ],
          "mesh3d": [
           {
            "colorbar": {
             "outlinewidth": 0,
             "ticks": ""
            },
            "type": "mesh3d"
           }
          ],
          "parcoords": [
           {
            "line": {
             "colorbar": {
              "outlinewidth": 0,
              "ticks": ""
             }
            },
            "type": "parcoords"
           }
          ],
          "pie": [
           {
            "automargin": true,
            "type": "pie"
           }
          ],
          "scatter": [
           {
            "marker": {
             "colorbar": {
              "outlinewidth": 0,
              "ticks": ""
             }
            },
            "type": "scatter"
           }
          ],
          "scatter3d": [
           {
            "line": {
             "colorbar": {
              "outlinewidth": 0,
              "ticks": ""
             }
            },
            "marker": {
             "colorbar": {
              "outlinewidth": 0,
              "ticks": ""
             }
            },
            "type": "scatter3d"
           }
          ],
          "scattercarpet": [
           {
            "marker": {
             "colorbar": {
              "outlinewidth": 0,
              "ticks": ""
             }
            },
            "type": "scattercarpet"
           }
          ],
          "scattergeo": [
           {
            "marker": {
             "colorbar": {
              "outlinewidth": 0,
              "ticks": ""
             }
            },
            "type": "scattergeo"
           }
          ],
          "scattergl": [
           {
            "marker": {
             "colorbar": {
              "outlinewidth": 0,
              "ticks": ""
             }
            },
            "type": "scattergl"
           }
          ],
          "scattermapbox": [
           {
            "marker": {
             "colorbar": {
              "outlinewidth": 0,
              "ticks": ""
             }
            },
            "type": "scattermapbox"
           }
          ],
          "scatterpolar": [
           {
            "marker": {
             "colorbar": {
              "outlinewidth": 0,
              "ticks": ""
             }
            },
            "type": "scatterpolar"
           }
          ],
          "scatterpolargl": [
           {
            "marker": {
             "colorbar": {
              "outlinewidth": 0,
              "ticks": ""
             }
            },
            "type": "scatterpolargl"
           }
          ],
          "scatterternary": [
           {
            "marker": {
             "colorbar": {
              "outlinewidth": 0,
              "ticks": ""
             }
            },
            "type": "scatterternary"
           }
          ],
          "surface": [
           {
            "colorbar": {
             "outlinewidth": 0,
             "ticks": ""
            },
            "colorscale": [
             [
              0,
              "#0d0887"
             ],
             [
              0.1111111111111111,
              "#46039f"
             ],
             [
              0.2222222222222222,
              "#7201a8"
             ],
             [
              0.3333333333333333,
              "#9c179e"
             ],
             [
              0.4444444444444444,
              "#bd3786"
             ],
             [
              0.5555555555555556,
              "#d8576b"
             ],
             [
              0.6666666666666666,
              "#ed7953"
             ],
             [
              0.7777777777777778,
              "#fb9f3a"
             ],
             [
              0.8888888888888888,
              "#fdca26"
             ],
             [
              1,
              "#f0f921"
             ]
            ],
            "type": "surface"
           }
          ],
          "table": [
           {
            "cells": {
             "fill": {
              "color": "#EBF0F8"
             },
             "line": {
              "color": "white"
             }
            },
            "header": {
             "fill": {
              "color": "#C8D4E3"
             },
             "line": {
              "color": "white"
             }
            },
            "type": "table"
           }
          ]
         },
         "layout": {
          "annotationdefaults": {
           "arrowcolor": "#2a3f5f",
           "arrowhead": 0,
           "arrowwidth": 1
          },
          "autotypenumbers": "strict",
          "coloraxis": {
           "colorbar": {
            "outlinewidth": 0,
            "ticks": ""
           }
          },
          "colorscale": {
           "diverging": [
            [
             0,
             "#8e0152"
            ],
            [
             0.1,
             "#c51b7d"
            ],
            [
             0.2,
             "#de77ae"
            ],
            [
             0.3,
             "#f1b6da"
            ],
            [
             0.4,
             "#fde0ef"
            ],
            [
             0.5,
             "#f7f7f7"
            ],
            [
             0.6,
             "#e6f5d0"
            ],
            [
             0.7,
             "#b8e186"
            ],
            [
             0.8,
             "#7fbc41"
            ],
            [
             0.9,
             "#4d9221"
            ],
            [
             1,
             "#276419"
            ]
           ],
           "sequential": [
            [
             0,
             "#0d0887"
            ],
            [
             0.1111111111111111,
             "#46039f"
            ],
            [
             0.2222222222222222,
             "#7201a8"
            ],
            [
             0.3333333333333333,
             "#9c179e"
            ],
            [
             0.4444444444444444,
             "#bd3786"
            ],
            [
             0.5555555555555556,
             "#d8576b"
            ],
            [
             0.6666666666666666,
             "#ed7953"
            ],
            [
             0.7777777777777778,
             "#fb9f3a"
            ],
            [
             0.8888888888888888,
             "#fdca26"
            ],
            [
             1,
             "#f0f921"
            ]
           ],
           "sequentialminus": [
            [
             0,
             "#0d0887"
            ],
            [
             0.1111111111111111,
             "#46039f"
            ],
            [
             0.2222222222222222,
             "#7201a8"
            ],
            [
             0.3333333333333333,
             "#9c179e"
            ],
            [
             0.4444444444444444,
             "#bd3786"
            ],
            [
             0.5555555555555556,
             "#d8576b"
            ],
            [
             0.6666666666666666,
             "#ed7953"
            ],
            [
             0.7777777777777778,
             "#fb9f3a"
            ],
            [
             0.8888888888888888,
             "#fdca26"
            ],
            [
             1,
             "#f0f921"
            ]
           ]
          },
          "colorway": [
           "#636efa",
           "#EF553B",
           "#00cc96",
           "#ab63fa",
           "#FFA15A",
           "#19d3f3",
           "#FF6692",
           "#B6E880",
           "#FF97FF",
           "#FECB52"
          ],
          "font": {
           "color": "#2a3f5f"
          },
          "geo": {
           "bgcolor": "white",
           "lakecolor": "white",
           "landcolor": "#E5ECF6",
           "showlakes": true,
           "showland": true,
           "subunitcolor": "white"
          },
          "hoverlabel": {
           "align": "left"
          },
          "hovermode": "closest",
          "mapbox": {
           "style": "light"
          },
          "paper_bgcolor": "white",
          "plot_bgcolor": "#E5ECF6",
          "polar": {
           "angularaxis": {
            "gridcolor": "white",
            "linecolor": "white",
            "ticks": ""
           },
           "bgcolor": "#E5ECF6",
           "radialaxis": {
            "gridcolor": "white",
            "linecolor": "white",
            "ticks": ""
           }
          },
          "scene": {
           "xaxis": {
            "backgroundcolor": "#E5ECF6",
            "gridcolor": "white",
            "gridwidth": 2,
            "linecolor": "white",
            "showbackground": true,
            "ticks": "",
            "zerolinecolor": "white"
           },
           "yaxis": {
            "backgroundcolor": "#E5ECF6",
            "gridcolor": "white",
            "gridwidth": 2,
            "linecolor": "white",
            "showbackground": true,
            "ticks": "",
            "zerolinecolor": "white"
           },
           "zaxis": {
            "backgroundcolor": "#E5ECF6",
            "gridcolor": "white",
            "gridwidth": 2,
            "linecolor": "white",
            "showbackground": true,
            "ticks": "",
            "zerolinecolor": "white"
           }
          },
          "shapedefaults": {
           "line": {
            "color": "#2a3f5f"
           }
          },
          "ternary": {
           "aaxis": {
            "gridcolor": "white",
            "linecolor": "white",
            "ticks": ""
           },
           "baxis": {
            "gridcolor": "white",
            "linecolor": "white",
            "ticks": ""
           },
           "bgcolor": "#E5ECF6",
           "caxis": {
            "gridcolor": "white",
            "linecolor": "white",
            "ticks": ""
           }
          },
          "title": {
           "x": 0.05
          },
          "xaxis": {
           "automargin": true,
           "gridcolor": "white",
           "linecolor": "white",
           "ticks": "",
           "title": {
            "standoff": 15
           },
           "zerolinecolor": "white",
           "zerolinewidth": 2
          },
          "yaxis": {
           "automargin": true,
           "gridcolor": "white",
           "linecolor": "white",
           "ticks": "",
           "title": {
            "standoff": 15
           },
           "zerolinecolor": "white",
           "zerolinewidth": 2
          }
         }
        },
        "title": {
         "text": "activity_regularizer"
        },
        "width": 1000,
        "yaxis": {
         "dtick": 25,
         "range": [
          -175,
          100
         ],
         "tick0": 0
        }
       }
      }
     },
     "metadata": {}
    },
    {
     "output_type": "display_data",
     "data": {
      "text/plain": "<Figure size 432x288 with 0 Axes>"
     },
     "metadata": {}
    }
   ],
   "source": [
    "plot_vals(6)\n",
    "plt.savefig(\"pictures/results_fig_6.svg\")"
   ]
  },
  {
   "cell_type": "code",
   "execution_count": 139,
   "id": "collected-girlfriend",
   "metadata": {},
   "outputs": [
    {
     "output_type": "display_data",
     "data": {
      "application/vnd.plotly.v1+json": {
       "config": {
        "plotlyServerURL": "https://plot.ly"
       },
       "data": [
        {
         "marker": {
          "color": "#4285F4"
         },
         "mode": "lines+markers",
         "name": "CCEu, SD=4",
         "type": "scatter",
         "x": [
          2,
          3,
          6
         ],
         "y": [
          -11.193311566094843,
          -9.073558317399192,
          -9.574354058227428
         ]
        },
        {
         "line": {
          "width": 0
         },
         "marker": {
          "color": "#4285F4"
         },
         "mode": "lines",
         "name": "Upper bound",
         "showlegend": false,
         "type": "scatter",
         "x": [
          2,
          3,
          6
         ],
         "y": [
          -7.9843014382311175,
          -5.716354433534629,
          -6.7643331304035454
         ]
        },
        {
         "fill": "tonexty",
         "fillcolor": "rgba(66, 133, 244, 0.2)",
         "line": {
          "width": 0
         },
         "marker": {
          "color": "#4285F4"
         },
         "mode": "lines",
         "name": "Lower bound",
         "showlegend": false,
         "type": "scatter",
         "x": [
          2,
          3,
          6
         ],
         "y": [
          -14.40232169395857,
          -12.430762201263754,
          -12.38437498605131
         ]
        },
        {
         "marker": {
          "color": "#EA4335"
         },
         "mode": "lines+markers",
         "name": "CCE, SD=4",
         "type": "scatter",
         "x": [
          2,
          3,
          6
         ],
         "y": [
          94.4622059692451,
          93.0332506542994,
          95.39476057308592
         ]
        },
        {
         "line": {
          "width": 0
         },
         "marker": {
          "color": "#EA4335"
         },
         "mode": "lines",
         "name": "Upper bound",
         "showlegend": false,
         "type": "scatter",
         "x": [
          2,
          3,
          6
         ],
         "y": [
          96.06854291998876,
          95.82097256448311,
          96.52165017584187
         ]
        },
        {
         "fill": "tonexty",
         "fillcolor": "rgba(234, 67, 53, 0.2)",
         "line": {
          "width": 0
         },
         "marker": {
          "color": "#EA4335"
         },
         "mode": "lines",
         "name": "Lower bound",
         "showlegend": false,
         "type": "scatter",
         "x": [
          2,
          3,
          6
         ],
         "y": [
          92.85586901850145,
          90.24552874411567,
          94.26787097032997
         ]
        },
        {
         "marker": {
          "color": "#FBBC04"
         },
         "mode": "lines+markers",
         "name": "JSD, SD=4",
         "type": "scatter",
         "x": [
          2,
          3,
          6
         ],
         "y": [
          95.91747631856047,
          95.61616153156402,
          96.36727446116242
         ]
        },
        {
         "line": {
          "width": 0
         },
         "marker": {
          "color": "#FBBC04"
         },
         "mode": "lines",
         "name": "Upper bound",
         "showlegend": false,
         "type": "scatter",
         "x": [
          2,
          3,
          6
         ],
         "y": [
          96.83640042535919,
          96.73024837955381,
          97.13619635070539
         ]
        },
        {
         "fill": "tonexty",
         "fillcolor": "rgba(251, 188, 4, 0.2)",
         "line": {
          "width": 0
         },
         "marker": {
          "color": "#FBBC04"
         },
         "mode": "lines",
         "name": "Lower bound",
         "showlegend": false,
         "type": "scatter",
         "x": [
          2,
          3,
          6
         ],
         "y": [
          94.99855221176176,
          94.50207468357422,
          95.59835257161946
         ]
        },
        {
         "marker": {
          "color": "#34A853"
         },
         "mode": "lines+markers",
         "name": "CCE, SD=100",
         "type": "scatter",
         "x": [
          2,
          3,
          6
         ],
         "y": [
          -10.824500320407827,
          -43.56191518960144,
          -106.87308814922991
         ]
        },
        {
         "line": {
          "width": 0
         },
         "marker": {
          "color": "#34A853"
         },
         "mode": "lines",
         "name": "Upper bound",
         "showlegend": false,
         "type": "scatter",
         "x": [
          2,
          3,
          6
         ],
         "y": [
          74.85101886765898,
          58.942057161927075,
          -23.64524387956078
         ]
        },
        {
         "fill": "tonexty",
         "fillcolor": "rgba(52, 168, 83, 0.2)",
         "line": {
          "width": 0
         },
         "marker": {
          "color": "#34A853"
         },
         "mode": "lines",
         "name": "Lower bound",
         "showlegend": false,
         "type": "scatter",
         "x": [
          2,
          3,
          6
         ],
         "y": [
          -96.50001950847462,
          -146.06588754112997,
          -190.10093241889905
         ]
        },
        {
         "marker": {
          "color": "#000000"
         },
         "mode": "lines+markers",
         "name": "JSD, SD=100",
         "type": "scatter",
         "x": [
          2,
          3,
          6
         ],
         "y": [
          -149.09044373964232,
          -149.71650920813715,
          -149.92040244880204
         ]
        },
        {
         "line": {
          "width": 0
         },
         "marker": {
          "color": "#000000"
         },
         "mode": "lines",
         "name": "Upper bound",
         "showlegend": false,
         "type": "scatter",
         "x": [
          2,
          3,
          6
         ],
         "y": [
          -147.89193531340757,
          -147.93878211902182,
          -148.0866757141173
         ]
        },
        {
         "fill": "tonexty",
         "fillcolor": "rgba(0, 0, 0, 0.2)",
         "line": {
          "width": 0
         },
         "marker": {
          "color": "#000000"
         },
         "mode": "lines",
         "name": "Lower bound",
         "showlegend": false,
         "type": "scatter",
         "x": [
          2,
          3,
          6
         ],
         "y": [
          -150.28895216587708,
          -151.49423629725248,
          -151.75412918348678
         ]
        },
        {
         "marker": {
          "color": "#46BDC6"
         },
         "mode": "lines+markers",
         "name": "JSD(5), SD=100",
         "type": "scatter",
         "x": [
          2,
          3,
          6
         ],
         "y": [
          47.30183084557264,
          67.82183728829347,
          70.06288585794621
         ]
        },
        {
         "line": {
          "width": 0
         },
         "marker": {
          "color": "#46BDC6"
         },
         "mode": "lines",
         "name": "Upper bound",
         "showlegend": false,
         "type": "scatter",
         "x": [
          2,
          3,
          6
         ],
         "y": [
          56.62065856301864,
          75.59055653353352,
          74.49627187292015
         ]
        },
        {
         "fill": "tonexty",
         "fillcolor": "rgba(70, 189, 198, 0.2)",
         "line": {
          "width": 0
         },
         "marker": {
          "color": "#46BDC6"
         },
         "mode": "lines",
         "name": "Lower bound",
         "showlegend": false,
         "type": "scatter",
         "x": [
          2,
          3,
          6
         ],
         "y": [
          37.98300312812664,
          60.05311804305341,
          65.62949984297228
         ]
        }
       ],
       "layout": {
        "height": 600,
        "template": {
         "data": {
          "bar": [
           {
            "error_x": {
             "color": "#2a3f5f"
            },
            "error_y": {
             "color": "#2a3f5f"
            },
            "marker": {
             "line": {
              "color": "#E5ECF6",
              "width": 0.5
             }
            },
            "type": "bar"
           }
          ],
          "barpolar": [
           {
            "marker": {
             "line": {
              "color": "#E5ECF6",
              "width": 0.5
             }
            },
            "type": "barpolar"
           }
          ],
          "carpet": [
           {
            "aaxis": {
             "endlinecolor": "#2a3f5f",
             "gridcolor": "white",
             "linecolor": "white",
             "minorgridcolor": "white",
             "startlinecolor": "#2a3f5f"
            },
            "baxis": {
             "endlinecolor": "#2a3f5f",
             "gridcolor": "white",
             "linecolor": "white",
             "minorgridcolor": "white",
             "startlinecolor": "#2a3f5f"
            },
            "type": "carpet"
           }
          ],
          "choropleth": [
           {
            "colorbar": {
             "outlinewidth": 0,
             "ticks": ""
            },
            "type": "choropleth"
           }
          ],
          "contour": [
           {
            "colorbar": {
             "outlinewidth": 0,
             "ticks": ""
            },
            "colorscale": [
             [
              0,
              "#0d0887"
             ],
             [
              0.1111111111111111,
              "#46039f"
             ],
             [
              0.2222222222222222,
              "#7201a8"
             ],
             [
              0.3333333333333333,
              "#9c179e"
             ],
             [
              0.4444444444444444,
              "#bd3786"
             ],
             [
              0.5555555555555556,
              "#d8576b"
             ],
             [
              0.6666666666666666,
              "#ed7953"
             ],
             [
              0.7777777777777778,
              "#fb9f3a"
             ],
             [
              0.8888888888888888,
              "#fdca26"
             ],
             [
              1,
              "#f0f921"
             ]
            ],
            "type": "contour"
           }
          ],
          "contourcarpet": [
           {
            "colorbar": {
             "outlinewidth": 0,
             "ticks": ""
            },
            "type": "contourcarpet"
           }
          ],
          "heatmap": [
           {
            "colorbar": {
             "outlinewidth": 0,
             "ticks": ""
            },
            "colorscale": [
             [
              0,
              "#0d0887"
             ],
             [
              0.1111111111111111,
              "#46039f"
             ],
             [
              0.2222222222222222,
              "#7201a8"
             ],
             [
              0.3333333333333333,
              "#9c179e"
             ],
             [
              0.4444444444444444,
              "#bd3786"
             ],
             [
              0.5555555555555556,
              "#d8576b"
             ],
             [
              0.6666666666666666,
              "#ed7953"
             ],
             [
              0.7777777777777778,
              "#fb9f3a"
             ],
             [
              0.8888888888888888,
              "#fdca26"
             ],
             [
              1,
              "#f0f921"
             ]
            ],
            "type": "heatmap"
           }
          ],
          "heatmapgl": [
           {
            "colorbar": {
             "outlinewidth": 0,
             "ticks": ""
            },
            "colorscale": [
             [
              0,
              "#0d0887"
             ],
             [
              0.1111111111111111,
              "#46039f"
             ],
             [
              0.2222222222222222,
              "#7201a8"
             ],
             [
              0.3333333333333333,
              "#9c179e"
             ],
             [
              0.4444444444444444,
              "#bd3786"
             ],
             [
              0.5555555555555556,
              "#d8576b"
             ],
             [
              0.6666666666666666,
              "#ed7953"
             ],
             [
              0.7777777777777778,
              "#fb9f3a"
             ],
             [
              0.8888888888888888,
              "#fdca26"
             ],
             [
              1,
              "#f0f921"
             ]
            ],
            "type": "heatmapgl"
           }
          ],
          "histogram": [
           {
            "marker": {
             "colorbar": {
              "outlinewidth": 0,
              "ticks": ""
             }
            },
            "type": "histogram"
           }
          ],
          "histogram2d": [
           {
            "colorbar": {
             "outlinewidth": 0,
             "ticks": ""
            },
            "colorscale": [
             [
              0,
              "#0d0887"
             ],
             [
              0.1111111111111111,
              "#46039f"
             ],
             [
              0.2222222222222222,
              "#7201a8"
             ],
             [
              0.3333333333333333,
              "#9c179e"
             ],
             [
              0.4444444444444444,
              "#bd3786"
             ],
             [
              0.5555555555555556,
              "#d8576b"
             ],
             [
              0.6666666666666666,
              "#ed7953"
             ],
             [
              0.7777777777777778,
              "#fb9f3a"
             ],
             [
              0.8888888888888888,
              "#fdca26"
             ],
             [
              1,
              "#f0f921"
             ]
            ],
            "type": "histogram2d"
           }
          ],
          "histogram2dcontour": [
           {
            "colorbar": {
             "outlinewidth": 0,
             "ticks": ""
            },
            "colorscale": [
             [
              0,
              "#0d0887"
             ],
             [
              0.1111111111111111,
              "#46039f"
             ],
             [
              0.2222222222222222,
              "#7201a8"
             ],
             [
              0.3333333333333333,
              "#9c179e"
             ],
             [
              0.4444444444444444,
              "#bd3786"
             ],
             [
              0.5555555555555556,
              "#d8576b"
             ],
             [
              0.6666666666666666,
              "#ed7953"
             ],
             [
              0.7777777777777778,
              "#fb9f3a"
             ],
             [
              0.8888888888888888,
              "#fdca26"
             ],
             [
              1,
              "#f0f921"
             ]
            ],
            "type": "histogram2dcontour"
           }
          ],
          "mesh3d": [
           {
            "colorbar": {
             "outlinewidth": 0,
             "ticks": ""
            },
            "type": "mesh3d"
           }
          ],
          "parcoords": [
           {
            "line": {
             "colorbar": {
              "outlinewidth": 0,
              "ticks": ""
             }
            },
            "type": "parcoords"
           }
          ],
          "pie": [
           {
            "automargin": true,
            "type": "pie"
           }
          ],
          "scatter": [
           {
            "marker": {
             "colorbar": {
              "outlinewidth": 0,
              "ticks": ""
             }
            },
            "type": "scatter"
           }
          ],
          "scatter3d": [
           {
            "line": {
             "colorbar": {
              "outlinewidth": 0,
              "ticks": ""
             }
            },
            "marker": {
             "colorbar": {
              "outlinewidth": 0,
              "ticks": ""
             }
            },
            "type": "scatter3d"
           }
          ],
          "scattercarpet": [
           {
            "marker": {
             "colorbar": {
              "outlinewidth": 0,
              "ticks": ""
             }
            },
            "type": "scattercarpet"
           }
          ],
          "scattergeo": [
           {
            "marker": {
             "colorbar": {
              "outlinewidth": 0,
              "ticks": ""
             }
            },
            "type": "scattergeo"
           }
          ],
          "scattergl": [
           {
            "marker": {
             "colorbar": {
              "outlinewidth": 0,
              "ticks": ""
             }
            },
            "type": "scattergl"
           }
          ],
          "scattermapbox": [
           {
            "marker": {
             "colorbar": {
              "outlinewidth": 0,
              "ticks": ""
             }
            },
            "type": "scattermapbox"
           }
          ],
          "scatterpolar": [
           {
            "marker": {
             "colorbar": {
              "outlinewidth": 0,
              "ticks": ""
             }
            },
            "type": "scatterpolar"
           }
          ],
          "scatterpolargl": [
           {
            "marker": {
             "colorbar": {
              "outlinewidth": 0,
              "ticks": ""
             }
            },
            "type": "scatterpolargl"
           }
          ],
          "scatterternary": [
           {
            "marker": {
             "colorbar": {
              "outlinewidth": 0,
              "ticks": ""
             }
            },
            "type": "scatterternary"
           }
          ],
          "surface": [
           {
            "colorbar": {
             "outlinewidth": 0,
             "ticks": ""
            },
            "colorscale": [
             [
              0,
              "#0d0887"
             ],
             [
              0.1111111111111111,
              "#46039f"
             ],
             [
              0.2222222222222222,
              "#7201a8"
             ],
             [
              0.3333333333333333,
              "#9c179e"
             ],
             [
              0.4444444444444444,
              "#bd3786"
             ],
             [
              0.5555555555555556,
              "#d8576b"
             ],
             [
              0.6666666666666666,
              "#ed7953"
             ],
             [
              0.7777777777777778,
              "#fb9f3a"
             ],
             [
              0.8888888888888888,
              "#fdca26"
             ],
             [
              1,
              "#f0f921"
             ]
            ],
            "type": "surface"
           }
          ],
          "table": [
           {
            "cells": {
             "fill": {
              "color": "#EBF0F8"
             },
             "line": {
              "color": "white"
             }
            },
            "header": {
             "fill": {
              "color": "#C8D4E3"
             },
             "line": {
              "color": "white"
             }
            },
            "type": "table"
           }
          ]
         },
         "layout": {
          "annotationdefaults": {
           "arrowcolor": "#2a3f5f",
           "arrowhead": 0,
           "arrowwidth": 1
          },
          "autotypenumbers": "strict",
          "coloraxis": {
           "colorbar": {
            "outlinewidth": 0,
            "ticks": ""
           }
          },
          "colorscale": {
           "diverging": [
            [
             0,
             "#8e0152"
            ],
            [
             0.1,
             "#c51b7d"
            ],
            [
             0.2,
             "#de77ae"
            ],
            [
             0.3,
             "#f1b6da"
            ],
            [
             0.4,
             "#fde0ef"
            ],
            [
             0.5,
             "#f7f7f7"
            ],
            [
             0.6,
             "#e6f5d0"
            ],
            [
             0.7,
             "#b8e186"
            ],
            [
             0.8,
             "#7fbc41"
            ],
            [
             0.9,
             "#4d9221"
            ],
            [
             1,
             "#276419"
            ]
           ],
           "sequential": [
            [
             0,
             "#0d0887"
            ],
            [
             0.1111111111111111,
             "#46039f"
            ],
            [
             0.2222222222222222,
             "#7201a8"
            ],
            [
             0.3333333333333333,
             "#9c179e"
            ],
            [
             0.4444444444444444,
             "#bd3786"
            ],
            [
             0.5555555555555556,
             "#d8576b"
            ],
            [
             0.6666666666666666,
             "#ed7953"
            ],
            [
             0.7777777777777778,
             "#fb9f3a"
            ],
            [
             0.8888888888888888,
             "#fdca26"
            ],
            [
             1,
             "#f0f921"
            ]
           ],
           "sequentialminus": [
            [
             0,
             "#0d0887"
            ],
            [
             0.1111111111111111,
             "#46039f"
            ],
            [
             0.2222222222222222,
             "#7201a8"
            ],
            [
             0.3333333333333333,
             "#9c179e"
            ],
            [
             0.4444444444444444,
             "#bd3786"
            ],
            [
             0.5555555555555556,
             "#d8576b"
            ],
            [
             0.6666666666666666,
             "#ed7953"
            ],
            [
             0.7777777777777778,
             "#fb9f3a"
            ],
            [
             0.8888888888888888,
             "#fdca26"
            ],
            [
             1,
             "#f0f921"
            ]
           ]
          },
          "colorway": [
           "#636efa",
           "#EF553B",
           "#00cc96",
           "#ab63fa",
           "#FFA15A",
           "#19d3f3",
           "#FF6692",
           "#B6E880",
           "#FF97FF",
           "#FECB52"
          ],
          "font": {
           "color": "#2a3f5f"
          },
          "geo": {
           "bgcolor": "white",
           "lakecolor": "white",
           "landcolor": "#E5ECF6",
           "showlakes": true,
           "showland": true,
           "subunitcolor": "white"
          },
          "hoverlabel": {
           "align": "left"
          },
          "hovermode": "closest",
          "mapbox": {
           "style": "light"
          },
          "paper_bgcolor": "white",
          "plot_bgcolor": "#E5ECF6",
          "polar": {
           "angularaxis": {
            "gridcolor": "white",
            "linecolor": "white",
            "ticks": ""
           },
           "bgcolor": "#E5ECF6",
           "radialaxis": {
            "gridcolor": "white",
            "linecolor": "white",
            "ticks": ""
           }
          },
          "scene": {
           "xaxis": {
            "backgroundcolor": "#E5ECF6",
            "gridcolor": "white",
            "gridwidth": 2,
            "linecolor": "white",
            "showbackground": true,
            "ticks": "",
            "zerolinecolor": "white"
           },
           "yaxis": {
            "backgroundcolor": "#E5ECF6",
            "gridcolor": "white",
            "gridwidth": 2,
            "linecolor": "white",
            "showbackground": true,
            "ticks": "",
            "zerolinecolor": "white"
           },
           "zaxis": {
            "backgroundcolor": "#E5ECF6",
            "gridcolor": "white",
            "gridwidth": 2,
            "linecolor": "white",
            "showbackground": true,
            "ticks": "",
            "zerolinecolor": "white"
           }
          },
          "shapedefaults": {
           "line": {
            "color": "#2a3f5f"
           }
          },
          "ternary": {
           "aaxis": {
            "gridcolor": "white",
            "linecolor": "white",
            "ticks": ""
           },
           "baxis": {
            "gridcolor": "white",
            "linecolor": "white",
            "ticks": ""
           },
           "bgcolor": "#E5ECF6",
           "caxis": {
            "gridcolor": "white",
            "linecolor": "white",
            "ticks": ""
           }
          },
          "title": {
           "x": 0.05
          },
          "xaxis": {
           "automargin": true,
           "gridcolor": "white",
           "linecolor": "white",
           "ticks": "",
           "title": {
            "standoff": 15
           },
           "zerolinecolor": "white",
           "zerolinewidth": 2
          },
          "yaxis": {
           "automargin": true,
           "gridcolor": "white",
           "linecolor": "white",
           "ticks": "",
           "title": {
            "standoff": 15
           },
           "zerolinecolor": "white",
           "zerolinewidth": 2
          }
         }
        },
        "title": {
         "text": "encoding_dim"
        },
        "width": 1000,
        "yaxis": {
         "dtick": 25,
         "range": [
          -175,
          100
         ],
         "tick0": 0
        }
       }
      }
     },
     "metadata": {}
    },
    {
     "output_type": "display_data",
     "data": {
      "text/plain": "<Figure size 432x288 with 0 Axes>"
     },
     "metadata": {}
    }
   ],
   "source": [
    "plot_vals(7)\n",
    "plt.savefig(\"pictures/results_fig_7.svg\")"
   ]
  },
  {
   "cell_type": "code",
   "execution_count": 140,
   "id": "armed-network",
   "metadata": {},
   "outputs": [
    {
     "output_type": "display_data",
     "data": {
      "application/vnd.plotly.v1+json": {
       "config": {
        "plotlyServerURL": "https://plot.ly"
       },
       "data": [
        {
         "marker": {
          "color": "#4285F4"
         },
         "mode": "lines+markers",
         "name": "CCEu, SD=4",
         "type": "scatter",
         "x": [
          3,
          5,
          7,
          9,
          27
         ],
         "y": [
          -11.949508313863433,
          -10.708202819850566,
          -10.50844751804968,
          -9.073558317399192,
          -573.9335416152956
         ]
        },
        {
         "line": {
          "width": 0
         },
         "marker": {
          "color": "#4285F4"
         },
         "mode": "lines",
         "name": "Upper bound",
         "showlegend": false,
         "type": "scatter",
         "x": [
          3,
          5,
          7,
          9,
          27
         ],
         "y": [
          -9.399891750445494,
          -8.63821034151203,
          -7.216998222615746,
          -5.716354433534629,
          -339.98216683894435
         ]
        },
        {
         "fill": "tonexty",
         "fillcolor": "rgba(66, 133, 244, 0.2)",
         "line": {
          "width": 0
         },
         "marker": {
          "color": "#4285F4"
         },
         "mode": "lines",
         "name": "Lower bound",
         "showlegend": false,
         "type": "scatter",
         "x": [
          3,
          5,
          7,
          9,
          27
         ],
         "y": [
          -14.499124877281371,
          -12.778195298189102,
          -13.799896813483613,
          -12.430762201263754,
          -807.8849163916468
         ]
        },
        {
         "marker": {
          "color": "#EA4335"
         },
         "mode": "lines+markers",
         "name": "CCE, SD=4",
         "type": "scatter",
         "x": [
          3,
          5,
          7,
          9,
          27
         ],
         "y": [
          92.74383858948318,
          94.12729284333865,
          94.70680865471363,
          93.0332506542994,
          -563.6342242972981
         ]
        },
        {
         "line": {
          "width": 0
         },
         "marker": {
          "color": "#EA4335"
         },
         "mode": "lines",
         "name": "Upper bound",
         "showlegend": false,
         "type": "scatter",
         "x": [
          3,
          5,
          7,
          9,
          27
         ],
         "y": [
          93.46483157466226,
          94.82349918609339,
          95.24973065715453,
          95.82097256448311,
          -185.97806963835336
         ]
        },
        {
         "fill": "tonexty",
         "fillcolor": "rgba(234, 67, 53, 0.2)",
         "line": {
          "width": 0
         },
         "marker": {
          "color": "#EA4335"
         },
         "mode": "lines",
         "name": "Lower bound",
         "showlegend": false,
         "type": "scatter",
         "x": [
          3,
          5,
          7,
          9,
          27
         ],
         "y": [
          92.0228456043041,
          93.43108650058392,
          94.16388665227272,
          90.24552874411567,
          -941.2903789562429
         ]
        },
        {
         "marker": {
          "color": "#FBBC04"
         },
         "mode": "lines+markers",
         "name": "JSD, SD=4",
         "type": "scatter",
         "x": [
          3,
          5,
          7,
          9,
          27
         ],
         "y": [
          94.45931515776245,
          94.41529356141194,
          95.43285593594457,
          95.61616153156402,
          -479.44558733712165
         ]
        },
        {
         "line": {
          "width": 0
         },
         "marker": {
          "color": "#FBBC04"
         },
         "mode": "lines",
         "name": "Upper bound",
         "showlegend": false,
         "type": "scatter",
         "x": [
          3,
          5,
          7,
          9,
          27
         ],
         "y": [
          95.01322637940517,
          96.16279322152506,
          96.50507964912194,
          96.73024837955381,
          -385.99134791619593
         ]
        },
        {
         "fill": "tonexty",
         "fillcolor": "rgba(251, 188, 4, 0.2)",
         "line": {
          "width": 0
         },
         "marker": {
          "color": "#FBBC04"
         },
         "mode": "lines",
         "name": "Lower bound",
         "showlegend": false,
         "type": "scatter",
         "x": [
          3,
          5,
          7,
          9,
          27
         ],
         "y": [
          93.90540393611973,
          92.66779390129882,
          94.36063222276721,
          94.50207468357422,
          -572.8998267580473
         ]
        },
        {
         "marker": {
          "color": "#34A853"
         },
         "mode": "lines+markers",
         "name": "CCE, SD=100",
         "type": "scatter",
         "x": [
          3,
          5,
          7,
          9,
          27
         ],
         "y": [
          66.03833863612752,
          62.770908842056016,
          26.863720314092905,
          -43.56191518960144,
          -148.64795063023476
         ]
        },
        {
         "line": {
          "width": 0
         },
         "marker": {
          "color": "#34A853"
         },
         "mode": "lines",
         "name": "Upper bound",
         "showlegend": false,
         "type": "scatter",
         "x": [
          3,
          5,
          7,
          9,
          27
         ],
         "y": [
          67.7403620978887,
          73.72525072261305,
          66.15293036911464,
          58.942057161927075,
          -147.7051245072816
         ]
        },
        {
         "fill": "tonexty",
         "fillcolor": "rgba(52, 168, 83, 0.2)",
         "line": {
          "width": 0
         },
         "marker": {
          "color": "#34A853"
         },
         "mode": "lines",
         "name": "Lower bound",
         "showlegend": false,
         "type": "scatter",
         "x": [
          3,
          5,
          7,
          9,
          27
         ],
         "y": [
          64.33631517436633,
          51.816566961498985,
          -12.425489740928835,
          -146.06588754112997,
          -149.59077675318792
         ]
        },
        {
         "marker": {
          "color": "#000000"
         },
         "mode": "lines+markers",
         "name": "JSD, SD=100",
         "type": "scatter",
         "x": [
          3,
          5,
          7,
          9,
          27
         ],
         "y": [
          73.12072570394405,
          67.82183728829347,
          44.90181794645898,
          -149.71650920813715,
          -148.3187835681427
         ]
        },
        {
         "line": {
          "width": 0
         },
         "marker": {
          "color": "#000000"
         },
         "mode": "lines",
         "name": "Upper bound",
         "showlegend": false,
         "type": "scatter",
         "x": [
          3,
          5,
          7,
          9,
          27
         ],
         "y": [
          75.20057413586868,
          75.59055653353352,
          81.12860805063598,
          -147.93878211902182,
          -147.3390696262509
         ]
        },
        {
         "fill": "tonexty",
         "fillcolor": "rgba(0, 0, 0, 0.2)",
         "line": {
          "width": 0
         },
         "marker": {
          "color": "#000000"
         },
         "mode": "lines",
         "name": "Lower bound",
         "showlegend": false,
         "type": "scatter",
         "x": [
          3,
          5,
          7,
          9,
          27
         ],
         "y": [
          71.04087727201942,
          60.05311804305341,
          8.675027842281992,
          -151.49423629725248,
          -149.29849751003448
         ]
        }
       ],
       "layout": {
        "height": 600,
        "template": {
         "data": {
          "bar": [
           {
            "error_x": {
             "color": "#2a3f5f"
            },
            "error_y": {
             "color": "#2a3f5f"
            },
            "marker": {
             "line": {
              "color": "#E5ECF6",
              "width": 0.5
             }
            },
            "type": "bar"
           }
          ],
          "barpolar": [
           {
            "marker": {
             "line": {
              "color": "#E5ECF6",
              "width": 0.5
             }
            },
            "type": "barpolar"
           }
          ],
          "carpet": [
           {
            "aaxis": {
             "endlinecolor": "#2a3f5f",
             "gridcolor": "white",
             "linecolor": "white",
             "minorgridcolor": "white",
             "startlinecolor": "#2a3f5f"
            },
            "baxis": {
             "endlinecolor": "#2a3f5f",
             "gridcolor": "white",
             "linecolor": "white",
             "minorgridcolor": "white",
             "startlinecolor": "#2a3f5f"
            },
            "type": "carpet"
           }
          ],
          "choropleth": [
           {
            "colorbar": {
             "outlinewidth": 0,
             "ticks": ""
            },
            "type": "choropleth"
           }
          ],
          "contour": [
           {
            "colorbar": {
             "outlinewidth": 0,
             "ticks": ""
            },
            "colorscale": [
             [
              0,
              "#0d0887"
             ],
             [
              0.1111111111111111,
              "#46039f"
             ],
             [
              0.2222222222222222,
              "#7201a8"
             ],
             [
              0.3333333333333333,
              "#9c179e"
             ],
             [
              0.4444444444444444,
              "#bd3786"
             ],
             [
              0.5555555555555556,
              "#d8576b"
             ],
             [
              0.6666666666666666,
              "#ed7953"
             ],
             [
              0.7777777777777778,
              "#fb9f3a"
             ],
             [
              0.8888888888888888,
              "#fdca26"
             ],
             [
              1,
              "#f0f921"
             ]
            ],
            "type": "contour"
           }
          ],
          "contourcarpet": [
           {
            "colorbar": {
             "outlinewidth": 0,
             "ticks": ""
            },
            "type": "contourcarpet"
           }
          ],
          "heatmap": [
           {
            "colorbar": {
             "outlinewidth": 0,
             "ticks": ""
            },
            "colorscale": [
             [
              0,
              "#0d0887"
             ],
             [
              0.1111111111111111,
              "#46039f"
             ],
             [
              0.2222222222222222,
              "#7201a8"
             ],
             [
              0.3333333333333333,
              "#9c179e"
             ],
             [
              0.4444444444444444,
              "#bd3786"
             ],
             [
              0.5555555555555556,
              "#d8576b"
             ],
             [
              0.6666666666666666,
              "#ed7953"
             ],
             [
              0.7777777777777778,
              "#fb9f3a"
             ],
             [
              0.8888888888888888,
              "#fdca26"
             ],
             [
              1,
              "#f0f921"
             ]
            ],
            "type": "heatmap"
           }
          ],
          "heatmapgl": [
           {
            "colorbar": {
             "outlinewidth": 0,
             "ticks": ""
            },
            "colorscale": [
             [
              0,
              "#0d0887"
             ],
             [
              0.1111111111111111,
              "#46039f"
             ],
             [
              0.2222222222222222,
              "#7201a8"
             ],
             [
              0.3333333333333333,
              "#9c179e"
             ],
             [
              0.4444444444444444,
              "#bd3786"
             ],
             [
              0.5555555555555556,
              "#d8576b"
             ],
             [
              0.6666666666666666,
              "#ed7953"
             ],
             [
              0.7777777777777778,
              "#fb9f3a"
             ],
             [
              0.8888888888888888,
              "#fdca26"
             ],
             [
              1,
              "#f0f921"
             ]
            ],
            "type": "heatmapgl"
           }
          ],
          "histogram": [
           {
            "marker": {
             "colorbar": {
              "outlinewidth": 0,
              "ticks": ""
             }
            },
            "type": "histogram"
           }
          ],
          "histogram2d": [
           {
            "colorbar": {
             "outlinewidth": 0,
             "ticks": ""
            },
            "colorscale": [
             [
              0,
              "#0d0887"
             ],
             [
              0.1111111111111111,
              "#46039f"
             ],
             [
              0.2222222222222222,
              "#7201a8"
             ],
             [
              0.3333333333333333,
              "#9c179e"
             ],
             [
              0.4444444444444444,
              "#bd3786"
             ],
             [
              0.5555555555555556,
              "#d8576b"
             ],
             [
              0.6666666666666666,
              "#ed7953"
             ],
             [
              0.7777777777777778,
              "#fb9f3a"
             ],
             [
              0.8888888888888888,
              "#fdca26"
             ],
             [
              1,
              "#f0f921"
             ]
            ],
            "type": "histogram2d"
           }
          ],
          "histogram2dcontour": [
           {
            "colorbar": {
             "outlinewidth": 0,
             "ticks": ""
            },
            "colorscale": [
             [
              0,
              "#0d0887"
             ],
             [
              0.1111111111111111,
              "#46039f"
             ],
             [
              0.2222222222222222,
              "#7201a8"
             ],
             [
              0.3333333333333333,
              "#9c179e"
             ],
             [
              0.4444444444444444,
              "#bd3786"
             ],
             [
              0.5555555555555556,
              "#d8576b"
             ],
             [
              0.6666666666666666,
              "#ed7953"
             ],
             [
              0.7777777777777778,
              "#fb9f3a"
             ],
             [
              0.8888888888888888,
              "#fdca26"
             ],
             [
              1,
              "#f0f921"
             ]
            ],
            "type": "histogram2dcontour"
           }
          ],
          "mesh3d": [
           {
            "colorbar": {
             "outlinewidth": 0,
             "ticks": ""
            },
            "type": "mesh3d"
           }
          ],
          "parcoords": [
           {
            "line": {
             "colorbar": {
              "outlinewidth": 0,
              "ticks": ""
             }
            },
            "type": "parcoords"
           }
          ],
          "pie": [
           {
            "automargin": true,
            "type": "pie"
           }
          ],
          "scatter": [
           {
            "marker": {
             "colorbar": {
              "outlinewidth": 0,
              "ticks": ""
             }
            },
            "type": "scatter"
           }
          ],
          "scatter3d": [
           {
            "line": {
             "colorbar": {
              "outlinewidth": 0,
              "ticks": ""
             }
            },
            "marker": {
             "colorbar": {
              "outlinewidth": 0,
              "ticks": ""
             }
            },
            "type": "scatter3d"
           }
          ],
          "scattercarpet": [
           {
            "marker": {
             "colorbar": {
              "outlinewidth": 0,
              "ticks": ""
             }
            },
            "type": "scattercarpet"
           }
          ],
          "scattergeo": [
           {
            "marker": {
             "colorbar": {
              "outlinewidth": 0,
              "ticks": ""
             }
            },
            "type": "scattergeo"
           }
          ],
          "scattergl": [
           {
            "marker": {
             "colorbar": {
              "outlinewidth": 0,
              "ticks": ""
             }
            },
            "type": "scattergl"
           }
          ],
          "scattermapbox": [
           {
            "marker": {
             "colorbar": {
              "outlinewidth": 0,
              "ticks": ""
             }
            },
            "type": "scattermapbox"
           }
          ],
          "scatterpolar": [
           {
            "marker": {
             "colorbar": {
              "outlinewidth": 0,
              "ticks": ""
             }
            },
            "type": "scatterpolar"
           }
          ],
          "scatterpolargl": [
           {
            "marker": {
             "colorbar": {
              "outlinewidth": 0,
              "ticks": ""
             }
            },
            "type": "scatterpolargl"
           }
          ],
          "scatterternary": [
           {
            "marker": {
             "colorbar": {
              "outlinewidth": 0,
              "ticks": ""
             }
            },
            "type": "scatterternary"
           }
          ],
          "surface": [
           {
            "colorbar": {
             "outlinewidth": 0,
             "ticks": ""
            },
            "colorscale": [
             [
              0,
              "#0d0887"
             ],
             [
              0.1111111111111111,
              "#46039f"
             ],
             [
              0.2222222222222222,
              "#7201a8"
             ],
             [
              0.3333333333333333,
              "#9c179e"
             ],
             [
              0.4444444444444444,
              "#bd3786"
             ],
             [
              0.5555555555555556,
              "#d8576b"
             ],
             [
              0.6666666666666666,
              "#ed7953"
             ],
             [
              0.7777777777777778,
              "#fb9f3a"
             ],
             [
              0.8888888888888888,
              "#fdca26"
             ],
             [
              1,
              "#f0f921"
             ]
            ],
            "type": "surface"
           }
          ],
          "table": [
           {
            "cells": {
             "fill": {
              "color": "#EBF0F8"
             },
             "line": {
              "color": "white"
             }
            },
            "header": {
             "fill": {
              "color": "#C8D4E3"
             },
             "line": {
              "color": "white"
             }
            },
            "type": "table"
           }
          ]
         },
         "layout": {
          "annotationdefaults": {
           "arrowcolor": "#2a3f5f",
           "arrowhead": 0,
           "arrowwidth": 1
          },
          "autotypenumbers": "strict",
          "coloraxis": {
           "colorbar": {
            "outlinewidth": 0,
            "ticks": ""
           }
          },
          "colorscale": {
           "diverging": [
            [
             0,
             "#8e0152"
            ],
            [
             0.1,
             "#c51b7d"
            ],
            [
             0.2,
             "#de77ae"
            ],
            [
             0.3,
             "#f1b6da"
            ],
            [
             0.4,
             "#fde0ef"
            ],
            [
             0.5,
             "#f7f7f7"
            ],
            [
             0.6,
             "#e6f5d0"
            ],
            [
             0.7,
             "#b8e186"
            ],
            [
             0.8,
             "#7fbc41"
            ],
            [
             0.9,
             "#4d9221"
            ],
            [
             1,
             "#276419"
            ]
           ],
           "sequential": [
            [
             0,
             "#0d0887"
            ],
            [
             0.1111111111111111,
             "#46039f"
            ],
            [
             0.2222222222222222,
             "#7201a8"
            ],
            [
             0.3333333333333333,
             "#9c179e"
            ],
            [
             0.4444444444444444,
             "#bd3786"
            ],
            [
             0.5555555555555556,
             "#d8576b"
            ],
            [
             0.6666666666666666,
             "#ed7953"
            ],
            [
             0.7777777777777778,
             "#fb9f3a"
            ],
            [
             0.8888888888888888,
             "#fdca26"
            ],
            [
             1,
             "#f0f921"
            ]
           ],
           "sequentialminus": [
            [
             0,
             "#0d0887"
            ],
            [
             0.1111111111111111,
             "#46039f"
            ],
            [
             0.2222222222222222,
             "#7201a8"
            ],
            [
             0.3333333333333333,
             "#9c179e"
            ],
            [
             0.4444444444444444,
             "#bd3786"
            ],
            [
             0.5555555555555556,
             "#d8576b"
            ],
            [
             0.6666666666666666,
             "#ed7953"
            ],
            [
             0.7777777777777778,
             "#fb9f3a"
            ],
            [
             0.8888888888888888,
             "#fdca26"
            ],
            [
             1,
             "#f0f921"
            ]
           ]
          },
          "colorway": [
           "#636efa",
           "#EF553B",
           "#00cc96",
           "#ab63fa",
           "#FFA15A",
           "#19d3f3",
           "#FF6692",
           "#B6E880",
           "#FF97FF",
           "#FECB52"
          ],
          "font": {
           "color": "#2a3f5f"
          },
          "geo": {
           "bgcolor": "white",
           "lakecolor": "white",
           "landcolor": "#E5ECF6",
           "showlakes": true,
           "showland": true,
           "subunitcolor": "white"
          },
          "hoverlabel": {
           "align": "left"
          },
          "hovermode": "closest",
          "mapbox": {
           "style": "light"
          },
          "paper_bgcolor": "white",
          "plot_bgcolor": "#E5ECF6",
          "polar": {
           "angularaxis": {
            "gridcolor": "white",
            "linecolor": "white",
            "ticks": ""
           },
           "bgcolor": "#E5ECF6",
           "radialaxis": {
            "gridcolor": "white",
            "linecolor": "white",
            "ticks": ""
           }
          },
          "scene": {
           "xaxis": {
            "backgroundcolor": "#E5ECF6",
            "gridcolor": "white",
            "gridwidth": 2,
            "linecolor": "white",
            "showbackground": true,
            "ticks": "",
            "zerolinecolor": "white"
           },
           "yaxis": {
            "backgroundcolor": "#E5ECF6",
            "gridcolor": "white",
            "gridwidth": 2,
            "linecolor": "white",
            "showbackground": true,
            "ticks": "",
            "zerolinecolor": "white"
           },
           "zaxis": {
            "backgroundcolor": "#E5ECF6",
            "gridcolor": "white",
            "gridwidth": 2,
            "linecolor": "white",
            "showbackground": true,
            "ticks": "",
            "zerolinecolor": "white"
           }
          },
          "shapedefaults": {
           "line": {
            "color": "#2a3f5f"
           }
          },
          "ternary": {
           "aaxis": {
            "gridcolor": "white",
            "linecolor": "white",
            "ticks": ""
           },
           "baxis": {
            "gridcolor": "white",
            "linecolor": "white",
            "ticks": ""
           },
           "bgcolor": "#E5ECF6",
           "caxis": {
            "gridcolor": "white",
            "linecolor": "white",
            "ticks": ""
           }
          },
          "title": {
           "x": 0.05
          },
          "xaxis": {
           "automargin": true,
           "gridcolor": "white",
           "linecolor": "white",
           "ticks": "",
           "title": {
            "standoff": 15
           },
           "zerolinecolor": "white",
           "zerolinewidth": 2
          },
          "yaxis": {
           "automargin": true,
           "gridcolor": "white",
           "linecolor": "white",
           "ticks": "",
           "title": {
            "standoff": 15
           },
           "zerolinecolor": "white",
           "zerolinewidth": 2
          }
         }
        },
        "title": {
         "text": "hidden_layers"
        },
        "width": 1000,
        "yaxis": {
         "dtick": 25,
         "range": [
          -175,
          100
         ],
         "tick0": 0
        }
       }
      }
     },
     "metadata": {}
    },
    {
     "output_type": "display_data",
     "data": {
      "text/plain": "<Figure size 432x288 with 0 Axes>"
     },
     "metadata": {}
    }
   ],
   "source": [
    "plot_vals(8)\n",
    "plt.savefig(\"pictures/results_fig_8.svg\")"
   ]
  },
  {
   "cell_type": "code",
   "execution_count": 141,
   "id": "experimental-glenn",
   "metadata": {},
   "outputs": [
    {
     "output_type": "display_data",
     "data": {
      "application/vnd.plotly.v1+json": {
       "config": {
        "plotlyServerURL": "https://plot.ly"
       },
       "data": [
        {
         "error_y": {
          "array": [
           4.4193989613762685,
           4.335448963466539,
           2.159129115497571,
           2.467491242804483,
           2.5880379612963855,
           1.560612979070893,
           1.491262866353389
          ]
         },
         "marker": {
          "color": "#4285F4"
         },
         "name": "CCEu, SD=4",
         "type": "bar",
         "x": [
          "0.01/SD",
          "(0.01*4)/SD",
          "0.01/math.sqrt(SD)",
          "0.01",
          "0.05",
          "0.1",
          "0.2"
         ],
         "y": [
          -15.817102593530711,
          -9.428030407562904,
          -12.53556781590664,
          -9.525427131105095,
          -5.04318695319288,
          -3.5947465394239986,
          -2.4464094166204573
         ]
        },
        {
         "error_y": {
          "array": [
           2.9259295847735656,
           0.7142194224269915,
           0.7669036209263169,
           1.107622406514874,
           1.2123577009954944,
           0.8302387860101802,
           0.9999199069212126
          ]
         },
         "marker": {
          "color": "#EA4335"
         },
         "name": "CCE, SD=4",
         "type": "bar",
         "x": [
          "0.01/SD",
          "(0.01*4)/SD",
          "0.01/math.sqrt(SD)",
          "0.01",
          "0.05",
          "0.1",
          "0.2"
         ],
         "y": [
          92.52653355388736,
          94.80576325287734,
          94.13268952537162,
          94.72074775969728,
          95.25727921331921,
          96.08580558812363,
          95.31091543109451
         ]
        },
        {
         "error_y": {
          "array": [
           1.2834030088985904,
           1.5686994140307582,
           0.5944560754914924,
           0.5548427605747398,
           1.0652668099707265,
           1.0422625449870824,
           1.0040671017517488
          ]
         },
         "marker": {
          "color": "#FBBC04"
         },
         "name": "JSD, SD=4",
         "type": "bar",
         "x": [
          "0.01/SD",
          "(0.01*4)/SD",
          "0.01/math.sqrt(SD)",
          "0.01",
          "0.05",
          "0.1",
          "0.2"
         ],
         "y": [
          95.3974691334571,
          95.15137485457308,
          95.6444884038782,
          95.95522076960813,
          95.15077614765764,
          95.72760773353369,
          95.60915271904693
         ]
        },
        {
         "error_y": {
          "array": [
           19.48320396247951,
           4.763335148907342,
           6.322559256218126,
           78.68976467121146,
           11.046464900555378,
           9.302550578900407,
           1.7084284012986684
          ]
         },
         "marker": {
          "color": "#34A853"
         },
         "name": "CCE, SD=100",
         "type": "bar",
         "x": [
          "0.01/SD",
          "(0.01*4)/SD",
          "0.01/math.sqrt(SD)",
          "0.01",
          "0.05",
          "0.1",
          "0.2"
         ],
         "y": [
          -2135.7367529525286,
          -1018.1557891835879,
          -614.8012314770285,
          -0.4728831280705947,
          -38.59361833371751,
          -24.250261837944198,
          -14.838209408036567
         ]
        },
        {
         "error_y": {
          "array": [
           3.9307312992042216,
           4.710960399242842,
           2.9932323575018778,
           1.4388367645780669,
           0.5544966209898783,
           1.2835813808433911,
           0.6941795568706972
          ]
         },
         "marker": {
          "color": "#000000"
         },
         "name": "JSD, SD=100",
         "type": "bar",
         "x": [
          "0.01/SD",
          "(0.01*4)/SD",
          "0.01/math.sqrt(SD)",
          "0.01",
          "0.05",
          "0.1",
          "0.2"
         ],
         "y": [
          -2116.3550150618576,
          -1015.7178141512757,
          -609.6688779355176,
          -149.77835012446923,
          -46.17172549579724,
          -26.73751578618026,
          -15.848571533079706
         ]
        },
        {
         "error_y": {
          "array": [
           25.813951254497905,
           8.631354662476905,
           5.747149599262702,
           10.861359555651912,
           2.3556650440359728,
           1.2237686852394458,
           1.0285469608137874
          ]
         },
         "marker": {
          "color": "#46BDC6"
         },
         "name": "JSD(5), SD=100",
         "type": "bar",
         "x": [
          "0.01/SD",
          "(0.01*4)/SD",
          "0.01/math.sqrt(SD)",
          "0.01",
          "0.05",
          "0.1",
          "0.2"
         ],
         "y": [
          48.72496443294381,
          83.78551170188365,
          90.63824852044257,
          65.63985097753674,
          48.37175251218126,
          26.20573531462252,
          8.942569987754744
         ]
        }
       ],
       "layout": {
        "height": 600,
        "template": {
         "data": {
          "bar": [
           {
            "error_x": {
             "color": "#2a3f5f"
            },
            "error_y": {
             "color": "#2a3f5f"
            },
            "marker": {
             "line": {
              "color": "#E5ECF6",
              "width": 0.5
             }
            },
            "type": "bar"
           }
          ],
          "barpolar": [
           {
            "marker": {
             "line": {
              "color": "#E5ECF6",
              "width": 0.5
             }
            },
            "type": "barpolar"
           }
          ],
          "carpet": [
           {
            "aaxis": {
             "endlinecolor": "#2a3f5f",
             "gridcolor": "white",
             "linecolor": "white",
             "minorgridcolor": "white",
             "startlinecolor": "#2a3f5f"
            },
            "baxis": {
             "endlinecolor": "#2a3f5f",
             "gridcolor": "white",
             "linecolor": "white",
             "minorgridcolor": "white",
             "startlinecolor": "#2a3f5f"
            },
            "type": "carpet"
           }
          ],
          "choropleth": [
           {
            "colorbar": {
             "outlinewidth": 0,
             "ticks": ""
            },
            "type": "choropleth"
           }
          ],
          "contour": [
           {
            "colorbar": {
             "outlinewidth": 0,
             "ticks": ""
            },
            "colorscale": [
             [
              0,
              "#0d0887"
             ],
             [
              0.1111111111111111,
              "#46039f"
             ],
             [
              0.2222222222222222,
              "#7201a8"
             ],
             [
              0.3333333333333333,
              "#9c179e"
             ],
             [
              0.4444444444444444,
              "#bd3786"
             ],
             [
              0.5555555555555556,
              "#d8576b"
             ],
             [
              0.6666666666666666,
              "#ed7953"
             ],
             [
              0.7777777777777778,
              "#fb9f3a"
             ],
             [
              0.8888888888888888,
              "#fdca26"
             ],
             [
              1,
              "#f0f921"
             ]
            ],
            "type": "contour"
           }
          ],
          "contourcarpet": [
           {
            "colorbar": {
             "outlinewidth": 0,
             "ticks": ""
            },
            "type": "contourcarpet"
           }
          ],
          "heatmap": [
           {
            "colorbar": {
             "outlinewidth": 0,
             "ticks": ""
            },
            "colorscale": [
             [
              0,
              "#0d0887"
             ],
             [
              0.1111111111111111,
              "#46039f"
             ],
             [
              0.2222222222222222,
              "#7201a8"
             ],
             [
              0.3333333333333333,
              "#9c179e"
             ],
             [
              0.4444444444444444,
              "#bd3786"
             ],
             [
              0.5555555555555556,
              "#d8576b"
             ],
             [
              0.6666666666666666,
              "#ed7953"
             ],
             [
              0.7777777777777778,
              "#fb9f3a"
             ],
             [
              0.8888888888888888,
              "#fdca26"
             ],
             [
              1,
              "#f0f921"
             ]
            ],
            "type": "heatmap"
           }
          ],
          "heatmapgl": [
           {
            "colorbar": {
             "outlinewidth": 0,
             "ticks": ""
            },
            "colorscale": [
             [
              0,
              "#0d0887"
             ],
             [
              0.1111111111111111,
              "#46039f"
             ],
             [
              0.2222222222222222,
              "#7201a8"
             ],
             [
              0.3333333333333333,
              "#9c179e"
             ],
             [
              0.4444444444444444,
              "#bd3786"
             ],
             [
              0.5555555555555556,
              "#d8576b"
             ],
             [
              0.6666666666666666,
              "#ed7953"
             ],
             [
              0.7777777777777778,
              "#fb9f3a"
             ],
             [
              0.8888888888888888,
              "#fdca26"
             ],
             [
              1,
              "#f0f921"
             ]
            ],
            "type": "heatmapgl"
           }
          ],
          "histogram": [
           {
            "marker": {
             "colorbar": {
              "outlinewidth": 0,
              "ticks": ""
             }
            },
            "type": "histogram"
           }
          ],
          "histogram2d": [
           {
            "colorbar": {
             "outlinewidth": 0,
             "ticks": ""
            },
            "colorscale": [
             [
              0,
              "#0d0887"
             ],
             [
              0.1111111111111111,
              "#46039f"
             ],
             [
              0.2222222222222222,
              "#7201a8"
             ],
             [
              0.3333333333333333,
              "#9c179e"
             ],
             [
              0.4444444444444444,
              "#bd3786"
             ],
             [
              0.5555555555555556,
              "#d8576b"
             ],
             [
              0.6666666666666666,
              "#ed7953"
             ],
             [
              0.7777777777777778,
              "#fb9f3a"
             ],
             [
              0.8888888888888888,
              "#fdca26"
             ],
             [
              1,
              "#f0f921"
             ]
            ],
            "type": "histogram2d"
           }
          ],
          "histogram2dcontour": [
           {
            "colorbar": {
             "outlinewidth": 0,
             "ticks": ""
            },
            "colorscale": [
             [
              0,
              "#0d0887"
             ],
             [
              0.1111111111111111,
              "#46039f"
             ],
             [
              0.2222222222222222,
              "#7201a8"
             ],
             [
              0.3333333333333333,
              "#9c179e"
             ],
             [
              0.4444444444444444,
              "#bd3786"
             ],
             [
              0.5555555555555556,
              "#d8576b"
             ],
             [
              0.6666666666666666,
              "#ed7953"
             ],
             [
              0.7777777777777778,
              "#fb9f3a"
             ],
             [
              0.8888888888888888,
              "#fdca26"
             ],
             [
              1,
              "#f0f921"
             ]
            ],
            "type": "histogram2dcontour"
           }
          ],
          "mesh3d": [
           {
            "colorbar": {
             "outlinewidth": 0,
             "ticks": ""
            },
            "type": "mesh3d"
           }
          ],
          "parcoords": [
           {
            "line": {
             "colorbar": {
              "outlinewidth": 0,
              "ticks": ""
             }
            },
            "type": "parcoords"
           }
          ],
          "pie": [
           {
            "automargin": true,
            "type": "pie"
           }
          ],
          "scatter": [
           {
            "marker": {
             "colorbar": {
              "outlinewidth": 0,
              "ticks": ""
             }
            },
            "type": "scatter"
           }
          ],
          "scatter3d": [
           {
            "line": {
             "colorbar": {
              "outlinewidth": 0,
              "ticks": ""
             }
            },
            "marker": {
             "colorbar": {
              "outlinewidth": 0,
              "ticks": ""
             }
            },
            "type": "scatter3d"
           }
          ],
          "scattercarpet": [
           {
            "marker": {
             "colorbar": {
              "outlinewidth": 0,
              "ticks": ""
             }
            },
            "type": "scattercarpet"
           }
          ],
          "scattergeo": [
           {
            "marker": {
             "colorbar": {
              "outlinewidth": 0,
              "ticks": ""
             }
            },
            "type": "scattergeo"
           }
          ],
          "scattergl": [
           {
            "marker": {
             "colorbar": {
              "outlinewidth": 0,
              "ticks": ""
             }
            },
            "type": "scattergl"
           }
          ],
          "scattermapbox": [
           {
            "marker": {
             "colorbar": {
              "outlinewidth": 0,
              "ticks": ""
             }
            },
            "type": "scattermapbox"
           }
          ],
          "scatterpolar": [
           {
            "marker": {
             "colorbar": {
              "outlinewidth": 0,
              "ticks": ""
             }
            },
            "type": "scatterpolar"
           }
          ],
          "scatterpolargl": [
           {
            "marker": {
             "colorbar": {
              "outlinewidth": 0,
              "ticks": ""
             }
            },
            "type": "scatterpolargl"
           }
          ],
          "scatterternary": [
           {
            "marker": {
             "colorbar": {
              "outlinewidth": 0,
              "ticks": ""
             }
            },
            "type": "scatterternary"
           }
          ],
          "surface": [
           {
            "colorbar": {
             "outlinewidth": 0,
             "ticks": ""
            },
            "colorscale": [
             [
              0,
              "#0d0887"
             ],
             [
              0.1111111111111111,
              "#46039f"
             ],
             [
              0.2222222222222222,
              "#7201a8"
             ],
             [
              0.3333333333333333,
              "#9c179e"
             ],
             [
              0.4444444444444444,
              "#bd3786"
             ],
             [
              0.5555555555555556,
              "#d8576b"
             ],
             [
              0.6666666666666666,
              "#ed7953"
             ],
             [
              0.7777777777777778,
              "#fb9f3a"
             ],
             [
              0.8888888888888888,
              "#fdca26"
             ],
             [
              1,
              "#f0f921"
             ]
            ],
            "type": "surface"
           }
          ],
          "table": [
           {
            "cells": {
             "fill": {
              "color": "#EBF0F8"
             },
             "line": {
              "color": "white"
             }
            },
            "header": {
             "fill": {
              "color": "#C8D4E3"
             },
             "line": {
              "color": "white"
             }
            },
            "type": "table"
           }
          ]
         },
         "layout": {
          "annotationdefaults": {
           "arrowcolor": "#2a3f5f",
           "arrowhead": 0,
           "arrowwidth": 1
          },
          "autotypenumbers": "strict",
          "coloraxis": {
           "colorbar": {
            "outlinewidth": 0,
            "ticks": ""
           }
          },
          "colorscale": {
           "diverging": [
            [
             0,
             "#8e0152"
            ],
            [
             0.1,
             "#c51b7d"
            ],
            [
             0.2,
             "#de77ae"
            ],
            [
             0.3,
             "#f1b6da"
            ],
            [
             0.4,
             "#fde0ef"
            ],
            [
             0.5,
             "#f7f7f7"
            ],
            [
             0.6,
             "#e6f5d0"
            ],
            [
             0.7,
             "#b8e186"
            ],
            [
             0.8,
             "#7fbc41"
            ],
            [
             0.9,
             "#4d9221"
            ],
            [
             1,
             "#276419"
            ]
           ],
           "sequential": [
            [
             0,
             "#0d0887"
            ],
            [
             0.1111111111111111,
             "#46039f"
            ],
            [
             0.2222222222222222,
             "#7201a8"
            ],
            [
             0.3333333333333333,
             "#9c179e"
            ],
            [
             0.4444444444444444,
             "#bd3786"
            ],
            [
             0.5555555555555556,
             "#d8576b"
            ],
            [
             0.6666666666666666,
             "#ed7953"
            ],
            [
             0.7777777777777778,
             "#fb9f3a"
            ],
            [
             0.8888888888888888,
             "#fdca26"
            ],
            [
             1,
             "#f0f921"
            ]
           ],
           "sequentialminus": [
            [
             0,
             "#0d0887"
            ],
            [
             0.1111111111111111,
             "#46039f"
            ],
            [
             0.2222222222222222,
             "#7201a8"
            ],
            [
             0.3333333333333333,
             "#9c179e"
            ],
            [
             0.4444444444444444,
             "#bd3786"
            ],
            [
             0.5555555555555556,
             "#d8576b"
            ],
            [
             0.6666666666666666,
             "#ed7953"
            ],
            [
             0.7777777777777778,
             "#fb9f3a"
            ],
            [
             0.8888888888888888,
             "#fdca26"
            ],
            [
             1,
             "#f0f921"
            ]
           ]
          },
          "colorway": [
           "#636efa",
           "#EF553B",
           "#00cc96",
           "#ab63fa",
           "#FFA15A",
           "#19d3f3",
           "#FF6692",
           "#B6E880",
           "#FF97FF",
           "#FECB52"
          ],
          "font": {
           "color": "#2a3f5f"
          },
          "geo": {
           "bgcolor": "white",
           "lakecolor": "white",
           "landcolor": "#E5ECF6",
           "showlakes": true,
           "showland": true,
           "subunitcolor": "white"
          },
          "hoverlabel": {
           "align": "left"
          },
          "hovermode": "closest",
          "mapbox": {
           "style": "light"
          },
          "paper_bgcolor": "white",
          "plot_bgcolor": "#E5ECF6",
          "polar": {
           "angularaxis": {
            "gridcolor": "white",
            "linecolor": "white",
            "ticks": ""
           },
           "bgcolor": "#E5ECF6",
           "radialaxis": {
            "gridcolor": "white",
            "linecolor": "white",
            "ticks": ""
           }
          },
          "scene": {
           "xaxis": {
            "backgroundcolor": "#E5ECF6",
            "gridcolor": "white",
            "gridwidth": 2,
            "linecolor": "white",
            "showbackground": true,
            "ticks": "",
            "zerolinecolor": "white"
           },
           "yaxis": {
            "backgroundcolor": "#E5ECF6",
            "gridcolor": "white",
            "gridwidth": 2,
            "linecolor": "white",
            "showbackground": true,
            "ticks": "",
            "zerolinecolor": "white"
           },
           "zaxis": {
            "backgroundcolor": "#E5ECF6",
            "gridcolor": "white",
            "gridwidth": 2,
            "linecolor": "white",
            "showbackground": true,
            "ticks": "",
            "zerolinecolor": "white"
           }
          },
          "shapedefaults": {
           "line": {
            "color": "#2a3f5f"
           }
          },
          "ternary": {
           "aaxis": {
            "gridcolor": "white",
            "linecolor": "white",
            "ticks": ""
           },
           "baxis": {
            "gridcolor": "white",
            "linecolor": "white",
            "ticks": ""
           },
           "bgcolor": "#E5ECF6",
           "caxis": {
            "gridcolor": "white",
            "linecolor": "white",
            "ticks": ""
           }
          },
          "title": {
           "x": 0.05
          },
          "xaxis": {
           "automargin": true,
           "gridcolor": "white",
           "linecolor": "white",
           "ticks": "",
           "title": {
            "standoff": 15
           },
           "zerolinecolor": "white",
           "zerolinewidth": 2
          },
          "yaxis": {
           "automargin": true,
           "gridcolor": "white",
           "linecolor": "white",
           "ticks": "",
           "title": {
            "standoff": 15
           },
           "zerolinecolor": "white",
           "zerolinewidth": 2
          }
         }
        },
        "title": {
         "text": "sigma"
        },
        "width": 1000,
        "yaxis": {
         "dtick": 25,
         "range": [
          -175,
          100
         ],
         "tick0": 0
        }
       }
      }
     },
     "metadata": {}
    },
    {
     "output_type": "display_data",
     "data": {
      "text/plain": "<Figure size 432x288 with 0 Axes>"
     },
     "metadata": {}
    }
   ],
   "source": [
    "plot_vals(9)\n",
    "plt.savefig(\"pictures/results_fig_9.svg\")"
   ]
  },
  {
   "cell_type": "code",
   "execution_count": 142,
   "id": "filled-assignment",
   "metadata": {},
   "outputs": [
    {
     "output_type": "display_data",
     "data": {
      "application/vnd.plotly.v1+json": {
       "config": {
        "plotlyServerURL": "https://plot.ly"
       },
       "data": [
        {
         "marker": {
          "color": "#EA4335"
         },
         "mode": "lines+markers",
         "name": "CCE, SD=4",
         "type": "scatter",
         "x": [
          5,
          2,
          1,
          0.5,
          0.25,
          0.125
         ],
         "y": [
          97.08309586140575,
          93.0332506542994,
          90.88965748454922,
          80.97194819235905,
          71.0310184390706,
          53.35796577623677
         ]
        },
        {
         "line": {
          "width": 0
         },
         "marker": {
          "color": "#EA4335"
         },
         "mode": "lines",
         "name": "Upper bound",
         "showlegend": false,
         "type": "scatter",
         "x": [
          5,
          2,
          1,
          0.5,
          0.25,
          0.125
         ],
         "y": [
          97.62152617685399,
          95.82097256448311,
          92.85328932093248,
          92.8646540459624,
          80.30373710199008,
          66.98185193452561
         ]
        },
        {
         "fill": "tonexty",
         "fillcolor": "rgba(234, 67, 53, 0.2)",
         "line": {
          "width": 0
         },
         "marker": {
          "color": "#EA4335"
         },
         "mode": "lines",
         "name": "Lower bound",
         "showlegend": false,
         "type": "scatter",
         "x": [
          5,
          2,
          1,
          0.5,
          0.25,
          0.125
         ],
         "y": [
          96.54466554595751,
          90.24552874411567,
          88.92602564816596,
          69.0792423387557,
          61.75829977615113,
          39.73407961794793
         ]
        },
        {
         "marker": {
          "color": "#FBBC04"
         },
         "mode": "lines+markers",
         "name": "JSD, SD=4",
         "type": "scatter",
         "x": [
          5,
          2,
          1,
          0.5,
          0.25,
          0.125
         ],
         "y": [
          97.57503164561396,
          95.61616153156402,
          93.88200437324824,
          88.77838029579559,
          77.48030642029495,
          68.03104536035184
         ]
        },
        {
         "line": {
          "width": 0
         },
         "marker": {
          "color": "#FBBC04"
         },
         "mode": "lines",
         "name": "Upper bound",
         "showlegend": false,
         "type": "scatter",
         "x": [
          5,
          2,
          1,
          0.5,
          0.25,
          0.125
         ],
         "y": [
          98.6266519286585,
          96.73024837955381,
          94.65960857854476,
          92.1456535529946,
          88.78362896335166,
          78.89057256039551
         ]
        },
        {
         "fill": "tonexty",
         "fillcolor": "rgba(251, 188, 4, 0.2)",
         "line": {
          "width": 0
         },
         "marker": {
          "color": "#FBBC04"
         },
         "mode": "lines",
         "name": "Lower bound",
         "showlegend": false,
         "type": "scatter",
         "x": [
          5,
          2,
          1,
          0.5,
          0.25,
          0.125
         ],
         "y": [
          96.52341136256942,
          94.50207468357422,
          93.10440016795171,
          85.41110703859657,
          66.17698387723824,
          57.17151816030817
         ]
        },
        {
         "marker": {
          "color": "#34A853"
         },
         "mode": "lines+markers",
         "name": "CCE, SD=100",
         "type": "scatter",
         "x": [
          5,
          2,
          1,
          0.5,
          0.25,
          0.125
         ],
         "y": [
          -110.99384193547864,
          -43.56191518960144,
          -73.83305118323267,
          -62.124383508866096,
          -50.35414554360906,
          -72.49273800557361
         ]
        },
        {
         "line": {
          "width": 0
         },
         "marker": {
          "color": "#34A853"
         },
         "mode": "lines",
         "name": "Upper bound",
         "showlegend": false,
         "type": "scatter",
         "x": [
          5,
          2,
          1,
          0.5,
          0.25,
          0.125
         ],
         "y": [
          -63.73415019154743,
          58.942057161927075,
          11.684193181503176,
          8.595633719212238,
          3.5372720225945145,
          -19.85810710741672
         ]
        },
        {
         "fill": "tonexty",
         "fillcolor": "rgba(52, 168, 83, 0.2)",
         "line": {
          "width": 0
         },
         "marker": {
          "color": "#34A853"
         },
         "mode": "lines",
         "name": "Lower bound",
         "showlegend": false,
         "type": "scatter",
         "x": [
          5,
          2,
          1,
          0.5,
          0.25,
          0.125
         ],
         "y": [
          -158.25353367940986,
          -146.06588754112997,
          -159.35029554796853,
          -132.84440073694444,
          -104.24556310981262,
          -125.12736890373051
         ]
        },
        {
         "marker": {
          "color": "#000000"
         },
         "mode": "lines+markers",
         "name": "JSD, SD=100",
         "type": "scatter",
         "x": [
          5,
          2,
          1,
          0.5,
          0.25,
          0.125
         ],
         "y": [
          -150.18194818818074,
          -149.71650920813715,
          -149.5138064219053,
          -149.7268318413641,
          -149.8066876248269,
          -149.66484974161202
         ]
        },
        {
         "line": {
          "width": 0
         },
         "marker": {
          "color": "#000000"
         },
         "mode": "lines",
         "name": "Upper bound",
         "showlegend": false,
         "type": "scatter",
         "x": [
          5,
          2,
          1,
          0.5,
          0.25,
          0.125
         ],
         "y": [
          -148.52235907808677,
          -147.93878211902182,
          -147.49487536015593,
          -147.65082818950134,
          -148.29281642307802,
          -147.98896136701197
         ]
        },
        {
         "fill": "tonexty",
         "fillcolor": "rgba(0, 0, 0, 0.2)",
         "line": {
          "width": 0
         },
         "marker": {
          "color": "#000000"
         },
         "mode": "lines",
         "name": "Lower bound",
         "showlegend": false,
         "type": "scatter",
         "x": [
          5,
          2,
          1,
          0.5,
          0.25,
          0.125
         ],
         "y": [
          -151.84153729827472,
          -151.49423629725248,
          -151.53273748365464,
          -151.80283549322684,
          -151.3205588265758,
          -151.34073811621207
         ]
        },
        {
         "marker": {
          "color": "#46BDC6"
         },
         "mode": "lines+markers",
         "name": "JSD(5), SD=100",
         "type": "scatter",
         "x": [
          5,
          2,
          1,
          0.5,
          0.25,
          0.125
         ],
         "y": [
          86.88264084215646,
          67.82183728829347,
          51.80283470979553,
          39.934445981135866,
          20.10888279936976,
          -10.417300363405497
         ]
        },
        {
         "line": {
          "width": 0
         },
         "marker": {
          "color": "#46BDC6"
         },
         "mode": "lines",
         "name": "Upper bound",
         "showlegend": false,
         "type": "scatter",
         "x": [
          5,
          2,
          1,
          0.5,
          0.25,
          0.125
         ],
         "y": [
          89.8849186312007,
          75.59055653353352,
          59.10078784254298,
          42.806042249515244,
          26.59274950069165,
          -3.621088402775392
         ]
        },
        {
         "fill": "tonexty",
         "fillcolor": "rgba(70, 189, 198, 0.2)",
         "line": {
          "width": 0
         },
         "marker": {
          "color": "#46BDC6"
         },
         "mode": "lines",
         "name": "Lower bound",
         "showlegend": false,
         "type": "scatter",
         "x": [
          5,
          2,
          1,
          0.5,
          0.25,
          0.125
         ],
         "y": [
          83.88036305311222,
          60.05311804305341,
          44.50488157704809,
          37.06284971275649,
          13.625016098047869,
          -17.2135123240356
         ]
        }
       ],
       "layout": {
        "height": 600,
        "template": {
         "data": {
          "bar": [
           {
            "error_x": {
             "color": "#2a3f5f"
            },
            "error_y": {
             "color": "#2a3f5f"
            },
            "marker": {
             "line": {
              "color": "#E5ECF6",
              "width": 0.5
             }
            },
            "type": "bar"
           }
          ],
          "barpolar": [
           {
            "marker": {
             "line": {
              "color": "#E5ECF6",
              "width": 0.5
             }
            },
            "type": "barpolar"
           }
          ],
          "carpet": [
           {
            "aaxis": {
             "endlinecolor": "#2a3f5f",
             "gridcolor": "white",
             "linecolor": "white",
             "minorgridcolor": "white",
             "startlinecolor": "#2a3f5f"
            },
            "baxis": {
             "endlinecolor": "#2a3f5f",
             "gridcolor": "white",
             "linecolor": "white",
             "minorgridcolor": "white",
             "startlinecolor": "#2a3f5f"
            },
            "type": "carpet"
           }
          ],
          "choropleth": [
           {
            "colorbar": {
             "outlinewidth": 0,
             "ticks": ""
            },
            "type": "choropleth"
           }
          ],
          "contour": [
           {
            "colorbar": {
             "outlinewidth": 0,
             "ticks": ""
            },
            "colorscale": [
             [
              0,
              "#0d0887"
             ],
             [
              0.1111111111111111,
              "#46039f"
             ],
             [
              0.2222222222222222,
              "#7201a8"
             ],
             [
              0.3333333333333333,
              "#9c179e"
             ],
             [
              0.4444444444444444,
              "#bd3786"
             ],
             [
              0.5555555555555556,
              "#d8576b"
             ],
             [
              0.6666666666666666,
              "#ed7953"
             ],
             [
              0.7777777777777778,
              "#fb9f3a"
             ],
             [
              0.8888888888888888,
              "#fdca26"
             ],
             [
              1,
              "#f0f921"
             ]
            ],
            "type": "contour"
           }
          ],
          "contourcarpet": [
           {
            "colorbar": {
             "outlinewidth": 0,
             "ticks": ""
            },
            "type": "contourcarpet"
           }
          ],
          "heatmap": [
           {
            "colorbar": {
             "outlinewidth": 0,
             "ticks": ""
            },
            "colorscale": [
             [
              0,
              "#0d0887"
             ],
             [
              0.1111111111111111,
              "#46039f"
             ],
             [
              0.2222222222222222,
              "#7201a8"
             ],
             [
              0.3333333333333333,
              "#9c179e"
             ],
             [
              0.4444444444444444,
              "#bd3786"
             ],
             [
              0.5555555555555556,
              "#d8576b"
             ],
             [
              0.6666666666666666,
              "#ed7953"
             ],
             [
              0.7777777777777778,
              "#fb9f3a"
             ],
             [
              0.8888888888888888,
              "#fdca26"
             ],
             [
              1,
              "#f0f921"
             ]
            ],
            "type": "heatmap"
           }
          ],
          "heatmapgl": [
           {
            "colorbar": {
             "outlinewidth": 0,
             "ticks": ""
            },
            "colorscale": [
             [
              0,
              "#0d0887"
             ],
             [
              0.1111111111111111,
              "#46039f"
             ],
             [
              0.2222222222222222,
              "#7201a8"
             ],
             [
              0.3333333333333333,
              "#9c179e"
             ],
             [
              0.4444444444444444,
              "#bd3786"
             ],
             [
              0.5555555555555556,
              "#d8576b"
             ],
             [
              0.6666666666666666,
              "#ed7953"
             ],
             [
              0.7777777777777778,
              "#fb9f3a"
             ],
             [
              0.8888888888888888,
              "#fdca26"
             ],
             [
              1,
              "#f0f921"
             ]
            ],
            "type": "heatmapgl"
           }
          ],
          "histogram": [
           {
            "marker": {
             "colorbar": {
              "outlinewidth": 0,
              "ticks": ""
             }
            },
            "type": "histogram"
           }
          ],
          "histogram2d": [
           {
            "colorbar": {
             "outlinewidth": 0,
             "ticks": ""
            },
            "colorscale": [
             [
              0,
              "#0d0887"
             ],
             [
              0.1111111111111111,
              "#46039f"
             ],
             [
              0.2222222222222222,
              "#7201a8"
             ],
             [
              0.3333333333333333,
              "#9c179e"
             ],
             [
              0.4444444444444444,
              "#bd3786"
             ],
             [
              0.5555555555555556,
              "#d8576b"
             ],
             [
              0.6666666666666666,
              "#ed7953"
             ],
             [
              0.7777777777777778,
              "#fb9f3a"
             ],
             [
              0.8888888888888888,
              "#fdca26"
             ],
             [
              1,
              "#f0f921"
             ]
            ],
            "type": "histogram2d"
           }
          ],
          "histogram2dcontour": [
           {
            "colorbar": {
             "outlinewidth": 0,
             "ticks": ""
            },
            "colorscale": [
             [
              0,
              "#0d0887"
             ],
             [
              0.1111111111111111,
              "#46039f"
             ],
             [
              0.2222222222222222,
              "#7201a8"
             ],
             [
              0.3333333333333333,
              "#9c179e"
             ],
             [
              0.4444444444444444,
              "#bd3786"
             ],
             [
              0.5555555555555556,
              "#d8576b"
             ],
             [
              0.6666666666666666,
              "#ed7953"
             ],
             [
              0.7777777777777778,
              "#fb9f3a"
             ],
             [
              0.8888888888888888,
              "#fdca26"
             ],
             [
              1,
              "#f0f921"
             ]
            ],
            "type": "histogram2dcontour"
           }
          ],
          "mesh3d": [
           {
            "colorbar": {
             "outlinewidth": 0,
             "ticks": ""
            },
            "type": "mesh3d"
           }
          ],
          "parcoords": [
           {
            "line": {
             "colorbar": {
              "outlinewidth": 0,
              "ticks": ""
             }
            },
            "type": "parcoords"
           }
          ],
          "pie": [
           {
            "automargin": true,
            "type": "pie"
           }
          ],
          "scatter": [
           {
            "marker": {
             "colorbar": {
              "outlinewidth": 0,
              "ticks": ""
             }
            },
            "type": "scatter"
           }
          ],
          "scatter3d": [
           {
            "line": {
             "colorbar": {
              "outlinewidth": 0,
              "ticks": ""
             }
            },
            "marker": {
             "colorbar": {
              "outlinewidth": 0,
              "ticks": ""
             }
            },
            "type": "scatter3d"
           }
          ],
          "scattercarpet": [
           {
            "marker": {
             "colorbar": {
              "outlinewidth": 0,
              "ticks": ""
             }
            },
            "type": "scattercarpet"
           }
          ],
          "scattergeo": [
           {
            "marker": {
             "colorbar": {
              "outlinewidth": 0,
              "ticks": ""
             }
            },
            "type": "scattergeo"
           }
          ],
          "scattergl": [
           {
            "marker": {
             "colorbar": {
              "outlinewidth": 0,
              "ticks": ""
             }
            },
            "type": "scattergl"
           }
          ],
          "scattermapbox": [
           {
            "marker": {
             "colorbar": {
              "outlinewidth": 0,
              "ticks": ""
             }
            },
            "type": "scattermapbox"
           }
          ],
          "scatterpolar": [
           {
            "marker": {
             "colorbar": {
              "outlinewidth": 0,
              "ticks": ""
             }
            },
            "type": "scatterpolar"
           }
          ],
          "scatterpolargl": [
           {
            "marker": {
             "colorbar": {
              "outlinewidth": 0,
              "ticks": ""
             }
            },
            "type": "scatterpolargl"
           }
          ],
          "scatterternary": [
           {
            "marker": {
             "colorbar": {
              "outlinewidth": 0,
              "ticks": ""
             }
            },
            "type": "scatterternary"
           }
          ],
          "surface": [
           {
            "colorbar": {
             "outlinewidth": 0,
             "ticks": ""
            },
            "colorscale": [
             [
              0,
              "#0d0887"
             ],
             [
              0.1111111111111111,
              "#46039f"
             ],
             [
              0.2222222222222222,
              "#7201a8"
             ],
             [
              0.3333333333333333,
              "#9c179e"
             ],
             [
              0.4444444444444444,
              "#bd3786"
             ],
             [
              0.5555555555555556,
              "#d8576b"
             ],
             [
              0.6666666666666666,
              "#ed7953"
             ],
             [
              0.7777777777777778,
              "#fb9f3a"
             ],
             [
              0.8888888888888888,
              "#fdca26"
             ],
             [
              1,
              "#f0f921"
             ]
            ],
            "type": "surface"
           }
          ],
          "table": [
           {
            "cells": {
             "fill": {
              "color": "#EBF0F8"
             },
             "line": {
              "color": "white"
             }
            },
            "header": {
             "fill": {
              "color": "#C8D4E3"
             },
             "line": {
              "color": "white"
             }
            },
            "type": "table"
           }
          ]
         },
         "layout": {
          "annotationdefaults": {
           "arrowcolor": "#2a3f5f",
           "arrowhead": 0,
           "arrowwidth": 1
          },
          "autotypenumbers": "strict",
          "coloraxis": {
           "colorbar": {
            "outlinewidth": 0,
            "ticks": ""
           }
          },
          "colorscale": {
           "diverging": [
            [
             0,
             "#8e0152"
            ],
            [
             0.1,
             "#c51b7d"
            ],
            [
             0.2,
             "#de77ae"
            ],
            [
             0.3,
             "#f1b6da"
            ],
            [
             0.4,
             "#fde0ef"
            ],
            [
             0.5,
             "#f7f7f7"
            ],
            [
             0.6,
             "#e6f5d0"
            ],
            [
             0.7,
             "#b8e186"
            ],
            [
             0.8,
             "#7fbc41"
            ],
            [
             0.9,
             "#4d9221"
            ],
            [
             1,
             "#276419"
            ]
           ],
           "sequential": [
            [
             0,
             "#0d0887"
            ],
            [
             0.1111111111111111,
             "#46039f"
            ],
            [
             0.2222222222222222,
             "#7201a8"
            ],
            [
             0.3333333333333333,
             "#9c179e"
            ],
            [
             0.4444444444444444,
             "#bd3786"
            ],
            [
             0.5555555555555556,
             "#d8576b"
            ],
            [
             0.6666666666666666,
             "#ed7953"
            ],
            [
             0.7777777777777778,
             "#fb9f3a"
            ],
            [
             0.8888888888888888,
             "#fdca26"
            ],
            [
             1,
             "#f0f921"
            ]
           ],
           "sequentialminus": [
            [
             0,
             "#0d0887"
            ],
            [
             0.1111111111111111,
             "#46039f"
            ],
            [
             0.2222222222222222,
             "#7201a8"
            ],
            [
             0.3333333333333333,
             "#9c179e"
            ],
            [
             0.4444444444444444,
             "#bd3786"
            ],
            [
             0.5555555555555556,
             "#d8576b"
            ],
            [
             0.6666666666666666,
             "#ed7953"
            ],
            [
             0.7777777777777778,
             "#fb9f3a"
            ],
            [
             0.8888888888888888,
             "#fdca26"
            ],
            [
             1,
             "#f0f921"
            ]
           ]
          },
          "colorway": [
           "#636efa",
           "#EF553B",
           "#00cc96",
           "#ab63fa",
           "#FFA15A",
           "#19d3f3",
           "#FF6692",
           "#B6E880",
           "#FF97FF",
           "#FECB52"
          ],
          "font": {
           "color": "#2a3f5f"
          },
          "geo": {
           "bgcolor": "white",
           "lakecolor": "white",
           "landcolor": "#E5ECF6",
           "showlakes": true,
           "showland": true,
           "subunitcolor": "white"
          },
          "hoverlabel": {
           "align": "left"
          },
          "hovermode": "closest",
          "mapbox": {
           "style": "light"
          },
          "paper_bgcolor": "white",
          "plot_bgcolor": "#E5ECF6",
          "polar": {
           "angularaxis": {
            "gridcolor": "white",
            "linecolor": "white",
            "ticks": ""
           },
           "bgcolor": "#E5ECF6",
           "radialaxis": {
            "gridcolor": "white",
            "linecolor": "white",
            "ticks": ""
           }
          },
          "scene": {
           "xaxis": {
            "backgroundcolor": "#E5ECF6",
            "gridcolor": "white",
            "gridwidth": 2,
            "linecolor": "white",
            "showbackground": true,
            "ticks": "",
            "zerolinecolor": "white"
           },
           "yaxis": {
            "backgroundcolor": "#E5ECF6",
            "gridcolor": "white",
            "gridwidth": 2,
            "linecolor": "white",
            "showbackground": true,
            "ticks": "",
            "zerolinecolor": "white"
           },
           "zaxis": {
            "backgroundcolor": "#E5ECF6",
            "gridcolor": "white",
            "gridwidth": 2,
            "linecolor": "white",
            "showbackground": true,
            "ticks": "",
            "zerolinecolor": "white"
           }
          },
          "shapedefaults": {
           "line": {
            "color": "#2a3f5f"
           }
          },
          "ternary": {
           "aaxis": {
            "gridcolor": "white",
            "linecolor": "white",
            "ticks": ""
           },
           "baxis": {
            "gridcolor": "white",
            "linecolor": "white",
            "ticks": ""
           },
           "bgcolor": "#E5ECF6",
           "caxis": {
            "gridcolor": "white",
            "linecolor": "white",
            "ticks": ""
           }
          },
          "title": {
           "x": 0.05
          },
          "xaxis": {
           "automargin": true,
           "gridcolor": "white",
           "linecolor": "white",
           "ticks": "",
           "title": {
            "standoff": 15
           },
           "zerolinecolor": "white",
           "zerolinewidth": 2
          },
          "yaxis": {
           "automargin": true,
           "gridcolor": "white",
           "linecolor": "white",
           "ticks": "",
           "title": {
            "standoff": 15
           },
           "zerolinecolor": "white",
           "zerolinewidth": 2
          }
         }
        },
        "title": {
         "text": "labeled_data_percentage"
        },
        "width": 1000,
        "yaxis": {
         "dtick": 25,
         "range": [
          -175,
          100
         ],
         "tick0": 0
        }
       }
      }
     },
     "metadata": {}
    },
    {
     "output_type": "display_data",
     "data": {
      "text/plain": "<Figure size 432x288 with 0 Axes>"
     },
     "metadata": {}
    }
   ],
   "source": [
    "plot_vals(10)\n",
    "plt.savefig(\"pictures/results_fig_10.svg\")"
   ]
  },
  {
   "cell_type": "code",
   "execution_count": 143,
   "id": "usual-horse",
   "metadata": {},
   "outputs": [
    {
     "output_type": "display_data",
     "data": {
      "application/vnd.plotly.v1+json": {
       "config": {
        "plotlyServerURL": "https://plot.ly"
       },
       "data": [
        {
         "marker": {
          "color": "#4285F4"
         },
         "mode": "lines+markers",
         "name": "CCEu, SD=4",
         "type": "scatter",
         "x": [
          4,
          15,
          25,
          50,
          100,
          150,
          300
         ],
         "y": [
          -9.073558317399192,
          -1.6032012175047554,
          -1.370237242701954,
          -0.26143991960146024,
          -64.13384764740456,
          -113.59040450013758,
          -69.28411646952479
         ]
        },
        {
         "line": {
          "width": 0
         },
         "marker": {
          "color": "#4285F4"
         },
         "mode": "lines",
         "name": "Upper bound",
         "showlegend": false,
         "type": "scatter",
         "x": [
          4,
          15,
          25,
          50,
          100,
          150,
          300
         ],
         "y": [
          -5.716354433534629,
          0.09374047330673885,
          -0.27971224632738134,
          0.4790597010122449,
          1.5690388128859922,
          -112.49464916900517,
          -68.92338841199431
         ]
        },
        {
         "fill": "tonexty",
         "fillcolor": "rgba(66, 133, 244, 0.2)",
         "line": {
          "width": 0
         },
         "marker": {
          "color": "#4285F4"
         },
         "mode": "lines",
         "name": "Lower bound",
         "showlegend": false,
         "type": "scatter",
         "x": [
          4,
          15,
          25,
          50,
          100,
          150,
          300
         ],
         "y": [
          -12.430762201263754,
          -3.30014290831625,
          -2.4607622390765265,
          -1.0019395402151654,
          -129.83673410769512,
          -114.68615983126999,
          -69.64484452705527
         ]
        },
        {
         "marker": {
          "color": "#EA4335"
         },
         "mode": "lines+markers",
         "name": "CCE, SD=4",
         "type": "scatter",
         "x": [
          4,
          15,
          25,
          50,
          100,
          150,
          300
         ],
         "y": [
          93.0332506542994,
          91.6108874265631,
          79.11115149679057,
          60.660811784567954,
          -43.56191518960144,
          -113.47936493983153,
          -69.1725491366174
         ]
        },
        {
         "line": {
          "width": 0
         },
         "marker": {
          "color": "#EA4335"
         },
         "mode": "lines",
         "name": "Upper bound",
         "showlegend": false,
         "type": "scatter",
         "x": [
          4,
          15,
          25,
          50,
          100,
          150,
          300
         ],
         "y": [
          95.82097256448311,
          93.16348697925135,
          100.51605810151314,
          98.7474204853933,
          58.942057161927075,
          -112.26053040130863,
          -68.81737828467985
         ]
        },
        {
         "fill": "tonexty",
         "fillcolor": "rgba(234, 67, 53, 0.2)",
         "line": {
          "width": 0
         },
         "marker": {
          "color": "#EA4335"
         },
         "mode": "lines",
         "name": "Lower bound",
         "showlegend": false,
         "type": "scatter",
         "x": [
          4,
          15,
          25,
          50,
          100,
          150,
          300
         ],
         "y": [
          90.24552874411567,
          90.05828787387485,
          57.706244892068,
          22.574203083742603,
          -146.06588754112997,
          -114.69819947835443,
          -69.52771998855496
         ]
        },
        {
         "marker": {
          "color": "#FBBC04"
         },
         "mode": "lines+markers",
         "name": "JSD, SD=4",
         "type": "scatter",
         "x": [
          4,
          15,
          25,
          50,
          100,
          150,
          300
         ],
         "y": [
          95.61616153156402,
          91.06391701094286,
          82.94092051565691,
          79.2143067162887,
          -149.71650920813715,
          -112.99316820707388,
          -69.36599195051812
         ]
        },
        {
         "line": {
          "width": 0
         },
         "marker": {
          "color": "#FBBC04"
         },
         "mode": "lines",
         "name": "Upper bound",
         "showlegend": false,
         "type": "scatter",
         "x": [
          4,
          15,
          25,
          50,
          100,
          150,
          300
         ],
         "y": [
          96.73024837955381,
          98.89018142418263,
          97.4628626577535,
          102.43459181728383,
          -147.93878211902182,
          -112.09340004990403,
          -68.99510899295727
         ]
        },
        {
         "fill": "tonexty",
         "fillcolor": "rgba(251, 188, 4, 0.2)",
         "line": {
          "width": 0
         },
         "marker": {
          "color": "#FBBC04"
         },
         "mode": "lines",
         "name": "Lower bound",
         "showlegend": false,
         "type": "scatter",
         "x": [
          4,
          15,
          25,
          50,
          100,
          150,
          300
         ],
         "y": [
          94.50207468357422,
          83.23765259770309,
          68.41897837356032,
          55.994021615293576,
          -151.49423629725248,
          -113.89293636424372,
          -69.73687490807897
         ]
        },
        {
         "marker": {
          "color": "#46BDC6"
         },
         "mode": "lines+markers",
         "name": "JSD(5)",
         "type": "scatter",
         "x": [
          4,
          15,
          25,
          50,
          100,
          150,
          300
         ],
         "y": [
          94.41529356141194,
          92.39408600608132,
          91.38315258017538,
          85.70150450236488,
          67.82183728829347,
          44.88977843091746,
          -12.670726748821838
         ]
        },
        {
         "line": {
          "width": 0
         },
         "marker": {
          "color": "#46BDC6"
         },
         "mode": "lines",
         "name": "Upper bound",
         "showlegend": false,
         "type": "scatter",
         "x": [
          4,
          15,
          25,
          50,
          100,
          150,
          300
         ],
         "y": [
          96.16279322152506,
          93.09847255225797,
          92.5900429824297,
          87.65145908280611,
          75.59055653353352,
          54.4327115565967,
          -5.932293371122801
         ]
        },
        {
         "fill": "tonexty",
         "fillcolor": "rgba(70, 189, 198, 0.2)",
         "line": {
          "width": 0
         },
         "marker": {
          "color": "#46BDC6"
         },
         "mode": "lines",
         "name": "Lower bound",
         "showlegend": false,
         "type": "scatter",
         "x": [
          4,
          15,
          25,
          50,
          100,
          150,
          300
         ],
         "y": [
          92.66779390129882,
          91.68969945990467,
          90.17626217792106,
          83.75154992192365,
          60.05311804305341,
          35.34684530523822,
          -19.409160126520874
         ]
        }
       ],
       "layout": {
        "height": 600,
        "template": {
         "data": {
          "bar": [
           {
            "error_x": {
             "color": "#2a3f5f"
            },
            "error_y": {
             "color": "#2a3f5f"
            },
            "marker": {
             "line": {
              "color": "#E5ECF6",
              "width": 0.5
             }
            },
            "type": "bar"
           }
          ],
          "barpolar": [
           {
            "marker": {
             "line": {
              "color": "#E5ECF6",
              "width": 0.5
             }
            },
            "type": "barpolar"
           }
          ],
          "carpet": [
           {
            "aaxis": {
             "endlinecolor": "#2a3f5f",
             "gridcolor": "white",
             "linecolor": "white",
             "minorgridcolor": "white",
             "startlinecolor": "#2a3f5f"
            },
            "baxis": {
             "endlinecolor": "#2a3f5f",
             "gridcolor": "white",
             "linecolor": "white",
             "minorgridcolor": "white",
             "startlinecolor": "#2a3f5f"
            },
            "type": "carpet"
           }
          ],
          "choropleth": [
           {
            "colorbar": {
             "outlinewidth": 0,
             "ticks": ""
            },
            "type": "choropleth"
           }
          ],
          "contour": [
           {
            "colorbar": {
             "outlinewidth": 0,
             "ticks": ""
            },
            "colorscale": [
             [
              0,
              "#0d0887"
             ],
             [
              0.1111111111111111,
              "#46039f"
             ],
             [
              0.2222222222222222,
              "#7201a8"
             ],
             [
              0.3333333333333333,
              "#9c179e"
             ],
             [
              0.4444444444444444,
              "#bd3786"
             ],
             [
              0.5555555555555556,
              "#d8576b"
             ],
             [
              0.6666666666666666,
              "#ed7953"
             ],
             [
              0.7777777777777778,
              "#fb9f3a"
             ],
             [
              0.8888888888888888,
              "#fdca26"
             ],
             [
              1,
              "#f0f921"
             ]
            ],
            "type": "contour"
           }
          ],
          "contourcarpet": [
           {
            "colorbar": {
             "outlinewidth": 0,
             "ticks": ""
            },
            "type": "contourcarpet"
           }
          ],
          "heatmap": [
           {
            "colorbar": {
             "outlinewidth": 0,
             "ticks": ""
            },
            "colorscale": [
             [
              0,
              "#0d0887"
             ],
             [
              0.1111111111111111,
              "#46039f"
             ],
             [
              0.2222222222222222,
              "#7201a8"
             ],
             [
              0.3333333333333333,
              "#9c179e"
             ],
             [
              0.4444444444444444,
              "#bd3786"
             ],
             [
              0.5555555555555556,
              "#d8576b"
             ],
             [
              0.6666666666666666,
              "#ed7953"
             ],
             [
              0.7777777777777778,
              "#fb9f3a"
             ],
             [
              0.8888888888888888,
              "#fdca26"
             ],
             [
              1,
              "#f0f921"
             ]
            ],
            "type": "heatmap"
           }
          ],
          "heatmapgl": [
           {
            "colorbar": {
             "outlinewidth": 0,
             "ticks": ""
            },
            "colorscale": [
             [
              0,
              "#0d0887"
             ],
             [
              0.1111111111111111,
              "#46039f"
             ],
             [
              0.2222222222222222,
              "#7201a8"
             ],
             [
              0.3333333333333333,
              "#9c179e"
             ],
             [
              0.4444444444444444,
              "#bd3786"
             ],
             [
              0.5555555555555556,
              "#d8576b"
             ],
             [
              0.6666666666666666,
              "#ed7953"
             ],
             [
              0.7777777777777778,
              "#fb9f3a"
             ],
             [
              0.8888888888888888,
              "#fdca26"
             ],
             [
              1,
              "#f0f921"
             ]
            ],
            "type": "heatmapgl"
           }
          ],
          "histogram": [
           {
            "marker": {
             "colorbar": {
              "outlinewidth": 0,
              "ticks": ""
             }
            },
            "type": "histogram"
           }
          ],
          "histogram2d": [
           {
            "colorbar": {
             "outlinewidth": 0,
             "ticks": ""
            },
            "colorscale": [
             [
              0,
              "#0d0887"
             ],
             [
              0.1111111111111111,
              "#46039f"
             ],
             [
              0.2222222222222222,
              "#7201a8"
             ],
             [
              0.3333333333333333,
              "#9c179e"
             ],
             [
              0.4444444444444444,
              "#bd3786"
             ],
             [
              0.5555555555555556,
              "#d8576b"
             ],
             [
              0.6666666666666666,
              "#ed7953"
             ],
             [
              0.7777777777777778,
              "#fb9f3a"
             ],
             [
              0.8888888888888888,
              "#fdca26"
             ],
             [
              1,
              "#f0f921"
             ]
            ],
            "type": "histogram2d"
           }
          ],
          "histogram2dcontour": [
           {
            "colorbar": {
             "outlinewidth": 0,
             "ticks": ""
            },
            "colorscale": [
             [
              0,
              "#0d0887"
             ],
             [
              0.1111111111111111,
              "#46039f"
             ],
             [
              0.2222222222222222,
              "#7201a8"
             ],
             [
              0.3333333333333333,
              "#9c179e"
             ],
             [
              0.4444444444444444,
              "#bd3786"
             ],
             [
              0.5555555555555556,
              "#d8576b"
             ],
             [
              0.6666666666666666,
              "#ed7953"
             ],
             [
              0.7777777777777778,
              "#fb9f3a"
             ],
             [
              0.8888888888888888,
              "#fdca26"
             ],
             [
              1,
              "#f0f921"
             ]
            ],
            "type": "histogram2dcontour"
           }
          ],
          "mesh3d": [
           {
            "colorbar": {
             "outlinewidth": 0,
             "ticks": ""
            },
            "type": "mesh3d"
           }
          ],
          "parcoords": [
           {
            "line": {
             "colorbar": {
              "outlinewidth": 0,
              "ticks": ""
             }
            },
            "type": "parcoords"
           }
          ],
          "pie": [
           {
            "automargin": true,
            "type": "pie"
           }
          ],
          "scatter": [
           {
            "marker": {
             "colorbar": {
              "outlinewidth": 0,
              "ticks": ""
             }
            },
            "type": "scatter"
           }
          ],
          "scatter3d": [
           {
            "line": {
             "colorbar": {
              "outlinewidth": 0,
              "ticks": ""
             }
            },
            "marker": {
             "colorbar": {
              "outlinewidth": 0,
              "ticks": ""
             }
            },
            "type": "scatter3d"
           }
          ],
          "scattercarpet": [
           {
            "marker": {
             "colorbar": {
              "outlinewidth": 0,
              "ticks": ""
             }
            },
            "type": "scattercarpet"
           }
          ],
          "scattergeo": [
           {
            "marker": {
             "colorbar": {
              "outlinewidth": 0,
              "ticks": ""
             }
            },
            "type": "scattergeo"
           }
          ],
          "scattergl": [
           {
            "marker": {
             "colorbar": {
              "outlinewidth": 0,
              "ticks": ""
             }
            },
            "type": "scattergl"
           }
          ],
          "scattermapbox": [
           {
            "marker": {
             "colorbar": {
              "outlinewidth": 0,
              "ticks": ""
             }
            },
            "type": "scattermapbox"
           }
          ],
          "scatterpolar": [
           {
            "marker": {
             "colorbar": {
              "outlinewidth": 0,
              "ticks": ""
             }
            },
            "type": "scatterpolar"
           }
          ],
          "scatterpolargl": [
           {
            "marker": {
             "colorbar": {
              "outlinewidth": 0,
              "ticks": ""
             }
            },
            "type": "scatterpolargl"
           }
          ],
          "scatterternary": [
           {
            "marker": {
             "colorbar": {
              "outlinewidth": 0,
              "ticks": ""
             }
            },
            "type": "scatterternary"
           }
          ],
          "surface": [
           {
            "colorbar": {
             "outlinewidth": 0,
             "ticks": ""
            },
            "colorscale": [
             [
              0,
              "#0d0887"
             ],
             [
              0.1111111111111111,
              "#46039f"
             ],
             [
              0.2222222222222222,
              "#7201a8"
             ],
             [
              0.3333333333333333,
              "#9c179e"
             ],
             [
              0.4444444444444444,
              "#bd3786"
             ],
             [
              0.5555555555555556,
              "#d8576b"
             ],
             [
              0.6666666666666666,
              "#ed7953"
             ],
             [
              0.7777777777777778,
              "#fb9f3a"
             ],
             [
              0.8888888888888888,
              "#fdca26"
             ],
             [
              1,
              "#f0f921"
             ]
            ],
            "type": "surface"
           }
          ],
          "table": [
           {
            "cells": {
             "fill": {
              "color": "#EBF0F8"
             },
             "line": {
              "color": "white"
             }
            },
            "header": {
             "fill": {
              "color": "#C8D4E3"
             },
             "line": {
              "color": "white"
             }
            },
            "type": "table"
           }
          ]
         },
         "layout": {
          "annotationdefaults": {
           "arrowcolor": "#2a3f5f",
           "arrowhead": 0,
           "arrowwidth": 1
          },
          "autotypenumbers": "strict",
          "coloraxis": {
           "colorbar": {
            "outlinewidth": 0,
            "ticks": ""
           }
          },
          "colorscale": {
           "diverging": [
            [
             0,
             "#8e0152"
            ],
            [
             0.1,
             "#c51b7d"
            ],
            [
             0.2,
             "#de77ae"
            ],
            [
             0.3,
             "#f1b6da"
            ],
            [
             0.4,
             "#fde0ef"
            ],
            [
             0.5,
             "#f7f7f7"
            ],
            [
             0.6,
             "#e6f5d0"
            ],
            [
             0.7,
             "#b8e186"
            ],
            [
             0.8,
             "#7fbc41"
            ],
            [
             0.9,
             "#4d9221"
            ],
            [
             1,
             "#276419"
            ]
           ],
           "sequential": [
            [
             0,
             "#0d0887"
            ],
            [
             0.1111111111111111,
             "#46039f"
            ],
            [
             0.2222222222222222,
             "#7201a8"
            ],
            [
             0.3333333333333333,
             "#9c179e"
            ],
            [
             0.4444444444444444,
             "#bd3786"
            ],
            [
             0.5555555555555556,
             "#d8576b"
            ],
            [
             0.6666666666666666,
             "#ed7953"
            ],
            [
             0.7777777777777778,
             "#fb9f3a"
            ],
            [
             0.8888888888888888,
             "#fdca26"
            ],
            [
             1,
             "#f0f921"
            ]
           ],
           "sequentialminus": [
            [
             0,
             "#0d0887"
            ],
            [
             0.1111111111111111,
             "#46039f"
            ],
            [
             0.2222222222222222,
             "#7201a8"
            ],
            [
             0.3333333333333333,
             "#9c179e"
            ],
            [
             0.4444444444444444,
             "#bd3786"
            ],
            [
             0.5555555555555556,
             "#d8576b"
            ],
            [
             0.6666666666666666,
             "#ed7953"
            ],
            [
             0.7777777777777778,
             "#fb9f3a"
            ],
            [
             0.8888888888888888,
             "#fdca26"
            ],
            [
             1,
             "#f0f921"
            ]
           ]
          },
          "colorway": [
           "#636efa",
           "#EF553B",
           "#00cc96",
           "#ab63fa",
           "#FFA15A",
           "#19d3f3",
           "#FF6692",
           "#B6E880",
           "#FF97FF",
           "#FECB52"
          ],
          "font": {
           "color": "#2a3f5f"
          },
          "geo": {
           "bgcolor": "white",
           "lakecolor": "white",
           "landcolor": "#E5ECF6",
           "showlakes": true,
           "showland": true,
           "subunitcolor": "white"
          },
          "hoverlabel": {
           "align": "left"
          },
          "hovermode": "closest",
          "mapbox": {
           "style": "light"
          },
          "paper_bgcolor": "white",
          "plot_bgcolor": "#E5ECF6",
          "polar": {
           "angularaxis": {
            "gridcolor": "white",
            "linecolor": "white",
            "ticks": ""
           },
           "bgcolor": "#E5ECF6",
           "radialaxis": {
            "gridcolor": "white",
            "linecolor": "white",
            "ticks": ""
           }
          },
          "scene": {
           "xaxis": {
            "backgroundcolor": "#E5ECF6",
            "gridcolor": "white",
            "gridwidth": 2,
            "linecolor": "white",
            "showbackground": true,
            "ticks": "",
            "zerolinecolor": "white"
           },
           "yaxis": {
            "backgroundcolor": "#E5ECF6",
            "gridcolor": "white",
            "gridwidth": 2,
            "linecolor": "white",
            "showbackground": true,
            "ticks": "",
            "zerolinecolor": "white"
           },
           "zaxis": {
            "backgroundcolor": "#E5ECF6",
            "gridcolor": "white",
            "gridwidth": 2,
            "linecolor": "white",
            "showbackground": true,
            "ticks": "",
            "zerolinecolor": "white"
           }
          },
          "shapedefaults": {
           "line": {
            "color": "#2a3f5f"
           }
          },
          "ternary": {
           "aaxis": {
            "gridcolor": "white",
            "linecolor": "white",
            "ticks": ""
           },
           "baxis": {
            "gridcolor": "white",
            "linecolor": "white",
            "ticks": ""
           },
           "bgcolor": "#E5ECF6",
           "caxis": {
            "gridcolor": "white",
            "linecolor": "white",
            "ticks": ""
           }
          },
          "title": {
           "x": 0.05
          },
          "xaxis": {
           "automargin": true,
           "gridcolor": "white",
           "linecolor": "white",
           "ticks": "",
           "title": {
            "standoff": 15
           },
           "zerolinecolor": "white",
           "zerolinewidth": 2
          },
          "yaxis": {
           "automargin": true,
           "gridcolor": "white",
           "linecolor": "white",
           "ticks": "",
           "title": {
            "standoff": 15
           },
           "zerolinecolor": "white",
           "zerolinewidth": 2
          }
         }
        },
        "title": {
         "text": "sampling_density"
        },
        "width": 1000,
        "yaxis": {
         "dtick": 25,
         "range": [
          -175,
          100
         ],
         "tick0": 0
        }
       }
      }
     },
     "metadata": {}
    },
    {
     "output_type": "display_data",
     "data": {
      "text/plain": "<Figure size 432x288 with 0 Axes>"
     },
     "metadata": {}
    }
   ],
   "source": [
    "plot_vals(11)\n",
    "plt.savefig(\"pictures/results_fig_11.svg\")"
   ]
  },
  {
   "cell_type": "code",
   "execution_count": 144,
   "id": "burning-carnival",
   "metadata": {},
   "outputs": [
    {
     "output_type": "display_data",
     "data": {
      "application/vnd.plotly.v1+json": {
       "config": {
        "plotlyServerURL": "https://plot.ly"
       },
       "data": [
        {
         "marker": {
          "color": "#4285F4"
         },
         "mode": "lines+markers",
         "name": "CCEu, SD=4",
         "type": "scatter",
         "x": [
          2,
          3,
          4,
          5,
          10,
          20,
          30
         ],
         "y": [
          -7.969607906920162,
          -9.073558317399192,
          -11.195325813310435,
          -13.254887301323844,
          -14.58586716451839,
          -50.44692130662171,
          -180.80128426563743
         ]
        },
        {
         "line": {
          "width": 0
         },
         "marker": {
          "color": "#4285F4"
         },
         "mode": "lines",
         "name": "Upper bound",
         "showlegend": false,
         "type": "scatter",
         "x": [
          2,
          3,
          4,
          5,
          10,
          20,
          30
         ],
         "y": [
          -1.5855817379292523,
          -5.716354433534629,
          -8.973023356137043,
          -10.538654737615252,
          -13.591805559086625,
          -23.38323924091865,
          -105.51750061981585
         ]
        },
        {
         "fill": "tonexty",
         "fillcolor": "rgba(66, 133, 244, 0.2)",
         "line": {
          "width": 0
         },
         "marker": {
          "color": "#4285F4"
         },
         "mode": "lines",
         "name": "Lower bound",
         "showlegend": false,
         "type": "scatter",
         "x": [
          2,
          3,
          4,
          5,
          10,
          20,
          30
         ],
         "y": [
          -14.35363407591107,
          -12.430762201263754,
          -13.417628270483826,
          -15.971119865032437,
          -15.579928769950156,
          -77.51060337232477,
          -256.085067911459
         ]
        },
        {
         "marker": {
          "color": "#EA4335"
         },
         "mode": "lines+markers",
         "name": "CCE, SD=4",
         "type": "scatter",
         "x": [
          2,
          3,
          4,
          5,
          10,
          20,
          30
         ],
         "y": [
          96.54368067681013,
          93.0332506542994,
          92.57176051823251,
          90.03683675267749,
          67.78501331025036,
          -70.46002746582178,
          -357.33939894958377
         ]
        },
        {
         "line": {
          "width": 0
         },
         "marker": {
          "color": "#EA4335"
         },
         "mode": "lines",
         "name": "Upper bound",
         "showlegend": false,
         "type": "scatter",
         "x": [
          2,
          3,
          4,
          5,
          10,
          20,
          30
         ],
         "y": [
          97.98324403542131,
          95.82097256448311,
          93.34763495961285,
          94.59371396088918,
          97.471032392273,
          -3.916491195212785,
          -258.3723128067959
         ]
        },
        {
         "fill": "tonexty",
         "fillcolor": "rgba(234, 67, 53, 0.2)",
         "line": {
          "width": 0
         },
         "marker": {
          "color": "#EA4335"
         },
         "mode": "lines",
         "name": "Lower bound",
         "showlegend": false,
         "type": "scatter",
         "x": [
          2,
          3,
          4,
          5,
          10,
          20,
          30
         ],
         "y": [
          95.10411731819894,
          90.24552874411567,
          91.79588607685217,
          85.4799595444658,
          38.098994228227724,
          -137.00356373643078,
          -456.30648509237164
         ]
        },
        {
         "marker": {
          "color": "#FBBC04"
         },
         "mode": "lines+markers",
         "name": "JSD, SD=4",
         "type": "scatter",
         "x": [
          2,
          3,
          4,
          5,
          10,
          20,
          30
         ],
         "y": [
          96.82613537624506,
          95.61616153156402,
          94.81896566589401,
          92.8302977554399,
          85.57298817667458,
          -57.56062617467391,
          -318.413364701583
         ]
        },
        {
         "line": {
          "width": 0
         },
         "marker": {
          "color": "#FBBC04"
         },
         "mode": "lines",
         "name": "Upper bound",
         "showlegend": false,
         "type": "scatter",
         "x": [
          2,
          3,
          4,
          5,
          10,
          20,
          30
         ],
         "y": [
          98.70312732839542,
          96.73024837955381,
          95.71225159829024,
          94.85816654513437,
          94.85326311103671,
          -30.4144136826453,
          -302.8176738251577
         ]
        },
        {
         "fill": "tonexty",
         "fillcolor": "rgba(251, 188, 4, 0.2)",
         "line": {
          "width": 0
         },
         "marker": {
          "color": "#FBBC04"
         },
         "mode": "lines",
         "name": "Lower bound",
         "showlegend": false,
         "type": "scatter",
         "x": [
          2,
          3,
          4,
          5,
          10,
          20,
          30
         ],
         "y": [
          94.9491434240947,
          94.50207468357422,
          93.92567973349779,
          90.80242896574543,
          76.29271324231246,
          -84.70683866670251,
          -334.0090555780083
         ]
        },
        {
         "marker": {
          "color": "#34A853"
         },
         "mode": "lines+markers",
         "name": "CCE, SD=100",
         "type": "scatter",
         "x": [
          2,
          3,
          4,
          5
         ],
         "y": [
          84.41378956226453,
          -43.56191518960144,
          -148.88746642338475,
          -149.74566889349143
         ]
        },
        {
         "line": {
          "width": 0
         },
         "marker": {
          "color": "#34A853"
         },
         "mode": "lines",
         "name": "Upper bound",
         "showlegend": false,
         "type": "scatter",
         "x": [
          2,
          3,
          4,
          5
         ],
         "y": [
          88.8399488322637,
          58.942057161927075,
          -147.9112355889515,
          -148.26633221973296
         ]
        },
        {
         "fill": "tonexty",
         "fillcolor": "rgba(52, 168, 83, 0.2)",
         "line": {
          "width": 0
         },
         "marker": {
          "color": "#34A853"
         },
         "mode": "lines",
         "name": "Lower bound",
         "showlegend": false,
         "type": "scatter",
         "x": [
          2,
          3,
          4,
          5
         ],
         "y": [
          79.98763029226535,
          -146.06588754112997,
          -149.863697257818,
          -151.2250055672499
         ]
        },
        {
         "marker": {
          "color": "#000000"
         },
         "mode": "lines+markers",
         "name": "JSD, SD=100",
         "type": "scatter",
         "x": [
          2,
          3,
          4,
          5
         ],
         "y": [
          88.96962923923223,
          -149.71650920813715,
          -148.97658783213524,
          -149.5297185162839
         ]
        },
        {
         "line": {
          "width": 0
         },
         "marker": {
          "color": "#000000"
         },
         "mode": "lines",
         "name": "Upper bound",
         "showlegend": false,
         "type": "scatter",
         "x": [
          2,
          3,
          4,
          5
         ],
         "y": [
          92.9460242233175,
          -147.93878211902182,
          -148.01784145034318,
          -148.60244164453937
         ]
        },
        {
         "fill": "tonexty",
         "fillcolor": "rgba(0, 0, 0, 0.2)",
         "line": {
          "width": 0
         },
         "marker": {
          "color": "#000000"
         },
         "mode": "lines",
         "name": "Lower bound",
         "showlegend": false,
         "type": "scatter",
         "x": [
          2,
          3,
          4,
          5
         ],
         "y": [
          84.99323425514697,
          -151.49423629725248,
          -149.9353342139273,
          -150.45699538802845
         ]
        },
        {
         "marker": {
          "color": "#46BDC6"
         },
         "mode": "lines+markers",
         "name": "JSD(5), SD=100",
         "type": "scatter",
         "x": [
          2,
          3,
          4,
          5
         ],
         "y": [
          89.97966998876436,
          67.82183728829347,
          26.93710624521512,
          -26.807638295823743
         ]
        },
        {
         "line": {
          "width": 0
         },
         "marker": {
          "color": "#46BDC6"
         },
         "mode": "lines",
         "name": "Upper bound",
         "showlegend": false,
         "type": "scatter",
         "x": [
          2,
          3,
          4,
          5
         ],
         "y": [
          91.47235234538222,
          75.59055653353352,
          35.8976763667223,
          -16.211533643947106
         ]
        },
        {
         "fill": "tonexty",
         "fillcolor": "rgba(70, 189, 198, 0.2)",
         "line": {
          "width": 0
         },
         "marker": {
          "color": "#46BDC6"
         },
         "mode": "lines",
         "name": "Lower bound",
         "showlegend": false,
         "type": "scatter",
         "x": [
          2,
          3,
          4,
          5
         ],
         "y": [
          88.4869876321465,
          60.05311804305341,
          17.976536123707938,
          -37.40374294770038
         ]
        }
       ],
       "layout": {
        "height": 600,
        "template": {
         "data": {
          "bar": [
           {
            "error_x": {
             "color": "#2a3f5f"
            },
            "error_y": {
             "color": "#2a3f5f"
            },
            "marker": {
             "line": {
              "color": "#E5ECF6",
              "width": 0.5
             }
            },
            "type": "bar"
           }
          ],
          "barpolar": [
           {
            "marker": {
             "line": {
              "color": "#E5ECF6",
              "width": 0.5
             }
            },
            "type": "barpolar"
           }
          ],
          "carpet": [
           {
            "aaxis": {
             "endlinecolor": "#2a3f5f",
             "gridcolor": "white",
             "linecolor": "white",
             "minorgridcolor": "white",
             "startlinecolor": "#2a3f5f"
            },
            "baxis": {
             "endlinecolor": "#2a3f5f",
             "gridcolor": "white",
             "linecolor": "white",
             "minorgridcolor": "white",
             "startlinecolor": "#2a3f5f"
            },
            "type": "carpet"
           }
          ],
          "choropleth": [
           {
            "colorbar": {
             "outlinewidth": 0,
             "ticks": ""
            },
            "type": "choropleth"
           }
          ],
          "contour": [
           {
            "colorbar": {
             "outlinewidth": 0,
             "ticks": ""
            },
            "colorscale": [
             [
              0,
              "#0d0887"
             ],
             [
              0.1111111111111111,
              "#46039f"
             ],
             [
              0.2222222222222222,
              "#7201a8"
             ],
             [
              0.3333333333333333,
              "#9c179e"
             ],
             [
              0.4444444444444444,
              "#bd3786"
             ],
             [
              0.5555555555555556,
              "#d8576b"
             ],
             [
              0.6666666666666666,
              "#ed7953"
             ],
             [
              0.7777777777777778,
              "#fb9f3a"
             ],
             [
              0.8888888888888888,
              "#fdca26"
             ],
             [
              1,
              "#f0f921"
             ]
            ],
            "type": "contour"
           }
          ],
          "contourcarpet": [
           {
            "colorbar": {
             "outlinewidth": 0,
             "ticks": ""
            },
            "type": "contourcarpet"
           }
          ],
          "heatmap": [
           {
            "colorbar": {
             "outlinewidth": 0,
             "ticks": ""
            },
            "colorscale": [
             [
              0,
              "#0d0887"
             ],
             [
              0.1111111111111111,
              "#46039f"
             ],
             [
              0.2222222222222222,
              "#7201a8"
             ],
             [
              0.3333333333333333,
              "#9c179e"
             ],
             [
              0.4444444444444444,
              "#bd3786"
             ],
             [
              0.5555555555555556,
              "#d8576b"
             ],
             [
              0.6666666666666666,
              "#ed7953"
             ],
             [
              0.7777777777777778,
              "#fb9f3a"
             ],
             [
              0.8888888888888888,
              "#fdca26"
             ],
             [
              1,
              "#f0f921"
             ]
            ],
            "type": "heatmap"
           }
          ],
          "heatmapgl": [
           {
            "colorbar": {
             "outlinewidth": 0,
             "ticks": ""
            },
            "colorscale": [
             [
              0,
              "#0d0887"
             ],
             [
              0.1111111111111111,
              "#46039f"
             ],
             [
              0.2222222222222222,
              "#7201a8"
             ],
             [
              0.3333333333333333,
              "#9c179e"
             ],
             [
              0.4444444444444444,
              "#bd3786"
             ],
             [
              0.5555555555555556,
              "#d8576b"
             ],
             [
              0.6666666666666666,
              "#ed7953"
             ],
             [
              0.7777777777777778,
              "#fb9f3a"
             ],
             [
              0.8888888888888888,
              "#fdca26"
             ],
             [
              1,
              "#f0f921"
             ]
            ],
            "type": "heatmapgl"
           }
          ],
          "histogram": [
           {
            "marker": {
             "colorbar": {
              "outlinewidth": 0,
              "ticks": ""
             }
            },
            "type": "histogram"
           }
          ],
          "histogram2d": [
           {
            "colorbar": {
             "outlinewidth": 0,
             "ticks": ""
            },
            "colorscale": [
             [
              0,
              "#0d0887"
             ],
             [
              0.1111111111111111,
              "#46039f"
             ],
             [
              0.2222222222222222,
              "#7201a8"
             ],
             [
              0.3333333333333333,
              "#9c179e"
             ],
             [
              0.4444444444444444,
              "#bd3786"
             ],
             [
              0.5555555555555556,
              "#d8576b"
             ],
             [
              0.6666666666666666,
              "#ed7953"
             ],
             [
              0.7777777777777778,
              "#fb9f3a"
             ],
             [
              0.8888888888888888,
              "#fdca26"
             ],
             [
              1,
              "#f0f921"
             ]
            ],
            "type": "histogram2d"
           }
          ],
          "histogram2dcontour": [
           {
            "colorbar": {
             "outlinewidth": 0,
             "ticks": ""
            },
            "colorscale": [
             [
              0,
              "#0d0887"
             ],
             [
              0.1111111111111111,
              "#46039f"
             ],
             [
              0.2222222222222222,
              "#7201a8"
             ],
             [
              0.3333333333333333,
              "#9c179e"
             ],
             [
              0.4444444444444444,
              "#bd3786"
             ],
             [
              0.5555555555555556,
              "#d8576b"
             ],
             [
              0.6666666666666666,
              "#ed7953"
             ],
             [
              0.7777777777777778,
              "#fb9f3a"
             ],
             [
              0.8888888888888888,
              "#fdca26"
             ],
             [
              1,
              "#f0f921"
             ]
            ],
            "type": "histogram2dcontour"
           }
          ],
          "mesh3d": [
           {
            "colorbar": {
             "outlinewidth": 0,
             "ticks": ""
            },
            "type": "mesh3d"
           }
          ],
          "parcoords": [
           {
            "line": {
             "colorbar": {
              "outlinewidth": 0,
              "ticks": ""
             }
            },
            "type": "parcoords"
           }
          ],
          "pie": [
           {
            "automargin": true,
            "type": "pie"
           }
          ],
          "scatter": [
           {
            "marker": {
             "colorbar": {
              "outlinewidth": 0,
              "ticks": ""
             }
            },
            "type": "scatter"
           }
          ],
          "scatter3d": [
           {
            "line": {
             "colorbar": {
              "outlinewidth": 0,
              "ticks": ""
             }
            },
            "marker": {
             "colorbar": {
              "outlinewidth": 0,
              "ticks": ""
             }
            },
            "type": "scatter3d"
           }
          ],
          "scattercarpet": [
           {
            "marker": {
             "colorbar": {
              "outlinewidth": 0,
              "ticks": ""
             }
            },
            "type": "scattercarpet"
           }
          ],
          "scattergeo": [
           {
            "marker": {
             "colorbar": {
              "outlinewidth": 0,
              "ticks": ""
             }
            },
            "type": "scattergeo"
           }
          ],
          "scattergl": [
           {
            "marker": {
             "colorbar": {
              "outlinewidth": 0,
              "ticks": ""
             }
            },
            "type": "scattergl"
           }
          ],
          "scattermapbox": [
           {
            "marker": {
             "colorbar": {
              "outlinewidth": 0,
              "ticks": ""
             }
            },
            "type": "scattermapbox"
           }
          ],
          "scatterpolar": [
           {
            "marker": {
             "colorbar": {
              "outlinewidth": 0,
              "ticks": ""
             }
            },
            "type": "scatterpolar"
           }
          ],
          "scatterpolargl": [
           {
            "marker": {
             "colorbar": {
              "outlinewidth": 0,
              "ticks": ""
             }
            },
            "type": "scatterpolargl"
           }
          ],
          "scatterternary": [
           {
            "marker": {
             "colorbar": {
              "outlinewidth": 0,
              "ticks": ""
             }
            },
            "type": "scatterternary"
           }
          ],
          "surface": [
           {
            "colorbar": {
             "outlinewidth": 0,
             "ticks": ""
            },
            "colorscale": [
             [
              0,
              "#0d0887"
             ],
             [
              0.1111111111111111,
              "#46039f"
             ],
             [
              0.2222222222222222,
              "#7201a8"
             ],
             [
              0.3333333333333333,
              "#9c179e"
             ],
             [
              0.4444444444444444,
              "#bd3786"
             ],
             [
              0.5555555555555556,
              "#d8576b"
             ],
             [
              0.6666666666666666,
              "#ed7953"
             ],
             [
              0.7777777777777778,
              "#fb9f3a"
             ],
             [
              0.8888888888888888,
              "#fdca26"
             ],
             [
              1,
              "#f0f921"
             ]
            ],
            "type": "surface"
           }
          ],
          "table": [
           {
            "cells": {
             "fill": {
              "color": "#EBF0F8"
             },
             "line": {
              "color": "white"
             }
            },
            "header": {
             "fill": {
              "color": "#C8D4E3"
             },
             "line": {
              "color": "white"
             }
            },
            "type": "table"
           }
          ]
         },
         "layout": {
          "annotationdefaults": {
           "arrowcolor": "#2a3f5f",
           "arrowhead": 0,
           "arrowwidth": 1
          },
          "autotypenumbers": "strict",
          "coloraxis": {
           "colorbar": {
            "outlinewidth": 0,
            "ticks": ""
           }
          },
          "colorscale": {
           "diverging": [
            [
             0,
             "#8e0152"
            ],
            [
             0.1,
             "#c51b7d"
            ],
            [
             0.2,
             "#de77ae"
            ],
            [
             0.3,
             "#f1b6da"
            ],
            [
             0.4,
             "#fde0ef"
            ],
            [
             0.5,
             "#f7f7f7"
            ],
            [
             0.6,
             "#e6f5d0"
            ],
            [
             0.7,
             "#b8e186"
            ],
            [
             0.8,
             "#7fbc41"
            ],
            [
             0.9,
             "#4d9221"
            ],
            [
             1,
             "#276419"
            ]
           ],
           "sequential": [
            [
             0,
             "#0d0887"
            ],
            [
             0.1111111111111111,
             "#46039f"
            ],
            [
             0.2222222222222222,
             "#7201a8"
            ],
            [
             0.3333333333333333,
             "#9c179e"
            ],
            [
             0.4444444444444444,
             "#bd3786"
            ],
            [
             0.5555555555555556,
             "#d8576b"
            ],
            [
             0.6666666666666666,
             "#ed7953"
            ],
            [
             0.7777777777777778,
             "#fb9f3a"
            ],
            [
             0.8888888888888888,
             "#fdca26"
            ],
            [
             1,
             "#f0f921"
            ]
           ],
           "sequentialminus": [
            [
             0,
             "#0d0887"
            ],
            [
             0.1111111111111111,
             "#46039f"
            ],
            [
             0.2222222222222222,
             "#7201a8"
            ],
            [
             0.3333333333333333,
             "#9c179e"
            ],
            [
             0.4444444444444444,
             "#bd3786"
            ],
            [
             0.5555555555555556,
             "#d8576b"
            ],
            [
             0.6666666666666666,
             "#ed7953"
            ],
            [
             0.7777777777777778,
             "#fb9f3a"
            ],
            [
             0.8888888888888888,
             "#fdca26"
            ],
            [
             1,
             "#f0f921"
            ]
           ]
          },
          "colorway": [
           "#636efa",
           "#EF553B",
           "#00cc96",
           "#ab63fa",
           "#FFA15A",
           "#19d3f3",
           "#FF6692",
           "#B6E880",
           "#FF97FF",
           "#FECB52"
          ],
          "font": {
           "color": "#2a3f5f"
          },
          "geo": {
           "bgcolor": "white",
           "lakecolor": "white",
           "landcolor": "#E5ECF6",
           "showlakes": true,
           "showland": true,
           "subunitcolor": "white"
          },
          "hoverlabel": {
           "align": "left"
          },
          "hovermode": "closest",
          "mapbox": {
           "style": "light"
          },
          "paper_bgcolor": "white",
          "plot_bgcolor": "#E5ECF6",
          "polar": {
           "angularaxis": {
            "gridcolor": "white",
            "linecolor": "white",
            "ticks": ""
           },
           "bgcolor": "#E5ECF6",
           "radialaxis": {
            "gridcolor": "white",
            "linecolor": "white",
            "ticks": ""
           }
          },
          "scene": {
           "xaxis": {
            "backgroundcolor": "#E5ECF6",
            "gridcolor": "white",
            "gridwidth": 2,
            "linecolor": "white",
            "showbackground": true,
            "ticks": "",
            "zerolinecolor": "white"
           },
           "yaxis": {
            "backgroundcolor": "#E5ECF6",
            "gridcolor": "white",
            "gridwidth": 2,
            "linecolor": "white",
            "showbackground": true,
            "ticks": "",
            "zerolinecolor": "white"
           },
           "zaxis": {
            "backgroundcolor": "#E5ECF6",
            "gridcolor": "white",
            "gridwidth": 2,
            "linecolor": "white",
            "showbackground": true,
            "ticks": "",
            "zerolinecolor": "white"
           }
          },
          "shapedefaults": {
           "line": {
            "color": "#2a3f5f"
           }
          },
          "ternary": {
           "aaxis": {
            "gridcolor": "white",
            "linecolor": "white",
            "ticks": ""
           },
           "baxis": {
            "gridcolor": "white",
            "linecolor": "white",
            "ticks": ""
           },
           "bgcolor": "#E5ECF6",
           "caxis": {
            "gridcolor": "white",
            "linecolor": "white",
            "ticks": ""
           }
          },
          "title": {
           "x": 0.05
          },
          "xaxis": {
           "automargin": true,
           "gridcolor": "white",
           "linecolor": "white",
           "ticks": "",
           "title": {
            "standoff": 15
           },
           "zerolinecolor": "white",
           "zerolinewidth": 2
          },
          "yaxis": {
           "automargin": true,
           "gridcolor": "white",
           "linecolor": "white",
           "ticks": "",
           "title": {
            "standoff": 15
           },
           "zerolinecolor": "white",
           "zerolinewidth": 2
          }
         }
        },
        "title": {
         "text": "BN_size"
        },
        "width": 1000,
        "yaxis": {
         "dtick": 25,
         "range": [
          -350,
          100
         ],
         "tick0": 0
        }
       }
      }
     },
     "metadata": {}
    },
    {
     "output_type": "display_data",
     "data": {
      "text/plain": "<Figure size 432x288 with 0 Axes>"
     },
     "metadata": {}
    }
   ],
   "source": [
    "plot_vals(12,ylim=[-350,100])\n",
    "plt.savefig(\"pictures/results_fig_12.svg\")"
   ]
  },
  {
   "cell_type": "code",
   "execution_count": 17,
   "id": "partial-algeria",
   "metadata": {},
   "outputs": [
    {
     "output_type": "execute_result",
     "data": {
      "text/plain": [
       "['0 10',\n",
       " '1 10',\n",
       " '2 10',\n",
       " '3 10',\n",
       " '4 10',\n",
       " '5 10',\n",
       " '6 10',\n",
       " '7 10',\n",
       " '8 10',\n",
       " '9 10',\n",
       " '10 10',\n",
       " '11 10',\n",
       " '12 10',\n",
       " '13 10',\n",
       " '14 10',\n",
       " '15 10',\n",
       " '16 10',\n",
       " '17 10',\n",
       " '18 10',\n",
       " '19 10',\n",
       " '20 10',\n",
       " '21 10',\n",
       " '22 10',\n",
       " '23 10',\n",
       " '24 10',\n",
       " '25 10',\n",
       " '26 10',\n",
       " '27 10',\n",
       " '28 10',\n",
       " '29 10',\n",
       " '30 10',\n",
       " '31 10',\n",
       " '32 10',\n",
       " '33 10',\n",
       " '34 10',\n",
       " '35 10',\n",
       " '36 10',\n",
       " '37 10',\n",
       " '38 10',\n",
       " '39 10',\n",
       " '40 10',\n",
       " '41 10',\n",
       " '42 10',\n",
       " '43 10',\n",
       " '44 10',\n",
       " '45 10',\n",
       " '46 10',\n",
       " '47 10',\n",
       " '48 10',\n",
       " '49 10',\n",
       " '50 10',\n",
       " '51 10',\n",
       " '52 10',\n",
       " '53 10',\n",
       " '54 10',\n",
       " '55 10',\n",
       " '56 10',\n",
       " '57 10',\n",
       " '58 10',\n",
       " '59 10',\n",
       " '60 10',\n",
       " '61 10',\n",
       " '62 10',\n",
       " '63 10',\n",
       " '64 10',\n",
       " '65 10',\n",
       " '66 10',\n",
       " '67 10',\n",
       " '68 10',\n",
       " '69 10',\n",
       " '70 10',\n",
       " '71 10',\n",
       " '72 12',\n",
       " '73 10',\n",
       " '74 10',\n",
       " '75 10',\n",
       " '76 10',\n",
       " '77 10',\n",
       " '78 10',\n",
       " '79 10',\n",
       " '80 10',\n",
       " '81 10',\n",
       " '82 10',\n",
       " '83 10',\n",
       " '84 10',\n",
       " '85 10',\n",
       " '86 10',\n",
       " '87 10',\n",
       " '88 10',\n",
       " '89 10',\n",
       " '90 10',\n",
       " '91 10',\n",
       " '92 10',\n",
       " '93 10',\n",
       " '94 10',\n",
       " '95 10',\n",
       " '96 10',\n",
       " '97 12',\n",
       " '98 10',\n",
       " '99 10',\n",
       " '100 10',\n",
       " '101 10',\n",
       " '102 10',\n",
       " '103 10',\n",
       " '104 10',\n",
       " '105 10',\n",
       " '106 10',\n",
       " '107 10',\n",
       " '108 10',\n",
       " '109 10',\n",
       " '110 10',\n",
       " '111 10',\n",
       " '112 10',\n",
       " '113 10',\n",
       " '114 10',\n",
       " '115 10',\n",
       " '116 10',\n",
       " '117 10',\n",
       " '118 10',\n",
       " '119 10',\n",
       " '120 10',\n",
       " '121 10',\n",
       " '122 10',\n",
       " '123 10',\n",
       " '124 10',\n",
       " '125 10',\n",
       " '126 10',\n",
       " '127 10',\n",
       " '128 10',\n",
       " '129 10',\n",
       " '130 10',\n",
       " '131 10',\n",
       " '132 10',\n",
       " '133 10',\n",
       " '134 10',\n",
       " '135 10',\n",
       " '136 10',\n",
       " '137 10',\n",
       " '138 10',\n",
       " '139 10',\n",
       " '140 10',\n",
       " '141 10',\n",
       " '142 10',\n",
       " '143 10',\n",
       " '144 10',\n",
       " '145 10',\n",
       " '146 10',\n",
       " '147 15',\n",
       " '148 10',\n",
       " '149 10',\n",
       " '150 10',\n",
       " '151 10',\n",
       " '152 10',\n",
       " '153 10',\n",
       " '154 10',\n",
       " '155 10',\n",
       " '156 10',\n",
       " '157 10',\n",
       " '158 10',\n",
       " '159 10',\n",
       " '160 10',\n",
       " '161 10',\n",
       " '162 10',\n",
       " '163 10',\n",
       " '164 10',\n",
       " '165 10',\n",
       " '166 10',\n",
       " '167 10',\n",
       " '168 10',\n",
       " '169 10',\n",
       " '170 10',\n",
       " '171 10',\n",
       " '172 10',\n",
       " '173 10',\n",
       " '174 10',\n",
       " '175 10',\n",
       " '176 10',\n",
       " '177 10',\n",
       " '178 10',\n",
       " '179 10',\n",
       " '180 10',\n",
       " '181 10',\n",
       " '182 10',\n",
       " '183 10',\n",
       " '184 10',\n",
       " '185 10',\n",
       " '186 10',\n",
       " '187 10',\n",
       " '188 10',\n",
       " '189 10',\n",
       " '190 10',\n",
       " '191 10',\n",
       " '192 10',\n",
       " '193 10',\n",
       " '194 10',\n",
       " '195 10',\n",
       " '196 10',\n",
       " '197 10',\n",
       " '198 10',\n",
       " '199 10',\n",
       " '200 10',\n",
       " '201 10',\n",
       " '202 10',\n",
       " '203 10',\n",
       " '204 10',\n",
       " '205 10',\n",
       " '206 10',\n",
       " '207 10',\n",
       " '208 10',\n",
       " '209 10',\n",
       " '210 11',\n",
       " '211 10',\n",
       " '212 10',\n",
       " '213 10',\n",
       " '214 10',\n",
       " '215 12',\n",
       " '216 10',\n",
       " '217 10',\n",
       " '218 11',\n",
       " '219 12',\n",
       " '220 10',\n",
       " '221 10',\n",
       " '222 10',\n",
       " '223 10',\n",
       " '224 12',\n",
       " '225 10',\n",
       " '226 10',\n",
       " '227 10',\n",
       " '228 10',\n",
       " '229 11',\n",
       " '230 10',\n",
       " '231 10',\n",
       " '232 12',\n",
       " '233 10',\n",
       " '234 10',\n",
       " '235 10',\n",
       " '236 10',\n",
       " '237 12',\n",
       " '238 10',\n",
       " '239 12',\n",
       " '240 10',\n",
       " '241 10',\n",
       " '242 10',\n",
       " '243 10',\n",
       " '244 10',\n",
       " '245 10',\n",
       " '246 10',\n",
       " '247 10',\n",
       " '248 10',\n",
       " '249 10',\n",
       " '250 10',\n",
       " '251 10',\n",
       " '252 12',\n",
       " '253 10',\n",
       " '254 10',\n",
       " '255 10',\n",
       " '256 12',\n",
       " '257 10',\n",
       " '258 10',\n",
       " '259 10',\n",
       " '260 10',\n",
       " '261 10',\n",
       " '262 10',\n",
       " '263 10',\n",
       " '264 10',\n",
       " '265 10',\n",
       " '266 10',\n",
       " '267 10',\n",
       " '268 10',\n",
       " '269 10',\n",
       " '270 11',\n",
       " '271 10',\n",
       " '272 10',\n",
       " '273 10',\n",
       " '274 10',\n",
       " '275 10',\n",
       " '276 10',\n",
       " '277 11',\n",
       " '278 10',\n",
       " '279 10',\n",
       " '280 10',\n",
       " '281 15',\n",
       " '282 10',\n",
       " '283 10',\n",
       " '284 10',\n",
       " '285 15',\n",
       " '286 10',\n",
       " '287 10',\n",
       " '288 10',\n",
       " '289 10',\n",
       " '290 15',\n",
       " '291 10',\n",
       " '292 10',\n",
       " '293 10',\n",
       " '294 11',\n",
       " '295 11',\n",
       " '296 10',\n",
       " '297 10',\n",
       " '298 15',\n",
       " '299 10',\n",
       " '300 10',\n",
       " '301 11',\n",
       " '302 10',\n",
       " '303 15',\n",
       " '304 10',\n",
       " '305 15',\n",
       " '306 10',\n",
       " '307 10',\n",
       " '308 10',\n",
       " '309 10',\n",
       " '310 10',\n",
       " '311 10',\n",
       " '312 10',\n",
       " '313 10',\n",
       " '314 10',\n",
       " '315 10',\n",
       " '316 10',\n",
       " '317 10',\n",
       " '318 15',\n",
       " '319 10',\n",
       " '320 10',\n",
       " '321 10',\n",
       " '322 15',\n",
       " '323 10',\n",
       " '324 10',\n",
       " '325 10',\n",
       " '326 10',\n",
       " '327 10',\n",
       " '328 10',\n",
       " '329 10',\n",
       " '330 10',\n",
       " '331 11',\n",
       " '332 10',\n",
       " '333 10',\n",
       " '334 10',\n",
       " '335 10',\n",
       " '336 11',\n",
       " '337 10',\n",
       " '338 10',\n",
       " '339 10',\n",
       " '340 10',\n",
       " '341 10',\n",
       " '342 10',\n",
       " '343 11',\n",
       " '344 10',\n",
       " '345 10',\n",
       " '346 10',\n",
       " '347 11',\n",
       " '348 10',\n",
       " '349 10',\n",
       " '350 10',\n",
       " '351 11',\n",
       " '352 10',\n",
       " '353 10',\n",
       " '354 10',\n",
       " '355 10',\n",
       " '356 11',\n",
       " '357 10',\n",
       " '358 10',\n",
       " '359 10',\n",
       " '360 10',\n",
       " '361 10',\n",
       " '362 10',\n",
       " '363 10',\n",
       " '364 11',\n",
       " '365 10',\n",
       " '366 11',\n",
       " '367 10',\n",
       " '368 10',\n",
       " '369 10',\n",
       " '370 10',\n",
       " '371 10',\n",
       " '372 10',\n",
       " '373 10',\n",
       " '374 10',\n",
       " '375 10',\n",
       " '376 10',\n",
       " '377 10',\n",
       " '378 10',\n",
       " '379 11',\n",
       " '380 10',\n",
       " '381 10',\n",
       " '382 10',\n",
       " '383 11',\n",
       " '384 10',\n",
       " '385 10',\n",
       " '386 10',\n",
       " '387 10',\n",
       " '388 10',\n",
       " '389 10',\n",
       " '390 10',\n",
       " '391 10',\n",
       " '392 10',\n",
       " '393 10',\n",
       " '394 10',\n",
       " '395 10',\n",
       " '396 10',\n",
       " '397 10',\n",
       " '398 10',\n",
       " '399 10',\n",
       " '400 10',\n",
       " '401 10',\n",
       " '402 10',\n",
       " '403 10',\n",
       " '404 10',\n",
       " '405 10',\n",
       " '406 12',\n",
       " '407 10',\n",
       " '408 10',\n",
       " '409 10',\n",
       " '410 11',\n",
       " '411 10',\n",
       " '412 10',\n",
       " '413 10',\n",
       " '414 10',\n",
       " '415 10',\n",
       " '416 10',\n",
       " '417 10',\n",
       " '418 10',\n",
       " '419 10',\n",
       " '420 10',\n",
       " '421 10',\n",
       " '422 10',\n",
       " '423 10',\n",
       " '424 10',\n",
       " '425 10',\n",
       " '426 10',\n",
       " '427 10',\n",
       " '428 10',\n",
       " '429 10',\n",
       " '430 10',\n",
       " '431 10',\n",
       " '432 10',\n",
       " '433 10',\n",
       " '434 10',\n",
       " '435 10',\n",
       " '436 10']"
      ]
     },
     "metadata": {},
     "execution_count": 17
    }
   ],
   "source": [
    "[str(i) + \" \" + str(len(experiment_config_results[x['mapping']])) for i,x in enumerate(experiments)]"
   ]
  },
  {
   "cell_type": "code",
   "execution_count": null,
   "id": "educated-tulsa",
   "metadata": {},
   "outputs": [],
   "source": []
  },
  {
   "cell_type": "code",
   "execution_count": null,
   "id": "exposed-craps",
   "metadata": {},
   "outputs": [],
   "source": []
  },
  {
   "cell_type": "code",
   "execution_count": null,
   "id": "working-barrier",
   "metadata": {},
   "outputs": [],
   "source": []
  },
  {
   "cell_type": "code",
   "execution_count": null,
   "id": "cultural-working",
   "metadata": {},
   "outputs": [],
   "source": []
  },
  {
   "cell_type": "code",
   "execution_count": null,
   "id": "tribal-steam",
   "metadata": {},
   "outputs": [],
   "source": []
  },
  {
   "cell_type": "code",
   "execution_count": 18,
   "id": "brilliant-necklace",
   "metadata": {},
   "outputs": [],
   "source": [
    "# with open(\"experiment_config_results_merge1\",\"rb\") as current_file:\n",
    "#     experiment_config_results1 = dill.load(current_file)\n",
    "# with open(\"experiment_config_results\",\"rb\") as current_file:\n",
    "#     experiment_config_results2 = dill.load(current_file)\n",
    "\n",
    "# experiment_config_results = []\n",
    "# for i in range(len(experiment_config_results1)):\n",
    "#     exp1 = experiment_config_results1[i]\n",
    "#     exp2 = experiment_config_results2[i]\n",
    "#     experiment_config_results.append(exp1+exp2)\n",
    "\n",
    "# display(experiment_config_results)\n",
    "# with open(\"experiment_config_results_merge_final\", \"wb\") as dill_file:\n",
    "#     dill.dump(experiment_config_results, dill_file)"
   ]
  },
  {
   "cell_type": "code",
   "execution_count": 19,
   "id": "electrical-amendment",
   "metadata": {},
   "outputs": [],
   "source": [
    "# with open(\"experiment_config_results_old\", \"wb\") as dill_file:\n",
    "#     dill.dump(experiment_config_results, dill_file)"
   ]
  },
  {
   "cell_type": "code",
   "execution_count": null,
   "metadata": {},
   "outputs": [],
   "source": []
  }
 ],
 "metadata": {
  "kernelspec": {
   "display_name": "Python 3",
   "language": "python",
   "name": "python3"
  },
  "language_info": {
   "codemirror_mode": {
    "name": "ipython",
    "version": 3
   },
   "file_extension": ".py",
   "mimetype": "text/x-python",
   "name": "python",
   "nbconvert_exporter": "python",
   "pygments_lexer": "ipython3",
   "version": "3.8.5-final"
  }
 },
 "nbformat": 4,
 "nbformat_minor": 5
}