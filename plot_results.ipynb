{
 "cells": [
  {
   "cell_type": "code",
   "execution_count": null,
   "id": "partial-rebate",
   "metadata": {},
   "outputs": [],
   "source": [
    "import dill\n",
    "import numpy as np\n",
    "import matplotlib.pyplot as plt\n",
    "from IPython.display import display\n",
    "import plotly.express as px\n",
    "import plotly.graph_objs as go\n",
    "print('done')\n",
    "import csv\n",
    "\n",
    "\n",
    "USE_PLOTLY = True\n"
   ]
  },
  {
   "cell_type": "code",
   "execution_count": null,
   "id": "present-white",
   "metadata": {},
   "outputs": [],
   "source": [
    "def load_from_csv(input_string):\n",
    "    with open(input_string, 'r') as fp:\n",
    "        reader = csv.reader(fp)\n",
    "        li = list(reader)\n",
    "    newlist = []\n",
    "    for row in li:\n",
    "        newrow = []\n",
    "        for entry in row [1:]:\n",
    "            newrow.append(float(entry))\n",
    "        newlist.append(newrow)\n",
    "    return newlist\n",
    "\n",
    "\n",
    "experiment_config_results = load_from_csv(\"experiment_config_results_gpu.csv\")\n",
    "\n",
    "with open(\"experiments_gpu\",\"rb\") as current_file:\n",
    "    experiments = dill.load(current_file)\n",
    "\n",
    "    \n",
    "non_unique_params = np.array([experiment['parameter'] for experiment in experiments])\n",
    "non_unique_config_strings = np.array([experiment['config_string'] for experiment in experiments])\n",
    "\n",
    "par_indices = np.unique(non_unique_params,return_index=True)[1]\n",
    "string_indices = np.unique(non_unique_config_strings,return_index=True)[1]\n",
    "\n",
    "parameters = non_unique_params[np.sort(par_indices)]\n",
    "config_strings = non_unique_config_strings[np.sort(string_indices)]\n",
    "# config_strings[0],config_strings[1],config_strings[2] = config_strings[2],config_strings[0],config_strings[1]\n",
    "# config_strings[[0,1,2]] = config_strings[[2,0,1]]\n",
    "print(config_strings)\n",
    "\n",
    "def str_noneguard(obj):\n",
    "    if hasattr(obj,'__name__'):\n",
    "        return obj.__name__\n",
    "    if obj is None:\n",
    "        return ''\n",
    "    if isinstance(obj,list):\n",
    "        return str([str_noneguard(x) for x in obj])\n",
    "    return str(obj)\n",
    "\n",
    "\n",
    "print(len(config_strings))\n",
    "# colors=['#4285F4','#EA4335', '#FBBC04',  '#34A853','#000000','#46BDC6',      '#46BDC6',             '#F4CCCC','#C9DAF8',            'grey','purple']\n",
    "colors=['#EA4335', '#FBBC04', '#4285F4', '#000000','#34A853','#46BDC6',      '#46BDC6',             '#F4CCCC','#C9DAF8',            'grey','purple']\n",
    "print(len(colors))\n",
    "print(config_strings)\n",
    "print(\"\")\n",
    "print(\"\")\n",
    "\n",
    "print(parameters)\n",
    "print(\"\")\n",
    "\n",
    "# parameters[[3,4,5,6,7,8,9,10,11,12]] = parameters[[-4,-3,-2,5,3,4,6,8,-1,7]]\n",
    "print(parameters)\n",
    "\n"
   ]
  },
  {
   "cell_type": "code",
   "execution_count": null,
   "id": "italic-thinking",
   "metadata": {},
   "outputs": [],
   "source": [
    "from matplotlib.ticker import (AutoMinorLocator, MultipleLocator)\n",
    "\n",
    "def hex_to_rgb(hex_color: str) -> tuple:\n",
    "    # thanks to https://community.plotly.com/t/scatter-plot-fill-with-color-how-to-set-opacity-of-fill/29591/2\n",
    "    hex_color = hex_color.lstrip(\"#\")\n",
    "    if len(hex_color) == 3:\n",
    "        hex_color = hex_color * 2\n",
    "    return int(hex_color[0:2], 16), int(hex_color[2:4], 16), int(hex_color[4:6], 16)\n",
    "\n",
    "def plot_vals(i,ylim=[-175,100]):\n",
    "\n",
    "    if USE_PLOTLY:\n",
    "        fig = go.Figure()\n",
    "\n",
    "    else:\n",
    "        fig, ax = plt.subplots(figsize=[10,6])  \n",
    "        ax.set_title(parameter)\n",
    "\n",
    "    parameter = parameters[i]\n",
    "    bar=0\n",
    "    all_numbers = True\n",
    "    \n",
    "    for config_index,config_string in enumerate(config_strings):\n",
    "        color=colors[config_index]\n",
    "    #     print(\"--------- \" + config_string + \" -----------\")\n",
    "        filtered_experiments = [ex for ex in experiments if ex['parameter']==parameter and ex['config_string']==config_string]\n",
    "        if len(filtered_experiments)==0:\n",
    "            continue\n",
    "        mappings = np.array([x['mapping'] for x in filtered_experiments])\n",
    "        x_values = [x['current_var'] for x in filtered_experiments]\n",
    "        for x in x_values:\n",
    "            if not isinstance(x,int) and not isinstance(x,float):\n",
    "                all_numbers=False\n",
    "\n",
    "        if not all_numbers:\n",
    "            for i in range(len(x_values)):\n",
    "                x_values[i] = str_noneguard(x_values[i])\n",
    "\n",
    "        results = [result for result in np.array(experiment_config_results,dtype=object)[mappings] ]\n",
    "        means = np.array([np.mean(x) for x in results])\n",
    "        sigmas = np.array([np.std(x) for x in results])\n",
    "\n",
    "    #     print(\"mappings\")\n",
    "    #     display(mappings)\n",
    "    #     print(\"\")\n",
    "    #     print(\"results\")\n",
    "    #     display(results)\n",
    "    #     print(\"\")\n",
    "    #     print(\"x_values\")\n",
    "    #     display(x_values)\n",
    "    #     print(\"\")\n",
    "    #     print(\"means\")\n",
    "    #     display(means)\n",
    "    #     print(\"\")\n",
    "    #     print(\"sigmas\")\n",
    "    #     display(sigmas)\n",
    "    #     print(\"\\n\\n\\n\")\n",
    "    #     ax.plot(x_values,means)\n",
    "#         print(x_values)\n",
    "        if USE_PLOTLY:\n",
    "            if all_numbers:\n",
    "                # fig.add_trace(go.Scatter(x=x_values, y=means, error_y={\"array\":sigmas}, marker_color=color,name=config_string,mode='lines+markers'))\n",
    "                fig.add_trace(go.Scatter(x=x_values, y=means, marker_color=color,name=config_string,mode='lines+markers'))\n",
    "                fig.add_trace(go.Scatter(x=x_values, y=means+sigmas, marker_color=color,name=\"Upper bound\", line=dict(width=0), showlegend=False, mode='lines'))\n",
    "                fig.add_trace(go.Scatter(x=x_values, y=means-sigmas, marker_color=color,fillcolor=f\"rgba{(*hex_to_rgb(color), 0.2)}\",name=\"Lower bound\", line=dict(width=0), showlegend=False, fill='tonexty', mode='lines'))\n",
    "                \n",
    "            else:\n",
    "                fig.add_bar(x=x_values,y=means,error_y={\"array\":sigmas},marker_color=color,name=config_string)\n",
    "        else:\n",
    "            if all_numbers:\n",
    "                ax.plot(x_values,means,'o-',label=config_string,color=color)\n",
    "                ax.fill_between(x_values, (means-sigmas), (means+sigmas),alpha=.2,color=color)\n",
    "            else:\n",
    "                n=len(x_values)\n",
    "                ind = np.arange(n)\n",
    "                width = 0.1\n",
    "                position = ind + (width*(1-n)/2) + bar*width\n",
    "                ax.bar(position,means,width=width,yerr=sigmas,label=config_string,color=color)\n",
    "                bar+=1\n",
    "    \n",
    "    if USE_PLOTLY:\n",
    "        fig.update_yaxes(tick0=0, dtick=25)\n",
    "        # fig.update_xaxes(tickangle = 0)\n",
    "        fig.update_layout(yaxis_range=ylim,title=parameter, width=1000, height=600)\n",
    "        fig.show()\n",
    "    else:\n",
    "        ax.set_ylim(ylim)\n",
    "        if not all_numbers:\n",
    "            print(x_values)\n",
    "            print(ind)\n",
    "    #         ax.axhline(0,\"black\")\n",
    "            ax.yaxis.set_major_locator(MultipleLocator(25))    \n",
    "            ax.grid(axis=\"y\")\n",
    "            \n",
    "            plt.xticks(ind, x_values)\n",
    "        else:\n",
    "            ax.yaxis.set_major_locator(MultipleLocator(25))\n",
    "            ax.grid()\n",
    "        ax.axhline(0,color='black')\n",
    "        ax.legend()"
   ]
  },
  {
   "cell_type": "code",
   "execution_count": null,
   "id": "experimental-container",
   "metadata": {
    "tags": []
   },
   "outputs": [],
   "source": [
    "plot_vals(0)\n",
    "plt.savefig(\"pictures/results_fig_0.svg\")"
   ]
  },
  {
   "cell_type": "code",
   "execution_count": null,
   "id": "sealed-recall",
   "metadata": {},
   "outputs": [],
   "source": [
    "plot_vals(1)\n",
    "plt.savefig(\"pictures/results_fig_1.svg\")"
   ]
  },
  {
   "cell_type": "code",
   "execution_count": null,
   "id": "broken-court",
   "metadata": {},
   "outputs": [],
   "source": [
    "plot_vals(2)\n",
    "plt.savefig(\"pictures/results_fig_2.svg\")"
   ]
  },
  {
   "cell_type": "code",
   "execution_count": null,
   "id": "disturbed-chuck",
   "metadata": {},
   "outputs": [],
   "source": [
    "plot_vals(3)\n",
    "plt.savefig(\"pictures/results_fig_3.svg\")"
   ]
  },
  {
   "cell_type": "code",
   "execution_count": null,
   "id": "lesser-nashville",
   "metadata": {},
   "outputs": [],
   "source": [
    "plot_vals(4)\n",
    "plt.savefig(\"pictures/results_fig_4.svg\")"
   ]
  },
  {
   "cell_type": "code",
   "execution_count": null,
   "id": "reflected-security",
   "metadata": {},
   "outputs": [],
   "source": [
    "plot_vals(5)\n",
    "plt.savefig(\"pictures/results_fig_5.svg\")"
   ]
  },
  {
   "cell_type": "code",
   "execution_count": null,
   "id": "gentle-cowboy",
   "metadata": {},
   "outputs": [],
   "source": [
    "plot_vals(6)\n",
    "plt.savefig(\"pictures/results_fig_6.svg\")"
   ]
  },
  {
   "cell_type": "code",
   "execution_count": null,
   "id": "collected-girlfriend",
   "metadata": {},
   "outputs": [],
   "source": [
    "plot_vals(7)\n",
    "plt.savefig(\"pictures/results_fig_7.svg\")"
   ]
  },
  {
   "cell_type": "code",
   "execution_count": null,
   "id": "armed-network",
   "metadata": {},
   "outputs": [],
   "source": [
    "plot_vals(8)\n",
    "plt.savefig(\"pictures/results_fig_8.svg\")"
   ]
  },
  {
   "cell_type": "code",
   "execution_count": null,
   "id": "experimental-glenn",
   "metadata": {},
   "outputs": [],
   "source": [
    "plot_vals(9)\n",
    "plt.savefig(\"pictures/results_fig_9.svg\")"
   ]
  },
  {
   "cell_type": "code",
   "execution_count": null,
   "id": "filled-assignment",
   "metadata": {},
   "outputs": [],
   "source": [
    "plot_vals(10)\n",
    "plt.savefig(\"pictures/results_fig_10.svg\")"
   ]
  },
  {
   "cell_type": "code",
   "execution_count": null,
   "id": "usual-horse",
   "metadata": {},
   "outputs": [],
   "source": [
    "# plot_vals(11)\n",
    "# plt.savefig(\"pictures/results_fig_11.svg\")"
   ]
  },
  {
   "cell_type": "code",
   "execution_count": null,
   "id": "burning-carnival",
   "metadata": {},
   "outputs": [],
   "source": [
    "# plot_vals(12,ylim=[-350,100])\n",
    "# plt.savefig(\"pictures/results_fig_12.svg\")"
   ]
  },
  {
   "cell_type": "code",
   "execution_count": null,
   "id": "partial-algeria",
   "metadata": {},
   "outputs": [],
   "source": [
    "# a=[len(experiment_config_results[x['mapping']]) for i,x in enumerate(experiments)]\n",
    "# unique, counts = np.unique(a, return_counts=True)\n",
    "# dict(zip(unique, counts))\n",
    "\n",
    "\n",
    "[str(i) + \" \" + str(len(experiment_config_results[x['mapping']])) for i,x in enumerate(experiments)]"
   ]
  },
  {
   "cell_type": "code",
   "execution_count": null,
   "id": "educated-tulsa",
   "metadata": {},
   "outputs": [],
   "source": []
  },
  {
   "cell_type": "code",
   "execution_count": null,
   "id": "exposed-craps",
   "metadata": {},
   "outputs": [],
   "source": []
  },
  {
   "cell_type": "code",
   "execution_count": null,
   "id": "working-barrier",
   "metadata": {},
   "outputs": [],
   "source": []
  },
  {
   "cell_type": "code",
   "execution_count": null,
   "id": "cultural-working",
   "metadata": {},
   "outputs": [],
   "source": []
  },
  {
   "cell_type": "code",
   "execution_count": null,
   "id": "tribal-steam",
   "metadata": {},
   "outputs": [],
   "source": [
    "suffix1 = \"\"\n",
    "suffix2 = \"_gpu\"\n",
    "result = \"_merge1\""
   ]
  },
  {
   "cell_type": "code",
   "execution_count": null,
   "id": "brilliant-necklace",
   "metadata": {},
   "outputs": [],
   "source": [
    "experiment_config_results1 = load_from_csv(\"experiment_config_results\"+suffix1+\".csv\")\n",
    "experiment_config_results2 = load_from_csv(\"experiment_config_results\"+suffix2+\".csv\")\n",
    "\n",
    "experiment_config_results = []\n",
    "for i in range(len(experiment_config_results1)):\n",
    "    exp1 = experiment_config_results1[i]\n",
    "    exp2 = experiment_config_results2[i]\n",
    "    experiment_config_results.append(exp1+exp2)\n",
    "\n",
    "display(experiment_config_results)\n",
    "\n",
    "experiment_config_strings = []\n",
    "experiment_config_list = []\n",
    "for ex in experiments:\n",
    "    if ex['config'] not in experiment_config_list:\n",
    "        experiment_config_list.append(ex['config'])\n",
    "        experiment_config_strings.append(ex['full_string'])\n",
    "\n",
    "\n",
    "experiment_configs_csv = [[experiment_config_strings[i]] + experiment_config_results[i] for i in range(len(experiment_config_results))]\n",
    "\n",
    "with open(\"experiment_config_results\"+result+\".csv\", \"w\", newline=\"\") as f:\n",
    "    writer = csv.writer(f)\n",
    "    writer.writerows(experiment_configs_csv)\n"
   ]
  },
  {
   "cell_type": "code",
   "execution_count": null,
   "metadata": {},
   "outputs": [],
   "source": [
    "experiment_config_results1 = dill.load(\"experiment_config_results2\"+suffix1+\".csv\")\n",
    "experiment_config_results2 = dill.load(\"experiment_config_results2\"+suffix2+\".csv\")\n",
    "\n",
    "experiment_config_results = []\n",
    "for i in range(len(experiment_config_results1)):\n",
    "    exp1 = experiment_config_results1[i]\n",
    "    exp2 = experiment_config_results2[i]\n",
    "    experiment_config_results.append(exp1+exp2)\n",
    "\n",
    "display(experiment_config_results)\n",
    "\n",
    "experiment_config_strings = []\n",
    "experiment_config_list = []\n",
    "for ex in experiments:\n",
    "    if ex['config'] not in experiment_config_list:\n",
    "        experiment_config_list.append(ex['config'])\n",
    "        experiment_config_strings.append(ex['full_string'])\n",
    "\n",
    "\n",
    "experiment_configs_csv = [[experiment_config_strings[i]] + experiment_config_results[i] for i in range(len(experiment_config_results))]\n",
    "\n",
    "with open(\"experiment_config_results2\"+result+\".csv\", \"w\", newline=\"\") as f:\n",
    "    writer = csv.writer(f)\n",
    "    writer.writerows(experiment_configs_csv)"
   ]
  },
  {
   "cell_type": "code",
   "execution_count": null,
   "id": "electrical-amendment",
   "metadata": {},
   "outputs": [],
   "source": []
  },
  {
   "cell_type": "code",
   "execution_count": null,
   "metadata": {},
   "outputs": [],
   "source": []
  },
  {
   "cell_type": "code",
   "execution_count": null,
   "metadata": {},
   "outputs": [],
   "source": [
    "# dill to csv\n",
    "\n",
    "# import csv\n",
    "# import dill\n",
    "\n",
    "# with open(\"experiment_config_results_gpu\",\"rb\") as current_file:\n",
    "#     experiment_config_results = dill.load(current_file)\n",
    "# with open(\"experiment_config_results2_gpu\",\"rb\") as current_file:\n",
    "#     experiment_config_results2 = dill.load(current_file)    \n",
    "# with open(\"experiments_gpu\",\"rb\") as current_file:\n",
    "#     experiments = dill.load(current_file)\n",
    "\n",
    "# experiment_config_strings = []\n",
    "# experiment_config_list = []\n",
    "# for ex in experiments:\n",
    "#     if ex['config'] not in experiment_config_list:\n",
    "#         experiment_config_list.append(ex['config'])\n",
    "#         experiment_config_strings.append(ex['full_string'])\n",
    "\n",
    "\n",
    "# experiment_configs_csv = [[experiment_config_strings[i]] + experiment_config_results[i] for i in range(len(experiment_config_results))]\n",
    "# experiment_configs2_csv = [[experiment_config_strings[i]] + experiment_config_results2[i] for i in range(len(experiment_config_results))]\n",
    "\n",
    "# with open(\"experiment_config_results_gpu.csv\", \"w\", newline=\"\") as f:\n",
    "#     writer = csv.writer(f)\n",
    "#     writer.writerows(experiment_configs_csv)\n",
    "# with open(\"experiment_config_results2_gpu.csv\", \"w\", newline=\"\") as f:\n",
    "#     writer = csv.writer(f)\n",
    "#     writer.writerows(experiment_configs2_csv)  "
   ]
  },
  {
   "cell_type": "code",
   "execution_count": null,
   "metadata": {},
   "outputs": [],
   "source": []
  },
  {
   "cell_type": "code",
   "execution_count": null,
   "metadata": {},
   "outputs": [],
   "source": [
    "# csv to dict\n",
    "\n",
    "# import csv\n",
    "# with open('experiment_config_results_gpu.csv', 'r') as fp:\n",
    "#     reader = csv.reader(fp)\n",
    "#     li = list(reader)\n",
    "# newlist = []\n",
    "# for row in li:\n",
    "#     newrow = []\n",
    "#     for entry in row [1:]:\n",
    "#         newrow.append(float(entry))\n",
    "#     newlist.append(newrow)\n"
   ]
  },
  {
   "cell_type": "code",
   "execution_count": null,
   "metadata": {},
   "outputs": [],
   "source": []
  },
  {
   "cell_type": "code",
   "execution_count": null,
   "metadata": {},
   "outputs": [],
   "source": []
  }
 ],
 "metadata": {
  "kernelspec": {
   "display_name": "Python 3",
   "language": "python",
   "name": "python3"
  },
  "language_info": {
   "codemirror_mode": {
    "name": "ipython",
    "version": 3
   },
   "file_extension": ".py",
   "mimetype": "text/x-python",
   "name": "python",
   "nbconvert_exporter": "python",
   "pygments_lexer": "ipython3",
   "version": "3.8.5-final"
  }
 },
 "nbformat": 4,
 "nbformat_minor": 5
}