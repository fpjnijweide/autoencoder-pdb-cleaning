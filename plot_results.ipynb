{
 "cells": [
  {
   "cell_type": "code",
   "execution_count": 1,
   "id": "partial-rebate",
   "metadata": {},
   "outputs": [
    {
     "output_type": "stream",
     "name": "stdout",
     "text": [
      "done\n"
     ]
    }
   ],
   "source": [
    "import dill\n",
    "import numpy as np\n",
    "import matplotlib.pyplot as plt\n",
    "from IPython.display import display\n",
    "import plotly.graph_objects as go\n",
    "print('done')\n",
    "\n",
    "USE_PLOTLY = False\n"
   ]
  },
  {
   "cell_type": "code",
   "execution_count": 2,
   "id": "present-white",
   "metadata": {},
   "outputs": [
    {
     "output_type": "stream",
     "name": "stdout",
     "text": [
      "['CCEu, SD=4' 'CCE, SD=4' 'JSD, SD=4' 'CCE, SD=100' 'JSD, SD=100'\n 'JSD(5), SD=100' 'JSD(5)' 'MSE, SD=4' 'MSE, SD=100' 'KLD, SD=4'\n 'KLD, SD=100']\n11\n11\n['CCEu, SD=4' 'CCE, SD=4' 'JSD, SD=4' 'CCE, SD=100' 'JSD, SD=100'\n 'JSD(5), SD=100' 'JSD(5)' 'MSE, SD=4' 'MSE, SD=100' 'KLD, SD=4'\n 'KLD, SD=100']\n\n\n['training_method' 'activation_types' 'input_layer_type' 'encoding_dim'\n 'hidden_layers' 'activity_regularizer' 'sigma' 'BN_size'\n 'labeled_data_percentage' 'kernel_landmarks' 'CNN_kernel_size'\n 'CNN_filters' 'sampling_density']\n\n['training_method' 'activation_types' 'input_layer_type'\n 'kernel_landmarks' 'CNN_kernel_size' 'CNN_filters' 'activity_regularizer'\n 'encoding_dim' 'hidden_layers' 'sigma' 'labeled_data_percentage'\n 'sampling_density' 'BN_size']\n"
     ]
    }
   ],
   "source": [
    "with open(\"experiment_config_results_gpu\",\"rb\") as current_file:\n",
    "    experiment_config_results = dill.load(current_file)\n",
    "with open(\"experiments_gpu\",\"rb\") as current_file:\n",
    "    experiments = dill.load(current_file)\n",
    "\n",
    "    \n",
    "non_unique_params = np.array([experiment['parameter'] for experiment in experiments])\n",
    "non_unique_config_strings = np.array([experiment['config_string'] for experiment in experiments])\n",
    "\n",
    "par_indices = np.unique(non_unique_params,return_index=True)[1]\n",
    "string_indices = np.unique(non_unique_config_strings,return_index=True)[1]\n",
    "\n",
    "parameters = non_unique_params[np.sort(par_indices)]\n",
    "config_strings = non_unique_config_strings[np.sort(string_indices)]\n",
    "# config_strings[0],config_strings[1],config_strings[2] = config_strings[2],config_strings[0],config_strings[1]\n",
    "config_strings[[0,1,2]] = config_strings[[2,0,1]]\n",
    "print(config_strings)\n",
    "\n",
    "def str_noneguard(obj):\n",
    "    if hasattr(obj,'__name__'):\n",
    "        return obj.__name__\n",
    "    if obj is None:\n",
    "        return ''\n",
    "    if isinstance(obj,list):\n",
    "        return str([str_noneguard(x) for x in obj])\n",
    "    return str(obj)\n",
    "\n",
    "\n",
    "print(len(config_strings))\n",
    "colors=['#4285F4','#EA4335', '#FBBC04',  '#34A853','#000000','#46BDC6',      '#46BDC6',             '#F4CCCC','#C9DAF8',            'grey','purple']\n",
    "print(len(colors))\n",
    "print(config_strings)\n",
    "print(\"\")\n",
    "print(\"\")\n",
    "\n",
    "print(parameters)\n",
    "print(\"\")\n",
    "\n",
    "parameters[[3,4,5,6,7,8,9,10,11,12]] = parameters[[-4,-3,-2,5,3,4,6,8,-1,7]]\n",
    "print(parameters)\n",
    "\n"
   ]
  },
  {
   "cell_type": "code",
   "execution_count": 3,
   "id": "italic-thinking",
   "metadata": {},
   "outputs": [],
   "source": [
    "from matplotlib.ticker import (AutoMinorLocator, MultipleLocator)\n",
    "\n",
    "def plot_vals(i,ylim=[-175,100]):\n",
    "    fig, ax = plt.subplots(figsize=[10,6])\n",
    "#     ax.set_color_cycle(['red', 'yellow', 'blue','green','black','teal'])\n",
    "#     ax.set_prop_cycle(color=['#4285F4','#FBBC04','#EA4335','#34A853','#000000','#46BDC6','#F4CCCC','#C9DAF8','grey','purple'])\n",
    "    \n",
    "    parameter = parameters[i]\n",
    "    ax.set_title(parameter)\n",
    "    bar=0\n",
    "    all_numbers = True\n",
    "    \n",
    "    for config_index,config_string in enumerate(config_strings):\n",
    "        color=colors[config_index]\n",
    "    #     print(\"--------- \" + config_string + \" -----------\")\n",
    "        filtered_experiments = [ex for ex in experiments if ex['parameter']==parameter and ex['config_string']==config_string]\n",
    "        if len(filtered_experiments)==0:\n",
    "            continue\n",
    "        mappings = np.array([x['mapping'] for x in filtered_experiments])\n",
    "        x_values = [x['current_var'] for x in filtered_experiments]\n",
    "        for x in x_values:\n",
    "            if not isinstance(x,int) and not isinstance(x,float):\n",
    "                all_numbers=False\n",
    "\n",
    "        if not all_numbers:\n",
    "            for i in range(len(x_values)):\n",
    "                x_values[i] = str_noneguard(x_values[i])\n",
    "\n",
    "        results = [result for result in np.array(experiment_config_results,dtype=object)[mappings] ]\n",
    "        means = np.array([np.mean(x) for x in results])\n",
    "        sigmas = np.array([np.std(x) for x in results])\n",
    "\n",
    "    #     print(\"mappings\")\n",
    "    #     display(mappings)\n",
    "    #     print(\"\")\n",
    "    #     print(\"results\")\n",
    "    #     display(results)\n",
    "    #     print(\"\")\n",
    "    #     print(\"x_values\")\n",
    "    #     display(x_values)\n",
    "    #     print(\"\")\n",
    "    #     print(\"means\")\n",
    "    #     display(means)\n",
    "    #     print(\"\")\n",
    "    #     print(\"sigmas\")\n",
    "    #     display(sigmas)\n",
    "    #     print(\"\\n\\n\\n\")\n",
    "    #     ax.plot(x_values,means)\n",
    "#         print(x_values)\n",
    "\n",
    "        if USE_PLOTLY:\n",
    "            pass\n",
    "        else:\n",
    "            if all_numbers:\n",
    "                ax.plot(x_values,means,'o-',label=config_string,color=color)\n",
    "                ax.fill_between(x_values, (means-sigmas), (means+sigmas),alpha=.2,color=color)\n",
    "            else:\n",
    "                n=len(x_values)\n",
    "                ind = np.arange(n)\n",
    "                width = 0.1\n",
    "                position = ind + (width*(1-n)/2) + bar*width\n",
    "                ax.bar(position,means,width=width,yerr=sigmas,label=config_string,color=color)\n",
    "                bar+=1\n",
    "        \n",
    "        ax.set_ylim(ylim)\n",
    "        if not all_numbers:\n",
    "            print(x_values)\n",
    "            print(ind)\n",
    "    #         ax.axhline(0,\"black\")\n",
    "            ax.yaxis.set_major_locator(MultipleLocator(25))    \n",
    "            ax.grid(axis=\"y\")\n",
    "            \n",
    "            plt.xticks(ind, x_values)\n",
    "        else:\n",
    "            ax.yaxis.set_major_locator(MultipleLocator(25))\n",
    "            ax.grid()\n",
    "        ax.axhline(0,color='black')\n",
    "        ax.legend()\n"
   ]
  },
  {
   "cell_type": "code",
   "execution_count": 4,
   "id": "experimental-container",
   "metadata": {
    "tags": []
   },
   "outputs": [
    {
     "output_type": "stream",
     "name": "stdout",
     "text": [
      "['supervised', 'supervised_2_percent', 'semi', 'semi_sup_first', 'semi_mixed', 'unsupervised']\n[0 1 2 3 4 5]\n"
     ]
    },
    {
     "output_type": "display_data",
     "data": {
      "text/plain": "<Figure size 432x288 with 0 Axes>"
     },
     "metadata": {}
    }
   ],
   "source": [
    "plot_vals(0)\n",
    "plt.savefig(\"pictures/results_fig_0.svg\")"
   ]
  },
  {
   "cell_type": "code",
   "execution_count": 5,
   "id": "sealed-recall",
   "metadata": {},
   "outputs": [
    {
     "output_type": "stream",
     "name": "stdout",
     "text": [
      "[\"['sin', 'cos', 'linear', 'relu', 'swish']\", \"['relu']\", \"['relu', 'relu', 'relu', 'relu', 'relu']\", \"['sin', 'cos', 'linear']\", \"['sin', 'cos', 'linear', 'relu', 'sigmoid']\"]\n[0 1 2 3 4]\n"
     ]
    },
    {
     "output_type": "display_data",
     "data": {
      "text/plain": "<Figure size 432x288 with 0 Axes>"
     },
     "metadata": {}
    }
   ],
   "source": [
    "plot_vals(1)\n",
    "plt.savefig(\"pictures/results_fig_1.svg\")"
   ]
  },
  {
   "cell_type": "code",
   "execution_count": 6,
   "id": "broken-court",
   "metadata": {},
   "outputs": [
    {
     "output_type": "stream",
     "name": "stdout",
     "text": [
      "['dense', 'gaussian_noise', 'gaussian_dropout', 'sqrt_softmax', 'gaussian_kernel', 'CNN', 'VAE']\n[0 1 2 3 4 5 6]\n"
     ]
    },
    {
     "output_type": "display_data",
     "data": {
      "text/plain": "<Figure size 432x288 with 0 Axes>"
     },
     "metadata": {}
    }
   ],
   "source": [
    "plot_vals(2)\n",
    "plt.savefig(\"pictures/results_fig_2.svg\")"
   ]
  },
  {
   "cell_type": "code",
   "execution_count": 7,
   "id": "disturbed-chuck",
   "metadata": {},
   "outputs": [
    {
     "output_type": "display_data",
     "data": {
      "text/plain": "<Figure size 432x288 with 0 Axes>"
     },
     "metadata": {}
    }
   ],
   "source": [
    "plot_vals(3)\n",
    "plt.savefig(\"pictures/results_fig_3.svg\")"
   ]
  },
  {
   "cell_type": "code",
   "execution_count": 8,
   "id": "lesser-nashville",
   "metadata": {},
   "outputs": [
    {
     "output_type": "display_data",
     "data": {
      "text/plain": "<Figure size 432x288 with 0 Axes>"
     },
     "metadata": {}
    }
   ],
   "source": [
    "plot_vals(4)\n",
    "plt.savefig(\"pictures/results_fig_4.svg\")"
   ]
  },
  {
   "cell_type": "code",
   "execution_count": 9,
   "id": "reflected-security",
   "metadata": {},
   "outputs": [
    {
     "output_type": "display_data",
     "data": {
      "text/plain": "<Figure size 432x288 with 0 Axes>"
     },
     "metadata": {}
    }
   ],
   "source": [
    "plot_vals(5)\n",
    "plt.savefig(\"pictures/results_fig_5.svg\")"
   ]
  },
  {
   "cell_type": "code",
   "execution_count": 10,
   "id": "gentle-cowboy",
   "metadata": {},
   "outputs": [
    {
     "output_type": "stream",
     "name": "stdout",
     "text": [
      "['', 'L2: 0.01', 'L2: 10^-4', 'L1: 0.01', 'L1: 10^-4']\n[0 1 2 3 4]\n"
     ]
    },
    {
     "output_type": "display_data",
     "data": {
      "text/plain": "<Figure size 432x288 with 0 Axes>"
     },
     "metadata": {}
    }
   ],
   "source": [
    "plot_vals(6)\n",
    "plt.savefig(\"pictures/results_fig_6.svg\")"
   ]
  },
  {
   "cell_type": "code",
   "execution_count": 11,
   "id": "collected-girlfriend",
   "metadata": {},
   "outputs": [
    {
     "output_type": "display_data",
     "data": {
      "text/plain": "<Figure size 432x288 with 0 Axes>"
     },
     "metadata": {}
    }
   ],
   "source": [
    "plot_vals(7)\n",
    "plt.savefig(\"pictures/results_fig_7.svg\")"
   ]
  },
  {
   "cell_type": "code",
   "execution_count": 12,
   "id": "armed-network",
   "metadata": {},
   "outputs": [
    {
     "output_type": "display_data",
     "data": {
      "text/plain": "<Figure size 432x288 with 0 Axes>"
     },
     "metadata": {}
    }
   ],
   "source": [
    "plot_vals(8)\n",
    "plt.savefig(\"pictures/results_fig_8.svg\")"
   ]
  },
  {
   "cell_type": "code",
   "execution_count": 13,
   "id": "experimental-glenn",
   "metadata": {},
   "outputs": [
    {
     "output_type": "stream",
     "name": "stdout",
     "text": [
      "['0.01/SD', '(0.01*4)/SD', '0.01/math.sqrt(SD)', '0.01', '0.05', '0.1', '0.2']\n[0 1 2 3 4 5 6]\n"
     ]
    },
    {
     "output_type": "display_data",
     "data": {
      "text/plain": "<Figure size 432x288 with 0 Axes>"
     },
     "metadata": {}
    }
   ],
   "source": [
    "plot_vals(9)\n",
    "plt.savefig(\"pictures/results_fig_9.svg\")"
   ]
  },
  {
   "cell_type": "code",
   "execution_count": 14,
   "id": "filled-assignment",
   "metadata": {},
   "outputs": [
    {
     "output_type": "display_data",
     "data": {
      "text/plain": "<Figure size 432x288 with 0 Axes>"
     },
     "metadata": {}
    }
   ],
   "source": [
    "plot_vals(10)\n",
    "plt.savefig(\"pictures/results_fig_10.svg\")"
   ]
  },
  {
   "cell_type": "code",
   "execution_count": 15,
   "id": "usual-horse",
   "metadata": {},
   "outputs": [
    {
     "output_type": "display_data",
     "data": {
      "text/plain": "<Figure size 432x288 with 0 Axes>"
     },
     "metadata": {}
    }
   ],
   "source": [
    "plot_vals(11)\n",
    "plt.savefig(\"pictures/results_fig_11.svg\")"
   ]
  },
  {
   "cell_type": "code",
   "execution_count": 16,
   "id": "burning-carnival",
   "metadata": {},
   "outputs": [
    {
     "output_type": "display_data",
     "data": {
      "text/plain": "<Figure size 432x288 with 0 Axes>"
     },
     "metadata": {}
    }
   ],
   "source": [
    "plot_vals(12,ylim=[-350,100])\n",
    "plt.savefig(\"pictures/results_fig_12.svg\")"
   ]
  },
  {
   "cell_type": "code",
   "execution_count": 17,
   "id": "partial-algeria",
   "metadata": {},
   "outputs": [
    {
     "output_type": "execute_result",
     "data": {
      "text/plain": [
       "['0 10',\n",
       " '1 10',\n",
       " '2 10',\n",
       " '3 10',\n",
       " '4 10',\n",
       " '5 10',\n",
       " '6 10',\n",
       " '7 10',\n",
       " '8 10',\n",
       " '9 10',\n",
       " '10 10',\n",
       " '11 10',\n",
       " '12 10',\n",
       " '13 10',\n",
       " '14 10',\n",
       " '15 10',\n",
       " '16 10',\n",
       " '17 10',\n",
       " '18 10',\n",
       " '19 10',\n",
       " '20 10',\n",
       " '21 10',\n",
       " '22 10',\n",
       " '23 10',\n",
       " '24 10',\n",
       " '25 10',\n",
       " '26 10',\n",
       " '27 10',\n",
       " '28 10',\n",
       " '29 10',\n",
       " '30 10',\n",
       " '31 10',\n",
       " '32 10',\n",
       " '33 10',\n",
       " '34 10',\n",
       " '35 10',\n",
       " '36 10',\n",
       " '37 10',\n",
       " '38 10',\n",
       " '39 10',\n",
       " '40 10',\n",
       " '41 10',\n",
       " '42 10',\n",
       " '43 10',\n",
       " '44 10',\n",
       " '45 10',\n",
       " '46 10',\n",
       " '47 10',\n",
       " '48 10',\n",
       " '49 10',\n",
       " '50 10',\n",
       " '51 10',\n",
       " '52 10',\n",
       " '53 10',\n",
       " '54 10',\n",
       " '55 10',\n",
       " '56 10',\n",
       " '57 10',\n",
       " '58 10',\n",
       " '59 10',\n",
       " '60 10',\n",
       " '61 10',\n",
       " '62 10',\n",
       " '63 10',\n",
       " '64 10',\n",
       " '65 10',\n",
       " '66 10',\n",
       " '67 10',\n",
       " '68 10',\n",
       " '69 10',\n",
       " '70 10',\n",
       " '71 10',\n",
       " '72 12',\n",
       " '73 10',\n",
       " '74 10',\n",
       " '75 10',\n",
       " '76 10',\n",
       " '77 10',\n",
       " '78 10',\n",
       " '79 10',\n",
       " '80 10',\n",
       " '81 10',\n",
       " '82 10',\n",
       " '83 10',\n",
       " '84 10',\n",
       " '85 10',\n",
       " '86 10',\n",
       " '87 10',\n",
       " '88 10',\n",
       " '89 10',\n",
       " '90 10',\n",
       " '91 10',\n",
       " '92 10',\n",
       " '93 10',\n",
       " '94 10',\n",
       " '95 10',\n",
       " '96 10',\n",
       " '97 12',\n",
       " '98 10',\n",
       " '99 10',\n",
       " '100 10',\n",
       " '101 10',\n",
       " '102 10',\n",
       " '103 10',\n",
       " '104 10',\n",
       " '105 10',\n",
       " '106 10',\n",
       " '107 10',\n",
       " '108 10',\n",
       " '109 10',\n",
       " '110 10',\n",
       " '111 10',\n",
       " '112 10',\n",
       " '113 10',\n",
       " '114 10',\n",
       " '115 10',\n",
       " '116 10',\n",
       " '117 10',\n",
       " '118 10',\n",
       " '119 10',\n",
       " '120 10',\n",
       " '121 10',\n",
       " '122 10',\n",
       " '123 10',\n",
       " '124 10',\n",
       " '125 10',\n",
       " '126 10',\n",
       " '127 10',\n",
       " '128 10',\n",
       " '129 10',\n",
       " '130 10',\n",
       " '131 10',\n",
       " '132 10',\n",
       " '133 10',\n",
       " '134 10',\n",
       " '135 10',\n",
       " '136 10',\n",
       " '137 10',\n",
       " '138 10',\n",
       " '139 10',\n",
       " '140 10',\n",
       " '141 10',\n",
       " '142 10',\n",
       " '143 10',\n",
       " '144 10',\n",
       " '145 10',\n",
       " '146 10',\n",
       " '147 15',\n",
       " '148 10',\n",
       " '149 10',\n",
       " '150 10',\n",
       " '151 10',\n",
       " '152 10',\n",
       " '153 10',\n",
       " '154 10',\n",
       " '155 10',\n",
       " '156 10',\n",
       " '157 10',\n",
       " '158 10',\n",
       " '159 10',\n",
       " '160 10',\n",
       " '161 10',\n",
       " '162 10',\n",
       " '163 10',\n",
       " '164 10',\n",
       " '165 10',\n",
       " '166 10',\n",
       " '167 10',\n",
       " '168 10',\n",
       " '169 10',\n",
       " '170 10',\n",
       " '171 10',\n",
       " '172 10',\n",
       " '173 10',\n",
       " '174 10',\n",
       " '175 10',\n",
       " '176 10',\n",
       " '177 10',\n",
       " '178 10',\n",
       " '179 10',\n",
       " '180 10',\n",
       " '181 10',\n",
       " '182 10',\n",
       " '183 10',\n",
       " '184 10',\n",
       " '185 10',\n",
       " '186 10',\n",
       " '187 10',\n",
       " '188 10',\n",
       " '189 10',\n",
       " '190 10',\n",
       " '191 10',\n",
       " '192 10',\n",
       " '193 10',\n",
       " '194 10',\n",
       " '195 10',\n",
       " '196 10',\n",
       " '197 10',\n",
       " '198 10',\n",
       " '199 10',\n",
       " '200 10',\n",
       " '201 10',\n",
       " '202 10',\n",
       " '203 10',\n",
       " '204 10',\n",
       " '205 10',\n",
       " '206 10',\n",
       " '207 10',\n",
       " '208 10',\n",
       " '209 10',\n",
       " '210 11',\n",
       " '211 10',\n",
       " '212 10',\n",
       " '213 10',\n",
       " '214 10',\n",
       " '215 12',\n",
       " '216 10',\n",
       " '217 10',\n",
       " '218 11',\n",
       " '219 12',\n",
       " '220 10',\n",
       " '221 10',\n",
       " '222 10',\n",
       " '223 10',\n",
       " '224 12',\n",
       " '225 10',\n",
       " '226 10',\n",
       " '227 10',\n",
       " '228 10',\n",
       " '229 11',\n",
       " '230 10',\n",
       " '231 10',\n",
       " '232 12',\n",
       " '233 10',\n",
       " '234 10',\n",
       " '235 10',\n",
       " '236 10',\n",
       " '237 12',\n",
       " '238 10',\n",
       " '239 12',\n",
       " '240 10',\n",
       " '241 10',\n",
       " '242 10',\n",
       " '243 10',\n",
       " '244 10',\n",
       " '245 10',\n",
       " '246 10',\n",
       " '247 10',\n",
       " '248 10',\n",
       " '249 10',\n",
       " '250 10',\n",
       " '251 10',\n",
       " '252 12',\n",
       " '253 10',\n",
       " '254 10',\n",
       " '255 10',\n",
       " '256 12',\n",
       " '257 10',\n",
       " '258 10',\n",
       " '259 10',\n",
       " '260 10',\n",
       " '261 10',\n",
       " '262 10',\n",
       " '263 10',\n",
       " '264 10',\n",
       " '265 10',\n",
       " '266 10',\n",
       " '267 10',\n",
       " '268 10',\n",
       " '269 10',\n",
       " '270 11',\n",
       " '271 10',\n",
       " '272 10',\n",
       " '273 10',\n",
       " '274 10',\n",
       " '275 10',\n",
       " '276 10',\n",
       " '277 11',\n",
       " '278 10',\n",
       " '279 10',\n",
       " '280 10',\n",
       " '281 15',\n",
       " '282 10',\n",
       " '283 10',\n",
       " '284 10',\n",
       " '285 15',\n",
       " '286 10',\n",
       " '287 10',\n",
       " '288 10',\n",
       " '289 10',\n",
       " '290 15',\n",
       " '291 10',\n",
       " '292 10',\n",
       " '293 10',\n",
       " '294 11',\n",
       " '295 11',\n",
       " '296 10',\n",
       " '297 10',\n",
       " '298 15',\n",
       " '299 10',\n",
       " '300 10',\n",
       " '301 11',\n",
       " '302 10',\n",
       " '303 15',\n",
       " '304 10',\n",
       " '305 15',\n",
       " '306 10',\n",
       " '307 10',\n",
       " '308 10',\n",
       " '309 10',\n",
       " '310 10',\n",
       " '311 10',\n",
       " '312 10',\n",
       " '313 10',\n",
       " '314 10',\n",
       " '315 10',\n",
       " '316 10',\n",
       " '317 10',\n",
       " '318 15',\n",
       " '319 10',\n",
       " '320 10',\n",
       " '321 10',\n",
       " '322 15',\n",
       " '323 10',\n",
       " '324 10',\n",
       " '325 10',\n",
       " '326 10',\n",
       " '327 10',\n",
       " '328 10',\n",
       " '329 10',\n",
       " '330 10',\n",
       " '331 11',\n",
       " '332 10',\n",
       " '333 10',\n",
       " '334 10',\n",
       " '335 10',\n",
       " '336 11',\n",
       " '337 10',\n",
       " '338 10',\n",
       " '339 10',\n",
       " '340 10',\n",
       " '341 10',\n",
       " '342 10',\n",
       " '343 11',\n",
       " '344 10',\n",
       " '345 10',\n",
       " '346 10',\n",
       " '347 11',\n",
       " '348 10',\n",
       " '349 10',\n",
       " '350 10',\n",
       " '351 11',\n",
       " '352 10',\n",
       " '353 10',\n",
       " '354 10',\n",
       " '355 10',\n",
       " '356 11',\n",
       " '357 10',\n",
       " '358 10',\n",
       " '359 10',\n",
       " '360 10',\n",
       " '361 10',\n",
       " '362 10',\n",
       " '363 10',\n",
       " '364 11',\n",
       " '365 10',\n",
       " '366 11',\n",
       " '367 10',\n",
       " '368 10',\n",
       " '369 10',\n",
       " '370 10',\n",
       " '371 10',\n",
       " '372 10',\n",
       " '373 10',\n",
       " '374 10',\n",
       " '375 10',\n",
       " '376 10',\n",
       " '377 10',\n",
       " '378 10',\n",
       " '379 11',\n",
       " '380 10',\n",
       " '381 10',\n",
       " '382 10',\n",
       " '383 11',\n",
       " '384 10',\n",
       " '385 10',\n",
       " '386 10',\n",
       " '387 10',\n",
       " '388 10',\n",
       " '389 10',\n",
       " '390 10',\n",
       " '391 10',\n",
       " '392 10',\n",
       " '393 10',\n",
       " '394 10',\n",
       " '395 10',\n",
       " '396 10',\n",
       " '397 10',\n",
       " '398 10',\n",
       " '399 10',\n",
       " '400 10',\n",
       " '401 10',\n",
       " '402 10',\n",
       " '403 10',\n",
       " '404 10',\n",
       " '405 10',\n",
       " '406 12',\n",
       " '407 10',\n",
       " '408 10',\n",
       " '409 10',\n",
       " '410 11',\n",
       " '411 10',\n",
       " '412 10',\n",
       " '413 10',\n",
       " '414 10',\n",
       " '415 10',\n",
       " '416 10',\n",
       " '417 10',\n",
       " '418 10',\n",
       " '419 10',\n",
       " '420 10',\n",
       " '421 10',\n",
       " '422 10',\n",
       " '423 10',\n",
       " '424 10',\n",
       " '425 10',\n",
       " '426 10',\n",
       " '427 10',\n",
       " '428 10',\n",
       " '429 10',\n",
       " '430 10',\n",
       " '431 10',\n",
       " '432 10',\n",
       " '433 10',\n",
       " '434 10',\n",
       " '435 10',\n",
       " '436 10']"
      ]
     },
     "metadata": {},
     "execution_count": 17
    }
   ],
   "source": [
    "[str(i) + \" \" + str(len(experiment_config_results[x['mapping']])) for i,x in enumerate(experiments)]"
   ]
  },
  {
   "cell_type": "code",
   "execution_count": null,
   "id": "educated-tulsa",
   "metadata": {},
   "outputs": [],
   "source": []
  },
  {
   "cell_type": "code",
   "execution_count": null,
   "id": "exposed-craps",
   "metadata": {},
   "outputs": [],
   "source": []
  },
  {
   "cell_type": "code",
   "execution_count": null,
   "id": "working-barrier",
   "metadata": {},
   "outputs": [],
   "source": []
  },
  {
   "cell_type": "code",
   "execution_count": null,
   "id": "cultural-working",
   "metadata": {},
   "outputs": [],
   "source": []
  },
  {
   "cell_type": "code",
   "execution_count": null,
   "id": "tribal-steam",
   "metadata": {},
   "outputs": [],
   "source": []
  },
  {
   "cell_type": "code",
   "execution_count": 18,
   "id": "brilliant-necklace",
   "metadata": {},
   "outputs": [],
   "source": [
    "# with open(\"experiment_config_results_merge1\",\"rb\") as current_file:\n",
    "#     experiment_config_results1 = dill.load(current_file)\n",
    "# with open(\"experiment_config_results\",\"rb\") as current_file:\n",
    "#     experiment_config_results2 = dill.load(current_file)\n",
    "\n",
    "# experiment_config_results = []\n",
    "# for i in range(len(experiment_config_results1)):\n",
    "#     exp1 = experiment_config_results1[i]\n",
    "#     exp2 = experiment_config_results2[i]\n",
    "#     experiment_config_results.append(exp1+exp2)\n",
    "\n",
    "# display(experiment_config_results)\n",
    "# with open(\"experiment_config_results_merge_final\", \"wb\") as dill_file:\n",
    "#     dill.dump(experiment_config_results, dill_file)"
   ]
  },
  {
   "cell_type": "code",
   "execution_count": 19,
   "id": "electrical-amendment",
   "metadata": {},
   "outputs": [],
   "source": [
    "# with open(\"experiment_config_results_old\", \"wb\") as dill_file:\n",
    "#     dill.dump(experiment_config_results, dill_file)"
   ]
  },
  {
   "cell_type": "code",
   "execution_count": null,
   "metadata": {},
   "outputs": [],
   "source": []
  }
 ],
 "metadata": {
  "kernelspec": {
   "display_name": "Python 3",
   "language": "python",
   "name": "python3"
  },
  "language_info": {
   "codemirror_mode": {
    "name": "ipython",
    "version": 3
   },
   "file_extension": ".py",
   "mimetype": "text/x-python",
   "name": "python",
   "nbconvert_exporter": "python",
   "pygments_lexer": "ipython3",
   "version": "3.8.5-final"
  }
 },
 "nbformat": 4,
 "nbformat_minor": 5
}