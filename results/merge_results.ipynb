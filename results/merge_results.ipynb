{
 "cells": [
  {
   "cell_type": "code",
   "execution_count": null,
   "source": [
    "import dill\r\n",
    "import numpy as np\r\n",
    "from IPython.display import display\r\n",
    "print('done')\r\n",
    "import csv\r\n",
    "import os\r\n",
    "\r\n",
    "with open(\"../output_data/experiments\",\"rb\") as current_file:\r\n",
    "    experiments = dill.load(current_file)"
   ],
   "outputs": [],
   "metadata": {}
  },
  {
   "cell_type": "code",
   "execution_count": null,
   "source": [
    "def load_from_csv(input_string):\r\n",
    "    with open(input_string, 'r') as fp:\r\n",
    "        reader = csv.reader(fp)\r\n",
    "        li = list(reader)\r\n",
    "    newlist = []\r\n",
    "    for row in li:\r\n",
    "        newrow = []\r\n",
    "        for entry in row [1:]:\r\n",
    "            newrow.append(float(entry))\r\n",
    "        newlist.append(newrow)\r\n",
    "    return newlist\r\n",
    "\r\n",
    "\r\n",
    "def mergefiles(filename,suffix1,suffix2,suffix_result):\r\n",
    "    file1 = load_from_csv(\"../results\"+suffix1+\"/\"+filename+\".csv\")\r\n",
    "    file2 = load_from_csv(\"../results\"+suffix2+\"/\"+filename+\".csv\")\r\n",
    "\r\n",
    "    appended_results = []\r\n",
    "    for i in range(len(file1)):\r\n",
    "        results1 = file1[i]\r\n",
    "        results2 = file2[i]\r\n",
    "        appended_results.append(results1+results2)\r\n",
    "\r\n",
    "    display(appended_results)\r\n",
    "\r\n",
    "    experiment_config_strings = []\r\n",
    "    experiment_config_list = []\r\n",
    "    for ex in experiments:\r\n",
    "        if ex['config'] not in experiment_config_list:\r\n",
    "            experiment_config_list.append(ex['config'])\r\n",
    "            experiment_config_strings.append(ex['full_string'])\r\n",
    "\r\n",
    "\r\n",
    "    appended_results_csv = [[experiment_config_strings[i]] + appended_results[i] for i in range(len(appended_results))]\r\n",
    "    \r\n",
    "    with open(\"../results\"+suffix_result+\"/\"+filename+\".csv\"+\".csv\", \"w\", newline=\"\") as f:\r\n",
    "        writer = csv.writer(f)\r\n",
    "        writer.writerows(appended_results_csv)\r\n",
    "\r\n",
    "    if suffix1 != suffix_result:\r\n",
    "        os.remove(\"../results\"+suffix1+\"/\"+filename+\".csv\")\r\n",
    "    if suffix2 != suffix_result:\r\n",
    "        os.remove(\"../results\"+suffix2+\"/\"+filename+\".csv\")\r\n"
   ],
   "outputs": [],
   "metadata": {}
  },
  {
   "cell_type": "code",
   "execution_count": null,
   "source": [
    "mergelist=[\"_desktop\",\"_gpu\",\"_laptop\",\"_online1\",\"_online2\"]\r\n",
    "filenames=[\"experiment_config_JSD_before\", \"experiment_config_JSD_after\", \"experiment_config_flip_TP\", \"experiment_config_flip_TN\", \"experiment_config_flip_FP\", \"experiment_config_flip_FN\", \"experiment_config_entropy_before\", \"experiment_config_entropy_after\"]\r\n",
    "\r\n",
    "for filename in filenames:\r\n",
    "    for i in range(len(mergelist)-1):\r\n",
    "        mergefiles(filename,mergelist[i],mergelist[i+1],mergelist[i+1])"
   ],
   "outputs": [],
   "metadata": {}
  }
 ],
 "metadata": {
  "kernelspec": {
   "display_name": "Python 3",
   "language": "python",
   "name": "python3"
  },
  "language_info": {
   "codemirror_mode": {
    "name": "ipython",
    "version": 3
   },
   "file_extension": ".py",
   "mimetype": "text/x-python",
   "name": "python",
   "nbconvert_exporter": "python",
   "pygments_lexer": "ipython3",
   "version": "3.8.5-final"
  }
 },
 "nbformat": 4,
 "nbformat_minor": 5
}