{
 "cells": [
  {
   "cell_type": "code",
   "execution_count": null,
   "source": [
    "import dill\r\n",
    "import numpy as np\r\n",
    "from IPython.display import display\r\n",
    "print('done')\r\n",
    "import csv\r\n",
    "import os\r\n",
    "import sys\r\n",
    "sys.path.append('..')"
   ],
   "outputs": [],
   "metadata": {}
  },
  {
   "cell_type": "code",
   "execution_count": null,
   "source": [
    "def load_from_csv(experiments,mapping_results,input_string):\r\n",
    "    with open(input_string, 'r') as fp:\r\n",
    "        reader = csv.reader(fp)\r\n",
    "        li = list(reader)\r\n",
    "\r\n",
    "    for row in li:\r\n",
    "        current_string=str(row[0])\r\n",
    "        newrow = []\r\n",
    "        for entry in row [1:]:\r\n",
    "            newrow.append(float(entry))\r\n",
    "        \r\n",
    "        matching_experiments = list(filter(lambda ex: ex['full_string'] == current_string,experiments))\r\n",
    "\r\n",
    "        # TODO find all matching experiments by full_string, call them matching_experiments\r\n",
    "        if len(matching_experiments) > 0:\r\n",
    "            current_ex = matching_experiments[0]\r\n",
    "            mapping_results[  current_ex['mapping'] ] = mapping_results[  current_ex['mapping'] ] +  newrow # using += here leads to unexpected behaviour, so we cant use that\r\n",
    "\r\n",
    "    return mapping_results\r\n",
    "\r\n",
    "\r\n",
    "\r\n",
    "\r\n",
    "def mergefiles(filename,suffix1,suffix2,suffix_result):\r\n",
    "\r\n",
    "\r\n",
    "    with open(\"../results/experiments\",\"rb\") as current_file:\r\n",
    "        experiments = dill.load(current_file)\r\n",
    "\r\n",
    "\r\n",
    "    mapping_results = [[]] * len(experiments)\r\n",
    "\r\n",
    "    mapping_results = load_from_csv(experiments,mapping_results,\"../results\"+suffix1+\"/\"+filename+\".csv\")\r\n",
    "    mapping_results = load_from_csv(experiments,mapping_results,\"../results\"+suffix2+\"/\"+filename+\".csv\")\r\n",
    "\r\n",
    "\r\n",
    "    # TODO write for every mapping\r\n",
    "\r\n",
    "    # for ex in experiments:\r\n",
    "\r\n",
    "\r\n",
    "    # for i in range(len(file1)):\r\n",
    "    #     results1 = file1[i]\r\n",
    "    #     results2 = file2[i]\r\n",
    "    #     appended_results.append(results1+results2)\r\n",
    "\r\n",
    "    appended_results = []\r\n",
    "\r\n",
    "\r\n",
    "    experiment_config_strings = []\r\n",
    "    experiment_config_list = []\r\n",
    "    for ex in experiments:\r\n",
    "        if ex['config'] not in experiment_config_list:\r\n",
    "            experiment_config_list.append(ex['config'])\r\n",
    "            experiment_config_strings.append(ex['full_string'])\r\n",
    "            appended_results.append(mapping_results[ex['mapping']])\r\n",
    "\r\n",
    "    display(appended_results)\r\n",
    "\r\n",
    "    appended_results_csv = [[experiment_config_strings[i]] + appended_results[i] for i in range(len(experiment_config_list))]\r\n",
    "    \r\n",
    "    with open(\"../results\"+suffix_result+\"/\"+filename+\".csv\", \"w\", newline=\"\") as f:\r\n",
    "        writer = csv.writer(f)\r\n",
    "        writer.writerows(appended_results_csv)\r\n",
    "\r\n",
    "    if suffix1 != suffix_result:\r\n",
    "        os.remove(\"../results\"+suffix1+\"/\"+filename+\".csv\")\r\n",
    "    if suffix2 != suffix_result:\r\n",
    "        os.remove(\"../results\"+suffix2+\"/\"+filename+\".csv\")\r\n"
   ],
   "outputs": [],
   "metadata": {}
  },
  {
   "cell_type": "code",
   "execution_count": 1,
   "source": [
    "mergelist=[\"_online1\",\"_online2\",\"_laptop\",\"_desktop\"]\r\n",
    "filenames=[\"experiment_config_JSD_before\", \"experiment_config_JSD_after\", \"experiment_config_flip_TP\", \"experiment_config_flip_TN\", \"experiment_config_flip_FP\", \"experiment_config_flip_FN\", \"experiment_config_entropy_before\", \"experiment_config_entropy_after\",\"experiment_config_wasserstein_JSD_before\",\"experiment_config_wasserstein_JSD_after\",\"experiment_config_continuous_MSE_before\",\"experiment_config_continuous_MSE_after\"]\r\n",
    "\r\n",
    "for filename in filenames:\r\n",
    "    for i in range(len(mergelist)-1):\r\n",
    "        mergefiles(filename,mergelist[i],mergelist[i+1],mergelist[i+1])"
   ],
   "outputs": [
    {
     "output_type": "error",
     "ename": "NameError",
     "evalue": "name 'mergefiles' is not defined",
     "traceback": [
      "\u001b[1;31m---------------------------------------------------------------------------\u001b[0m",
      "\u001b[1;31mNameError\u001b[0m                                 Traceback (most recent call last)",
      "\u001b[1;32m<ipython-input-1-86b1a2168ecd>\u001b[0m in \u001b[0;36m<module>\u001b[1;34m\u001b[0m\n\u001b[0;32m      4\u001b[0m \u001b[1;32mfor\u001b[0m \u001b[0mfilename\u001b[0m \u001b[1;32min\u001b[0m \u001b[0mfilenames\u001b[0m\u001b[1;33m:\u001b[0m\u001b[1;33m\u001b[0m\u001b[1;33m\u001b[0m\u001b[0m\n\u001b[0;32m      5\u001b[0m     \u001b[1;32mfor\u001b[0m \u001b[0mi\u001b[0m \u001b[1;32min\u001b[0m \u001b[0mrange\u001b[0m\u001b[1;33m(\u001b[0m\u001b[0mlen\u001b[0m\u001b[1;33m(\u001b[0m\u001b[0mmergelist\u001b[0m\u001b[1;33m)\u001b[0m\u001b[1;33m-\u001b[0m\u001b[1;36m1\u001b[0m\u001b[1;33m)\u001b[0m\u001b[1;33m:\u001b[0m\u001b[1;33m\u001b[0m\u001b[1;33m\u001b[0m\u001b[0m\n\u001b[1;32m----> 6\u001b[1;33m         \u001b[0mmergefiles\u001b[0m\u001b[1;33m(\u001b[0m\u001b[0mfilename\u001b[0m\u001b[1;33m,\u001b[0m\u001b[0mmergelist\u001b[0m\u001b[1;33m[\u001b[0m\u001b[0mi\u001b[0m\u001b[1;33m]\u001b[0m\u001b[1;33m,\u001b[0m\u001b[0mmergelist\u001b[0m\u001b[1;33m[\u001b[0m\u001b[0mi\u001b[0m\u001b[1;33m+\u001b[0m\u001b[1;36m1\u001b[0m\u001b[1;33m]\u001b[0m\u001b[1;33m,\u001b[0m\u001b[0mmergelist\u001b[0m\u001b[1;33m[\u001b[0m\u001b[0mi\u001b[0m\u001b[1;33m+\u001b[0m\u001b[1;36m1\u001b[0m\u001b[1;33m]\u001b[0m\u001b[1;33m)\u001b[0m\u001b[1;33m\u001b[0m\u001b[1;33m\u001b[0m\u001b[0m\n\u001b[0m",
      "\u001b[1;31mNameError\u001b[0m: name 'mergefiles' is not defined"
     ]
    }
   ],
   "metadata": {}
  },
  {
   "cell_type": "code",
   "execution_count": null,
   "source": [
    "\"\""
   ],
   "outputs": [],
   "metadata": {}
  }
 ],
 "metadata": {
  "kernelspec": {
   "display_name": "Python 3",
   "language": "python",
   "name": "python3"
  },
  "language_info": {
   "codemirror_mode": {
    "name": "ipython",
    "version": 3
   },
   "file_extension": ".py",
   "mimetype": "text/x-python",
   "name": "python",
   "nbconvert_exporter": "python",
   "pygments_lexer": "ipython3",
   "version": "3.8.5-final"
  }
 },
 "nbformat": 4,
 "nbformat_minor": 5
}