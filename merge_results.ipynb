{
 "cells": [
  {
   "cell_type": "code",
   "execution_count": null,
   "id": "partial-rebate",
   "metadata": {},
   "outputs": [],
   "source": [
    "import dill\n",
    "import numpy as np\n",
    "from IPython.display import display\n",
    "print('done')\n",
    "import csv\n",
    "import os\n",
    "\n",
    "with open(\"experiments\",\"rb\") as current_file:\n",
    "    experiments = dill.load(current_file)"
   ]
  },
  {
   "cell_type": "code",
   "execution_count": null,
   "id": "present-white",
   "metadata": {},
   "outputs": [],
   "source": [
    "def load_from_csv(input_string):\n",
    "    with open(input_string, 'r') as fp:\n",
    "        reader = csv.reader(fp)\n",
    "        li = list(reader)\n",
    "    newlist = []\n",
    "    for row in li:\n",
    "        newrow = []\n",
    "        for entry in row [1:]:\n",
    "            newrow.append(float(entry))\n",
    "        newlist.append(newrow)\n",
    "    return newlist\n",
    "\n",
    "\n",
    "def mergefiles(suffix1,suffix2,suffix_result):\n",
    "    experiment_config_results1 = load_from_csv(\"experiment_config_results\"+suffix1+\".csv\")\n",
    "    experiment_config_results2 = load_from_csv(\"experiment_config_results\"+suffix2+\".csv\")\n",
    "\n",
    "    experiment_config_results = []\n",
    "    for i in range(len(experiment_config_results1)):\n",
    "        exp1 = experiment_config_results1[i]\n",
    "        exp2 = experiment_config_results2[i]\n",
    "        experiment_config_results.append(exp1+exp2)\n",
    "\n",
    "    display(experiment_config_results)\n",
    "\n",
    "    experiment_config_strings = []\n",
    "    experiment_config_list = []\n",
    "    for ex in experiments:\n",
    "        if ex['config'] not in experiment_config_list:\n",
    "            experiment_config_list.append(ex['config'])\n",
    "            experiment_config_strings.append(ex['full_string'])\n",
    "\n",
    "\n",
    "    experiment_configs_csv = [[experiment_config_strings[i]] + experiment_config_results[i] for i in range(len(experiment_config_results))]\n",
    "\n",
    "    with open(\"experiment_config_results\"+suffix_result+\".csv\", \"w\", newline=\"\") as f:\n",
    "        writer = csv.writer(f)\n",
    "        writer.writerows(experiment_configs_csv)\n",
    "\n",
    "    os.remove(\"experiment_config_results\"+suffix1+\".csv\")\n",
    "    os.remove(\"experiment_config_results\"+suffix2+\".csv\")\n",
    "\n",
    "\n",
    "def merge_all_files(suffix1,suffix2,result1):\n",
    "    mergefiles(suffix1,suffix2,result1)\n",
    "    mergefiles(\"2\"+suffix1,\"2\"+suffix2,\"2\"+result1)"
   ]
  },
  {
   "cell_type": "code",
   "execution_count": null,
   "id": "tribal-steam",
   "metadata": {},
   "outputs": [],
   "source": [
    "suffix1 = \"\"\n",
    "suffix2 = \"_gpu\"\n",
    "suffix3 = \"_laptop\"\n",
    "result1 = \"_merge1\"\n",
    "result2 = \"_mergefinal\"\n",
    "\n",
    "merge_all_files(suffix1,suffix2,result1)\n",
    "merge_all_files(result1,suffix3,result2)\n"
   ]
  }
 ],
 "metadata": {
  "kernelspec": {
   "display_name": "Python 3",
   "language": "python",
   "name": "python3"
  },
  "language_info": {
   "codemirror_mode": {
    "name": "ipython",
    "version": 3
   },
   "file_extension": ".py",
   "mimetype": "text/x-python",
   "name": "python",
   "nbconvert_exporter": "python",
   "pygments_lexer": "ipython3",
   "version": "3.8.5-final"
  }
 },
 "nbformat": 4,
 "nbformat_minor": 5
}